{
  "nbformat": 4,
  "nbformat_minor": 0,
  "metadata": {
    "colab": {
      "provenance": [],
      "toc_visible": true,
      "mount_file_id": "1EIhqwR-FzUQX37umWHF8ep8SnQk04V-z",
      "authorship_tag": "ABX9TyPCTFJIM+5qGUQCVIUZSQYb",
      "include_colab_link": true
    },
    "kernelspec": {
      "name": "python3",
      "display_name": "Python 3"
    },
    "language_info": {
      "name": "python"
    }
  },
  "cells": [
    {
      "cell_type": "markdown",
      "metadata": {
        "id": "view-in-github",
        "colab_type": "text"
      },
      "source": [
        "<a href=\"https://colab.research.google.com/github/chi-hun/dacon/blob/main/%EC%A0%9C%EC%A3%BC%EB%8F%84_%EB%8F%84%EB%A1%9C_%EA%B5%90%ED%86%B5%EB%9F%89_%EC%98%88%EC%B8%A1_AI_%EA%B2%BD%EC%A7%84%EB%8C%80%ED%9A%8C.ipynb\" target=\"_parent\"><img src=\"https://colab.research.google.com/assets/colab-badge.svg\" alt=\"Open In Colab\"/></a>"
      ]
    },
    {
      "cell_type": "markdown",
      "source": [
        "제주도 도로 교통량 예측 AI 경진대회 https://dacon.io/competitions/official/235985/overview/description"
      ],
      "metadata": {
        "id": "MCQinPNYczwB"
      }
    },
    {
      "cell_type": "markdown",
      "source": [
        "#module"
      ],
      "metadata": {
        "id": "t_-3hI4uc7lO"
      }
    },
    {
      "cell_type": "code",
      "source": [
        "!pip install catboost"
      ],
      "metadata": {
        "colab": {
          "base_uri": "https://localhost:8080/"
        },
        "id": "6TorSzHazOj2",
        "outputId": "86f54af4-baea-434a-df81-785821c0d74f"
      },
      "execution_count": 1,
      "outputs": [
        {
          "output_type": "stream",
          "name": "stdout",
          "text": [
            "Looking in indexes: https://pypi.org/simple, https://us-python.pkg.dev/colab-wheels/public/simple/\n",
            "Requirement already satisfied: catboost in /usr/local/lib/python3.7/dist-packages (1.1)\n",
            "Requirement already satisfied: matplotlib in /usr/local/lib/python3.7/dist-packages (from catboost) (3.2.2)\n",
            "Requirement already satisfied: numpy>=1.16.0 in /usr/local/lib/python3.7/dist-packages (from catboost) (1.21.6)\n",
            "Requirement already satisfied: graphviz in /usr/local/lib/python3.7/dist-packages (from catboost) (0.10.1)\n",
            "Requirement already satisfied: pandas>=0.24.0 in /usr/local/lib/python3.7/dist-packages (from catboost) (1.3.5)\n",
            "Requirement already satisfied: scipy in /usr/local/lib/python3.7/dist-packages (from catboost) (1.7.3)\n",
            "Requirement already satisfied: plotly in /usr/local/lib/python3.7/dist-packages (from catboost) (5.5.0)\n",
            "Requirement already satisfied: six in /usr/local/lib/python3.7/dist-packages (from catboost) (1.15.0)\n",
            "Requirement already satisfied: python-dateutil>=2.7.3 in /usr/local/lib/python3.7/dist-packages (from pandas>=0.24.0->catboost) (2.8.2)\n",
            "Requirement already satisfied: pytz>=2017.3 in /usr/local/lib/python3.7/dist-packages (from pandas>=0.24.0->catboost) (2022.2.1)\n",
            "Requirement already satisfied: cycler>=0.10 in /usr/local/lib/python3.7/dist-packages (from matplotlib->catboost) (0.11.0)\n",
            "Requirement already satisfied: kiwisolver>=1.0.1 in /usr/local/lib/python3.7/dist-packages (from matplotlib->catboost) (1.4.4)\n",
            "Requirement already satisfied: pyparsing!=2.0.4,!=2.1.2,!=2.1.6,>=2.0.1 in /usr/local/lib/python3.7/dist-packages (from matplotlib->catboost) (3.0.9)\n",
            "Requirement already satisfied: typing-extensions in /usr/local/lib/python3.7/dist-packages (from kiwisolver>=1.0.1->matplotlib->catboost) (4.1.1)\n",
            "Requirement already satisfied: tenacity>=6.2.0 in /usr/local/lib/python3.7/dist-packages (from plotly->catboost) (8.0.1)\n"
          ]
        }
      ]
    },
    {
      "cell_type": "code",
      "execution_count": 2,
      "metadata": {
        "id": "DyHHpYKYcg-i"
      },
      "outputs": [],
      "source": [
        "import pandas as pd\n",
        "import numpy as np\n",
        "import matplotlib.pyplot as plt\n",
        "import seaborn as sns\n",
        "from sklearn.preprocessing import LabelEncoder, MinMaxScaler\n",
        "from sklearn.model_selection import train_test_split\n",
        "from sklearn.metrics import mean_absolute_error\n",
        "from sklearn.linear_model import LinearRegression\n",
        "from sklearn.svm import SVR\n",
        "from sklearn.neighbors  import KNeighborsRegressor\n",
        "from sklearn.ensemble import RandomForestRegressor\n",
        "from xgboost import XGBRegressor\n",
        "from lightgbm import LGBMRegressor\n",
        "from catboost import CatBoostRegressor"
      ]
    },
    {
      "cell_type": "code",
      "source": [
        "pd.set_option('display.max_columns', 500)"
      ],
      "metadata": {
        "id": "aKibBVwIpFrX"
      },
      "execution_count": null,
      "outputs": []
    },
    {
      "cell_type": "markdown",
      "source": [
        "#data load"
      ],
      "metadata": {
        "id": "pEbzHNn9d39x"
      }
    },
    {
      "cell_type": "code",
      "source": [
        "train = pd.read_csv('/content/drive/MyDrive/Colab Notebooks/데이콘/제주도 도로 교통량 예측/train.csv')\n",
        "test = pd.read_csv('/content/drive/MyDrive/Colab Notebooks/데이콘/제주도 도로 교통량 예측/test.csv')\n",
        "data_info = pd.read_csv('/content/drive/MyDrive/Colab Notebooks/데이콘/제주도 도로 교통량 예측/data_info.csv')\n",
        "submission = pd.read_csv('/content/drive/MyDrive/Colab Notebooks/데이콘/제주도 도로 교통량 예측/sample_submission.csv')"
      ],
      "metadata": {
        "id": "6UYM7x3Zd64b"
      },
      "execution_count": 9,
      "outputs": []
    },
    {
      "cell_type": "markdown",
      "source": [
        "# EDA"
      ],
      "metadata": {
        "id": "dEQPo8OTjtLo"
      }
    },
    {
      "cell_type": "code",
      "source": [
        "train.info()"
      ],
      "metadata": {
        "colab": {
          "base_uri": "https://localhost:8080/"
        },
        "id": "1SUDDFo6jucM",
        "outputId": "83e9e33f-92d4-45e0-e8c3-d43c56a27d2f"
      },
      "execution_count": null,
      "outputs": [
        {
          "output_type": "stream",
          "name": "stdout",
          "text": [
            "<class 'pandas.core.frame.DataFrame'>\n",
            "RangeIndex: 4701217 entries, 0 to 4701216\n",
            "Data columns (total 24 columns):\n",
            " #   Column                 Dtype  \n",
            "---  ------                 -----  \n",
            " 0   id                     object \n",
            " 1   base_date              int64  \n",
            " 2   day_of_week            object \n",
            " 3   base_hour              int64  \n",
            " 4   road_in_use            int64  \n",
            " 5   lane_count             int64  \n",
            " 6   road_rating            int64  \n",
            " 7   road_name              object \n",
            " 8   multi_linked           int64  \n",
            " 9   connect_code           int64  \n",
            " 10  maximum_speed_limit    float64\n",
            " 11  vehicle_restricted     float64\n",
            " 12  weight_restricted      float64\n",
            " 13  height_restricted      float64\n",
            " 14  road_type              int64  \n",
            " 15  start_node_name        object \n",
            " 16  start_latitude         float64\n",
            " 17  start_longitude        float64\n",
            " 18  start_turn_restricted  object \n",
            " 19  end_node_name          object \n",
            " 20  end_latitude           float64\n",
            " 21  end_longitude          float64\n",
            " 22  end_turn_restricted    object \n",
            " 23  target                 float64\n",
            "dtypes: float64(9), int64(8), object(7)\n",
            "memory usage: 860.8+ MB\n"
          ]
        }
      ]
    },
    {
      "cell_type": "code",
      "source": [
        "train.head()"
      ],
      "metadata": {
        "colab": {
          "base_uri": "https://localhost:8080/",
          "height": 315
        },
        "id": "MeqzbLruj6TL",
        "outputId": "9afc9919-69d5-44ba-df43-75b9c6bf12e3"
      },
      "execution_count": null,
      "outputs": [
        {
          "output_type": "execute_result",
          "data": {
            "text/plain": [
              "              id  base_date day_of_week  base_hour  road_in_use  lane_count  \\\n",
              "0  TRAIN_0000000   20220623           목         17            0           1   \n",
              "1  TRAIN_0000001   20220728           목         21            0           2   \n",
              "2  TRAIN_0000002   20211010           일          7            0           2   \n",
              "3  TRAIN_0000003   20220311           금         13            0           2   \n",
              "4  TRAIN_0000004   20211005           화          8            0           2   \n",
              "\n",
              "   road_rating  road_name  multi_linked  connect_code  ...  road_type  \\\n",
              "0          106  지방도1112호선             0             0  ...          3   \n",
              "1          103   일반국도11호선             0             0  ...          0   \n",
              "2          103   일반국도16호선             0             0  ...          0   \n",
              "3          107        태평로             0             0  ...          0   \n",
              "4          103   일반국도12호선             0             0  ...          0   \n",
              "\n",
              "   start_node_name  start_latitude  start_longitude  start_turn_restricted  \\\n",
              "0            제3교래교       33.427747       126.662612                     없음   \n",
              "1            광양사거리       33.500730       126.529107                     있음   \n",
              "2             창고천교       33.279145       126.368598                     없음   \n",
              "3            남양리조트       33.246081       126.567204                     없음   \n",
              "4             애월샷시       33.462214       126.326551                     없음   \n",
              "\n",
              "  end_node_name  end_latitude  end_longitude end_turn_restricted target  \n",
              "0         제3교래교     33.427749     126.662335                  없음   52.0  \n",
              "1        KAL사거리     33.504811     126.526240                  없음   30.0  \n",
              "2          상창육교     33.280072     126.362147                  없음   61.0  \n",
              "3          서현주택     33.245565     126.566228                  없음   20.0  \n",
              "4          애월입구     33.462677     126.330152                  없음   38.0  \n",
              "\n",
              "[5 rows x 24 columns]"
            ],
            "text/html": [
              "\n",
              "  <div id=\"df-3844875e-e9be-4df7-b2e3-84f165c223fa\">\n",
              "    <div class=\"colab-df-container\">\n",
              "      <div>\n",
              "<style scoped>\n",
              "    .dataframe tbody tr th:only-of-type {\n",
              "        vertical-align: middle;\n",
              "    }\n",
              "\n",
              "    .dataframe tbody tr th {\n",
              "        vertical-align: top;\n",
              "    }\n",
              "\n",
              "    .dataframe thead th {\n",
              "        text-align: right;\n",
              "    }\n",
              "</style>\n",
              "<table border=\"1\" class=\"dataframe\">\n",
              "  <thead>\n",
              "    <tr style=\"text-align: right;\">\n",
              "      <th></th>\n",
              "      <th>id</th>\n",
              "      <th>base_date</th>\n",
              "      <th>day_of_week</th>\n",
              "      <th>base_hour</th>\n",
              "      <th>road_in_use</th>\n",
              "      <th>lane_count</th>\n",
              "      <th>road_rating</th>\n",
              "      <th>road_name</th>\n",
              "      <th>multi_linked</th>\n",
              "      <th>connect_code</th>\n",
              "      <th>...</th>\n",
              "      <th>road_type</th>\n",
              "      <th>start_node_name</th>\n",
              "      <th>start_latitude</th>\n",
              "      <th>start_longitude</th>\n",
              "      <th>start_turn_restricted</th>\n",
              "      <th>end_node_name</th>\n",
              "      <th>end_latitude</th>\n",
              "      <th>end_longitude</th>\n",
              "      <th>end_turn_restricted</th>\n",
              "      <th>target</th>\n",
              "    </tr>\n",
              "  </thead>\n",
              "  <tbody>\n",
              "    <tr>\n",
              "      <th>0</th>\n",
              "      <td>TRAIN_0000000</td>\n",
              "      <td>20220623</td>\n",
              "      <td>목</td>\n",
              "      <td>17</td>\n",
              "      <td>0</td>\n",
              "      <td>1</td>\n",
              "      <td>106</td>\n",
              "      <td>지방도1112호선</td>\n",
              "      <td>0</td>\n",
              "      <td>0</td>\n",
              "      <td>...</td>\n",
              "      <td>3</td>\n",
              "      <td>제3교래교</td>\n",
              "      <td>33.427747</td>\n",
              "      <td>126.662612</td>\n",
              "      <td>없음</td>\n",
              "      <td>제3교래교</td>\n",
              "      <td>33.427749</td>\n",
              "      <td>126.662335</td>\n",
              "      <td>없음</td>\n",
              "      <td>52.0</td>\n",
              "    </tr>\n",
              "    <tr>\n",
              "      <th>1</th>\n",
              "      <td>TRAIN_0000001</td>\n",
              "      <td>20220728</td>\n",
              "      <td>목</td>\n",
              "      <td>21</td>\n",
              "      <td>0</td>\n",
              "      <td>2</td>\n",
              "      <td>103</td>\n",
              "      <td>일반국도11호선</td>\n",
              "      <td>0</td>\n",
              "      <td>0</td>\n",
              "      <td>...</td>\n",
              "      <td>0</td>\n",
              "      <td>광양사거리</td>\n",
              "      <td>33.500730</td>\n",
              "      <td>126.529107</td>\n",
              "      <td>있음</td>\n",
              "      <td>KAL사거리</td>\n",
              "      <td>33.504811</td>\n",
              "      <td>126.526240</td>\n",
              "      <td>없음</td>\n",
              "      <td>30.0</td>\n",
              "    </tr>\n",
              "    <tr>\n",
              "      <th>2</th>\n",
              "      <td>TRAIN_0000002</td>\n",
              "      <td>20211010</td>\n",
              "      <td>일</td>\n",
              "      <td>7</td>\n",
              "      <td>0</td>\n",
              "      <td>2</td>\n",
              "      <td>103</td>\n",
              "      <td>일반국도16호선</td>\n",
              "      <td>0</td>\n",
              "      <td>0</td>\n",
              "      <td>...</td>\n",
              "      <td>0</td>\n",
              "      <td>창고천교</td>\n",
              "      <td>33.279145</td>\n",
              "      <td>126.368598</td>\n",
              "      <td>없음</td>\n",
              "      <td>상창육교</td>\n",
              "      <td>33.280072</td>\n",
              "      <td>126.362147</td>\n",
              "      <td>없음</td>\n",
              "      <td>61.0</td>\n",
              "    </tr>\n",
              "    <tr>\n",
              "      <th>3</th>\n",
              "      <td>TRAIN_0000003</td>\n",
              "      <td>20220311</td>\n",
              "      <td>금</td>\n",
              "      <td>13</td>\n",
              "      <td>0</td>\n",
              "      <td>2</td>\n",
              "      <td>107</td>\n",
              "      <td>태평로</td>\n",
              "      <td>0</td>\n",
              "      <td>0</td>\n",
              "      <td>...</td>\n",
              "      <td>0</td>\n",
              "      <td>남양리조트</td>\n",
              "      <td>33.246081</td>\n",
              "      <td>126.567204</td>\n",
              "      <td>없음</td>\n",
              "      <td>서현주택</td>\n",
              "      <td>33.245565</td>\n",
              "      <td>126.566228</td>\n",
              "      <td>없음</td>\n",
              "      <td>20.0</td>\n",
              "    </tr>\n",
              "    <tr>\n",
              "      <th>4</th>\n",
              "      <td>TRAIN_0000004</td>\n",
              "      <td>20211005</td>\n",
              "      <td>화</td>\n",
              "      <td>8</td>\n",
              "      <td>0</td>\n",
              "      <td>2</td>\n",
              "      <td>103</td>\n",
              "      <td>일반국도12호선</td>\n",
              "      <td>0</td>\n",
              "      <td>0</td>\n",
              "      <td>...</td>\n",
              "      <td>0</td>\n",
              "      <td>애월샷시</td>\n",
              "      <td>33.462214</td>\n",
              "      <td>126.326551</td>\n",
              "      <td>없음</td>\n",
              "      <td>애월입구</td>\n",
              "      <td>33.462677</td>\n",
              "      <td>126.330152</td>\n",
              "      <td>없음</td>\n",
              "      <td>38.0</td>\n",
              "    </tr>\n",
              "  </tbody>\n",
              "</table>\n",
              "<p>5 rows × 24 columns</p>\n",
              "</div>\n",
              "      <button class=\"colab-df-convert\" onclick=\"convertToInteractive('df-3844875e-e9be-4df7-b2e3-84f165c223fa')\"\n",
              "              title=\"Convert this dataframe to an interactive table.\"\n",
              "              style=\"display:none;\">\n",
              "        \n",
              "  <svg xmlns=\"http://www.w3.org/2000/svg\" height=\"24px\"viewBox=\"0 0 24 24\"\n",
              "       width=\"24px\">\n",
              "    <path d=\"M0 0h24v24H0V0z\" fill=\"none\"/>\n",
              "    <path d=\"M18.56 5.44l.94 2.06.94-2.06 2.06-.94-2.06-.94-.94-2.06-.94 2.06-2.06.94zm-11 1L8.5 8.5l.94-2.06 2.06-.94-2.06-.94L8.5 2.5l-.94 2.06-2.06.94zm10 10l.94 2.06.94-2.06 2.06-.94-2.06-.94-.94-2.06-.94 2.06-2.06.94z\"/><path d=\"M17.41 7.96l-1.37-1.37c-.4-.4-.92-.59-1.43-.59-.52 0-1.04.2-1.43.59L10.3 9.45l-7.72 7.72c-.78.78-.78 2.05 0 2.83L4 21.41c.39.39.9.59 1.41.59.51 0 1.02-.2 1.41-.59l7.78-7.78 2.81-2.81c.8-.78.8-2.07 0-2.86zM5.41 20L4 18.59l7.72-7.72 1.47 1.35L5.41 20z\"/>\n",
              "  </svg>\n",
              "      </button>\n",
              "      \n",
              "  <style>\n",
              "    .colab-df-container {\n",
              "      display:flex;\n",
              "      flex-wrap:wrap;\n",
              "      gap: 12px;\n",
              "    }\n",
              "\n",
              "    .colab-df-convert {\n",
              "      background-color: #E8F0FE;\n",
              "      border: none;\n",
              "      border-radius: 50%;\n",
              "      cursor: pointer;\n",
              "      display: none;\n",
              "      fill: #1967D2;\n",
              "      height: 32px;\n",
              "      padding: 0 0 0 0;\n",
              "      width: 32px;\n",
              "    }\n",
              "\n",
              "    .colab-df-convert:hover {\n",
              "      background-color: #E2EBFA;\n",
              "      box-shadow: 0px 1px 2px rgba(60, 64, 67, 0.3), 0px 1px 3px 1px rgba(60, 64, 67, 0.15);\n",
              "      fill: #174EA6;\n",
              "    }\n",
              "\n",
              "    [theme=dark] .colab-df-convert {\n",
              "      background-color: #3B4455;\n",
              "      fill: #D2E3FC;\n",
              "    }\n",
              "\n",
              "    [theme=dark] .colab-df-convert:hover {\n",
              "      background-color: #434B5C;\n",
              "      box-shadow: 0px 1px 3px 1px rgba(0, 0, 0, 0.15);\n",
              "      filter: drop-shadow(0px 1px 2px rgba(0, 0, 0, 0.3));\n",
              "      fill: #FFFFFF;\n",
              "    }\n",
              "  </style>\n",
              "\n",
              "      <script>\n",
              "        const buttonEl =\n",
              "          document.querySelector('#df-3844875e-e9be-4df7-b2e3-84f165c223fa button.colab-df-convert');\n",
              "        buttonEl.style.display =\n",
              "          google.colab.kernel.accessAllowed ? 'block' : 'none';\n",
              "\n",
              "        async function convertToInteractive(key) {\n",
              "          const element = document.querySelector('#df-3844875e-e9be-4df7-b2e3-84f165c223fa');\n",
              "          const dataTable =\n",
              "            await google.colab.kernel.invokeFunction('convertToInteractive',\n",
              "                                                     [key], {});\n",
              "          if (!dataTable) return;\n",
              "\n",
              "          const docLinkHtml = 'Like what you see? Visit the ' +\n",
              "            '<a target=\"_blank\" href=https://colab.research.google.com/notebooks/data_table.ipynb>data table notebook</a>'\n",
              "            + ' to learn more about interactive tables.';\n",
              "          element.innerHTML = '';\n",
              "          dataTable['output_type'] = 'display_data';\n",
              "          await google.colab.output.renderOutput(dataTable, element);\n",
              "          const docLink = document.createElement('div');\n",
              "          docLink.innerHTML = docLinkHtml;\n",
              "          element.appendChild(docLink);\n",
              "        }\n",
              "      </script>\n",
              "    </div>\n",
              "  </div>\n",
              "  "
            ]
          },
          "metadata": {},
          "execution_count": 6
        },
        {
          "output_type": "stream",
          "name": "stdout",
          "text": [
            "Warning: Total number of columns (24) exceeds max_columns (20) limiting to first (20) columns.\n"
          ]
        }
      ]
    },
    {
      "cell_type": "code",
      "source": [
        "train.isna().sum()"
      ],
      "metadata": {
        "colab": {
          "base_uri": "https://localhost:8080/"
        },
        "id": "DFSI4JgGoIvM",
        "outputId": "f81bcdb1-6fd6-415d-b691-073c0f06ec1b"
      },
      "execution_count": null,
      "outputs": [
        {
          "output_type": "execute_result",
          "data": {
            "text/plain": [
              "id                       0\n",
              "base_date                0\n",
              "day_of_week              0\n",
              "base_hour                0\n",
              "road_in_use              0\n",
              "lane_count               0\n",
              "road_rating              0\n",
              "road_name                0\n",
              "multi_linked             0\n",
              "connect_code             0\n",
              "maximum_speed_limit      0\n",
              "vehicle_restricted       0\n",
              "weight_restricted        0\n",
              "height_restricted        0\n",
              "road_type                0\n",
              "start_node_name          0\n",
              "start_latitude           0\n",
              "start_longitude          0\n",
              "start_turn_restricted    0\n",
              "end_node_name            0\n",
              "end_latitude             0\n",
              "end_longitude            0\n",
              "end_turn_restricted      0\n",
              "target                   0\n",
              "dtype: int64"
            ]
          },
          "metadata": {},
          "execution_count": 15
        }
      ]
    },
    {
      "cell_type": "code",
      "source": [
        "data_info"
      ],
      "metadata": {
        "colab": {
          "base_uri": "https://localhost:8080/",
          "height": 802
        },
        "id": "7wl-WNdXkTtv",
        "outputId": "393d7b22-f7e5-4c72-f0f5-1e77fbde9be5"
      },
      "execution_count": null,
      "outputs": [
        {
          "output_type": "execute_result",
          "data": {
            "text/plain": [
              "                      변수명           변수 설명\n",
              "0                      id             아이디\n",
              "1               base_date              날짜\n",
              "2             day_of_week              요일\n",
              "3               base_hour             시간대\n",
              "4             road_in_use          도로사용여부\n",
              "5              lane_count             차로수\n",
              "6             road_rating            도로등급\n",
              "7            multi_linked         중용구간 여부\n",
              "8            connect_code          연결로 코드\n",
              "9     maximum_speed_limit          최고속도제한\n",
              "10      weight_restricted          통과제한하중\n",
              "11       hight_restricted          통과제한높이\n",
              "12              road_type            도로유형\n",
              "13         start_latitude        시작지점의 위도\n",
              "14        start_longitude        시작지점의 경도\n",
              "15  start_turn_restricted  시작 지점의 회전제한 유무\n",
              "16           end_latitude        도착지점의 위도\n",
              "17          end_longitude        도착지점의 경도\n",
              "18    end_turn_restricted   도작지점의 회전제한 유무\n",
              "19              road_name             도로명\n",
              "20        start_node_name           시작지점명\n",
              "21          end_node_name           도착지점명\n",
              "22     vehicle_restricted          통과제한차량\n",
              "23                 target        평균속도(km)"
            ],
            "text/html": [
              "\n",
              "  <div id=\"df-343d3370-e5cf-4b7b-a0b3-c19b4ba99ad9\">\n",
              "    <div class=\"colab-df-container\">\n",
              "      <div>\n",
              "<style scoped>\n",
              "    .dataframe tbody tr th:only-of-type {\n",
              "        vertical-align: middle;\n",
              "    }\n",
              "\n",
              "    .dataframe tbody tr th {\n",
              "        vertical-align: top;\n",
              "    }\n",
              "\n",
              "    .dataframe thead th {\n",
              "        text-align: right;\n",
              "    }\n",
              "</style>\n",
              "<table border=\"1\" class=\"dataframe\">\n",
              "  <thead>\n",
              "    <tr style=\"text-align: right;\">\n",
              "      <th></th>\n",
              "      <th>변수명</th>\n",
              "      <th>변수 설명</th>\n",
              "    </tr>\n",
              "  </thead>\n",
              "  <tbody>\n",
              "    <tr>\n",
              "      <th>0</th>\n",
              "      <td>id</td>\n",
              "      <td>아이디</td>\n",
              "    </tr>\n",
              "    <tr>\n",
              "      <th>1</th>\n",
              "      <td>base_date</td>\n",
              "      <td>날짜</td>\n",
              "    </tr>\n",
              "    <tr>\n",
              "      <th>2</th>\n",
              "      <td>day_of_week</td>\n",
              "      <td>요일</td>\n",
              "    </tr>\n",
              "    <tr>\n",
              "      <th>3</th>\n",
              "      <td>base_hour</td>\n",
              "      <td>시간대</td>\n",
              "    </tr>\n",
              "    <tr>\n",
              "      <th>4</th>\n",
              "      <td>road_in_use</td>\n",
              "      <td>도로사용여부</td>\n",
              "    </tr>\n",
              "    <tr>\n",
              "      <th>5</th>\n",
              "      <td>lane_count</td>\n",
              "      <td>차로수</td>\n",
              "    </tr>\n",
              "    <tr>\n",
              "      <th>6</th>\n",
              "      <td>road_rating</td>\n",
              "      <td>도로등급</td>\n",
              "    </tr>\n",
              "    <tr>\n",
              "      <th>7</th>\n",
              "      <td>multi_linked</td>\n",
              "      <td>중용구간 여부</td>\n",
              "    </tr>\n",
              "    <tr>\n",
              "      <th>8</th>\n",
              "      <td>connect_code</td>\n",
              "      <td>연결로 코드</td>\n",
              "    </tr>\n",
              "    <tr>\n",
              "      <th>9</th>\n",
              "      <td>maximum_speed_limit</td>\n",
              "      <td>최고속도제한</td>\n",
              "    </tr>\n",
              "    <tr>\n",
              "      <th>10</th>\n",
              "      <td>weight_restricted</td>\n",
              "      <td>통과제한하중</td>\n",
              "    </tr>\n",
              "    <tr>\n",
              "      <th>11</th>\n",
              "      <td>hight_restricted</td>\n",
              "      <td>통과제한높이</td>\n",
              "    </tr>\n",
              "    <tr>\n",
              "      <th>12</th>\n",
              "      <td>road_type</td>\n",
              "      <td>도로유형</td>\n",
              "    </tr>\n",
              "    <tr>\n",
              "      <th>13</th>\n",
              "      <td>start_latitude</td>\n",
              "      <td>시작지점의 위도</td>\n",
              "    </tr>\n",
              "    <tr>\n",
              "      <th>14</th>\n",
              "      <td>start_longitude</td>\n",
              "      <td>시작지점의 경도</td>\n",
              "    </tr>\n",
              "    <tr>\n",
              "      <th>15</th>\n",
              "      <td>start_turn_restricted</td>\n",
              "      <td>시작 지점의 회전제한 유무</td>\n",
              "    </tr>\n",
              "    <tr>\n",
              "      <th>16</th>\n",
              "      <td>end_latitude</td>\n",
              "      <td>도착지점의 위도</td>\n",
              "    </tr>\n",
              "    <tr>\n",
              "      <th>17</th>\n",
              "      <td>end_longitude</td>\n",
              "      <td>도착지점의 경도</td>\n",
              "    </tr>\n",
              "    <tr>\n",
              "      <th>18</th>\n",
              "      <td>end_turn_restricted</td>\n",
              "      <td>도작지점의 회전제한 유무</td>\n",
              "    </tr>\n",
              "    <tr>\n",
              "      <th>19</th>\n",
              "      <td>road_name</td>\n",
              "      <td>도로명</td>\n",
              "    </tr>\n",
              "    <tr>\n",
              "      <th>20</th>\n",
              "      <td>start_node_name</td>\n",
              "      <td>시작지점명</td>\n",
              "    </tr>\n",
              "    <tr>\n",
              "      <th>21</th>\n",
              "      <td>end_node_name</td>\n",
              "      <td>도착지점명</td>\n",
              "    </tr>\n",
              "    <tr>\n",
              "      <th>22</th>\n",
              "      <td>vehicle_restricted</td>\n",
              "      <td>통과제한차량</td>\n",
              "    </tr>\n",
              "    <tr>\n",
              "      <th>23</th>\n",
              "      <td>target</td>\n",
              "      <td>평균속도(km)</td>\n",
              "    </tr>\n",
              "  </tbody>\n",
              "</table>\n",
              "</div>\n",
              "      <button class=\"colab-df-convert\" onclick=\"convertToInteractive('df-343d3370-e5cf-4b7b-a0b3-c19b4ba99ad9')\"\n",
              "              title=\"Convert this dataframe to an interactive table.\"\n",
              "              style=\"display:none;\">\n",
              "        \n",
              "  <svg xmlns=\"http://www.w3.org/2000/svg\" height=\"24px\"viewBox=\"0 0 24 24\"\n",
              "       width=\"24px\">\n",
              "    <path d=\"M0 0h24v24H0V0z\" fill=\"none\"/>\n",
              "    <path d=\"M18.56 5.44l.94 2.06.94-2.06 2.06-.94-2.06-.94-.94-2.06-.94 2.06-2.06.94zm-11 1L8.5 8.5l.94-2.06 2.06-.94-2.06-.94L8.5 2.5l-.94 2.06-2.06.94zm10 10l.94 2.06.94-2.06 2.06-.94-2.06-.94-.94-2.06-.94 2.06-2.06.94z\"/><path d=\"M17.41 7.96l-1.37-1.37c-.4-.4-.92-.59-1.43-.59-.52 0-1.04.2-1.43.59L10.3 9.45l-7.72 7.72c-.78.78-.78 2.05 0 2.83L4 21.41c.39.39.9.59 1.41.59.51 0 1.02-.2 1.41-.59l7.78-7.78 2.81-2.81c.8-.78.8-2.07 0-2.86zM5.41 20L4 18.59l7.72-7.72 1.47 1.35L5.41 20z\"/>\n",
              "  </svg>\n",
              "      </button>\n",
              "      \n",
              "  <style>\n",
              "    .colab-df-container {\n",
              "      display:flex;\n",
              "      flex-wrap:wrap;\n",
              "      gap: 12px;\n",
              "    }\n",
              "\n",
              "    .colab-df-convert {\n",
              "      background-color: #E8F0FE;\n",
              "      border: none;\n",
              "      border-radius: 50%;\n",
              "      cursor: pointer;\n",
              "      display: none;\n",
              "      fill: #1967D2;\n",
              "      height: 32px;\n",
              "      padding: 0 0 0 0;\n",
              "      width: 32px;\n",
              "    }\n",
              "\n",
              "    .colab-df-convert:hover {\n",
              "      background-color: #E2EBFA;\n",
              "      box-shadow: 0px 1px 2px rgba(60, 64, 67, 0.3), 0px 1px 3px 1px rgba(60, 64, 67, 0.15);\n",
              "      fill: #174EA6;\n",
              "    }\n",
              "\n",
              "    [theme=dark] .colab-df-convert {\n",
              "      background-color: #3B4455;\n",
              "      fill: #D2E3FC;\n",
              "    }\n",
              "\n",
              "    [theme=dark] .colab-df-convert:hover {\n",
              "      background-color: #434B5C;\n",
              "      box-shadow: 0px 1px 3px 1px rgba(0, 0, 0, 0.15);\n",
              "      filter: drop-shadow(0px 1px 2px rgba(0, 0, 0, 0.3));\n",
              "      fill: #FFFFFF;\n",
              "    }\n",
              "  </style>\n",
              "\n",
              "      <script>\n",
              "        const buttonEl =\n",
              "          document.querySelector('#df-343d3370-e5cf-4b7b-a0b3-c19b4ba99ad9 button.colab-df-convert');\n",
              "        buttonEl.style.display =\n",
              "          google.colab.kernel.accessAllowed ? 'block' : 'none';\n",
              "\n",
              "        async function convertToInteractive(key) {\n",
              "          const element = document.querySelector('#df-343d3370-e5cf-4b7b-a0b3-c19b4ba99ad9');\n",
              "          const dataTable =\n",
              "            await google.colab.kernel.invokeFunction('convertToInteractive',\n",
              "                                                     [key], {});\n",
              "          if (!dataTable) return;\n",
              "\n",
              "          const docLinkHtml = 'Like what you see? Visit the ' +\n",
              "            '<a target=\"_blank\" href=https://colab.research.google.com/notebooks/data_table.ipynb>data table notebook</a>'\n",
              "            + ' to learn more about interactive tables.';\n",
              "          element.innerHTML = '';\n",
              "          dataTable['output_type'] = 'display_data';\n",
              "          await google.colab.output.renderOutput(dataTable, element);\n",
              "          const docLink = document.createElement('div');\n",
              "          docLink.innerHTML = docLinkHtml;\n",
              "          element.appendChild(docLink);\n",
              "        }\n",
              "      </script>\n",
              "    </div>\n",
              "  </div>\n",
              "  "
            ]
          },
          "metadata": {},
          "execution_count": 7
        }
      ]
    },
    {
      "cell_type": "code",
      "source": [
        "sns.distplot(train['target'])\n",
        "plt.show()"
      ],
      "metadata": {
        "colab": {
          "base_uri": "https://localhost:8080/",
          "height": 336
        },
        "id": "3mnj0boUllwl",
        "outputId": "8c040e75-b870-4d77-ffe5-71210a0c1b02"
      },
      "execution_count": null,
      "outputs": [
        {
          "output_type": "stream",
          "name": "stderr",
          "text": [
            "/usr/local/lib/python3.7/dist-packages/seaborn/distributions.py:2619: FutureWarning: `distplot` is a deprecated function and will be removed in a future version. Please adapt your code to use either `displot` (a figure-level function with similar flexibility) or `histplot` (an axes-level function for histograms).\n",
            "  warnings.warn(msg, FutureWarning)\n"
          ]
        },
        {
          "output_type": "display_data",
          "data": {
            "text/plain": [
              "<Figure size 432x288 with 1 Axes>"
            ],
            "image/png": "[encoded data removed]"
          },
          "metadata": {
            "needs_background": "light"
          }
        }
      ]
    },
    {
      "cell_type": "markdown",
      "source": [
        "# 날짜 데이터(base_date, day_of_week, base_hour\t)"
      ],
      "metadata": {
        "id": "4HjU0fLUnrh8"
      }
    },
    {
      "cell_type": "code",
      "source": [
        "date_year = pd.to_datetime(train['base_date'], format='%Y%m%d').dt.year\n",
        "date_year"
      ],
      "metadata": {
        "colab": {
          "base_uri": "https://localhost:8080/"
        },
        "id": "XUVVesvwnqMO",
        "outputId": "43be3501-fcfc-4bf7-ff2d-b4e94eb1c83c"
      },
      "execution_count": null,
      "outputs": [
        {
          "output_type": "execute_result",
          "data": {
            "text/plain": [
              "0          2022\n",
              "1          2022\n",
              "2          2021\n",
              "3          2022\n",
              "4          2021\n",
              "           ... \n",
              "4701212    2021\n",
              "4701213    2022\n",
              "4701214    2022\n",
              "4701215    2021\n",
              "4701216    2021\n",
              "Name: base_date, Length: 4701217, dtype: int64"
            ]
          },
          "metadata": {},
          "execution_count": 28
        }
      ]
    },
    {
      "cell_type": "code",
      "source": [
        "sns.countplot(date_year)\n",
        "plt.show()"
      ],
      "metadata": {
        "colab": {
          "base_uri": "https://localhost:8080/",
          "height": 348
        },
        "id": "wkgUJdqhoO38",
        "outputId": "663e1f92-e920-49b1-bd40-83da09a183e8"
      },
      "execution_count": null,
      "outputs": [
        {
          "output_type": "stream",
          "name": "stderr",
          "text": [
            "/usr/local/lib/python3.7/dist-packages/seaborn/_decorators.py:43: FutureWarning: Pass the following variable as a keyword arg: x. From version 0.12, the only valid positional argument will be `data`, and passing other arguments without an explicit keyword will result in an error or misinterpretation.\n",
            "  FutureWarning\n"
          ]
        },
        {
          "output_type": "display_data",
          "data": {
            "text/plain": [
              "<Figure size 432x288 with 1 Axes>"
            ],
            "image/png": "[encoded data removed]"
          },
          "metadata": {
            "needs_background": "light"
          }
        }
      ]
    },
    {
      "cell_type": "code",
      "source": [
        "train['date_year'] = date_year"
      ],
      "metadata": {
        "id": "9fUFqkrwponb"
      },
      "execution_count": null,
      "outputs": []
    },
    {
      "cell_type": "code",
      "source": [
        "sns.barplot(x='date_year', y='target', data=train)\n",
        "plt.show()"
      ],
      "metadata": {
        "colab": {
          "base_uri": "https://localhost:8080/",
          "height": 280
        },
        "id": "iZMGI4l4pgws",
        "outputId": "8cf2fe90-cacb-480b-a101-5a733d021bcf"
      },
      "execution_count": null,
      "outputs": [
        {
          "output_type": "display_data",
          "data": {
            "text/plain": [
              "<Figure size 432x288 with 1 Axes>"
            ],
            "image/png": "[encoded data removed]"
          },
          "metadata": {
            "needs_background": "light"
          }
        }
      ]
    },
    {
      "cell_type": "markdown",
      "source": [
        "연도 불필요"
      ],
      "metadata": {
        "id": "i7QutwobqwEI"
      }
    },
    {
      "cell_type": "code",
      "source": [
        "train['date_month'] = pd.to_datetime(train['base_date'], format='%Y%m%d').dt.month\n",
        "sns.barplot(x='date_month', y='target', data=train)\n",
        "plt.show()"
      ],
      "metadata": {
        "colab": {
          "base_uri": "https://localhost:8080/",
          "height": 280
        },
        "id": "8Tj5mLJ9sT33",
        "outputId": "6693de10-1881-4ac9-9a99-9929168bb705"
      },
      "execution_count": null,
      "outputs": [
        {
          "output_type": "display_data",
          "data": {
            "text/plain": [
              "<Figure size 432x288 with 1 Axes>"
            ],
            "image/png": "[encoded data removed]"
          },
          "metadata": {
            "needs_background": "light"
          }
        }
      ]
    },
    {
      "cell_type": "markdown",
      "source": [
        "7월만 저하 7월을 다른 값으로?"
      ],
      "metadata": {
        "id": "3HfDtSOvt9Qv"
      }
    },
    {
      "cell_type": "code",
      "source": [
        "train['date_day'] = pd.to_datetime(train['base_date'], format='%Y%m%d').dt.day\n",
        "sns.barplot(x='date_day', y='target', data=train)\n",
        "plt.show()"
      ],
      "metadata": {
        "colab": {
          "base_uri": "https://localhost:8080/",
          "height": 280
        },
        "id": "rbapjjT6t8tQ",
        "outputId": "7bae551d-6e2e-4f95-8b66-0dfbbea8ddd0"
      },
      "execution_count": null,
      "outputs": [
        {
          "output_type": "display_data",
          "data": {
            "text/plain": [
              "<Figure size 432x288 with 1 Axes>"
            ],
            "image/png": "[encoded data removed]"
          },
          "metadata": {
            "needs_background": "light"
          }
        }
      ]
    },
    {
      "cell_type": "markdown",
      "source": [
        "날짜별 의미없음 제거"
      ],
      "metadata": {
        "id": "TlsIyCaqu10_"
      }
    },
    {
      "cell_type": "code",
      "source": [
        "sns.barplot(x='day_of_week', y='target', data=train)\n",
        "plt.show()"
      ],
      "metadata": {
        "colab": {
          "base_uri": "https://localhost:8080/",
          "height": 794
        },
        "id": "RcfkMsMayN7W",
        "outputId": "0f2cb61e-b60f-40a1-9a4e-badce57f87ad"
      },
      "execution_count": null,
      "outputs": [
        {
          "output_type": "stream",
          "name": "stderr",
          "text": [
            "/usr/local/lib/python3.7/dist-packages/matplotlib/backends/backend_agg.py:214: RuntimeWarning: Glyph 47785 missing from current font.\n",
            "  font.set_text(s, 0.0, flags=flags)\n",
            "/usr/local/lib/python3.7/dist-packages/matplotlib/backends/backend_agg.py:214: RuntimeWarning: Glyph 51068 missing from current font.\n",
            "  font.set_text(s, 0.0, flags=flags)\n",
            "/usr/local/lib/python3.7/dist-packages/matplotlib/backends/backend_agg.py:214: RuntimeWarning: Glyph 44552 missing from current font.\n",
            "  font.set_text(s, 0.0, flags=flags)\n",
            "/usr/local/lib/python3.7/dist-packages/matplotlib/backends/backend_agg.py:214: RuntimeWarning: Glyph 54868 missing from current font.\n",
            "  font.set_text(s, 0.0, flags=flags)\n",
            "/usr/local/lib/python3.7/dist-packages/matplotlib/backends/backend_agg.py:214: RuntimeWarning: Glyph 50900 missing from current font.\n",
            "  font.set_text(s, 0.0, flags=flags)\n",
            "/usr/local/lib/python3.7/dist-packages/matplotlib/backends/backend_agg.py:214: RuntimeWarning: Glyph 49688 missing from current font.\n",
            "  font.set_text(s, 0.0, flags=flags)\n",
            "/usr/local/lib/python3.7/dist-packages/matplotlib/backends/backend_agg.py:214: RuntimeWarning: Glyph 53664 missing from current font.\n",
            "  font.set_text(s, 0.0, flags=flags)\n",
            "/usr/local/lib/python3.7/dist-packages/matplotlib/backends/backend_agg.py:183: RuntimeWarning: Glyph 47785 missing from current font.\n",
            "  font.set_text(s, 0, flags=flags)\n",
            "/usr/local/lib/python3.7/dist-packages/matplotlib/backends/backend_agg.py:183: RuntimeWarning: Glyph 51068 missing from current font.\n",
            "  font.set_text(s, 0, flags=flags)\n",
            "/usr/local/lib/python3.7/dist-packages/matplotlib/backends/backend_agg.py:183: RuntimeWarning: Glyph 44552 missing from current font.\n",
            "  font.set_text(s, 0, flags=flags)\n",
            "/usr/local/lib/python3.7/dist-packages/matplotlib/backends/backend_agg.py:183: RuntimeWarning: Glyph 54868 missing from current font.\n",
            "  font.set_text(s, 0, flags=flags)\n",
            "/usr/local/lib/python3.7/dist-packages/matplotlib/backends/backend_agg.py:183: RuntimeWarning: Glyph 50900 missing from current font.\n",
            "  font.set_text(s, 0, flags=flags)\n",
            "/usr/local/lib/python3.7/dist-packages/matplotlib/backends/backend_agg.py:183: RuntimeWarning: Glyph 49688 missing from current font.\n",
            "  font.set_text(s, 0, flags=flags)\n",
            "/usr/local/lib/python3.7/dist-packages/matplotlib/backends/backend_agg.py:183: RuntimeWarning: Glyph 53664 missing from current font.\n",
            "  font.set_text(s, 0, flags=flags)\n"
          ]
        },
        {
          "output_type": "display_data",
          "data": {
            "text/plain": [
              "<Figure size 432x288 with 1 Axes>"
            ],
            "image/png": "[encoded data removed]"
          },
          "metadata": {
            "needs_background": "light"
          }
        }
      ]
    },
    {
      "cell_type": "markdown",
      "source": [
        "요일별 차이 없음"
      ],
      "metadata": {
        "id": "PskZFaCZzHbI"
      }
    },
    {
      "cell_type": "code",
      "source": [
        "sns.barplot(x='base_hour', y='target', data=train)\n",
        "plt.show()"
      ],
      "metadata": {
        "colab": {
          "base_uri": "https://localhost:8080/",
          "height": 280
        },
        "id": "Ro-w7LatzOWw",
        "outputId": "39af398e-88a6-45d6-843b-19897ce86cde"
      },
      "execution_count": null,
      "outputs": [
        {
          "output_type": "display_data",
          "data": {
            "text/plain": [
              "<Figure size 432x288 with 1 Axes>"
            ],
            "image/png": "[encoded data removed]"
          },
          "metadata": {
            "needs_background": "light"
          }
        }
      ]
    },
    {
      "cell_type": "markdown",
      "source": [
        "시간대별 분류 4등분?"
      ],
      "metadata": {
        "id": "X_z9raEB1Avi"
      }
    },
    {
      "cell_type": "code",
      "source": [
        "sns.barplot(x='road_in_use', y='target', data=train)\n",
        "plt.show()"
      ],
      "metadata": {
        "colab": {
          "base_uri": "https://localhost:8080/",
          "height": 280
        },
        "id": "p5yqONP52oKU",
        "outputId": "78bb0fba-367f-48d8-bff6-1bafb60fda0c"
      },
      "execution_count": null,
      "outputs": [
        {
          "output_type": "display_data",
          "data": {
            "text/plain": [
              "<Figure size 432x288 with 1 Axes>"
            ],
            "image/png": "[encoded data removed]"
          },
          "metadata": {
            "needs_background": "light"
          }
        }
      ]
    },
    {
      "cell_type": "markdown",
      "source": [
        "road_in_use 사용"
      ],
      "metadata": {
        "id": "0EeIjc1d-yXu"
      }
    },
    {
      "cell_type": "code",
      "source": [
        "train['lane_count'].value_counts()"
      ],
      "metadata": {
        "colab": {
          "base_uri": "https://localhost:8080/"
        },
        "id": "W6wZPda3-zlv",
        "outputId": "cf778f6e-b088-428e-9d6c-d02943d145e0"
      },
      "execution_count": null,
      "outputs": [
        {
          "output_type": "execute_result",
          "data": {
            "text/plain": [
              "2    2352092\n",
              "1    1558531\n",
              "3     790594\n",
              "Name: lane_count, dtype: int64"
            ]
          },
          "metadata": {},
          "execution_count": 39
        }
      ]
    },
    {
      "cell_type": "code",
      "source": [
        "sns.barplot(x='lane_count', y='target', data=train)\n",
        "plt.show()"
      ],
      "metadata": {
        "colab": {
          "base_uri": "https://localhost:8080/",
          "height": 280
        },
        "id": "dbUDdmzK_Rz-",
        "outputId": "49cc50a3-9c28-467e-a398-71e5b684c46a"
      },
      "execution_count": null,
      "outputs": [
        {
          "output_type": "display_data",
          "data": {
            "text/plain": [
              "<Figure size 432x288 with 1 Axes>"
            ],
            "image/png": "[encoded data removed]"
          },
          "metadata": {
            "needs_background": "light"
          }
        }
      ]
    },
    {
      "cell_type": "markdown",
      "source": [
        "유의미함 순서변경? 아니면 원핫인코딩"
      ],
      "metadata": {
        "id": "XHYstEpKDaLa"
      }
    },
    {
      "cell_type": "code",
      "source": [
        "train['road_rating'].value_counts()"
      ],
      "metadata": {
        "colab": {
          "base_uri": "https://localhost:8080/"
        },
        "id": "unV4v5KKDlpo",
        "outputId": "ad52da75-8d31-4b8f-dcf7-3cfc5a21daaf"
      },
      "execution_count": null,
      "outputs": [
        {
          "output_type": "execute_result",
          "data": {
            "text/plain": [
              "103    2159511\n",
              "107    1582214\n",
              "106     959492\n",
              "Name: road_rating, dtype: int64"
            ]
          },
          "metadata": {},
          "execution_count": 41
        }
      ]
    },
    {
      "cell_type": "code",
      "source": [
        "sns.barplot(x='road_rating', y='target', data=train)\n",
        "plt.show()"
      ],
      "metadata": {
        "colab": {
          "base_uri": "https://localhost:8080/",
          "height": 282
        },
        "id": "XNdqL2H1DqYx",
        "outputId": "6da05e3a-8528-40d7-9bba-d1ff216cdebc"
      },
      "execution_count": null,
      "outputs": [
        {
          "output_type": "display_data",
          "data": {
            "text/plain": [
              "<Figure size 432x288 with 1 Axes>"
            ],
            "image/png": "[encoded data removed]"
          },
          "metadata": {
            "needs_background": "light"
          }
        }
      ]
    },
    {
      "cell_type": "markdown",
      "source": [
        "유의미함 순서변경? 아니면 원핫인코딩"
      ],
      "metadata": {
        "id": "4v3zPUDEEt8a"
      }
    },
    {
      "cell_type": "code",
      "source": [
        "train['multi_linked'].value_counts()"
      ],
      "metadata": {
        "colab": {
          "base_uri": "https://localhost:8080/"
        },
        "id": "xU1SgeW1E6GC",
        "outputId": "6a49524b-5fc0-4d88-f4f2-93d93da9e8c9"
      },
      "execution_count": null,
      "outputs": [
        {
          "output_type": "execute_result",
          "data": {
            "text/plain": [
              "0    4698978\n",
              "1       2239\n",
              "Name: multi_linked, dtype: int64"
            ]
          },
          "metadata": {},
          "execution_count": 44
        }
      ]
    },
    {
      "cell_type": "code",
      "source": [
        "sns.barplot(x='multi_linked', y='target', data=train)\n",
        "plt.show()"
      ],
      "metadata": {
        "colab": {
          "base_uri": "https://localhost:8080/",
          "height": 280
        },
        "id": "u1XqarL-E5Mi",
        "outputId": "9d8d5306-45e3-4f94-f211-1f5563581f80"
      },
      "execution_count": null,
      "outputs": [
        {
          "output_type": "display_data",
          "data": {
            "text/plain": [
              "<Figure size 432x288 with 1 Axes>"
            ],
            "image/png": "[encoded data removed]"
          },
          "metadata": {
            "needs_background": "light"
          }
        }
      ]
    },
    {
      "cell_type": "markdown",
      "source": [
        "유의미함"
      ],
      "metadata": {
        "id": "ehs9l9prGRqV"
      }
    },
    {
      "cell_type": "code",
      "source": [
        "train['connect_code'].value_counts()"
      ],
      "metadata": {
        "colab": {
          "base_uri": "https://localhost:8080/"
        },
        "id": "YOJxxeSlL6DO",
        "outputId": "3f301d9e-15f9-48bf-e18b-b9622b6dca9a"
      },
      "execution_count": null,
      "outputs": [
        {
          "output_type": "execute_result",
          "data": {
            "text/plain": [
              "0      4689075\n",
              "103      12142\n",
              "Name: connect_code, dtype: int64"
            ]
          },
          "metadata": {},
          "execution_count": 46
        }
      ]
    },
    {
      "cell_type": "code",
      "source": [
        "sns.barplot(x='connect_code', y='target', data=train)\n",
        "plt.show()"
      ],
      "metadata": {
        "colab": {
          "base_uri": "https://localhost:8080/",
          "height": 281
        },
        "id": "lY7uY2xwGTyD",
        "outputId": "a8e33bed-e4b4-4d1f-bede-f78b07dac8e1"
      },
      "execution_count": null,
      "outputs": [
        {
          "output_type": "display_data",
          "data": {
            "text/plain": [
              "<Figure size 432x288 with 1 Axes>"
            ],
            "image/png": "[encoded data removed]"
          },
          "metadata": {
            "needs_background": "light"
          }
        }
      ]
    },
    {
      "cell_type": "markdown",
      "source": [
        "유의미함 0, 1로 변환"
      ],
      "metadata": {
        "id": "bZA0AVa_NXHB"
      }
    },
    {
      "cell_type": "code",
      "source": [
        "train['maximum_speed_limit'].value_counts()"
      ],
      "metadata": {
        "colab": {
          "base_uri": "https://localhost:8080/"
        },
        "id": "stjsF2RmNjBd",
        "outputId": "2c75e974-827c-43a0-a507-90e20de629f1"
      },
      "execution_count": null,
      "outputs": [
        {
          "output_type": "execute_result",
          "data": {
            "text/plain": [
              "60.0    1665573\n",
              "50.0    1103682\n",
              "70.0     995077\n",
              "80.0     700334\n",
              "30.0     229761\n",
              "40.0       6790\n",
              "Name: maximum_speed_limit, dtype: int64"
            ]
          },
          "metadata": {},
          "execution_count": 48
        }
      ]
    },
    {
      "cell_type": "code",
      "source": [
        "ㅊ"
      ],
      "metadata": {
        "colab": {
          "base_uri": "https://localhost:8080/",
          "height": 280
        },
        "id": "5WYPDY7qNrEM",
        "outputId": "b9591f80-d2e0-438a-fba8-c032c6d5854d"
      },
      "execution_count": null,
      "outputs": [
        {
          "output_type": "display_data",
          "data": {
            "text/plain": [
              "<Figure size 432x288 with 1 Axes>"
            ],
            "image/png": "[encoded data removed]"
          },
          "metadata": {
            "needs_background": "light"
          }
        }
      ]
    },
    {
      "cell_type": "markdown",
      "source": [
        "40에서 가장높음? 가장 숫자도 적고 확인 필요"
      ],
      "metadata": {
        "id": "Kg6nLMadOd8V"
      }
    },
    {
      "cell_type": "code",
      "source": [
        "train['weight_restricted'].value_counts()"
      ],
      "metadata": {
        "colab": {
          "base_uri": "https://localhost:8080/"
        },
        "id": "1yzPM85_OpPb",
        "outputId": "a9b99e34-7189-4169-fe54-b657f8b7b750"
      },
      "execution_count": null,
      "outputs": [
        {
          "output_type": "execute_result",
          "data": {
            "text/plain": [
              "0.0        4032874\n",
              "43200.0     410361\n",
              "32400.0     239305\n",
              "50000.0      18677\n",
              "Name: weight_restricted, dtype: int64"
            ]
          },
          "metadata": {},
          "execution_count": 50
        }
      ]
    },
    {
      "cell_type": "code",
      "source": [
        "sns.barplot(x='weight_restricted', y='target', data=train)\n",
        "plt.show()"
      ],
      "metadata": {
        "colab": {
          "base_uri": "https://localhost:8080/",
          "height": 281
        },
        "id": "rODzkuT8OzF4",
        "outputId": "7007cecb-7f1d-4f13-8bb5-27a6153054d5"
      },
      "execution_count": null,
      "outputs": [
        {
          "output_type": "display_data",
          "data": {
            "text/plain": [
              "<Figure size 432x288 with 1 Axes>"
            ],
            "image/png": "[encoded data removed]"
          },
          "metadata": {
            "needs_background": "light"
          }
        }
      ]
    },
    {
      "cell_type": "markdown",
      "source": [
        "증가하다 50000에서 감소"
      ],
      "metadata": {
        "id": "gaXV4YQXQCCX"
      }
    },
    {
      "cell_type": "code",
      "source": [
        "train['height_restricted'].value_counts()"
      ],
      "metadata": {
        "colab": {
          "base_uri": "https://localhost:8080/"
        },
        "id": "OzueyzdLQKWJ",
        "outputId": "d394bc59-74d3-4eae-96a4-d2c777cae67b"
      },
      "execution_count": null,
      "outputs": [
        {
          "output_type": "execute_result",
          "data": {
            "text/plain": [
              "0.0    4701217\n",
              "Name: height_restricted, dtype: int64"
            ]
          },
          "metadata": {},
          "execution_count": 58
        }
      ]
    },
    {
      "cell_type": "markdown",
      "source": [
        "0만 가짐 제거"
      ],
      "metadata": {
        "id": "tn7y1BKcRIN_"
      }
    },
    {
      "cell_type": "code",
      "source": [
        "train['road_type'].value_counts()"
      ],
      "metadata": {
        "colab": {
          "base_uri": "https://localhost:8080/"
        },
        "id": "8AC4K42oRlxi",
        "outputId": "e92c8f7c-50b0-455b-d70c-b9c959770c97"
      },
      "execution_count": null,
      "outputs": [
        {
          "output_type": "execute_result",
          "data": {
            "text/plain": [
              "0    3737117\n",
              "3     964100\n",
              "Name: road_type, dtype: int64"
            ]
          },
          "metadata": {},
          "execution_count": 59
        }
      ]
    },
    {
      "cell_type": "code",
      "source": [
        "sns.barplot(x='road_type', y='target', data=train)\n",
        "plt.show()"
      ],
      "metadata": {
        "colab": {
          "base_uri": "https://localhost:8080/",
          "height": 280
        },
        "id": "QJvu6zfNRqpK",
        "outputId": "d31900d7-8e9b-4c1e-be35-99ceaf706367"
      },
      "execution_count": null,
      "outputs": [
        {
          "output_type": "display_data",
          "data": {
            "text/plain": [
              "<Figure size 432x288 with 1 Axes>"
            ],
            "image/png": "[encoded data removed]"
          },
          "metadata": {
            "needs_background": "light"
          }
        }
      ]
    },
    {
      "cell_type": "markdown",
      "source": [
        "유의미함 0, 1로 변경"
      ],
      "metadata": {
        "id": "4IW342pvSYwP"
      }
    },
    {
      "cell_type": "code",
      "source": [
        "train['start_latitude'].unique()"
      ],
      "metadata": {
        "id": "uGKkwMprUmeh"
      },
      "execution_count": null,
      "outputs": []
    },
    {
      "cell_type": "code",
      "source": [
        "train['start_latitude'].min(), train['start_latitude'].max()"
      ],
      "metadata": {
        "colab": {
          "base_uri": "https://localhost:8080/"
        },
        "id": "u5p7HqWXU-qS",
        "outputId": "755d426a-9985-4d6f-aeb2-f2c769decc54"
      },
      "execution_count": null,
      "outputs": [
        {
          "output_type": "execute_result",
          "data": {
            "text/plain": [
              "(33.2434317486804, 33.5560801767072)"
            ]
          },
          "metadata": {},
          "execution_count": 65
        }
      ]
    },
    {
      "cell_type": "code",
      "source": [
        "train['start_latitude_r'] = train['start_latitude'].apply(lambda x : round(x, 2))"
      ],
      "metadata": {
        "id": "K598vUbvVrxK"
      },
      "execution_count": null,
      "outputs": []
    },
    {
      "cell_type": "code",
      "source": [
        "train['start_latitude_r'].value_counts()"
      ],
      "metadata": {
        "colab": {
          "base_uri": "https://localhost:8080/"
        },
        "id": "HfjD-GGYWJF0",
        "outputId": "c65c89ed-c5d5-4c64-e0f3-cdb009b134fe"
      },
      "execution_count": null,
      "outputs": [
        {
          "output_type": "execute_result",
          "data": {
            "text/plain": [
              "33.25    686227\n",
              "33.26    477299\n",
              "33.49    329845\n",
              "33.50    270183\n",
              "33.48    243039\n",
              "33.47    218447\n",
              "33.44    199857\n",
              "33.45    198830\n",
              "33.42    184689\n",
              "33.41    170815\n",
              "33.51    154412\n",
              "33.52    140860\n",
              "33.28    138038\n",
              "33.46    133287\n",
              "33.29    124450\n",
              "33.35     98774\n",
              "33.32     95832\n",
              "33.43     94867\n",
              "33.27     87269\n",
              "33.39     86943\n",
              "33.31     62385\n",
              "33.34     56844\n",
              "33.55     55692\n",
              "33.36     51216\n",
              "33.37     49669\n",
              "33.30     44448\n",
              "33.40     44303\n",
              "33.24     43591\n",
              "33.33     41257\n",
              "33.38     41081\n",
              "33.53     36547\n",
              "33.54     31649\n",
              "33.56      8572\n",
              "Name: start_latitude_r, dtype: int64"
            ]
          },
          "metadata": {},
          "execution_count": 81
        }
      ]
    },
    {
      "cell_type": "code",
      "source": [
        "sns.barplot(x='start_latitude_r', y='target', data=train)\n",
        "plt.show()"
      ],
      "metadata": {
        "colab": {
          "base_uri": "https://localhost:8080/",
          "height": 280
        },
        "id": "SlLbZPy8W35A",
        "outputId": "cb669b66-d314-4133-e83f-f8be3233982a"
      },
      "execution_count": null,
      "outputs": [
        {
          "output_type": "display_data",
          "data": {
            "text/plain": [
              "<Figure size 432x288 with 1 Axes>"
            ],
            "image/png": "[encoded data removed]"
          },
          "metadata": {
            "needs_background": "light"
          }
        }
      ]
    },
    {
      "cell_type": "code",
      "source": [
        "sns.barplot(x='start_latitude_r', y='target', data=train)\n",
        "plt.show()"
      ],
      "metadata": {
        "colab": {
          "base_uri": "https://localhost:8080/",
          "height": 280
        },
        "id": "ZV_wBJRrc3Mk",
        "outputId": "8471d290-309c-480d-fa53-b80d055a0e3a"
      },
      "execution_count": null,
      "outputs": [
        {
          "output_type": "display_data",
          "data": {
            "text/plain": [
              "<Figure size 432x288 with 1 Axes>"
            ],
            "image/png": "[encoded data removed]"
          },
          "metadata": {
            "needs_background": "light"
          }
        }
      ]
    },
    {
      "cell_type": "markdown",
      "source": [
        "0.1 단위로 5등분"
      ],
      "metadata": {
        "id": "QSN3b8r9VIT6"
      }
    },
    {
      "cell_type": "code",
      "source": [
        "train['start_longitude'].unique()"
      ],
      "metadata": {
        "id": "dV0taaiqVZ3j"
      },
      "execution_count": null,
      "outputs": []
    },
    {
      "cell_type": "code",
      "source": [
        "train['start_longitude_r'] = train['start_longitude'].apply(lambda x : round(x, 2))"
      ],
      "metadata": {
        "id": "2HRm-dZvX6Cs"
      },
      "execution_count": null,
      "outputs": []
    },
    {
      "cell_type": "code",
      "source": [
        "sns.barplot(x='start_longitude_r', y='target', data=train)\n",
        "plt.show()"
      ],
      "metadata": {
        "colab": {
          "base_uri": "https://localhost:8080/",
          "height": 280
        },
        "id": "6PdCYe6hYeYs",
        "outputId": "c9d1b897-d846-47a4-82b9-dc24d792032e"
      },
      "execution_count": null,
      "outputs": [
        {
          "output_type": "display_data",
          "data": {
            "text/plain": [
              "<Figure size 432x288 with 1 Axes>"
            ],
            "image/png": "[encoded data removed]"
          },
          "metadata": {
            "needs_background": "light"
          }
        }
      ]
    },
    {
      "cell_type": "code",
      "source": [
        "sns.barplot(x='start_longitude_r', y='target', data=train)\n",
        "plt.show()"
      ],
      "metadata": {
        "colab": {
          "base_uri": "https://localhost:8080/",
          "height": 280
        },
        "id": "78eK4oT5e2CK",
        "outputId": "993fea74-fc3e-4eac-8de5-aff4be92de8a"
      },
      "execution_count": null,
      "outputs": [
        {
          "output_type": "display_data",
          "data": {
            "text/plain": [
              "<Figure size 432x288 with 1 Axes>"
            ],
            "image/png": "[encoded data removed]"
          },
          "metadata": {
            "needs_background": "light"
          }
        }
      ]
    },
    {
      "cell_type": "markdown",
      "source": [
        "8개로 나뉨 합쳐서 출발점 생성"
      ],
      "metadata": {
        "id": "swtzxIqAZJ9M"
      }
    },
    {
      "cell_type": "code",
      "source": [
        " train['start'] = train['start_latitude_r'].map(str) + ', '+ train['start_longitude_r'].map(str)"
      ],
      "metadata": {
        "id": "_JASzQmGgqAf"
      },
      "execution_count": null,
      "outputs": []
    },
    {
      "cell_type": "code",
      "source": [
        " train['start'].nunique()"
      ],
      "metadata": {
        "colab": {
          "base_uri": "https://localhost:8080/"
        },
        "id": "-rflMPv6hYjl",
        "outputId": "97935b55-bb6a-4342-f166-c889fa36ab8b"
      },
      "execution_count": null,
      "outputs": [
        {
          "output_type": "execute_result",
          "data": {
            "text/plain": [
              "269"
            ]
          },
          "metadata": {},
          "execution_count": 91
        }
      ]
    },
    {
      "cell_type": "code",
      "source": [
        "sns.barplot(x='start', y='target', data=train)\n",
        "plt.show()"
      ],
      "metadata": {
        "colab": {
          "base_uri": "https://localhost:8080/",
          "height": 281
        },
        "id": "EXOhHqoThpTJ",
        "outputId": "4c6d6c41-9659-4612-e43d-c07082610dca"
      },
      "execution_count": null,
      "outputs": [
        {
          "output_type": "display_data",
          "data": {
            "text/plain": [
              "<Figure size 432x288 with 1 Axes>"
            ],
            "image/png": "[encoded data removed]"
          },
          "metadata": {
            "needs_background": "light"
          }
        }
      ]
    },
    {
      "cell_type": "code",
      "source": [
        "train['start_turn_restricted'].value_counts()"
      ],
      "metadata": {
        "colab": {
          "base_uri": "https://localhost:8080/"
        },
        "id": "i9EN2CgMiZTK",
        "outputId": "c76da587-6b04-4ff5-86ca-0f9300a6eaa2"
      },
      "execution_count": null,
      "outputs": [
        {
          "output_type": "execute_result",
          "data": {
            "text/plain": [
              "없음    4239701\n",
              "있음     461516\n",
              "Name: start_turn_restricted, dtype: int64"
            ]
          },
          "metadata": {},
          "execution_count": 93
        }
      ]
    },
    {
      "cell_type": "code",
      "source": [
        "sns.barplot(x='start_turn_restricted', y='target', data=train)\n",
        "plt.show()"
      ],
      "metadata": {
        "colab": {
          "base_uri": "https://localhost:8080/",
          "height": 500
        },
        "id": "t_SpfVqwig5D",
        "outputId": "0690d520-1461-470b-d0bf-c6dad95567b1"
      },
      "execution_count": null,
      "outputs": [
        {
          "output_type": "stream",
          "name": "stderr",
          "text": [
            "/usr/local/lib/python3.7/dist-packages/matplotlib/backends/backend_agg.py:214: RuntimeWarning: Glyph 50630 missing from current font.\n",
            "  font.set_text(s, 0.0, flags=flags)\n",
            "/usr/local/lib/python3.7/dist-packages/matplotlib/backends/backend_agg.py:214: RuntimeWarning: Glyph 51020 missing from current font.\n",
            "  font.set_text(s, 0.0, flags=flags)\n",
            "/usr/local/lib/python3.7/dist-packages/matplotlib/backends/backend_agg.py:214: RuntimeWarning: Glyph 51080 missing from current font.\n",
            "  font.set_text(s, 0.0, flags=flags)\n",
            "/usr/local/lib/python3.7/dist-packages/matplotlib/backends/backend_agg.py:183: RuntimeWarning: Glyph 50630 missing from current font.\n",
            "  font.set_text(s, 0, flags=flags)\n",
            "/usr/local/lib/python3.7/dist-packages/matplotlib/backends/backend_agg.py:183: RuntimeWarning: Glyph 51020 missing from current font.\n",
            "  font.set_text(s, 0, flags=flags)\n",
            "/usr/local/lib/python3.7/dist-packages/matplotlib/backends/backend_agg.py:183: RuntimeWarning: Glyph 51080 missing from current font.\n",
            "  font.set_text(s, 0, flags=flags)\n"
          ]
        },
        {
          "output_type": "display_data",
          "data": {
            "text/plain": [
              "<Figure size 432x288 with 1 Axes>"
            ],
            "image/png": "[encoded data removed]"
          },
          "metadata": {
            "needs_background": "light"
          }
        }
      ]
    },
    {
      "cell_type": "code",
      "source": [
        "train['end_latitude_r'] = train['end_latitude'].apply(lambda x : round(x, 2))"
      ],
      "metadata": {
        "id": "EDB7SjZVnXA3"
      },
      "execution_count": null,
      "outputs": []
    },
    {
      "cell_type": "code",
      "source": [
        "train['end_longitude_r'] = train['end_longitude'].apply(lambda x : round(x, 2))"
      ],
      "metadata": {
        "id": "mHEjatmrnepQ"
      },
      "execution_count": null,
      "outputs": []
    },
    {
      "cell_type": "code",
      "source": [
        "train['distance'] = ((train['end_longitude_r'] - train['start_longitude_r']) ** 2 + (train['end_latitude_r'] - train['start_latitude_r']) ** 2) **0.5"
      ],
      "metadata": {
        "id": "iSevCc7mnpWH"
      },
      "execution_count": null,
      "outputs": []
    },
    {
      "cell_type": "code",
      "source": [
        "train['distance'].value_counts()"
      ],
      "metadata": {
        "colab": {
          "base_uri": "https://localhost:8080/"
        },
        "id": "VuFNAs2SoN_O",
        "outputId": "b8592fb0-d3df-49e0-8b68-3dca780a780d"
      },
      "execution_count": null,
      "outputs": [
        {
          "output_type": "execute_result",
          "data": {
            "text/plain": [
              "0.000000    2927529\n",
              "0.010000     601925\n",
              "0.010000     332946\n",
              "0.010000     304063\n",
              "0.014142     167685\n",
              "0.014142      84391\n",
              "0.022361      41103\n",
              "0.020000      29104\n",
              "0.022361      22901\n",
              "0.031623      21909\n",
              "0.022361      18403\n",
              "0.022361      17676\n",
              "0.014142      16751\n",
              "0.031623      16622\n",
              "0.050000      11723\n",
              "0.022361      10663\n",
              "0.020000      10510\n",
              "0.028284      10468\n",
              "0.014142      10305\n",
              "0.028284      10066\n",
              "0.036056       9901\n",
              "0.042426       9569\n",
              "0.028284       8216\n",
              "0.031623       4889\n",
              "0.030000       1899\n",
              "Name: distance, dtype: int64"
            ]
          },
          "metadata": {},
          "execution_count": 124
        }
      ]
    },
    {
      "cell_type": "code",
      "source": [
        "sns.barplot(x='distance', y='target', data=train)\n",
        "plt.show()"
      ],
      "metadata": {
        "colab": {
          "base_uri": "https://localhost:8080/",
          "height": 279
        },
        "id": "IH06Uc9eqFiJ",
        "outputId": "e9651ee9-0b50-4ddd-b455-d702af578816"
      },
      "execution_count": null,
      "outputs": [
        {
          "output_type": "display_data",
          "data": {
            "text/plain": [
              "<Figure size 432x288 with 1 Axes>"
            ],
            "image/png": "[encoded data removed]"
          },
          "metadata": {
            "needs_background": "light"
          }
        }
      ]
    },
    {
      "cell_type": "code",
      "source": [
        "train[['distance', 'target']].corr()"
      ],
      "metadata": {
        "colab": {
          "base_uri": "https://localhost:8080/",
          "height": 112
        },
        "id": "wV7Wte_ysr__",
        "outputId": "bf42e07c-e57d-404f-8f1a-e98aa89a24d2"
      },
      "execution_count": null,
      "outputs": [
        {
          "output_type": "execute_result",
          "data": {
            "text/plain": [
              "          distance    target\n",
              "distance  1.000000  0.136837\n",
              "target    0.136837  1.000000"
            ],
            "text/html": [
              "\n",
              "  <div id=\"df-c0b13dc3-7d63-491f-84de-ca361ed8c00a\">\n",
              "    <div class=\"colab-df-container\">\n",
              "      <div>\n",
              "<style scoped>\n",
              "    .dataframe tbody tr th:only-of-type {\n",
              "        vertical-align: middle;\n",
              "    }\n",
              "\n",
              "    .dataframe tbody tr th {\n",
              "        vertical-align: top;\n",
              "    }\n",
              "\n",
              "    .dataframe thead th {\n",
              "        text-align: right;\n",
              "    }\n",
              "</style>\n",
              "<table border=\"1\" class=\"dataframe\">\n",
              "  <thead>\n",
              "    <tr style=\"text-align: right;\">\n",
              "      <th></th>\n",
              "      <th>distance</th>\n",
              "      <th>target</th>\n",
              "    </tr>\n",
              "  </thead>\n",
              "  <tbody>\n",
              "    <tr>\n",
              "      <th>distance</th>\n",
              "      <td>1.000000</td>\n",
              "      <td>0.136837</td>\n",
              "    </tr>\n",
              "    <tr>\n",
              "      <th>target</th>\n",
              "      <td>0.136837</td>\n",
              "      <td>1.000000</td>\n",
              "    </tr>\n",
              "  </tbody>\n",
              "</table>\n",
              "</div>\n",
              "      <button class=\"colab-df-convert\" onclick=\"convertToInteractive('df-c0b13dc3-7d63-491f-84de-ca361ed8c00a')\"\n",
              "              title=\"Convert this dataframe to an interactive table.\"\n",
              "              style=\"display:none;\">\n",
              "        \n",
              "  <svg xmlns=\"http://www.w3.org/2000/svg\" height=\"24px\"viewBox=\"0 0 24 24\"\n",
              "       width=\"24px\">\n",
              "    <path d=\"M0 0h24v24H0V0z\" fill=\"none\"/>\n",
              "    <path d=\"M18.56 5.44l.94 2.06.94-2.06 2.06-.94-2.06-.94-.94-2.06-.94 2.06-2.06.94zm-11 1L8.5 8.5l.94-2.06 2.06-.94-2.06-.94L8.5 2.5l-.94 2.06-2.06.94zm10 10l.94 2.06.94-2.06 2.06-.94-2.06-.94-.94-2.06-.94 2.06-2.06.94z\"/><path d=\"M17.41 7.96l-1.37-1.37c-.4-.4-.92-.59-1.43-.59-.52 0-1.04.2-1.43.59L10.3 9.45l-7.72 7.72c-.78.78-.78 2.05 0 2.83L4 21.41c.39.39.9.59 1.41.59.51 0 1.02-.2 1.41-.59l7.78-7.78 2.81-2.81c.8-.78.8-2.07 0-2.86zM5.41 20L4 18.59l7.72-7.72 1.47 1.35L5.41 20z\"/>\n",
              "  </svg>\n",
              "      </button>\n",
              "      \n",
              "  <style>\n",
              "    .colab-df-container {\n",
              "      display:flex;\n",
              "      flex-wrap:wrap;\n",
              "      gap: 12px;\n",
              "    }\n",
              "\n",
              "    .colab-df-convert {\n",
              "      background-color: #E8F0FE;\n",
              "      border: none;\n",
              "      border-radius: 50%;\n",
              "      cursor: pointer;\n",
              "      display: none;\n",
              "      fill: #1967D2;\n",
              "      height: 32px;\n",
              "      padding: 0 0 0 0;\n",
              "      width: 32px;\n",
              "    }\n",
              "\n",
              "    .colab-df-convert:hover {\n",
              "      background-color: #E2EBFA;\n",
              "      box-shadow: 0px 1px 2px rgba(60, 64, 67, 0.3), 0px 1px 3px 1px rgba(60, 64, 67, 0.15);\n",
              "      fill: #174EA6;\n",
              "    }\n",
              "\n",
              "    [theme=dark] .colab-df-convert {\n",
              "      background-color: #3B4455;\n",
              "      fill: #D2E3FC;\n",
              "    }\n",
              "\n",
              "    [theme=dark] .colab-df-convert:hover {\n",
              "      background-color: #434B5C;\n",
              "      box-shadow: 0px 1px 3px 1px rgba(0, 0, 0, 0.15);\n",
              "      filter: drop-shadow(0px 1px 2px rgba(0, 0, 0, 0.3));\n",
              "      fill: #FFFFFF;\n",
              "    }\n",
              "  </style>\n",
              "\n",
              "      <script>\n",
              "        const buttonEl =\n",
              "          document.querySelector('#df-c0b13dc3-7d63-491f-84de-ca361ed8c00a button.colab-df-convert');\n",
              "        buttonEl.style.display =\n",
              "          google.colab.kernel.accessAllowed ? 'block' : 'none';\n",
              "\n",
              "        async function convertToInteractive(key) {\n",
              "          const element = document.querySelector('#df-c0b13dc3-7d63-491f-84de-ca361ed8c00a');\n",
              "          const dataTable =\n",
              "            await google.colab.kernel.invokeFunction('convertToInteractive',\n",
              "                                                     [key], {});\n",
              "          if (!dataTable) return;\n",
              "\n",
              "          const docLinkHtml = 'Like what you see? Visit the ' +\n",
              "            '<a target=\"_blank\" href=https://colab.research.google.com/notebooks/data_table.ipynb>data table notebook</a>'\n",
              "            + ' to learn more about interactive tables.';\n",
              "          element.innerHTML = '';\n",
              "          dataTable['output_type'] = 'display_data';\n",
              "          await google.colab.output.renderOutput(dataTable, element);\n",
              "          const docLink = document.createElement('div');\n",
              "          docLink.innerHTML = docLinkHtml;\n",
              "          element.appendChild(docLink);\n",
              "        }\n",
              "      </script>\n",
              "    </div>\n",
              "  </div>\n",
              "  "
            ]
          },
          "metadata": {},
          "execution_count": 127
        }
      ]
    },
    {
      "cell_type": "markdown",
      "source": [
        "우선 거리만 추가 추후 성능으로 결정"
      ],
      "metadata": {
        "id": "dHU60aZ3s4Q1"
      }
    },
    {
      "cell_type": "code",
      "source": [
        "train['end_turn_restricted'].value_counts()"
      ],
      "metadata": {
        "colab": {
          "base_uri": "https://localhost:8080/"
        },
        "id": "tzp9s2D0tAfs",
        "outputId": "1a75b8e5-0085-4070-c645-7e5b3088e931"
      },
      "execution_count": null,
      "outputs": [
        {
          "output_type": "execute_result",
          "data": {
            "text/plain": [
              "없음    4239599\n",
              "있음     461618\n",
              "Name: end_turn_restricted, dtype: int64"
            ]
          },
          "metadata": {},
          "execution_count": 128
        }
      ]
    },
    {
      "cell_type": "code",
      "source": [
        "sns.barplot(x='start_turn_restricted', y='target', data=train)\n",
        "plt.show()"
      ],
      "metadata": {
        "colab": {
          "base_uri": "https://localhost:8080/",
          "height": 500
        },
        "id": "F0zD31tEtHn4",
        "outputId": "d3293887-d598-4370-c522-eed029b489e1"
      },
      "execution_count": null,
      "outputs": [
        {
          "output_type": "stream",
          "name": "stderr",
          "text": [
            "/usr/local/lib/python3.7/dist-packages/matplotlib/backends/backend_agg.py:214: RuntimeWarning: Glyph 50630 missing from current font.\n",
            "  font.set_text(s, 0.0, flags=flags)\n",
            "/usr/local/lib/python3.7/dist-packages/matplotlib/backends/backend_agg.py:214: RuntimeWarning: Glyph 51020 missing from current font.\n",
            "  font.set_text(s, 0.0, flags=flags)\n",
            "/usr/local/lib/python3.7/dist-packages/matplotlib/backends/backend_agg.py:214: RuntimeWarning: Glyph 51080 missing from current font.\n",
            "  font.set_text(s, 0.0, flags=flags)\n",
            "/usr/local/lib/python3.7/dist-packages/matplotlib/backends/backend_agg.py:183: RuntimeWarning: Glyph 50630 missing from current font.\n",
            "  font.set_text(s, 0, flags=flags)\n",
            "/usr/local/lib/python3.7/dist-packages/matplotlib/backends/backend_agg.py:183: RuntimeWarning: Glyph 51020 missing from current font.\n",
            "  font.set_text(s, 0, flags=flags)\n",
            "/usr/local/lib/python3.7/dist-packages/matplotlib/backends/backend_agg.py:183: RuntimeWarning: Glyph 51080 missing from current font.\n",
            "  font.set_text(s, 0, flags=flags)\n"
          ]
        },
        {
          "output_type": "display_data",
          "data": {
            "text/plain": [
              "<Figure size 432x288 with 1 Axes>"
            ],
            "image/png": "[encoded data removed]"
          },
          "metadata": {
            "needs_background": "light"
          }
        }
      ]
    },
    {
      "cell_type": "markdown",
      "source": [
        "유의미함"
      ],
      "metadata": {
        "id": "PxiE4J7K1-US"
      }
    },
    {
      "cell_type": "code",
      "source": [
        "train['road_name'].value_counts()"
      ],
      "metadata": {
        "colab": {
          "base_uri": "https://localhost:8080/"
        },
        "id": "Zj7ayTjmvHru",
        "outputId": "04aee191-9ed6-43fa-fdb2-a72d097949a6"
      },
      "execution_count": null,
      "outputs": [
        {
          "output_type": "execute_result",
          "data": {
            "text/plain": [
              "일반국도12호선    1046092\n",
              "-            569463\n",
              "일반국도16호선     554510\n",
              "일반국도95호선     248181\n",
              "일반국도11호선     215701\n",
              "             ...   \n",
              "애원로            7718\n",
              "아봉로            7342\n",
              "남조로            6813\n",
              "호서중앙로          2819\n",
              "호근로             587\n",
              "Name: road_name, Length: 61, dtype: int64"
            ]
          },
          "metadata": {},
          "execution_count": 130
        }
      ]
    },
    {
      "cell_type": "code",
      "source": [
        "train['road_name'].unique()"
      ],
      "metadata": {
        "colab": {
          "base_uri": "https://localhost:8080/"
        },
        "id": "yZnbynlBvSKz",
        "outputId": "d4edc13e-cb5b-41e9-8680-47b67d57dcfa"
      },
      "execution_count": null,
      "outputs": [
        {
          "output_type": "execute_result",
          "data": {
            "text/plain": [
              "array(['지방도1112호선', '일반국도11호선', '일반국도16호선', '태평로', '일반국도12호선', '경찰로', '-',\n",
              "       '외도천교', '일반국도99호선', '중정로', '번영로', '연동로', '중산간서로', '지방도1118호선',\n",
              "       '새서귀로', '지방도1115호선', '지방도1132호선', '어시천교', '지방도1120호선', '삼무로',\n",
              "       '애조로', '지방도1116호선', '일반국도95호선', '동부관광도로', '동홍로', '지방도97호선', '중문로',\n",
              "       '연삼로', '중앙로', '산서로', '지방도1117호선', '연북로', '남조로', '지방도1119호선', '동문로',\n",
              "       '한천로', '삼봉로', '고평교', '연북2교', '관광단지로', '권학로', '시청로', '신대로', '서사로',\n",
              "       '관덕로', '관광단지1로', '신산로', '관광단지2로', '신광로', '지방도1136호선', '첨단로',\n",
              "       '제2거로교', '시민광장로', '임항로', '수영장길', '애원로', '삼성로', '일주동로', '호서중앙로',\n",
              "       '아봉로', '호근로'], dtype=object)"
            ]
          },
          "metadata": {},
          "execution_count": 131
        }
      ]
    },
    {
      "cell_type": "code",
      "source": [
        "train['road_name_h'] = train['road_name'].str[:2]\n",
        "def road_h(x):\n",
        "    if x == '지방' or x == '일반':\n",
        "        return x\n",
        "    else:\n",
        "        return ''\n",
        "train['road_name_h'] = train['road_name_h'].apply(road_h)"
      ],
      "metadata": {
        "id": "RKF4Gv9Wl-0K"
      },
      "execution_count": null,
      "outputs": []
    },
    {
      "cell_type": "code",
      "source": [
        "train['road_name_t'] = train['road_name'].str[-1]\n",
        "def road_t(x):\n",
        "    if x == '로' or x == '교':\n",
        "        return x\n",
        "    else:\n",
        "        return ''\n",
        "train['road_name_t'] = train['road_name_t'].apply(road_t)"
      ],
      "metadata": {
        "id": "AjZb-hYPvwQ9"
      },
      "execution_count": null,
      "outputs": []
    },
    {
      "cell_type": "code",
      "source": [
        "train['road_name_c'] = train['road_name_h'] + train['road_name_t']\n",
        "train.head()"
      ],
      "metadata": {
        "colab": {
          "base_uri": "https://localhost:8080/",
          "height": 369
        },
        "id": "0z-0DPjBuFI4",
        "outputId": "fb4697be-e971-4170-b1c2-b4e17d210608"
      },
      "execution_count": null,
      "outputs": [
        {
          "output_type": "execute_result",
          "data": {
            "text/plain": [
              "              id  base_date day_of_week  base_hour  road_in_use  lane_count  \\\n",
              "0  TRAIN_0000000   20220623           목         17            0           1   \n",
              "1  TRAIN_0000001   20220728           목         21            0           2   \n",
              "2  TRAIN_0000002   20211010           일          7            0           2   \n",
              "3  TRAIN_0000003   20220311           금         13            0           2   \n",
              "4  TRAIN_0000004   20211005           화          8            0           2   \n",
              "\n",
              "   road_rating  road_name  multi_linked  connect_code  ...  start_longitude  \\\n",
              "0          106  지방도1112호선             0             0  ...       126.662612   \n",
              "1          103   일반국도11호선             0             0  ...       126.529107   \n",
              "2          103   일반국도16호선             0             0  ...       126.368598   \n",
              "3          107        태평로             0             0  ...       126.567204   \n",
              "4          103   일반국도12호선             0             0  ...       126.326551   \n",
              "\n",
              "   start_turn_restricted  end_node_name  end_latitude  end_longitude  \\\n",
              "0                     없음          제3교래교     33.427749     126.662335   \n",
              "1                     있음         KAL사거리     33.504811     126.526240   \n",
              "2                     없음           상창육교     33.280072     126.362147   \n",
              "3                     없음           서현주택     33.245565     126.566228   \n",
              "4                     없음           애월입구     33.462677     126.330152   \n",
              "\n",
              "  end_turn_restricted  target  road_name_h road_name_t road_name_c  \n",
              "0                  없음    52.0           지방                      지방  \n",
              "1                  없음    30.0           일반                      일반  \n",
              "2                  없음    61.0           일반                      일반  \n",
              "3                  없음    20.0                        로           로  \n",
              "4                  없음    38.0           일반                      일반  \n",
              "\n",
              "[5 rows x 27 columns]"
            ],
            "text/html": [
              "\n",
              "  <div id=\"df-70e0a65e-de5e-4620-9990-26ddff37306d\">\n",
              "    <div class=\"colab-df-container\">\n",
              "      <div>\n",
              "<style scoped>\n",
              "    .dataframe tbody tr th:only-of-type {\n",
              "        vertical-align: middle;\n",
              "    }\n",
              "\n",
              "    .dataframe tbody tr th {\n",
              "        vertical-align: top;\n",
              "    }\n",
              "\n",
              "    .dataframe thead th {\n",
              "        text-align: right;\n",
              "    }\n",
              "</style>\n",
              "<table border=\"1\" class=\"dataframe\">\n",
              "  <thead>\n",
              "    <tr style=\"text-align: right;\">\n",
              "      <th></th>\n",
              "      <th>id</th>\n",
              "      <th>base_date</th>\n",
              "      <th>day_of_week</th>\n",
              "      <th>base_hour</th>\n",
              "      <th>road_in_use</th>\n",
              "      <th>lane_count</th>\n",
              "      <th>road_rating</th>\n",
              "      <th>road_name</th>\n",
              "      <th>multi_linked</th>\n",
              "      <th>connect_code</th>\n",
              "      <th>...</th>\n",
              "      <th>start_longitude</th>\n",
              "      <th>start_turn_restricted</th>\n",
              "      <th>end_node_name</th>\n",
              "      <th>end_latitude</th>\n",
              "      <th>end_longitude</th>\n",
              "      <th>end_turn_restricted</th>\n",
              "      <th>target</th>\n",
              "      <th>road_name_h</th>\n",
              "      <th>road_name_t</th>\n",
              "      <th>road_name_c</th>\n",
              "    </tr>\n",
              "  </thead>\n",
              "  <tbody>\n",
              "    <tr>\n",
              "      <th>0</th>\n",
              "      <td>TRAIN_0000000</td>\n",
              "      <td>20220623</td>\n",
              "      <td>목</td>\n",
              "      <td>17</td>\n",
              "      <td>0</td>\n",
              "      <td>1</td>\n",
              "      <td>106</td>\n",
              "      <td>지방도1112호선</td>\n",
              "      <td>0</td>\n",
              "      <td>0</td>\n",
              "      <td>...</td>\n",
              "      <td>126.662612</td>\n",
              "      <td>없음</td>\n",
              "      <td>제3교래교</td>\n",
              "      <td>33.427749</td>\n",
              "      <td>126.662335</td>\n",
              "      <td>없음</td>\n",
              "      <td>52.0</td>\n",
              "      <td>지방</td>\n",
              "      <td></td>\n",
              "      <td>지방</td>\n",
              "    </tr>\n",
              "    <tr>\n",
              "      <th>1</th>\n",
              "      <td>TRAIN_0000001</td>\n",
              "      <td>20220728</td>\n",
              "      <td>목</td>\n",
              "      <td>21</td>\n",
              "      <td>0</td>\n",
              "      <td>2</td>\n",
              "      <td>103</td>\n",
              "      <td>일반국도11호선</td>\n",
              "      <td>0</td>\n",
              "      <td>0</td>\n",
              "      <td>...</td>\n",
              "      <td>126.529107</td>\n",
              "      <td>있음</td>\n",
              "      <td>KAL사거리</td>\n",
              "      <td>33.504811</td>\n",
              "      <td>126.526240</td>\n",
              "      <td>없음</td>\n",
              "      <td>30.0</td>\n",
              "      <td>일반</td>\n",
              "      <td></td>\n",
              "      <td>일반</td>\n",
              "    </tr>\n",
              "    <tr>\n",
              "      <th>2</th>\n",
              "      <td>TRAIN_0000002</td>\n",
              "      <td>20211010</td>\n",
              "      <td>일</td>\n",
              "      <td>7</td>\n",
              "      <td>0</td>\n",
              "      <td>2</td>\n",
              "      <td>103</td>\n",
              "      <td>일반국도16호선</td>\n",
              "      <td>0</td>\n",
              "      <td>0</td>\n",
              "      <td>...</td>\n",
              "      <td>126.368598</td>\n",
              "      <td>없음</td>\n",
              "      <td>상창육교</td>\n",
              "      <td>33.280072</td>\n",
              "      <td>126.362147</td>\n",
              "      <td>없음</td>\n",
              "      <td>61.0</td>\n",
              "      <td>일반</td>\n",
              "      <td></td>\n",
              "      <td>일반</td>\n",
              "    </tr>\n",
              "    <tr>\n",
              "      <th>3</th>\n",
              "      <td>TRAIN_0000003</td>\n",
              "      <td>20220311</td>\n",
              "      <td>금</td>\n",
              "      <td>13</td>\n",
              "      <td>0</td>\n",
              "      <td>2</td>\n",
              "      <td>107</td>\n",
              "      <td>태평로</td>\n",
              "      <td>0</td>\n",
              "      <td>0</td>\n",
              "      <td>...</td>\n",
              "      <td>126.567204</td>\n",
              "      <td>없음</td>\n",
              "      <td>서현주택</td>\n",
              "      <td>33.245565</td>\n",
              "      <td>126.566228</td>\n",
              "      <td>없음</td>\n",
              "      <td>20.0</td>\n",
              "      <td></td>\n",
              "      <td>로</td>\n",
              "      <td>로</td>\n",
              "    </tr>\n",
              "    <tr>\n",
              "      <th>4</th>\n",
              "      <td>TRAIN_0000004</td>\n",
              "      <td>20211005</td>\n",
              "      <td>화</td>\n",
              "      <td>8</td>\n",
              "      <td>0</td>\n",
              "      <td>2</td>\n",
              "      <td>103</td>\n",
              "      <td>일반국도12호선</td>\n",
              "      <td>0</td>\n",
              "      <td>0</td>\n",
              "      <td>...</td>\n",
              "      <td>126.326551</td>\n",
              "      <td>없음</td>\n",
              "      <td>애월입구</td>\n",
              "      <td>33.462677</td>\n",
              "      <td>126.330152</td>\n",
              "      <td>없음</td>\n",
              "      <td>38.0</td>\n",
              "      <td>일반</td>\n",
              "      <td></td>\n",
              "      <td>일반</td>\n",
              "    </tr>\n",
              "  </tbody>\n",
              "</table>\n",
              "<p>5 rows × 27 columns</p>\n",
              "</div>\n",
              "      <button class=\"colab-df-convert\" onclick=\"convertToInteractive('df-70e0a65e-de5e-4620-9990-26ddff37306d')\"\n",
              "              title=\"Convert this dataframe to an interactive table.\"\n",
              "              style=\"display:none;\">\n",
              "        \n",
              "  <svg xmlns=\"http://www.w3.org/2000/svg\" height=\"24px\"viewBox=\"0 0 24 24\"\n",
              "       width=\"24px\">\n",
              "    <path d=\"M0 0h24v24H0V0z\" fill=\"none\"/>\n",
              "    <path d=\"M18.56 5.44l.94 2.06.94-2.06 2.06-.94-2.06-.94-.94-2.06-.94 2.06-2.06.94zm-11 1L8.5 8.5l.94-2.06 2.06-.94-2.06-.94L8.5 2.5l-.94 2.06-2.06.94zm10 10l.94 2.06.94-2.06 2.06-.94-2.06-.94-.94-2.06-.94 2.06-2.06.94z\"/><path d=\"M17.41 7.96l-1.37-1.37c-.4-.4-.92-.59-1.43-.59-.52 0-1.04.2-1.43.59L10.3 9.45l-7.72 7.72c-.78.78-.78 2.05 0 2.83L4 21.41c.39.39.9.59 1.41.59.51 0 1.02-.2 1.41-.59l7.78-7.78 2.81-2.81c.8-.78.8-2.07 0-2.86zM5.41 20L4 18.59l7.72-7.72 1.47 1.35L5.41 20z\"/>\n",
              "  </svg>\n",
              "      </button>\n",
              "      \n",
              "  <style>\n",
              "    .colab-df-container {\n",
              "      display:flex;\n",
              "      flex-wrap:wrap;\n",
              "      gap: 12px;\n",
              "    }\n",
              "\n",
              "    .colab-df-convert {\n",
              "      background-color: #E8F0FE;\n",
              "      border: none;\n",
              "      border-radius: 50%;\n",
              "      cursor: pointer;\n",
              "      display: none;\n",
              "      fill: #1967D2;\n",
              "      height: 32px;\n",
              "      padding: 0 0 0 0;\n",
              "      width: 32px;\n",
              "    }\n",
              "\n",
              "    .colab-df-convert:hover {\n",
              "      background-color: #E2EBFA;\n",
              "      box-shadow: 0px 1px 2px rgba(60, 64, 67, 0.3), 0px 1px 3px 1px rgba(60, 64, 67, 0.15);\n",
              "      fill: #174EA6;\n",
              "    }\n",
              "\n",
              "    [theme=dark] .colab-df-convert {\n",
              "      background-color: #3B4455;\n",
              "      fill: #D2E3FC;\n",
              "    }\n",
              "\n",
              "    [theme=dark] .colab-df-convert:hover {\n",
              "      background-color: #434B5C;\n",
              "      box-shadow: 0px 1px 3px 1px rgba(0, 0, 0, 0.15);\n",
              "      filter: drop-shadow(0px 1px 2px rgba(0, 0, 0, 0.3));\n",
              "      fill: #FFFFFF;\n",
              "    }\n",
              "  </style>\n",
              "\n",
              "      <script>\n",
              "        const buttonEl =\n",
              "          document.querySelector('#df-70e0a65e-de5e-4620-9990-26ddff37306d button.colab-df-convert');\n",
              "        buttonEl.style.display =\n",
              "          google.colab.kernel.accessAllowed ? 'block' : 'none';\n",
              "\n",
              "        async function convertToInteractive(key) {\n",
              "          const element = document.querySelector('#df-70e0a65e-de5e-4620-9990-26ddff37306d');\n",
              "          const dataTable =\n",
              "            await google.colab.kernel.invokeFunction('convertToInteractive',\n",
              "                                                     [key], {});\n",
              "          if (!dataTable) return;\n",
              "\n",
              "          const docLinkHtml = 'Like what you see? Visit the ' +\n",
              "            '<a target=\"_blank\" href=https://colab.research.google.com/notebooks/data_table.ipynb>data table notebook</a>'\n",
              "            + ' to learn more about interactive tables.';\n",
              "          element.innerHTML = '';\n",
              "          dataTable['output_type'] = 'display_data';\n",
              "          await google.colab.output.renderOutput(dataTable, element);\n",
              "          const docLink = document.createElement('div');\n",
              "          docLink.innerHTML = docLinkHtml;\n",
              "          element.appendChild(docLink);\n",
              "        }\n",
              "      </script>\n",
              "    </div>\n",
              "  </div>\n",
              "  "
            ]
          },
          "metadata": {},
          "execution_count": 17
        }
      ]
    },
    {
      "cell_type": "code",
      "source": [
        "train['road_name_c'].value_counts()"
      ],
      "metadata": {
        "colab": {
          "base_uri": "https://localhost:8080/"
        },
        "id": "w69KuaA7xpuG",
        "outputId": "96aa976c-cd7d-49ef-d246-a17b198b5e8a"
      },
      "execution_count": null,
      "outputs": [
        {
          "output_type": "execute_result",
          "data": {
            "text/plain": [
              "일반    2147483\n",
              "로     1215612\n",
              "지방     698704\n",
              "       579643\n",
              "교       59775\n",
              "Name: road_name_c, dtype: int64"
            ]
          },
          "metadata": {},
          "execution_count": 19
        }
      ]
    },
    {
      "cell_type": "code",
      "source": [
        "sns.barplot(x='road_name_c', y='target', data=train)\n",
        "plt.show()"
      ],
      "metadata": {
        "colab": {
          "base_uri": "https://localhost:8080/",
          "height": 721
        },
        "id": "QbJGEo9fBnJ9",
        "outputId": "43f599af-a904-470e-cdd9-c8eec0158f97"
      },
      "execution_count": null,
      "outputs": [
        {
          "output_type": "stream",
          "name": "stderr",
          "text": [
            "/usr/local/lib/python3.7/dist-packages/matplotlib/backends/backend_agg.py:214: RuntimeWarning: Glyph 51648 missing from current font.\n",
            "  font.set_text(s, 0.0, flags=flags)\n",
            "/usr/local/lib/python3.7/dist-packages/matplotlib/backends/backend_agg.py:214: RuntimeWarning: Glyph 48169 missing from current font.\n",
            "  font.set_text(s, 0.0, flags=flags)\n",
            "/usr/local/lib/python3.7/dist-packages/matplotlib/backends/backend_agg.py:214: RuntimeWarning: Glyph 51068 missing from current font.\n",
            "  font.set_text(s, 0.0, flags=flags)\n",
            "/usr/local/lib/python3.7/dist-packages/matplotlib/backends/backend_agg.py:214: RuntimeWarning: Glyph 48152 missing from current font.\n",
            "  font.set_text(s, 0.0, flags=flags)\n",
            "/usr/local/lib/python3.7/dist-packages/matplotlib/backends/backend_agg.py:214: RuntimeWarning: Glyph 47196 missing from current font.\n",
            "  font.set_text(s, 0.0, flags=flags)\n",
            "/usr/local/lib/python3.7/dist-packages/matplotlib/backends/backend_agg.py:214: RuntimeWarning: Glyph 44368 missing from current font.\n",
            "  font.set_text(s, 0.0, flags=flags)\n",
            "/usr/local/lib/python3.7/dist-packages/matplotlib/backends/backend_agg.py:183: RuntimeWarning: Glyph 51648 missing from current font.\n",
            "  font.set_text(s, 0, flags=flags)\n",
            "/usr/local/lib/python3.7/dist-packages/matplotlib/backends/backend_agg.py:183: RuntimeWarning: Glyph 48169 missing from current font.\n",
            "  font.set_text(s, 0, flags=flags)\n",
            "/usr/local/lib/python3.7/dist-packages/matplotlib/backends/backend_agg.py:183: RuntimeWarning: Glyph 51068 missing from current font.\n",
            "  font.set_text(s, 0, flags=flags)\n",
            "/usr/local/lib/python3.7/dist-packages/matplotlib/backends/backend_agg.py:183: RuntimeWarning: Glyph 48152 missing from current font.\n",
            "  font.set_text(s, 0, flags=flags)\n",
            "/usr/local/lib/python3.7/dist-packages/matplotlib/backends/backend_agg.py:183: RuntimeWarning: Glyph 47196 missing from current font.\n",
            "  font.set_text(s, 0, flags=flags)\n",
            "/usr/local/lib/python3.7/dist-packages/matplotlib/backends/backend_agg.py:183: RuntimeWarning: Glyph 44368 missing from current font.\n",
            "  font.set_text(s, 0, flags=flags)\n"
          ]
        },
        {
          "output_type": "display_data",
          "data": {
            "text/plain": [
              "<Figure size 432x288 with 1 Axes>"
            ],
            "image/png": "[encoded data removed]"
          },
          "metadata": {
            "needs_background": "light"
          }
        }
      ]
    },
    {
      "cell_type": "markdown",
      "source": [
        "원핫인코더?"
      ],
      "metadata": {
        "id": "vb-NXkdzv3Yw"
      }
    },
    {
      "cell_type": "code",
      "source": [
        "train['start_node_name'].value_counts()"
      ],
      "metadata": {
        "colab": {
          "base_uri": "https://localhost:8080/"
        },
        "id": "qIytqCBECwva",
        "outputId": "816ebece-cae9-42f5-d5d7-83c9ca970fab"
      },
      "execution_count": null,
      "outputs": [
        {
          "output_type": "execute_result",
          "data": {
            "text/plain": [
              "고성교차로              42169\n",
              "산신주유소              29386\n",
              "미수2교               26635\n",
              "영주교                24381\n",
              "봉개교 시종점            24290\n",
              "                   ...  \n",
              "외산리사무소               934\n",
              "와산리                  881\n",
              "성미가든                 788\n",
              "서귀포시 호근동 1838-4      744\n",
              "CU서귀호근로점             744\n",
              "Name: start_node_name, Length: 487, dtype: int64"
            ]
          },
          "metadata": {},
          "execution_count": 8
        }
      ]
    },
    {
      "cell_type": "code",
      "source": [
        "train['end_node_name'].value_counts()"
      ],
      "metadata": {
        "colab": {
          "base_uri": "https://localhost:8080/"
        },
        "id": "byigTY-_C7rf",
        "outputId": "3d79ca6c-f2ad-4112-fc49-c6dab46304b5"
      },
      "execution_count": null,
      "outputs": [
        {
          "output_type": "execute_result",
          "data": {
            "text/plain": [
              "고성교차로              42265\n",
              "산신주유소              29202\n",
              "구엄교                27510\n",
              "미수2교               26621\n",
              "영주교                24370\n",
              "                   ...  \n",
              "외산리사무소               881\n",
              "대흘교차로                788\n",
              "서귀포시 서호동 308-6       744\n",
              "서귀포시 호근동 1838-4      744\n",
              "CU서귀호근로점             587\n",
              "Name: end_node_name, Length: 487, dtype: int64"
            ]
          },
          "metadata": {},
          "execution_count": 9
        }
      ]
    },
    {
      "cell_type": "code",
      "source": [
        "train['vehicle_restricted'].value_counts()"
      ],
      "metadata": {
        "colab": {
          "base_uri": "https://localhost:8080/"
        },
        "id": "DCThzxbeDKMa",
        "outputId": "ba5002df-b5b0-4020-97d3-4dd1689eaf82"
      },
      "execution_count": null,
      "outputs": [
        {
          "output_type": "execute_result",
          "data": {
            "text/plain": [
              "0.0    4701217\n",
              "Name: vehicle_restricted, dtype: int64"
            ]
          },
          "metadata": {},
          "execution_count": 10
        }
      ]
    },
    {
      "cell_type": "markdown",
      "source": [
        "0 만 있음 제거"
      ],
      "metadata": {
        "id": "FS-UPdLADTVm"
      }
    },
    {
      "cell_type": "markdown",
      "source": [
        "# future enginearing"
      ],
      "metadata": {
        "id": "Zr26o9jSDYV3"
      }
    },
    {
      "cell_type": "code",
      "source": [
        "train.columns"
      ],
      "metadata": {
        "colab": {
          "base_uri": "https://localhost:8080/"
        },
        "id": "xx2i3PgyDv2l",
        "outputId": "1f01b90d-263a-4ae0-cb83-49b2ff3203ac"
      },
      "execution_count": null,
      "outputs": [
        {
          "output_type": "execute_result",
          "data": {
            "text/plain": [
              "Index(['id', 'base_date', 'day_of_week', 'base_hour', 'road_in_use',\n",
              "       'lane_count', 'road_rating', 'road_name', 'multi_linked',\n",
              "       'connect_code', 'maximum_speed_limit', 'vehicle_restricted',\n",
              "       'weight_restricted', 'height_restricted', 'road_type',\n",
              "       'start_node_name', 'start_latitude', 'start_longitude',\n",
              "       'start_turn_restricted', 'end_node_name', 'end_latitude',\n",
              "       'end_longitude', 'end_turn_restricted', 'target'],\n",
              "      dtype='object')"
            ]
          },
          "metadata": {},
          "execution_count": 23
        }
      ]
    },
    {
      "cell_type": "markdown",
      "source": [
        "id - 제거\n",
        "\n",
        "base_date - 월만 뽑아서 씀(7월만 변동이 있음)\n",
        "\n",
        "day_of_week - 의미없음 제거\n",
        "\n",
        "base_hour - 시간대별 변동 있음 8등분?\n",
        "\n",
        "road_in_use - 0, 1 그대로 사용\n",
        "\n",
        "lane_count - 1, 2, 3 그대로 사용( 원핫인코딩 추후 시도)\n",
        "\n",
        "road_rating - 3가지 값 라벨인코딩( 원핫인코딩 추후 시도)\n",
        "\n",
        "multi_linked - 0, 1 그대로 사용\n",
        "\n",
        "connect_code - 0, 103 -> 0, 1로 변경\n",
        "\n",
        "maximum_speed_limit - 40에서 가장 높음, ( 원핫인코딩 추후 시도)\n",
        "\n",
        "vehicle_restricted - 0만 가짐 제거\n",
        "\n",
        "weight_restricted - 최고값에서 감소, ( 원핫인코딩 추후 시도)\n",
        "\n",
        "height_restricted - 0만 가짐 제거\n",
        "\n",
        "road_type - 0, 1 그대로 사용\n",
        "\n",
        "road_name - 지방, 국도, 로, 교, 기타 로 나눈다 원핫 인코딩\n",
        "\n",
        "start_node_name - 600개정도 제거 고려\n",
        "\n",
        "end_node_name - 600개정도 제거 고려\n",
        "\n",
        "start_latitude, start_longitude - 시작점으로 사용\n",
        "\n",
        "end_latitude, end_longitude - 도착점으로 사용 거리 계산\n",
        "\n",
        "start_turn_restricted - 0, 1 로 변환 사용\n",
        "\n",
        "end_turn_restricted - 0, 1 로 변환 사용"
      ],
      "metadata": {
        "id": "J3QctH4vDsX9"
      }
    },
    {
      "cell_type": "markdown",
      "source": [
        "## 날짜 데이터(월만 뽑아서 7월(1), 나머지(0))"
      ],
      "metadata": {
        "id": "ljQLg73RNVPv"
      }
    },
    {
      "cell_type": "code",
      "source": [
        "train['month'] = pd.to_datetime(train['base_date'], format='%Y%m%d').dt.month\n",
        "train['month'] = train['month'].apply(lambda x : 1 if x==7 else 0)\n",
        "test['month'] = pd.to_datetime(test['base_date'], format='%Y%m%d').dt.month\n",
        "test['month'] = test['month'].apply(lambda x : 1 if x==7 else 0)"
      ],
      "metadata": {
        "id": "fsVYQnANNSfI"
      },
      "execution_count": 10,
      "outputs": []
    },
    {
      "cell_type": "code",
      "source": [
        "train['base_hour']"
      ],
      "metadata": {
        "colab": {
          "base_uri": "https://localhost:8080/"
        },
        "id": "9OvM2zpbZbsa",
        "outputId": "bb7a4854-855b-4f00-f632-2a31184e5664"
      },
      "execution_count": 14,
      "outputs": [
        {
          "output_type": "execute_result",
          "data": {
            "text/plain": [
              "0          17\n",
              "1          21\n",
              "2           7\n",
              "3          13\n",
              "4           8\n",
              "           ..\n",
              "4701212    16\n",
              "4701213     2\n",
              "4701214    22\n",
              "4701215     2\n",
              "4701216     6\n",
              "Name: base_hour, Length: 4701217, dtype: int64"
            ]
          },
          "metadata": {},
          "execution_count": 14
        }
      ]
    },
    {
      "cell_type": "markdown",
      "source": [
        "## 시간 데이터 8등분 후 labelencoder"
      ],
      "metadata": {
        "id": "XJamSKlNZuQR"
      }
    },
    {
      "cell_type": "code",
      "source": [
        "train['base_hour'] = pd.cut(train['base_hour'],8)\n",
        "test['base_hour'] = pd.cut(test['base_hour'],8)"
      ],
      "metadata": {
        "id": "4TlI0OxnZK00"
      },
      "execution_count": 11,
      "outputs": []
    },
    {
      "cell_type": "code",
      "source": [
        "lae = LabelEncoder()\n",
        "train['base_hour'] = lae.fit_transform(train[['base_hour']])\n",
        "test['base_hour'] = lae.transform(test[['base_hour']])"
      ],
      "metadata": {
        "colab": {
          "base_uri": "https://localhost:8080/"
        },
        "id": "WvJTyCi8Z50Q",
        "outputId": "a5a67e94-5645-47c5-d39a-26be6756c30d"
      },
      "execution_count": 12,
      "outputs": [
        {
          "output_type": "stream",
          "name": "stderr",
          "text": [
            "/usr/local/lib/python3.7/dist-packages/sklearn/preprocessing/_label.py:115: DataConversionWarning: A column-vector y was passed when a 1d array was expected. Please change the shape of y to (n_samples, ), for example using ravel().\n",
            "  y = column_or_1d(y, warn=True)\n",
            "/usr/local/lib/python3.7/dist-packages/sklearn/preprocessing/_label.py:133: DataConversionWarning: A column-vector y was passed when a 1d array was expected. Please change the shape of y to (n_samples, ), for example using ravel().\n",
            "  y = column_or_1d(y, warn=True)\n"
          ]
        }
      ]
    },
    {
      "cell_type": "markdown",
      "source": [
        "## road_rating 103, 106, 107 라벨 인코딩"
      ],
      "metadata": {
        "id": "RWM3ToBy6n-U"
      }
    },
    {
      "cell_type": "code",
      "source": [
        "train['road_rating'] = lae.fit_transform(train[['road_rating']])\n",
        "test['road_rating'] = lae.transform(test[['road_rating']])"
      ],
      "metadata": {
        "id": "H94S44D-6zN1"
      },
      "execution_count": 13,
      "outputs": []
    },
    {
      "cell_type": "markdown",
      "source": [
        "## connect_code 0, 103 라벨 인코딩"
      ],
      "metadata": {
        "id": "VolM6w5x7NT_"
      }
    },
    {
      "cell_type": "code",
      "source": [
        "train['connect_code'] = lae.fit_transform(train[['connect_code']])\n",
        "test['connect_code'] = lae.transform(test[['connect_code']])"
      ],
      "metadata": {
        "id": "3cWZV3D1JF6N",
        "colab": {
          "base_uri": "https://localhost:8080/"
        },
        "outputId": "d2761794-a3b4-4fe7-acb4-207dfd82e515"
      },
      "execution_count": 14,
      "outputs": [
        {
          "output_type": "stream",
          "name": "stderr",
          "text": [
            "/usr/local/lib/python3.7/dist-packages/sklearn/preprocessing/_label.py:115: DataConversionWarning: A column-vector y was passed when a 1d array was expected. Please change the shape of y to (n_samples, ), for example using ravel().\n",
            "  y = column_or_1d(y, warn=True)\n",
            "/usr/local/lib/python3.7/dist-packages/sklearn/preprocessing/_label.py:133: DataConversionWarning: A column-vector y was passed when a 1d array was expected. Please change the shape of y to (n_samples, ), for example using ravel().\n",
            "  y = column_or_1d(y, warn=True)\n"
          ]
        }
      ]
    },
    {
      "cell_type": "markdown",
      "source": [
        "## road_name (지방, 일반, 로, 교, 로 나눈뒤 원핫인코딩)"
      ],
      "metadata": {
        "id": "7WaCXJyEL4gH"
      }
    },
    {
      "cell_type": "code",
      "source": [
        "train['road_name_h'] = train['road_name'].str[:2]\n",
        "test['road_name_h'] = test['road_name'].str[:2]\n",
        "def road_h(x):\n",
        "    if x == '지방' or x == '일반':\n",
        "        return x\n",
        "    else:\n",
        "        return ''\n",
        "train['road_name_h'] = train['road_name_h'].apply(road_h)\n",
        "test['road_name_h'] = test['road_name_h'].apply(road_h)\n",
        "\n",
        "train['road_name_t'] = train['road_name'].str[-1]\n",
        "test['road_name_t'] = test['road_name'].str[-1]\n",
        "def road_t(x):\n",
        "    if x == '로' or x == '교':\n",
        "        return x\n",
        "    else:\n",
        "        return ''\n",
        "train['road_name_t'] = train['road_name_t'].apply(road_t)\n",
        "test['road_name_t'] = test['road_name_t'].apply(road_t)\n",
        "\n",
        "train['road_name_c'] = train['road_name_h'] + train['road_name_t']\n",
        "test['road_name_c'] = test['road_name_h'] + test['road_name_t']\n",
        "\n",
        "train['road_name'] = train['road_name_c']\n",
        "train = train.drop(['road_name_h', 'road_name_t', 'road_name_c'], axis=1)\n",
        "test['road_name'] = test['road_name_c']\n",
        "test = test.drop(['road_name_h', 'road_name_t', 'road_name_c'], axis=1)"
      ],
      "metadata": {
        "id": "1o-tmaCyMExo"
      },
      "execution_count": 15,
      "outputs": []
    },
    {
      "cell_type": "code",
      "source": [
        "train = pd.get_dummies(train, columns=['road_name'])\n",
        "test = pd.get_dummies(test, columns=['road_name'])"
      ],
      "metadata": {
        "id": "XQ1EUz6_N-KJ"
      },
      "execution_count": 16,
      "outputs": []
    },
    {
      "cell_type": "markdown",
      "source": [
        "## start_latitude, start_longitude - 시작점으로 사용\n",
        "end_latitude, end_longitude - 도착점으로 사용 거리 계산"
      ],
      "metadata": {
        "id": "D6xcZMwOOmWX"
      }
    },
    {
      "cell_type": "code",
      "source": [
        "train['start_latitude'] = train['start_latitude'].apply(lambda x : round(x, 2))\n",
        "train['start_longitude'] = train['start_longitude'].apply(lambda x : round(x, 2))\n",
        "train['end_latitude'] = train['end_latitude'].apply(lambda x : round(x, 2))\n",
        "train['end_longitude'] = train['end_longitude'].apply(lambda x : round(x, 2))\n",
        "\n",
        "test['start_latitude'] = test['start_latitude'].apply(lambda x : round(x, 2))\n",
        "test['start_longitude'] = test['start_longitude'].apply(lambda x : round(x, 2))\n",
        "test['end_latitude'] = test['end_latitude'].apply(lambda x : round(x, 2))\n",
        "test['end_longitude'] = test['end_longitude'].apply(lambda x : round(x, 2))"
      ],
      "metadata": {
        "id": "jr3hzKLNOnG5"
      },
      "execution_count": 17,
      "outputs": []
    },
    {
      "cell_type": "code",
      "source": [
        "train['distance'] = ((train['end_longitude'] - train['start_longitude']) ** 2 + (train['end_latitude'] - train['start_latitude']) ** 2) **0.5\n",
        "test['distance'] = ((test['end_longitude'] - test['start_longitude']) ** 2 + (test['end_latitude'] - test['start_latitude']) ** 2) **0.5"
      ],
      "metadata": {
        "id": "UgKSoKvss9gJ"
      },
      "execution_count": 18,
      "outputs": []
    },
    {
      "cell_type": "code",
      "source": [
        "train['distance'] = train['distance'].apply(lambda x : round(x * 100, 2))\n",
        "test['distance'] = test['distance'].apply(lambda x : round(x * 100, 2))"
      ],
      "metadata": {
        "id": "_vWNkqhetKYI"
      },
      "execution_count": 19,
      "outputs": []
    },
    {
      "cell_type": "markdown",
      "source": [
        "## start_turn_restricted 0, 1로 변환\n",
        "end_turn_restricted - 0, 1 로 변환 사용"
      ],
      "metadata": {
        "id": "K-uiumG1uYqI"
      }
    },
    {
      "cell_type": "code",
      "source": [
        "train['start_turn_restricted'] = lae.fit_transform(train[['start_turn_restricted']])\n",
        "test['start_turn_restricted'] = lae.transform(test[['start_turn_restricted']])\n",
        "\n",
        "train['end_turn_restricted'] = lae.fit_transform(train[['end_turn_restricted']])\n",
        "test['end_turn_restricted'] = lae.transform(test[['end_turn_restricted']])"
      ],
      "metadata": {
        "colab": {
          "base_uri": "https://localhost:8080/"
        },
        "id": "tO1rT_zSubOq",
        "outputId": "ae69f5ec-d01a-44f9-bec4-4eb8098f8a8a"
      },
      "execution_count": 20,
      "outputs": [
        {
          "output_type": "stream",
          "name": "stderr",
          "text": [
            "/usr/local/lib/python3.7/dist-packages/sklearn/preprocessing/_label.py:115: DataConversionWarning: A column-vector y was passed when a 1d array was expected. Please change the shape of y to (n_samples, ), for example using ravel().\n",
            "  y = column_or_1d(y, warn=True)\n",
            "/usr/local/lib/python3.7/dist-packages/sklearn/preprocessing/_label.py:133: DataConversionWarning: A column-vector y was passed when a 1d array was expected. Please change the shape of y to (n_samples, ), for example using ravel().\n",
            "  y = column_or_1d(y, warn=True)\n"
          ]
        }
      ]
    },
    {
      "cell_type": "markdown",
      "source": [
        "## drop feture"
      ],
      "metadata": {
        "id": "l0jOIdAYvZro"
      }
    },
    {
      "cell_type": "code",
      "source": [
        "train  = train.drop(['id', 'base_date', 'day_of_week', 'vehicle_restricted', 'height_restricted', 'start_node_name', 'end_node_name', \n",
        "                     'start_latitude', 'start_longitude', 'end_latitude', 'end_longitude'], axis =1)\n",
        "test  = test.drop(['id', 'base_date', 'day_of_week', 'vehicle_restricted', 'height_restricted', 'start_node_name', 'end_node_name', \n",
        "                     'start_latitude', 'start_longitude', 'end_latitude', 'end_longitude'], axis =1)"
      ],
      "metadata": {
        "id": "EkhvYpquvfIJ"
      },
      "execution_count": 21,
      "outputs": []
    },
    {
      "cell_type": "code",
      "source": [
        "train.columns"
      ],
      "metadata": {
        "colab": {
          "base_uri": "https://localhost:8080/"
        },
        "id": "mc-UZaWLyKcq",
        "outputId": "5b6be32e-7825-442f-f071-58107c85fa88"
      },
      "execution_count": 28,
      "outputs": [
        {
          "output_type": "execute_result",
          "data": {
            "text/plain": [
              "Index(['base_hour', 'road_in_use', 'lane_count', 'road_rating', 'multi_linked',\n",
              "       'connect_code', 'maximum_speed_limit', 'weight_restricted', 'road_type',\n",
              "       'start_turn_restricted', 'end_turn_restricted', 'target', 'distance',\n",
              "       'month', 'road_name_', 'road_name_교', 'road_name_로', 'road_name_일반',\n",
              "       'road_name_지방'],\n",
              "      dtype='object')"
            ]
          },
          "metadata": {},
          "execution_count": 28
        }
      ]
    },
    {
      "cell_type": "code",
      "source": [
        "train.head()"
      ],
      "metadata": {
        "colab": {
          "base_uri": "https://localhost:8080/",
          "height": 288
        },
        "id": "LRyPQVMG1eyR",
        "outputId": "5eff7331-a2c7-4e54-b55b-8dca675f2bcf"
      },
      "execution_count": 31,
      "outputs": [
        {
          "output_type": "execute_result",
          "data": {
            "text/plain": [
              "   base_hour  road_in_use  lane_count  road_rating  multi_linked  \\\n",
              "0          5            0           1            1             0   \n",
              "1          7            0           2            0             0   \n",
              "2          2            0           2            0             0   \n",
              "3          4            0           2            2             0   \n",
              "4          2            0           2            0             0   \n",
              "\n",
              "   connect_code  maximum_speed_limit  weight_restricted  road_type  \\\n",
              "0             0                 60.0            32400.0          3   \n",
              "1             0                 60.0                0.0          0   \n",
              "2             0                 80.0                0.0          0   \n",
              "3             0                 50.0                0.0          0   \n",
              "4             0                 80.0                0.0          0   \n",
              "\n",
              "   start_turn_restricted  end_turn_restricted  target  distance  month  \\\n",
              "0                      0                    0    52.0       0.0      0   \n",
              "1                      1                    1    30.0       0.0      1   \n",
              "2                      0                    0    61.0       1.0      0   \n",
              "3                      0                    0    20.0       0.0      0   \n",
              "4                      0                    0    38.0       0.0      0   \n",
              "\n",
              "   road_name_  road_name_교  road_name_로  road_name_일반  road_name_지방  \n",
              "0           0            0            0             0             1  \n",
              "1           0            0            0             1             0  \n",
              "2           0            0            0             1             0  \n",
              "3           0            0            1             0             0  \n",
              "4           0            0            0             1             0  "
            ],
            "text/html": [
              "\n",
              "  <div id=\"df-9c6f0ee0-9f45-40ba-91c9-a0c49e017e69\">\n",
              "    <div class=\"colab-df-container\">\n",
              "      <div>\n",
              "<style scoped>\n",
              "    .dataframe tbody tr th:only-of-type {\n",
              "        vertical-align: middle;\n",
              "    }\n",
              "\n",
              "    .dataframe tbody tr th {\n",
              "        vertical-align: top;\n",
              "    }\n",
              "\n",
              "    .dataframe thead th {\n",
              "        text-align: right;\n",
              "    }\n",
              "</style>\n",
              "<table border=\"1\" class=\"dataframe\">\n",
              "  <thead>\n",
              "    <tr style=\"text-align: right;\">\n",
              "      <th></th>\n",
              "      <th>base_hour</th>\n",
              "      <th>road_in_use</th>\n",
              "      <th>lane_count</th>\n",
              "      <th>road_rating</th>\n",
              "      <th>multi_linked</th>\n",
              "      <th>connect_code</th>\n",
              "      <th>maximum_speed_limit</th>\n",
              "      <th>weight_restricted</th>\n",
              "      <th>road_type</th>\n",
              "      <th>start_turn_restricted</th>\n",
              "      <th>end_turn_restricted</th>\n",
              "      <th>target</th>\n",
              "      <th>distance</th>\n",
              "      <th>month</th>\n",
              "      <th>road_name_</th>\n",
              "      <th>road_name_교</th>\n",
              "      <th>road_name_로</th>\n",
              "      <th>road_name_일반</th>\n",
              "      <th>road_name_지방</th>\n",
              "    </tr>\n",
              "  </thead>\n",
              "  <tbody>\n",
              "    <tr>\n",
              "      <th>0</th>\n",
              "      <td>5</td>\n",
              "      <td>0</td>\n",
              "      <td>1</td>\n",
              "      <td>1</td>\n",
              "      <td>0</td>\n",
              "      <td>0</td>\n",
              "      <td>60.0</td>\n",
              "      <td>32400.0</td>\n",
              "      <td>3</td>\n",
              "      <td>0</td>\n",
              "      <td>0</td>\n",
              "      <td>52.0</td>\n",
              "      <td>0.0</td>\n",
              "      <td>0</td>\n",
              "      <td>0</td>\n",
              "      <td>0</td>\n",
              "      <td>0</td>\n",
              "      <td>0</td>\n",
              "      <td>1</td>\n",
              "    </tr>\n",
              "    <tr>\n",
              "      <th>1</th>\n",
              "      <td>7</td>\n",
              "      <td>0</td>\n",
              "      <td>2</td>\n",
              "      <td>0</td>\n",
              "      <td>0</td>\n",
              "      <td>0</td>\n",
              "      <td>60.0</td>\n",
              "      <td>0.0</td>\n",
              "      <td>0</td>\n",
              "      <td>1</td>\n",
              "      <td>1</td>\n",
              "      <td>30.0</td>\n",
              "      <td>0.0</td>\n",
              "      <td>1</td>\n",
              "      <td>0</td>\n",
              "      <td>0</td>\n",
              "      <td>0</td>\n",
              "      <td>1</td>\n",
              "      <td>0</td>\n",
              "    </tr>\n",
              "    <tr>\n",
              "      <th>2</th>\n",
              "      <td>2</td>\n",
              "      <td>0</td>\n",
              "      <td>2</td>\n",
              "      <td>0</td>\n",
              "      <td>0</td>\n",
              "      <td>0</td>\n",
              "      <td>80.0</td>\n",
              "      <td>0.0</td>\n",
              "      <td>0</td>\n",
              "      <td>0</td>\n",
              "      <td>0</td>\n",
              "      <td>61.0</td>\n",
              "      <td>1.0</td>\n",
              "      <td>0</td>\n",
              "      <td>0</td>\n",
              "      <td>0</td>\n",
              "      <td>0</td>\n",
              "      <td>1</td>\n",
              "      <td>0</td>\n",
              "    </tr>\n",
              "    <tr>\n",
              "      <th>3</th>\n",
              "      <td>4</td>\n",
              "      <td>0</td>\n",
              "      <td>2</td>\n",
              "      <td>2</td>\n",
              "      <td>0</td>\n",
              "      <td>0</td>\n",
              "      <td>50.0</td>\n",
              "      <td>0.0</td>\n",
              "      <td>0</td>\n",
              "      <td>0</td>\n",
              "      <td>0</td>\n",
              "      <td>20.0</td>\n",
              "      <td>0.0</td>\n",
              "      <td>0</td>\n",
              "      <td>0</td>\n",
              "      <td>0</td>\n",
              "      <td>1</td>\n",
              "      <td>0</td>\n",
              "      <td>0</td>\n",
              "    </tr>\n",
              "    <tr>\n",
              "      <th>4</th>\n",
              "      <td>2</td>\n",
              "      <td>0</td>\n",
              "      <td>2</td>\n",
              "      <td>0</td>\n",
              "      <td>0</td>\n",
              "      <td>0</td>\n",
              "      <td>80.0</td>\n",
              "      <td>0.0</td>\n",
              "      <td>0</td>\n",
              "      <td>0</td>\n",
              "      <td>0</td>\n",
              "      <td>38.0</td>\n",
              "      <td>0.0</td>\n",
              "      <td>0</td>\n",
              "      <td>0</td>\n",
              "      <td>0</td>\n",
              "      <td>0</td>\n",
              "      <td>1</td>\n",
              "      <td>0</td>\n",
              "    </tr>\n",
              "  </tbody>\n",
              "</table>\n",
              "</div>\n",
              "      <button class=\"colab-df-convert\" onclick=\"convertToInteractive('df-9c6f0ee0-9f45-40ba-91c9-a0c49e017e69')\"\n",
              "              title=\"Convert this dataframe to an interactive table.\"\n",
              "              style=\"display:none;\">\n",
              "        \n",
              "  <svg xmlns=\"http://www.w3.org/2000/svg\" height=\"24px\"viewBox=\"0 0 24 24\"\n",
              "       width=\"24px\">\n",
              "    <path d=\"M0 0h24v24H0V0z\" fill=\"none\"/>\n",
              "    <path d=\"M18.56 5.44l.94 2.06.94-2.06 2.06-.94-2.06-.94-.94-2.06-.94 2.06-2.06.94zm-11 1L8.5 8.5l.94-2.06 2.06-.94-2.06-.94L8.5 2.5l-.94 2.06-2.06.94zm10 10l.94 2.06.94-2.06 2.06-.94-2.06-.94-.94-2.06-.94 2.06-2.06.94z\"/><path d=\"M17.41 7.96l-1.37-1.37c-.4-.4-.92-.59-1.43-.59-.52 0-1.04.2-1.43.59L10.3 9.45l-7.72 7.72c-.78.78-.78 2.05 0 2.83L4 21.41c.39.39.9.59 1.41.59.51 0 1.02-.2 1.41-.59l7.78-7.78 2.81-2.81c.8-.78.8-2.07 0-2.86zM5.41 20L4 18.59l7.72-7.72 1.47 1.35L5.41 20z\"/>\n",
              "  </svg>\n",
              "      </button>\n",
              "      \n",
              "  <style>\n",
              "    .colab-df-container {\n",
              "      display:flex;\n",
              "      flex-wrap:wrap;\n",
              "      gap: 12px;\n",
              "    }\n",
              "\n",
              "    .colab-df-convert {\n",
              "      background-color: #E8F0FE;\n",
              "      border: none;\n",
              "      border-radius: 50%;\n",
              "      cursor: pointer;\n",
              "      display: none;\n",
              "      fill: #1967D2;\n",
              "      height: 32px;\n",
              "      padding: 0 0 0 0;\n",
              "      width: 32px;\n",
              "    }\n",
              "\n",
              "    .colab-df-convert:hover {\n",
              "      background-color: #E2EBFA;\n",
              "      box-shadow: 0px 1px 2px rgba(60, 64, 67, 0.3), 0px 1px 3px 1px rgba(60, 64, 67, 0.15);\n",
              "      fill: #174EA6;\n",
              "    }\n",
              "\n",
              "    [theme=dark] .colab-df-convert {\n",
              "      background-color: #3B4455;\n",
              "      fill: #D2E3FC;\n",
              "    }\n",
              "\n",
              "    [theme=dark] .colab-df-convert:hover {\n",
              "      background-color: #434B5C;\n",
              "      box-shadow: 0px 1px 3px 1px rgba(0, 0, 0, 0.15);\n",
              "      filter: drop-shadow(0px 1px 2px rgba(0, 0, 0, 0.3));\n",
              "      fill: #FFFFFF;\n",
              "    }\n",
              "  </style>\n",
              "\n",
              "      <script>\n",
              "        const buttonEl =\n",
              "          document.querySelector('#df-9c6f0ee0-9f45-40ba-91c9-a0c49e017e69 button.colab-df-convert');\n",
              "        buttonEl.style.display =\n",
              "          google.colab.kernel.accessAllowed ? 'block' : 'none';\n",
              "\n",
              "        async function convertToInteractive(key) {\n",
              "          const element = document.querySelector('#df-9c6f0ee0-9f45-40ba-91c9-a0c49e017e69');\n",
              "          const dataTable =\n",
              "            await google.colab.kernel.invokeFunction('convertToInteractive',\n",
              "                                                     [key], {});\n",
              "          if (!dataTable) return;\n",
              "\n",
              "          const docLinkHtml = 'Like what you see? Visit the ' +\n",
              "            '<a target=\"_blank\" href=https://colab.research.google.com/notebooks/data_table.ipynb>data table notebook</a>'\n",
              "            + ' to learn more about interactive tables.';\n",
              "          element.innerHTML = '';\n",
              "          dataTable['output_type'] = 'display_data';\n",
              "          await google.colab.output.renderOutput(dataTable, element);\n",
              "          const docLink = document.createElement('div');\n",
              "          docLink.innerHTML = docLinkHtml;\n",
              "          element.appendChild(docLink);\n",
              "        }\n",
              "      </script>\n",
              "    </div>\n",
              "  </div>\n",
              "  "
            ]
          },
          "metadata": {},
          "execution_count": 31
        }
      ]
    },
    {
      "cell_type": "code",
      "source": [
        "train.describe()"
      ],
      "metadata": {
        "colab": {
          "base_uri": "https://localhost:8080/",
          "height": 382
        },
        "id": "ev8s39wM2Eo0",
        "outputId": "1d66f63c-1575-46ee-c218-99875de5935a"
      },
      "execution_count": 35,
      "outputs": [
        {
          "output_type": "execute_result",
          "data": {
            "text/plain": [
              "          base_hour   road_in_use    lane_count   road_rating  multi_linked  \\\n",
              "count  4.701217e+06  4.701217e+06  4.701217e+06  4.701217e+06  4.701217e+06   \n",
              "mean   3.640578e+00  1.362413e-03  1.836651e+00  8.772026e-01  4.762597e-04   \n",
              "std    2.231292e+00  3.688573e-02  6.877513e-01  8.836439e-01  2.181818e-02   \n",
              "min    0.000000e+00  0.000000e+00  1.000000e+00  0.000000e+00  0.000000e+00   \n",
              "25%    2.000000e+00  0.000000e+00  1.000000e+00  0.000000e+00  0.000000e+00   \n",
              "50%    4.000000e+00  0.000000e+00  2.000000e+00  1.000000e+00  0.000000e+00   \n",
              "75%    6.000000e+00  0.000000e+00  2.000000e+00  2.000000e+00  0.000000e+00   \n",
              "max    7.000000e+00  1.000000e+00  3.000000e+00  2.000000e+00  1.000000e+00   \n",
              "\n",
              "       connect_code  maximum_speed_limit  weight_restricted     road_type  \\\n",
              "count  4.701217e+06         4.701217e+06       4.701217e+06  4.701217e+06   \n",
              "mean   2.582735e-03         6.125329e+01       5.618742e+03  6.152237e-01   \n",
              "std    5.075496e-02         1.213354e+01       1.395343e+04  1.211268e+00   \n",
              "min    0.000000e+00         3.000000e+01       0.000000e+00  0.000000e+00   \n",
              "25%    0.000000e+00         5.000000e+01       0.000000e+00  0.000000e+00   \n",
              "50%    0.000000e+00         6.000000e+01       0.000000e+00  0.000000e+00   \n",
              "75%    0.000000e+00         7.000000e+01       0.000000e+00  0.000000e+00   \n",
              "max    1.000000e+00         8.000000e+01       5.000000e+04  3.000000e+00   \n",
              "\n",
              "       start_turn_restricted  end_turn_restricted        target      distance  \\\n",
              "count           4.701217e+06         4.701217e+06  4.701217e+06  4.701217e+06   \n",
              "mean            9.816947e-02         9.816947e-02  4.278844e+01  4.932778e-01   \n",
              "std             2.975437e-01         2.975437e-01  1.595443e+01  7.492506e-01   \n",
              "min             0.000000e+00         0.000000e+00  1.000000e+00  0.000000e+00   \n",
              "25%             0.000000e+00         0.000000e+00  3.000000e+01  0.000000e+00   \n",
              "50%             0.000000e+00         0.000000e+00  4.300000e+01  0.000000e+00   \n",
              "75%             0.000000e+00         0.000000e+00  5.400000e+01  1.000000e+00   \n",
              "max             1.000000e+00         1.000000e+00  1.130000e+02  5.000000e+00   \n",
              "\n",
              "              month    road_name_   road_name_교   road_name_로  road_name_일반  \\\n",
              "count  4.701217e+06  4.701217e+06  4.701217e+06  4.701217e+06  4.701217e+06   \n",
              "mean   5.843061e-02  1.232964e-01  1.271479e-02  2.585739e-01  4.567930e-01   \n",
              "std    2.345559e-01  3.287771e-01  1.120407e-01  4.378510e-01  4.981297e-01   \n",
              "min    0.000000e+00  0.000000e+00  0.000000e+00  0.000000e+00  0.000000e+00   \n",
              "25%    0.000000e+00  0.000000e+00  0.000000e+00  0.000000e+00  0.000000e+00   \n",
              "50%    0.000000e+00  0.000000e+00  0.000000e+00  0.000000e+00  0.000000e+00   \n",
              "75%    0.000000e+00  0.000000e+00  0.000000e+00  1.000000e+00  1.000000e+00   \n",
              "max    1.000000e+00  1.000000e+00  1.000000e+00  1.000000e+00  1.000000e+00   \n",
              "\n",
              "       road_name_지방  \n",
              "count  4.701217e+06  \n",
              "mean   1.486219e-01  \n",
              "std    3.557155e-01  \n",
              "min    0.000000e+00  \n",
              "25%    0.000000e+00  \n",
              "50%    0.000000e+00  \n",
              "75%    0.000000e+00  \n",
              "max    1.000000e+00  "
            ],
            "text/html": [
              "\n",
              "  <div id=\"df-109870d9-54fc-4c7e-88d5-92d30a46ddcc\">\n",
              "    <div class=\"colab-df-container\">\n",
              "      <div>\n",
              "<style scoped>\n",
              "    .dataframe tbody tr th:only-of-type {\n",
              "        vertical-align: middle;\n",
              "    }\n",
              "\n",
              "    .dataframe tbody tr th {\n",
              "        vertical-align: top;\n",
              "    }\n",
              "\n",
              "    .dataframe thead th {\n",
              "        text-align: right;\n",
              "    }\n",
              "</style>\n",
              "<table border=\"1\" class=\"dataframe\">\n",
              "  <thead>\n",
              "    <tr style=\"text-align: right;\">\n",
              "      <th></th>\n",
              "      <th>base_hour</th>\n",
              "      <th>road_in_use</th>\n",
              "      <th>lane_count</th>\n",
              "      <th>road_rating</th>\n",
              "      <th>multi_linked</th>\n",
              "      <th>connect_code</th>\n",
              "      <th>maximum_speed_limit</th>\n",
              "      <th>weight_restricted</th>\n",
              "      <th>road_type</th>\n",
              "      <th>start_turn_restricted</th>\n",
              "      <th>end_turn_restricted</th>\n",
              "      <th>target</th>\n",
              "      <th>distance</th>\n",
              "      <th>month</th>\n",
              "      <th>road_name_</th>\n",
              "      <th>road_name_교</th>\n",
              "      <th>road_name_로</th>\n",
              "      <th>road_name_일반</th>\n",
              "      <th>road_name_지방</th>\n",
              "    </tr>\n",
              "  </thead>\n",
              "  <tbody>\n",
              "    <tr>\n",
              "      <th>count</th>\n",
              "      <td>4.701217e+06</td>\n",
              "      <td>4.701217e+06</td>\n",
              "      <td>4.701217e+06</td>\n",
              "      <td>4.701217e+06</td>\n",
              "      <td>4.701217e+06</td>\n",
              "      <td>4.701217e+06</td>\n",
              "      <td>4.701217e+06</td>\n",
              "      <td>4.701217e+06</td>\n",
              "      <td>4.701217e+06</td>\n",
              "      <td>4.701217e+06</td>\n",
              "      <td>4.701217e+06</td>\n",
              "      <td>4.701217e+06</td>\n",
              "      <td>4.701217e+06</td>\n",
              "      <td>4.701217e+06</td>\n",
              "      <td>4.701217e+06</td>\n",
              "      <td>4.701217e+06</td>\n",
              "      <td>4.701217e+06</td>\n",
              "      <td>4.701217e+06</td>\n",
              "      <td>4.701217e+06</td>\n",
              "    </tr>\n",
              "    <tr>\n",
              "      <th>mean</th>\n",
              "      <td>3.640578e+00</td>\n",
              "      <td>1.362413e-03</td>\n",
              "      <td>1.836651e+00</td>\n",
              "      <td>8.772026e-01</td>\n",
              "      <td>4.762597e-04</td>\n",
              "      <td>2.582735e-03</td>\n",
              "      <td>6.125329e+01</td>\n",
              "      <td>5.618742e+03</td>\n",
              "      <td>6.152237e-01</td>\n",
              "      <td>9.816947e-02</td>\n",
              "      <td>9.816947e-02</td>\n",
              "      <td>4.278844e+01</td>\n",
              "      <td>4.932778e-01</td>\n",
              "      <td>5.843061e-02</td>\n",
              "      <td>1.232964e-01</td>\n",
              "      <td>1.271479e-02</td>\n",
              "      <td>2.585739e-01</td>\n",
              "      <td>4.567930e-01</td>\n",
              "      <td>1.486219e-01</td>\n",
              "    </tr>\n",
              "    <tr>\n",
              "      <th>std</th>\n",
              "      <td>2.231292e+00</td>\n",
              "      <td>3.688573e-02</td>\n",
              "      <td>6.877513e-01</td>\n",
              "      <td>8.836439e-01</td>\n",
              "      <td>2.181818e-02</td>\n",
              "      <td>5.075496e-02</td>\n",
              "      <td>1.213354e+01</td>\n",
              "      <td>1.395343e+04</td>\n",
              "      <td>1.211268e+00</td>\n",
              "      <td>2.975437e-01</td>\n",
              "      <td>2.975437e-01</td>\n",
              "      <td>1.595443e+01</td>\n",
              "      <td>7.492506e-01</td>\n",
              "      <td>2.345559e-01</td>\n",
              "      <td>3.287771e-01</td>\n",
              "      <td>1.120407e-01</td>\n",
              "      <td>4.378510e-01</td>\n",
              "      <td>4.981297e-01</td>\n",
              "      <td>3.557155e-01</td>\n",
              "    </tr>\n",
              "    <tr>\n",
              "      <th>min</th>\n",
              "      <td>0.000000e+00</td>\n",
              "      <td>0.000000e+00</td>\n",
              "      <td>1.000000e+00</td>\n",
              "      <td>0.000000e+00</td>\n",
              "      <td>0.000000e+00</td>\n",
              "      <td>0.000000e+00</td>\n",
              "      <td>3.000000e+01</td>\n",
              "      <td>0.000000e+00</td>\n",
              "      <td>0.000000e+00</td>\n",
              "      <td>0.000000e+00</td>\n",
              "      <td>0.000000e+00</td>\n",
              "      <td>1.000000e+00</td>\n",
              "      <td>0.000000e+00</td>\n",
              "      <td>0.000000e+00</td>\n",
              "      <td>0.000000e+00</td>\n",
              "      <td>0.000000e+00</td>\n",
              "      <td>0.000000e+00</td>\n",
              "      <td>0.000000e+00</td>\n",
              "      <td>0.000000e+00</td>\n",
              "    </tr>\n",
              "    <tr>\n",
              "      <th>25%</th>\n",
              "      <td>2.000000e+00</td>\n",
              "      <td>0.000000e+00</td>\n",
              "      <td>1.000000e+00</td>\n",
              "      <td>0.000000e+00</td>\n",
              "      <td>0.000000e+00</td>\n",
              "      <td>0.000000e+00</td>\n",
              "      <td>5.000000e+01</td>\n",
              "      <td>0.000000e+00</td>\n",
              "      <td>0.000000e+00</td>\n",
              "      <td>0.000000e+00</td>\n",
              "      <td>0.000000e+00</td>\n",
              "      <td>3.000000e+01</td>\n",
              "      <td>0.000000e+00</td>\n",
              "      <td>0.000000e+00</td>\n",
              "      <td>0.000000e+00</td>\n",
              "      <td>0.000000e+00</td>\n",
              "      <td>0.000000e+00</td>\n",
              "      <td>0.000000e+00</td>\n",
              "      <td>0.000000e+00</td>\n",
              "    </tr>\n",
              "    <tr>\n",
              "      <th>50%</th>\n",
              "      <td>4.000000e+00</td>\n",
              "      <td>0.000000e+00</td>\n",
              "      <td>2.000000e+00</td>\n",
              "      <td>1.000000e+00</td>\n",
              "      <td>0.000000e+00</td>\n",
              "      <td>0.000000e+00</td>\n",
              "      <td>6.000000e+01</td>\n",
              "      <td>0.000000e+00</td>\n",
              "      <td>0.000000e+00</td>\n",
              "      <td>0.000000e+00</td>\n",
              "      <td>0.000000e+00</td>\n",
              "      <td>4.300000e+01</td>\n",
              "      <td>0.000000e+00</td>\n",
              "      <td>0.000000e+00</td>\n",
              "      <td>0.000000e+00</td>\n",
              "      <td>0.000000e+00</td>\n",
              "      <td>0.000000e+00</td>\n",
              "      <td>0.000000e+00</td>\n",
              "      <td>0.000000e+00</td>\n",
              "    </tr>\n",
              "    <tr>\n",
              "      <th>75%</th>\n",
              "      <td>6.000000e+00</td>\n",
              "      <td>0.000000e+00</td>\n",
              "      <td>2.000000e+00</td>\n",
              "      <td>2.000000e+00</td>\n",
              "      <td>0.000000e+00</td>\n",
              "      <td>0.000000e+00</td>\n",
              "      <td>7.000000e+01</td>\n",
              "      <td>0.000000e+00</td>\n",
              "      <td>0.000000e+00</td>\n",
              "      <td>0.000000e+00</td>\n",
              "      <td>0.000000e+00</td>\n",
              "      <td>5.400000e+01</td>\n",
              "      <td>1.000000e+00</td>\n",
              "      <td>0.000000e+00</td>\n",
              "      <td>0.000000e+00</td>\n",
              "      <td>0.000000e+00</td>\n",
              "      <td>1.000000e+00</td>\n",
              "      <td>1.000000e+00</td>\n",
              "      <td>0.000000e+00</td>\n",
              "    </tr>\n",
              "    <tr>\n",
              "      <th>max</th>\n",
              "      <td>7.000000e+00</td>\n",
              "      <td>1.000000e+00</td>\n",
              "      <td>3.000000e+00</td>\n",
              "      <td>2.000000e+00</td>\n",
              "      <td>1.000000e+00</td>\n",
              "      <td>1.000000e+00</td>\n",
              "      <td>8.000000e+01</td>\n",
              "      <td>5.000000e+04</td>\n",
              "      <td>3.000000e+00</td>\n",
              "      <td>1.000000e+00</td>\n",
              "      <td>1.000000e+00</td>\n",
              "      <td>1.130000e+02</td>\n",
              "      <td>5.000000e+00</td>\n",
              "      <td>1.000000e+00</td>\n",
              "      <td>1.000000e+00</td>\n",
              "      <td>1.000000e+00</td>\n",
              "      <td>1.000000e+00</td>\n",
              "      <td>1.000000e+00</td>\n",
              "      <td>1.000000e+00</td>\n",
              "    </tr>\n",
              "  </tbody>\n",
              "</table>\n",
              "</div>\n",
              "      <button class=\"colab-df-convert\" onclick=\"convertToInteractive('df-109870d9-54fc-4c7e-88d5-92d30a46ddcc')\"\n",
              "              title=\"Convert this dataframe to an interactive table.\"\n",
              "              style=\"display:none;\">\n",
              "        \n",
              "  <svg xmlns=\"http://www.w3.org/2000/svg\" height=\"24px\"viewBox=\"0 0 24 24\"\n",
              "       width=\"24px\">\n",
              "    <path d=\"M0 0h24v24H0V0z\" fill=\"none\"/>\n",
              "    <path d=\"M18.56 5.44l.94 2.06.94-2.06 2.06-.94-2.06-.94-.94-2.06-.94 2.06-2.06.94zm-11 1L8.5 8.5l.94-2.06 2.06-.94-2.06-.94L8.5 2.5l-.94 2.06-2.06.94zm10 10l.94 2.06.94-2.06 2.06-.94-2.06-.94-.94-2.06-.94 2.06-2.06.94z\"/><path d=\"M17.41 7.96l-1.37-1.37c-.4-.4-.92-.59-1.43-.59-.52 0-1.04.2-1.43.59L10.3 9.45l-7.72 7.72c-.78.78-.78 2.05 0 2.83L4 21.41c.39.39.9.59 1.41.59.51 0 1.02-.2 1.41-.59l7.78-7.78 2.81-2.81c.8-.78.8-2.07 0-2.86zM5.41 20L4 18.59l7.72-7.72 1.47 1.35L5.41 20z\"/>\n",
              "  </svg>\n",
              "      </button>\n",
              "      \n",
              "  <style>\n",
              "    .colab-df-container {\n",
              "      display:flex;\n",
              "      flex-wrap:wrap;\n",
              "      gap: 12px;\n",
              "    }\n",
              "\n",
              "    .colab-df-convert {\n",
              "      background-color: #E8F0FE;\n",
              "      border: none;\n",
              "      border-radius: 50%;\n",
              "      cursor: pointer;\n",
              "      display: none;\n",
              "      fill: #1967D2;\n",
              "      height: 32px;\n",
              "      padding: 0 0 0 0;\n",
              "      width: 32px;\n",
              "    }\n",
              "\n",
              "    .colab-df-convert:hover {\n",
              "      background-color: #E2EBFA;\n",
              "      box-shadow: 0px 1px 2px rgba(60, 64, 67, 0.3), 0px 1px 3px 1px rgba(60, 64, 67, 0.15);\n",
              "      fill: #174EA6;\n",
              "    }\n",
              "\n",
              "    [theme=dark] .colab-df-convert {\n",
              "      background-color: #3B4455;\n",
              "      fill: #D2E3FC;\n",
              "    }\n",
              "\n",
              "    [theme=dark] .colab-df-convert:hover {\n",
              "      background-color: #434B5C;\n",
              "      box-shadow: 0px 1px 3px 1px rgba(0, 0, 0, 0.15);\n",
              "      filter: drop-shadow(0px 1px 2px rgba(0, 0, 0, 0.3));\n",
              "      fill: #FFFFFF;\n",
              "    }\n",
              "  </style>\n",
              "\n",
              "      <script>\n",
              "        const buttonEl =\n",
              "          document.querySelector('#df-109870d9-54fc-4c7e-88d5-92d30a46ddcc button.colab-df-convert');\n",
              "        buttonEl.style.display =\n",
              "          google.colab.kernel.accessAllowed ? 'block' : 'none';\n",
              "\n",
              "        async function convertToInteractive(key) {\n",
              "          const element = document.querySelector('#df-109870d9-54fc-4c7e-88d5-92d30a46ddcc');\n",
              "          const dataTable =\n",
              "            await google.colab.kernel.invokeFunction('convertToInteractive',\n",
              "                                                     [key], {});\n",
              "          if (!dataTable) return;\n",
              "\n",
              "          const docLinkHtml = 'Like what you see? Visit the ' +\n",
              "            '<a target=\"_blank\" href=https://colab.research.google.com/notebooks/data_table.ipynb>data table notebook</a>'\n",
              "            + ' to learn more about interactive tables.';\n",
              "          element.innerHTML = '';\n",
              "          dataTable['output_type'] = 'display_data';\n",
              "          await google.colab.output.renderOutput(dataTable, element);\n",
              "          const docLink = document.createElement('div');\n",
              "          docLink.innerHTML = docLinkHtml;\n",
              "          element.appendChild(docLink);\n",
              "        }\n",
              "      </script>\n",
              "    </div>\n",
              "  </div>\n",
              "  "
            ]
          },
          "metadata": {},
          "execution_count": 35
        }
      ]
    },
    {
      "cell_type": "code",
      "source": [
        "mms_l = ['base_hour', 'lane_count', 'lane_count', 'road_rating', 'maximum_speed_limit', 'weight_restricted', 'road_type','distance']\n",
        "mms = MinMaxScaler()\n",
        "for i in mms_l:\n",
        "    train[i] = mms.fit_transform(train[[i]])\n",
        "    test[i] = mms.transform(test[[i]])"
      ],
      "metadata": {
        "id": "vierMfzH1x-6"
      },
      "execution_count": 22,
      "outputs": []
    },
    {
      "cell_type": "code",
      "source": [
        "y_train = train.pop('target')\n",
        "x_train = train.copy()"
      ],
      "metadata": {
        "id": "CIo7Ffw56cwU"
      },
      "execution_count": 37,
      "outputs": []
    },
    {
      "cell_type": "code",
      "source": [
        "x_train.to_csv('x_train.csv', index=False)\n",
        "y_train.to_csv('y_train.csv', index=False)\n",
        "test.to_csv('x_test.csv', index=False)"
      ],
      "metadata": {
        "id": "olZW9qxm6wkj"
      },
      "execution_count": 23,
      "outputs": []
    },
    {
      "cell_type": "code",
      "source": [
        "xx = pd.concat([x_train, y_train], axis=1)"
      ],
      "metadata": {
        "id": "uyIPaufC9pVg"
      },
      "execution_count": 31,
      "outputs": []
    },
    {
      "cell_type": "code",
      "source": [
        "plt.figure(figsize=(20,20))\n",
        "sns.heatmap(xx.corr(), cmap='jet', annot=True)\n",
        "plt.show()"
      ],
      "metadata": {
        "colab": {
          "base_uri": "https://localhost:8080/",
          "height": 1000
        },
        "id": "C9o_qYy490hK",
        "outputId": "40e4cf92-699e-4daa-ae1f-11c8e81dcb14"
      },
      "execution_count": 36,
      "outputs": [
        {
          "output_type": "stream",
          "name": "stderr",
          "text": [
            "/usr/local/lib/python3.7/dist-packages/matplotlib/backends/backend_agg.py:214: RuntimeWarning: Glyph 44368 missing from current font.\n",
            "  font.set_text(s, 0.0, flags=flags)\n",
            "/usr/local/lib/python3.7/dist-packages/matplotlib/backends/backend_agg.py:214: RuntimeWarning: Glyph 47196 missing from current font.\n",
            "  font.set_text(s, 0.0, flags=flags)\n",
            "/usr/local/lib/python3.7/dist-packages/matplotlib/backends/backend_agg.py:214: RuntimeWarning: Glyph 51068 missing from current font.\n",
            "  font.set_text(s, 0.0, flags=flags)\n",
            "/usr/local/lib/python3.7/dist-packages/matplotlib/backends/backend_agg.py:214: RuntimeWarning: Glyph 48152 missing from current font.\n",
            "  font.set_text(s, 0.0, flags=flags)\n",
            "/usr/local/lib/python3.7/dist-packages/matplotlib/backends/backend_agg.py:214: RuntimeWarning: Glyph 51648 missing from current font.\n",
            "  font.set_text(s, 0.0, flags=flags)\n",
            "/usr/local/lib/python3.7/dist-packages/matplotlib/backends/backend_agg.py:214: RuntimeWarning: Glyph 48169 missing from current font.\n",
            "  font.set_text(s, 0.0, flags=flags)\n",
            "/usr/local/lib/python3.7/dist-packages/matplotlib/backends/backend_agg.py:183: RuntimeWarning: Glyph 44368 missing from current font.\n",
            "  font.set_text(s, 0, flags=flags)\n",
            "/usr/local/lib/python3.7/dist-packages/matplotlib/backends/backend_agg.py:183: RuntimeWarning: Glyph 47196 missing from current font.\n",
            "  font.set_text(s, 0, flags=flags)\n",
            "/usr/local/lib/python3.7/dist-packages/matplotlib/backends/backend_agg.py:183: RuntimeWarning: Glyph 51068 missing from current font.\n",
            "  font.set_text(s, 0, flags=flags)\n",
            "/usr/local/lib/python3.7/dist-packages/matplotlib/backends/backend_agg.py:183: RuntimeWarning: Glyph 48152 missing from current font.\n",
            "  font.set_text(s, 0, flags=flags)\n",
            "/usr/local/lib/python3.7/dist-packages/matplotlib/backends/backend_agg.py:183: RuntimeWarning: Glyph 51648 missing from current font.\n",
            "  font.set_text(s, 0, flags=flags)\n",
            "/usr/local/lib/python3.7/dist-packages/matplotlib/backends/backend_agg.py:183: RuntimeWarning: Glyph 48169 missing from current font.\n",
            "  font.set_text(s, 0, flags=flags)\n"
          ]
        },
        {
          "output_type": "display_data",
          "data": {
            "text/plain": [
              "<Figure size 1440x1440 with 2 Axes>"
            ],
            "image/png": "[encoded data removed]"
          },
          "metadata": {
            "needs_background": "light"
          }
        }
      ]
    },
    {
      "cell_type": "markdown",
      "source": [
        "# data load"
      ],
      "metadata": {
        "id": "4Hmiv8QHzm7p"
      }
    },
    {
      "cell_type": "code",
      "source": [
        "x_train = pd.read_csv('/content/drive/MyDrive/Colab Notebooks/데이콘/제주도 도로 교통량 예측/x_train.csv')\n",
        "y_train = pd.read_csv('/content/drive/MyDrive/Colab Notebooks/데이콘/제주도 도로 교통량 예측/y_train.csv')\n",
        "x_test = pd.read_csv('/content/drive/MyDrive/Colab Notebooks/데이콘/제주도 도로 교통량 예측/x_test.csv')"
      ],
      "metadata": {
        "id": "tBNpr_thDFsZ"
      },
      "execution_count": 28,
      "outputs": []
    },
    {
      "cell_type": "markdown",
      "source": [
        "## model select"
      ],
      "metadata": {
        "id": "k-Fpblu7DFG1"
      }
    },
    {
      "cell_type": "code",
      "source": [
        "x_ttrain, x_ttest, y_ttrain, y_ttest = train_test_split(x_train, y_train, test_size=0.1)"
      ],
      "metadata": {
        "id": "Q3-JvJYZDIQ8"
      },
      "execution_count": 4,
      "outputs": []
    },
    {
      "cell_type": "code",
      "source": [
        "lir = LinearRegression()\n",
        "svr = SVR()\n",
        "knr = KNeighborsRegressor()\n",
        "rfr = RandomForestRegressor()\n",
        "xgb = XGBRegressor()\n",
        "lgbr = LGBMRegressor()\n",
        "cat = CatBoostRegressor(verbose=0)\n",
        "models = [lir, rfr, xgb, lgbr, cat]\n",
        "for i in models:\n",
        "    model = i.fit(x_ttrain, y_ttrain)\n",
        "    sc = round(model.score(x_ttrain, y_ttrain),2)\n",
        "    pre = model.predict(x_ttest)\n",
        "    mae = round(mean_absolute_error(pre, y_ttest),2)\n",
        "    print(f'model : {model.__class__.__name__}, sc : {sc}, mae : {mae}')\n"
      ],
      "metadata": {
        "colab": {
          "base_uri": "https://localhost:8080/",
          "height": 543
        },
        "id": "qbJX2M-1D8fz",
        "outputId": "1015d97d-b909-4435-83b9-e197f7021219"
      },
      "execution_count": 6,
      "outputs": [
        {
          "output_type": "stream",
          "name": "stdout",
          "text": [
            "model : LinearRegression, sc : 0.44, mae : 9.55\n"
          ]
        },
        {
          "output_type": "stream",
          "name": "stderr",
          "text": [
            "/usr/local/lib/python3.7/dist-packages/ipykernel_launcher.py:10: DataConversionWarning: A column-vector y was passed when a 1d array was expected. Please change the shape of y to (n_samples,), for example using ravel().\n",
            "  # Remove the CWD from sys.path while we load stuff.\n"
          ]
        },
        {
          "output_type": "stream",
          "name": "stdout",
          "text": [
            "model : RandomForestRegressor, sc : 0.68, mae : 6.88\n",
            "[03:54:51] WARNING: /workspace/src/objective/regression_obj.cu:152: reg:linear is now deprecated in favor of reg:squarederror.\n",
            "[03:54:51] WARNING: /workspace/src/learner.cc:686: Tree method is automatically selected to be 'approx' for faster speed. To use old behavior (exact greedy algorithm on single machine), set tree_method to 'exact'.\n",
            "model : XGBRegressor, sc : 0.6, mae : 7.93\n",
            "model : LGBMRegressor, sc : 0.66, mae : 7.11\n"
          ]
        },
        {
          "output_type": "error",
          "ename": "MemoryError",
          "evalue": "ignored",
          "traceback": [
            "\u001b[0;31m---------------------------------------------------------------------------\u001b[0m",
            "\u001b[0;31mMemoryError\u001b[0m                               Traceback (most recent call last)",
            "\u001b[0;32m<ipython-input-6-76a2c7669f22>\u001b[0m in \u001b[0;36m<module>\u001b[0;34m\u001b[0m\n\u001b[1;32m      9\u001b[0m \u001b[0;32mfor\u001b[0m \u001b[0mi\u001b[0m \u001b[0;32min\u001b[0m \u001b[0mmodels\u001b[0m\u001b[0;34m:\u001b[0m\u001b[0;34m\u001b[0m\u001b[0;34m\u001b[0m\u001b[0m\n\u001b[1;32m     10\u001b[0m     \u001b[0mmodel\u001b[0m \u001b[0;34m=\u001b[0m \u001b[0mi\u001b[0m\u001b[0;34m.\u001b[0m\u001b[0mfit\u001b[0m\u001b[0;34m(\u001b[0m\u001b[0mx_ttrain\u001b[0m\u001b[0;34m,\u001b[0m \u001b[0my_ttrain\u001b[0m\u001b[0;34m)\u001b[0m\u001b[0;34m\u001b[0m\u001b[0;34m\u001b[0m\u001b[0m\n\u001b[0;32m---> 11\u001b[0;31m     \u001b[0msc\u001b[0m \u001b[0;34m=\u001b[0m \u001b[0mround\u001b[0m\u001b[0;34m(\u001b[0m\u001b[0mmodel\u001b[0m\u001b[0;34m.\u001b[0m\u001b[0mscore\u001b[0m\u001b[0;34m(\u001b[0m\u001b[0mx_ttrain\u001b[0m\u001b[0;34m,\u001b[0m \u001b[0my_ttrain\u001b[0m\u001b[0;34m)\u001b[0m\u001b[0;34m,\u001b[0m\u001b[0;36m2\u001b[0m\u001b[0;34m)\u001b[0m\u001b[0;34m\u001b[0m\u001b[0;34m\u001b[0m\u001b[0m\n\u001b[0m\u001b[1;32m     12\u001b[0m     \u001b[0mpre\u001b[0m \u001b[0;34m=\u001b[0m \u001b[0mmodel\u001b[0m\u001b[0;34m.\u001b[0m\u001b[0mpredict\u001b[0m\u001b[0;34m(\u001b[0m\u001b[0mx_ttest\u001b[0m\u001b[0;34m)\u001b[0m\u001b[0;34m\u001b[0m\u001b[0;34m\u001b[0m\u001b[0m\n\u001b[1;32m     13\u001b[0m     \u001b[0mmae\u001b[0m \u001b[0;34m=\u001b[0m \u001b[0mround\u001b[0m\u001b[0;34m(\u001b[0m\u001b[0mmean_absolute_error\u001b[0m\u001b[0;34m(\u001b[0m\u001b[0mpre\u001b[0m\u001b[0;34m,\u001b[0m \u001b[0my_ttest\u001b[0m\u001b[0;34m)\u001b[0m\u001b[0;34m,\u001b[0m\u001b[0;36m2\u001b[0m\u001b[0;34m)\u001b[0m\u001b[0;34m\u001b[0m\u001b[0;34m\u001b[0m\u001b[0m\n",
            "\u001b[0;32m/usr/local/lib/python3.7/dist-packages/catboost/core.py\u001b[0m in \u001b[0;36mscore\u001b[0;34m(self, X, y)\u001b[0m\n\u001b[1;32m   5850\u001b[0m             \u001b[0mpredictions\u001b[0m \u001b[0;34m=\u001b[0m \u001b[0mpredictions\u001b[0m\u001b[0;34m[\u001b[0m\u001b[0;34m:\u001b[0m\u001b[0;34m,\u001b[0m \u001b[0;36m0\u001b[0m\u001b[0;34m]\u001b[0m\u001b[0;34m\u001b[0m\u001b[0;34m\u001b[0m\u001b[0m\n\u001b[1;32m   5851\u001b[0m         \u001b[0mtotal_sum_of_squares\u001b[0m \u001b[0;34m=\u001b[0m \u001b[0mnp\u001b[0m\u001b[0;34m.\u001b[0m\u001b[0msum\u001b[0m\u001b[0;34m(\u001b[0m\u001b[0;34m(\u001b[0m\u001b[0my\u001b[0m \u001b[0;34m-\u001b[0m \u001b[0my\u001b[0m\u001b[0;34m.\u001b[0m\u001b[0mmean\u001b[0m\u001b[0;34m(\u001b[0m\u001b[0maxis\u001b[0m\u001b[0;34m=\u001b[0m\u001b[0;36m0\u001b[0m\u001b[0;34m)\u001b[0m\u001b[0;34m)\u001b[0m \u001b[0;34m**\u001b[0m \u001b[0;36m2\u001b[0m\u001b[0;34m)\u001b[0m\u001b[0;34m\u001b[0m\u001b[0;34m\u001b[0m\u001b[0m\n\u001b[0;32m-> 5852\u001b[0;31m         \u001b[0mresidual_sum_of_squares\u001b[0m \u001b[0;34m=\u001b[0m \u001b[0mnp\u001b[0m\u001b[0;34m.\u001b[0m\u001b[0msum\u001b[0m\u001b[0;34m(\u001b[0m\u001b[0;34m(\u001b[0m\u001b[0my\u001b[0m \u001b[0;34m-\u001b[0m \u001b[0mpredictions\u001b[0m\u001b[0;34m)\u001b[0m \u001b[0;34m**\u001b[0m \u001b[0;36m2\u001b[0m\u001b[0;34m)\u001b[0m\u001b[0;34m\u001b[0m\u001b[0;34m\u001b[0m\u001b[0m\n\u001b[0m\u001b[1;32m   5853\u001b[0m         \u001b[0;32mreturn\u001b[0m \u001b[0;36m1\u001b[0m \u001b[0;34m-\u001b[0m \u001b[0mresidual_sum_of_squares\u001b[0m \u001b[0;34m/\u001b[0m \u001b[0mtotal_sum_of_squares\u001b[0m\u001b[0;34m\u001b[0m\u001b[0;34m\u001b[0m\u001b[0m\n\u001b[1;32m   5854\u001b[0m \u001b[0;34m\u001b[0m\u001b[0m\n",
            "\u001b[0;31mMemoryError\u001b[0m: Unable to allocate 130. TiB for an array with shape (4231095, 4231095) and data type float64"
          ]
        }
      ]
    },
    {
      "cell_type": "code",
      "source": [
        "cat = CatBoostRegressor(verbose=0)\n",
        "models = [cat]\n",
        "for i in models:\n",
        "    model = i.fit(x_ttrain, y_ttrain)\n",
        "    # sc = round(model.score(x_ttrain, y_ttrain),2)\n",
        "    pre = model.predict(x_ttest)\n",
        "    mae = round(mean_absolute_error(pre, y_ttest),2)\n",
        "    print(f'model : {model.__class__.__name__}, sc : XX, mae : {mae}')\n"
      ],
      "metadata": {
        "colab": {
          "base_uri": "https://localhost:8080/"
        },
        "id": "Peh5dkgCg-Z6",
        "outputId": "5f1301db-8129-4314-a236-d199e1449df1"
      },
      "execution_count": 8,
      "outputs": [
        {
          "output_type": "stream",
          "name": "stdout",
          "text": [
            "model : CatBoostRegressor, sc : XX, mae : 6.91\n"
          ]
        }
      ]
    },
    {
      "cell_type": "markdown",
      "source": [
        "# sub"
      ],
      "metadata": {
        "id": "Tegjklos7ZZo"
      }
    },
    {
      "cell_type": "code",
      "source": [
        "cat = CatBoostRegressor(verbose=0)\n",
        "model = cat.fit(x_train, y_train)\n",
        "pre = model.predict(x_test)"
      ],
      "metadata": {
        "id": "JziQ9FvQ7fLY"
      },
      "execution_count": 29,
      "outputs": []
    },
    {
      "cell_type": "code",
      "source": [
        "sub = pd.read_csv('/content/drive/MyDrive/Colab Notebooks/데이콘/제주도 도로 교통량 예측/sample_submission.csv')"
      ],
      "metadata": {
        "id": "3oiqamx4AmUZ"
      },
      "execution_count": 39,
      "outputs": []
    },
    {
      "cell_type": "code",
      "source": [
        "sub['target'] = pre\n",
        "sub.to_csv('submission.csv', index=False)"
      ],
      "metadata": {
        "id": "3IlzDpbfBRKh"
      },
      "execution_count": 41,
      "outputs": []
    }
  ]
}