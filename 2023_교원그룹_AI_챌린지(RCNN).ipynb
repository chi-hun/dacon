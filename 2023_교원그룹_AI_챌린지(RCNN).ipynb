{
  "nbformat": 4,
  "nbformat_minor": 0,
  "metadata": {
    "colab": {
      "provenance": [],
      "mount_file_id": "1z0rOGI43rfvceGswm9NrzQZIa6LwdW_w",
      "authorship_tag": "ABX9TyPTaKsoGhoqtG0y70DIZDnr",
      "include_colab_link": true
    },
    "kernelspec": {
      "name": "python3",
      "display_name": "Python 3"
    },
    "language_info": {
      "name": "python"
    }
  },
  "cells": [
    {
      "cell_type": "markdown",
      "metadata": {
        "id": "view-in-github",
        "colab_type": "text"
      },
      "source": [
        "<a href=\"https://colab.research.google.com/github/chi-hun/dacon/blob/main/2023_%EA%B5%90%EC%9B%90%EA%B7%B8%EB%A3%B9_AI_%EC%B1%8C%EB%A6%B0%EC%A7%80(RCNN).ipynb\" target=\"_parent\"><img src=\"https://colab.research.google.com/assets/colab-badge.svg\" alt=\"Open In Colab\"/></a>"
      ]
    },
    {
      "cell_type": "markdown",
      "source": [
        "2023 교원그룹 AI 챌린지\n",
        "\n",
        "https://dacon.io/competitions/official/236042/overview/description"
      ],
      "metadata": {
        "id": "g2sMqF5FxMRW"
      }
    },
    {
      "cell_type": "code",
      "execution_count": 116,
      "metadata": {
        "id": "I1EISCtJxHze"
      },
      "outputs": [],
      "source": [
        "import pandas as pd\n",
        "import numpy as np\n",
        "import cv2\n",
        "import matplotlib.pyplot as plt\n",
        "import tensorflow as tf\n",
        "from tensorflow.keras import layers\n",
        "import albumentations as A"
      ]
    },
    {
      "cell_type": "code",
      "source": [
        "!unzip '/content/drive/MyDrive/Colab Notebooks/데이콘/교원/open.zip'"
      ],
      "metadata": {
        "id": "z6eVLPkfzXhF"
      },
      "execution_count": null,
      "outputs": []
    },
    {
      "cell_type": "code",
      "source": [
        "train_csv = pd.read_csv('/content/train.csv')\n",
        "train_csv.info()"
      ],
      "metadata": {
        "colab": {
          "base_uri": "https://localhost:8080/"
        },
        "id": "e3ANE6j10aLR",
        "outputId": "c4e67c46-6b96-461b-a417-23e3ce86f23f"
      },
      "execution_count": 83,
      "outputs": [
        {
          "output_type": "stream",
          "name": "stdout",
          "text": [
            "<class 'pandas.core.frame.DataFrame'>\n",
            "RangeIndex: 76888 entries, 0 to 76887\n",
            "Data columns (total 3 columns):\n",
            " #   Column    Non-Null Count  Dtype \n",
            "---  ------    --------------  ----- \n",
            " 0   id        76888 non-null  object\n",
            " 1   img_path  76888 non-null  object\n",
            " 2   label     76888 non-null  object\n",
            "dtypes: object(3)\n",
            "memory usage: 1.8+ MB\n"
          ]
        }
      ]
    },
    {
      "cell_type": "code",
      "source": [
        "train_csv"
      ],
      "metadata": {
        "colab": {
          "base_uri": "https://localhost:8080/",
          "height": 424
        },
        "id": "GiwDcf8S0jPW",
        "outputId": "2a170da9-8bc9-4a93-98fb-8a0965b929e8"
      },
      "execution_count": 84,
      "outputs": [
        {
          "output_type": "execute_result",
          "data": {
            "text/plain": [
              "                id                 img_path label\n",
              "0      TRAIN_00000  ./train/TRAIN_00000.png   빨간색\n",
              "1      TRAIN_00001  ./train/TRAIN_00001.png     머\n",
              "2      TRAIN_00002  ./train/TRAIN_00002.png    차차\n",
              "3      TRAIN_00003  ./train/TRAIN_00003.png     써\n",
              "4      TRAIN_00004  ./train/TRAIN_00004.png   놓치다\n",
              "...            ...                      ...   ...\n",
              "76883  TRAIN_76883  ./train/TRAIN_76883.png     회\n",
              "76884  TRAIN_76884  ./train/TRAIN_76884.png    겪다\n",
              "76885  TRAIN_76885  ./train/TRAIN_76885.png    벨트\n",
              "76886  TRAIN_76886  ./train/TRAIN_76886.png     톼\n",
              "76887  TRAIN_76887  ./train/TRAIN_76887.png    자리\n",
              "\n",
              "[76888 rows x 3 columns]"
            ],
            "text/html": [
              "\n",
              "  <div id=\"df-c1da372d-2eb3-4132-b71e-a6fb417e5984\">\n",
              "    <div class=\"colab-df-container\">\n",
              "      <div>\n",
              "<style scoped>\n",
              "    .dataframe tbody tr th:only-of-type {\n",
              "        vertical-align: middle;\n",
              "    }\n",
              "\n",
              "    .dataframe tbody tr th {\n",
              "        vertical-align: top;\n",
              "    }\n",
              "\n",
              "    .dataframe thead th {\n",
              "        text-align: right;\n",
              "    }\n",
              "</style>\n",
              "<table border=\"1\" class=\"dataframe\">\n",
              "  <thead>\n",
              "    <tr style=\"text-align: right;\">\n",
              "      <th></th>\n",
              "      <th>id</th>\n",
              "      <th>img_path</th>\n",
              "      <th>label</th>\n",
              "    </tr>\n",
              "  </thead>\n",
              "  <tbody>\n",
              "    <tr>\n",
              "      <th>0</th>\n",
              "      <td>TRAIN_00000</td>\n",
              "      <td>./train/TRAIN_00000.png</td>\n",
              "      <td>빨간색</td>\n",
              "    </tr>\n",
              "    <tr>\n",
              "      <th>1</th>\n",
              "      <td>TRAIN_00001</td>\n",
              "      <td>./train/TRAIN_00001.png</td>\n",
              "      <td>머</td>\n",
              "    </tr>\n",
              "    <tr>\n",
              "      <th>2</th>\n",
              "      <td>TRAIN_00002</td>\n",
              "      <td>./train/TRAIN_00002.png</td>\n",
              "      <td>차차</td>\n",
              "    </tr>\n",
              "    <tr>\n",
              "      <th>3</th>\n",
              "      <td>TRAIN_00003</td>\n",
              "      <td>./train/TRAIN_00003.png</td>\n",
              "      <td>써</td>\n",
              "    </tr>\n",
              "    <tr>\n",
              "      <th>4</th>\n",
              "      <td>TRAIN_00004</td>\n",
              "      <td>./train/TRAIN_00004.png</td>\n",
              "      <td>놓치다</td>\n",
              "    </tr>\n",
              "    <tr>\n",
              "      <th>...</th>\n",
              "      <td>...</td>\n",
              "      <td>...</td>\n",
              "      <td>...</td>\n",
              "    </tr>\n",
              "    <tr>\n",
              "      <th>76883</th>\n",
              "      <td>TRAIN_76883</td>\n",
              "      <td>./train/TRAIN_76883.png</td>\n",
              "      <td>회</td>\n",
              "    </tr>\n",
              "    <tr>\n",
              "      <th>76884</th>\n",
              "      <td>TRAIN_76884</td>\n",
              "      <td>./train/TRAIN_76884.png</td>\n",
              "      <td>겪다</td>\n",
              "    </tr>\n",
              "    <tr>\n",
              "      <th>76885</th>\n",
              "      <td>TRAIN_76885</td>\n",
              "      <td>./train/TRAIN_76885.png</td>\n",
              "      <td>벨트</td>\n",
              "    </tr>\n",
              "    <tr>\n",
              "      <th>76886</th>\n",
              "      <td>TRAIN_76886</td>\n",
              "      <td>./train/TRAIN_76886.png</td>\n",
              "      <td>톼</td>\n",
              "    </tr>\n",
              "    <tr>\n",
              "      <th>76887</th>\n",
              "      <td>TRAIN_76887</td>\n",
              "      <td>./train/TRAIN_76887.png</td>\n",
              "      <td>자리</td>\n",
              "    </tr>\n",
              "  </tbody>\n",
              "</table>\n",
              "<p>76888 rows × 3 columns</p>\n",
              "</div>\n",
              "      <button class=\"colab-df-convert\" onclick=\"convertToInteractive('df-c1da372d-2eb3-4132-b71e-a6fb417e5984')\"\n",
              "              title=\"Convert this dataframe to an interactive table.\"\n",
              "              style=\"display:none;\">\n",
              "        \n",
              "  <svg xmlns=\"http://www.w3.org/2000/svg\" height=\"24px\"viewBox=\"0 0 24 24\"\n",
              "       width=\"24px\">\n",
              "    <path d=\"M0 0h24v24H0V0z\" fill=\"none\"/>\n",
              "    <path d=\"M18.56 5.44l.94 2.06.94-2.06 2.06-.94-2.06-.94-.94-2.06-.94 2.06-2.06.94zm-11 1L8.5 8.5l.94-2.06 2.06-.94-2.06-.94L8.5 2.5l-.94 2.06-2.06.94zm10 10l.94 2.06.94-2.06 2.06-.94-2.06-.94-.94-2.06-.94 2.06-2.06.94z\"/><path d=\"M17.41 7.96l-1.37-1.37c-.4-.4-.92-.59-1.43-.59-.52 0-1.04.2-1.43.59L10.3 9.45l-7.72 7.72c-.78.78-.78 2.05 0 2.83L4 21.41c.39.39.9.59 1.41.59.51 0 1.02-.2 1.41-.59l7.78-7.78 2.81-2.81c.8-.78.8-2.07 0-2.86zM5.41 20L4 18.59l7.72-7.72 1.47 1.35L5.41 20z\"/>\n",
              "  </svg>\n",
              "      </button>\n",
              "      \n",
              "  <style>\n",
              "    .colab-df-container {\n",
              "      display:flex;\n",
              "      flex-wrap:wrap;\n",
              "      gap: 12px;\n",
              "    }\n",
              "\n",
              "    .colab-df-convert {\n",
              "      background-color: #E8F0FE;\n",
              "      border: none;\n",
              "      border-radius: 50%;\n",
              "      cursor: pointer;\n",
              "      display: none;\n",
              "      fill: #1967D2;\n",
              "      height: 32px;\n",
              "      padding: 0 0 0 0;\n",
              "      width: 32px;\n",
              "    }\n",
              "\n",
              "    .colab-df-convert:hover {\n",
              "      background-color: #E2EBFA;\n",
              "      box-shadow: 0px 1px 2px rgba(60, 64, 67, 0.3), 0px 1px 3px 1px rgba(60, 64, 67, 0.15);\n",
              "      fill: #174EA6;\n",
              "    }\n",
              "\n",
              "    [theme=dark] .colab-df-convert {\n",
              "      background-color: #3B4455;\n",
              "      fill: #D2E3FC;\n",
              "    }\n",
              "\n",
              "    [theme=dark] .colab-df-convert:hover {\n",
              "      background-color: #434B5C;\n",
              "      box-shadow: 0px 1px 3px 1px rgba(0, 0, 0, 0.15);\n",
              "      filter: drop-shadow(0px 1px 2px rgba(0, 0, 0, 0.3));\n",
              "      fill: #FFFFFF;\n",
              "    }\n",
              "  </style>\n",
              "\n",
              "      <script>\n",
              "        const buttonEl =\n",
              "          document.querySelector('#df-c1da372d-2eb3-4132-b71e-a6fb417e5984 button.colab-df-convert');\n",
              "        buttonEl.style.display =\n",
              "          google.colab.kernel.accessAllowed ? 'block' : 'none';\n",
              "\n",
              "        async function convertToInteractive(key) {\n",
              "          const element = document.querySelector('#df-c1da372d-2eb3-4132-b71e-a6fb417e5984');\n",
              "          const dataTable =\n",
              "            await google.colab.kernel.invokeFunction('convertToInteractive',\n",
              "                                                     [key], {});\n",
              "          if (!dataTable) return;\n",
              "\n",
              "          const docLinkHtml = 'Like what you see? Visit the ' +\n",
              "            '<a target=\"_blank\" href=https://colab.research.google.com/notebooks/data_table.ipynb>data table notebook</a>'\n",
              "            + ' to learn more about interactive tables.';\n",
              "          element.innerHTML = '';\n",
              "          dataTable['output_type'] = 'display_data';\n",
              "          await google.colab.output.renderOutput(dataTable, element);\n",
              "          const docLink = document.createElement('div');\n",
              "          docLink.innerHTML = docLinkHtml;\n",
              "          element.appendChild(docLink);\n",
              "        }\n",
              "      </script>\n",
              "    </div>\n",
              "  </div>\n",
              "  "
            ]
          },
          "metadata": {},
          "execution_count": 84
        }
      ]
    },
    {
      "cell_type": "code",
      "source": [
        "train_csv['img_path'] = '/content/train/' + train_csv['img_path'].str.split('/').str[-1]"
      ],
      "metadata": {
        "id": "qb_CE8Ez0urD"
      },
      "execution_count": 87,
      "outputs": []
    },
    {
      "cell_type": "code",
      "source": [
        "img_size = (64,103)"
      ],
      "metadata": {
        "id": "PxB5QDzb6Zg1"
      },
      "execution_count": 45,
      "outputs": []
    },
    {
      "cell_type": "code",
      "source": [
        "agu = A.Compose([A.RandomBrightnessContrast(always_apply=True)])\n",
        "class make_dataloder(tf.keras.utils.Sequence):\n",
        "    def __init__(self, path, label=None, img_size =(64,64), batch_size=32, shuffle=False, agu=None):\n",
        "        self.path = path\n",
        "        self.label = label\n",
        "        self.img_size = img_size\n",
        "        self.batch_size = batch_size\n",
        "        self.shuffle = shuffle\n",
        "        self.agu = agu\n",
        "\n",
        "        self.one_epoch_end()\n",
        "\n",
        "    def __len__(self):\n",
        "        a = np.ceil(len(self.path) / self.batch_size).astype(np.int32)\n",
        "        return a\n",
        "\n",
        "    def __getitem__(self, index):\n",
        "        path_sl = self.path[self.data_idx[index * self.batch_size : (index + 1) * self.batch_size]]\n",
        "        if self.label is not None:\n",
        "            label_sl = self.label[self.data_idx[index * self.batch_size : (index + 1) * self.batch_size]]\n",
        "        \n",
        "        images = np.zeros((len(path_sl), self.img_size[0], self.img_size[1], 3), dtype=np.float32)\n",
        "        for i, path in enumerate(path_sl):\n",
        "            img = cv2.imread(path)\n",
        "            img = cv2.cvtColor(img, cv2.COLOR_BGR2RGB)\n",
        "            img = cv2.resize(img, self.img_size)\n",
        "\n",
        "            if self.agu is not None:\n",
        "                img = self.agu(image = img)['image']\n",
        "            images[i] = img / 255\n",
        "\n",
        "        if self.label is not None:\n",
        "            return images, label_sl\n",
        "        else:\n",
        "            return images\n",
        "\n",
        "    def one_epoch_end(self):\n",
        "        self.data_idx = np.arange(len(self.path))\n",
        "        if self.shuffle:\n",
        "            np.random.shuffle(self.data_idx)"
      ],
      "metadata": {
        "id": "Al3C5LNg6Jpu"
      },
      "execution_count": 138,
      "outputs": []
    },
    {
      "cell_type": "code",
      "source": [
        "aaa = make_dataloder(train_csv['img_path'].values, train_csv['label'].values, shuffle=True, agu=agu)"
      ],
      "metadata": {
        "id": "MdAiXTXk9C2P"
      },
      "execution_count": 139,
      "outputs": []
    },
    {
      "cell_type": "code",
      "source": [
        "train_gt = [gt for gt in train_csv['label']]\n",
        "train_gt = \"\".join(train_gt)\n",
        "letters = sorted(list(set(list(train_gt))))\n",
        "# print(len(letters))"
      ],
      "metadata": {
        "id": "OEmBl4tqT9U3"
      },
      "execution_count": 153,
      "outputs": []
    },
    {
      "cell_type": "code",
      "source": [
        "vocabulary = [\"-\"] + letters\n",
        "idx2char = {k:v for k,v in enumerate(vocabulary, start=0)}\n",
        "char2idx = {v:k for k,v in idx2char.items()}"
      ],
      "metadata": {
        "id": "1zdUaLnqUAlb"
      },
      "execution_count": 158,
      "outputs": []
    },
    {
      "cell_type": "code",
      "source": [
        "def crnn():\n",
        "    \"\"\"\n",
        "    The original feature extraction structure from CRNN paper.\n",
        "    Related paper: https://ieeexplore.ieee.org/abstract/document/7801919\n",
        "    \"\"\"\n",
        "    inputs = layers.Input(shape=(64,64,3))\n",
        "    x = layers.Conv2D(\n",
        "        64, 3, padding='same', activation='relu', name='conv1')(inputs)\n",
        "    x = layers.MaxPool2D(pool_size=2, padding='same', name='pool1')(x)\n",
        "\n",
        "    x = layers.Conv2D(\n",
        "        128, 3, padding='same', activation='relu', name='conv2')(x)\n",
        "    x = layers.MaxPool2D(pool_size=2, padding='same', name='pool2')(x)\n",
        "\n",
        "    x = layers.Conv2D(256, 3, padding='same', use_bias=False, name='conv3')(x)\n",
        "    x = layers.BatchNormalization(name='bn3')(x)\n",
        "    x = layers.Activation('relu', name='relu3')(x)\n",
        "    x = layers.Conv2D(\n",
        "        256, 3, padding='same', activation='relu', name='conv4')(x)\n",
        "    x = layers.MaxPool2D(\n",
        "        pool_size=2, strides=(2, 1), padding='same', name='pool4')(x)\n",
        "\n",
        "    x = layers.Conv2D(512, 3, padding='same', use_bias=False, name='conv5')(x)\n",
        "    x = layers.BatchNormalization(name='bn5')(x)\n",
        "    x = layers.Activation('relu', name='relu5')(x)\n",
        "    x = layers.Conv2D(\n",
        "        512, 3, padding='same', activation='relu', name='conv6')(x)\n",
        "    x = layers.MaxPool2D(\n",
        "        pool_size=2, strides=(2, 1), padding='same', name='pool6')(x)\n",
        "\n",
        "    x = layers.Conv2D(512, 2, use_bias=False, name='conv7')(x)\n",
        "    x = layers.BatchNormalization(name='bn7')(x)\n",
        "    x = layers.Activation('relu', name='relu7')(x)\n",
        "\n",
        "    x = layers.Reshape((-1, 512), name='reshape7')(x)\n",
        "\n",
        "    x = layers.Bidirectional(\n",
        "        layers.LSTM(units=256, return_sequences=True), name='bi_lstm1')(x)\n",
        "    x = layers.Bidirectional(\n",
        "        layers.LSTM(units=256, return_sequences=True), name='bi_lstm2')(x)\n",
        "    outputs = layers.Dense(units=10, name='logits')(x)\n",
        "\n",
        "    model = tf.keras.Model(inputs, outputs)\n",
        "\n",
        "    return model"
      ],
      "metadata": {
        "id": "ZlwVm6mSYZO3"
      },
      "execution_count": 161,
      "outputs": []
    },
    {
      "cell_type": "code",
      "source": [
        "model = crnn()\n",
        "model.summary()"
      ],
      "metadata": {
        "colab": {
          "base_uri": "https://localhost:8080/"
        },
        "id": "IVeVHTPccmOF",
        "outputId": "aff28d06-b29d-4f8a-f1a4-b3b68261d6bd"
      },
      "execution_count": 162,
      "outputs": [
        {
          "output_type": "stream",
          "name": "stdout",
          "text": [
            "Model: \"model\"\n",
            "_________________________________________________________________\n",
            " Layer (type)                Output Shape              Param #   \n",
            "=================================================================\n",
            " input_1 (InputLayer)        [(None, 64, 64, 3)]       0         \n",
            "                                                                 \n",
            " conv1 (Conv2D)              (None, 64, 64, 64)        1792      \n",
            "                                                                 \n",
            " pool1 (MaxPooling2D)        (None, 32, 32, 64)        0         \n",
            "                                                                 \n",
            " conv2 (Conv2D)              (None, 32, 32, 128)       73856     \n",
            "                                                                 \n",
            " pool2 (MaxPooling2D)        (None, 16, 16, 128)       0         \n",
            "                                                                 \n",
            " conv3 (Conv2D)              (None, 16, 16, 256)       294912    \n",
            "                                                                 \n",
            " bn3 (BatchNormalization)    (None, 16, 16, 256)       1024      \n",
            "                                                                 \n",
            " relu3 (Activation)          (None, 16, 16, 256)       0         \n",
            "                                                                 \n",
            " conv4 (Conv2D)              (None, 16, 16, 256)       590080    \n",
            "                                                                 \n",
            " pool4 (MaxPooling2D)        (None, 8, 16, 256)        0         \n",
            "                                                                 \n",
            " conv5 (Conv2D)              (None, 8, 16, 512)        1179648   \n",
            "                                                                 \n",
            " bn5 (BatchNormalization)    (None, 8, 16, 512)        2048      \n",
            "                                                                 \n",
            " relu5 (Activation)          (None, 8, 16, 512)        0         \n",
            "                                                                 \n",
            " conv6 (Conv2D)              (None, 8, 16, 512)        2359808   \n",
            "                                                                 \n",
            " pool6 (MaxPooling2D)        (None, 4, 16, 512)        0         \n",
            "                                                                 \n",
            " conv7 (Conv2D)              (None, 3, 15, 512)        1048576   \n",
            "                                                                 \n",
            " bn7 (BatchNormalization)    (None, 3, 15, 512)        2048      \n",
            "                                                                 \n",
            " relu7 (Activation)          (None, 3, 15, 512)        0         \n",
            "                                                                 \n",
            " reshape7 (Reshape)          (None, 45, 512)           0         \n",
            "                                                                 \n",
            " bi_lstm1 (Bidirectional)    (None, 45, 512)           1574912   \n",
            "                                                                 \n",
            " bi_lstm2 (Bidirectional)    (None, 45, 512)           1574912   \n",
            "                                                                 \n",
            " logits (Dense)              (None, 45, 10)            5130      \n",
            "                                                                 \n",
            "=================================================================\n",
            "Total params: 8,708,746\n",
            "Trainable params: 8,706,186\n",
            "Non-trainable params: 2,560\n",
            "_________________________________________________________________\n"
          ]
        }
      ]
    },
    {
      "cell_type": "code",
      "source": [
        "model(aaa[0][0])"
      ],
      "metadata": {
        "colab": {
          "base_uri": "https://localhost:8080/"
        },
        "id": "6Z-Ua1HueEbM",
        "outputId": "e9eefd4c-58ef-439c-eaeb-e9e117afac28"
      },
      "execution_count": 163,
      "outputs": [
        {
          "output_type": "execute_result",
          "data": {
            "text/plain": [
              "<tf.Tensor: shape=(32, 45, 10), dtype=float32, numpy=\n",
              "array([[[ 3.08469422e-02, -1.85885802e-02, -2.39095581e-03, ...,\n",
              "         -3.33153224e-03,  1.02400202e-02, -3.23552359e-03],\n",
              "        [ 3.27944383e-02, -1.55929886e-02, -2.73754122e-03, ...,\n",
              "         -3.69942281e-03,  1.00246677e-02, -2.69311760e-03],\n",
              "        [ 3.47945616e-02, -1.29925124e-02, -3.09068803e-03, ...,\n",
              "         -3.22638336e-03,  9.43937246e-03, -2.37013539e-03],\n",
              "        ...,\n",
              "        [ 2.19405945e-02,  1.92737356e-02,  6.47857320e-03, ...,\n",
              "          1.22570470e-02,  1.32396817e-04, -5.17275603e-03],\n",
              "        [ 1.93872266e-02,  1.99274495e-02,  6.16371352e-03, ...,\n",
              "          1.25571871e-02, -3.44538596e-04, -5.88360755e-03],\n",
              "        [ 1.66654699e-02,  1.92214698e-02,  5.34242485e-03, ...,\n",
              "          1.25983534e-02,  1.05376588e-04, -6.38069585e-03]],\n",
              "\n",
              "       [[ 3.03572062e-02, -1.86295081e-02, -2.61317776e-03, ...,\n",
              "         -3.36347823e-03,  1.00063402e-02, -2.68973084e-03],\n",
              "        [ 3.21194641e-02, -1.54256709e-02, -3.10619967e-03, ...,\n",
              "         -3.55724664e-03,  9.71109793e-03, -2.02368200e-03],\n",
              "        [ 3.39347981e-02, -1.26770604e-02, -3.61124380e-03, ...,\n",
              "         -3.06688715e-03,  9.12424084e-03, -1.56121026e-03],\n",
              "        ...,\n",
              "        [ 2.15570368e-02,  1.84366908e-02,  6.19258964e-03, ...,\n",
              "          1.13312844e-02,  3.01020686e-04, -4.44493629e-03],\n",
              "        [ 1.89672895e-02,  1.90955810e-02,  5.78614790e-03, ...,\n",
              "          1.16602704e-02, -6.45085238e-05, -5.28270006e-03],\n",
              "        [ 1.62522215e-02,  1.84870698e-02,  5.05070109e-03, ...,\n",
              "          1.17157446e-02,  4.36943723e-04, -5.85901923e-03]],\n",
              "\n",
              "       [[ 3.77848744e-02, -2.25854758e-02, -3.38466745e-03, ...,\n",
              "         -2.69629899e-03,  1.29097020e-02, -3.32738948e-03],\n",
              "        [ 3.98502573e-02, -1.86241381e-02, -3.95137165e-03, ...,\n",
              "         -3.16779502e-03,  1.26201529e-02, -2.81106192e-03],\n",
              "        [ 4.19387221e-02, -1.51313674e-02, -4.45076078e-03, ...,\n",
              "         -2.49060919e-03,  1.18684620e-02, -2.70696962e-03],\n",
              "        ...,\n",
              "        [ 2.38816179e-02,  2.11320966e-02,  5.54709323e-03, ...,\n",
              "          1.34110190e-02,  1.92067819e-04, -5.18609583e-03],\n",
              "        [ 2.09618621e-02,  2.16457732e-02,  5.29211853e-03, ...,\n",
              "          1.39189912e-02, -1.76302623e-04, -5.91948209e-03],\n",
              "        [ 1.79955605e-02,  2.07910426e-02,  4.61449567e-03, ...,\n",
              "          1.41661530e-02,  2.31652986e-04, -6.49886066e-03]],\n",
              "\n",
              "       ...,\n",
              "\n",
              "       [[ 3.26129235e-02, -2.15243362e-02, -2.21796660e-03, ...,\n",
              "         -1.16209534e-03,  1.11433445e-02, -3.88121605e-03],\n",
              "        [ 3.44346650e-02, -1.88920479e-02, -2.95607746e-03, ...,\n",
              "         -1.07822428e-03,  1.12809697e-02, -3.16027319e-03],\n",
              "        [ 3.63947041e-02, -1.62681378e-02, -3.55149992e-03, ...,\n",
              "         -2.10133148e-04,  1.11726904e-02, -2.69572646e-03],\n",
              "        ...,\n",
              "        [ 2.25255340e-02,  2.22358666e-02,  4.38255956e-03, ...,\n",
              "          1.27526661e-02, -2.72893813e-04, -5.03372820e-03],\n",
              "        [ 1.98524911e-02,  2.24279650e-02,  4.34236834e-03, ...,\n",
              "          1.30791394e-02, -3.42980260e-04, -5.43316826e-03],\n",
              "        [ 1.71765797e-02,  2.11404748e-02,  3.65098007e-03, ...,\n",
              "          1.31458258e-02,  1.87153229e-04, -5.70612634e-03]],\n",
              "\n",
              "       [[ 3.05470526e-02, -1.82299875e-02, -2.14835349e-03, ...,\n",
              "         -3.03423335e-03,  1.02201505e-02, -2.11166893e-03],\n",
              "        [ 3.24466377e-02, -1.53315235e-02, -2.64306180e-03, ...,\n",
              "         -3.60629288e-03,  9.89084132e-03, -1.40523212e-03],\n",
              "        [ 3.41793038e-02, -1.26964413e-02, -3.08033195e-03, ...,\n",
              "         -3.36400094e-03,  9.13512986e-03, -9.39399237e-04],\n",
              "        ...,\n",
              "        [ 2.07666568e-02,  1.76674854e-02,  5.53228427e-03, ...,\n",
              "          1.10177714e-02,  5.77385304e-04, -4.09963308e-03],\n",
              "        [ 1.83071494e-02,  1.82375144e-02,  5.24553051e-03, ...,\n",
              "          1.12988297e-02,  1.79286581e-04, -4.95416718e-03],\n",
              "        [ 1.56851299e-02,  1.75962113e-02,  4.43662284e-03, ...,\n",
              "          1.14430310e-02,  4.57777642e-04, -5.43079013e-03]],\n",
              "\n",
              "       [[ 3.28107364e-02, -1.99182723e-02, -2.64301663e-03, ...,\n",
              "         -3.34284990e-03,  1.07903909e-02, -3.71712912e-03],\n",
              "        [ 3.49363126e-02, -1.67719461e-02, -3.13062174e-03, ...,\n",
              "         -3.71398986e-03,  1.05909100e-02, -3.04841623e-03],\n",
              "        [ 3.70894149e-02, -1.41108856e-02, -3.58657259e-03, ...,\n",
              "         -3.24892299e-03,  1.00886393e-02, -2.60592625e-03],\n",
              "        ...,\n",
              "        [ 2.23239474e-02,  2.00527217e-02,  6.72022020e-03, ...,\n",
              "          1.22388070e-02,  4.71365871e-04, -4.96595679e-03],\n",
              "        [ 1.96422786e-02,  2.05611642e-02,  6.28106482e-03, ...,\n",
              "          1.24354977e-02, -7.13465270e-05, -5.71223581e-03],\n",
              "        [ 1.68137271e-02,  1.97512601e-02,  5.43556130e-03, ...,\n",
              "          1.24539286e-02,  2.70043500e-04, -6.22195937e-03]]],\n",
              "      dtype=float32)>"
            ]
          },
          "metadata": {},
          "execution_count": 163
        }
      ]
    }
  ]
}