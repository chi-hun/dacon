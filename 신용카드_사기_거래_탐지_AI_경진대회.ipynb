{
  "nbformat": 4,
  "nbformat_minor": 0,
  "metadata": {
    "colab": {
      "name": "신용카드 사기 거래 탐지 AI 경진대회.ipynb",
      "provenance": [],
      "collapsed_sections": [],
      "authorship_tag": "ABX9TyMaUx0/heDYaW9mNcRyRUng",
      "include_colab_link": true
    },
    "kernelspec": {
      "name": "python3",
      "display_name": "Python 3"
    },
    "language_info": {
      "name": "python"
    }
  },
  "cells": [
    {
      "cell_type": "markdown",
      "metadata": {
        "id": "view-in-github",
        "colab_type": "text"
      },
      "source": [
        "<a href=\"https://colab.research.google.com/github/chi-hun/dacon/blob/main/%EC%8B%A0%EC%9A%A9%EC%B9%B4%EB%93%9C_%EC%82%AC%EA%B8%B0_%EA%B1%B0%EB%9E%98_%ED%83%90%EC%A7%80_AI_%EA%B2%BD%EC%A7%84%EB%8C%80%ED%9A%8C.ipynb\" target=\"_parent\"><img src=\"https://colab.research.google.com/assets/colab-badge.svg\" alt=\"Open In Colab\"/></a>"
      ]
    },
    {
      "cell_type": "markdown",
      "source": [
        "신용카드 사기 거래 탐지 AI 경진대회 https://dacon.io/competitions/official/235930/overview/description"
      ],
      "metadata": {
        "id": "dktpT88wk-dw"
      }
    },
    {
      "cell_type": "markdown",
      "source": [
        "# import module"
      ],
      "metadata": {
        "id": "-yxr8aGFsIS6"
      }
    },
    {
      "cell_type": "code",
      "source": [
        "import pandas as pd\n",
        "pd.set_option('display.max_columns',200)\n",
        "import numpy as np\n",
        "import matplotlib.pyplot as plt\n",
        "import seaborn as sns\n",
        "from sklearn.cluster import KMeans\n",
        "from sklearn.metrics import f1_score\n",
        "from sklearn.ensemble import IsolationForest\n",
        "from sklearn.preprocessing import StandardScaler, MinMaxScaler\n",
        "import tensorflow as tf\n",
        "from tensorflow.keras import layers"
      ],
      "metadata": {
        "id": "0TYH8RE_oUri"
      },
      "execution_count": null,
      "outputs": []
    },
    {
      "cell_type": "markdown",
      "source": [
        "# data load\n"
      ],
      "metadata": {
        "id": "LhZ9PY8UvKB9"
      }
    },
    {
      "cell_type": "code",
      "source": [
        "train = pd.read_csv('/content/train.csv')\n",
        "val = pd.read_csv('/content/val.csv')\n",
        "test = pd.read_csv('/content/test.csv')"
      ],
      "metadata": {
        "id": "rIQERIwfvNFU"
      },
      "execution_count": null,
      "outputs": []
    },
    {
      "cell_type": "markdown",
      "source": [
        "# EDA"
      ],
      "metadata": {
        "id": "nsILhx9by7cz"
      }
    },
    {
      "cell_type": "code",
      "source": [
        "train.head()"
      ],
      "metadata": {
        "colab": {
          "base_uri": "https://localhost:8080/",
          "height": 300
        },
        "id": "BfRB3Zngy-iG",
        "outputId": "16a568ab-60ed-4a3a-d1ed-283270867f5a"
      },
      "execution_count": null,
      "outputs": [
        {
          "output_type": "execute_result",
          "data": {
            "text/plain": [
              "   ID        V1        V2        V3        V4        V5        V6        V7  \\\n",
              "0   3 -1.358354 -1.340163  1.773209  0.379780 -0.503198  1.800499  0.791461   \n",
              "1   4 -0.966272 -0.185226  1.792993 -0.863291 -0.010309  1.247203  0.237609   \n",
              "2   6 -0.425966  0.960523  1.141109 -0.168252  0.420987 -0.029728  0.476201   \n",
              "3   8 -0.644269  1.417964  1.074380 -0.492199  0.948934  0.428118  1.120631   \n",
              "4   9 -0.894286  0.286157 -0.113192 -0.271526  2.669599  3.721818  0.370145   \n",
              "\n",
              "         V8        V9  ...       V21       V22       V23       V24       V25  \\\n",
              "0  0.247676 -1.514654  ...  0.247998  0.771679  0.909412 -0.689281 -0.327642   \n",
              "1  0.377436 -1.387024  ... -0.108300  0.005274 -0.190321 -1.175575  0.647376   \n",
              "2  0.260314 -0.568671  ... -0.208254 -0.559825 -0.026398 -0.371427 -0.232794   \n",
              "3 -3.807864  0.615375  ...  1.943465 -1.015455  0.057504 -0.649709 -0.415267   \n",
              "4  0.851084 -0.392048  ... -0.073425 -0.268092 -0.204233  1.011592  0.373205   \n",
              "\n",
              "        V26       V27       V28       V29       V30  \n",
              "0 -0.139097 -0.055353 -0.059752  4.983721 -0.994972  \n",
              "1 -0.221929  0.062723  0.061458  1.418291 -0.994972  \n",
              "2  0.105915  0.253844  0.081080 -0.256131 -0.994960  \n",
              "3 -0.051634 -1.206921 -1.085339  0.262698 -0.994901  \n",
              "4 -0.384157  0.011747  0.142404  0.994900 -0.994901  \n",
              "\n",
              "[5 rows x 31 columns]"
            ],
            "text/html": [
              "\n",
              "  <div id=\"df-67cb2742-a8b5-4e59-af9a-c53688d52c51\">\n",
              "    <div class=\"colab-df-container\">\n",
              "      <div>\n",
              "<style scoped>\n",
              "    .dataframe tbody tr th:only-of-type {\n",
              "        vertical-align: middle;\n",
              "    }\n",
              "\n",
              "    .dataframe tbody tr th {\n",
              "        vertical-align: top;\n",
              "    }\n",
              "\n",
              "    .dataframe thead th {\n",
              "        text-align: right;\n",
              "    }\n",
              "</style>\n",
              "<table border=\"1\" class=\"dataframe\">\n",
              "  <thead>\n",
              "    <tr style=\"text-align: right;\">\n",
              "      <th></th>\n",
              "      <th>ID</th>\n",
              "      <th>V1</th>\n",
              "      <th>V2</th>\n",
              "      <th>V3</th>\n",
              "      <th>V4</th>\n",
              "      <th>V5</th>\n",
              "      <th>V6</th>\n",
              "      <th>V7</th>\n",
              "      <th>V8</th>\n",
              "      <th>V9</th>\n",
              "      <th>...</th>\n",
              "      <th>V21</th>\n",
              "      <th>V22</th>\n",
              "      <th>V23</th>\n",
              "      <th>V24</th>\n",
              "      <th>V25</th>\n",
              "      <th>V26</th>\n",
              "      <th>V27</th>\n",
              "      <th>V28</th>\n",
              "      <th>V29</th>\n",
              "      <th>V30</th>\n",
              "    </tr>\n",
              "  </thead>\n",
              "  <tbody>\n",
              "    <tr>\n",
              "      <th>0</th>\n",
              "      <td>3</td>\n",
              "      <td>-1.358354</td>\n",
              "      <td>-1.340163</td>\n",
              "      <td>1.773209</td>\n",
              "      <td>0.379780</td>\n",
              "      <td>-0.503198</td>\n",
              "      <td>1.800499</td>\n",
              "      <td>0.791461</td>\n",
              "      <td>0.247676</td>\n",
              "      <td>-1.514654</td>\n",
              "      <td>...</td>\n",
              "      <td>0.247998</td>\n",
              "      <td>0.771679</td>\n",
              "      <td>0.909412</td>\n",
              "      <td>-0.689281</td>\n",
              "      <td>-0.327642</td>\n",
              "      <td>-0.139097</td>\n",
              "      <td>-0.055353</td>\n",
              "      <td>-0.059752</td>\n",
              "      <td>4.983721</td>\n",
              "      <td>-0.994972</td>\n",
              "    </tr>\n",
              "    <tr>\n",
              "      <th>1</th>\n",
              "      <td>4</td>\n",
              "      <td>-0.966272</td>\n",
              "      <td>-0.185226</td>\n",
              "      <td>1.792993</td>\n",
              "      <td>-0.863291</td>\n",
              "      <td>-0.010309</td>\n",
              "      <td>1.247203</td>\n",
              "      <td>0.237609</td>\n",
              "      <td>0.377436</td>\n",
              "      <td>-1.387024</td>\n",
              "      <td>...</td>\n",
              "      <td>-0.108300</td>\n",
              "      <td>0.005274</td>\n",
              "      <td>-0.190321</td>\n",
              "      <td>-1.175575</td>\n",
              "      <td>0.647376</td>\n",
              "      <td>-0.221929</td>\n",
              "      <td>0.062723</td>\n",
              "      <td>0.061458</td>\n",
              "      <td>1.418291</td>\n",
              "      <td>-0.994972</td>\n",
              "    </tr>\n",
              "    <tr>\n",
              "      <th>2</th>\n",
              "      <td>6</td>\n",
              "      <td>-0.425966</td>\n",
              "      <td>0.960523</td>\n",
              "      <td>1.141109</td>\n",
              "      <td>-0.168252</td>\n",
              "      <td>0.420987</td>\n",
              "      <td>-0.029728</td>\n",
              "      <td>0.476201</td>\n",
              "      <td>0.260314</td>\n",
              "      <td>-0.568671</td>\n",
              "      <td>...</td>\n",
              "      <td>-0.208254</td>\n",
              "      <td>-0.559825</td>\n",
              "      <td>-0.026398</td>\n",
              "      <td>-0.371427</td>\n",
              "      <td>-0.232794</td>\n",
              "      <td>0.105915</td>\n",
              "      <td>0.253844</td>\n",
              "      <td>0.081080</td>\n",
              "      <td>-0.256131</td>\n",
              "      <td>-0.994960</td>\n",
              "    </tr>\n",
              "    <tr>\n",
              "      <th>3</th>\n",
              "      <td>8</td>\n",
              "      <td>-0.644269</td>\n",
              "      <td>1.417964</td>\n",
              "      <td>1.074380</td>\n",
              "      <td>-0.492199</td>\n",
              "      <td>0.948934</td>\n",
              "      <td>0.428118</td>\n",
              "      <td>1.120631</td>\n",
              "      <td>-3.807864</td>\n",
              "      <td>0.615375</td>\n",
              "      <td>...</td>\n",
              "      <td>1.943465</td>\n",
              "      <td>-1.015455</td>\n",
              "      <td>0.057504</td>\n",
              "      <td>-0.649709</td>\n",
              "      <td>-0.415267</td>\n",
              "      <td>-0.051634</td>\n",
              "      <td>-1.206921</td>\n",
              "      <td>-1.085339</td>\n",
              "      <td>0.262698</td>\n",
              "      <td>-0.994901</td>\n",
              "    </tr>\n",
              "    <tr>\n",
              "      <th>4</th>\n",
              "      <td>9</td>\n",
              "      <td>-0.894286</td>\n",
              "      <td>0.286157</td>\n",
              "      <td>-0.113192</td>\n",
              "      <td>-0.271526</td>\n",
              "      <td>2.669599</td>\n",
              "      <td>3.721818</td>\n",
              "      <td>0.370145</td>\n",
              "      <td>0.851084</td>\n",
              "      <td>-0.392048</td>\n",
              "      <td>...</td>\n",
              "      <td>-0.073425</td>\n",
              "      <td>-0.268092</td>\n",
              "      <td>-0.204233</td>\n",
              "      <td>1.011592</td>\n",
              "      <td>0.373205</td>\n",
              "      <td>-0.384157</td>\n",
              "      <td>0.011747</td>\n",
              "      <td>0.142404</td>\n",
              "      <td>0.994900</td>\n",
              "      <td>-0.994901</td>\n",
              "    </tr>\n",
              "  </tbody>\n",
              "</table>\n",
              "<p>5 rows × 31 columns</p>\n",
              "</div>\n",
              "      <button class=\"colab-df-convert\" onclick=\"convertToInteractive('df-67cb2742-a8b5-4e59-af9a-c53688d52c51')\"\n",
              "              title=\"Convert this dataframe to an interactive table.\"\n",
              "              style=\"display:none;\">\n",
              "        \n",
              "  <svg xmlns=\"http://www.w3.org/2000/svg\" height=\"24px\"viewBox=\"0 0 24 24\"\n",
              "       width=\"24px\">\n",
              "    <path d=\"M0 0h24v24H0V0z\" fill=\"none\"/>\n",
              "    <path d=\"M18.56 5.44l.94 2.06.94-2.06 2.06-.94-2.06-.94-.94-2.06-.94 2.06-2.06.94zm-11 1L8.5 8.5l.94-2.06 2.06-.94-2.06-.94L8.5 2.5l-.94 2.06-2.06.94zm10 10l.94 2.06.94-2.06 2.06-.94-2.06-.94-.94-2.06-.94 2.06-2.06.94z\"/><path d=\"M17.41 7.96l-1.37-1.37c-.4-.4-.92-.59-1.43-.59-.52 0-1.04.2-1.43.59L10.3 9.45l-7.72 7.72c-.78.78-.78 2.05 0 2.83L4 21.41c.39.39.9.59 1.41.59.51 0 1.02-.2 1.41-.59l7.78-7.78 2.81-2.81c.8-.78.8-2.07 0-2.86zM5.41 20L4 18.59l7.72-7.72 1.47 1.35L5.41 20z\"/>\n",
              "  </svg>\n",
              "      </button>\n",
              "      \n",
              "  <style>\n",
              "    .colab-df-container {\n",
              "      display:flex;\n",
              "      flex-wrap:wrap;\n",
              "      gap: 12px;\n",
              "    }\n",
              "\n",
              "    .colab-df-convert {\n",
              "      background-color: #E8F0FE;\n",
              "      border: none;\n",
              "      border-radius: 50%;\n",
              "      cursor: pointer;\n",
              "      display: none;\n",
              "      fill: #1967D2;\n",
              "      height: 32px;\n",
              "      padding: 0 0 0 0;\n",
              "      width: 32px;\n",
              "    }\n",
              "\n",
              "    .colab-df-convert:hover {\n",
              "      background-color: #E2EBFA;\n",
              "      box-shadow: 0px 1px 2px rgba(60, 64, 67, 0.3), 0px 1px 3px 1px rgba(60, 64, 67, 0.15);\n",
              "      fill: #174EA6;\n",
              "    }\n",
              "\n",
              "    [theme=dark] .colab-df-convert {\n",
              "      background-color: #3B4455;\n",
              "      fill: #D2E3FC;\n",
              "    }\n",
              "\n",
              "    [theme=dark] .colab-df-convert:hover {\n",
              "      background-color: #434B5C;\n",
              "      box-shadow: 0px 1px 3px 1px rgba(0, 0, 0, 0.15);\n",
              "      filter: drop-shadow(0px 1px 2px rgba(0, 0, 0, 0.3));\n",
              "      fill: #FFFFFF;\n",
              "    }\n",
              "  </style>\n",
              "\n",
              "      <script>\n",
              "        const buttonEl =\n",
              "          document.querySelector('#df-67cb2742-a8b5-4e59-af9a-c53688d52c51 button.colab-df-convert');\n",
              "        buttonEl.style.display =\n",
              "          google.colab.kernel.accessAllowed ? 'block' : 'none';\n",
              "\n",
              "        async function convertToInteractive(key) {\n",
              "          const element = document.querySelector('#df-67cb2742-a8b5-4e59-af9a-c53688d52c51');\n",
              "          const dataTable =\n",
              "            await google.colab.kernel.invokeFunction('convertToInteractive',\n",
              "                                                     [key], {});\n",
              "          if (!dataTable) return;\n",
              "\n",
              "          const docLinkHtml = 'Like what you see? Visit the ' +\n",
              "            '<a target=\"_blank\" href=https://colab.research.google.com/notebooks/data_table.ipynb>data table notebook</a>'\n",
              "            + ' to learn more about interactive tables.';\n",
              "          element.innerHTML = '';\n",
              "          dataTable['output_type'] = 'display_data';\n",
              "          await google.colab.output.renderOutput(dataTable, element);\n",
              "          const docLink = document.createElement('div');\n",
              "          docLink.innerHTML = docLinkHtml;\n",
              "          element.appendChild(docLink);\n",
              "        }\n",
              "      </script>\n",
              "    </div>\n",
              "  </div>\n",
              "  "
            ]
          },
          "metadata": {},
          "execution_count": 21
        }
      ]
    },
    {
      "cell_type": "code",
      "source": [
        "train.info()"
      ],
      "metadata": {
        "colab": {
          "base_uri": "https://localhost:8080/"
        },
        "id": "58Ljw1YGzEv4",
        "outputId": "d24d6f73-c682-4f56-8116-3367b8b62b4a"
      },
      "execution_count": null,
      "outputs": [
        {
          "output_type": "stream",
          "name": "stdout",
          "text": [
            "<class 'pandas.core.frame.DataFrame'>\n",
            "RangeIndex: 113842 entries, 0 to 113841\n",
            "Data columns (total 31 columns):\n",
            " #   Column  Non-Null Count   Dtype  \n",
            "---  ------  --------------   -----  \n",
            " 0   ID      113842 non-null  int64  \n",
            " 1   V1      113842 non-null  float64\n",
            " 2   V2      113842 non-null  float64\n",
            " 3   V3      113842 non-null  float64\n",
            " 4   V4      113842 non-null  float64\n",
            " 5   V5      113842 non-null  float64\n",
            " 6   V6      113842 non-null  float64\n",
            " 7   V7      113842 non-null  float64\n",
            " 8   V8      113842 non-null  float64\n",
            " 9   V9      113842 non-null  float64\n",
            " 10  V10     113842 non-null  float64\n",
            " 11  V11     113842 non-null  float64\n",
            " 12  V12     113842 non-null  float64\n",
            " 13  V13     113842 non-null  float64\n",
            " 14  V14     113842 non-null  float64\n",
            " 15  V15     113842 non-null  float64\n",
            " 16  V16     113842 non-null  float64\n",
            " 17  V17     113842 non-null  float64\n",
            " 18  V18     113842 non-null  float64\n",
            " 19  V19     113842 non-null  float64\n",
            " 20  V20     113842 non-null  float64\n",
            " 21  V21     113842 non-null  float64\n",
            " 22  V22     113842 non-null  float64\n",
            " 23  V23     113842 non-null  float64\n",
            " 24  V24     113842 non-null  float64\n",
            " 25  V25     113842 non-null  float64\n",
            " 26  V26     113842 non-null  float64\n",
            " 27  V27     113842 non-null  float64\n",
            " 28  V28     113842 non-null  float64\n",
            " 29  V29     113842 non-null  float64\n",
            " 30  V30     113842 non-null  float64\n",
            "dtypes: float64(30), int64(1)\n",
            "memory usage: 26.9 MB\n"
          ]
        }
      ]
    },
    {
      "cell_type": "code",
      "source": [
        "train.isna().sum().sum()"
      ],
      "metadata": {
        "colab": {
          "base_uri": "https://localhost:8080/"
        },
        "id": "YUNCz8eNzJEO",
        "outputId": "5e42b46f-7db4-4d2c-d5b2-a3b9ee79cfd0"
      },
      "execution_count": null,
      "outputs": [
        {
          "output_type": "execute_result",
          "data": {
            "text/plain": [
              "0"
            ]
          },
          "metadata": {},
          "execution_count": 24
        }
      ]
    },
    {
      "cell_type": "code",
      "source": [
        "test.isna().sum().sum()"
      ],
      "metadata": {
        "colab": {
          "base_uri": "https://localhost:8080/"
        },
        "id": "p38zsNuAFNzl",
        "outputId": "ba00c01e-1c5a-4564-8e6c-bba6444f98ab"
      },
      "execution_count": null,
      "outputs": [
        {
          "output_type": "execute_result",
          "data": {
            "text/plain": [
              "0"
            ]
          },
          "metadata": {},
          "execution_count": 96
        }
      ]
    },
    {
      "cell_type": "code",
      "source": [
        "train.describe()"
      ],
      "metadata": {
        "colab": {
          "base_uri": "https://localhost:8080/",
          "height": 364
        },
        "id": "5LLu_1-4zON9",
        "outputId": "3f3d8bec-b3f5-4beb-a2f5-1277237459d8"
      },
      "execution_count": null,
      "outputs": [
        {
          "output_type": "execute_result",
          "data": {
            "text/plain": [
              "                  ID             V1             V2             V3  \\\n",
              "count  113842.000000  113842.000000  113842.000000  113842.000000   \n",
              "mean   142025.527837       0.000197       0.001289       0.009717   \n",
              "std     82248.545392       1.951060       1.651064       1.496916   \n",
              "min         3.000000     -56.407510     -72.715728     -32.454198   \n",
              "25%     70796.750000      -0.923479      -0.595602      -0.883877   \n",
              "50%    141722.000000       0.012074       0.066390       0.183868   \n",
              "75%    213359.500000       1.315373       0.801687       1.037120   \n",
              "max    284803.000000       2.454930      21.467203       4.187811   \n",
              "\n",
              "                  V4             V5             V6             V7  \\\n",
              "count  113842.000000  113842.000000  113842.000000  113842.000000   \n",
              "mean       -0.004169       0.000475       0.005141       0.005769   \n",
              "std         1.412633       1.367533       1.330583       1.204111   \n",
              "min        -5.600607     -42.147898     -26.160506     -41.506796   \n",
              "25%        -0.853728      -0.689853      -0.766094      -0.552071   \n",
              "50%        -0.019359      -0.054060      -0.272436       0.039036   \n",
              "75%         0.742208       0.614214       0.405285       0.568750   \n",
              "max        16.491217      34.801666      23.917837      44.054461   \n",
              "\n",
              "                  V8             V9            V10            V11  \\\n",
              "count  113842.000000  113842.000000  113842.000000  113842.000000   \n",
              "mean       -0.002451      -0.002107       0.005209      -0.001686   \n",
              "std         1.185504       1.095415       1.071337       1.014689   \n",
              "min       -50.943369     -13.434066     -24.403185      -4.682931   \n",
              "25%        -0.209492      -0.647477      -0.533477      -0.763105   \n",
              "50%         0.020970      -0.052157      -0.090810      -0.034405   \n",
              "75%         0.328303       0.590705       0.455287       0.739737   \n",
              "max        20.007208      10.392889      15.331742      10.446847   \n",
              "\n",
              "                 V12            V13            V14            V15  \\\n",
              "count  113842.000000  113842.000000  113842.000000  113842.000000   \n",
              "mean        0.003944       0.002043       0.004397      -0.000500   \n",
              "std         0.977039       0.994908       0.933753       0.915666   \n",
              "min       -18.553697      -3.844974     -15.623187      -4.152532   \n",
              "25%        -0.402650      -0.647334      -0.423962      -0.584307   \n",
              "50%         0.141434      -0.010847       0.052157       0.048524   \n",
              "75%         0.619635       0.663362       0.494116       0.646540   \n",
              "max         4.318071       4.569009       7.518403       5.784514   \n",
              "\n",
              "                 V16            V17            V18            V19  \\\n",
              "count  113842.000000  113842.000000  113842.000000  113842.000000   \n",
              "mean        0.002905       0.003397       0.001114       0.000300   \n",
              "std         0.864903       0.808552       0.830763       0.814542   \n",
              "min       -13.303888     -21.297906      -8.668815      -4.932733   \n",
              "25%        -0.467574      -0.486154      -0.497362      -0.456712   \n",
              "50%         0.066434      -0.066939      -0.004633       0.004657   \n",
              "75%         0.525120       0.397480       0.500335       0.461655   \n",
              "max         8.289890       9.253526       4.295648       4.715142   \n",
              "\n",
              "                 V20            V21           V22            V23  \\\n",
              "count  113842.000000  113842.000000  1.138420e+05  113842.000000   \n",
              "mean       -0.000500      -0.001242  4.088347e-07      -0.001317   \n",
              "std         0.763326       0.722001  7.238291e-01       0.636061   \n",
              "min       -28.009635     -22.757540 -8.887017e+00     -44.807735   \n",
              "25%        -0.211935      -0.229710 -5.402665e-01      -0.162180   \n",
              "50%        -0.062891      -0.030281  8.345807e-03      -0.012261   \n",
              "75%         0.133381       0.186001  5.287508e-01       0.147474   \n",
              "max        26.237391      27.202839  8.361985e+00      22.528412   \n",
              "\n",
              "                 V24            V25            V26            V27  \\\n",
              "count  113842.000000  113842.000000  113842.000000  113842.000000   \n",
              "mean       -0.000884       0.001680      -0.000293      -0.000234   \n",
              "std         0.605854       0.520069       0.480979       0.399505   \n",
              "min        -2.824849     -10.295397      -1.855355      -9.895244   \n",
              "25%        -0.355582      -0.315470      -0.326160      -0.070847   \n",
              "50%         0.040573       0.018278      -0.052815       0.001502   \n",
              "75%         0.438225       0.353989       0.240838       0.091279   \n",
              "max         4.022866       7.519589       3.119295      11.135740   \n",
              "\n",
              "                 V28            V29            V30  \n",
              "count  113842.000000  113842.000000  113842.000000  \n",
              "mean       -0.000508       0.927253       0.116232  \n",
              "std         0.356130       3.412933       0.558161  \n",
              "min        -9.617915      -0.307413      -0.994972  \n",
              "25%        -0.053249      -0.230560      -0.360304  \n",
              "50%         0.011158      -0.000699      -0.002590  \n",
              "75%         0.077851       0.768532       0.640653  \n",
              "max        33.847808     180.101027       1.034951  "
            ],
            "text/html": [
              "\n",
              "  <div id=\"df-6dbce140-988e-4323-bb00-f436f3677527\">\n",
              "    <div class=\"colab-df-container\">\n",
              "      <div>\n",
              "<style scoped>\n",
              "    .dataframe tbody tr th:only-of-type {\n",
              "        vertical-align: middle;\n",
              "    }\n",
              "\n",
              "    .dataframe tbody tr th {\n",
              "        vertical-align: top;\n",
              "    }\n",
              "\n",
              "    .dataframe thead th {\n",
              "        text-align: right;\n",
              "    }\n",
              "</style>\n",
              "<table border=\"1\" class=\"dataframe\">\n",
              "  <thead>\n",
              "    <tr style=\"text-align: right;\">\n",
              "      <th></th>\n",
              "      <th>ID</th>\n",
              "      <th>V1</th>\n",
              "      <th>V2</th>\n",
              "      <th>V3</th>\n",
              "      <th>V4</th>\n",
              "      <th>V5</th>\n",
              "      <th>V6</th>\n",
              "      <th>V7</th>\n",
              "      <th>V8</th>\n",
              "      <th>V9</th>\n",
              "      <th>V10</th>\n",
              "      <th>V11</th>\n",
              "      <th>V12</th>\n",
              "      <th>V13</th>\n",
              "      <th>V14</th>\n",
              "      <th>V15</th>\n",
              "      <th>V16</th>\n",
              "      <th>V17</th>\n",
              "      <th>V18</th>\n",
              "      <th>V19</th>\n",
              "      <th>V20</th>\n",
              "      <th>V21</th>\n",
              "      <th>V22</th>\n",
              "      <th>V23</th>\n",
              "      <th>V24</th>\n",
              "      <th>V25</th>\n",
              "      <th>V26</th>\n",
              "      <th>V27</th>\n",
              "      <th>V28</th>\n",
              "      <th>V29</th>\n",
              "      <th>V30</th>\n",
              "    </tr>\n",
              "  </thead>\n",
              "  <tbody>\n",
              "    <tr>\n",
              "      <th>count</th>\n",
              "      <td>113842.000000</td>\n",
              "      <td>113842.000000</td>\n",
              "      <td>113842.000000</td>\n",
              "      <td>113842.000000</td>\n",
              "      <td>113842.000000</td>\n",
              "      <td>113842.000000</td>\n",
              "      <td>113842.000000</td>\n",
              "      <td>113842.000000</td>\n",
              "      <td>113842.000000</td>\n",
              "      <td>113842.000000</td>\n",
              "      <td>113842.000000</td>\n",
              "      <td>113842.000000</td>\n",
              "      <td>113842.000000</td>\n",
              "      <td>113842.000000</td>\n",
              "      <td>113842.000000</td>\n",
              "      <td>113842.000000</td>\n",
              "      <td>113842.000000</td>\n",
              "      <td>113842.000000</td>\n",
              "      <td>113842.000000</td>\n",
              "      <td>113842.000000</td>\n",
              "      <td>113842.000000</td>\n",
              "      <td>113842.000000</td>\n",
              "      <td>1.138420e+05</td>\n",
              "      <td>113842.000000</td>\n",
              "      <td>113842.000000</td>\n",
              "      <td>113842.000000</td>\n",
              "      <td>113842.000000</td>\n",
              "      <td>113842.000000</td>\n",
              "      <td>113842.000000</td>\n",
              "      <td>113842.000000</td>\n",
              "      <td>113842.000000</td>\n",
              "    </tr>\n",
              "    <tr>\n",
              "      <th>mean</th>\n",
              "      <td>142025.527837</td>\n",
              "      <td>0.000197</td>\n",
              "      <td>0.001289</td>\n",
              "      <td>0.009717</td>\n",
              "      <td>-0.004169</td>\n",
              "      <td>0.000475</td>\n",
              "      <td>0.005141</td>\n",
              "      <td>0.005769</td>\n",
              "      <td>-0.002451</td>\n",
              "      <td>-0.002107</td>\n",
              "      <td>0.005209</td>\n",
              "      <td>-0.001686</td>\n",
              "      <td>0.003944</td>\n",
              "      <td>0.002043</td>\n",
              "      <td>0.004397</td>\n",
              "      <td>-0.000500</td>\n",
              "      <td>0.002905</td>\n",
              "      <td>0.003397</td>\n",
              "      <td>0.001114</td>\n",
              "      <td>0.000300</td>\n",
              "      <td>-0.000500</td>\n",
              "      <td>-0.001242</td>\n",
              "      <td>4.088347e-07</td>\n",
              "      <td>-0.001317</td>\n",
              "      <td>-0.000884</td>\n",
              "      <td>0.001680</td>\n",
              "      <td>-0.000293</td>\n",
              "      <td>-0.000234</td>\n",
              "      <td>-0.000508</td>\n",
              "      <td>0.927253</td>\n",
              "      <td>0.116232</td>\n",
              "    </tr>\n",
              "    <tr>\n",
              "      <th>std</th>\n",
              "      <td>82248.545392</td>\n",
              "      <td>1.951060</td>\n",
              "      <td>1.651064</td>\n",
              "      <td>1.496916</td>\n",
              "      <td>1.412633</td>\n",
              "      <td>1.367533</td>\n",
              "      <td>1.330583</td>\n",
              "      <td>1.204111</td>\n",
              "      <td>1.185504</td>\n",
              "      <td>1.095415</td>\n",
              "      <td>1.071337</td>\n",
              "      <td>1.014689</td>\n",
              "      <td>0.977039</td>\n",
              "      <td>0.994908</td>\n",
              "      <td>0.933753</td>\n",
              "      <td>0.915666</td>\n",
              "      <td>0.864903</td>\n",
              "      <td>0.808552</td>\n",
              "      <td>0.830763</td>\n",
              "      <td>0.814542</td>\n",
              "      <td>0.763326</td>\n",
              "      <td>0.722001</td>\n",
              "      <td>7.238291e-01</td>\n",
              "      <td>0.636061</td>\n",
              "      <td>0.605854</td>\n",
              "      <td>0.520069</td>\n",
              "      <td>0.480979</td>\n",
              "      <td>0.399505</td>\n",
              "      <td>0.356130</td>\n",
              "      <td>3.412933</td>\n",
              "      <td>0.558161</td>\n",
              "    </tr>\n",
              "    <tr>\n",
              "      <th>min</th>\n",
              "      <td>3.000000</td>\n",
              "      <td>-56.407510</td>\n",
              "      <td>-72.715728</td>\n",
              "      <td>-32.454198</td>\n",
              "      <td>-5.600607</td>\n",
              "      <td>-42.147898</td>\n",
              "      <td>-26.160506</td>\n",
              "      <td>-41.506796</td>\n",
              "      <td>-50.943369</td>\n",
              "      <td>-13.434066</td>\n",
              "      <td>-24.403185</td>\n",
              "      <td>-4.682931</td>\n",
              "      <td>-18.553697</td>\n",
              "      <td>-3.844974</td>\n",
              "      <td>-15.623187</td>\n",
              "      <td>-4.152532</td>\n",
              "      <td>-13.303888</td>\n",
              "      <td>-21.297906</td>\n",
              "      <td>-8.668815</td>\n",
              "      <td>-4.932733</td>\n",
              "      <td>-28.009635</td>\n",
              "      <td>-22.757540</td>\n",
              "      <td>-8.887017e+00</td>\n",
              "      <td>-44.807735</td>\n",
              "      <td>-2.824849</td>\n",
              "      <td>-10.295397</td>\n",
              "      <td>-1.855355</td>\n",
              "      <td>-9.895244</td>\n",
              "      <td>-9.617915</td>\n",
              "      <td>-0.307413</td>\n",
              "      <td>-0.994972</td>\n",
              "    </tr>\n",
              "    <tr>\n",
              "      <th>25%</th>\n",
              "      <td>70796.750000</td>\n",
              "      <td>-0.923479</td>\n",
              "      <td>-0.595602</td>\n",
              "      <td>-0.883877</td>\n",
              "      <td>-0.853728</td>\n",
              "      <td>-0.689853</td>\n",
              "      <td>-0.766094</td>\n",
              "      <td>-0.552071</td>\n",
              "      <td>-0.209492</td>\n",
              "      <td>-0.647477</td>\n",
              "      <td>-0.533477</td>\n",
              "      <td>-0.763105</td>\n",
              "      <td>-0.402650</td>\n",
              "      <td>-0.647334</td>\n",
              "      <td>-0.423962</td>\n",
              "      <td>-0.584307</td>\n",
              "      <td>-0.467574</td>\n",
              "      <td>-0.486154</td>\n",
              "      <td>-0.497362</td>\n",
              "      <td>-0.456712</td>\n",
              "      <td>-0.211935</td>\n",
              "      <td>-0.229710</td>\n",
              "      <td>-5.402665e-01</td>\n",
              "      <td>-0.162180</td>\n",
              "      <td>-0.355582</td>\n",
              "      <td>-0.315470</td>\n",
              "      <td>-0.326160</td>\n",
              "      <td>-0.070847</td>\n",
              "      <td>-0.053249</td>\n",
              "      <td>-0.230560</td>\n",
              "      <td>-0.360304</td>\n",
              "    </tr>\n",
              "    <tr>\n",
              "      <th>50%</th>\n",
              "      <td>141722.000000</td>\n",
              "      <td>0.012074</td>\n",
              "      <td>0.066390</td>\n",
              "      <td>0.183868</td>\n",
              "      <td>-0.019359</td>\n",
              "      <td>-0.054060</td>\n",
              "      <td>-0.272436</td>\n",
              "      <td>0.039036</td>\n",
              "      <td>0.020970</td>\n",
              "      <td>-0.052157</td>\n",
              "      <td>-0.090810</td>\n",
              "      <td>-0.034405</td>\n",
              "      <td>0.141434</td>\n",
              "      <td>-0.010847</td>\n",
              "      <td>0.052157</td>\n",
              "      <td>0.048524</td>\n",
              "      <td>0.066434</td>\n",
              "      <td>-0.066939</td>\n",
              "      <td>-0.004633</td>\n",
              "      <td>0.004657</td>\n",
              "      <td>-0.062891</td>\n",
              "      <td>-0.030281</td>\n",
              "      <td>8.345807e-03</td>\n",
              "      <td>-0.012261</td>\n",
              "      <td>0.040573</td>\n",
              "      <td>0.018278</td>\n",
              "      <td>-0.052815</td>\n",
              "      <td>0.001502</td>\n",
              "      <td>0.011158</td>\n",
              "      <td>-0.000699</td>\n",
              "      <td>-0.002590</td>\n",
              "    </tr>\n",
              "    <tr>\n",
              "      <th>75%</th>\n",
              "      <td>213359.500000</td>\n",
              "      <td>1.315373</td>\n",
              "      <td>0.801687</td>\n",
              "      <td>1.037120</td>\n",
              "      <td>0.742208</td>\n",
              "      <td>0.614214</td>\n",
              "      <td>0.405285</td>\n",
              "      <td>0.568750</td>\n",
              "      <td>0.328303</td>\n",
              "      <td>0.590705</td>\n",
              "      <td>0.455287</td>\n",
              "      <td>0.739737</td>\n",
              "      <td>0.619635</td>\n",
              "      <td>0.663362</td>\n",
              "      <td>0.494116</td>\n",
              "      <td>0.646540</td>\n",
              "      <td>0.525120</td>\n",
              "      <td>0.397480</td>\n",
              "      <td>0.500335</td>\n",
              "      <td>0.461655</td>\n",
              "      <td>0.133381</td>\n",
              "      <td>0.186001</td>\n",
              "      <td>5.287508e-01</td>\n",
              "      <td>0.147474</td>\n",
              "      <td>0.438225</td>\n",
              "      <td>0.353989</td>\n",
              "      <td>0.240838</td>\n",
              "      <td>0.091279</td>\n",
              "      <td>0.077851</td>\n",
              "      <td>0.768532</td>\n",
              "      <td>0.640653</td>\n",
              "    </tr>\n",
              "    <tr>\n",
              "      <th>max</th>\n",
              "      <td>284803.000000</td>\n",
              "      <td>2.454930</td>\n",
              "      <td>21.467203</td>\n",
              "      <td>4.187811</td>\n",
              "      <td>16.491217</td>\n",
              "      <td>34.801666</td>\n",
              "      <td>23.917837</td>\n",
              "      <td>44.054461</td>\n",
              "      <td>20.007208</td>\n",
              "      <td>10.392889</td>\n",
              "      <td>15.331742</td>\n",
              "      <td>10.446847</td>\n",
              "      <td>4.318071</td>\n",
              "      <td>4.569009</td>\n",
              "      <td>7.518403</td>\n",
              "      <td>5.784514</td>\n",
              "      <td>8.289890</td>\n",
              "      <td>9.253526</td>\n",
              "      <td>4.295648</td>\n",
              "      <td>4.715142</td>\n",
              "      <td>26.237391</td>\n",
              "      <td>27.202839</td>\n",
              "      <td>8.361985e+00</td>\n",
              "      <td>22.528412</td>\n",
              "      <td>4.022866</td>\n",
              "      <td>7.519589</td>\n",
              "      <td>3.119295</td>\n",
              "      <td>11.135740</td>\n",
              "      <td>33.847808</td>\n",
              "      <td>180.101027</td>\n",
              "      <td>1.034951</td>\n",
              "    </tr>\n",
              "  </tbody>\n",
              "</table>\n",
              "</div>\n",
              "      <button class=\"colab-df-convert\" onclick=\"convertToInteractive('df-6dbce140-988e-4323-bb00-f436f3677527')\"\n",
              "              title=\"Convert this dataframe to an interactive table.\"\n",
              "              style=\"display:none;\">\n",
              "        \n",
              "  <svg xmlns=\"http://www.w3.org/2000/svg\" height=\"24px\"viewBox=\"0 0 24 24\"\n",
              "       width=\"24px\">\n",
              "    <path d=\"M0 0h24v24H0V0z\" fill=\"none\"/>\n",
              "    <path d=\"M18.56 5.44l.94 2.06.94-2.06 2.06-.94-2.06-.94-.94-2.06-.94 2.06-2.06.94zm-11 1L8.5 8.5l.94-2.06 2.06-.94-2.06-.94L8.5 2.5l-.94 2.06-2.06.94zm10 10l.94 2.06.94-2.06 2.06-.94-2.06-.94-.94-2.06-.94 2.06-2.06.94z\"/><path d=\"M17.41 7.96l-1.37-1.37c-.4-.4-.92-.59-1.43-.59-.52 0-1.04.2-1.43.59L10.3 9.45l-7.72 7.72c-.78.78-.78 2.05 0 2.83L4 21.41c.39.39.9.59 1.41.59.51 0 1.02-.2 1.41-.59l7.78-7.78 2.81-2.81c.8-.78.8-2.07 0-2.86zM5.41 20L4 18.59l7.72-7.72 1.47 1.35L5.41 20z\"/>\n",
              "  </svg>\n",
              "      </button>\n",
              "      \n",
              "  <style>\n",
              "    .colab-df-container {\n",
              "      display:flex;\n",
              "      flex-wrap:wrap;\n",
              "      gap: 12px;\n",
              "    }\n",
              "\n",
              "    .colab-df-convert {\n",
              "      background-color: #E8F0FE;\n",
              "      border: none;\n",
              "      border-radius: 50%;\n",
              "      cursor: pointer;\n",
              "      display: none;\n",
              "      fill: #1967D2;\n",
              "      height: 32px;\n",
              "      padding: 0 0 0 0;\n",
              "      width: 32px;\n",
              "    }\n",
              "\n",
              "    .colab-df-convert:hover {\n",
              "      background-color: #E2EBFA;\n",
              "      box-shadow: 0px 1px 2px rgba(60, 64, 67, 0.3), 0px 1px 3px 1px rgba(60, 64, 67, 0.15);\n",
              "      fill: #174EA6;\n",
              "    }\n",
              "\n",
              "    [theme=dark] .colab-df-convert {\n",
              "      background-color: #3B4455;\n",
              "      fill: #D2E3FC;\n",
              "    }\n",
              "\n",
              "    [theme=dark] .colab-df-convert:hover {\n",
              "      background-color: #434B5C;\n",
              "      box-shadow: 0px 1px 3px 1px rgba(0, 0, 0, 0.15);\n",
              "      filter: drop-shadow(0px 1px 2px rgba(0, 0, 0, 0.3));\n",
              "      fill: #FFFFFF;\n",
              "    }\n",
              "  </style>\n",
              "\n",
              "      <script>\n",
              "        const buttonEl =\n",
              "          document.querySelector('#df-6dbce140-988e-4323-bb00-f436f3677527 button.colab-df-convert');\n",
              "        buttonEl.style.display =\n",
              "          google.colab.kernel.accessAllowed ? 'block' : 'none';\n",
              "\n",
              "        async function convertToInteractive(key) {\n",
              "          const element = document.querySelector('#df-6dbce140-988e-4323-bb00-f436f3677527');\n",
              "          const dataTable =\n",
              "            await google.colab.kernel.invokeFunction('convertToInteractive',\n",
              "                                                     [key], {});\n",
              "          if (!dataTable) return;\n",
              "\n",
              "          const docLinkHtml = 'Like what you see? Visit the ' +\n",
              "            '<a target=\"_blank\" href=https://colab.research.google.com/notebooks/data_table.ipynb>data table notebook</a>'\n",
              "            + ' to learn more about interactive tables.';\n",
              "          element.innerHTML = '';\n",
              "          dataTable['output_type'] = 'display_data';\n",
              "          await google.colab.output.renderOutput(dataTable, element);\n",
              "          const docLink = document.createElement('div');\n",
              "          docLink.innerHTML = docLinkHtml;\n",
              "          element.appendChild(docLink);\n",
              "        }\n",
              "      </script>\n",
              "    </div>\n",
              "  </div>\n",
              "  "
            ]
          },
          "metadata": {},
          "execution_count": 27
        }
      ]
    },
    {
      "cell_type": "code",
      "source": [
        "plt.figure(figsize=(15,15))\n",
        "for i in range(1,31):\n",
        "    plt.subplot(6,5,i)\n",
        "    plt.title(f'{train.columns[i]}')\n",
        "    sns.kdeplot(train.iloc[:,i])\n",
        "    sns.kdeplot(test.iloc[:,i])\n",
        "    plt.xlabel(False)\n",
        "    plt.ylabel(False)\n",
        "plt.show()"
      ],
      "metadata": {
        "colab": {
          "base_uri": "https://localhost:8080/",
          "height": 893
        },
        "id": "9J3eBggCzrce",
        "outputId": "ff4266b1-38f0-459d-b9e2-a5bddcda45dc"
      },
      "execution_count": null,
      "outputs": [
        {
          "output_type": "display_data",
          "data": {
            "text/plain": [
              "<Figure size 1080x1080 with 30 Axes>"
            ],
            "image/png": "[encoded data removed]"
          },
          "metadata": {
            "needs_background": "light"
          }
        }
      ]
    },
    {
      "cell_type": "code",
      "source": [
        "sns.pairplot(train.iloc[:,1:])\n",
        "plt.show()"
      ],
      "metadata": {
        "colab": {
          "base_uri": "https://localhost:8080/",
          "height": 1000
        },
        "id": "KbEHqDr940GR",
        "outputId": "a669638b-0703-4aad-a37c-298363380c1c"
      },
      "execution_count": null,
      "outputs": []
    },
    {
      "cell_type": "code",
      "source": [
        "x_train = train.copy()\n",
        "x_test = test.copy()\n",
        "_ = x_train.pop('ID')\n",
        "_ = x_test.pop('ID')"
      ],
      "metadata": {
        "id": "DDs9huWJ8q-F"
      },
      "execution_count": null,
      "outputs": []
    },
    {
      "cell_type": "markdown",
      "source": [
        "# model(kmeasns)"
      ],
      "metadata": {
        "id": "5zm4hu4x9AGJ"
      }
    },
    {
      "cell_type": "code",
      "source": [
        "model = KMeans(n_clusters=2)\n",
        "model.fit(x_train)"
      ],
      "metadata": {
        "colab": {
          "base_uri": "https://localhost:8080/"
        },
        "id": "eOb83JFr9Fuq",
        "outputId": "ae164e5a-af88-46bb-c7c0-c6b2f5f3a2ba"
      },
      "execution_count": null,
      "outputs": [
        {
          "output_type": "execute_result",
          "data": {
            "text/plain": [
              "KMeans(n_clusters=2)"
            ]
          },
          "metadata": {},
          "execution_count": 153
        }
      ]
    },
    {
      "cell_type": "code",
      "source": [
        "fit_labels = model.labels_"
      ],
      "metadata": {
        "id": "CaaOExaK9pge"
      },
      "execution_count": null,
      "outputs": []
    },
    {
      "cell_type": "code",
      "source": [
        "sns.histplot(fit_labels)\n",
        "plt.show()"
      ],
      "metadata": {
        "colab": {
          "base_uri": "https://localhost:8080/",
          "height": 265
        },
        "id": "MOERNeM-9yyK",
        "outputId": "e2365d72-a661-49d4-88e2-6bc406b71bd7"
      },
      "execution_count": null,
      "outputs": [
        {
          "output_type": "display_data",
          "data": {
            "text/plain": [
              "<Figure size 432x288 with 1 Axes>"
            ],
            "image/png": "[encoded data removed]"
          },
          "metadata": {
            "needs_background": "light"
          }
        }
      ]
    },
    {
      "cell_type": "code",
      "source": [
        "fit_labels = np.where(fit_labels == 0, 1, 0)\n",
        "np.sum(fit_labels)"
      ],
      "metadata": {
        "colab": {
          "base_uri": "https://localhost:8080/"
        },
        "id": "ktwOuMWG-KBM",
        "outputId": "a7fc1f87-920e-4ea6-90b7-875d3f8343e5"
      },
      "execution_count": null,
      "outputs": [
        {
          "output_type": "execute_result",
          "data": {
            "text/plain": [
              "2281"
            ]
          },
          "metadata": {},
          "execution_count": 156
        }
      ]
    },
    {
      "cell_type": "code",
      "source": [
        "pre = model.predict(x_test)"
      ],
      "metadata": {
        "id": "F0L-zgCy-aMG"
      },
      "execution_count": null,
      "outputs": []
    },
    {
      "cell_type": "code",
      "source": [
        "pre = np.where(pre == 0, 1, 0)"
      ],
      "metadata": {
        "id": "C5TiL8rx_Hci"
      },
      "execution_count": null,
      "outputs": []
    },
    {
      "cell_type": "code",
      "source": [
        "submission = pd.read_csv('/content/sample_submission.csv')"
      ],
      "metadata": {
        "id": "udbe9pbT_hoQ"
      },
      "execution_count": null,
      "outputs": []
    },
    {
      "cell_type": "code",
      "source": [
        "submission['Class'] = pre"
      ],
      "metadata": {
        "id": "1svKO0h2_nFR"
      },
      "execution_count": null,
      "outputs": []
    },
    {
      "cell_type": "code",
      "source": [
        "submission.to_csv('submission.csv', index=False)"
      ],
      "metadata": {
        "id": "nD8F592zAofb"
      },
      "execution_count": null,
      "outputs": []
    },
    {
      "cell_type": "code",
      "source": [
        "ppp = model.predict((val.iloc[:,1:31]))"
      ],
      "metadata": {
        "id": "0TTFD7qMA0uj"
      },
      "execution_count": null,
      "outputs": []
    },
    {
      "cell_type": "code",
      "source": [
        "ppp = np.where(ppp == 0, 1, 0)"
      ],
      "metadata": {
        "id": "C4p7EtsYBHaP"
      },
      "execution_count": null,
      "outputs": []
    },
    {
      "cell_type": "code",
      "source": [
        "a = np.sum(ppp == val['Class'])"
      ],
      "metadata": {
        "id": "yci-D8ZRBOql"
      },
      "execution_count": null,
      "outputs": []
    },
    {
      "cell_type": "code",
      "source": [
        "(a / val.shape[0] ) *100"
      ],
      "metadata": {
        "colab": {
          "base_uri": "https://localhost:8080/"
        },
        "id": "25dbbXxOBUab",
        "outputId": "8e6af3b6-e041-48e8-ea06-1b2b56a64e5c"
      },
      "execution_count": null,
      "outputs": [
        {
          "output_type": "execute_result",
          "data": {
            "text/plain": [
              "58.89255849905136"
            ]
          },
          "metadata": {},
          "execution_count": 161
        }
      ]
    },
    {
      "cell_type": "code",
      "source": [
        "ppp"
      ],
      "metadata": {
        "colab": {
          "base_uri": "https://localhost:8080/"
        },
        "id": "iSMgAp84HQKt",
        "outputId": "113e5e29-2359-47ff-e139-980224a3e354"
      },
      "execution_count": null,
      "outputs": [
        {
          "output_type": "execute_result",
          "data": {
            "text/plain": [
              "array([0, 0, 0, ..., 0, 0, 0])"
            ]
          },
          "metadata": {},
          "execution_count": 162
        }
      ]
    },
    {
      "cell_type": "code",
      "source": [
        "np.array(val['Class']).sum()"
      ],
      "metadata": {
        "colab": {
          "base_uri": "https://localhost:8080/"
        },
        "id": "a6oZiq0oHU3F",
        "outputId": "9cbf91b5-2071-42b8-ded6-fde37ae2722c"
      },
      "execution_count": null,
      "outputs": [
        {
          "output_type": "execute_result",
          "data": {
            "text/plain": [
              "30"
            ]
          },
          "metadata": {},
          "execution_count": 163
        }
      ]
    },
    {
      "cell_type": "code",
      "source": [
        "val.shape"
      ],
      "metadata": {
        "colab": {
          "base_uri": "https://localhost:8080/"
        },
        "id": "9qoBLEJNKeth",
        "outputId": "b3c85e02-0740-4525-c7cc-3fd990263db8"
      },
      "execution_count": null,
      "outputs": [
        {
          "output_type": "execute_result",
          "data": {
            "text/plain": [
              "(28462, 32)"
            ]
          },
          "metadata": {},
          "execution_count": 150
        }
      ]
    },
    {
      "cell_type": "code",
      "source": [
        "f1_score(np.array(val['Class']),ppp, average='macro')"
      ],
      "metadata": {
        "colab": {
          "base_uri": "https://localhost:8080/"
        },
        "id": "1H3bwJTXGo-h",
        "outputId": "a24455b8-19bc-4281-cc52-3015a03124dc"
      },
      "execution_count": null,
      "outputs": [
        {
          "output_type": "execute_result",
          "data": {
            "text/plain": [
              "0.4948440800099391"
            ]
          },
          "metadata": {},
          "execution_count": 164
        }
      ]
    },
    {
      "cell_type": "markdown",
      "source": [
        "# model(IsolationForest)"
      ],
      "metadata": {
        "id": "7UqUQWtGLdsu"
      }
    },
    {
      "cell_type": "code",
      "source": [
        "val_0, val_1 = val.Class.value_counts()\n",
        "val_rate = val_1/val_0\n",
        "val_rate"
      ],
      "metadata": {
        "colab": {
          "base_uri": "https://localhost:8080/"
        },
        "id": "QdtF3j-MLz6n",
        "outputId": "eaf1523c-7de1-4051-b1a8-8d0e50e14be8"
      },
      "execution_count": null,
      "outputs": [
        {
          "output_type": "execute_result",
          "data": {
            "text/plain": [
              "0.0010551491277433877"
            ]
          },
          "metadata": {},
          "execution_count": 169
        }
      ]
    },
    {
      "cell_type": "code",
      "source": [
        "model = IsolationForest(contamination=val_rate)\n",
        "model.fit(x_train)"
      ],
      "metadata": {
        "colab": {
          "base_uri": "https://localhost:8080/"
        },
        "id": "j8YiRdEBM-Mw",
        "outputId": "0ff2342f-9d85-4274-cd1b-21372e0da954"
      },
      "execution_count": null,
      "outputs": [
        {
          "output_type": "stream",
          "name": "stderr",
          "text": [
            "/usr/local/lib/python3.7/dist-packages/sklearn/base.py:451: UserWarning: X does not have valid feature names, but IsolationForest was fitted with feature names\n",
            "  \"X does not have valid feature names, but\"\n"
          ]
        },
        {
          "output_type": "execute_result",
          "data": {
            "text/plain": [
              "IsolationForest(contamination=0.0010551491277433877)"
            ]
          },
          "metadata": {},
          "execution_count": 170
        }
      ]
    },
    {
      "cell_type": "code",
      "source": [
        "pre_val = model.predict(val.iloc[:,1:31])"
      ],
      "metadata": {
        "id": "MLwy4Vg5NrZ9"
      },
      "execution_count": null,
      "outputs": []
    },
    {
      "cell_type": "code",
      "source": [
        "pre_val = np.where(pre_val == 1, 0, pre_val)\n",
        "pre_val = np.where(pre_val == -1, 1, pre_val)"
      ],
      "metadata": {
        "id": "7pd31XXZOWnB"
      },
      "execution_count": null,
      "outputs": []
    },
    {
      "cell_type": "code",
      "source": [
        "f1_score(np.array(val['Class']),pre_val, average='macro')"
      ],
      "metadata": {
        "colab": {
          "base_uri": "https://localhost:8080/"
        },
        "id": "Dk_K4opTORdS",
        "outputId": "1c474fe6-d279-4d98-cbc5-9474247527cf"
      },
      "execution_count": null,
      "outputs": [
        {
          "output_type": "execute_result",
          "data": {
            "text/plain": [
              "0.6997098595016618"
            ]
          },
          "metadata": {},
          "execution_count": 176
        }
      ]
    },
    {
      "cell_type": "code",
      "source": [
        "for i in [50,100,200]:\n",
        "    model = IsolationForest(contamination=val_rate, n_estimators = i)\n",
        "    model.fit(x_train)\n",
        "    pre_val = model.predict(val.iloc[:,1:31])\n",
        "    pre_val = np.where(pre_val == 1, 0, pre_val)\n",
        "    pre_val = np.where(pre_val == -1, 1, pre_val)\n",
        "    f1 = f1_score(np.array(val['Class']),pre_val, average='macro')\n",
        "    print(f'{i} == f1 : {f1}')"
      ],
      "metadata": {
        "colab": {
          "base_uri": "https://localhost:8080/"
        },
        "id": "1jKwg7BZPJ3P",
        "outputId": "c5ac4612-36a6-4b6c-a291-8ccea0fabd94"
      },
      "execution_count": null,
      "outputs": [
        {
          "output_type": "stream",
          "name": "stderr",
          "text": [
            "/usr/local/lib/python3.7/dist-packages/sklearn/base.py:451: UserWarning: X does not have valid feature names, but IsolationForest was fitted with feature names\n",
            "  \"X does not have valid feature names, but\"\n"
          ]
        },
        {
          "output_type": "stream",
          "name": "stdout",
          "text": [
            "50 == f1 : 0.7030820840915222\n"
          ]
        },
        {
          "output_type": "stream",
          "name": "stderr",
          "text": [
            "/usr/local/lib/python3.7/dist-packages/sklearn/base.py:451: UserWarning: X does not have valid feature names, but IsolationForest was fitted with feature names\n",
            "  \"X does not have valid feature names, but\"\n"
          ]
        },
        {
          "output_type": "stream",
          "name": "stdout",
          "text": [
            "100 == f1 : 0.7112747113626281\n"
          ]
        },
        {
          "output_type": "stream",
          "name": "stderr",
          "text": [
            "/usr/local/lib/python3.7/dist-packages/sklearn/base.py:451: UserWarning: X does not have valid feature names, but IsolationForest was fitted with feature names\n",
            "  \"X does not have valid feature names, but\"\n"
          ]
        },
        {
          "output_type": "stream",
          "name": "stdout",
          "text": [
            "200 == f1 : 0.6848862578069541\n"
          ]
        }
      ]
    },
    {
      "cell_type": "code",
      "source": [
        "for i in [70,100,150]:\n",
        "    model = IsolationForest(contamination=val_rate, n_estimators = i)\n",
        "    model.fit(x_train)\n",
        "    pre_val = model.predict(val.iloc[:,1:31])\n",
        "    pre_val = np.where(pre_val == 1, 0, pre_val)\n",
        "    pre_val = np.where(pre_val == -1, 1, pre_val)\n",
        "    f1 = f1_score(np.array(val['Class']),pre_val, average='macro')\n",
        "    print(f'{i} == f1 : {f1}')"
      ],
      "metadata": {
        "colab": {
          "base_uri": "https://localhost:8080/"
        },
        "id": "1mlRxBiwO1A8",
        "outputId": "01cca202-c245-4ed1-961a-137528b2d105"
      },
      "execution_count": null,
      "outputs": [
        {
          "output_type": "stream",
          "name": "stderr",
          "text": [
            "/usr/local/lib/python3.7/dist-packages/sklearn/base.py:451: UserWarning: X does not have valid feature names, but IsolationForest was fitted with feature names\n",
            "  \"X does not have valid feature names, but\"\n"
          ]
        },
        {
          "output_type": "stream",
          "name": "stdout",
          "text": [
            "70 == f1 : 0.6720796742978351\n"
          ]
        },
        {
          "output_type": "stream",
          "name": "stderr",
          "text": [
            "/usr/local/lib/python3.7/dist-packages/sklearn/base.py:451: UserWarning: X does not have valid feature names, but IsolationForest was fitted with feature names\n",
            "  \"X does not have valid feature names, but\"\n"
          ]
        },
        {
          "output_type": "stream",
          "name": "stdout",
          "text": [
            "100 == f1 : 0.7140043609762959\n"
          ]
        },
        {
          "output_type": "stream",
          "name": "stderr",
          "text": [
            "/usr/local/lib/python3.7/dist-packages/sklearn/base.py:451: UserWarning: X does not have valid feature names, but IsolationForest was fitted with feature names\n",
            "  \"X does not have valid feature names, but\"\n"
          ]
        },
        {
          "output_type": "stream",
          "name": "stdout",
          "text": [
            "150 == f1 : 0.6961296335373144\n"
          ]
        }
      ]
    },
    {
      "cell_type": "code",
      "source": [
        "for i in [80,100,130]:\n",
        "    model = IsolationForest(contamination=val_rate, n_estimators = i)\n",
        "    model.fit(x_train)\n",
        "    pre_val = model.predict(val.iloc[:,1:31])\n",
        "    pre_val = np.where(pre_val == 1, 0, pre_val)\n",
        "    pre_val = np.where(pre_val == -1, 1, pre_val)\n",
        "    f1 = f1_score(np.array(val['Class']),pre_val, average='macro')\n",
        "    print(f'{i} == f1 : {f1}')"
      ],
      "metadata": {
        "colab": {
          "base_uri": "https://localhost:8080/"
        },
        "id": "5oybOa6lQYTW",
        "outputId": "bc871b92-1d5e-40f3-bb6a-e29f5d2c032c"
      },
      "execution_count": null,
      "outputs": [
        {
          "output_type": "stream",
          "name": "stderr",
          "text": [
            "/usr/local/lib/python3.7/dist-packages/sklearn/base.py:451: UserWarning: X does not have valid feature names, but IsolationForest was fitted with feature names\n",
            "  \"X does not have valid feature names, but\"\n"
          ]
        },
        {
          "output_type": "stream",
          "name": "stdout",
          "text": [
            "80 == f1 : 0.6375617452765545\n"
          ]
        },
        {
          "output_type": "stream",
          "name": "stderr",
          "text": [
            "/usr/local/lib/python3.7/dist-packages/sklearn/base.py:451: UserWarning: X does not have valid feature names, but IsolationForest was fitted with feature names\n",
            "  \"X does not have valid feature names, but\"\n"
          ]
        },
        {
          "output_type": "stream",
          "name": "stdout",
          "text": [
            "100 == f1 : 0.6695036068056041\n"
          ]
        },
        {
          "output_type": "stream",
          "name": "stderr",
          "text": [
            "/usr/local/lib/python3.7/dist-packages/sklearn/base.py:451: UserWarning: X does not have valid feature names, but IsolationForest was fitted with feature names\n",
            "  \"X does not have valid feature names, but\"\n"
          ]
        },
        {
          "output_type": "stream",
          "name": "stdout",
          "text": [
            "130 == f1 : 0.6815104570472169\n"
          ]
        }
      ]
    },
    {
      "cell_type": "code",
      "source": [
        "for i in [120,140,130,110]:\n",
        "    model = IsolationForest(contamination=val_rate, n_estimators = i)\n",
        "    model.fit(x_train)\n",
        "    pre_val = model.predict(val.iloc[:,1:31])\n",
        "    pre_val = np.where(pre_val == 1, 0, pre_val)\n",
        "    pre_val = np.where(pre_val == -1, 1, pre_val)\n",
        "    f1 = f1_score(np.array(val['Class']),pre_val, average='macro')\n",
        "    print(f'{i} == f1 : {f1}')"
      ],
      "metadata": {
        "colab": {
          "base_uri": "https://localhost:8080/"
        },
        "id": "B_nPGbH9Q5x8",
        "outputId": "d1ba74d1-580c-42b4-8dd0-65577150b99b"
      },
      "execution_count": null,
      "outputs": [
        {
          "output_type": "stream",
          "name": "stderr",
          "text": [
            "/usr/local/lib/python3.7/dist-packages/sklearn/base.py:451: UserWarning: X does not have valid feature names, but IsolationForest was fitted with feature names\n",
            "  \"X does not have valid feature names, but\"\n"
          ]
        },
        {
          "output_type": "stream",
          "name": "stdout",
          "text": [
            "120 == f1 : 0.7030820840915222\n"
          ]
        },
        {
          "output_type": "stream",
          "name": "stderr",
          "text": [
            "/usr/local/lib/python3.7/dist-packages/sklearn/base.py:451: UserWarning: X does not have valid feature names, but IsolationForest was fitted with feature names\n",
            "  \"X does not have valid feature names, but\"\n"
          ]
        },
        {
          "output_type": "stream",
          "name": "stdout",
          "text": [
            "140 == f1 : 0.6782549060983329\n"
          ]
        },
        {
          "output_type": "stream",
          "name": "stderr",
          "text": [
            "/usr/local/lib/python3.7/dist-packages/sklearn/base.py:451: UserWarning: X does not have valid feature names, but IsolationForest was fitted with feature names\n",
            "  \"X does not have valid feature names, but\"\n"
          ]
        },
        {
          "output_type": "stream",
          "name": "stdout",
          "text": [
            "130 == f1 : 0.7072746231706779\n"
          ]
        },
        {
          "output_type": "stream",
          "name": "stderr",
          "text": [
            "/usr/local/lib/python3.7/dist-packages/sklearn/base.py:451: UserWarning: X does not have valid feature names, but IsolationForest was fitted with feature names\n",
            "  \"X does not have valid feature names, but\"\n"
          ]
        },
        {
          "output_type": "stream",
          "name": "stdout",
          "text": [
            "110 == f1 : 0.6635739106042333\n"
          ]
        }
      ]
    },
    {
      "cell_type": "code",
      "source": [
        "model = IsolationForest(contamination=val_rate, n_estimators = 130)\n",
        "model.fit(x_train)\n",
        "pre_val = model.predict(val.iloc[:,1:31])\n",
        "pre_val = np.where(pre_val == 1, 0, pre_val)\n",
        "pre_val = np.where(pre_val == -1, 1, pre_val)\n",
        "f1 = f1_score(np.array(val['Class']),pre_val, average='macro')\n",
        "print(f'{130} == f1 : {f1}')"
      ],
      "metadata": {
        "colab": {
          "base_uri": "https://localhost:8080/"
        },
        "id": "-PgrP51eRf_K",
        "outputId": "93e1b23a-4bba-4d22-a265-11b33c462228"
      },
      "execution_count": null,
      "outputs": [
        {
          "output_type": "stream",
          "name": "stderr",
          "text": [
            "/usr/local/lib/python3.7/dist-packages/sklearn/base.py:451: UserWarning: X does not have valid feature names, but IsolationForest was fitted with feature names\n",
            "  \"X does not have valid feature names, but\"\n"
          ]
        },
        {
          "output_type": "stream",
          "name": "stdout",
          "text": [
            "110 == f1 : 0.6961296335373144\n"
          ]
        }
      ]
    },
    {
      "cell_type": "code",
      "source": [
        "pre = model.predict(x_test)\n",
        "pre = np.where(pre == 1, 0, pre)\n",
        "pre = np.where(pre == -1, 1, pre)\n",
        "pre"
      ],
      "metadata": {
        "colab": {
          "base_uri": "https://localhost:8080/"
        },
        "id": "UOHIZdQnRwwW",
        "outputId": "2be5b1ee-849a-4986-f0fb-3bb193d64b8b"
      },
      "execution_count": null,
      "outputs": [
        {
          "output_type": "execute_result",
          "data": {
            "text/plain": [
              "array([0, 0, 0, ..., 0, 0, 0])"
            ]
          },
          "metadata": {},
          "execution_count": 188
        }
      ]
    },
    {
      "cell_type": "code",
      "source": [
        "submission = pd.read_csv('/content/sample_submission.csv')\n",
        "submission['Class'] = pre\n",
        "submission.to_csv('submission.csv', index= False)"
      ],
      "metadata": {
        "id": "erFxCaPlSEZW"
      },
      "execution_count": null,
      "outputs": []
    },
    {
      "cell_type": "markdown",
      "source": [
        "# model(conv2D + kmeans)"
      ],
      "metadata": {
        "id": "8i0IHcBsS3Fk"
      }
    },
    {
      "cell_type": "code",
      "source": [
        "x_train_n = np.array(x_train)\n",
        "x_train_n.shape"
      ],
      "metadata": {
        "colab": {
          "base_uri": "https://localhost:8080/"
        },
        "id": "vEKbs9wjULbs",
        "outputId": "ab793ee1-3443-4bdd-a15b-98cc8d045e1c"
      },
      "execution_count": null,
      "outputs": [
        {
          "output_type": "execute_result",
          "data": {
            "text/plain": [
              "(113842, 30)"
            ]
          },
          "metadata": {},
          "execution_count": 203
        }
      ]
    },
    {
      "cell_type": "code",
      "source": [
        "x_test_n = np.array(x_test)\n",
        "x_test_n.shape"
      ],
      "metadata": {
        "colab": {
          "base_uri": "https://localhost:8080/"
        },
        "id": "_0xSFIIxfsOV",
        "outputId": "8d6f2607-84d8-4b7d-e96a-80d8bd7ee1cc"
      },
      "execution_count": null,
      "outputs": [
        {
          "output_type": "execute_result",
          "data": {
            "text/plain": [
              "(142503, 30)"
            ]
          },
          "metadata": {},
          "execution_count": 235
        }
      ]
    },
    {
      "cell_type": "code",
      "source": [
        "x_train_n = x_train_n.reshape(113842,6,5,1)"
      ],
      "metadata": {
        "id": "hnceTP78UY1h"
      },
      "execution_count": null,
      "outputs": []
    },
    {
      "cell_type": "code",
      "source": [
        "x_test_n = x_test_n.reshape(142503,6,5,1)"
      ],
      "metadata": {
        "id": "2hPHv0PLfzPS"
      },
      "execution_count": null,
      "outputs": []
    },
    {
      "cell_type": "code",
      "source": [
        "plt.imshow(x_train_n[0][:,:,0], cmap='ocean')\n",
        "plt.colorbar()\n",
        "plt.show()"
      ],
      "metadata": {
        "colab": {
          "base_uri": "https://localhost:8080/",
          "height": 265
        },
        "id": "HeXEzc-AVL3g",
        "outputId": "c8f958bc-111f-44ee-f628-11f733535e3f"
      },
      "execution_count": null,
      "outputs": [
        {
          "output_type": "display_data",
          "data": {
            "text/plain": [
              "<Figure size 432x288 with 2 Axes>"
            ],
            "image/png": "[encoded data removed]"
          },
          "metadata": {
            "needs_background": "light"
          }
        }
      ]
    },
    {
      "cell_type": "code",
      "source": [
        "def model_make1():\n",
        "    inputs = layers.Input(shape = (6,5,1))\n",
        "    x = layers.experimental.preprocessing.Rescaling(1./255)(inputs)\n",
        "    x = layers.Conv2D(16, (2,2), padding = 'same', activation='elu')(x)\n",
        "    x = layers.Conv2D(16, (2,2), activation='elu')(x)\n",
        "    x = layers.Conv2D(32, (2,2),  padding = 'same', activation='elu')(x)\n",
        "    x = layers.Conv2D(32, (2,2), activation='elu')(x)\n",
        "    x = layers.Conv2D(64, (2,2),  padding = 'same', activation='elu')(x)\n",
        "    x = layers.Conv2D(64, (2,2), activation='elu')(x)\n",
        "    x = layers.MaxPool2D((2,2))(x)\n",
        "\n",
        "    x = layers.GlobalAveragePooling2D()(x)\n",
        "    x = layers.Dense(128, activation='elu')(x)\n",
        "    x = layers.Dense(64, activation='elu')(x)\n",
        "    outputs = layers.Dense(1, activation='sigmoid')(x)\n",
        "\n",
        "    model = tf.keras.Model(inputs, outputs)\n",
        "    return model"
      ],
      "metadata": {
        "id": "lDOejND2ZnB-"
      },
      "execution_count": null,
      "outputs": []
    },
    {
      "cell_type": "code",
      "source": [
        "model = model_make1()\n",
        "model.summary()"
      ],
      "metadata": {
        "colab": {
          "base_uri": "https://localhost:8080/"
        },
        "id": "IOFwwwDYbILq",
        "outputId": "062435e1-4f0a-4f6a-dabf-6a44860b4b68"
      },
      "execution_count": null,
      "outputs": [
        {
          "output_type": "stream",
          "name": "stdout",
          "text": [
            "Model: \"model_8\"\n",
            "_________________________________________________________________\n",
            " Layer (type)                Output Shape              Param #   \n",
            "=================================================================\n",
            " input_10 (InputLayer)       [(None, 6, 5, 1)]         0         \n",
            "                                                                 \n",
            " rescaling_9 (Rescaling)     (None, 6, 5, 1)           0         \n",
            "                                                                 \n",
            " conv2d_50 (Conv2D)          (None, 6, 5, 16)          80        \n",
            "                                                                 \n",
            " conv2d_51 (Conv2D)          (None, 5, 4, 16)          1040      \n",
            "                                                                 \n",
            " conv2d_52 (Conv2D)          (None, 5, 4, 32)          2080      \n",
            "                                                                 \n",
            " conv2d_53 (Conv2D)          (None, 4, 3, 32)          4128      \n",
            "                                                                 \n",
            " conv2d_54 (Conv2D)          (None, 4, 3, 64)          8256      \n",
            "                                                                 \n",
            " conv2d_55 (Conv2D)          (None, 3, 2, 64)          16448     \n",
            "                                                                 \n",
            " max_pooling2d_11 (MaxPoolin  (None, 1, 1, 64)         0         \n",
            " g2D)                                                            \n",
            "                                                                 \n",
            " global_average_pooling2d_5   (None, 64)               0         \n",
            " (GlobalAveragePooling2D)                                        \n",
            "                                                                 \n",
            " dense_20 (Dense)            (None, 128)               8320      \n",
            "                                                                 \n",
            " dense_21 (Dense)            (None, 64)                8256      \n",
            "                                                                 \n",
            " dense_22 (Dense)            (None, 1)                 65        \n",
            "                                                                 \n",
            "=================================================================\n",
            "Total params: 48,673\n",
            "Trainable params: 48,673\n",
            "Non-trainable params: 0\n",
            "_________________________________________________________________\n"
          ]
        }
      ]
    },
    {
      "cell_type": "code",
      "source": [
        "model = tf.keras.Model(inputs = model.input, outputs = model.layers[10].output)\n",
        "model.summary()"
      ],
      "metadata": {
        "colab": {
          "base_uri": "https://localhost:8080/"
        },
        "id": "IJpw0SzldCrr",
        "outputId": "419c9f61-bc1b-4f8f-9d45-557b1ee1206c"
      },
      "execution_count": null,
      "outputs": [
        {
          "output_type": "stream",
          "name": "stdout",
          "text": [
            "Model: \"model_9\"\n",
            "_________________________________________________________________\n",
            " Layer (type)                Output Shape              Param #   \n",
            "=================================================================\n",
            " input_10 (InputLayer)       [(None, 6, 5, 1)]         0         \n",
            "                                                                 \n",
            " rescaling_9 (Rescaling)     (None, 6, 5, 1)           0         \n",
            "                                                                 \n",
            " conv2d_50 (Conv2D)          (None, 6, 5, 16)          80        \n",
            "                                                                 \n",
            " conv2d_51 (Conv2D)          (None, 5, 4, 16)          1040      \n",
            "                                                                 \n",
            " conv2d_52 (Conv2D)          (None, 5, 4, 32)          2080      \n",
            "                                                                 \n",
            " conv2d_53 (Conv2D)          (None, 4, 3, 32)          4128      \n",
            "                                                                 \n",
            " conv2d_54 (Conv2D)          (None, 4, 3, 64)          8256      \n",
            "                                                                 \n",
            " conv2d_55 (Conv2D)          (None, 3, 2, 64)          16448     \n",
            "                                                                 \n",
            " max_pooling2d_11 (MaxPoolin  (None, 1, 1, 64)         0         \n",
            " g2D)                                                            \n",
            "                                                                 \n",
            " global_average_pooling2d_5   (None, 64)               0         \n",
            " (GlobalAveragePooling2D)                                        \n",
            "                                                                 \n",
            " dense_20 (Dense)            (None, 128)               8320      \n",
            "                                                                 \n",
            "=================================================================\n",
            "Total params: 40,352\n",
            "Trainable params: 40,352\n",
            "Non-trainable params: 0\n",
            "_________________________________________________________________\n"
          ]
        }
      ]
    },
    {
      "cell_type": "code",
      "source": [
        "x_train = model.predict(x_train_n)\n",
        "x_test = model.predict(x_test_n)"
      ],
      "metadata": {
        "id": "-ilG41GodNMT"
      },
      "execution_count": null,
      "outputs": []
    },
    {
      "cell_type": "code",
      "source": [
        "x_train.shape, x_test.shape"
      ],
      "metadata": {
        "colab": {
          "base_uri": "https://localhost:8080/"
        },
        "id": "l_m3RZUwfYOC",
        "outputId": "835e1994-9541-4870-e0a5-2b60bcffd477"
      },
      "execution_count": null,
      "outputs": [
        {
          "output_type": "execute_result",
          "data": {
            "text/plain": [
              "((113842, 128), (142503, 128))"
            ]
          },
          "metadata": {},
          "execution_count": 274
        }
      ]
    },
    {
      "cell_type": "code",
      "source": [
        "model_k = KMeans(n_clusters=2)\n",
        "model_k.fit(x_train)"
      ],
      "metadata": {
        "colab": {
          "base_uri": "https://localhost:8080/"
        },
        "id": "tSz_H-hrcozF",
        "outputId": "48afae30-5f0e-411f-af2c-515b56fd6978"
      },
      "execution_count": null,
      "outputs": [
        {
          "output_type": "execute_result",
          "data": {
            "text/plain": [
              "KMeans(n_clusters=2)"
            ]
          },
          "metadata": {},
          "execution_count": 275
        }
      ]
    },
    {
      "cell_type": "code",
      "source": [
        "x_val = val.iloc[:,1:31]\n",
        "x_val_n = np.array(x_val)"
      ],
      "metadata": {
        "id": "VqBaWsLSgnos"
      },
      "execution_count": null,
      "outputs": []
    },
    {
      "cell_type": "code",
      "source": [
        "x_val_n.shape"
      ],
      "metadata": {
        "colab": {
          "base_uri": "https://localhost:8080/"
        },
        "id": "EYCbsQiAg9y-",
        "outputId": "46ffd332-b647-4283-ea87-fdacae5d2827"
      },
      "execution_count": null,
      "outputs": [
        {
          "output_type": "execute_result",
          "data": {
            "text/plain": [
              "(28462, 30)"
            ]
          },
          "metadata": {},
          "execution_count": 280
        }
      ]
    },
    {
      "cell_type": "code",
      "source": [
        "x_val_n = x_val_n.reshape(28462,6,5,1)\n",
        "x_val = model.predict(x_val_n)"
      ],
      "metadata": {
        "id": "5DkzE3l4g_0x"
      },
      "execution_count": null,
      "outputs": []
    },
    {
      "cell_type": "code",
      "source": [
        "pre_v = model_k.predict(x_val)\n",
        "pre_v"
      ],
      "metadata": {
        "colab": {
          "base_uri": "https://localhost:8080/"
        },
        "id": "2XaiD0fVhTlk",
        "outputId": "3c96bee9-3301-4f7f-f698-3881cdf66b7c"
      },
      "execution_count": null,
      "outputs": [
        {
          "output_type": "execute_result",
          "data": {
            "text/plain": [
              "array([0, 0, 0, ..., 0, 0, 0], dtype=int32)"
            ]
          },
          "metadata": {},
          "execution_count": 245
        }
      ]
    },
    {
      "cell_type": "code",
      "source": [
        "f1_score(val['Class'], pre_v, average='macro')"
      ],
      "metadata": {
        "colab": {
          "base_uri": "https://localhost:8080/"
        },
        "id": "bO4FgC3MhbDH",
        "outputId": "f76d23f4-f8c2-4bdf-cf6b-78dd9d858ff7"
      },
      "execution_count": null,
      "outputs": [
        {
          "output_type": "execute_result",
          "data": {
            "text/plain": [
              "0.494467238592565"
            ]
          },
          "metadata": {},
          "execution_count": 282
        }
      ]
    },
    {
      "cell_type": "code",
      "source": [
        "model_i = IsolationForest(contamination=val_rate)\n",
        "model_i.fit(x_train)"
      ],
      "metadata": {
        "colab": {
          "base_uri": "https://localhost:8080/"
        },
        "id": "6Ine3HrBlTcl",
        "outputId": "4eba2926-885c-4b39-deaf-ab84da8bfbd3"
      },
      "execution_count": null,
      "outputs": [
        {
          "output_type": "execute_result",
          "data": {
            "text/plain": [
              "IsolationForest(contamination=0.0010551491277433877)"
            ]
          },
          "metadata": {},
          "execution_count": 283
        }
      ]
    },
    {
      "cell_type": "code",
      "source": [
        "pre_val = model_i.predict(x_val)\n",
        "pre_val = np.where(pre_val == 1, 0, pre_val)\n",
        "pre_val = np.where(pre_val == -1, 1, pre_val)\n",
        "f1 = f1_score(np.array(val['Class']),pre_val, average='macro')\n",
        "print(f'{i} == f1 : {f1}')"
      ],
      "metadata": {
        "colab": {
          "base_uri": "https://localhost:8080/"
        },
        "id": "bLjUQGCrlbsT",
        "outputId": "b146df9a-2364-47d5-f2e0-6937e9fa9aa0"
      },
      "execution_count": null,
      "outputs": [
        {
          "output_type": "stream",
          "name": "stdout",
          "text": [
            "110 == f1 : 0.49949883060474437\n"
          ]
        }
      ]
    }
  ]
}