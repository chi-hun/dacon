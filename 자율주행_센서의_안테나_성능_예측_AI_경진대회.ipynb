{
  "nbformat": 4,
  "nbformat_minor": 0,
  "metadata": {
    "colab": {
      "name": "자율주행 센서의 안테나 성능 예측 AI 경진대회.ipynb",
      "provenance": [],
      "authorship_tag": "ABX9TyNgt1WPJkf61mNb2KGol1iw",
      "include_colab_link": true
    },
    "kernelspec": {
      "name": "python3",
      "display_name": "Python 3"
    },
    "language_info": {
      "name": "python"
    }
  },
  "cells": [
    {
      "cell_type": "markdown",
      "metadata": {
        "id": "view-in-github",
        "colab_type": "text"
      },
      "source": [
        "<a href=\"https://colab.research.google.com/github/chi-hun/dacon/blob/main/%EC%9E%90%EC%9C%A8%EC%A3%BC%ED%96%89_%EC%84%BC%EC%84%9C%EC%9D%98_%EC%95%88%ED%85%8C%EB%82%98_%EC%84%B1%EB%8A%A5_%EC%98%88%EC%B8%A1_AI_%EA%B2%BD%EC%A7%84%EB%8C%80%ED%9A%8C.ipynb\" target=\"_parent\"><img src=\"https://colab.research.google.com/assets/colab-badge.svg\" alt=\"Open In Colab\"/></a>"
      ]
    },
    {
      "cell_type": "markdown",
      "source": [
        "자율주행 센서의 안테나 성능 예측 AI 경진대회 https://dacon.io/competitions/official/235927/overview/description"
      ],
      "metadata": {
        "id": "_bsiCwf2PdiG"
      }
    },
    {
      "cell_type": "markdown",
      "source": [
        "# module"
      ],
      "metadata": {
        "id": "c-q-eVr4P07J"
      }
    },
    {
      "cell_type": "code",
      "execution_count": 91,
      "metadata": {
        "id": "fH2KCu9gPYWQ"
      },
      "outputs": [],
      "source": [
        "import pandas as pd\n",
        "import numpy as np\n",
        "import matplotlib.pyplot as plt\n",
        "import seaborn as sns\n",
        "from sklearn.preprocessing import StandardScaler, MinMaxScaler\n",
        "import tensorflow as tf\n",
        "from tensorflow.keras import layers"
      ]
    },
    {
      "cell_type": "markdown",
      "source": [
        "# data load"
      ],
      "metadata": {
        "id": "vfwp_va8QFp-"
      }
    },
    {
      "cell_type": "code",
      "source": [
        "train = pd.read_csv('/content/train.csv')\n",
        "test = pd.read_csv('/content/test.csv')"
      ],
      "metadata": {
        "id": "M4pTSBX0QHgA"
      },
      "execution_count": 2,
      "outputs": []
    },
    {
      "cell_type": "markdown",
      "source": [
        "# EDA"
      ],
      "metadata": {
        "id": "5X3RFnC6QUBi"
      }
    },
    {
      "cell_type": "code",
      "source": [
        "train.info()"
      ],
      "metadata": {
        "id": "dKR27lXvQR8F"
      },
      "execution_count": null,
      "outputs": []
    },
    {
      "cell_type": "code",
      "source": [
        "train.isna().sum().sum()"
      ],
      "metadata": {
        "colab": {
          "base_uri": "https://localhost:8080/"
        },
        "id": "jM5Ndzc7QjZh",
        "outputId": "872a552d-2614-49d2-b0e1-ae604f66c410"
      },
      "execution_count": 7,
      "outputs": [
        {
          "output_type": "execute_result",
          "data": {
            "text/plain": [
              "0"
            ]
          },
          "metadata": {},
          "execution_count": 7
        }
      ]
    },
    {
      "cell_type": "code",
      "source": [
        "test.info()"
      ],
      "metadata": {
        "id": "V1eXY9jCQt9Q"
      },
      "execution_count": null,
      "outputs": []
    },
    {
      "cell_type": "code",
      "source": [
        "test.isna().sum().sum()"
      ],
      "metadata": {
        "colab": {
          "base_uri": "https://localhost:8080/"
        },
        "id": "bTJxDPAuQymM",
        "outputId": "9ad3ef37-161b-42d1-dd91-16e32d4ebc19"
      },
      "execution_count": 9,
      "outputs": [
        {
          "output_type": "execute_result",
          "data": {
            "text/plain": [
              "0"
            ]
          },
          "metadata": {},
          "execution_count": 9
        }
      ]
    },
    {
      "cell_type": "code",
      "source": [
        "train.shape"
      ],
      "metadata": {
        "colab": {
          "base_uri": "https://localhost:8080/"
        },
        "id": "woWjqqC3R9gJ",
        "outputId": "3ae40f89-777e-4229-cabb-2b18ee91ceeb"
      },
      "execution_count": 12,
      "outputs": [
        {
          "output_type": "execute_result",
          "data": {
            "text/plain": [
              "(39607, 71)"
            ]
          },
          "metadata": {},
          "execution_count": 12
        }
      ]
    },
    {
      "cell_type": "code",
      "source": [
        "plt.figure(figsize=(15,15))\n",
        "for i in range(1,71):\n",
        "    plt.subplot(10,7,i)\n",
        "    cc = train.columns[i]\n",
        "    plt.title(cc)\n",
        "    sns.histplot(train[cc])\n",
        "plt.show()"
      ],
      "metadata": {
        "colab": {
          "base_uri": "https://localhost:8080/",
          "height": 894
        },
        "id": "zShzwU71USug",
        "outputId": "d2cf8a1b-75e3-41ac-a91b-6a454d121cd3"
      },
      "execution_count": 41,
      "outputs": [
        {
          "output_type": "display_data",
          "data": {
            "text/plain": [
              "<Figure size 1080x1080 with 70 Axes>"
            ],
            "image/png": "[encoded data removed]"
          },
          "metadata": {
            "needs_background": "light"
          }
        }
      ]
    },
    {
      "cell_type": "code",
      "source": [
        "train.describe()"
      ],
      "metadata": {
        "colab": {
          "base_uri": "https://localhost:8080/",
          "height": 314
        },
        "id": "4zCwB3c1XzYh",
        "outputId": "24d1e726-aa03-4bb4-ec50-c3affd1832c2"
      },
      "execution_count": 43,
      "outputs": [
        {
          "output_type": "execute_result",
          "data": {
            "text/plain": [
              "               X_01          X_02          X_03     X_04          X_05  \\\n",
              "count  39607.000000  39607.000000  39607.000000  39607.0  39607.000000   \n",
              "mean      68.412040    103.320166     68.826354      1.0    102.337203   \n",
              "std        2.655983      0.000372      5.151167      0.0      0.548353   \n",
              "min       56.268000    103.320000     56.470000      1.0    101.774000   \n",
              "25%       66.465000    103.320000     65.070000      1.0    101.949000   \n",
              "50%       68.504000    103.320000     67.270000      1.0    102.006000   \n",
              "75%       69.524000    103.320000     71.770000      1.0    103.144000   \n",
              "max       84.820000    103.321000     89.170000      1.0    103.160000   \n",
              "\n",
              "               X_06          X_07          X_08          X_09          X_10  \\\n",
              "count  39607.000000  39607.000000  39607.000000  39607.000000  39607.000000   \n",
              "mean      70.597211     29.407490    164.449320    225.397470      0.002449   \n",
              "std        2.259820      7.338204    220.402444     66.734725      0.086255   \n",
              "min       61.726000     14.140000     38.460000     37.580000      0.000000   \n",
              "25%       68.864000     27.890000    105.990000    188.540000      0.000000   \n",
              "50%       69.884000     28.840000    115.040000    234.450000      0.000000   \n",
              "75%       71.923000     29.870000    132.620000    263.960000      0.000000   \n",
              "max       87.219000    163.860000   2387.440000    637.490000      3.600000   \n",
              "\n",
              "       ...          Y_05          Y_06          Y_07          Y_08  \\\n",
              "count  ...  39607.000000  39607.000000  39607.000000  39607.000000   \n",
              "mean   ...     31.290467     16.529382      3.155054    -26.294839   \n",
              "std    ...      2.543222      1.893014      0.418940      0.660537   \n",
              "min    ...     18.589000    -19.963000      0.502000    -29.652000   \n",
              "25%    ...     29.768000     16.146000      2.863000    -26.689000   \n",
              "50%    ...     31.710000     16.694000      3.126000    -26.254000   \n",
              "75%    ...     33.184000     17.164000      3.433500    -25.855000   \n",
              "max    ...     37.250000     18.998000      5.299000    -23.785000   \n",
              "\n",
              "               Y_09          Y_10          Y_11          Y_12          Y_13  \\\n",
              "count  39607.000000  39607.000000  39607.000000  39607.000000  39607.000000   \n",
              "mean     -26.308623    -22.400062     24.325061    -26.237762    -26.233869   \n",
              "std        0.653580      0.920952      0.830197      0.656329      0.655090   \n",
              "min      -29.523000    -31.119000     19.844000    -29.544000    -29.448000   \n",
              "25%      -26.702000    -22.871000     23.836000    -26.630000    -26.624000   \n",
              "50%      -26.266000    -22.275000     24.420000    -26.198000    -26.193000   \n",
              "75%      -25.871000    -21.791000     24.911500    -25.799000    -25.794000   \n",
              "max      -23.960000    -20.052000     26.703000    -23.722000    -23.899000   \n",
              "\n",
              "               Y_14  \n",
              "count  39607.000000  \n",
              "mean     -26.245868  \n",
              "std        0.655989  \n",
              "min      -29.620000  \n",
              "25%      -26.640000  \n",
              "50%      -26.204000  \n",
              "75%      -25.809000  \n",
              "max      -23.856000  \n",
              "\n",
              "[8 rows x 70 columns]"
            ],
            "text/html": [
              "\n",
              "  <div id=\"df-8ac44e0e-0b8a-4dbb-872b-adaa425a09a9\">\n",
              "    <div class=\"colab-df-container\">\n",
              "      <div>\n",
              "<style scoped>\n",
              "    .dataframe tbody tr th:only-of-type {\n",
              "        vertical-align: middle;\n",
              "    }\n",
              "\n",
              "    .dataframe tbody tr th {\n",
              "        vertical-align: top;\n",
              "    }\n",
              "\n",
              "    .dataframe thead th {\n",
              "        text-align: right;\n",
              "    }\n",
              "</style>\n",
              "<table border=\"1\" class=\"dataframe\">\n",
              "  <thead>\n",
              "    <tr style=\"text-align: right;\">\n",
              "      <th></th>\n",
              "      <th>X_01</th>\n",
              "      <th>X_02</th>\n",
              "      <th>X_03</th>\n",
              "      <th>X_04</th>\n",
              "      <th>X_05</th>\n",
              "      <th>X_06</th>\n",
              "      <th>X_07</th>\n",
              "      <th>X_08</th>\n",
              "      <th>X_09</th>\n",
              "      <th>X_10</th>\n",
              "      <th>...</th>\n",
              "      <th>Y_05</th>\n",
              "      <th>Y_06</th>\n",
              "      <th>Y_07</th>\n",
              "      <th>Y_08</th>\n",
              "      <th>Y_09</th>\n",
              "      <th>Y_10</th>\n",
              "      <th>Y_11</th>\n",
              "      <th>Y_12</th>\n",
              "      <th>Y_13</th>\n",
              "      <th>Y_14</th>\n",
              "    </tr>\n",
              "  </thead>\n",
              "  <tbody>\n",
              "    <tr>\n",
              "      <th>count</th>\n",
              "      <td>39607.000000</td>\n",
              "      <td>39607.000000</td>\n",
              "      <td>39607.000000</td>\n",
              "      <td>39607.0</td>\n",
              "      <td>39607.000000</td>\n",
              "      <td>39607.000000</td>\n",
              "      <td>39607.000000</td>\n",
              "      <td>39607.000000</td>\n",
              "      <td>39607.000000</td>\n",
              "      <td>39607.000000</td>\n",
              "      <td>...</td>\n",
              "      <td>39607.000000</td>\n",
              "      <td>39607.000000</td>\n",
              "      <td>39607.000000</td>\n",
              "      <td>39607.000000</td>\n",
              "      <td>39607.000000</td>\n",
              "      <td>39607.000000</td>\n",
              "      <td>39607.000000</td>\n",
              "      <td>39607.000000</td>\n",
              "      <td>39607.000000</td>\n",
              "      <td>39607.000000</td>\n",
              "    </tr>\n",
              "    <tr>\n",
              "      <th>mean</th>\n",
              "      <td>68.412040</td>\n",
              "      <td>103.320166</td>\n",
              "      <td>68.826354</td>\n",
              "      <td>1.0</td>\n",
              "      <td>102.337203</td>\n",
              "      <td>70.597211</td>\n",
              "      <td>29.407490</td>\n",
              "      <td>164.449320</td>\n",
              "      <td>225.397470</td>\n",
              "      <td>0.002449</td>\n",
              "      <td>...</td>\n",
              "      <td>31.290467</td>\n",
              "      <td>16.529382</td>\n",
              "      <td>3.155054</td>\n",
              "      <td>-26.294839</td>\n",
              "      <td>-26.308623</td>\n",
              "      <td>-22.400062</td>\n",
              "      <td>24.325061</td>\n",
              "      <td>-26.237762</td>\n",
              "      <td>-26.233869</td>\n",
              "      <td>-26.245868</td>\n",
              "    </tr>\n",
              "    <tr>\n",
              "      <th>std</th>\n",
              "      <td>2.655983</td>\n",
              "      <td>0.000372</td>\n",
              "      <td>5.151167</td>\n",
              "      <td>0.0</td>\n",
              "      <td>0.548353</td>\n",
              "      <td>2.259820</td>\n",
              "      <td>7.338204</td>\n",
              "      <td>220.402444</td>\n",
              "      <td>66.734725</td>\n",
              "      <td>0.086255</td>\n",
              "      <td>...</td>\n",
              "      <td>2.543222</td>\n",
              "      <td>1.893014</td>\n",
              "      <td>0.418940</td>\n",
              "      <td>0.660537</td>\n",
              "      <td>0.653580</td>\n",
              "      <td>0.920952</td>\n",
              "      <td>0.830197</td>\n",
              "      <td>0.656329</td>\n",
              "      <td>0.655090</td>\n",
              "      <td>0.655989</td>\n",
              "    </tr>\n",
              "    <tr>\n",
              "      <th>min</th>\n",
              "      <td>56.268000</td>\n",
              "      <td>103.320000</td>\n",
              "      <td>56.470000</td>\n",
              "      <td>1.0</td>\n",
              "      <td>101.774000</td>\n",
              "      <td>61.726000</td>\n",
              "      <td>14.140000</td>\n",
              "      <td>38.460000</td>\n",
              "      <td>37.580000</td>\n",
              "      <td>0.000000</td>\n",
              "      <td>...</td>\n",
              "      <td>18.589000</td>\n",
              "      <td>-19.963000</td>\n",
              "      <td>0.502000</td>\n",
              "      <td>-29.652000</td>\n",
              "      <td>-29.523000</td>\n",
              "      <td>-31.119000</td>\n",
              "      <td>19.844000</td>\n",
              "      <td>-29.544000</td>\n",
              "      <td>-29.448000</td>\n",
              "      <td>-29.620000</td>\n",
              "    </tr>\n",
              "    <tr>\n",
              "      <th>25%</th>\n",
              "      <td>66.465000</td>\n",
              "      <td>103.320000</td>\n",
              "      <td>65.070000</td>\n",
              "      <td>1.0</td>\n",
              "      <td>101.949000</td>\n",
              "      <td>68.864000</td>\n",
              "      <td>27.890000</td>\n",
              "      <td>105.990000</td>\n",
              "      <td>188.540000</td>\n",
              "      <td>0.000000</td>\n",
              "      <td>...</td>\n",
              "      <td>29.768000</td>\n",
              "      <td>16.146000</td>\n",
              "      <td>2.863000</td>\n",
              "      <td>-26.689000</td>\n",
              "      <td>-26.702000</td>\n",
              "      <td>-22.871000</td>\n",
              "      <td>23.836000</td>\n",
              "      <td>-26.630000</td>\n",
              "      <td>-26.624000</td>\n",
              "      <td>-26.640000</td>\n",
              "    </tr>\n",
              "    <tr>\n",
              "      <th>50%</th>\n",
              "      <td>68.504000</td>\n",
              "      <td>103.320000</td>\n",
              "      <td>67.270000</td>\n",
              "      <td>1.0</td>\n",
              "      <td>102.006000</td>\n",
              "      <td>69.884000</td>\n",
              "      <td>28.840000</td>\n",
              "      <td>115.040000</td>\n",
              "      <td>234.450000</td>\n",
              "      <td>0.000000</td>\n",
              "      <td>...</td>\n",
              "      <td>31.710000</td>\n",
              "      <td>16.694000</td>\n",
              "      <td>3.126000</td>\n",
              "      <td>-26.254000</td>\n",
              "      <td>-26.266000</td>\n",
              "      <td>-22.275000</td>\n",
              "      <td>24.420000</td>\n",
              "      <td>-26.198000</td>\n",
              "      <td>-26.193000</td>\n",
              "      <td>-26.204000</td>\n",
              "    </tr>\n",
              "    <tr>\n",
              "      <th>75%</th>\n",
              "      <td>69.524000</td>\n",
              "      <td>103.320000</td>\n",
              "      <td>71.770000</td>\n",
              "      <td>1.0</td>\n",
              "      <td>103.144000</td>\n",
              "      <td>71.923000</td>\n",
              "      <td>29.870000</td>\n",
              "      <td>132.620000</td>\n",
              "      <td>263.960000</td>\n",
              "      <td>0.000000</td>\n",
              "      <td>...</td>\n",
              "      <td>33.184000</td>\n",
              "      <td>17.164000</td>\n",
              "      <td>3.433500</td>\n",
              "      <td>-25.855000</td>\n",
              "      <td>-25.871000</td>\n",
              "      <td>-21.791000</td>\n",
              "      <td>24.911500</td>\n",
              "      <td>-25.799000</td>\n",
              "      <td>-25.794000</td>\n",
              "      <td>-25.809000</td>\n",
              "    </tr>\n",
              "    <tr>\n",
              "      <th>max</th>\n",
              "      <td>84.820000</td>\n",
              "      <td>103.321000</td>\n",
              "      <td>89.170000</td>\n",
              "      <td>1.0</td>\n",
              "      <td>103.160000</td>\n",
              "      <td>87.219000</td>\n",
              "      <td>163.860000</td>\n",
              "      <td>2387.440000</td>\n",
              "      <td>637.490000</td>\n",
              "      <td>3.600000</td>\n",
              "      <td>...</td>\n",
              "      <td>37.250000</td>\n",
              "      <td>18.998000</td>\n",
              "      <td>5.299000</td>\n",
              "      <td>-23.785000</td>\n",
              "      <td>-23.960000</td>\n",
              "      <td>-20.052000</td>\n",
              "      <td>26.703000</td>\n",
              "      <td>-23.722000</td>\n",
              "      <td>-23.899000</td>\n",
              "      <td>-23.856000</td>\n",
              "    </tr>\n",
              "  </tbody>\n",
              "</table>\n",
              "<p>8 rows × 70 columns</p>\n",
              "</div>\n",
              "      <button class=\"colab-df-convert\" onclick=\"convertToInteractive('df-8ac44e0e-0b8a-4dbb-872b-adaa425a09a9')\"\n",
              "              title=\"Convert this dataframe to an interactive table.\"\n",
              "              style=\"display:none;\">\n",
              "        \n",
              "  <svg xmlns=\"http://www.w3.org/2000/svg\" height=\"24px\"viewBox=\"0 0 24 24\"\n",
              "       width=\"24px\">\n",
              "    <path d=\"M0 0h24v24H0V0z\" fill=\"none\"/>\n",
              "    <path d=\"M18.56 5.44l.94 2.06.94-2.06 2.06-.94-2.06-.94-.94-2.06-.94 2.06-2.06.94zm-11 1L8.5 8.5l.94-2.06 2.06-.94-2.06-.94L8.5 2.5l-.94 2.06-2.06.94zm10 10l.94 2.06.94-2.06 2.06-.94-2.06-.94-.94-2.06-.94 2.06-2.06.94z\"/><path d=\"M17.41 7.96l-1.37-1.37c-.4-.4-.92-.59-1.43-.59-.52 0-1.04.2-1.43.59L10.3 9.45l-7.72 7.72c-.78.78-.78 2.05 0 2.83L4 21.41c.39.39.9.59 1.41.59.51 0 1.02-.2 1.41-.59l7.78-7.78 2.81-2.81c.8-.78.8-2.07 0-2.86zM5.41 20L4 18.59l7.72-7.72 1.47 1.35L5.41 20z\"/>\n",
              "  </svg>\n",
              "      </button>\n",
              "      \n",
              "  <style>\n",
              "    .colab-df-container {\n",
              "      display:flex;\n",
              "      flex-wrap:wrap;\n",
              "      gap: 12px;\n",
              "    }\n",
              "\n",
              "    .colab-df-convert {\n",
              "      background-color: #E8F0FE;\n",
              "      border: none;\n",
              "      border-radius: 50%;\n",
              "      cursor: pointer;\n",
              "      display: none;\n",
              "      fill: #1967D2;\n",
              "      height: 32px;\n",
              "      padding: 0 0 0 0;\n",
              "      width: 32px;\n",
              "    }\n",
              "\n",
              "    .colab-df-convert:hover {\n",
              "      background-color: #E2EBFA;\n",
              "      box-shadow: 0px 1px 2px rgba(60, 64, 67, 0.3), 0px 1px 3px 1px rgba(60, 64, 67, 0.15);\n",
              "      fill: #174EA6;\n",
              "    }\n",
              "\n",
              "    [theme=dark] .colab-df-convert {\n",
              "      background-color: #3B4455;\n",
              "      fill: #D2E3FC;\n",
              "    }\n",
              "\n",
              "    [theme=dark] .colab-df-convert:hover {\n",
              "      background-color: #434B5C;\n",
              "      box-shadow: 0px 1px 3px 1px rgba(0, 0, 0, 0.15);\n",
              "      filter: drop-shadow(0px 1px 2px rgba(0, 0, 0, 0.3));\n",
              "      fill: #FFFFFF;\n",
              "    }\n",
              "  </style>\n",
              "\n",
              "      <script>\n",
              "        const buttonEl =\n",
              "          document.querySelector('#df-8ac44e0e-0b8a-4dbb-872b-adaa425a09a9 button.colab-df-convert');\n",
              "        buttonEl.style.display =\n",
              "          google.colab.kernel.accessAllowed ? 'block' : 'none';\n",
              "\n",
              "        async function convertToInteractive(key) {\n",
              "          const element = document.querySelector('#df-8ac44e0e-0b8a-4dbb-872b-adaa425a09a9');\n",
              "          const dataTable =\n",
              "            await google.colab.kernel.invokeFunction('convertToInteractive',\n",
              "                                                     [key], {});\n",
              "          if (!dataTable) return;\n",
              "\n",
              "          const docLinkHtml = 'Like what you see? Visit the ' +\n",
              "            '<a target=\"_blank\" href=https://colab.research.google.com/notebooks/data_table.ipynb>data table notebook</a>'\n",
              "            + ' to learn more about interactive tables.';\n",
              "          element.innerHTML = '';\n",
              "          dataTable['output_type'] = 'display_data';\n",
              "          await google.colab.output.renderOutput(dataTable, element);\n",
              "          const docLink = document.createElement('div');\n",
              "          docLink.innerHTML = docLinkHtml;\n",
              "          element.appendChild(docLink);\n",
              "        }\n",
              "      </script>\n",
              "    </div>\n",
              "  </div>\n",
              "  "
            ]
          },
          "metadata": {},
          "execution_count": 43
        },
        {
          "output_type": "stream",
          "name": "stdout",
          "text": [
            "Warning: Total number of columns (70) exceeds max_columns (20) limiting to first (20) columns.\n"
          ]
        }
      ]
    },
    {
      "cell_type": "code",
      "source": [
        "test.describe()"
      ],
      "metadata": {
        "colab": {
          "base_uri": "https://localhost:8080/",
          "height": 394
        },
        "id": "KmlOWCaYYjrw",
        "outputId": "e319c0d9-bb30-4ae2-b5e9-d11369e5cfda"
      },
      "execution_count": 47,
      "outputs": [
        {
          "output_type": "execute_result",
          "data": {
            "text/plain": [
              "               X_01          X_02          X_03     X_04          X_05  \\\n",
              "count  39608.000000  39608.000000  39608.000000  39608.0  39608.000000   \n",
              "mean      68.396003    103.320164     68.837921      1.0    102.337295   \n",
              "std        2.663089      0.000370      5.205770      0.0      0.547959   \n",
              "min       53.209000    103.320000     55.570000      1.0    101.734000   \n",
              "25%       66.465000    103.320000     65.070000      1.0    101.950000   \n",
              "50%       68.504000    103.320000     67.270000      1.0    102.007000   \n",
              "75%       69.524000    103.320000     71.770000      1.0    103.144000   \n",
              "max       86.859000    103.321000     88.670000      1.0    103.161000   \n",
              "\n",
              "               X_06          X_07          X_08          X_09          X_10  \\\n",
              "count  39608.000000  39608.000000  39608.000000  39608.000000  39608.000000   \n",
              "mean      70.584656     29.465362    163.372693    225.199662      0.002560   \n",
              "std        2.250952      7.869169    219.287019     66.266169      0.088746   \n",
              "min       61.726000     13.390000     28.590000     37.580000      0.000000   \n",
              "25%       68.864000     27.900000    105.760000    188.410000      0.000000   \n",
              "50%       69.884000     28.840000    115.040000    234.890000      0.000000   \n",
              "75%       71.923000     29.880000    131.102500    263.990000      0.000000   \n",
              "max       87.219000    163.860000   2387.440000    637.540000      3.500000   \n",
              "\n",
              "       ...     X_47     X_48           X_49          X_50          X_51  \\\n",
              "count  ...  39608.0  39608.0   39608.000000  39608.000000  39608.000000   \n",
              "mean   ...      1.0      1.0   16659.687707    130.792771    131.506077   \n",
              "std    ...      0.0      0.0    8725.413782      6.283461      6.248113   \n",
              "min    ...      1.0      1.0    2894.030000     21.800000     21.910000   \n",
              "25%    ...      1.0      1.0   13021.355000    127.007745    127.715514   \n",
              "50%    ...      1.0      1.0   15252.580000    130.748868    131.460499   \n",
              "75%    ...      1.0      1.0   17540.655000    134.562718    135.301195   \n",
              "max    ...      1.0      1.0  149599.930000    162.657956    161.207806   \n",
              "\n",
              "               X_52          X_53          X_54          X_55          X_56  \n",
              "count  39608.000000  39608.000000  39608.000000  39608.000000  39608.000000  \n",
              "mean     138.619585    128.012468    128.024288    137.897399    128.479544  \n",
              "std        6.711747      6.022616      5.783733      6.825189      5.766703  \n",
              "min       23.100000     21.330000     21.340000     22.980000     21.410000  \n",
              "25%      134.507082    124.397173    124.726521    133.703757    125.172442  \n",
              "50%      138.622976    128.048022    128.136952    137.892594    128.468109  \n",
              "75%      142.792608    131.706046    131.502206    142.087140    131.889357  \n",
              "max      177.616739    169.774016    169.065281    169.452855    159.642590  \n",
              "\n",
              "[8 rows x 56 columns]"
            ],
            "text/html": [
              "\n",
              "  <div id=\"df-4edf7c7a-4450-4588-9f22-15b7a2535ba3\">\n",
              "    <div class=\"colab-df-container\">\n",
              "      <div>\n",
              "<style scoped>\n",
              "    .dataframe tbody tr th:only-of-type {\n",
              "        vertical-align: middle;\n",
              "    }\n",
              "\n",
              "    .dataframe tbody tr th {\n",
              "        vertical-align: top;\n",
              "    }\n",
              "\n",
              "    .dataframe thead th {\n",
              "        text-align: right;\n",
              "    }\n",
              "</style>\n",
              "<table border=\"1\" class=\"dataframe\">\n",
              "  <thead>\n",
              "    <tr style=\"text-align: right;\">\n",
              "      <th></th>\n",
              "      <th>X_01</th>\n",
              "      <th>X_02</th>\n",
              "      <th>X_03</th>\n",
              "      <th>X_04</th>\n",
              "      <th>X_05</th>\n",
              "      <th>X_06</th>\n",
              "      <th>X_07</th>\n",
              "      <th>X_08</th>\n",
              "      <th>X_09</th>\n",
              "      <th>X_10</th>\n",
              "      <th>...</th>\n",
              "      <th>X_47</th>\n",
              "      <th>X_48</th>\n",
              "      <th>X_49</th>\n",
              "      <th>X_50</th>\n",
              "      <th>X_51</th>\n",
              "      <th>X_52</th>\n",
              "      <th>X_53</th>\n",
              "      <th>X_54</th>\n",
              "      <th>X_55</th>\n",
              "      <th>X_56</th>\n",
              "    </tr>\n",
              "  </thead>\n",
              "  <tbody>\n",
              "    <tr>\n",
              "      <th>count</th>\n",
              "      <td>39608.000000</td>\n",
              "      <td>39608.000000</td>\n",
              "      <td>39608.000000</td>\n",
              "      <td>39608.0</td>\n",
              "      <td>39608.000000</td>\n",
              "      <td>39608.000000</td>\n",
              "      <td>39608.000000</td>\n",
              "      <td>39608.000000</td>\n",
              "      <td>39608.000000</td>\n",
              "      <td>39608.000000</td>\n",
              "      <td>...</td>\n",
              "      <td>39608.0</td>\n",
              "      <td>39608.0</td>\n",
              "      <td>39608.000000</td>\n",
              "      <td>39608.000000</td>\n",
              "      <td>39608.000000</td>\n",
              "      <td>39608.000000</td>\n",
              "      <td>39608.000000</td>\n",
              "      <td>39608.000000</td>\n",
              "      <td>39608.000000</td>\n",
              "      <td>39608.000000</td>\n",
              "    </tr>\n",
              "    <tr>\n",
              "      <th>mean</th>\n",
              "      <td>68.396003</td>\n",
              "      <td>103.320164</td>\n",
              "      <td>68.837921</td>\n",
              "      <td>1.0</td>\n",
              "      <td>102.337295</td>\n",
              "      <td>70.584656</td>\n",
              "      <td>29.465362</td>\n",
              "      <td>163.372693</td>\n",
              "      <td>225.199662</td>\n",
              "      <td>0.002560</td>\n",
              "      <td>...</td>\n",
              "      <td>1.0</td>\n",
              "      <td>1.0</td>\n",
              "      <td>16659.687707</td>\n",
              "      <td>130.792771</td>\n",
              "      <td>131.506077</td>\n",
              "      <td>138.619585</td>\n",
              "      <td>128.012468</td>\n",
              "      <td>128.024288</td>\n",
              "      <td>137.897399</td>\n",
              "      <td>128.479544</td>\n",
              "    </tr>\n",
              "    <tr>\n",
              "      <th>std</th>\n",
              "      <td>2.663089</td>\n",
              "      <td>0.000370</td>\n",
              "      <td>5.205770</td>\n",
              "      <td>0.0</td>\n",
              "      <td>0.547959</td>\n",
              "      <td>2.250952</td>\n",
              "      <td>7.869169</td>\n",
              "      <td>219.287019</td>\n",
              "      <td>66.266169</td>\n",
              "      <td>0.088746</td>\n",
              "      <td>...</td>\n",
              "      <td>0.0</td>\n",
              "      <td>0.0</td>\n",
              "      <td>8725.413782</td>\n",
              "      <td>6.283461</td>\n",
              "      <td>6.248113</td>\n",
              "      <td>6.711747</td>\n",
              "      <td>6.022616</td>\n",
              "      <td>5.783733</td>\n",
              "      <td>6.825189</td>\n",
              "      <td>5.766703</td>\n",
              "    </tr>\n",
              "    <tr>\n",
              "      <th>min</th>\n",
              "      <td>53.209000</td>\n",
              "      <td>103.320000</td>\n",
              "      <td>55.570000</td>\n",
              "      <td>1.0</td>\n",
              "      <td>101.734000</td>\n",
              "      <td>61.726000</td>\n",
              "      <td>13.390000</td>\n",
              "      <td>28.590000</td>\n",
              "      <td>37.580000</td>\n",
              "      <td>0.000000</td>\n",
              "      <td>...</td>\n",
              "      <td>1.0</td>\n",
              "      <td>1.0</td>\n",
              "      <td>2894.030000</td>\n",
              "      <td>21.800000</td>\n",
              "      <td>21.910000</td>\n",
              "      <td>23.100000</td>\n",
              "      <td>21.330000</td>\n",
              "      <td>21.340000</td>\n",
              "      <td>22.980000</td>\n",
              "      <td>21.410000</td>\n",
              "    </tr>\n",
              "    <tr>\n",
              "      <th>25%</th>\n",
              "      <td>66.465000</td>\n",
              "      <td>103.320000</td>\n",
              "      <td>65.070000</td>\n",
              "      <td>1.0</td>\n",
              "      <td>101.950000</td>\n",
              "      <td>68.864000</td>\n",
              "      <td>27.900000</td>\n",
              "      <td>105.760000</td>\n",
              "      <td>188.410000</td>\n",
              "      <td>0.000000</td>\n",
              "      <td>...</td>\n",
              "      <td>1.0</td>\n",
              "      <td>1.0</td>\n",
              "      <td>13021.355000</td>\n",
              "      <td>127.007745</td>\n",
              "      <td>127.715514</td>\n",
              "      <td>134.507082</td>\n",
              "      <td>124.397173</td>\n",
              "      <td>124.726521</td>\n",
              "      <td>133.703757</td>\n",
              "      <td>125.172442</td>\n",
              "    </tr>\n",
              "    <tr>\n",
              "      <th>50%</th>\n",
              "      <td>68.504000</td>\n",
              "      <td>103.320000</td>\n",
              "      <td>67.270000</td>\n",
              "      <td>1.0</td>\n",
              "      <td>102.007000</td>\n",
              "      <td>69.884000</td>\n",
              "      <td>28.840000</td>\n",
              "      <td>115.040000</td>\n",
              "      <td>234.890000</td>\n",
              "      <td>0.000000</td>\n",
              "      <td>...</td>\n",
              "      <td>1.0</td>\n",
              "      <td>1.0</td>\n",
              "      <td>15252.580000</td>\n",
              "      <td>130.748868</td>\n",
              "      <td>131.460499</td>\n",
              "      <td>138.622976</td>\n",
              "      <td>128.048022</td>\n",
              "      <td>128.136952</td>\n",
              "      <td>137.892594</td>\n",
              "      <td>128.468109</td>\n",
              "    </tr>\n",
              "    <tr>\n",
              "      <th>75%</th>\n",
              "      <td>69.524000</td>\n",
              "      <td>103.320000</td>\n",
              "      <td>71.770000</td>\n",
              "      <td>1.0</td>\n",
              "      <td>103.144000</td>\n",
              "      <td>71.923000</td>\n",
              "      <td>29.880000</td>\n",
              "      <td>131.102500</td>\n",
              "      <td>263.990000</td>\n",
              "      <td>0.000000</td>\n",
              "      <td>...</td>\n",
              "      <td>1.0</td>\n",
              "      <td>1.0</td>\n",
              "      <td>17540.655000</td>\n",
              "      <td>134.562718</td>\n",
              "      <td>135.301195</td>\n",
              "      <td>142.792608</td>\n",
              "      <td>131.706046</td>\n",
              "      <td>131.502206</td>\n",
              "      <td>142.087140</td>\n",
              "      <td>131.889357</td>\n",
              "    </tr>\n",
              "    <tr>\n",
              "      <th>max</th>\n",
              "      <td>86.859000</td>\n",
              "      <td>103.321000</td>\n",
              "      <td>88.670000</td>\n",
              "      <td>1.0</td>\n",
              "      <td>103.161000</td>\n",
              "      <td>87.219000</td>\n",
              "      <td>163.860000</td>\n",
              "      <td>2387.440000</td>\n",
              "      <td>637.540000</td>\n",
              "      <td>3.500000</td>\n",
              "      <td>...</td>\n",
              "      <td>1.0</td>\n",
              "      <td>1.0</td>\n",
              "      <td>149599.930000</td>\n",
              "      <td>162.657956</td>\n",
              "      <td>161.207806</td>\n",
              "      <td>177.616739</td>\n",
              "      <td>169.774016</td>\n",
              "      <td>169.065281</td>\n",
              "      <td>169.452855</td>\n",
              "      <td>159.642590</td>\n",
              "    </tr>\n",
              "  </tbody>\n",
              "</table>\n",
              "<p>8 rows × 56 columns</p>\n",
              "</div>\n",
              "      <button class=\"colab-df-convert\" onclick=\"convertToInteractive('df-4edf7c7a-4450-4588-9f22-15b7a2535ba3')\"\n",
              "              title=\"Convert this dataframe to an interactive table.\"\n",
              "              style=\"display:none;\">\n",
              "        \n",
              "  <svg xmlns=\"http://www.w3.org/2000/svg\" height=\"24px\"viewBox=\"0 0 24 24\"\n",
              "       width=\"24px\">\n",
              "    <path d=\"M0 0h24v24H0V0z\" fill=\"none\"/>\n",
              "    <path d=\"M18.56 5.44l.94 2.06.94-2.06 2.06-.94-2.06-.94-.94-2.06-.94 2.06-2.06.94zm-11 1L8.5 8.5l.94-2.06 2.06-.94-2.06-.94L8.5 2.5l-.94 2.06-2.06.94zm10 10l.94 2.06.94-2.06 2.06-.94-2.06-.94-.94-2.06-.94 2.06-2.06.94z\"/><path d=\"M17.41 7.96l-1.37-1.37c-.4-.4-.92-.59-1.43-.59-.52 0-1.04.2-1.43.59L10.3 9.45l-7.72 7.72c-.78.78-.78 2.05 0 2.83L4 21.41c.39.39.9.59 1.41.59.51 0 1.02-.2 1.41-.59l7.78-7.78 2.81-2.81c.8-.78.8-2.07 0-2.86zM5.41 20L4 18.59l7.72-7.72 1.47 1.35L5.41 20z\"/>\n",
              "  </svg>\n",
              "      </button>\n",
              "      \n",
              "  <style>\n",
              "    .colab-df-container {\n",
              "      display:flex;\n",
              "      flex-wrap:wrap;\n",
              "      gap: 12px;\n",
              "    }\n",
              "\n",
              "    .colab-df-convert {\n",
              "      background-color: #E8F0FE;\n",
              "      border: none;\n",
              "      border-radius: 50%;\n",
              "      cursor: pointer;\n",
              "      display: none;\n",
              "      fill: #1967D2;\n",
              "      height: 32px;\n",
              "      padding: 0 0 0 0;\n",
              "      width: 32px;\n",
              "    }\n",
              "\n",
              "    .colab-df-convert:hover {\n",
              "      background-color: #E2EBFA;\n",
              "      box-shadow: 0px 1px 2px rgba(60, 64, 67, 0.3), 0px 1px 3px 1px rgba(60, 64, 67, 0.15);\n",
              "      fill: #174EA6;\n",
              "    }\n",
              "\n",
              "    [theme=dark] .colab-df-convert {\n",
              "      background-color: #3B4455;\n",
              "      fill: #D2E3FC;\n",
              "    }\n",
              "\n",
              "    [theme=dark] .colab-df-convert:hover {\n",
              "      background-color: #434B5C;\n",
              "      box-shadow: 0px 1px 3px 1px rgba(0, 0, 0, 0.15);\n",
              "      filter: drop-shadow(0px 1px 2px rgba(0, 0, 0, 0.3));\n",
              "      fill: #FFFFFF;\n",
              "    }\n",
              "  </style>\n",
              "\n",
              "      <script>\n",
              "        const buttonEl =\n",
              "          document.querySelector('#df-4edf7c7a-4450-4588-9f22-15b7a2535ba3 button.colab-df-convert');\n",
              "        buttonEl.style.display =\n",
              "          google.colab.kernel.accessAllowed ? 'block' : 'none';\n",
              "\n",
              "        async function convertToInteractive(key) {\n",
              "          const element = document.querySelector('#df-4edf7c7a-4450-4588-9f22-15b7a2535ba3');\n",
              "          const dataTable =\n",
              "            await google.colab.kernel.invokeFunction('convertToInteractive',\n",
              "                                                     [key], {});\n",
              "          if (!dataTable) return;\n",
              "\n",
              "          const docLinkHtml = 'Like what you see? Visit the ' +\n",
              "            '<a target=\"_blank\" href=https://colab.research.google.com/notebooks/data_table.ipynb>data table notebook</a>'\n",
              "            + ' to learn more about interactive tables.';\n",
              "          element.innerHTML = '';\n",
              "          dataTable['output_type'] = 'display_data';\n",
              "          await google.colab.output.renderOutput(dataTable, element);\n",
              "          const docLink = document.createElement('div');\n",
              "          docLink.innerHTML = docLinkHtml;\n",
              "          element.appendChild(docLink);\n",
              "        }\n",
              "      </script>\n",
              "    </div>\n",
              "  </div>\n",
              "  "
            ]
          },
          "metadata": {},
          "execution_count": 47
        }
      ]
    },
    {
      "cell_type": "code",
      "source": [
        "x, y = [],[]\n",
        "for i in train.columns:\n",
        "    if i[0] == 'X':\n",
        "        x.append(i)\n",
        "    elif i[0] == 'Y':\n",
        "        y.append(i)\n",
        "print(x)\n",
        "print(y)"
      ],
      "metadata": {
        "colab": {
          "base_uri": "https://localhost:8080/"
        },
        "id": "XE7tCiVTRoxW",
        "outputId": "75db514d-cfb7-4577-c42e-845b4e4c2f65"
      },
      "execution_count": 14,
      "outputs": [
        {
          "output_type": "stream",
          "name": "stdout",
          "text": [
            "['X_01', 'X_02', 'X_03', 'X_04', 'X_05', 'X_06', 'X_07', 'X_08', 'X_09', 'X_10', 'X_11', 'X_12', 'X_13', 'X_14', 'X_15', 'X_16', 'X_17', 'X_18', 'X_19', 'X_20', 'X_21', 'X_22', 'X_23', 'X_24', 'X_25', 'X_26', 'X_27', 'X_28', 'X_29', 'X_30', 'X_31', 'X_32', 'X_33', 'X_34', 'X_35', 'X_36', 'X_37', 'X_38', 'X_39', 'X_40', 'X_41', 'X_42', 'X_43', 'X_44', 'X_45', 'X_46', 'X_47', 'X_48', 'X_49', 'X_50', 'X_51', 'X_52', 'X_53', 'X_54', 'X_55', 'X_56']\n",
            "['Y_01', 'Y_02', 'Y_03', 'Y_04', 'Y_05', 'Y_06', 'Y_07', 'Y_08', 'Y_09', 'Y_10', 'Y_11', 'Y_12', 'Y_13', 'Y_14']\n"
          ]
        }
      ]
    },
    {
      "cell_type": "code",
      "source": [
        "plt.figure(figsize=(15,15))\n",
        "cc = train[x].corr()\n",
        "sns.heatmap(cc)\n",
        "plt.show()"
      ],
      "metadata": {
        "colab": {
          "base_uri": "https://localhost:8080/",
          "height": 882
        },
        "id": "N3ANDXk3g3_y",
        "outputId": "8fa7c713-d1dc-4b97-e45a-5c6b52bcad7b"
      },
      "execution_count": 71,
      "outputs": [
        {
          "output_type": "display_data",
          "data": {
            "text/plain": [
              "<Figure size 1080x1080 with 2 Axes>"
            ],
            "image/png": "[encoded data removed]"
          },
          "metadata": {
            "needs_background": "light"
          }
        }
      ]
    },
    {
      "cell_type": "code",
      "source": [
        "plt.figure(figsize=(15,15))\n",
        "cc = pd.DataFrame()\n",
        "for i in range(len(y)):\n",
        "    cc_0 = pd.concat([train[x],train[y[i]]], axis=1)\n",
        "    ccc_0 = cc_0.corr()[y[i]][:-1]\n",
        "    cc = pd.concat([cc,ccc_0],axis=1)\n",
        "\n",
        "sns.heatmap(cc)\n",
        "plt.show()"
      ],
      "metadata": {
        "colab": {
          "base_uri": "https://localhost:8080/",
          "height": 864
        },
        "id": "G7VZLL2HavQ5",
        "outputId": "46abdf42-0bfc-4bd0-8e00-f95311f7dbb3"
      },
      "execution_count": 69,
      "outputs": [
        {
          "output_type": "display_data",
          "data": {
            "text/plain": [
              "<Figure size 1080x1080 with 2 Axes>"
            ],
            "image/png": "[encoded data removed]"
          },
          "metadata": {
            "needs_background": "light"
          }
        }
      ]
    },
    {
      "cell_type": "code",
      "source": [
        "x_train = train[x].drop(['X_04','X_23','X_47','X_48'], axis=1)\n",
        "y_train = train[y]\n",
        "x_test = test.drop(['ID','X_04','X_23','X_47','X_48'], axis=1)"
      ],
      "metadata": {
        "id": "OS2WFQIBT7Wv"
      },
      "execution_count": 123,
      "outputs": []
    },
    {
      "cell_type": "code",
      "source": [
        "x_train.shape, x_test.shape, y_train.shape"
      ],
      "metadata": {
        "colab": {
          "base_uri": "https://localhost:8080/"
        },
        "id": "l8E1yr8whYuZ",
        "outputId": "27644d47-bb26-4dc5-e5b8-9af2208dc2f4"
      },
      "execution_count": 78,
      "outputs": [
        {
          "output_type": "execute_result",
          "data": {
            "text/plain": [
              "((39607, 52), (39608, 52), (39607, 14))"
            ]
          },
          "metadata": {},
          "execution_count": 78
        }
      ]
    },
    {
      "cell_type": "code",
      "source": [
        "sds, mms = StandardScaler(), MinMaxScaler()\n",
        "for i in x_train.columns:\n",
        "    x_train[i] = sds.fit_transform(x_train[[i]])\n",
        "    x_test[i] = sds.transform(x_test[[i]])\n",
        "    x_train[i] = mms.fit_transform(x_train[[i]])\n",
        "    x_test[i] = mms.transform(x_test[[i]])"
      ],
      "metadata": {
        "id": "WtGx8qO-hwrW"
      },
      "execution_count": 124,
      "outputs": []
    },
    {
      "cell_type": "markdown",
      "source": [
        "# modeling"
      ],
      "metadata": {
        "id": "kNiDY_23liEx"
      }
    },
    {
      "cell_type": "code",
      "source": [
        "x_train = np.array(x_train).reshape(-1,4,13,1)\n",
        "x_test = np.array(x_test).reshape(-1,4,13,1)"
      ],
      "metadata": {
        "id": "UzAm_3tIjpaF"
      },
      "execution_count": 162,
      "outputs": []
    },
    {
      "cell_type": "code",
      "source": [
        "for i in range(4):\n",
        "    plt.subplot(2,2,i+1)\n",
        "    plt.imshow(x_train[i].reshape(4,13), cmap='ocean')\n",
        "plt.show()"
      ],
      "metadata": {
        "colab": {
          "base_uri": "https://localhost:8080/",
          "height": 213
        },
        "id": "vmAQeKOqklXZ",
        "outputId": "9e22cc28-6fc5-488a-ad2e-2902d24935ec"
      },
      "execution_count": 90,
      "outputs": [
        {
          "output_type": "display_data",
          "data": {
            "text/plain": [
              "<Figure size 432x288 with 4 Axes>"
            ],
            "image/png": "[encoded data removed]"
          },
          "metadata": {
            "needs_background": "light"
          }
        }
      ]
    },
    {
      "cell_type": "code",
      "source": [
        "def model_make1():\n",
        "    inputs = layers.Input(shape=(4,13,1))\n",
        "    x = layers.Conv2D(32,1,1,padding='same',activation='relu')(inputs)\n",
        "    x = layers.Conv2D(64,1,1,padding='same',activation='relu')(x)\n",
        "    x = layers.Conv2D(128,1,1,padding='same',activation='relu')(x)\n",
        "    x = layers.Flatten()(x)\n",
        "    x = layers.Dense(128,activation='relu')(x)\n",
        "    x = layers.Dropout(0.5)(x)\n",
        "    x = layers.Dense(64,activation='relu')(x)\n",
        "    outputs = layers.Dense(14)(x)\n",
        "\n",
        "    model = tf.keras.Model(inputs, outputs)\n",
        "    return model"
      ],
      "metadata": {
        "id": "sTCGn-H5lIgh"
      },
      "execution_count": 109,
      "outputs": []
    },
    {
      "cell_type": "code",
      "source": [
        "def model_make2():\n",
        "    inputs = layers.Input(shape=(4,13,1))\n",
        "    x = layers.Conv2D(32,1,1,padding='same',activation='relu')(inputs)\n",
        "    x = layers.Conv2D(64,1,1,padding='same',activation='relu')(x)\n",
        "    x = layers.Conv2D(128,1,1,padding='same',activation='relu')(x)\n",
        "    x = layers.Conv2D(256,1,1,padding='same',activation='relu')(x)\n",
        "    x = layers.Flatten()(x)\n",
        "    x = layers.Dense(256,activation='relu')(x)\n",
        "    x = layers.Dropout(0.2)(x)\n",
        "    x = layers.Dense(128,activation='relu')(x)\n",
        "    x = layers.Dropout(0.2)(x)\n",
        "    x = layers.Dense(64,activation='relu')(x)\n",
        "    x = layers.Dropout(0.5)(x)\n",
        "    outputs = layers.Dense(14)(x)\n",
        "\n",
        "    model = tf.keras.Model(inputs, outputs)\n",
        "    return model"
      ],
      "metadata": {
        "id": "r_bscxOZHW5m"
      },
      "execution_count": 163,
      "outputs": []
    },
    {
      "cell_type": "code",
      "source": [
        "model = model_make1()\n",
        "model.summary()"
      ],
      "metadata": {
        "colab": {
          "base_uri": "https://localhost:8080/"
        },
        "id": "kpCRYqXcm_ET",
        "outputId": "dcb0958c-0365-4787-b098-22c9dc733a28"
      },
      "execution_count": 164,
      "outputs": [
        {
          "output_type": "stream",
          "name": "stdout",
          "text": [
            "Model: \"model_8\"\n",
            "_________________________________________________________________\n",
            " Layer (type)                Output Shape              Param #   \n",
            "=================================================================\n",
            " input_10 (InputLayer)       [(None, 4, 13, 1)]        0         \n",
            "                                                                 \n",
            " conv2d_5 (Conv2D)           (None, 4, 13, 32)         64        \n",
            "                                                                 \n",
            " conv2d_6 (Conv2D)           (None, 4, 13, 64)         2112      \n",
            "                                                                 \n",
            " conv2d_7 (Conv2D)           (None, 4, 13, 128)        8320      \n",
            "                                                                 \n",
            " flatten_2 (Flatten)         (None, 6656)              0         \n",
            "                                                                 \n",
            " dense_41 (Dense)            (None, 128)               852096    \n",
            "                                                                 \n",
            " dropout_30 (Dropout)        (None, 128)               0         \n",
            "                                                                 \n",
            " dense_42 (Dense)            (None, 64)                8256      \n",
            "                                                                 \n",
            " dense_43 (Dense)            (None, 14)                910       \n",
            "                                                                 \n",
            "=================================================================\n",
            "Total params: 871,758\n",
            "Trainable params: 871,758\n",
            "Non-trainable params: 0\n",
            "_________________________________________________________________\n"
          ]
        }
      ]
    },
    {
      "cell_type": "code",
      "source": [
        "model.compile(optimizer='adam', loss='mse')"
      ],
      "metadata": {
        "id": "NBJPeNH0nHIa"
      },
      "execution_count": 165,
      "outputs": []
    },
    {
      "cell_type": "code",
      "source": [
        "his = model.fit(x_train, y_train, epochs=20, validation_split=0.2)"
      ],
      "metadata": {
        "colab": {
          "base_uri": "https://localhost:8080/"
        },
        "id": "P-W8iC67nE1r",
        "outputId": "5599f64b-e285-4b2b-fc75-4c99f6b2a162"
      },
      "execution_count": 178,
      "outputs": [
        {
          "output_type": "stream",
          "name": "stdout",
          "text": [
            "Epoch 1/20\n",
            "991/991 [==============================] - 19s 19ms/step - loss: 1.6105 - val_loss: 4.8401\n",
            "Epoch 2/20\n",
            "991/991 [==============================] - 18s 18ms/step - loss: 1.6088 - val_loss: 5.0429\n",
            "Epoch 3/20\n",
            "991/991 [==============================] - 17s 17ms/step - loss: 1.6060 - val_loss: 5.1349\n",
            "Epoch 4/20\n",
            "991/991 [==============================] - 17s 17ms/step - loss: 1.6079 - val_loss: 4.6824\n",
            "Epoch 5/20\n",
            "991/991 [==============================] - 17s 17ms/step - loss: 1.6069 - val_loss: 4.8507\n",
            "Epoch 6/20\n",
            "991/991 [==============================] - 17s 17ms/step - loss: 1.6090 - val_loss: 4.8901\n",
            "Epoch 7/20\n",
            "991/991 [==============================] - 17s 18ms/step - loss: 1.6067 - val_loss: 5.4535\n",
            "Epoch 8/20\n",
            "991/991 [==============================] - 17s 17ms/step - loss: 1.6067 - val_loss: 4.9317\n",
            "Epoch 9/20\n",
            "991/991 [==============================] - 18s 18ms/step - loss: 1.6062 - val_loss: 5.2472\n",
            "Epoch 10/20\n",
            "991/991 [==============================] - 17s 17ms/step - loss: 1.6056 - val_loss: 5.0605\n",
            "Epoch 11/20\n",
            "991/991 [==============================] - 17s 17ms/step - loss: 1.6072 - val_loss: 5.1465\n",
            "Epoch 12/20\n",
            "991/991 [==============================] - 17s 17ms/step - loss: 1.6078 - val_loss: 5.1916\n",
            "Epoch 13/20\n",
            "991/991 [==============================] - 17s 17ms/step - loss: 1.6061 - val_loss: 5.4547\n",
            "Epoch 14/20\n",
            "991/991 [==============================] - 18s 18ms/step - loss: 1.6088 - val_loss: 5.1385\n",
            "Epoch 15/20\n",
            "991/991 [==============================] - 17s 17ms/step - loss: 1.6066 - val_loss: 5.2811\n",
            "Epoch 16/20\n",
            "991/991 [==============================] - 18s 18ms/step - loss: 1.6079 - val_loss: 5.3071\n",
            "Epoch 17/20\n",
            "991/991 [==============================] - 17s 17ms/step - loss: 1.6072 - val_loss: 5.0476\n",
            "Epoch 18/20\n",
            "991/991 [==============================] - 17s 17ms/step - loss: 1.6059 - val_loss: 4.7991\n",
            "Epoch 19/20\n",
            "991/991 [==============================] - 17s 17ms/step - loss: 1.6051 - val_loss: 4.9933\n",
            "Epoch 20/20\n",
            "991/991 [==============================] - 17s 17ms/step - loss: 1.6066 - val_loss: 5.1467\n"
          ]
        }
      ]
    },
    {
      "cell_type": "code",
      "source": [
        "plt.plot(his.history['loss'])\n",
        "plt.plot(his.history['val_loss'])\n",
        "plt.show()"
      ],
      "metadata": {
        "colab": {
          "base_uri": "https://localhost:8080/",
          "height": 265
        },
        "id": "tdgqJNFnqSuU",
        "outputId": "e6800316-dce3-474d-9ab0-de2d588afe78"
      },
      "execution_count": 167,
      "outputs": [
        {
          "output_type": "display_data",
          "data": {
            "text/plain": [
              "<Figure size 432x288 with 1 Axes>"
            ],
            "image/png": "[encoded data removed]"
          },
          "metadata": {
            "needs_background": "light"
          }
        }
      ]
    },
    {
      "cell_type": "code",
      "source": [
        "pre = model.predict(x_test)"
      ],
      "metadata": {
        "id": "oar9XWhOqf3b"
      },
      "execution_count": 179,
      "outputs": []
    },
    {
      "cell_type": "code",
      "source": [
        "pre[0:2]"
      ],
      "metadata": {
        "colab": {
          "base_uri": "https://localhost:8080/"
        },
        "id": "xCeJ9Dx4W4jy",
        "outputId": "5e3d27f5-17e2-4659-aab5-58ac16d0eace"
      },
      "execution_count": 170,
      "outputs": [
        {
          "output_type": "execute_result",
          "data": {
            "text/plain": [
              "array([[  1.2131217,   1.1465364,   0.978947 ,  12.039559 ,  27.886415 ,\n",
              "         14.794317 ,   3.161644 , -24.101706 , -24.218409 , -20.47224  ,\n",
              "         22.345171 , -24.225542 , -24.000584 , -24.135609 ],\n",
              "       [  1.2128212,   1.1456448,   0.9787943,  12.031489 ,  27.883186 ,\n",
              "         14.793779 ,   3.1611269, -24.10373  , -24.21987  , -20.47366  ,\n",
              "         22.343351 , -24.225653 , -24.002499 , -24.136196 ]],\n",
              "      dtype=float32)"
            ]
          },
          "metadata": {},
          "execution_count": 170
        }
      ]
    },
    {
      "cell_type": "code",
      "source": [
        "pre.shape"
      ],
      "metadata": {
        "colab": {
          "base_uri": "https://localhost:8080/"
        },
        "id": "lOsSC0_6qluE",
        "outputId": "4d63df1c-d02f-4f26-a3e2-689a3a987035"
      },
      "execution_count": 99,
      "outputs": [
        {
          "output_type": "execute_result",
          "data": {
            "text/plain": [
              "(39608, 14)"
            ]
          },
          "metadata": {},
          "execution_count": 99
        }
      ]
    },
    {
      "cell_type": "code",
      "source": [
        "sub = pd.read_csv('/content/sample_submission.csv')\n",
        "sub.shape"
      ],
      "metadata": {
        "colab": {
          "base_uri": "https://localhost:8080/"
        },
        "id": "VC3YIIlEqrQl",
        "outputId": "a366bb9d-fe36-4552-d90b-4977b3331b87"
      },
      "execution_count": 171,
      "outputs": [
        {
          "output_type": "execute_result",
          "data": {
            "text/plain": [
              "(39608, 15)"
            ]
          },
          "metadata": {},
          "execution_count": 171
        }
      ]
    },
    {
      "cell_type": "code",
      "source": [
        "a = 0\n",
        "for i in sub.columns[1:]:\n",
        "    sub[i] = pre.T[a]\n",
        "    a += 1"
      ],
      "metadata": {
        "id": "e0O78ifPq1zC"
      },
      "execution_count": 180,
      "outputs": []
    },
    {
      "cell_type": "code",
      "source": [
        "sub.to_csv('sub.csv', index=False)"
      ],
      "metadata": {
        "id": "YHjA7LUArUbN"
      },
      "execution_count": 182,
      "outputs": []
    },
    {
      "cell_type": "markdown",
      "source": [
        "# modeling2"
      ],
      "metadata": {
        "id": "8hoYgc8M6bM4"
      }
    },
    {
      "cell_type": "code",
      "source": [
        "def model_make2():\n",
        "    inputs = layers.Input(shape=(52))\n",
        "    x = layers.Dense(32,activation='relu')(inputs)\n",
        "    x = layers.Dropout(0.1)(x)\n",
        "    x = layers.Dense(64,activation='relu')(x)\n",
        "    x = layers.Dropout(0.1)(x)\n",
        "    x = layers.Dense(128,activation='relu')(x)\n",
        "    x = layers.Dropout(0.1)(x)\n",
        "    x = layers.Dense(256,activation='relu')(x)\n",
        "    x = layers.Dropout(0.1)(x)\n",
        "    x = layers.Dense(512,activation='relu')(x)\n",
        "    x = layers.Dropout(0.1)(x)\n",
        "    x = layers.Dense(1024,activation='relu')(x)\n",
        "    x = layers.Dropout(0.1)(x)\n",
        "    x = layers.Dense(64,activation='relu')(x)\n",
        "    x = layers.Dropout(0.5)(x)\n",
        "    outputs = layers.Dense(14)(x)\n",
        "    \n",
        "    model = tf.keras.Model(inputs, outputs)\n",
        "    return model"
      ],
      "metadata": {
        "id": "WhS4HFAx6ZGP"
      },
      "execution_count": 136,
      "outputs": []
    },
    {
      "cell_type": "code",
      "source": [
        "model = model_make2()\n",
        "model.summary()"
      ],
      "metadata": {
        "colab": {
          "base_uri": "https://localhost:8080/"
        },
        "id": "PgiQad_B66_p",
        "outputId": "b74900ab-e118-4466-e469-49bdae1d1851"
      },
      "execution_count": 137,
      "outputs": [
        {
          "output_type": "stream",
          "name": "stdout",
          "text": [
            "Model: \"model_7\"\n",
            "_________________________________________________________________\n",
            " Layer (type)                Output Shape              Param #   \n",
            "=================================================================\n",
            " input_9 (InputLayer)        [(None, 52)]              0         \n",
            "                                                                 \n",
            " dense_33 (Dense)            (None, 32)                1696      \n",
            "                                                                 \n",
            " dropout_23 (Dropout)        (None, 32)                0         \n",
            "                                                                 \n",
            " dense_34 (Dense)            (None, 64)                2112      \n",
            "                                                                 \n",
            " dropout_24 (Dropout)        (None, 64)                0         \n",
            "                                                                 \n",
            " dense_35 (Dense)            (None, 128)               8320      \n",
            "                                                                 \n",
            " dropout_25 (Dropout)        (None, 128)               0         \n",
            "                                                                 \n",
            " dense_36 (Dense)            (None, 256)               33024     \n",
            "                                                                 \n",
            " dropout_26 (Dropout)        (None, 256)               0         \n",
            "                                                                 \n",
            " dense_37 (Dense)            (None, 512)               131584    \n",
            "                                                                 \n",
            " dropout_27 (Dropout)        (None, 512)               0         \n",
            "                                                                 \n",
            " dense_38 (Dense)            (None, 1024)              525312    \n",
            "                                                                 \n",
            " dropout_28 (Dropout)        (None, 1024)              0         \n",
            "                                                                 \n",
            " dense_39 (Dense)            (None, 64)                65600     \n",
            "                                                                 \n",
            " dropout_29 (Dropout)        (None, 64)                0         \n",
            "                                                                 \n",
            " dense_40 (Dense)            (None, 14)                910       \n",
            "                                                                 \n",
            "=================================================================\n",
            "Total params: 768,558\n",
            "Trainable params: 768,558\n",
            "Non-trainable params: 0\n",
            "_________________________________________________________________\n"
          ]
        }
      ]
    },
    {
      "cell_type": "code",
      "source": [
        "model.compile(optimizer='adam', loss='mse')"
      ],
      "metadata": {
        "id": "oIGdSbDI7Tuk"
      },
      "execution_count": 138,
      "outputs": []
    },
    {
      "cell_type": "code",
      "source": [
        "his = model.fit(x_train, y_train, epochs=50, validation_split=0.2)"
      ],
      "metadata": {
        "colab": {
          "base_uri": "https://localhost:8080/"
        },
        "id": "84GHTlWT7Vwo",
        "outputId": "d533aa41-26b8-422e-ff29-7ee1aaaca947"
      },
      "execution_count": 141,
      "outputs": [
        {
          "output_type": "stream",
          "name": "stdout",
          "text": [
            "Epoch 1/50\n",
            "991/991 [==============================] - 20s 20ms/step - loss: 5.7497 - val_loss: 1.2807\n",
            "Epoch 2/50\n",
            "991/991 [==============================] - 19s 19ms/step - loss: 5.3788 - val_loss: 1.2324\n",
            "Epoch 3/50\n",
            "991/991 [==============================] - 18s 18ms/step - loss: 5.0625 - val_loss: 1.3413\n",
            "Epoch 4/50\n",
            "991/991 [==============================] - 18s 18ms/step - loss: 4.7218 - val_loss: 1.3365\n",
            "Epoch 5/50\n",
            "991/991 [==============================] - 17s 17ms/step - loss: 4.4165 - val_loss: 1.2843\n",
            "Epoch 6/50\n",
            "991/991 [==============================] - 17s 17ms/step - loss: 4.1463 - val_loss: 1.4381\n",
            "Epoch 7/50\n",
            "991/991 [==============================] - 17s 18ms/step - loss: 3.8896 - val_loss: 1.3076\n",
            "Epoch 8/50\n",
            "991/991 [==============================] - 18s 18ms/step - loss: 3.6195 - val_loss: 1.3631\n",
            "Epoch 9/50\n",
            "991/991 [==============================] - 18s 19ms/step - loss: 3.4208 - val_loss: 1.2090\n",
            "Epoch 10/50\n",
            "991/991 [==============================] - 18s 18ms/step - loss: 3.2006 - val_loss: 1.2786\n",
            "Epoch 11/50\n",
            "991/991 [==============================] - 18s 18ms/step - loss: 3.0074 - val_loss: 1.2011\n",
            "Epoch 12/50\n",
            "991/991 [==============================] - 17s 17ms/step - loss: 2.8530 - val_loss: 1.1969\n",
            "Epoch 13/50\n",
            "991/991 [==============================] - 18s 18ms/step - loss: 2.6732 - val_loss: 1.2707\n",
            "Epoch 14/50\n",
            "991/991 [==============================] - 19s 19ms/step - loss: 2.5455 - val_loss: 1.1952\n",
            "Epoch 15/50\n",
            "991/991 [==============================] - 18s 18ms/step - loss: 2.4091 - val_loss: 1.2323\n",
            "Epoch 16/50\n",
            "991/991 [==============================] - 17s 17ms/step - loss: 2.2885 - val_loss: 1.2362\n",
            "Epoch 17/50\n",
            "991/991 [==============================] - 18s 18ms/step - loss: 2.1950 - val_loss: 1.2255\n",
            "Epoch 18/50\n",
            "991/991 [==============================] - 16s 16ms/step - loss: 2.1042 - val_loss: 1.2608\n",
            "Epoch 19/50\n",
            "991/991 [==============================] - 18s 18ms/step - loss: 2.0304 - val_loss: 1.2220\n",
            "Epoch 20/50\n",
            "991/991 [==============================] - 16s 16ms/step - loss: 1.9621 - val_loss: 1.2189\n",
            "Epoch 21/50\n",
            "991/991 [==============================] - 17s 17ms/step - loss: 1.9007 - val_loss: 1.2198\n",
            "Epoch 22/50\n",
            "991/991 [==============================] - 17s 17ms/step - loss: 1.8514 - val_loss: 1.2017\n",
            "Epoch 23/50\n",
            "991/991 [==============================] - 16s 16ms/step - loss: 1.8196 - val_loss: 1.2070\n",
            "Epoch 24/50\n",
            "991/991 [==============================] - 17s 17ms/step - loss: 1.7875 - val_loss: 1.2006\n",
            "Epoch 25/50\n",
            "991/991 [==============================] - 17s 17ms/step - loss: 1.7652 - val_loss: 1.2070\n",
            "Epoch 26/50\n",
            "991/991 [==============================] - 18s 19ms/step - loss: 1.7413 - val_loss: 1.2408\n",
            "Epoch 27/50\n",
            "991/991 [==============================] - 18s 18ms/step - loss: 1.7282 - val_loss: 1.2092\n",
            "Epoch 28/50\n",
            "991/991 [==============================] - 17s 18ms/step - loss: 1.7102 - val_loss: 1.1951\n",
            "Epoch 29/50\n",
            "991/991 [==============================] - 18s 18ms/step - loss: 1.7041 - val_loss: 1.1997\n",
            "Epoch 30/50\n",
            "991/991 [==============================] - 18s 18ms/step - loss: 1.6951 - val_loss: 1.1954\n",
            "Epoch 31/50\n",
            "991/991 [==============================] - 17s 17ms/step - loss: 1.6879 - val_loss: 1.1974\n",
            "Epoch 32/50\n",
            "991/991 [==============================] - 19s 20ms/step - loss: 1.6766 - val_loss: 1.1984\n",
            "Epoch 33/50\n",
            "991/991 [==============================] - 17s 17ms/step - loss: 1.6710 - val_loss: 1.2007\n",
            "Epoch 34/50\n",
            "991/991 [==============================] - 17s 18ms/step - loss: 1.6672 - val_loss: 1.1985\n",
            "Epoch 35/50\n",
            "991/991 [==============================] - 17s 17ms/step - loss: 1.6622 - val_loss: 1.1986\n",
            "Epoch 36/50\n",
            "991/991 [==============================] - 18s 18ms/step - loss: 1.6576 - val_loss: 1.1959\n",
            "Epoch 37/50\n",
            "991/991 [==============================] - 16s 16ms/step - loss: 1.6532 - val_loss: 1.1953\n",
            "Epoch 38/50\n",
            "991/991 [==============================] - 19s 20ms/step - loss: 1.6509 - val_loss: 1.1994\n",
            "Epoch 39/50\n",
            "991/991 [==============================] - 18s 18ms/step - loss: 1.6472 - val_loss: 1.1968\n",
            "Epoch 40/50\n",
            "991/991 [==============================] - 20s 20ms/step - loss: 1.6475 - val_loss: 1.1950\n",
            "Epoch 41/50\n",
            "991/991 [==============================] - 17s 17ms/step - loss: 1.6443 - val_loss: 1.1944\n",
            "Epoch 42/50\n",
            "991/991 [==============================] - 17s 17ms/step - loss: 1.6410 - val_loss: 1.1947\n",
            "Epoch 43/50\n",
            "991/991 [==============================] - 18s 18ms/step - loss: 1.6390 - val_loss: 1.1946\n",
            "Epoch 44/50\n",
            "991/991 [==============================] - 18s 18ms/step - loss: 1.6388 - val_loss: 1.1967\n",
            "Epoch 45/50\n",
            "991/991 [==============================] - 17s 17ms/step - loss: 1.6373 - val_loss: 1.1960\n",
            "Epoch 46/50\n",
            "991/991 [==============================] - 17s 17ms/step - loss: 1.6360 - val_loss: 1.1929\n",
            "Epoch 47/50\n",
            "991/991 [==============================] - 18s 18ms/step - loss: 1.6358 - val_loss: 1.1955\n",
            "Epoch 48/50\n",
            "991/991 [==============================] - 18s 18ms/step - loss: 1.6340 - val_loss: 1.1964\n",
            "Epoch 49/50\n",
            "991/991 [==============================] - 17s 17ms/step - loss: 1.6324 - val_loss: 1.1952\n",
            "Epoch 50/50\n",
            "991/991 [==============================] - 17s 17ms/step - loss: 1.6313 - val_loss: 1.1962\n"
          ]
        }
      ]
    },
    {
      "cell_type": "code",
      "source": [
        "pre = model.predict(x_test)"
      ],
      "metadata": {
        "id": "khIneueoENE1"
      },
      "execution_count": 158,
      "outputs": []
    },
    {
      "cell_type": "code",
      "source": [
        "sub = pd.read_csv('/content/sample_submission.csv')\n",
        "a = 0\n",
        "for i in sub.columns[1:]:\n",
        "    sub[i] = pre.T[a]\n",
        "    a += 1\n",
        "sub.to_csv('sub.csv', index=False)"
      ],
      "metadata": {
        "id": "ySLUCnVtERbZ"
      },
      "execution_count": 152,
      "outputs": []
    }
  ]
}