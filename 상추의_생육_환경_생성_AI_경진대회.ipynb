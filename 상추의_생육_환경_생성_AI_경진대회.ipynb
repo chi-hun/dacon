{
  "nbformat": 4,
  "nbformat_minor": 0,
  "metadata": {
    "colab": {
      "provenance": [],
      "mount_file_id": "1arfLhbJot7JnfD15l3fdcrNcYKnV5Pyz",
      "authorship_tag": "ABX9TyNkjYKEjKDUkC/M4RRBOdSL",
      "include_colab_link": true
    },
    "kernelspec": {
      "name": "python3",
      "display_name": "Python 3"
    },
    "language_info": {
      "name": "python"
    }
  },
  "cells": [
    {
      "cell_type": "markdown",
      "metadata": {
        "id": "view-in-github",
        "colab_type": "text"
      },
      "source": [
        "<a href=\"https://colab.research.google.com/github/chi-hun/dacon/blob/main/%EC%83%81%EC%B6%94%EC%9D%98_%EC%83%9D%EC%9C%A1_%ED%99%98%EA%B2%BD_%EC%83%9D%EC%84%B1_AI_%EA%B2%BD%EC%A7%84%EB%8C%80%ED%9A%8C.ipynb\" target=\"_parent\"><img src=\"https://colab.research.google.com/assets/colab-badge.svg\" alt=\"Open In Colab\"/></a>"
      ]
    },
    {
      "cell_type": "markdown",
      "source": [
        "상추의 생육 환경 생성 AI 경진대회\n",
        "\n",
        "https://dacon.io/competitions/official/236033/overview/description"
      ],
      "metadata": {
        "id": "nLjwqz84mT1p"
      }
    },
    {
      "cell_type": "code",
      "source": [
        "!pip install catboost"
      ],
      "metadata": {
        "id": "KcvIrf6MMkT7",
        "colab": {
          "base_uri": "https://localhost:8080/"
        },
        "outputId": "c97e7314-bc05-4bb0-9d62-7a3cfaaec408"
      },
      "execution_count": null,
      "outputs": [
        {
          "output_type": "stream",
          "name": "stdout",
          "text": [
            "Looking in indexes: https://pypi.org/simple, https://us-python.pkg.dev/colab-wheels/public/simple/\n",
            "Collecting catboost\n",
            "  Downloading catboost-1.1.1-cp38-none-manylinux1_x86_64.whl (76.6 MB)\n",
            "\u001b[K     |████████████████████████████████| 76.6 MB 1.3 MB/s \n",
            "\u001b[?25hRequirement already satisfied: matplotlib in /usr/local/lib/python3.8/dist-packages (from catboost) (3.2.2)\n",
            "Requirement already satisfied: numpy>=1.16.0 in /usr/local/lib/python3.8/dist-packages (from catboost) (1.21.6)\n",
            "Requirement already satisfied: pandas>=0.24.0 in /usr/local/lib/python3.8/dist-packages (from catboost) (1.3.5)\n",
            "Requirement already satisfied: graphviz in /usr/local/lib/python3.8/dist-packages (from catboost) (0.10.1)\n",
            "Requirement already satisfied: scipy in /usr/local/lib/python3.8/dist-packages (from catboost) (1.7.3)\n",
            "Requirement already satisfied: plotly in /usr/local/lib/python3.8/dist-packages (from catboost) (5.5.0)\n",
            "Requirement already satisfied: six in /usr/local/lib/python3.8/dist-packages (from catboost) (1.15.0)\n",
            "Requirement already satisfied: pytz>=2017.3 in /usr/local/lib/python3.8/dist-packages (from pandas>=0.24.0->catboost) (2022.6)\n",
            "Requirement already satisfied: python-dateutil>=2.7.3 in /usr/local/lib/python3.8/dist-packages (from pandas>=0.24.0->catboost) (2.8.2)\n",
            "Requirement already satisfied: cycler>=0.10 in /usr/local/lib/python3.8/dist-packages (from matplotlib->catboost) (0.11.0)\n",
            "Requirement already satisfied: pyparsing!=2.0.4,!=2.1.2,!=2.1.6,>=2.0.1 in /usr/local/lib/python3.8/dist-packages (from matplotlib->catboost) (3.0.9)\n",
            "Requirement already satisfied: kiwisolver>=1.0.1 in /usr/local/lib/python3.8/dist-packages (from matplotlib->catboost) (1.4.4)\n",
            "Requirement already satisfied: tenacity>=6.2.0 in /usr/local/lib/python3.8/dist-packages (from plotly->catboost) (8.1.0)\n",
            "Installing collected packages: catboost\n",
            "Successfully installed catboost-1.1.1\n"
          ]
        }
      ]
    },
    {
      "cell_type": "code",
      "execution_count": null,
      "metadata": {
        "id": "cTMkSIc9mDze"
      },
      "outputs": [],
      "source": [
        "import pandas as pd\n",
        "import matplotlib.pyplot as plt\n",
        "import seaborn as sns\n",
        "import glob\n",
        "import numpy as np\n",
        "from tqdm import tqdm\n",
        "import math\n",
        "from sklearn.preprocessing import MinMaxScaler\n",
        "from sklearn.linear_model import LinearRegression\n",
        "from sklearn.neighbors import KNeighborsRegressor\n",
        "from sklearn.ensemble import RandomForestRegressor\n",
        "from sklearn.model_selection import GridSearchCV, KFold\n",
        "from xgboost import XGBRegressor\n",
        "from lightgbm import LGBMRegressor\n",
        "from catboost import CatBoostRegressor\n",
        "from sklearn.metrics import mean_squared_error\n",
        "import tensorflow as tf\n",
        "from tensorflow.keras import layers"
      ]
    },
    {
      "cell_type": "markdown",
      "source": [
        "# data(cat)"
      ],
      "metadata": {
        "id": "nfyxfzopxlPo"
      }
    },
    {
      "cell_type": "code",
      "source": [
        "!unzip '/content/drive/MyDrive/Colab Notebooks/데이콘/상추/open (1).zip'"
      ],
      "metadata": {
        "id": "yEF4NjCVmh4K"
      },
      "execution_count": null,
      "outputs": []
    },
    {
      "cell_type": "code",
      "source": [
        "train_01 = pd.read_csv('/content/train_input/CASE_01.csv')"
      ],
      "metadata": {
        "id": "uxKvPklPnr8s"
      },
      "execution_count": null,
      "outputs": []
    },
    {
      "cell_type": "code",
      "source": [
        "train_01.columns"
      ],
      "metadata": {
        "colab": {
          "base_uri": "https://localhost:8080/"
        },
        "id": "MBQuzcqNyYmf",
        "outputId": "ded28f58-8a1b-43d4-de58-875dcfbe2e8c"
      },
      "execution_count": null,
      "outputs": [
        {
          "output_type": "execute_result",
          "data": {
            "text/plain": [
              "Index(['DAT', 'obs_time', '내부온도관측치', '내부습도관측치', 'co2관측치', 'ec관측치', '시간당분무량',\n",
              "       '일간누적분무량', '시간당백색광량', '일간누적백색광량', '시간당적색광량', '일간누적적색광량', '시간당청색광량',\n",
              "       '일간누적청색광량', '시간당총광량', '일간누적총광량'],\n",
              "      dtype='object')"
            ]
          },
          "metadata": {},
          "execution_count": 182
        }
      ]
    },
    {
      "cell_type": "code",
      "source": [
        "train_li = sorted(glob.glob('/content/train_input/*'))\n",
        "test_li = sorted(glob.glob('/content/test_input/*'))"
      ],
      "metadata": {
        "id": "pXrNJs0X0yhe"
      },
      "execution_count": null,
      "outputs": []
    },
    {
      "cell_type": "markdown",
      "source": [
        "시간당 내부 평균온도: 4도~40도\n",
        "\n",
        "시간당 내부 평균습도: 0% ~ 100%\n",
        "\n",
        "시간당 내부 평균 co2 농도 : 0ppm ~ 1200 ppm\n",
        "\n",
        "시간당 평균 EC : 0 ~ 8\n",
        "\n",
        "시간당 분무량 : 0 ~ 3000 / 일간 누적 분무량 0 ~ 72,000\n",
        "\n",
        "시간당 백색광량 : 0 ~ 120,000 / 일간 누적 백색광량 0 ~ 2,880,000\n",
        "\n",
        "시간당 적색광량 : 0 ~ 120,000 / 일간 누적 적색광량 0 ~ 2,880,000 \n",
        "\n",
        "시간당 청색광량 : 0 ~ 120,000 / 일간 누적 청색광량 0 ~ 2,880,000\n",
        "\n",
        "시간당 총광량 : 0 ~ 120,000 / 일간 누적 총광량 0 ~ 2,880,000"
      ],
      "metadata": {
        "id": "TWYgf9ZeQOBL"
      }
    },
    {
      "cell_type": "code",
      "source": [
        "for i in train_li + test_li:\n",
        "    df = pd.read_csv(i)\n",
        "    df['내부온도관측치'] = df['내부온도관측치'].clip(4,40)\n",
        "    df['내부습도관측치'] = df['내부습도관측치'].clip(0,100)\n",
        "    df['co2관측치']  = df['co2관측치'].clip(0,1200)\n",
        "    df['ec관측치']  = df['ec관측치'].clip(0,8)\n",
        "    df['시간당분무량']  = df['시간당분무량'].clip(0,3000)\n",
        "    df['일간누적분무량']  = df['일간누적분무량'].clip(0,72000)\n",
        "    df['시간당백색광량']  = df['시간당백색광량'].clip(0,120000)\n",
        "    df['일간누적백색광량']  = df['일간누적백색광량'].clip(0,2880000)\n",
        "    df['시간당적색광량']  = df['시간당적색광량'].clip(0,120000)\n",
        "    df['일간누적적색광량']  = df['일간누적적색광량'].clip(0,2880000)\n",
        "    df['시간당청색광량']  = df['시간당청색광량'].clip(0,120000)\n",
        "    df['일간누적청색광량']  = df['일간누적청색광량'].clip(0,2880000)\n",
        "    df['시간당총광량']  = df['시간당총광량'].clip(0,120000)\n",
        "    df['일간누적총광량']  = df['일간누적총광량'].clip(0,2880000)\n",
        "    df.to_csv(i, index=False)"
      ],
      "metadata": {
        "id": "sb1xGIXNXH55"
      },
      "execution_count": null,
      "outputs": []
    },
    {
      "cell_type": "code",
      "source": [
        "li_mean = ['내부온도관측치', '내부습도관측치', 'co2관측치', 'ec관측치', '시간당분무량', '시간당백색광량', '시간당적색광량', '시간당청색광량', '시간당총광량']\n",
        "li_max = ['일간누적분무량', '일간누적백색광량', '일간누적적색광량', '일간누적청색광량', '일간누적총광량']\n",
        "li_min = ['내부온도관측치', '내부습도관측치', 'co2관측치', 'ec관측치']\n",
        "li_max_2 = ['내부온도관측치', '내부습도관측치', 'co2관측치', 'ec관측치']"
      ],
      "metadata": {
        "id": "AYZb38a44F45"
      },
      "execution_count": null,
      "outputs": []
    },
    {
      "cell_type": "code",
      "source": [
        "def make_data(file):\n",
        "    df = pd.read_csv(file)\n",
        "    date = list(set(df['DAT'].values))\n",
        "    case = {}\n",
        "\n",
        "    for i in li_mean:\n",
        "        va = []\n",
        "        for j in date:\n",
        "            tt = df[df['DAT'] == j]\n",
        "            va.append(tt[i].mean())\n",
        "        case[i] = va\n",
        "\n",
        "    for i in li_max:\n",
        "        va = []\n",
        "        for j in date:\n",
        "            tt = df[df['DAT'] == j]\n",
        "            va.append(tt[i].max())\n",
        "        case[i] = va\n",
        "\n",
        "    for i in li_max_2:\n",
        "        va = []\n",
        "        for j in date:\n",
        "            tt = df[df['DAT'] == j]\n",
        "            va.append(tt[i].max())\n",
        "        case[i+'max'] = va\n",
        "\n",
        "    for i in li_min:\n",
        "        va = []\n",
        "        for j in date:\n",
        "            tt = df[df['DAT'] == j]\n",
        "            va.append(tt[i].min())\n",
        "        case[i+'min'] = va\n",
        "\n",
        "    mdf = pd.DataFrame(case)\n",
        "    return mdf\n",
        "\n",
        "for i, j in enumerate(train_li):\n",
        "    if i == 0:\n",
        "        train_x = make_data(j)\n",
        "    else:\n",
        "        train_some = make_data(j)\n",
        "        train_x = pd.concat([train_x, train_some], axis=0)\n",
        "train_x.reset_index(drop=True, inplace=True)\n",
        "\n",
        "for i, j in enumerate(test_li):\n",
        "    if i == 0:\n",
        "        test_x = make_data(j)\n",
        "    else:\n",
        "        test_some = make_data(j)\n",
        "        test_x = pd.concat([test_x, test_some], axis=0)\n",
        "test_x.reset_index(drop=True, inplace=True)\n",
        "test_x"
      ],
      "metadata": {
        "colab": {
          "base_uri": "https://localhost:8080/",
          "height": 522
        },
        "id": "pYcRRyZ83jyr",
        "outputId": "4a316846-719e-485e-e1da-d35b69ba75ba"
      },
      "execution_count": null,
      "outputs": [
        {
          "output_type": "execute_result",
          "data": {
            "text/plain": [
              "       내부온도관측치    내부습도관측치      co2관측치     ec관측치      시간당분무량      시간당백색광량  \\\n",
              "0    27.489730  61.372104  465.722917  1.037389  510.255417  8728.198258   \n",
              "1    28.668803  63.148023  463.661311  1.034501  383.964167  8729.874229   \n",
              "2    28.407405  61.045223  488.883086  1.033113  496.323750  8734.386458   \n",
              "3    28.163750  64.356319  494.394444  1.033793  512.398750  8732.839408   \n",
              "4    27.302220  66.829097  528.349306  1.038796  369.764583  8734.515379   \n",
              "..         ...        ...         ...       ...         ...          ...   \n",
              "135  25.884889  56.707123  460.703472  0.244860  133.285000  6111.878867   \n",
              "136  25.439344  56.979188  438.658477  0.912453  135.428333  6093.056425   \n",
              "137  25.041662  57.322359  443.938089  0.915924  113.892500  6110.331817   \n",
              "138  25.617847  57.048055  447.692361  0.918316  124.392500  6107.495558   \n",
              "139  24.951748  57.634453  411.990666  0.926399  116.731250  6113.039154   \n",
              "\n",
              "       시간당적색광량     시간당청색광량       시간당총광량   일간누적분무량  ...   일간누적청색광량  \\\n",
              "0      0.00000    0.000000  8728.198258  12246.13  ...      0.000   \n",
              "1      0.00000    0.000000  8729.874229   9215.14  ...      0.000   \n",
              "2      0.00000    0.000000  8734.386458  11911.77  ...      0.000   \n",
              "3      0.00000    0.000000  8732.839408  12297.57  ...      0.000   \n",
              "4      0.00000    0.000000  8734.515379   8874.35  ...      0.000   \n",
              "..         ...         ...          ...       ...  ...        ...   \n",
              "135  927.92910  436.270250  7476.078217   3198.84  ...  10470.486   \n",
              "136  924.68845  434.834292  7452.579167   3250.28  ...  10436.023   \n",
              "137  927.03275  435.878625  7473.243192   2733.42  ...  10461.087   \n",
              "138  927.23960  435.748083  7470.483242   2985.42  ...  10457.954   \n",
              "139  926.75695  435.748083  7475.544187   2801.55  ...  10457.954   \n",
              "\n",
              "         일간누적총광량  내부온도관측치max  내부습도관측치max   co2관측치max  ec관측치max  내부온도관측치min  \\\n",
              "0    209476.7582   28.983333   69.930000  476.666667  1.041927   25.871666   \n",
              "1    209516.9815   30.481667   71.205000  474.666667  1.043185   26.900000   \n",
              "2    209625.2750   29.378333   64.435001  500.950000  1.036868   27.281666   \n",
              "3    209588.1458   29.771666   69.993332  512.266667  1.039821   26.935000   \n",
              "4    209628.3691   29.416666   73.918333  578.133333  1.048193   26.353333   \n",
              "..           ...         ...         ...         ...       ...         ...   \n",
              "135  179425.8772   27.348333   58.360000  700.800000  0.890030   23.715000   \n",
              "136  178861.9000   27.076667   58.475000  477.450000  0.922210   23.718333   \n",
              "137  179357.8366   26.696667   58.848334  556.383333  0.937101   23.531667   \n",
              "138  179291.5978   29.650000   58.156667  609.100000  0.928885   23.526667   \n",
              "139  179413.0605   26.333333   59.758333  470.366667  0.935517   23.561667   \n",
              "\n",
              "     내부습도관측치min   co2관측치min  ec관측치min  \n",
              "0     58.303333  458.616667  1.028971  \n",
              "1     59.256667  453.783333  1.026865  \n",
              "2     58.758333  480.100000  1.030345  \n",
              "3     59.966667  479.466667  1.028521  \n",
              "4     57.998333  498.183333  1.031513  \n",
              "..          ...         ...       ...  \n",
              "135   53.865000  388.750000  0.000000  \n",
              "136   56.221667  389.733333  0.895684  \n",
              "137   56.331667  365.050000  0.902878  \n",
              "138   55.303333  387.200000  0.879491  \n",
              "139   56.646667  361.833333  0.916185  \n",
              "\n",
              "[140 rows x 22 columns]"
            ],
            "text/html": [
              "\n",
              "  <div id=\"df-383f1889-8a98-404a-95c7-c7bc76d83f0d\">\n",
              "    <div class=\"colab-df-container\">\n",
              "      <div>\n",
              "<style scoped>\n",
              "    .dataframe tbody tr th:only-of-type {\n",
              "        vertical-align: middle;\n",
              "    }\n",
              "\n",
              "    .dataframe tbody tr th {\n",
              "        vertical-align: top;\n",
              "    }\n",
              "\n",
              "    .dataframe thead th {\n",
              "        text-align: right;\n",
              "    }\n",
              "</style>\n",
              "<table border=\"1\" class=\"dataframe\">\n",
              "  <thead>\n",
              "    <tr style=\"text-align: right;\">\n",
              "      <th></th>\n",
              "      <th>내부온도관측치</th>\n",
              "      <th>내부습도관측치</th>\n",
              "      <th>co2관측치</th>\n",
              "      <th>ec관측치</th>\n",
              "      <th>시간당분무량</th>\n",
              "      <th>시간당백색광량</th>\n",
              "      <th>시간당적색광량</th>\n",
              "      <th>시간당청색광량</th>\n",
              "      <th>시간당총광량</th>\n",
              "      <th>일간누적분무량</th>\n",
              "      <th>...</th>\n",
              "      <th>일간누적청색광량</th>\n",
              "      <th>일간누적총광량</th>\n",
              "      <th>내부온도관측치max</th>\n",
              "      <th>내부습도관측치max</th>\n",
              "      <th>co2관측치max</th>\n",
              "      <th>ec관측치max</th>\n",
              "      <th>내부온도관측치min</th>\n",
              "      <th>내부습도관측치min</th>\n",
              "      <th>co2관측치min</th>\n",
              "      <th>ec관측치min</th>\n",
              "    </tr>\n",
              "  </thead>\n",
              "  <tbody>\n",
              "    <tr>\n",
              "      <th>0</th>\n",
              "      <td>27.489730</td>\n",
              "      <td>61.372104</td>\n",
              "      <td>465.722917</td>\n",
              "      <td>1.037389</td>\n",
              "      <td>510.255417</td>\n",
              "      <td>8728.198258</td>\n",
              "      <td>0.00000</td>\n",
              "      <td>0.000000</td>\n",
              "      <td>8728.198258</td>\n",
              "      <td>12246.13</td>\n",
              "      <td>...</td>\n",
              "      <td>0.000</td>\n",
              "      <td>209476.7582</td>\n",
              "      <td>28.983333</td>\n",
              "      <td>69.930000</td>\n",
              "      <td>476.666667</td>\n",
              "      <td>1.041927</td>\n",
              "      <td>25.871666</td>\n",
              "      <td>58.303333</td>\n",
              "      <td>458.616667</td>\n",
              "      <td>1.028971</td>\n",
              "    </tr>\n",
              "    <tr>\n",
              "      <th>1</th>\n",
              "      <td>28.668803</td>\n",
              "      <td>63.148023</td>\n",
              "      <td>463.661311</td>\n",
              "      <td>1.034501</td>\n",
              "      <td>383.964167</td>\n",
              "      <td>8729.874229</td>\n",
              "      <td>0.00000</td>\n",
              "      <td>0.000000</td>\n",
              "      <td>8729.874229</td>\n",
              "      <td>9215.14</td>\n",
              "      <td>...</td>\n",
              "      <td>0.000</td>\n",
              "      <td>209516.9815</td>\n",
              "      <td>30.481667</td>\n",
              "      <td>71.205000</td>\n",
              "      <td>474.666667</td>\n",
              "      <td>1.043185</td>\n",
              "      <td>26.900000</td>\n",
              "      <td>59.256667</td>\n",
              "      <td>453.783333</td>\n",
              "      <td>1.026865</td>\n",
              "    </tr>\n",
              "    <tr>\n",
              "      <th>2</th>\n",
              "      <td>28.407405</td>\n",
              "      <td>61.045223</td>\n",
              "      <td>488.883086</td>\n",
              "      <td>1.033113</td>\n",
              "      <td>496.323750</td>\n",
              "      <td>8734.386458</td>\n",
              "      <td>0.00000</td>\n",
              "      <td>0.000000</td>\n",
              "      <td>8734.386458</td>\n",
              "      <td>11911.77</td>\n",
              "      <td>...</td>\n",
              "      <td>0.000</td>\n",
              "      <td>209625.2750</td>\n",
              "      <td>29.378333</td>\n",
              "      <td>64.435001</td>\n",
              "      <td>500.950000</td>\n",
              "      <td>1.036868</td>\n",
              "      <td>27.281666</td>\n",
              "      <td>58.758333</td>\n",
              "      <td>480.100000</td>\n",
              "      <td>1.030345</td>\n",
              "    </tr>\n",
              "    <tr>\n",
              "      <th>3</th>\n",
              "      <td>28.163750</td>\n",
              "      <td>64.356319</td>\n",
              "      <td>494.394444</td>\n",
              "      <td>1.033793</td>\n",
              "      <td>512.398750</td>\n",
              "      <td>8732.839408</td>\n",
              "      <td>0.00000</td>\n",
              "      <td>0.000000</td>\n",
              "      <td>8732.839408</td>\n",
              "      <td>12297.57</td>\n",
              "      <td>...</td>\n",
              "      <td>0.000</td>\n",
              "      <td>209588.1458</td>\n",
              "      <td>29.771666</td>\n",
              "      <td>69.993332</td>\n",
              "      <td>512.266667</td>\n",
              "      <td>1.039821</td>\n",
              "      <td>26.935000</td>\n",
              "      <td>59.966667</td>\n",
              "      <td>479.466667</td>\n",
              "      <td>1.028521</td>\n",
              "    </tr>\n",
              "    <tr>\n",
              "      <th>4</th>\n",
              "      <td>27.302220</td>\n",
              "      <td>66.829097</td>\n",
              "      <td>528.349306</td>\n",
              "      <td>1.038796</td>\n",
              "      <td>369.764583</td>\n",
              "      <td>8734.515379</td>\n",
              "      <td>0.00000</td>\n",
              "      <td>0.000000</td>\n",
              "      <td>8734.515379</td>\n",
              "      <td>8874.35</td>\n",
              "      <td>...</td>\n",
              "      <td>0.000</td>\n",
              "      <td>209628.3691</td>\n",
              "      <td>29.416666</td>\n",
              "      <td>73.918333</td>\n",
              "      <td>578.133333</td>\n",
              "      <td>1.048193</td>\n",
              "      <td>26.353333</td>\n",
              "      <td>57.998333</td>\n",
              "      <td>498.183333</td>\n",
              "      <td>1.031513</td>\n",
              "    </tr>\n",
              "    <tr>\n",
              "      <th>...</th>\n",
              "      <td>...</td>\n",
              "      <td>...</td>\n",
              "      <td>...</td>\n",
              "      <td>...</td>\n",
              "      <td>...</td>\n",
              "      <td>...</td>\n",
              "      <td>...</td>\n",
              "      <td>...</td>\n",
              "      <td>...</td>\n",
              "      <td>...</td>\n",
              "      <td>...</td>\n",
              "      <td>...</td>\n",
              "      <td>...</td>\n",
              "      <td>...</td>\n",
              "      <td>...</td>\n",
              "      <td>...</td>\n",
              "      <td>...</td>\n",
              "      <td>...</td>\n",
              "      <td>...</td>\n",
              "      <td>...</td>\n",
              "      <td>...</td>\n",
              "    </tr>\n",
              "    <tr>\n",
              "      <th>135</th>\n",
              "      <td>25.884889</td>\n",
              "      <td>56.707123</td>\n",
              "      <td>460.703472</td>\n",
              "      <td>0.244860</td>\n",
              "      <td>133.285000</td>\n",
              "      <td>6111.878867</td>\n",
              "      <td>927.92910</td>\n",
              "      <td>436.270250</td>\n",
              "      <td>7476.078217</td>\n",
              "      <td>3198.84</td>\n",
              "      <td>...</td>\n",
              "      <td>10470.486</td>\n",
              "      <td>179425.8772</td>\n",
              "      <td>27.348333</td>\n",
              "      <td>58.360000</td>\n",
              "      <td>700.800000</td>\n",
              "      <td>0.890030</td>\n",
              "      <td>23.715000</td>\n",
              "      <td>53.865000</td>\n",
              "      <td>388.750000</td>\n",
              "      <td>0.000000</td>\n",
              "    </tr>\n",
              "    <tr>\n",
              "      <th>136</th>\n",
              "      <td>25.439344</td>\n",
              "      <td>56.979188</td>\n",
              "      <td>438.658477</td>\n",
              "      <td>0.912453</td>\n",
              "      <td>135.428333</td>\n",
              "      <td>6093.056425</td>\n",
              "      <td>924.68845</td>\n",
              "      <td>434.834292</td>\n",
              "      <td>7452.579167</td>\n",
              "      <td>3250.28</td>\n",
              "      <td>...</td>\n",
              "      <td>10436.023</td>\n",
              "      <td>178861.9000</td>\n",
              "      <td>27.076667</td>\n",
              "      <td>58.475000</td>\n",
              "      <td>477.450000</td>\n",
              "      <td>0.922210</td>\n",
              "      <td>23.718333</td>\n",
              "      <td>56.221667</td>\n",
              "      <td>389.733333</td>\n",
              "      <td>0.895684</td>\n",
              "    </tr>\n",
              "    <tr>\n",
              "      <th>137</th>\n",
              "      <td>25.041662</td>\n",
              "      <td>57.322359</td>\n",
              "      <td>443.938089</td>\n",
              "      <td>0.915924</td>\n",
              "      <td>113.892500</td>\n",
              "      <td>6110.331817</td>\n",
              "      <td>927.03275</td>\n",
              "      <td>435.878625</td>\n",
              "      <td>7473.243192</td>\n",
              "      <td>2733.42</td>\n",
              "      <td>...</td>\n",
              "      <td>10461.087</td>\n",
              "      <td>179357.8366</td>\n",
              "      <td>26.696667</td>\n",
              "      <td>58.848334</td>\n",
              "      <td>556.383333</td>\n",
              "      <td>0.937101</td>\n",
              "      <td>23.531667</td>\n",
              "      <td>56.331667</td>\n",
              "      <td>365.050000</td>\n",
              "      <td>0.902878</td>\n",
              "    </tr>\n",
              "    <tr>\n",
              "      <th>138</th>\n",
              "      <td>25.617847</td>\n",
              "      <td>57.048055</td>\n",
              "      <td>447.692361</td>\n",
              "      <td>0.918316</td>\n",
              "      <td>124.392500</td>\n",
              "      <td>6107.495558</td>\n",
              "      <td>927.23960</td>\n",
              "      <td>435.748083</td>\n",
              "      <td>7470.483242</td>\n",
              "      <td>2985.42</td>\n",
              "      <td>...</td>\n",
              "      <td>10457.954</td>\n",
              "      <td>179291.5978</td>\n",
              "      <td>29.650000</td>\n",
              "      <td>58.156667</td>\n",
              "      <td>609.100000</td>\n",
              "      <td>0.928885</td>\n",
              "      <td>23.526667</td>\n",
              "      <td>55.303333</td>\n",
              "      <td>387.200000</td>\n",
              "      <td>0.879491</td>\n",
              "    </tr>\n",
              "    <tr>\n",
              "      <th>139</th>\n",
              "      <td>24.951748</td>\n",
              "      <td>57.634453</td>\n",
              "      <td>411.990666</td>\n",
              "      <td>0.926399</td>\n",
              "      <td>116.731250</td>\n",
              "      <td>6113.039154</td>\n",
              "      <td>926.75695</td>\n",
              "      <td>435.748083</td>\n",
              "      <td>7475.544187</td>\n",
              "      <td>2801.55</td>\n",
              "      <td>...</td>\n",
              "      <td>10457.954</td>\n",
              "      <td>179413.0605</td>\n",
              "      <td>26.333333</td>\n",
              "      <td>59.758333</td>\n",
              "      <td>470.366667</td>\n",
              "      <td>0.935517</td>\n",
              "      <td>23.561667</td>\n",
              "      <td>56.646667</td>\n",
              "      <td>361.833333</td>\n",
              "      <td>0.916185</td>\n",
              "    </tr>\n",
              "  </tbody>\n",
              "</table>\n",
              "<p>140 rows × 22 columns</p>\n",
              "</div>\n",
              "      <button class=\"colab-df-convert\" onclick=\"convertToInteractive('df-383f1889-8a98-404a-95c7-c7bc76d83f0d')\"\n",
              "              title=\"Convert this dataframe to an interactive table.\"\n",
              "              style=\"display:none;\">\n",
              "        \n",
              "  <svg xmlns=\"http://www.w3.org/2000/svg\" height=\"24px\"viewBox=\"0 0 24 24\"\n",
              "       width=\"24px\">\n",
              "    <path d=\"M0 0h24v24H0V0z\" fill=\"none\"/>\n",
              "    <path d=\"M18.56 5.44l.94 2.06.94-2.06 2.06-.94-2.06-.94-.94-2.06-.94 2.06-2.06.94zm-11 1L8.5 8.5l.94-2.06 2.06-.94-2.06-.94L8.5 2.5l-.94 2.06-2.06.94zm10 10l.94 2.06.94-2.06 2.06-.94-2.06-.94-.94-2.06-.94 2.06-2.06.94z\"/><path d=\"M17.41 7.96l-1.37-1.37c-.4-.4-.92-.59-1.43-.59-.52 0-1.04.2-1.43.59L10.3 9.45l-7.72 7.72c-.78.78-.78 2.05 0 2.83L4 21.41c.39.39.9.59 1.41.59.51 0 1.02-.2 1.41-.59l7.78-7.78 2.81-2.81c.8-.78.8-2.07 0-2.86zM5.41 20L4 18.59l7.72-7.72 1.47 1.35L5.41 20z\"/>\n",
              "  </svg>\n",
              "      </button>\n",
              "      \n",
              "  <style>\n",
              "    .colab-df-container {\n",
              "      display:flex;\n",
              "      flex-wrap:wrap;\n",
              "      gap: 12px;\n",
              "    }\n",
              "\n",
              "    .colab-df-convert {\n",
              "      background-color: #E8F0FE;\n",
              "      border: none;\n",
              "      border-radius: 50%;\n",
              "      cursor: pointer;\n",
              "      display: none;\n",
              "      fill: #1967D2;\n",
              "      height: 32px;\n",
              "      padding: 0 0 0 0;\n",
              "      width: 32px;\n",
              "    }\n",
              "\n",
              "    .colab-df-convert:hover {\n",
              "      background-color: #E2EBFA;\n",
              "      box-shadow: 0px 1px 2px rgba(60, 64, 67, 0.3), 0px 1px 3px 1px rgba(60, 64, 67, 0.15);\n",
              "      fill: #174EA6;\n",
              "    }\n",
              "\n",
              "    [theme=dark] .colab-df-convert {\n",
              "      background-color: #3B4455;\n",
              "      fill: #D2E3FC;\n",
              "    }\n",
              "\n",
              "    [theme=dark] .colab-df-convert:hover {\n",
              "      background-color: #434B5C;\n",
              "      box-shadow: 0px 1px 3px 1px rgba(0, 0, 0, 0.15);\n",
              "      filter: drop-shadow(0px 1px 2px rgba(0, 0, 0, 0.3));\n",
              "      fill: #FFFFFF;\n",
              "    }\n",
              "  </style>\n",
              "\n",
              "      <script>\n",
              "        const buttonEl =\n",
              "          document.querySelector('#df-383f1889-8a98-404a-95c7-c7bc76d83f0d button.colab-df-convert');\n",
              "        buttonEl.style.display =\n",
              "          google.colab.kernel.accessAllowed ? 'block' : 'none';\n",
              "\n",
              "        async function convertToInteractive(key) {\n",
              "          const element = document.querySelector('#df-383f1889-8a98-404a-95c7-c7bc76d83f0d');\n",
              "          const dataTable =\n",
              "            await google.colab.kernel.invokeFunction('convertToInteractive',\n",
              "                                                     [key], {});\n",
              "          if (!dataTable) return;\n",
              "\n",
              "          const docLinkHtml = 'Like what you see? Visit the ' +\n",
              "            '<a target=\"_blank\" href=https://colab.research.google.com/notebooks/data_table.ipynb>data table notebook</a>'\n",
              "            + ' to learn more about interactive tables.';\n",
              "          element.innerHTML = '';\n",
              "          dataTable['output_type'] = 'display_data';\n",
              "          await google.colab.output.renderOutput(dataTable, element);\n",
              "          const docLink = document.createElement('div');\n",
              "          docLink.innerHTML = docLinkHtml;\n",
              "          element.appendChild(docLink);\n",
              "        }\n",
              "      </script>\n",
              "    </div>\n",
              "  </div>\n",
              "  "
            ]
          },
          "metadata": {},
          "execution_count": 115
        }
      ]
    },
    {
      "cell_type": "code",
      "source": [
        "li_diff = ['내부온도관측치', '내부습도관측치', 'co2관측치', 'ec관측치', '시간당분무량', '시간당백색광량', '시간당적색광량', '시간당청색광량', '시간당총광량',\n",
        "           '일간누적분무량', '일간누적백색광량', '일간누적적색광량', '일간누적청색광량', '일간누적총광량']"
      ],
      "metadata": {
        "id": "bFkLMe9h8mCp"
      },
      "execution_count": null,
      "outputs": []
    },
    {
      "cell_type": "code",
      "source": [
        "for i in li_diff:\n",
        "    train_x[i+'diff'] = train_x[i].diff()\n",
        "    test_x[i+'diff'] = test_x[i].diff()\n",
        "    train_x[i+'diff2'] = train_x[i].diff(periods=2)\n",
        "    test_x[i+'diff2'] = test_x[i].diff(periods=2)\n",
        "    train_x[i+'diff3'] = train_x[i].diff(periods=3)\n",
        "    test_x[i+'diff3'] = test_x[i].diff(periods=3)\n",
        "train_x.fillna(0, inplace=True)\n",
        "test_x.fillna(0, inplace=True)"
      ],
      "metadata": {
        "id": "CIAF33639GF6"
      },
      "execution_count": null,
      "outputs": []
    },
    {
      "cell_type": "code",
      "source": [
        "train_ta = sorted(glob.glob('/content/train_target/*'))\n",
        "for i, j in enumerate(train_ta):\n",
        "    if i == 0:\n",
        "        train_y = pd.read_csv(j)\n",
        "    else:\n",
        "        train_y_some = pd.read_csv(j)\n",
        "        train_y = pd.concat([train_y, train_y_some], axis=0)\n",
        "train_y.reset_index(drop=True, inplace=True)"
      ],
      "metadata": {
        "id": "Mt1r528ACrZ5"
      },
      "execution_count": null,
      "outputs": []
    },
    {
      "cell_type": "code",
      "source": [
        "test_ta = sorted(glob.glob('/content/test_target/*'))\n",
        "for i, j in enumerate(test_ta):\n",
        "    if i == 0:\n",
        "        test_y = pd.read_csv(j)\n",
        "    else:\n",
        "        test_y_some = pd.read_csv(j)\n",
        "        test_y = pd.concat([test_y, test_y_some], axis=0)\n",
        "test_y.reset_index(drop=True, inplace=True)"
      ],
      "metadata": {
        "id": "lE6zkOk5dj-v"
      },
      "execution_count": null,
      "outputs": []
    },
    {
      "cell_type": "code",
      "source": [
        "train_all = pd.concat([train_x, train_y], axis=1)\n",
        "test_all = pd.concat([test_x, test_y], axis=1)"
      ],
      "metadata": {
        "id": "UnchctGDFJu4"
      },
      "execution_count": null,
      "outputs": []
    },
    {
      "cell_type": "code",
      "source": [
        "test_x = test_all.copy()\n",
        "test_y = test_x.pop('predicted_weight_g')"
      ],
      "metadata": {
        "id": "twC3XXPLly7p"
      },
      "execution_count": null,
      "outputs": []
    },
    {
      "cell_type": "code",
      "source": [
        "train_x.columns"
      ],
      "metadata": {
        "colab": {
          "base_uri": "https://localhost:8080/"
        },
        "id": "ZUEFf4YO-AQ4",
        "outputId": "ac1cb9aa-b0ea-442f-e00c-54b75f703501"
      },
      "execution_count": null,
      "outputs": [
        {
          "output_type": "execute_result",
          "data": {
            "text/plain": [
              "Index(['내부온도관측치', '내부습도관측치', 'co2관측치', 'ec관측치', '시간당분무량', '시간당백색광량', '시간당적색광량',\n",
              "       '시간당청색광량', '시간당총광량', '일간누적분무량', '일간누적백색광량', '일간누적적색광량', '일간누적청색광량',\n",
              "       '일간누적총광량', '내부온도관측치max', '내부습도관측치max', 'co2관측치max', 'ec관측치max',\n",
              "       '내부온도관측치min', '내부습도관측치min', 'co2관측치min', 'ec관측치min', '내부온도관측치diff',\n",
              "       '내부온도관측치diff2', '내부온도관측치diff3', '내부습도관측치diff', '내부습도관측치diff2',\n",
              "       '내부습도관측치diff3', 'co2관측치diff', 'co2관측치diff2', 'co2관측치diff3', 'ec관측치diff',\n",
              "       'ec관측치diff2', 'ec관측치diff3', '시간당분무량diff', '시간당분무량diff2', '시간당분무량diff3',\n",
              "       '시간당백색광량diff', '시간당백색광량diff2', '시간당백색광량diff3', '시간당적색광량diff',\n",
              "       '시간당적색광량diff2', '시간당적색광량diff3', '시간당청색광량diff', '시간당청색광량diff2',\n",
              "       '시간당청색광량diff3', '시간당총광량diff', '시간당총광량diff2', '시간당총광량diff3',\n",
              "       '일간누적분무량diff', '일간누적분무량diff2', '일간누적분무량diff3', '일간누적백색광량diff',\n",
              "       '일간누적백색광량diff2', '일간누적백색광량diff3', '일간누적적색광량diff', '일간누적적색광량diff2',\n",
              "       '일간누적적색광량diff3', '일간누적청색광량diff', '일간누적청색광량diff2', '일간누적청색광량diff3',\n",
              "       '일간누적총광량diff', '일간누적총광량diff2', '일간누적총광량diff3'],\n",
              "      dtype='object')"
            ]
          },
          "metadata": {},
          "execution_count": 123
        }
      ]
    },
    {
      "cell_type": "markdown",
      "source": [
        "# cat"
      ],
      "metadata": {
        "id": "lUgWsMPwxX1w"
      }
    },
    {
      "cell_type": "code",
      "source": [
        "train_t = train_all[:-28]\n",
        "train_v = train_all[-28:]"
      ],
      "metadata": {
        "id": "Lvh-iaiwNR9q"
      },
      "execution_count": null,
      "outputs": []
    },
    {
      "cell_type": "code",
      "source": [
        "train_x = train_t.copy()\n",
        "train_y = train_x.pop('predicted_weight_g')\n",
        "val_x = train_v.copy()\n",
        "val_y = val_x.pop('predicted_weight_g')"
      ],
      "metadata": {
        "id": "_0dR7ERYN0Zm"
      },
      "execution_count": null,
      "outputs": []
    },
    {
      "cell_type": "code",
      "source": [
        "lr = LinearRegression()\n",
        "knr = KNeighborsRegressor()\n",
        "rfr = RandomForestRegressor()\n",
        "xgb = XGBRegressor()\n",
        "lgbm = LGBMRegressor()\n",
        "cat = CatBoostRegressor(verbose=0)\n",
        "models = [lr, knr, rfr, xgb, lgbm, cat]\n",
        "for i in models:\n",
        "    model = i.fit(train_x, train_y)\n",
        "    sc = round(model.score(train_x, train_y), 2)\n",
        "    pre = model.predict(val_x)\n",
        "    rmse = round(mean_squared_error(val_y, pre, squared=False), 2)\n",
        "    print(f'model : {i.__class__.__name__}, sc : {sc}, rmse : {rmse}')"
      ],
      "metadata": {
        "colab": {
          "base_uri": "https://localhost:8080/"
        },
        "id": "Nsg8uCi0VS5v",
        "outputId": "5e967513-e58c-4a32-9186-563f21aec66a"
      },
      "execution_count": null,
      "outputs": [
        {
          "output_type": "stream",
          "name": "stdout",
          "text": [
            "model : LinearRegression, sc : 0.75, rmse : 14.65\n",
            "model : KNeighborsRegressor, sc : 0.61, rmse : 9.14\n",
            "model : RandomForestRegressor, sc : 0.99, rmse : 4.99\n",
            "[03:16:15] WARNING: /workspace/src/objective/regression_obj.cu:152: reg:linear is now deprecated in favor of reg:squarederror.\n",
            "model : XGBRegressor, sc : 0.99, rmse : 6.36\n",
            "model : LGBMRegressor, sc : 1.0, rmse : 6.81\n",
            "model : CatBoostRegressor, sc : 1.0, rmse : 3.79\n"
          ]
        }
      ]
    },
    {
      "cell_type": "code",
      "source": [
        "lr = LinearRegression()\n",
        "knr = KNeighborsRegressor()\n",
        "rfr = RandomForestRegressor()\n",
        "xgb = XGBRegressor()\n",
        "lgbm = LGBMRegressor()\n",
        "cat = CatBoostRegressor(verbose=0)\n",
        "models = [lr, knr, rfr, xgb, lgbm, cat]\n",
        "for i in models:\n",
        "    model = i.fit(train_x, train_y)\n",
        "    sc = round(model.score(train_x, train_y), 2)\n",
        "    pre = model.predict(val_x)\n",
        "    rmse = round(mean_squared_error(val_y, pre, squared=False), 2)\n",
        "    print(f'model : {i.__class__.__name__}, sc : {sc}, rmse : {rmse}')"
      ],
      "metadata": {
        "colab": {
          "base_uri": "https://localhost:8080/"
        },
        "id": "lBxThTVr93Bp",
        "outputId": "78b1bdcb-bcc5-4452-b690-ac6177a48edb"
      },
      "execution_count": null,
      "outputs": [
        {
          "output_type": "stream",
          "name": "stdout",
          "text": [
            "model : LinearRegression, sc : 0.77, rmse : 12.62\n",
            "model : KNeighborsRegressor, sc : 0.62, rmse : 8.31\n",
            "model : RandomForestRegressor, sc : 0.99, rmse : 4.76\n",
            "[03:18:31] WARNING: /workspace/src/objective/regression_obj.cu:152: reg:linear is now deprecated in favor of reg:squarederror.\n",
            "model : XGBRegressor, sc : 0.99, rmse : 6.64\n",
            "model : LGBMRegressor, sc : 1.0, rmse : 6.91\n",
            "model : CatBoostRegressor, sc : 1.0, rmse : 3.48\n"
          ]
        }
      ]
    },
    {
      "cell_type": "code",
      "source": [
        "train_x = train_all.copy()\n",
        "train_y = train_x.pop('predicted_weight_g')"
      ],
      "metadata": {
        "id": "AprVrinUl7d7"
      },
      "execution_count": null,
      "outputs": []
    },
    {
      "cell_type": "code",
      "source": [
        "cat = CatBoostRegressor(verbose=0)\n",
        "params = {'learning_rate' : [0.2, 0.3, 0.4], 'n_estimators' : [100, 120, 80], 'max_depth' : [5, 7, 6]}\n",
        "gcv = GridSearchCV(cat, params, cv=5, scoring='neg_mean_squared_error')\n",
        "model = gcv.fit(train_x, train_y)"
      ],
      "metadata": {
        "id": "dgxj_lnyCccf"
      },
      "execution_count": null,
      "outputs": []
    },
    {
      "cell_type": "code",
      "source": [
        "print(model.best_score_)\n",
        "print(model.best_params_)"
      ],
      "metadata": {
        "colab": {
          "base_uri": "https://localhost:8080/"
        },
        "id": "g5cZpFUJF1HD",
        "outputId": "ec3a89c9-4319-45bc-9e89-97be26576b5d"
      },
      "execution_count": null,
      "outputs": [
        {
          "output_type": "stream",
          "name": "stdout",
          "text": [
            "-474.8256596580048\n",
            "{'learning_rate': 0.1, 'max_depth': 6, 'n_estimators': 100}\n"
          ]
        }
      ]
    },
    {
      "cell_type": "code",
      "source": [
        "print(model.best_score_)\n",
        "print(model.best_params_)"
      ],
      "metadata": {
        "colab": {
          "base_uri": "https://localhost:8080/"
        },
        "id": "mhsp0s5KGPoy",
        "outputId": "401f9d06-647e-42ee-bf7d-5abcdfdeffa1"
      },
      "execution_count": null,
      "outputs": [
        {
          "output_type": "stream",
          "name": "stdout",
          "text": [
            "-461.49864417642283\n",
            "{'learning_rate': 0.2, 'max_depth': 6, 'n_estimators': 100}\n"
          ]
        }
      ]
    },
    {
      "cell_type": "code",
      "source": [
        "print(model.best_score_)\n",
        "print(model.best_params_)"
      ],
      "metadata": {
        "colab": {
          "base_uri": "https://localhost:8080/"
        },
        "id": "SXUWCGg6Mtc3",
        "outputId": "13fc6bce-5c47-45c3-d526-3a7b908f5272"
      },
      "execution_count": null,
      "outputs": [
        {
          "output_type": "stream",
          "name": "stdout",
          "text": [
            "-461.49864417642283\n",
            "{'learning_rate': 0.2, 'max_depth': 6, 'n_estimators': 100}\n"
          ]
        }
      ]
    },
    {
      "cell_type": "code",
      "source": [
        "cat = CatBoostRegressor(verbose=0)\n",
        "model = cat.fit(train_x, train_y)\n",
        "pre = model.predict(test_x)"
      ],
      "metadata": {
        "id": "TkvtfIQgmCNi"
      },
      "execution_count": null,
      "outputs": []
    },
    {
      "cell_type": "markdown",
      "source": [
        "#  data(CNN)"
      ],
      "metadata": {
        "id": "w13sptdvx5Zm"
      }
    },
    {
      "cell_type": "code",
      "source": [
        "!unzip '/content/drive/MyDrive/Colab Notebooks/데이콘/상추/open (1).zip'\n",
        "train_li = sorted(glob.glob('/content/train_input/*'))\n",
        "test_li = sorted(glob.glob('/content/test_input/*'))\n",
        "for i in train_li + test_li:\n",
        "    df = pd.read_csv(i)\n",
        "    df['내부온도관측치'] = df['내부온도관측치'].clip(4,40)\n",
        "    df['내부습도관측치'] = df['내부습도관측치'].clip(0,100)\n",
        "    df['co2관측치']  = df['co2관측치'].clip(0,1200)\n",
        "    df['ec관측치']  = df['ec관측치'].clip(0,8)\n",
        "    df['시간당분무량']  = df['시간당분무량'].clip(0,3000)\n",
        "    df['일간누적분무량']  = df['일간누적분무량'].clip(0,72000)\n",
        "    df['시간당백색광량']  = df['시간당백색광량'].clip(0,120000)\n",
        "    df['일간누적백색광량']  = df['일간누적백색광량'].clip(0,2880000)\n",
        "    df['시간당적색광량']  = df['시간당적색광량'].clip(0,120000)\n",
        "    df['일간누적적색광량']  = df['일간누적적색광량'].clip(0,2880000)\n",
        "    df['시간당청색광량']  = df['시간당청색광량'].clip(0,120000)\n",
        "    df['일간누적청색광량']  = df['일간누적청색광량'].clip(0,2880000)\n",
        "    df['시간당총광량']  = df['시간당총광량'].clip(0,120000)\n",
        "    df['일간누적총광량']  = df['일간누적총광량'].clip(0,2880000)\n",
        "    df['obs_time'] = df['obs_time'].str[:2].apply(int)\n",
        "    df.to_csv(i, index=False)"
      ],
      "metadata": {
        "id": "BoW2YGoIx2HH",
        "colab": {
          "base_uri": "https://localhost:8080/"
        },
        "outputId": "b3eba6b0-6762-49cf-d9f8-62bb54a74045"
      },
      "execution_count": null,
      "outputs": [
        {
          "output_type": "stream",
          "name": "stdout",
          "text": [
            "Archive:  /content/drive/MyDrive/Colab Notebooks/데이콘/상추/open (1).zip\n",
            "replace sample_submission.zip? [y]es, [n]o, [A]ll, [N]one, [r]ename: A\n",
            "  inflating: sample_submission.zip   \n",
            "  inflating: test_input/TEST_01.csv  \n",
            "  inflating: test_input/TEST_02.csv  \n",
            "  inflating: test_input/TEST_03.csv  \n",
            "  inflating: test_input/TEST_04.csv  \n",
            "  inflating: test_input/TEST_05.csv  \n",
            "  inflating: test_target/TEST_01.csv  \n",
            "  inflating: test_target/TEST_02.csv  \n",
            "  inflating: test_target/TEST_03.csv  \n",
            "  inflating: test_target/TEST_04.csv  \n",
            "  inflating: test_target/TEST_05.csv  \n",
            "  inflating: train_input/CASE_01.csv  \n",
            "  inflating: train_input/CASE_02.csv  \n",
            "  inflating: train_input/CASE_03.csv  \n",
            "  inflating: train_input/CASE_04.csv  \n",
            "  inflating: train_input/CASE_05.csv  \n",
            "  inflating: train_input/CASE_06.csv  \n",
            "  inflating: train_input/CASE_07.csv  \n",
            "  inflating: train_input/CASE_08.csv  \n",
            "  inflating: train_input/CASE_09.csv  \n",
            "  inflating: train_input/CASE_10.csv  \n",
            "  inflating: train_input/CASE_11.csv  \n",
            "  inflating: train_input/CASE_12.csv  \n",
            "  inflating: train_input/CASE_13.csv  \n",
            "  inflating: train_input/CASE_14.csv  \n",
            "  inflating: train_input/CASE_15.csv  \n",
            "  inflating: train_input/CASE_16.csv  \n",
            "  inflating: train_input/CASE_17.csv  \n",
            "  inflating: train_input/CASE_18.csv  \n",
            "  inflating: train_input/CASE_19.csv  \n",
            "  inflating: train_input/CASE_20.csv  \n",
            "  inflating: train_input/CASE_21.csv  \n",
            "  inflating: train_input/CASE_22.csv  \n",
            "  inflating: train_input/CASE_23.csv  \n",
            "  inflating: train_input/CASE_24.csv  \n",
            "  inflating: train_input/CASE_25.csv  \n",
            "  inflating: train_input/CASE_26.csv  \n",
            "  inflating: train_input/CASE_27.csv  \n",
            "  inflating: train_input/CASE_28.csv  \n",
            "  inflating: train_target/CASE_01.csv  \n",
            "  inflating: train_target/CASE_02.csv  \n",
            "  inflating: train_target/CASE_03.csv  \n",
            "  inflating: train_target/CASE_04.csv  \n",
            "  inflating: train_target/CASE_05.csv  \n",
            "  inflating: train_target/CASE_06.csv  \n",
            "  inflating: train_target/CASE_07.csv  \n",
            "  inflating: train_target/CASE_08.csv  \n",
            "  inflating: train_target/CASE_09.csv  \n",
            "  inflating: train_target/CASE_10.csv  \n",
            "  inflating: train_target/CASE_11.csv  \n",
            "  inflating: train_target/CASE_12.csv  \n",
            "  inflating: train_target/CASE_13.csv  \n",
            "  inflating: train_target/CASE_14.csv  \n",
            "  inflating: train_target/CASE_15.csv  \n",
            "  inflating: train_target/CASE_16.csv  \n",
            "  inflating: train_target/CASE_17.csv  \n",
            "  inflating: train_target/CASE_18.csv  \n",
            "  inflating: train_target/CASE_19.csv  \n",
            "  inflating: train_target/CASE_20.csv  \n",
            "  inflating: train_target/CASE_21.csv  \n",
            "  inflating: train_target/CASE_22.csv  \n",
            "  inflating: train_target/CASE_23.csv  \n",
            "  inflating: train_target/CASE_24.csv  \n",
            "  inflating: train_target/CASE_25.csv  \n",
            "  inflating: train_target/CASE_26.csv  \n",
            "  inflating: train_target/CASE_27.csv  \n",
            "  inflating: train_target/CASE_28.csv  \n"
          ]
        }
      ]
    },
    {
      "cell_type": "code",
      "source": [
        "for i, j in enumerate(train_li):\n",
        "    if i == 0:\n",
        "        train_x = pd.read_csv(j)\n",
        "    else:\n",
        "        train_x_some = pd.read_csv(j)\n",
        "        train_x = pd.concat([train_x, train_x_some], axis=0)\n",
        "train_x.reset_index(drop=True, inplace=True)       \n",
        "train_x.info()"
      ],
      "metadata": {
        "colab": {
          "base_uri": "https://localhost:8080/"
        },
        "id": "E-Q8DlIdySFP",
        "outputId": "b099f948-f984-4afa-834c-554fbe20d6ce"
      },
      "execution_count": null,
      "outputs": [
        {
          "output_type": "stream",
          "name": "stdout",
          "text": [
            "<class 'pandas.core.frame.DataFrame'>\n",
            "RangeIndex: 18816 entries, 0 to 18815\n",
            "Data columns (total 16 columns):\n",
            " #   Column    Non-Null Count  Dtype  \n",
            "---  ------    --------------  -----  \n",
            " 0   DAT       18816 non-null  int64  \n",
            " 1   obs_time  18816 non-null  int64  \n",
            " 2   내부온도관측치   18816 non-null  float64\n",
            " 3   내부습도관측치   18816 non-null  float64\n",
            " 4   co2관측치    18816 non-null  float64\n",
            " 5   ec관측치     18816 non-null  float64\n",
            " 6   시간당분무량    18816 non-null  float64\n",
            " 7   일간누적분무량   18816 non-null  float64\n",
            " 8   시간당백색광량   18816 non-null  float64\n",
            " 9   일간누적백색광량  18816 non-null  float64\n",
            " 10  시간당적색광량   18816 non-null  float64\n",
            " 11  일간누적적색광량  18816 non-null  float64\n",
            " 12  시간당청색광량   18816 non-null  float64\n",
            " 13  일간누적청색광량  18816 non-null  float64\n",
            " 14  시간당총광량    18816 non-null  float64\n",
            " 15  일간누적총광량   18816 non-null  float64\n",
            "dtypes: float64(14), int64(2)\n",
            "memory usage: 2.3 MB\n"
          ]
        }
      ]
    },
    {
      "cell_type": "code",
      "source": [
        "train_xx = train_x.copy()\n",
        "_ = train_xx.pop('obs_time')"
      ],
      "metadata": {
        "id": "bB2ODTHx105a"
      },
      "execution_count": null,
      "outputs": []
    },
    {
      "cell_type": "code",
      "source": [
        "train_xx.info()"
      ],
      "metadata": {
        "colab": {
          "base_uri": "https://localhost:8080/"
        },
        "id": "P-EwbQrK2Crr",
        "outputId": "d361de89-aff7-4728-919c-e378981b8735"
      },
      "execution_count": null,
      "outputs": [
        {
          "output_type": "stream",
          "name": "stdout",
          "text": [
            "<class 'pandas.core.frame.DataFrame'>\n",
            "RangeIndex: 18816 entries, 0 to 18815\n",
            "Data columns (total 15 columns):\n",
            " #   Column    Non-Null Count  Dtype  \n",
            "---  ------    --------------  -----  \n",
            " 0   DAT       18816 non-null  int64  \n",
            " 1   내부온도관측치   18816 non-null  float64\n",
            " 2   내부습도관측치   18816 non-null  float64\n",
            " 3   co2관측치    18816 non-null  float64\n",
            " 4   ec관측치     18816 non-null  float64\n",
            " 5   시간당분무량    18816 non-null  float64\n",
            " 6   일간누적분무량   18816 non-null  float64\n",
            " 7   시간당백색광량   18816 non-null  float64\n",
            " 8   일간누적백색광량  18816 non-null  float64\n",
            " 9   시간당적색광량   18816 non-null  float64\n",
            " 10  일간누적적색광량  18816 non-null  float64\n",
            " 11  시간당청색광량   18816 non-null  float64\n",
            " 12  일간누적청색광량  18816 non-null  float64\n",
            " 13  시간당총광량    18816 non-null  float64\n",
            " 14  일간누적총광량   18816 non-null  float64\n",
            "dtypes: float64(14), int64(1)\n",
            "memory usage: 2.2 MB\n"
          ]
        }
      ]
    },
    {
      "cell_type": "code",
      "source": [
        "train_xx.iloc[671]"
      ],
      "metadata": {
        "colab": {
          "base_uri": "https://localhost:8080/"
        },
        "id": "W8xwLhvD40qG",
        "outputId": "a66f040e-b754-4b54-a67e-ce15184ba1ed"
      },
      "execution_count": null,
      "outputs": [
        {
          "output_type": "execute_result",
          "data": {
            "text/plain": [
              "DAT             27.000000\n",
              "내부온도관측치         27.868333\n",
              "내부습도관측치         82.453333\n",
              "co2관측치         588.616667\n",
              "ec관측치            0.000000\n",
              "시간당분무량           0.000000\n",
              "일간누적분무량       3890.540000\n",
              "시간당백색광량          0.000000\n",
              "일간누적백색광량    255263.250000\n",
              "시간당적색광량          0.000000\n",
              "일간누적적색광량     13652.100000\n",
              "시간당청색광량          0.000000\n",
              "일간누적청색광량         0.000000\n",
              "시간당총광량           0.000000\n",
              "일간누적총광량     268915.350000\n",
              "Name: 671, dtype: float64"
            ]
          },
          "metadata": {},
          "execution_count": 8
        }
      ]
    },
    {
      "cell_type": "code",
      "source": [
        "mms = MinMaxScaler()\n",
        "for i in train_xx.columns:\n",
        "    train_xx[i] = mms.fit_transform(train_xx[[i]])"
      ],
      "metadata": {
        "id": "ibXb6sLe2OUw"
      },
      "execution_count": null,
      "outputs": []
    },
    {
      "cell_type": "code",
      "source": [
        "train_image = train_xx.values.reshape(-1,24,15,1)\n",
        "train_image.shape"
      ],
      "metadata": {
        "colab": {
          "base_uri": "https://localhost:8080/"
        },
        "id": "iQ_GM6ch3VwW",
        "outputId": "966e01c3-6198-4a96-d831-8fdf075efa46"
      },
      "execution_count": null,
      "outputs": [
        {
          "output_type": "execute_result",
          "data": {
            "text/plain": [
              "(784, 24, 15, 1)"
            ]
          },
          "metadata": {},
          "execution_count": 10
        }
      ]
    },
    {
      "cell_type": "code",
      "source": [
        "plt.figure(figsize=(15,10))\n",
        "for i in range(28):\n",
        "    plt.subplot(4,7,i+1)\n",
        "    plt.title(i)\n",
        "    plt.imshow(train_image[i][:,:,0], cmap='jet')\n",
        "    plt.axis(False)\n",
        "plt.show()"
      ],
      "metadata": {
        "colab": {
          "base_uri": "https://localhost:8080/",
          "height": 591
        },
        "id": "slVZ05se3tQw",
        "outputId": "fbc541d2-bc5f-45b0-9b14-957605753797"
      },
      "execution_count": null,
      "outputs": [
        {
          "output_type": "display_data",
          "data": {
            "text/plain": [
              "<Figure size 1080x720 with 28 Axes>"
            ],
            "image/png": "[encoded data removed]"
          },
          "metadata": {
            "needs_background": "light"
          }
        }
      ]
    },
    {
      "cell_type": "code",
      "source": [
        "train_ta = sorted(glob.glob('/content/train_target/*'))\n",
        "for i, j in enumerate(train_ta):\n",
        "    if i == 0:\n",
        "        train_y = pd.read_csv(j)\n",
        "    else:\n",
        "        train_y_some = pd.read_csv(j)\n",
        "        train_y = pd.concat([train_y, train_y_some], axis=0)\n",
        "train_y.reset_index(drop=True, inplace=True)"
      ],
      "metadata": {
        "id": "xH9r8Xni0DMr"
      },
      "execution_count": null,
      "outputs": []
    },
    {
      "cell_type": "code",
      "source": [
        "train_y = train_y['predicted_weight_g']\n",
        "train_y.shape"
      ],
      "metadata": {
        "colab": {
          "base_uri": "https://localhost:8080/"
        },
        "id": "7CarfFIk0oGp",
        "outputId": "ea440154-b8e3-419e-d5df-1b57759f836e"
      },
      "execution_count": null,
      "outputs": [
        {
          "output_type": "execute_result",
          "data": {
            "text/plain": [
              "(784,)"
            ]
          },
          "metadata": {},
          "execution_count": 136
        }
      ]
    },
    {
      "cell_type": "markdown",
      "source": [
        "# CNN"
      ],
      "metadata": {
        "id": "pvz7dXX_7kjs"
      }
    },
    {
      "cell_type": "code",
      "source": [
        "def make_model():\n",
        "    inputs = layers.Input(shape=(24,15,1))\n",
        "    x = layers.Conv2D(16,3,padding='same',activation='relu')(inputs)\n",
        "    x = layers.Conv2D(16,3,padding='same',activation='relu')(x)\n",
        "    # x = layers.MaxPool2D()(x)\n",
        "    x = layers.BatchNormalization()(x)\n",
        "    x = layers.Conv2D(32,3,padding='same',activation='relu')(x)\n",
        "    x = layers.Conv2D(32,3,padding='same',activation='relu')(x)\n",
        "    # x = layers.MaxPool2D()(x)\n",
        "    x = layers.BatchNormalization()(x)\n",
        "    x = layers.Conv2D(64,3,padding='same',activation='relu')(x)\n",
        "    x = layers.Conv2D(64,3,padding='same',activation='relu')(x)\n",
        "    # x = layers.MaxPool2D()(x)\n",
        "    x = layers.BatchNormalization()(x)\n",
        "    x = layers.GlobalAveragePooling2D()(x)\n",
        "    x = layers.Dense(256, activation='relu')(x)\n",
        "    x = layers.Dropout(0.2)(x)\n",
        "    outputs = layers.Dense(1)(x)\n",
        "\n",
        "    model = tf.keras.Model(inputs, outputs)\n",
        "    return model"
      ],
      "metadata": {
        "id": "XQgk8ASk7-ur"
      },
      "execution_count": null,
      "outputs": []
    },
    {
      "cell_type": "code",
      "source": [
        "model = make_model()\n",
        "model.summary()"
      ],
      "metadata": {
        "colab": {
          "base_uri": "https://localhost:8080/"
        },
        "id": "LXjwBmaO-JU2",
        "outputId": "18639abf-0e9b-4917-c17f-76bea02a3f78"
      },
      "execution_count": null,
      "outputs": [
        {
          "output_type": "stream",
          "name": "stdout",
          "text": [
            "Model: \"model_3\"\n",
            "_________________________________________________________________\n",
            " Layer (type)                Output Shape              Param #   \n",
            "=================================================================\n",
            " input_4 (InputLayer)        [(None, 24, 15, 1)]       0         \n",
            "                                                                 \n",
            " conv2d_18 (Conv2D)          (None, 24, 15, 16)        160       \n",
            "                                                                 \n",
            " conv2d_19 (Conv2D)          (None, 24, 15, 16)        2320      \n",
            "                                                                 \n",
            " batch_normalization_9 (Batc  (None, 24, 15, 16)       64        \n",
            " hNormalization)                                                 \n",
            "                                                                 \n",
            " conv2d_20 (Conv2D)          (None, 24, 15, 32)        4640      \n",
            "                                                                 \n",
            " conv2d_21 (Conv2D)          (None, 24, 15, 32)        9248      \n",
            "                                                                 \n",
            " batch_normalization_10 (Bat  (None, 24, 15, 32)       128       \n",
            " chNormalization)                                                \n",
            "                                                                 \n",
            " conv2d_22 (Conv2D)          (None, 24, 15, 64)        18496     \n",
            "                                                                 \n",
            " conv2d_23 (Conv2D)          (None, 24, 15, 64)        36928     \n",
            "                                                                 \n",
            " batch_normalization_11 (Bat  (None, 24, 15, 64)       256       \n",
            " chNormalization)                                                \n",
            "                                                                 \n",
            " global_average_pooling2d_3   (None, 64)               0         \n",
            " (GlobalAveragePooling2D)                                        \n",
            "                                                                 \n",
            " dense_6 (Dense)             (None, 256)               16640     \n",
            "                                                                 \n",
            " dropout_3 (Dropout)         (None, 256)               0         \n",
            "                                                                 \n",
            " dense_7 (Dense)             (None, 1)                 257       \n",
            "                                                                 \n",
            "=================================================================\n",
            "Total params: 89,137\n",
            "Trainable params: 88,913\n",
            "Non-trainable params: 224\n",
            "_________________________________________________________________\n"
          ]
        }
      ]
    },
    {
      "cell_type": "code",
      "source": [
        "model.compile(optimizer=tf.keras.optimizers.Adam(), loss=tf.keras.losses.MeanSquaredError())\n",
        "eary_stop = tf.keras.callbacks.EarlyStopping(monitor='val_loss', patience=5)\n",
        "lr_rate = tf.keras.callbacks.ReduceLROnPlateau(monitor='val_loss', patience=2)"
      ],
      "metadata": {
        "id": "xWJ-dhG_-x2F"
      },
      "execution_count": null,
      "outputs": []
    },
    {
      "cell_type": "code",
      "source": [
        "his = model.fit(train_image, train_y, epochs=100, validation_split=0.1, callbacks=[eary_stop, lr_rate])"
      ],
      "metadata": {
        "colab": {
          "base_uri": "https://localhost:8080/"
        },
        "id": "5JvQ8p3R_vHy",
        "outputId": "ba4d6456-36f9-4976-b05b-3e43706ec1b8"
      },
      "execution_count": null,
      "outputs": [
        {
          "output_type": "stream",
          "name": "stdout",
          "text": [
            "Epoch 1/100\n",
            "23/23 [==============================] - 5s 190ms/step - loss: 2861.6233 - val_loss: 1270.2950 - lr: 0.0010\n",
            "Epoch 2/100\n",
            "23/23 [==============================] - 4s 183ms/step - loss: 1724.2657 - val_loss: 1188.7721 - lr: 0.0010\n",
            "Epoch 3/100\n",
            "23/23 [==============================] - 4s 182ms/step - loss: 660.3204 - val_loss: 1122.0752 - lr: 0.0010\n",
            "Epoch 4/100\n",
            "23/23 [==============================] - 4s 182ms/step - loss: 330.5437 - val_loss: 1092.8198 - lr: 0.0010\n",
            "Epoch 5/100\n",
            "23/23 [==============================] - 4s 182ms/step - loss: 259.3437 - val_loss: 1063.2960 - lr: 0.0010\n",
            "Epoch 6/100\n",
            "23/23 [==============================] - 4s 183ms/step - loss: 253.2687 - val_loss: 982.3447 - lr: 0.0010\n",
            "Epoch 7/100\n",
            "23/23 [==============================] - 4s 182ms/step - loss: 344.7022 - val_loss: 1038.4528 - lr: 0.0010\n",
            "Epoch 8/100\n",
            "23/23 [==============================] - 4s 183ms/step - loss: 181.6578 - val_loss: 965.4042 - lr: 0.0010\n",
            "Epoch 9/100\n",
            "23/23 [==============================] - 4s 184ms/step - loss: 229.9845 - val_loss: 903.0782 - lr: 0.0010\n",
            "Epoch 10/100\n",
            "23/23 [==============================] - 4s 185ms/step - loss: 210.6290 - val_loss: 924.6094 - lr: 0.0010\n",
            "Epoch 11/100\n",
            "23/23 [==============================] - 4s 188ms/step - loss: 170.3501 - val_loss: 764.8050 - lr: 0.0010\n",
            "Epoch 12/100\n",
            "23/23 [==============================] - 4s 188ms/step - loss: 229.0339 - val_loss: 782.1450 - lr: 0.0010\n",
            "Epoch 13/100\n",
            "23/23 [==============================] - 4s 189ms/step - loss: 130.1364 - val_loss: 892.7836 - lr: 0.0010\n",
            "Epoch 14/100\n",
            "23/23 [==============================] - 4s 189ms/step - loss: 134.7818 - val_loss: 861.9944 - lr: 1.0000e-04\n",
            "Epoch 15/100\n",
            "23/23 [==============================] - 4s 188ms/step - loss: 108.2553 - val_loss: 805.8910 - lr: 1.0000e-04\n",
            "Epoch 16/100\n",
            "23/23 [==============================] - 4s 191ms/step - loss: 131.7748 - val_loss: 803.3212 - lr: 1.0000e-05\n"
          ]
        }
      ]
    },
    {
      "cell_type": "markdown",
      "source": [
        "# lstm"
      ],
      "metadata": {
        "id": "WyfUZlhJYGnw"
      }
    },
    {
      "cell_type": "code",
      "source": [
        "!unzip '/content/drive/MyDrive/Colab Notebooks/데이콘/상추/open (1).zip'\n",
        "train_li = sorted(glob.glob('/content/train_input/*'))\n",
        "test_li = sorted(glob.glob('/content/test_input/*'))\n",
        "for i in train_li + test_li:\n",
        "    df = pd.read_csv(i)\n",
        "    df['내부온도관측치'] = df['내부온도관측치'].clip(4,40)\n",
        "    df['내부습도관측치'] = df['내부습도관측치'].clip(0,100)\n",
        "    df['co2관측치']  = df['co2관측치'].clip(0,1200)\n",
        "    df['ec관측치']  = df['ec관측치'].clip(0,8)\n",
        "    df['시간당분무량']  = df['시간당분무량'].clip(0,3000)\n",
        "    df['일간누적분무량']  = df['일간누적분무량'].clip(0,72000)\n",
        "    df['시간당백색광량']  = df['시간당백색광량'].clip(0,120000)\n",
        "    df['일간누적백색광량']  = df['일간누적백색광량'].clip(0,2880000)\n",
        "    df['시간당적색광량']  = df['시간당적색광량'].clip(0,120000)\n",
        "    df['일간누적적색광량']  = df['일간누적적색광량'].clip(0,2880000)\n",
        "    df['시간당청색광량']  = df['시간당청색광량'].clip(0,120000)\n",
        "    df['일간누적청색광량']  = df['일간누적청색광량'].clip(0,2880000)\n",
        "    df['시간당총광량']  = df['시간당총광량'].clip(0,120000)\n",
        "    df['일간누적총광량']  = df['일간누적총광량'].clip(0,2880000)\n",
        "    df['obs_time'] = df['obs_time'].str[:2].apply(int)\n",
        "    df.to_csv(i, index=False)\n",
        "\n",
        "train_ta_li = sorted(glob.glob('/content/train_target/*'))\n",
        "test_ta_li = sorted(glob.glob('/content/test_target/*'))"
      ],
      "metadata": {
        "colab": {
          "base_uri": "https://localhost:8080/"
        },
        "id": "Cmzb5ggtwDke",
        "outputId": "2ca766b9-e593-4bd0-d756-35fd949b61d9"
      },
      "execution_count": null,
      "outputs": [
        {
          "output_type": "stream",
          "name": "stdout",
          "text": [
            "Archive:  /content/drive/MyDrive/Colab Notebooks/데이콘/상추/open (1).zip\n",
            "replace sample_submission.zip? [y]es, [n]o, [A]ll, [N]one, [r]ename: A\n",
            "  inflating: sample_submission.zip   \n",
            "  inflating: test_input/TEST_01.csv  \n",
            "  inflating: test_input/TEST_02.csv  \n",
            "  inflating: test_input/TEST_03.csv  \n",
            "  inflating: test_input/TEST_04.csv  \n",
            "  inflating: test_input/TEST_05.csv  \n",
            "  inflating: test_target/TEST_01.csv  \n",
            "  inflating: test_target/TEST_02.csv  \n",
            "  inflating: test_target/TEST_03.csv  \n",
            "  inflating: test_target/TEST_04.csv  \n",
            "  inflating: test_target/TEST_05.csv  \n",
            "  inflating: train_input/CASE_01.csv  \n",
            "  inflating: train_input/CASE_02.csv  \n",
            "  inflating: train_input/CASE_03.csv  \n",
            "  inflating: train_input/CASE_04.csv  \n",
            "  inflating: train_input/CASE_05.csv  \n",
            "  inflating: train_input/CASE_06.csv  \n",
            "  inflating: train_input/CASE_07.csv  \n",
            "  inflating: train_input/CASE_08.csv  \n",
            "  inflating: train_input/CASE_09.csv  \n",
            "  inflating: train_input/CASE_10.csv  \n",
            "  inflating: train_input/CASE_11.csv  \n",
            "  inflating: train_input/CASE_12.csv  \n",
            "  inflating: train_input/CASE_13.csv  \n",
            "  inflating: train_input/CASE_14.csv  \n",
            "  inflating: train_input/CASE_15.csv  \n",
            "  inflating: train_input/CASE_16.csv  \n",
            "  inflating: train_input/CASE_17.csv  \n",
            "  inflating: train_input/CASE_18.csv  \n",
            "  inflating: train_input/CASE_19.csv  \n",
            "  inflating: train_input/CASE_20.csv  \n",
            "  inflating: train_input/CASE_21.csv  \n",
            "  inflating: train_input/CASE_22.csv  \n",
            "  inflating: train_input/CASE_23.csv  \n",
            "  inflating: train_input/CASE_24.csv  \n",
            "  inflating: train_input/CASE_25.csv  \n",
            "  inflating: train_input/CASE_26.csv  \n",
            "  inflating: train_input/CASE_27.csv  \n",
            "  inflating: train_input/CASE_28.csv  \n",
            "  inflating: train_target/CASE_01.csv  \n",
            "  inflating: train_target/CASE_02.csv  \n",
            "  inflating: train_target/CASE_03.csv  \n",
            "  inflating: train_target/CASE_04.csv  \n",
            "  inflating: train_target/CASE_05.csv  \n",
            "  inflating: train_target/CASE_06.csv  \n",
            "  inflating: train_target/CASE_07.csv  \n",
            "  inflating: train_target/CASE_08.csv  \n",
            "  inflating: train_target/CASE_09.csv  \n",
            "  inflating: train_target/CASE_10.csv  \n",
            "  inflating: train_target/CASE_11.csv  \n",
            "  inflating: train_target/CASE_12.csv  \n",
            "  inflating: train_target/CASE_13.csv  \n",
            "  inflating: train_target/CASE_14.csv  \n",
            "  inflating: train_target/CASE_15.csv  \n",
            "  inflating: train_target/CASE_16.csv  \n",
            "  inflating: train_target/CASE_17.csv  \n",
            "  inflating: train_target/CASE_18.csv  \n",
            "  inflating: train_target/CASE_19.csv  \n",
            "  inflating: train_target/CASE_20.csv  \n",
            "  inflating: train_target/CASE_21.csv  \n",
            "  inflating: train_target/CASE_22.csv  \n",
            "  inflating: train_target/CASE_23.csv  \n",
            "  inflating: train_target/CASE_24.csv  \n",
            "  inflating: train_target/CASE_25.csv  \n",
            "  inflating: train_target/CASE_26.csv  \n",
            "  inflating: train_target/CASE_27.csv  \n",
            "  inflating: train_target/CASE_28.csv  \n"
          ]
        }
      ]
    },
    {
      "cell_type": "code",
      "source": [
        "mms = MinMaxScaler()\n",
        "class data_loder(tf.keras.utils.Sequence):\n",
        "    def __init__(self, x_path, y_path=None, batch_size=16, shuffle=False, test=False):\n",
        "        self.x_path = x_path\n",
        "        self.y_path = y_path\n",
        "        self.batch_size = batch_size\n",
        "        self.shuffle = shuffle\n",
        "        self.test = test\n",
        "\n",
        "        self.x_data_all = []\n",
        "        self.y_data_all = []\n",
        "        for x_file, y_file in zip(self.x_path, self.y_path):\n",
        "            x_df = pd.read_csv(x_file)\n",
        "            x_df = x_df.drop('obs_time', axis=1)\n",
        "            for i in x_df.columns:\n",
        "                x_df[i] = mms.fit_transform(x_df[[i]])\n",
        "            x_df = x_df.values\n",
        "            y_df = pd.read_csv(y_file)\n",
        "            for i in y_df['predicted_weight_g'].values:\n",
        "                self.y_data_all.append(i)\n",
        "            for i in range(len(y_df)):\n",
        "                self.x_data_all.append(x_df[i * 24 : (i+1) * 24])\n",
        "        \n",
        "        self.on_epoch_end()\n",
        "\n",
        "    def __len__(self):\n",
        "        return (len(self.y_data_all) // self.batch_size)+1\n",
        "    \n",
        "    def __getitem__(self, idx):\n",
        "        data_no = self.data_no[idx * self.batch_size : (idx+1) * self.batch_size]\n",
        "        x_data = [self.x_data_all[i] for i in data_no]\n",
        "        y_data = [self.y_data_all[i] for i in data_no]\n",
        "        if self.test:\n",
        "            return np.array(x_data)\n",
        "        else:\n",
        "            return np.array(x_data), np.array(y_data)\n",
        "\n",
        "    def on_epoch_end(self):\n",
        "        self.data_no = np.arange(len(self.y_data_all))\n",
        "        if self.shuffle:\n",
        "            np.random.shuffle(self.data_no)"
      ],
      "metadata": {
        "id": "fQr1gFR1HxqR"
      },
      "execution_count": null,
      "outputs": []
    },
    {
      "cell_type": "code",
      "source": [
        "def make_model():\n",
        "    inputs = layers.Input(shape=(24,15))\n",
        "    x = layers.Bidirectional(layers.LSTM(512, return_sequences=True))(inputs)\n",
        "    x = layers.Bidirectional(layers.LSTM(512))(x)\n",
        "    outputs = layers.Dense(1)(x)\n",
        "\n",
        "    model = tf.keras.Model(inputs, outputs)\n",
        "    return model"
      ],
      "metadata": {
        "id": "HqsYkoq6YH_3"
      },
      "execution_count": null,
      "outputs": []
    },
    {
      "cell_type": "code",
      "source": [
        "kfold = KFold(n_splits=10, shuffle=True)\n",
        "pre_all = np.zeros((140,1))\n",
        "for i, (train, val) in enumerate(kfold.split(train_li, train_ta_li)):\n",
        "    print('='*10, f'{i+1}fold', '='*10)\n",
        "    model = make_model()\n",
        "    train_li_fold = []\n",
        "    val_li_fold = []\n",
        "    train_ta_li_fold = []\n",
        "    val_ta_li_fold = []\n",
        "    for train_index in train:\n",
        "        train_li_fold.append(train_li[train_index])\n",
        "        train_ta_li_fold.append(train_ta_li[train_index])\n",
        "    for val_index in val:\n",
        "        val_li_fold.append(train_li[val_index])\n",
        "        val_ta_li_fold.append(train_ta_li[val_index])\n",
        "\n",
        "    train_dr = data_loder(train_li_fold, train_ta_li_fold, batch_size=16, shuffle=True, test=False)\n",
        "    val_dr = data_loder(val_li_fold, val_ta_li_fold, batch_size=16, shuffle=False, test=False)\n",
        "    test_dr = data_loder(test_li, test_ta_li, batch_size=16, shuffle=False, test=True)\n",
        "\n",
        "    model.compile(optimizer=tf.keras.optimizers.Adam(), loss=tf.keras.losses.MeanAbsoluteError())\n",
        "    eary_stop = tf.keras.callbacks.EarlyStopping(monitor='val_loss', patience=5)\n",
        "    lr_rate = tf.keras.callbacks.ReduceLROnPlateau(monitor='val_loss', patience=2, factor=0.5)\n",
        "\n",
        "    his = model.fit(train_dr, epochs=100, validation_data=val_dr, callbacks=[eary_stop, lr_rate], batch_size=16)\n",
        "\n",
        "    plt.plot(his.history['loss'])\n",
        "    plt.plot(his.history['val_loss'])\n",
        "    plt.show()\n",
        "\n",
        "    pre = model.predict(test_dr)\n",
        "    pre_all += pre/10\n"
      ],
      "metadata": {
        "id": "9zphphRQG1SZ",
        "colab": {
          "base_uri": "https://localhost:8080/",
          "height": 1000
        },
        "outputId": "6bdf5fbb-e68b-4686-d785-5fa8ca9add55"
      },
      "execution_count": null,
      "outputs": [
        {
          "output_type": "stream",
          "name": "stdout",
          "text": [
            "========== 1fold ==========\n",
            "Epoch 1/100\n",
            "44/44 [==============================] - 52s 1s/step - loss: 25.0170 - val_loss: 12.6449 - lr: 0.0010\n",
            "Epoch 2/100\n",
            "44/44 [==============================] - 47s 1s/step - loss: 18.5001 - val_loss: 12.1330 - lr: 0.0010\n",
            "Epoch 3/100\n",
            "44/44 [==============================] - 45s 1s/step - loss: 16.8233 - val_loss: 11.6471 - lr: 0.0010\n",
            "Epoch 4/100\n",
            "44/44 [==============================] - 45s 1s/step - loss: 16.1585 - val_loss: 10.0598 - lr: 0.0010\n",
            "Epoch 5/100\n",
            "44/44 [==============================] - 45s 1s/step - loss: 15.1888 - val_loss: 9.4306 - lr: 0.0010\n",
            "Epoch 6/100\n",
            "44/44 [==============================] - 45s 1s/step - loss: 15.4433 - val_loss: 9.7766 - lr: 0.0010\n",
            "Epoch 7/100\n",
            "44/44 [==============================] - 47s 1s/step - loss: 13.8558 - val_loss: 13.4347 - lr: 0.0010\n",
            "Epoch 8/100\n",
            "44/44 [==============================] - 45s 1s/step - loss: 12.5267 - val_loss: 9.3418 - lr: 5.0000e-04\n",
            "Epoch 9/100\n",
            "44/44 [==============================] - 45s 1s/step - loss: 12.2837 - val_loss: 8.3701 - lr: 5.0000e-04\n",
            "Epoch 10/100\n",
            "44/44 [==============================] - 45s 1s/step - loss: 11.5579 - val_loss: 9.4512 - lr: 5.0000e-04\n",
            "Epoch 11/100\n",
            "44/44 [==============================] - 47s 1s/step - loss: 11.1210 - val_loss: 11.6849 - lr: 5.0000e-04\n",
            "Epoch 12/100\n",
            "44/44 [==============================] - 45s 1s/step - loss: 11.7368 - val_loss: 7.6482 - lr: 2.5000e-04\n",
            "Epoch 13/100\n",
            "44/44 [==============================] - 45s 1s/step - loss: 10.6715 - val_loss: 9.0384 - lr: 2.5000e-04\n",
            "Epoch 14/100\n",
            "44/44 [==============================] - 46s 1s/step - loss: 9.7565 - val_loss: 7.9531 - lr: 2.5000e-04\n",
            "Epoch 15/100\n",
            "44/44 [==============================] - 47s 1s/step - loss: 8.6897 - val_loss: 8.1258 - lr: 1.2500e-04\n",
            "Epoch 16/100\n",
            "44/44 [==============================] - 47s 1s/step - loss: 8.4125 - val_loss: 7.8100 - lr: 1.2500e-04\n",
            "Epoch 17/100\n",
            "44/44 [==============================] - 46s 1s/step - loss: 7.7318 - val_loss: 8.1475 - lr: 6.2500e-05\n"
          ]
        },
        {
          "output_type": "display_data",
          "data": {
            "text/plain": [
              "<Figure size 432x288 with 1 Axes>"
            ],
            "image/png": "[encoded data removed]"
          },
          "metadata": {
            "needs_background": "light"
          }
        },
        {
          "output_type": "stream",
          "name": "stdout",
          "text": [
            "9/9 [==============================] - 3s 180ms/step\n",
            "========== 2fold ==========\n",
            "Epoch 1/100\n",
            "44/44 [==============================] - 52s 1s/step - loss: 27.7288 - val_loss: 13.6766 - lr: 0.0010\n",
            "Epoch 2/100\n",
            "44/44 [==============================] - 47s 1s/step - loss: 20.9204 - val_loss: 10.5283 - lr: 0.0010\n",
            "Epoch 3/100\n",
            "44/44 [==============================] - 45s 1s/step - loss: 19.0571 - val_loss: 21.3533 - lr: 0.0010\n",
            "Epoch 4/100\n",
            "44/44 [==============================] - 45s 1s/step - loss: 27.5076 - val_loss: 11.4470 - lr: 0.0010\n",
            "Epoch 5/100\n",
            "44/44 [==============================] - 45s 1s/step - loss: 21.1484 - val_loss: 9.0319 - lr: 5.0000e-04\n",
            "Epoch 6/100\n",
            "44/44 [==============================] - 48s 1s/step - loss: 17.7259 - val_loss: 10.8985 - lr: 5.0000e-04\n",
            "Epoch 7/100\n",
            "44/44 [==============================] - 46s 1s/step - loss: 14.1815 - val_loss: 9.4180 - lr: 5.0000e-04\n",
            "Epoch 8/100\n",
            "44/44 [==============================] - 45s 1s/step - loss: 13.4022 - val_loss: 13.8784 - lr: 2.5000e-04\n",
            "Epoch 9/100\n",
            "44/44 [==============================] - 45s 1s/step - loss: 12.4818 - val_loss: 14.5563 - lr: 2.5000e-04\n",
            "Epoch 10/100\n",
            "44/44 [==============================] - 45s 1s/step - loss: 11.5917 - val_loss: 12.2805 - lr: 1.2500e-04\n"
          ]
        },
        {
          "output_type": "display_data",
          "data": {
            "text/plain": [
              "<Figure size 432x288 with 1 Axes>"
            ],
            "image/png": "[encoded data removed]"
          },
          "metadata": {
            "needs_background": "light"
          }
        },
        {
          "output_type": "stream",
          "name": "stdout",
          "text": [
            "9/9 [==============================] - 3s 151ms/step\n",
            "========== 3fold ==========\n",
            "Epoch 1/100\n",
            "44/44 [==============================] - 57s 1s/step - loss: 23.9054 - val_loss: 18.4642 - lr: 0.0010\n",
            "Epoch 2/100\n",
            "44/44 [==============================] - 46s 1s/step - loss: 20.5813 - val_loss: 22.2285 - lr: 0.0010\n",
            "Epoch 3/100\n",
            "44/44 [==============================] - 46s 1s/step - loss: 26.3424 - val_loss: 20.2875 - lr: 0.0010\n",
            "Epoch 4/100\n",
            "44/44 [==============================] - 46s 1s/step - loss: 25.0049 - val_loss: 18.5015 - lr: 5.0000e-04\n",
            "Epoch 5/100\n",
            "44/44 [==============================] - 46s 1s/step - loss: 27.1440 - val_loss: 19.6686 - lr: 5.0000e-04\n",
            "Epoch 6/100\n",
            "44/44 [==============================] - 49s 1s/step - loss: 23.5445 - val_loss: 16.5332 - lr: 2.5000e-04\n",
            "Epoch 7/100\n",
            "44/44 [==============================] - 47s 1s/step - loss: 22.2920 - val_loss: 15.2806 - lr: 2.5000e-04\n",
            "Epoch 8/100\n",
            "44/44 [==============================] - 46s 1s/step - loss: 21.8899 - val_loss: 15.7880 - lr: 2.5000e-04\n",
            "Epoch 9/100\n",
            "44/44 [==============================] - 47s 1s/step - loss: 19.8372 - val_loss: 13.7764 - lr: 2.5000e-04\n",
            "Epoch 10/100\n",
            "44/44 [==============================] - 48s 1s/step - loss: 18.4757 - val_loss: 12.9257 - lr: 2.5000e-04\n",
            "Epoch 11/100\n",
            "44/44 [==============================] - 46s 1s/step - loss: 17.4158 - val_loss: 12.6334 - lr: 2.5000e-04\n",
            "Epoch 12/100\n",
            "44/44 [==============================] - 46s 1s/step - loss: 16.3602 - val_loss: 12.2869 - lr: 2.5000e-04\n",
            "Epoch 13/100\n",
            "44/44 [==============================] - 46s 1s/step - loss: 15.7783 - val_loss: 11.3908 - lr: 2.5000e-04\n",
            "Epoch 14/100\n",
            "44/44 [==============================] - 46s 1s/step - loss: 15.7630 - val_loss: 11.7542 - lr: 2.5000e-04\n",
            "Epoch 15/100\n",
            "44/44 [==============================] - 48s 1s/step - loss: 14.0138 - val_loss: 13.6448 - lr: 2.5000e-04\n",
            "Epoch 16/100\n",
            "44/44 [==============================] - 46s 1s/step - loss: 13.8948 - val_loss: 11.1577 - lr: 1.2500e-04\n",
            "Epoch 17/100\n",
            "44/44 [==============================] - 47s 1s/step - loss: 13.2396 - val_loss: 11.4031 - lr: 1.2500e-04\n",
            "Epoch 18/100\n",
            "44/44 [==============================] - 47s 1s/step - loss: 13.2267 - val_loss: 12.4447 - lr: 1.2500e-04\n",
            "Epoch 19/100\n",
            "44/44 [==============================] - 46s 1s/step - loss: 12.3069 - val_loss: 10.8992 - lr: 6.2500e-05\n",
            "Epoch 20/100\n",
            "44/44 [==============================] - 47s 1s/step - loss: 12.2885 - val_loss: 11.7550 - lr: 6.2500e-05\n",
            "Epoch 21/100\n",
            "44/44 [==============================] - 46s 1s/step - loss: 12.0656 - val_loss: 11.7447 - lr: 6.2500e-05\n",
            "Epoch 22/100\n",
            "44/44 [==============================] - 46s 1s/step - loss: 12.0747 - val_loss: 12.3887 - lr: 3.1250e-05\n",
            "Epoch 23/100\n",
            "44/44 [==============================] - 46s 1s/step - loss: 11.6910 - val_loss: 12.3446 - lr: 3.1250e-05\n",
            "Epoch 24/100\n",
            "44/44 [==============================] - 48s 1s/step - loss: 11.5703 - val_loss: 11.8310 - lr: 1.5625e-05\n"
          ]
        },
        {
          "output_type": "display_data",
          "data": {
            "text/plain": [
              "<Figure size 432x288 with 1 Axes>"
            ],
            "image/png": "[encoded data removed]"
          },
          "metadata": {
            "needs_background": "light"
          }
        },
        {
          "output_type": "stream",
          "name": "stdout",
          "text": [
            "9/9 [==============================] - 3s 165ms/step\n",
            "========== 4fold ==========\n",
            "Epoch 1/100\n",
            "44/44 [==============================] - 55s 1s/step - loss: 28.6164 - val_loss: 23.4835 - lr: 0.0010\n",
            "Epoch 2/100\n",
            "44/44 [==============================] - 46s 1s/step - loss: 27.9692 - val_loss: 20.1960 - lr: 0.0010\n",
            "Epoch 3/100\n",
            "44/44 [==============================] - 47s 1s/step - loss: 21.5496 - val_loss: 15.8379 - lr: 0.0010\n",
            "Epoch 4/100\n",
            "44/44 [==============================] - 48s 1s/step - loss: 18.3639 - val_loss: 16.3396 - lr: 0.0010\n",
            "Epoch 5/100\n",
            "44/44 [==============================] - 46s 1s/step - loss: 15.8303 - val_loss: 16.4891 - lr: 0.0010\n",
            "Epoch 6/100\n",
            "44/44 [==============================] - 46s 1s/step - loss: 13.2863 - val_loss: 16.7780 - lr: 5.0000e-04\n",
            "Epoch 7/100\n",
            "44/44 [==============================] - 46s 1s/step - loss: 12.6434 - val_loss: 17.7863 - lr: 5.0000e-04\n",
            "Epoch 8/100\n",
            "44/44 [==============================] - 48s 1s/step - loss: 11.9928 - val_loss: 16.5054 - lr: 2.5000e-04\n"
          ]
        },
        {
          "output_type": "display_data",
          "data": {
            "text/plain": [
              "<Figure size 432x288 with 1 Axes>"
            ],
            "image/png": "[encoded data removed]"
          },
          "metadata": {
            "needs_background": "light"
          }
        },
        {
          "output_type": "stream",
          "name": "stdout",
          "text": [
            "9/9 [==============================] - 3s 177ms/step\n",
            "========== 5fold ==========\n",
            "Epoch 1/100\n",
            "44/44 [==============================] - 52s 1s/step - loss: 26.1068 - val_loss: 25.1224 - lr: 0.0010\n",
            "Epoch 2/100\n",
            "44/44 [==============================] - 45s 1s/step - loss: 23.3685 - val_loss: 24.5007 - lr: 0.0010\n",
            "Epoch 3/100\n",
            "44/44 [==============================] - 46s 1s/step - loss: 21.1680 - val_loss: 18.0936 - lr: 0.0010\n",
            "Epoch 4/100\n",
            "44/44 [==============================] - 47s 1s/step - loss: 21.4876 - val_loss: 15.9715 - lr: 0.0010\n",
            "Epoch 5/100\n",
            "44/44 [==============================] - 45s 1s/step - loss: 18.8584 - val_loss: 13.1235 - lr: 0.0010\n",
            "Epoch 6/100\n",
            "44/44 [==============================] - 45s 1s/step - loss: 19.9088 - val_loss: 27.1854 - lr: 0.0010\n",
            "Epoch 7/100\n",
            "44/44 [==============================] - 45s 1s/step - loss: 26.3995 - val_loss: 32.9059 - lr: 0.0010\n",
            "Epoch 8/100\n",
            "44/44 [==============================] - 44s 1s/step - loss: 27.1373 - val_loss: 21.6570 - lr: 5.0000e-04\n",
            "Epoch 9/100\n",
            "44/44 [==============================] - 47s 1s/step - loss: 27.1570 - val_loss: 29.9381 - lr: 5.0000e-04\n",
            "Epoch 10/100\n",
            "44/44 [==============================] - 44s 1s/step - loss: 26.0296 - val_loss: 29.8454 - lr: 2.5000e-04\n"
          ]
        },
        {
          "output_type": "display_data",
          "data": {
            "text/plain": [
              "<Figure size 432x288 with 1 Axes>"
            ],
            "image/png": "[encoded data removed]"
          },
          "metadata": {
            "needs_background": "light"
          }
        },
        {
          "output_type": "stream",
          "name": "stdout",
          "text": [
            "9/9 [==============================] - 3s 144ms/step\n",
            "========== 6fold ==========\n",
            "Epoch 1/100\n",
            "44/44 [==============================] - 53s 1s/step - loss: 29.2755 - val_loss: 18.7123 - lr: 0.0010\n",
            "Epoch 2/100\n",
            "44/44 [==============================] - 45s 1s/step - loss: 27.8619 - val_loss: 12.8585 - lr: 0.0010\n",
            "Epoch 3/100\n",
            "44/44 [==============================] - 47s 1s/step - loss: 26.9081 - val_loss: 16.8006 - lr: 0.0010\n",
            "Epoch 4/100\n",
            "44/44 [==============================] - 45s 1s/step - loss: 28.4670 - val_loss: 16.1560 - lr: 0.0010\n",
            "Epoch 5/100\n",
            "44/44 [==============================] - 45s 1s/step - loss: 27.5881 - val_loss: 16.9254 - lr: 5.0000e-04\n",
            "Epoch 6/100\n",
            "44/44 [==============================] - 45s 1s/step - loss: 27.5254 - val_loss: 17.3446 - lr: 5.0000e-04\n",
            "Epoch 7/100\n",
            "44/44 [==============================] - 47s 1s/step - loss: 27.3102 - val_loss: 17.3919 - lr: 2.5000e-04\n"
          ]
        },
        {
          "output_type": "display_data",
          "data": {
            "text/plain": [
              "<Figure size 432x288 with 1 Axes>"
            ],
            "image/png": "[encoded data removed]"
          },
          "metadata": {
            "needs_background": "light"
          }
        },
        {
          "output_type": "stream",
          "name": "stdout",
          "text": [
            "9/9 [==============================] - 3s 158ms/step\n",
            "========== 7fold ==========\n",
            "Epoch 1/100\n",
            "44/44 [==============================] - 55s 1s/step - loss: 28.2090 - val_loss: 36.0471 - lr: 0.0010\n",
            "Epoch 2/100\n",
            "44/44 [==============================] - 48s 1s/step - loss: 27.4804 - val_loss: 35.3169 - lr: 0.0010\n",
            "Epoch 3/100\n",
            "44/44 [==============================] - 48s 1s/step - loss: 24.7956 - val_loss: 32.0342 - lr: 0.0010\n",
            "Epoch 4/100\n",
            "44/44 [==============================] - 48s 1s/step - loss: 22.5158 - val_loss: 32.4406 - lr: 0.0010\n",
            "Epoch 5/100\n",
            "44/44 [==============================] - 48s 1s/step - loss: 24.1201 - val_loss: 33.5388 - lr: 0.0010\n",
            "Epoch 6/100\n",
            "44/44 [==============================] - 49s 1s/step - loss: 24.2823 - val_loss: 33.8007 - lr: 5.0000e-04\n",
            "Epoch 7/100\n",
            "44/44 [==============================] - 48s 1s/step - loss: 23.9402 - val_loss: 33.9098 - lr: 5.0000e-04\n",
            "Epoch 8/100\n",
            "44/44 [==============================] - 48s 1s/step - loss: 23.4601 - val_loss: 35.6862 - lr: 2.5000e-04\n"
          ]
        },
        {
          "output_type": "display_data",
          "data": {
            "text/plain": [
              "<Figure size 432x288 with 1 Axes>"
            ],
            "image/png": "[encoded data removed]"
          },
          "metadata": {
            "needs_background": "light"
          }
        },
        {
          "output_type": "stream",
          "name": "stdout",
          "text": [
            "9/9 [==============================] - 3s 208ms/step\n",
            "========== 8fold ==========\n",
            "Epoch 1/100\n",
            "44/44 [==============================] - 53s 1s/step - loss: 20.5714 - val_loss: 44.0474 - lr: 0.0010\n",
            "Epoch 2/100\n",
            "44/44 [==============================] - 45s 1s/step - loss: 20.1931 - val_loss: 55.8012 - lr: 0.0010\n",
            "Epoch 3/100\n",
            "44/44 [==============================] - 45s 1s/step - loss: 24.0191 - val_loss: 38.8189 - lr: 0.0010\n",
            "Epoch 4/100\n",
            "44/44 [==============================] - 44s 1s/step - loss: 16.7530 - val_loss: 43.4518 - lr: 0.0010\n",
            "Epoch 5/100\n",
            "44/44 [==============================] - 44s 1s/step - loss: 13.8369 - val_loss: 39.5674 - lr: 0.0010\n",
            "Epoch 6/100\n",
            "44/44 [==============================] - 45s 1s/step - loss: 12.5856 - val_loss: 39.2517 - lr: 5.0000e-04\n",
            "Epoch 7/100\n",
            "44/44 [==============================] - 44s 1s/step - loss: 11.9269 - val_loss: 35.3633 - lr: 5.0000e-04\n",
            "Epoch 8/100\n",
            "44/44 [==============================] - 44s 1s/step - loss: 11.7818 - val_loss: 41.4927 - lr: 5.0000e-04\n",
            "Epoch 9/100\n",
            "44/44 [==============================] - 46s 1s/step - loss: 10.9605 - val_loss: 36.8598 - lr: 5.0000e-04\n",
            "Epoch 10/100\n",
            "44/44 [==============================] - 46s 1s/step - loss: 10.3231 - val_loss: 34.2098 - lr: 2.5000e-04\n",
            "Epoch 11/100\n",
            "44/44 [==============================] - 45s 1s/step - loss: 9.8124 - val_loss: 37.8316 - lr: 2.5000e-04\n",
            "Epoch 12/100\n",
            "44/44 [==============================] - 45s 1s/step - loss: 9.2228 - val_loss: 36.1073 - lr: 2.5000e-04\n",
            "Epoch 13/100\n",
            "44/44 [==============================] - 45s 1s/step - loss: 8.8375 - val_loss: 33.9613 - lr: 1.2500e-04\n",
            "Epoch 14/100\n",
            "44/44 [==============================] - 45s 1s/step - loss: 8.6068 - val_loss: 37.3886 - lr: 1.2500e-04\n",
            "Epoch 15/100\n",
            "44/44 [==============================] - 47s 1s/step - loss: 8.5401 - val_loss: 34.9075 - lr: 1.2500e-04\n",
            "Epoch 16/100\n",
            "44/44 [==============================] - 45s 1s/step - loss: 8.2468 - val_loss: 35.3097 - lr: 6.2500e-05\n",
            "Epoch 17/100\n",
            "44/44 [==============================] - 45s 1s/step - loss: 8.1027 - val_loss: 36.1437 - lr: 6.2500e-05\n",
            "Epoch 18/100\n",
            "44/44 [==============================] - 45s 1s/step - loss: 7.8792 - val_loss: 36.7176 - lr: 3.1250e-05\n"
          ]
        },
        {
          "output_type": "display_data",
          "data": {
            "text/plain": [
              "<Figure size 432x288 with 1 Axes>"
            ],
            "image/png": "[encoded data removed]"
          },
          "metadata": {
            "needs_background": "light"
          }
        },
        {
          "output_type": "stream",
          "name": "stdout",
          "text": [
            "9/9 [==============================] - 3s 149ms/step\n",
            "========== 9fold ==========\n",
            "Epoch 1/100\n",
            "46/46 [==============================] - 57s 1s/step - loss: 25.8361 - val_loss: 11.0052 - lr: 0.0010\n",
            "Epoch 2/100\n",
            "46/46 [==============================] - 47s 1s/step - loss: 22.5172 - val_loss: 9.6717 - lr: 0.0010\n",
            "Epoch 3/100\n",
            "46/46 [==============================] - 47s 1s/step - loss: 25.5880 - val_loss: 13.6374 - lr: 0.0010\n",
            "Epoch 4/100\n",
            "46/46 [==============================] - 46s 1s/step - loss: 24.3763 - val_loss: 14.9857 - lr: 0.0010\n",
            "Epoch 5/100\n",
            "46/46 [==============================] - 46s 1s/step - loss: 17.8281 - val_loss: 12.8494 - lr: 5.0000e-04\n",
            "Epoch 6/100\n",
            "46/46 [==============================] - 49s 1s/step - loss: 19.0528 - val_loss: 8.4554 - lr: 5.0000e-04\n",
            "Epoch 7/100\n",
            "46/46 [==============================] - 46s 1s/step - loss: 17.3267 - val_loss: 5.8651 - lr: 5.0000e-04\n",
            "Epoch 8/100\n",
            "46/46 [==============================] - 46s 1s/step - loss: 15.3158 - val_loss: 12.6374 - lr: 5.0000e-04\n",
            "Epoch 9/100\n",
            "46/46 [==============================] - 46s 1s/step - loss: 14.0130 - val_loss: 5.8751 - lr: 5.0000e-04\n",
            "Epoch 10/100\n",
            "46/46 [==============================] - 48s 1s/step - loss: 12.5770 - val_loss: 7.0369 - lr: 2.5000e-04\n",
            "Epoch 11/100\n",
            "46/46 [==============================] - 46s 1s/step - loss: 12.0633 - val_loss: 7.0068 - lr: 2.5000e-04\n",
            "Epoch 12/100\n",
            "46/46 [==============================] - 46s 1s/step - loss: 10.9527 - val_loss: 6.9060 - lr: 1.2500e-04\n"
          ]
        },
        {
          "output_type": "display_data",
          "data": {
            "text/plain": [
              "<Figure size 432x288 with 1 Axes>"
            ],
            "image/png": "[encoded data removed]"
          },
          "metadata": {
            "needs_background": "light"
          }
        },
        {
          "output_type": "stream",
          "name": "stdout",
          "text": [
            "9/9 [==============================] - 3s 145ms/step\n",
            "========== 10fold ==========\n",
            "Epoch 1/100\n",
            "46/46 [==============================] - 54s 1s/step - loss: 26.4737 - val_loss: 40.2018 - lr: 0.0010\n",
            "Epoch 2/100\n",
            "46/46 [==============================] - 48s 1s/step - loss: 21.0184 - val_loss: 35.3797 - lr: 0.0010\n",
            "Epoch 3/100\n",
            "46/46 [==============================] - 47s 1s/step - loss: 18.9090 - val_loss: 34.5682 - lr: 0.0010\n",
            "Epoch 4/100\n",
            "46/46 [==============================] - 47s 1s/step - loss: 18.1903 - val_loss: 30.2807 - lr: 0.0010\n",
            "Epoch 5/100\n",
            "46/46 [==============================] - 46s 1s/step - loss: 16.6385 - val_loss: 23.0609 - lr: 0.0010\n",
            "Epoch 6/100\n",
            "46/46 [==============================] - 49s 1s/step - loss: 16.5965 - val_loss: 29.2452 - lr: 0.0010\n",
            "Epoch 7/100\n",
            "46/46 [==============================] - 46s 1s/step - loss: 16.4838 - val_loss: 26.0932 - lr: 0.0010\n",
            "Epoch 8/100\n",
            "46/46 [==============================] - 47s 1s/step - loss: 16.0431 - val_loss: 28.3139 - lr: 5.0000e-04\n",
            "Epoch 9/100\n",
            "46/46 [==============================] - 48s 1s/step - loss: 15.2453 - val_loss: 26.4218 - lr: 5.0000e-04\n",
            "Epoch 10/100\n",
            "46/46 [==============================] - 47s 1s/step - loss: 13.7670 - val_loss: 22.5796 - lr: 2.5000e-04\n",
            "Epoch 11/100\n",
            "46/46 [==============================] - 48s 1s/step - loss: 13.1293 - val_loss: 21.4366 - lr: 2.5000e-04\n",
            "Epoch 12/100\n",
            "46/46 [==============================] - 47s 1s/step - loss: 12.9787 - val_loss: 24.3186 - lr: 2.5000e-04\n",
            "Epoch 13/100\n",
            "46/46 [==============================] - 48s 1s/step - loss: 11.9081 - val_loss: 23.9639 - lr: 2.5000e-04\n",
            "Epoch 14/100\n",
            "46/46 [==============================] - 47s 1s/step - loss: 11.6688 - val_loss: 22.8211 - lr: 1.2500e-04\n",
            "Epoch 15/100\n",
            "46/46 [==============================] - 47s 1s/step - loss: 10.9730 - val_loss: 21.6206 - lr: 1.2500e-04\n",
            "Epoch 16/100\n",
            "46/46 [==============================] - 47s 1s/step - loss: 10.5170 - val_loss: 22.4772 - lr: 6.2500e-05\n"
          ]
        },
        {
          "output_type": "display_data",
          "data": {
            "text/plain": [
              "<Figure size 432x288 with 1 Axes>"
            ],
            "image/png": "[encoded data removed]"
          },
          "metadata": {
            "needs_background": "light"
          }
        },
        {
          "output_type": "stream",
          "name": "stdout",
          "text": [
            "9/9 [==============================] - 3s 159ms/step\n"
          ]
        }
      ]
    },
    {
      "cell_type": "code",
      "source": [
        "pre_all"
      ],
      "metadata": {
        "colab": {
          "base_uri": "https://localhost:8080/"
        },
        "id": "e5zcJt_s_rRz",
        "outputId": "967d92c7-def4-4394-fc3c-d10c02b741c4"
      },
      "execution_count": null,
      "outputs": [
        {
          "output_type": "execute_result",
          "data": {
            "text/plain": [
              "array([[ 2.2711563 ],\n",
              "       [ 5.03586781],\n",
              "       [ 5.13825335],\n",
              "       [ 5.31019117],\n",
              "       [ 5.56701899],\n",
              "       [ 6.16477492],\n",
              "       [ 6.51516518],\n",
              "       [ 7.26875867],\n",
              "       [ 8.02832791],\n",
              "       [ 8.65931675],\n",
              "       [ 9.46712762],\n",
              "       [11.28767586],\n",
              "       [15.75433499],\n",
              "       [16.14706433],\n",
              "       [20.85794604],\n",
              "       [22.65719521],\n",
              "       [23.63491815],\n",
              "       [24.5945816 ],\n",
              "       [28.40164065],\n",
              "       [28.42956424],\n",
              "       [41.00350213],\n",
              "       [49.33697295],\n",
              "       [55.24247122],\n",
              "       [53.97044086],\n",
              "       [58.89740753],\n",
              "       [65.39028287],\n",
              "       [69.29595542],\n",
              "       [67.47841048],\n",
              "       [ 1.8442617 ],\n",
              "       [ 2.10965355],\n",
              "       [ 2.15159821],\n",
              "       [ 2.99014849],\n",
              "       [ 4.8747881 ],\n",
              "       [ 5.59553598],\n",
              "       [ 5.60514978],\n",
              "       [ 5.95307821],\n",
              "       [ 6.7470257 ],\n",
              "       [ 7.33215228],\n",
              "       [10.09555125],\n",
              "       [11.34703228],\n",
              "       [12.29090106],\n",
              "       [17.72311175],\n",
              "       [19.74172038],\n",
              "       [25.20012981],\n",
              "       [29.5670554 ],\n",
              "       [29.21664846],\n",
              "       [36.0118072 ],\n",
              "       [39.75297236],\n",
              "       [41.97398591],\n",
              "       [46.69089007],\n",
              "       [56.50222731],\n",
              "       [59.44632125],\n",
              "       [67.65717244],\n",
              "       [61.85891247],\n",
              "       [66.8759861 ],\n",
              "       [63.47480512],\n",
              "       [ 2.18604854],\n",
              "       [ 9.57983196],\n",
              "       [ 9.8322093 ],\n",
              "       [10.02174178],\n",
              "       [10.14796733],\n",
              "       [10.48281577],\n",
              "       [10.6859173 ],\n",
              "       [11.53481327],\n",
              "       [11.7575483 ],\n",
              "       [12.07095832],\n",
              "       [12.43049678],\n",
              "       [13.44873554],\n",
              "       [14.48667148],\n",
              "       [14.93367177],\n",
              "       [17.39953488],\n",
              "       [16.91188526],\n",
              "       [17.23142827],\n",
              "       [18.34696078],\n",
              "       [20.84566855],\n",
              "       [23.06544852],\n",
              "       [26.77604771],\n",
              "       [28.77992535],\n",
              "       [29.81733501],\n",
              "       [31.4131515 ],\n",
              "       [34.40815043],\n",
              "       [39.91763163],\n",
              "       [42.7192328 ],\n",
              "       [49.64431691],\n",
              "       [ 1.71998319],\n",
              "       [ 2.04123705],\n",
              "       [ 2.10792263],\n",
              "       [ 2.26929704],\n",
              "       [ 4.6610209 ],\n",
              "       [ 5.34463955],\n",
              "       [ 5.67745036],\n",
              "       [ 6.53874162],\n",
              "       [ 7.51030192],\n",
              "       [ 8.19775259],\n",
              "       [ 8.9593519 ],\n",
              "       [11.1131109 ],\n",
              "       [13.88793904],\n",
              "       [14.86345822],\n",
              "       [19.26146269],\n",
              "       [21.90235353],\n",
              "       [26.02036524],\n",
              "       [24.67613304],\n",
              "       [28.52357304],\n",
              "       [30.47683263],\n",
              "       [34.76544905],\n",
              "       [54.12718368],\n",
              "       [61.66826963],\n",
              "       [62.12934303],\n",
              "       [67.13331199],\n",
              "       [69.76267767],\n",
              "       [71.71373129],\n",
              "       [71.97985601],\n",
              "       [ 1.92889152],\n",
              "       [ 1.92606638],\n",
              "       [ 4.48676579],\n",
              "       [ 2.15170036],\n",
              "       [ 4.33214031],\n",
              "       [ 4.8607948 ],\n",
              "       [ 5.43529837],\n",
              "       [ 5.79610007],\n",
              "       [ 6.35818407],\n",
              "       [ 6.78414252],\n",
              "       [ 8.34392557],\n",
              "       [ 9.43805307],\n",
              "       [11.81201893],\n",
              "       [18.10573038],\n",
              "       [19.82581389],\n",
              "       [18.47224629],\n",
              "       [20.38448548],\n",
              "       [22.38953817],\n",
              "       [22.70795143],\n",
              "       [26.30375266],\n",
              "       [26.77402759],\n",
              "       [30.44927502],\n",
              "       [38.55862403],\n",
              "       [45.54812741],\n",
              "       [41.77112937],\n",
              "       [48.14880514],\n",
              "       [55.84690118],\n",
              "       [58.20715475]])"
            ]
          },
          "metadata": {},
          "execution_count": 53
        }
      ]
    },
    {
      "cell_type": "markdown",
      "source": [
        "# sub"
      ],
      "metadata": {
        "id": "oIGDFVGXxgmx"
      }
    },
    {
      "cell_type": "code",
      "source": [
        "!unzip '/content/sample_submission.zip'"
      ],
      "metadata": {
        "colab": {
          "base_uri": "https://localhost:8080/"
        },
        "id": "V_330_W7mYHe",
        "outputId": "decf7f02-66f5-447d-cc0d-e72fffb4a5a7"
      },
      "execution_count": null,
      "outputs": [
        {
          "output_type": "stream",
          "name": "stdout",
          "text": [
            "Archive:  /content/sample_submission.zip\n",
            "  inflating: TEST_01.csv             \n",
            "  inflating: TEST_02.csv             \n",
            "  inflating: TEST_03.csv             \n",
            "  inflating: TEST_04.csv             \n",
            "  inflating: TEST_05.csv             \n"
          ]
        }
      ]
    },
    {
      "cell_type": "code",
      "source": [
        "test_01 = pd.read_csv('/content/TEST_01.csv')\n",
        "test_01['predicted_weight_g'] = pre[:28]\n",
        "test_01.to_csv('/content/TEST_01.csv', index=False)\n",
        "test_02 = pd.read_csv('/content/TEST_02.csv')\n",
        "test_02['predicted_weight_g'] = pre[28:56]\n",
        "test_02.to_csv('/content/TEST_02.csv', index=False)\n",
        "test_03 = pd.read_csv('/content/TEST_03.csv')\n",
        "test_03['predicted_weight_g'] = pre[56:84]\n",
        "test_03.to_csv('/content/TEST_03.csv', index=False)\n",
        "test_04 = pd.read_csv('/content/TEST_04.csv')\n",
        "test_04['predicted_weight_g'] = pre[84:112]\n",
        "test_04.to_csv('/content/TEST_04.csv', index=False)\n",
        "test_05 = pd.read_csv('/content/TEST_05.csv')\n",
        "test_05['predicted_weight_g'] = pre[112:]\n",
        "test_05.to_csv('/content/TEST_05.csv', index=False)"
      ],
      "metadata": {
        "id": "QcfPY0qYmnBF"
      },
      "execution_count": null,
      "outputs": []
    },
    {
      "cell_type": "code",
      "source": [
        "test_01 = pd.read_csv('/content/TEST_01.csv')\n",
        "test_01['predicted_weight_g'] = pre_all[:28]\n",
        "test_01.to_csv('/content/TEST_01.csv', index=False)\n",
        "test_02 = pd.read_csv('/content/TEST_02.csv')\n",
        "test_02['predicted_weight_g'] = pre_all[28:56]\n",
        "test_02.to_csv('/content/TEST_02.csv', index=False)\n",
        "test_03 = pd.read_csv('/content/TEST_03.csv')\n",
        "test_03['predicted_weight_g'] = pre_all[56:84]\n",
        "test_03.to_csv('/content/TEST_03.csv', index=False)\n",
        "test_04 = pd.read_csv('/content/TEST_04.csv')\n",
        "test_04['predicted_weight_g'] = pre_all[84:112]\n",
        "test_04.to_csv('/content/TEST_04.csv', index=False)\n",
        "test_05 = pd.read_csv('/content/TEST_05.csv')\n",
        "test_05['predicted_weight_g'] = pre_all[112:]\n",
        "test_05.to_csv('/content/TEST_05.csv', index=False)"
      ],
      "metadata": {
        "id": "RdMwk3WO_gZs"
      },
      "execution_count": null,
      "outputs": []
    }
  ]
}