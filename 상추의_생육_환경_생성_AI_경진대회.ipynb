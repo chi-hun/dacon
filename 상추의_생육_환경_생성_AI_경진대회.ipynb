{
  "nbformat": 4,
  "nbformat_minor": 0,
  "metadata": {
    "colab": {
      "provenance": [],
      "mount_file_id": "1arfLhbJot7JnfD15l3fdcrNcYKnV5Pyz",
      "authorship_tag": "ABX9TyNdoNtL1TvWwVMZ6DsO/9B6",
      "include_colab_link": true
    },
    "kernelspec": {
      "name": "python3",
      "display_name": "Python 3"
    },
    "language_info": {
      "name": "python"
    }
  },
  "cells": [
    {
      "cell_type": "markdown",
      "metadata": {
        "id": "view-in-github",
        "colab_type": "text"
      },
      "source": [
        "<a href=\"https://colab.research.google.com/github/chi-hun/dacon/blob/main/%EC%83%81%EC%B6%94%EC%9D%98_%EC%83%9D%EC%9C%A1_%ED%99%98%EA%B2%BD_%EC%83%9D%EC%84%B1_AI_%EA%B2%BD%EC%A7%84%EB%8C%80%ED%9A%8C.ipynb\" target=\"_parent\"><img src=\"https://colab.research.google.com/assets/colab-badge.svg\" alt=\"Open In Colab\"/></a>"
      ]
    },
    {
      "cell_type": "markdown",
      "source": [
        "상추의 생육 환경 생성 AI 경진대회\n",
        "\n",
        "https://dacon.io/competitions/official/236033/overview/description"
      ],
      "metadata": {
        "id": "nLjwqz84mT1p"
      }
    },
    {
      "cell_type": "code",
      "source": [
        "!pip install catboost"
      ],
      "metadata": {
        "id": "KcvIrf6MMkT7"
      },
      "execution_count": null,
      "outputs": []
    },
    {
      "cell_type": "code",
      "execution_count": 263,
      "metadata": {
        "id": "cTMkSIc9mDze"
      },
      "outputs": [],
      "source": [
        "import pandas as pd\n",
        "import matplotlib.pyplot as plt\n",
        "import seaborn as sns\n",
        "import glob\n",
        "import numpy as np\n",
        "from sklearn.preprocessing import MinMaxScaler\n",
        "from sklearn.linear_model import LinearRegression\n",
        "from sklearn.neighbors import KNeighborsRegressor\n",
        "from sklearn.ensemble import RandomForestRegressor\n",
        "from xgboost import XGBRegressor\n",
        "from lightgbm import LGBMRegressor\n",
        "from catboost import CatBoostRegressor\n",
        "from sklearn.metrics import mean_squared_error\n",
        "import tensorflow as tf\n",
        "from tensorflow.keras import layers"
      ]
    },
    {
      "cell_type": "markdown",
      "source": [
        "# data(cat)"
      ],
      "metadata": {
        "id": "nfyxfzopxlPo"
      }
    },
    {
      "cell_type": "code",
      "source": [
        "!unzip '/content/drive/MyDrive/Colab Notebooks/데이콘/상추/open (1).zip'"
      ],
      "metadata": {
        "id": "yEF4NjCVmh4K"
      },
      "execution_count": null,
      "outputs": []
    },
    {
      "cell_type": "code",
      "source": [
        "train_01 = pd.read_csv('/content/train_input/CASE_01.csv')"
      ],
      "metadata": {
        "id": "uxKvPklPnr8s"
      },
      "execution_count": 250,
      "outputs": []
    },
    {
      "cell_type": "code",
      "source": [
        "train_01.columns"
      ],
      "metadata": {
        "colab": {
          "base_uri": "https://localhost:8080/"
        },
        "id": "MBQuzcqNyYmf",
        "outputId": "ded28f58-8a1b-43d4-de58-875dcfbe2e8c"
      },
      "execution_count": 182,
      "outputs": [
        {
          "output_type": "execute_result",
          "data": {
            "text/plain": [
              "Index(['DAT', 'obs_time', '내부온도관측치', '내부습도관측치', 'co2관측치', 'ec관측치', '시간당분무량',\n",
              "       '일간누적분무량', '시간당백색광량', '일간누적백색광량', '시간당적색광량', '일간누적적색광량', '시간당청색광량',\n",
              "       '일간누적청색광량', '시간당총광량', '일간누적총광량'],\n",
              "      dtype='object')"
            ]
          },
          "metadata": {},
          "execution_count": 182
        }
      ]
    },
    {
      "cell_type": "code",
      "source": [
        "train_li = sorted(glob.glob('/content/train_input/*'))\n",
        "test_li = sorted(glob.glob('/content/test_input/*'))"
      ],
      "metadata": {
        "id": "pXrNJs0X0yhe"
      },
      "execution_count": 180,
      "outputs": []
    },
    {
      "cell_type": "markdown",
      "source": [
        "시간당 내부 평균온도: 4도~40도\n",
        "\n",
        "시간당 내부 평균습도: 0% ~ 100%\n",
        "\n",
        "시간당 내부 평균 co2 농도 : 0ppm ~ 1200 ppm\n",
        "\n",
        "시간당 평균 EC : 0 ~ 8\n",
        "\n",
        "시간당 분무량 : 0 ~ 3000 / 일간 누적 분무량 0 ~ 72,000\n",
        "\n",
        "시간당 백색광량 : 0 ~ 120,000 / 일간 누적 백색광량 0 ~ 2,880,000\n",
        "\n",
        "시간당 적색광량 : 0 ~ 120,000 / 일간 누적 적색광량 0 ~ 2,880,000 \n",
        "\n",
        "시간당 청색광량 : 0 ~ 120,000 / 일간 누적 청색광량 0 ~ 2,880,000\n",
        "\n",
        "시간당 총광량 : 0 ~ 120,000 / 일간 누적 총광량 0 ~ 2,880,000"
      ],
      "metadata": {
        "id": "TWYgf9ZeQOBL"
      }
    },
    {
      "cell_type": "code",
      "source": [
        "for i in train_li + test_li:\n",
        "    df = pd.read_csv(i)\n",
        "    df['내부온도관측치'] = df['내부온도관측치'].clip(4,40)\n",
        "    df['내부습도관측치'] = df['내부습도관측치'].clip(0,100)\n",
        "    df['co2관측치']  = df['co2관측치'].clip(0,1200)\n",
        "    df['ec관측치']  = df['ec관측치'].clip(0,8)\n",
        "    df['시간당분무량']  = df['시간당분무량'].clip(0,3000)\n",
        "    df['일간누적분무량']  = df['일간누적분무량'].clip(0,72000)\n",
        "    df['시간당백색광량']  = df['시간당백색광량'].clip(0,120000)\n",
        "    df['일간누적백색광량']  = df['일간누적백색광량'].clip(0,2880000)\n",
        "    df['시간당적색광량']  = df['시간당적색광량'].clip(0,120000)\n",
        "    df['일간누적적색광량']  = df['일간누적적색광량'].clip(0,2880000)\n",
        "    df['시간당청색광량']  = df['시간당청색광량'].clip(0,120000)\n",
        "    df['일간누적청색광량']  = df['일간누적청색광량'].clip(0,2880000)\n",
        "    df['시간당총광량']  = df['시간당총광량'].clip(0,120000)\n",
        "    df['일간누적총광량']  = df['일간누적총광량'].clip(0,2880000)\n",
        "    df.to_csv(i, index=False)"
      ],
      "metadata": {
        "id": "sb1xGIXNXH55"
      },
      "execution_count": 183,
      "outputs": []
    },
    {
      "cell_type": "code",
      "source": [
        "li_mean = ['내부온도관측치', '내부습도관측치', 'co2관측치', 'ec관측치', '시간당분무량', '시간당백색광량', '시간당적색광량', '시간당청색광량', '시간당총광량']\n",
        "li_max = ['일간누적분무량', '일간누적백색광량', '일간누적적색광량', '일간누적청색광량', '일간누적총광량']\n",
        "# li_sum = ['내부온도관측치', '내부습도관측치', 'co2관측치', 'ec관측치']"
      ],
      "metadata": {
        "id": "AYZb38a44F45"
      },
      "execution_count": 187,
      "outputs": []
    },
    {
      "cell_type": "code",
      "source": [
        "def make_data(file):\n",
        "    df = pd.read_csv(file)\n",
        "    date = list(set(df['DAT'].values))\n",
        "    case = {}\n",
        "\n",
        "    for i in li_mean:\n",
        "        va = []\n",
        "        for j in date:\n",
        "            tt = df[df['DAT'] == j]\n",
        "            va.append(tt[i].mean())\n",
        "        case[i] = va\n",
        "\n",
        "    for i in li_max:\n",
        "        va = []\n",
        "        for j in date:\n",
        "            tt = df[df['DAT'] == j]\n",
        "            va.append(tt[i].max())\n",
        "        case[i] = va\n",
        "\n",
        "    # for i in li_sum:\n",
        "    #     va = []\n",
        "    #     for j in date:\n",
        "    #         tt = df[df['DAT'] == j]\n",
        "    #         va.append(tt[i].sum())\n",
        "    #     case[i+' sum'] = va\n",
        "\n",
        "    mdf = pd.DataFrame(case)\n",
        "    return mdf\n",
        "\n",
        "for i, j in enumerate(train_li):\n",
        "    if i == 0:\n",
        "        train_x = make_data(j)\n",
        "    else:\n",
        "        train_some = make_data(j)\n",
        "        train_x = pd.concat([train_x, train_some], axis=0)\n",
        "train_x.reset_index(drop=True, inplace=True)\n",
        "\n",
        "for i, j in enumerate(test_li):\n",
        "    if i == 0:\n",
        "        test_x = make_data(j)\n",
        "    else:\n",
        "        test_some = make_data(j)\n",
        "        test_x = pd.concat([test_x, test_some], axis=0)\n",
        "test_x.reset_index(drop=True, inplace=True)\n",
        "test_x"
      ],
      "metadata": {
        "colab": {
          "base_uri": "https://localhost:8080/",
          "height": 522
        },
        "id": "pYcRRyZ83jyr",
        "outputId": "3c07ca90-e98f-4219-e762-72db6aa44393"
      },
      "execution_count": 189,
      "outputs": [
        {
          "output_type": "execute_result",
          "data": {
            "text/plain": [
              "       내부온도관측치    내부습도관측치      co2관측치     ec관측치      시간당분무량      시간당백색광량  \\\n",
              "0    27.489730  61.372104  465.722917  1.037389  510.255417  8728.198258   \n",
              "1    28.668803  63.148023  463.661311  1.034501  383.964167  8729.874229   \n",
              "2    28.407405  61.045223  488.883086  1.033113  496.323750  8734.386458   \n",
              "3    28.163750  64.356319  494.394444  1.033793  512.398750  8732.839408   \n",
              "4    27.302220  66.829097  528.349306  1.038796  369.764583  8734.515379   \n",
              "..         ...        ...         ...       ...         ...          ...   \n",
              "135  25.884889  56.707123  460.703472  0.244860  133.285000  6111.878867   \n",
              "136  25.439344  56.979188  438.658477  0.912453  135.428333  6093.056425   \n",
              "137  25.041662  57.322359  443.938089  0.915924  113.892500  6110.331817   \n",
              "138  25.617847  57.048055  447.692361  0.918316  124.392500  6107.495558   \n",
              "139  24.951748  57.634453  411.990666  0.926399  116.731250  6113.039154   \n",
              "\n",
              "       시간당적색광량     시간당청색광량       시간당총광량   일간누적분무량     일간누적백색광량    일간누적적색광량  \\\n",
              "0      0.00000    0.000000  8728.198258  12246.13  209476.7582      0.0000   \n",
              "1      0.00000    0.000000  8729.874229   9215.14  209516.9815      0.0000   \n",
              "2      0.00000    0.000000  8734.386458  11911.77  209625.2750      0.0000   \n",
              "3      0.00000    0.000000  8732.839408  12297.57  209588.1458      0.0000   \n",
              "4      0.00000    0.000000  8734.515379   8874.35  209628.3691      0.0000   \n",
              "..         ...         ...          ...       ...          ...         ...   \n",
              "135  927.92910  436.270250  7476.078217   3198.84  146685.0928  22270.2984   \n",
              "136  924.68845  434.834292  7452.579167   3250.28  146233.3542  22192.5228   \n",
              "137  927.03275  435.878625  7473.243192   2733.42  146647.9636  22248.7860   \n",
              "138  927.23960  435.748083  7470.483242   2985.42  146579.8934  22253.7504   \n",
              "139  926.75695  435.748083  7475.544187   2801.55  146712.9397  22242.1668   \n",
              "\n",
              "      일간누적청색광량      일간누적총광량  내부온도관측치 sum  내부습도관측치 sum    co2관측치 sum  ec관측치 sum  \n",
              "0        0.000  209476.7582   659.753530  1472.930508  11177.350000  24.897336  \n",
              "1        0.000  209516.9815   688.051268  1515.552541  11127.871469  24.828015  \n",
              "2        0.000  209625.2750   681.777709  1465.085341  11733.194068  24.794710  \n",
              "3        0.000  209588.1458   675.930000  1544.551663  11865.466667  24.811042  \n",
              "4        0.000  209628.3691   655.253275  1603.898332  12680.383333  24.931104  \n",
              "..         ...          ...          ...          ...           ...        ...  \n",
              "135  10470.486  179425.8772   621.237343  1360.970960  11056.883333   5.876635  \n",
              "136  10436.023  178861.9000   610.544249  1367.500518  10527.803448  21.898880  \n",
              "137  10461.087  179357.8366   600.999883  1375.736610  10654.514124  21.982178  \n",
              "138  10457.954  179291.5978   614.828333  1369.153332  10744.616667  22.039573  \n",
              "139  10457.954  179413.0605   598.841946  1383.226865   9887.775989  22.233583  \n",
              "\n",
              "[140 rows x 18 columns]"
            ],
            "text/html": [
              "\n",
              "  <div id=\"df-e5735b8a-b4d3-4c93-97fe-6c5ae8005211\">\n",
              "    <div class=\"colab-df-container\">\n",
              "      <div>\n",
              "<style scoped>\n",
              "    .dataframe tbody tr th:only-of-type {\n",
              "        vertical-align: middle;\n",
              "    }\n",
              "\n",
              "    .dataframe tbody tr th {\n",
              "        vertical-align: top;\n",
              "    }\n",
              "\n",
              "    .dataframe thead th {\n",
              "        text-align: right;\n",
              "    }\n",
              "</style>\n",
              "<table border=\"1\" class=\"dataframe\">\n",
              "  <thead>\n",
              "    <tr style=\"text-align: right;\">\n",
              "      <th></th>\n",
              "      <th>내부온도관측치</th>\n",
              "      <th>내부습도관측치</th>\n",
              "      <th>co2관측치</th>\n",
              "      <th>ec관측치</th>\n",
              "      <th>시간당분무량</th>\n",
              "      <th>시간당백색광량</th>\n",
              "      <th>시간당적색광량</th>\n",
              "      <th>시간당청색광량</th>\n",
              "      <th>시간당총광량</th>\n",
              "      <th>일간누적분무량</th>\n",
              "      <th>일간누적백색광량</th>\n",
              "      <th>일간누적적색광량</th>\n",
              "      <th>일간누적청색광량</th>\n",
              "      <th>일간누적총광량</th>\n",
              "      <th>내부온도관측치 sum</th>\n",
              "      <th>내부습도관측치 sum</th>\n",
              "      <th>co2관측치 sum</th>\n",
              "      <th>ec관측치 sum</th>\n",
              "    </tr>\n",
              "  </thead>\n",
              "  <tbody>\n",
              "    <tr>\n",
              "      <th>0</th>\n",
              "      <td>27.489730</td>\n",
              "      <td>61.372104</td>\n",
              "      <td>465.722917</td>\n",
              "      <td>1.037389</td>\n",
              "      <td>510.255417</td>\n",
              "      <td>8728.198258</td>\n",
              "      <td>0.00000</td>\n",
              "      <td>0.000000</td>\n",
              "      <td>8728.198258</td>\n",
              "      <td>12246.13</td>\n",
              "      <td>209476.7582</td>\n",
              "      <td>0.0000</td>\n",
              "      <td>0.000</td>\n",
              "      <td>209476.7582</td>\n",
              "      <td>659.753530</td>\n",
              "      <td>1472.930508</td>\n",
              "      <td>11177.350000</td>\n",
              "      <td>24.897336</td>\n",
              "    </tr>\n",
              "    <tr>\n",
              "      <th>1</th>\n",
              "      <td>28.668803</td>\n",
              "      <td>63.148023</td>\n",
              "      <td>463.661311</td>\n",
              "      <td>1.034501</td>\n",
              "      <td>383.964167</td>\n",
              "      <td>8729.874229</td>\n",
              "      <td>0.00000</td>\n",
              "      <td>0.000000</td>\n",
              "      <td>8729.874229</td>\n",
              "      <td>9215.14</td>\n",
              "      <td>209516.9815</td>\n",
              "      <td>0.0000</td>\n",
              "      <td>0.000</td>\n",
              "      <td>209516.9815</td>\n",
              "      <td>688.051268</td>\n",
              "      <td>1515.552541</td>\n",
              "      <td>11127.871469</td>\n",
              "      <td>24.828015</td>\n",
              "    </tr>\n",
              "    <tr>\n",
              "      <th>2</th>\n",
              "      <td>28.407405</td>\n",
              "      <td>61.045223</td>\n",
              "      <td>488.883086</td>\n",
              "      <td>1.033113</td>\n",
              "      <td>496.323750</td>\n",
              "      <td>8734.386458</td>\n",
              "      <td>0.00000</td>\n",
              "      <td>0.000000</td>\n",
              "      <td>8734.386458</td>\n",
              "      <td>11911.77</td>\n",
              "      <td>209625.2750</td>\n",
              "      <td>0.0000</td>\n",
              "      <td>0.000</td>\n",
              "      <td>209625.2750</td>\n",
              "      <td>681.777709</td>\n",
              "      <td>1465.085341</td>\n",
              "      <td>11733.194068</td>\n",
              "      <td>24.794710</td>\n",
              "    </tr>\n",
              "    <tr>\n",
              "      <th>3</th>\n",
              "      <td>28.163750</td>\n",
              "      <td>64.356319</td>\n",
              "      <td>494.394444</td>\n",
              "      <td>1.033793</td>\n",
              "      <td>512.398750</td>\n",
              "      <td>8732.839408</td>\n",
              "      <td>0.00000</td>\n",
              "      <td>0.000000</td>\n",
              "      <td>8732.839408</td>\n",
              "      <td>12297.57</td>\n",
              "      <td>209588.1458</td>\n",
              "      <td>0.0000</td>\n",
              "      <td>0.000</td>\n",
              "      <td>209588.1458</td>\n",
              "      <td>675.930000</td>\n",
              "      <td>1544.551663</td>\n",
              "      <td>11865.466667</td>\n",
              "      <td>24.811042</td>\n",
              "    </tr>\n",
              "    <tr>\n",
              "      <th>4</th>\n",
              "      <td>27.302220</td>\n",
              "      <td>66.829097</td>\n",
              "      <td>528.349306</td>\n",
              "      <td>1.038796</td>\n",
              "      <td>369.764583</td>\n",
              "      <td>8734.515379</td>\n",
              "      <td>0.00000</td>\n",
              "      <td>0.000000</td>\n",
              "      <td>8734.515379</td>\n",
              "      <td>8874.35</td>\n",
              "      <td>209628.3691</td>\n",
              "      <td>0.0000</td>\n",
              "      <td>0.000</td>\n",
              "      <td>209628.3691</td>\n",
              "      <td>655.253275</td>\n",
              "      <td>1603.898332</td>\n",
              "      <td>12680.383333</td>\n",
              "      <td>24.931104</td>\n",
              "    </tr>\n",
              "    <tr>\n",
              "      <th>...</th>\n",
              "      <td>...</td>\n",
              "      <td>...</td>\n",
              "      <td>...</td>\n",
              "      <td>...</td>\n",
              "      <td>...</td>\n",
              "      <td>...</td>\n",
              "      <td>...</td>\n",
              "      <td>...</td>\n",
              "      <td>...</td>\n",
              "      <td>...</td>\n",
              "      <td>...</td>\n",
              "      <td>...</td>\n",
              "      <td>...</td>\n",
              "      <td>...</td>\n",
              "      <td>...</td>\n",
              "      <td>...</td>\n",
              "      <td>...</td>\n",
              "      <td>...</td>\n",
              "    </tr>\n",
              "    <tr>\n",
              "      <th>135</th>\n",
              "      <td>25.884889</td>\n",
              "      <td>56.707123</td>\n",
              "      <td>460.703472</td>\n",
              "      <td>0.244860</td>\n",
              "      <td>133.285000</td>\n",
              "      <td>6111.878867</td>\n",
              "      <td>927.92910</td>\n",
              "      <td>436.270250</td>\n",
              "      <td>7476.078217</td>\n",
              "      <td>3198.84</td>\n",
              "      <td>146685.0928</td>\n",
              "      <td>22270.2984</td>\n",
              "      <td>10470.486</td>\n",
              "      <td>179425.8772</td>\n",
              "      <td>621.237343</td>\n",
              "      <td>1360.970960</td>\n",
              "      <td>11056.883333</td>\n",
              "      <td>5.876635</td>\n",
              "    </tr>\n",
              "    <tr>\n",
              "      <th>136</th>\n",
              "      <td>25.439344</td>\n",
              "      <td>56.979188</td>\n",
              "      <td>438.658477</td>\n",
              "      <td>0.912453</td>\n",
              "      <td>135.428333</td>\n",
              "      <td>6093.056425</td>\n",
              "      <td>924.68845</td>\n",
              "      <td>434.834292</td>\n",
              "      <td>7452.579167</td>\n",
              "      <td>3250.28</td>\n",
              "      <td>146233.3542</td>\n",
              "      <td>22192.5228</td>\n",
              "      <td>10436.023</td>\n",
              "      <td>178861.9000</td>\n",
              "      <td>610.544249</td>\n",
              "      <td>1367.500518</td>\n",
              "      <td>10527.803448</td>\n",
              "      <td>21.898880</td>\n",
              "    </tr>\n",
              "    <tr>\n",
              "      <th>137</th>\n",
              "      <td>25.041662</td>\n",
              "      <td>57.322359</td>\n",
              "      <td>443.938089</td>\n",
              "      <td>0.915924</td>\n",
              "      <td>113.892500</td>\n",
              "      <td>6110.331817</td>\n",
              "      <td>927.03275</td>\n",
              "      <td>435.878625</td>\n",
              "      <td>7473.243192</td>\n",
              "      <td>2733.42</td>\n",
              "      <td>146647.9636</td>\n",
              "      <td>22248.7860</td>\n",
              "      <td>10461.087</td>\n",
              "      <td>179357.8366</td>\n",
              "      <td>600.999883</td>\n",
              "      <td>1375.736610</td>\n",
              "      <td>10654.514124</td>\n",
              "      <td>21.982178</td>\n",
              "    </tr>\n",
              "    <tr>\n",
              "      <th>138</th>\n",
              "      <td>25.617847</td>\n",
              "      <td>57.048055</td>\n",
              "      <td>447.692361</td>\n",
              "      <td>0.918316</td>\n",
              "      <td>124.392500</td>\n",
              "      <td>6107.495558</td>\n",
              "      <td>927.23960</td>\n",
              "      <td>435.748083</td>\n",
              "      <td>7470.483242</td>\n",
              "      <td>2985.42</td>\n",
              "      <td>146579.8934</td>\n",
              "      <td>22253.7504</td>\n",
              "      <td>10457.954</td>\n",
              "      <td>179291.5978</td>\n",
              "      <td>614.828333</td>\n",
              "      <td>1369.153332</td>\n",
              "      <td>10744.616667</td>\n",
              "      <td>22.039573</td>\n",
              "    </tr>\n",
              "    <tr>\n",
              "      <th>139</th>\n",
              "      <td>24.951748</td>\n",
              "      <td>57.634453</td>\n",
              "      <td>411.990666</td>\n",
              "      <td>0.926399</td>\n",
              "      <td>116.731250</td>\n",
              "      <td>6113.039154</td>\n",
              "      <td>926.75695</td>\n",
              "      <td>435.748083</td>\n",
              "      <td>7475.544187</td>\n",
              "      <td>2801.55</td>\n",
              "      <td>146712.9397</td>\n",
              "      <td>22242.1668</td>\n",
              "      <td>10457.954</td>\n",
              "      <td>179413.0605</td>\n",
              "      <td>598.841946</td>\n",
              "      <td>1383.226865</td>\n",
              "      <td>9887.775989</td>\n",
              "      <td>22.233583</td>\n",
              "    </tr>\n",
              "  </tbody>\n",
              "</table>\n",
              "<p>140 rows × 18 columns</p>\n",
              "</div>\n",
              "      <button class=\"colab-df-convert\" onclick=\"convertToInteractive('df-e5735b8a-b4d3-4c93-97fe-6c5ae8005211')\"\n",
              "              title=\"Convert this dataframe to an interactive table.\"\n",
              "              style=\"display:none;\">\n",
              "        \n",
              "  <svg xmlns=\"http://www.w3.org/2000/svg\" height=\"24px\"viewBox=\"0 0 24 24\"\n",
              "       width=\"24px\">\n",
              "    <path d=\"M0 0h24v24H0V0z\" fill=\"none\"/>\n",
              "    <path d=\"M18.56 5.44l.94 2.06.94-2.06 2.06-.94-2.06-.94-.94-2.06-.94 2.06-2.06.94zm-11 1L8.5 8.5l.94-2.06 2.06-.94-2.06-.94L8.5 2.5l-.94 2.06-2.06.94zm10 10l.94 2.06.94-2.06 2.06-.94-2.06-.94-.94-2.06-.94 2.06-2.06.94z\"/><path d=\"M17.41 7.96l-1.37-1.37c-.4-.4-.92-.59-1.43-.59-.52 0-1.04.2-1.43.59L10.3 9.45l-7.72 7.72c-.78.78-.78 2.05 0 2.83L4 21.41c.39.39.9.59 1.41.59.51 0 1.02-.2 1.41-.59l7.78-7.78 2.81-2.81c.8-.78.8-2.07 0-2.86zM5.41 20L4 18.59l7.72-7.72 1.47 1.35L5.41 20z\"/>\n",
              "  </svg>\n",
              "      </button>\n",
              "      \n",
              "  <style>\n",
              "    .colab-df-container {\n",
              "      display:flex;\n",
              "      flex-wrap:wrap;\n",
              "      gap: 12px;\n",
              "    }\n",
              "\n",
              "    .colab-df-convert {\n",
              "      background-color: #E8F0FE;\n",
              "      border: none;\n",
              "      border-radius: 50%;\n",
              "      cursor: pointer;\n",
              "      display: none;\n",
              "      fill: #1967D2;\n",
              "      height: 32px;\n",
              "      padding: 0 0 0 0;\n",
              "      width: 32px;\n",
              "    }\n",
              "\n",
              "    .colab-df-convert:hover {\n",
              "      background-color: #E2EBFA;\n",
              "      box-shadow: 0px 1px 2px rgba(60, 64, 67, 0.3), 0px 1px 3px 1px rgba(60, 64, 67, 0.15);\n",
              "      fill: #174EA6;\n",
              "    }\n",
              "\n",
              "    [theme=dark] .colab-df-convert {\n",
              "      background-color: #3B4455;\n",
              "      fill: #D2E3FC;\n",
              "    }\n",
              "\n",
              "    [theme=dark] .colab-df-convert:hover {\n",
              "      background-color: #434B5C;\n",
              "      box-shadow: 0px 1px 3px 1px rgba(0, 0, 0, 0.15);\n",
              "      filter: drop-shadow(0px 1px 2px rgba(0, 0, 0, 0.3));\n",
              "      fill: #FFFFFF;\n",
              "    }\n",
              "  </style>\n",
              "\n",
              "      <script>\n",
              "        const buttonEl =\n",
              "          document.querySelector('#df-e5735b8a-b4d3-4c93-97fe-6c5ae8005211 button.colab-df-convert');\n",
              "        buttonEl.style.display =\n",
              "          google.colab.kernel.accessAllowed ? 'block' : 'none';\n",
              "\n",
              "        async function convertToInteractive(key) {\n",
              "          const element = document.querySelector('#df-e5735b8a-b4d3-4c93-97fe-6c5ae8005211');\n",
              "          const dataTable =\n",
              "            await google.colab.kernel.invokeFunction('convertToInteractive',\n",
              "                                                     [key], {});\n",
              "          if (!dataTable) return;\n",
              "\n",
              "          const docLinkHtml = 'Like what you see? Visit the ' +\n",
              "            '<a target=\"_blank\" href=https://colab.research.google.com/notebooks/data_table.ipynb>data table notebook</a>'\n",
              "            + ' to learn more about interactive tables.';\n",
              "          element.innerHTML = '';\n",
              "          dataTable['output_type'] = 'display_data';\n",
              "          await google.colab.output.renderOutput(dataTable, element);\n",
              "          const docLink = document.createElement('div');\n",
              "          docLink.innerHTML = docLinkHtml;\n",
              "          element.appendChild(docLink);\n",
              "        }\n",
              "      </script>\n",
              "    </div>\n",
              "  </div>\n",
              "  "
            ]
          },
          "metadata": {},
          "execution_count": 189
        }
      ]
    },
    {
      "cell_type": "code",
      "source": [
        "train_ta = sorted(glob.glob('/content/train_target/*'))\n",
        "for i, j in enumerate(train_ta):\n",
        "    if i == 0:\n",
        "        train_y = pd.read_csv(j)\n",
        "    else:\n",
        "        train_y_some = pd.read_csv(j)\n",
        "        train_y = pd.concat([train_y, train_y_some], axis=0)\n",
        "train_y.reset_index(drop=True, inplace=True)"
      ],
      "metadata": {
        "id": "Mt1r528ACrZ5"
      },
      "execution_count": 190,
      "outputs": []
    },
    {
      "cell_type": "code",
      "source": [
        "test_ta = sorted(glob.glob('/content/test_target/*'))\n",
        "for i, j in enumerate(test_ta):\n",
        "    if i == 0:\n",
        "        test_y = pd.read_csv(j)\n",
        "    else:\n",
        "        test_y_some = pd.read_csv(j)\n",
        "        test_y = pd.concat([test_y, test_y_some], axis=0)\n",
        "test_y.reset_index(drop=True, inplace=True)"
      ],
      "metadata": {
        "id": "lE6zkOk5dj-v"
      },
      "execution_count": 191,
      "outputs": []
    },
    {
      "cell_type": "code",
      "source": [
        "train_all = pd.concat([train_x, train_y], axis=1)\n",
        "test_all = pd.concat([test_x, test_y], axis=1)"
      ],
      "metadata": {
        "id": "UnchctGDFJu4"
      },
      "execution_count": 192,
      "outputs": []
    },
    {
      "cell_type": "code",
      "source": [
        "test_x = test_all.copy()\n",
        "test_y = test_x.pop('predicted_weight_g')"
      ],
      "metadata": {
        "id": "twC3XXPLly7p"
      },
      "execution_count": 193,
      "outputs": []
    },
    {
      "cell_type": "markdown",
      "source": [
        "# cat"
      ],
      "metadata": {
        "id": "lUgWsMPwxX1w"
      }
    },
    {
      "cell_type": "code",
      "source": [
        "train_t = train_all[:-28]\n",
        "train_v = train_all[-28:]"
      ],
      "metadata": {
        "id": "Lvh-iaiwNR9q"
      },
      "execution_count": 194,
      "outputs": []
    },
    {
      "cell_type": "code",
      "source": [
        "train_x = train_t.copy()\n",
        "train_y = train_x.pop('predicted_weight_g')\n",
        "val_x = train_v.copy()\n",
        "val_y = val_x.pop('predicted_weight_g')"
      ],
      "metadata": {
        "id": "_0dR7ERYN0Zm"
      },
      "execution_count": 195,
      "outputs": []
    },
    {
      "cell_type": "code",
      "source": [
        "lr = LinearRegression()\n",
        "knr = KNeighborsRegressor()\n",
        "rfr = RandomForestRegressor()\n",
        "xgb = XGBRegressor()\n",
        "lgbm = LGBMRegressor()\n",
        "cat = CatBoostRegressor(verbose=0)\n",
        "models = [lr, knr, rfr, xgb, lgbm, cat]\n",
        "for i in models:\n",
        "    model = i.fit(train_x, train_y)\n",
        "    sc = round(model.score(train_x, train_y), 2)\n",
        "    pre = model.predict(val_x)\n",
        "    rmse = round(mean_squared_error(val_y, pre, squared=False), 2)\n",
        "    print(f'model : {i.__class__.__name__}, sc : {sc}, rmse : {rmse}')"
      ],
      "metadata": {
        "colab": {
          "base_uri": "https://localhost:8080/"
        },
        "id": "H9YS8nXpbU2M",
        "outputId": "a08b9e2b-be50-421b-8e72-b04e16547579"
      },
      "execution_count": 143,
      "outputs": [
        {
          "output_type": "stream",
          "name": "stdout",
          "text": [
            "model : LinearRegression, sc : 0.68, rmse : 17.54\n",
            "model : KNeighborsRegressor, sc : 0.61, rmse : 15.78\n",
            "model : RandomForestRegressor, sc : 0.99, rmse : 4.34\n",
            "[05:48:17] WARNING: /workspace/src/objective/regression_obj.cu:152: reg:linear is now deprecated in favor of reg:squarederror.\n",
            "model : XGBRegressor, sc : 0.98, rmse : 5.39\n",
            "model : LGBMRegressor, sc : 1.0, rmse : 6.85\n",
            "model : CatBoostRegressor, sc : 1.0, rmse : 4.05\n"
          ]
        }
      ]
    },
    {
      "cell_type": "code",
      "source": [
        "lr = LinearRegression()\n",
        "knr = KNeighborsRegressor()\n",
        "rfr = RandomForestRegressor()\n",
        "xgb = XGBRegressor()\n",
        "lgbm = LGBMRegressor()\n",
        "cat = CatBoostRegressor(verbose=0)\n",
        "models = [lr, knr, rfr, xgb, lgbm, cat]\n",
        "for i in models:\n",
        "    model = i.fit(train_x, train_y)\n",
        "    sc = round(model.score(train_x, train_y), 2)\n",
        "    pre = model.predict(val_x)\n",
        "    rmse = round(mean_squared_error(val_y, pre, squared=False), 2)\n",
        "    print(f'model : {i.__class__.__name__}, sc : {sc}, rmse : {rmse}')"
      ],
      "metadata": {
        "colab": {
          "base_uri": "https://localhost:8080/"
        },
        "id": "Bk3qsbmuvW5P",
        "outputId": "7d327f2b-648d-46a3-c5f6-5a7a79f30337"
      },
      "execution_count": 196,
      "outputs": [
        {
          "output_type": "stream",
          "name": "stdout",
          "text": [
            "model : LinearRegression, sc : 0.68, rmse : 17.54\n",
            "model : KNeighborsRegressor, sc : 0.7, rmse : 18.33\n",
            "model : RandomForestRegressor, sc : 0.99, rmse : 4.87\n",
            "[07:15:49] WARNING: /workspace/src/objective/regression_obj.cu:152: reg:linear is now deprecated in favor of reg:squarederror.\n",
            "model : XGBRegressor, sc : 0.98, rmse : 5.39\n",
            "model : LGBMRegressor, sc : 1.0, rmse : 6.85\n",
            "model : CatBoostRegressor, sc : 1.0, rmse : 3.13\n"
          ]
        }
      ]
    },
    {
      "cell_type": "code",
      "source": [
        "train_x = train_all.copy()\n",
        "train_y = train_x.pop('predicted_weight_g')"
      ],
      "metadata": {
        "id": "AprVrinUl7d7"
      },
      "execution_count": 198,
      "outputs": []
    },
    {
      "cell_type": "code",
      "source": [
        "cat = CatBoostRegressor(verbose=0)\n",
        "model = cat.fit(train_x, train_y)\n",
        "pre = model.predict(test_x)"
      ],
      "metadata": {
        "id": "TkvtfIQgmCNi"
      },
      "execution_count": 199,
      "outputs": []
    },
    {
      "cell_type": "markdown",
      "source": [
        "#  data(CNN)"
      ],
      "metadata": {
        "id": "w13sptdvx5Zm"
      }
    },
    {
      "cell_type": "code",
      "source": [
        "!unzip '/content/drive/MyDrive/Colab Notebooks/데이콘/상추/open (1).zip'\n",
        "train_li = sorted(glob.glob('/content/train_input/*'))\n",
        "test_li = sorted(glob.glob('/content/test_input/*'))\n",
        "for i in train_li + test_li:\n",
        "    df = pd.read_csv(i)\n",
        "    df['내부온도관측치'] = df['내부온도관측치'].clip(4,40)\n",
        "    df['내부습도관측치'] = df['내부습도관측치'].clip(0,100)\n",
        "    df['co2관측치']  = df['co2관측치'].clip(0,1200)\n",
        "    df['ec관측치']  = df['ec관측치'].clip(0,8)\n",
        "    df['시간당분무량']  = df['시간당분무량'].clip(0,3000)\n",
        "    df['일간누적분무량']  = df['일간누적분무량'].clip(0,72000)\n",
        "    df['시간당백색광량']  = df['시간당백색광량'].clip(0,120000)\n",
        "    df['일간누적백색광량']  = df['일간누적백색광량'].clip(0,2880000)\n",
        "    df['시간당적색광량']  = df['시간당적색광량'].clip(0,120000)\n",
        "    df['일간누적적색광량']  = df['일간누적적색광량'].clip(0,2880000)\n",
        "    df['시간당청색광량']  = df['시간당청색광량'].clip(0,120000)\n",
        "    df['일간누적청색광량']  = df['일간누적청색광량'].clip(0,2880000)\n",
        "    df['시간당총광량']  = df['시간당총광량'].clip(0,120000)\n",
        "    df['일간누적총광량']  = df['일간누적총광량'].clip(0,2880000)\n",
        "    df['obs_time'] = df['obs_time'].str[:2].apply(int)\n",
        "    df.to_csv(i, index=False)"
      ],
      "metadata": {
        "id": "BoW2YGoIx2HH"
      },
      "execution_count": null,
      "outputs": []
    },
    {
      "cell_type": "code",
      "source": [
        "for i, j in enumerate(train_li):\n",
        "    if i == 0:\n",
        "        train_x = pd.read_csv(j)\n",
        "    else:\n",
        "        train_x_some = pd.read_csv(j)\n",
        "        train_x = pd.concat([train_x, train_x_some], axis=0)\n",
        "train_x.reset_index(drop=True, inplace=True)       \n",
        "train_x.info()"
      ],
      "metadata": {
        "colab": {
          "base_uri": "https://localhost:8080/"
        },
        "id": "E-Q8DlIdySFP",
        "outputId": "764c49d8-c892-495d-8b0e-28a741c7eb3e"
      },
      "execution_count": 265,
      "outputs": [
        {
          "output_type": "stream",
          "name": "stdout",
          "text": [
            "<class 'pandas.core.frame.DataFrame'>\n",
            "RangeIndex: 18816 entries, 0 to 18815\n",
            "Data columns (total 16 columns):\n",
            " #   Column    Non-Null Count  Dtype  \n",
            "---  ------    --------------  -----  \n",
            " 0   DAT       18816 non-null  int64  \n",
            " 1   obs_time  18816 non-null  int64  \n",
            " 2   내부온도관측치   18816 non-null  float64\n",
            " 3   내부습도관측치   18816 non-null  float64\n",
            " 4   co2관측치    18816 non-null  float64\n",
            " 5   ec관측치     18816 non-null  float64\n",
            " 6   시간당분무량    18816 non-null  float64\n",
            " 7   일간누적분무량   18816 non-null  float64\n",
            " 8   시간당백색광량   18816 non-null  float64\n",
            " 9   일간누적백색광량  18816 non-null  float64\n",
            " 10  시간당적색광량   18816 non-null  float64\n",
            " 11  일간누적적색광량  18816 non-null  float64\n",
            " 12  시간당청색광량   18816 non-null  float64\n",
            " 13  일간누적청색광량  18816 non-null  float64\n",
            " 14  시간당총광량    18816 non-null  float64\n",
            " 15  일간누적총광량   18816 non-null  float64\n",
            "dtypes: float64(14), int64(2)\n",
            "memory usage: 2.3 MB\n"
          ]
        }
      ]
    },
    {
      "cell_type": "code",
      "source": [
        "train_xx = train_x.copy()\n",
        "_ = train_xx.pop('obs_time')"
      ],
      "metadata": {
        "id": "bB2ODTHx105a"
      },
      "execution_count": 266,
      "outputs": []
    },
    {
      "cell_type": "code",
      "source": [
        "train_xx.info()"
      ],
      "metadata": {
        "colab": {
          "base_uri": "https://localhost:8080/"
        },
        "id": "P-EwbQrK2Crr",
        "outputId": "164fa9b9-8e83-409f-9211-2167da7c4f35"
      },
      "execution_count": 220,
      "outputs": [
        {
          "output_type": "stream",
          "name": "stdout",
          "text": [
            "<class 'pandas.core.frame.DataFrame'>\n",
            "RangeIndex: 18816 entries, 0 to 18815\n",
            "Data columns (total 15 columns):\n",
            " #   Column    Non-Null Count  Dtype  \n",
            "---  ------    --------------  -----  \n",
            " 0   DAT       18816 non-null  int64  \n",
            " 1   내부온도관측치   18816 non-null  float64\n",
            " 2   내부습도관측치   18816 non-null  float64\n",
            " 3   co2관측치    18816 non-null  float64\n",
            " 4   ec관측치     18816 non-null  float64\n",
            " 5   시간당분무량    18816 non-null  float64\n",
            " 6   일간누적분무량   18816 non-null  float64\n",
            " 7   시간당백색광량   18816 non-null  float64\n",
            " 8   일간누적백색광량  18816 non-null  float64\n",
            " 9   시간당적색광량   18816 non-null  float64\n",
            " 10  일간누적적색광량  18816 non-null  float64\n",
            " 11  시간당청색광량   18816 non-null  float64\n",
            " 12  일간누적청색광량  18816 non-null  float64\n",
            " 13  시간당총광량    18816 non-null  float64\n",
            " 14  일간누적총광량   18816 non-null  float64\n",
            "dtypes: float64(14), int64(1)\n",
            "memory usage: 2.2 MB\n"
          ]
        }
      ]
    },
    {
      "cell_type": "code",
      "source": [
        "train_xx.iloc[671]"
      ],
      "metadata": {
        "colab": {
          "base_uri": "https://localhost:8080/"
        },
        "id": "W8xwLhvD40qG",
        "outputId": "27f7f932-b54d-497f-d8c6-ec4f85ef976e"
      },
      "execution_count": 243,
      "outputs": [
        {
          "output_type": "execute_result",
          "data": {
            "text/plain": [
              "DAT         1.000000\n",
              "내부온도관측치     0.663009\n",
              "내부습도관측치     0.883271\n",
              "co2관측치      0.463511\n",
              "ec관측치       0.000000\n",
              "시간당분무량      0.000000\n",
              "일간누적분무량     0.090783\n",
              "시간당백색광량     0.000000\n",
              "일간누적백색광량    0.874144\n",
              "시간당적색광량     0.000000\n",
              "일간누적적색광량    0.068069\n",
              "시간당청색광량     0.000000\n",
              "일간누적청색광량    0.000000\n",
              "시간당총광량      0.000000\n",
              "일간누적총광량     0.480645\n",
              "Name: 671, dtype: float64"
            ]
          },
          "metadata": {},
          "execution_count": 243
        }
      ]
    },
    {
      "cell_type": "code",
      "source": [
        "mms = MinMaxScaler()\n",
        "for i in train_xx.columns:\n",
        "    train_xx[i] = mms.fit_transform(train_xx[[i]])"
      ],
      "metadata": {
        "id": "ibXb6sLe2OUw"
      },
      "execution_count": 267,
      "outputs": []
    },
    {
      "cell_type": "code",
      "source": [
        "train_image = train_xx.values.reshape(-1,24,15,1)\n",
        "train_image.shape"
      ],
      "metadata": {
        "colab": {
          "base_uri": "https://localhost:8080/"
        },
        "id": "iQ_GM6ch3VwW",
        "outputId": "dcf329c2-2166-4c17-c354-04dc09b4bc59"
      },
      "execution_count": 268,
      "outputs": [
        {
          "output_type": "execute_result",
          "data": {
            "text/plain": [
              "(784, 24, 15, 1)"
            ]
          },
          "metadata": {},
          "execution_count": 268
        }
      ]
    },
    {
      "cell_type": "code",
      "source": [
        "plt.figure(figsize=(15,10))\n",
        "for i in range(28):\n",
        "    plt.subplot(4,7,i+1)\n",
        "    plt.title(i)\n",
        "    plt.imshow(xx[i], cmap='jet')\n",
        "    plt.axis(False)\n",
        "plt.show()"
      ],
      "metadata": {
        "colab": {
          "base_uri": "https://localhost:8080/",
          "height": 591
        },
        "id": "slVZ05se3tQw",
        "outputId": "f155220d-4977-423e-f1f2-97aeb8046861"
      },
      "execution_count": 269,
      "outputs": [
        {
          "output_type": "display_data",
          "data": {
            "text/plain": [
              "<Figure size 1080x720 with 28 Axes>"
            ],
            "image/png": "[encoded data removed]"
          },
          "metadata": {
            "needs_background": "light"
          }
        }
      ]
    },
    {
      "cell_type": "code",
      "source": [
        "train_ta = sorted(glob.glob('/content/train_target/*'))\n",
        "for i, j in enumerate(train_ta):\n",
        "    if i == 0:\n",
        "        train_y = pd.read_csv(j)\n",
        "    else:\n",
        "        train_y_some = pd.read_csv(j)\n",
        "        train_y = pd.concat([train_y, train_y_some], axis=0)\n",
        "train_y.reset_index(drop=True, inplace=True)"
      ],
      "metadata": {
        "id": "xH9r8Xni0DMr"
      },
      "execution_count": 261,
      "outputs": []
    },
    {
      "cell_type": "code",
      "source": [
        "train_y = train_y['predicted_weight_g']\n",
        "train_y.shape"
      ],
      "metadata": {
        "colab": {
          "base_uri": "https://localhost:8080/"
        },
        "id": "7CarfFIk0oGp",
        "outputId": "fa244eae-d489-4234-e3d4-62d3feeb9c79"
      },
      "execution_count": 262,
      "outputs": [
        {
          "output_type": "execute_result",
          "data": {
            "text/plain": [
              "(784,)"
            ]
          },
          "metadata": {},
          "execution_count": 262
        }
      ]
    },
    {
      "cell_type": "markdown",
      "source": [
        "# CNN"
      ],
      "metadata": {
        "id": "pvz7dXX_7kjs"
      }
    },
    {
      "cell_type": "code",
      "source": [
        "def make_model():\n",
        "    inputs = layers.Input(shape=(24,15,1))\n",
        "    x = layers.Conv2D(16,3,padding='same',activation='relu')(inputs)\n",
        "    x = layers.Conv2D(16,3,padding='same',activation='relu')(x)\n",
        "    # x = layers.MaxPool2D()(x)\n",
        "    x = layers.BatchNormalization()(x)\n",
        "    x = layers.Conv2D(32,3,padding='same',activation='relu')(x)\n",
        "    x = layers.Conv2D(32,3,padding='same',activation='relu')(x)\n",
        "    # x = layers.MaxPool2D()(x)\n",
        "    x = layers.BatchNormalization()(x)\n",
        "    x = layers.Conv2D(64,3,padding='same',activation='relu')(x)\n",
        "    x = layers.Conv2D(64,3,padding='same',activation='relu')(x)\n",
        "    # x = layers.MaxPool2D()(x)\n",
        "    x = layers.BatchNormalization()(x)\n",
        "    x = layers.GlobalAveragePooling2D()(x)\n",
        "    x = layers.Dense(256, activation='relu')(x)\n",
        "    x = layers.Dropout(0.2)(x)\n",
        "    outputs = layers.Dense(1)(x)\n",
        "\n",
        "    model = tf.keras.Model(inputs, outputs)\n",
        "    return model"
      ],
      "metadata": {
        "id": "XQgk8ASk7-ur"
      },
      "execution_count": 285,
      "outputs": []
    },
    {
      "cell_type": "code",
      "source": [
        "model = make_model()\n",
        "model.summary()"
      ],
      "metadata": {
        "colab": {
          "base_uri": "https://localhost:8080/"
        },
        "id": "LXjwBmaO-JU2",
        "outputId": "68c344f9-4ad9-4c85-8cad-a85d1f684a5e"
      },
      "execution_count": 286,
      "outputs": [
        {
          "output_type": "stream",
          "name": "stdout",
          "text": [
            "Model: \"model_2\"\n",
            "_________________________________________________________________\n",
            " Layer (type)                Output Shape              Param #   \n",
            "=================================================================\n",
            " input_5 (InputLayer)        [(None, 24, 15, 1)]       0         \n",
            "                                                                 \n",
            " conv2d_13 (Conv2D)          (None, 24, 15, 16)        160       \n",
            "                                                                 \n",
            " conv2d_14 (Conv2D)          (None, 24, 15, 16)        2320      \n",
            "                                                                 \n",
            " batch_normalization_8 (Batc  (None, 24, 15, 16)       64        \n",
            " hNormalization)                                                 \n",
            "                                                                 \n",
            " conv2d_15 (Conv2D)          (None, 24, 15, 32)        4640      \n",
            "                                                                 \n",
            " conv2d_16 (Conv2D)          (None, 24, 15, 32)        9248      \n",
            "                                                                 \n",
            " batch_normalization_9 (Batc  (None, 24, 15, 32)       128       \n",
            " hNormalization)                                                 \n",
            "                                                                 \n",
            " conv2d_17 (Conv2D)          (None, 24, 15, 64)        18496     \n",
            "                                                                 \n",
            " conv2d_18 (Conv2D)          (None, 24, 15, 64)        36928     \n",
            "                                                                 \n",
            " batch_normalization_10 (Bat  (None, 24, 15, 64)       256       \n",
            " chNormalization)                                                \n",
            "                                                                 \n",
            " global_average_pooling2d_2   (None, 64)               0         \n",
            " (GlobalAveragePooling2D)                                        \n",
            "                                                                 \n",
            " dense_4 (Dense)             (None, 256)               16640     \n",
            "                                                                 \n",
            " dropout_2 (Dropout)         (None, 256)               0         \n",
            "                                                                 \n",
            " dense_5 (Dense)             (None, 1)                 257       \n",
            "                                                                 \n",
            "=================================================================\n",
            "Total params: 89,137\n",
            "Trainable params: 88,913\n",
            "Non-trainable params: 224\n",
            "_________________________________________________________________\n"
          ]
        }
      ]
    },
    {
      "cell_type": "code",
      "source": [
        "model.compile(optimizer=tf.keras.optimizers.Adam(), loss=tf.keras.losses.MeanSquaredError())"
      ],
      "metadata": {
        "id": "xWJ-dhG_-x2F"
      },
      "execution_count": 287,
      "outputs": []
    },
    {
      "cell_type": "code",
      "source": [
        "his = model.fit(train_image, train_y, epochs=1000, validation_split=0.1)"
      ],
      "metadata": {
        "colab": {
          "base_uri": "https://localhost:8080/",
          "height": 547
        },
        "id": "5JvQ8p3R_vHy",
        "outputId": "9c0fb8de-c7ff-4c30-ecec-905208aa06da"
      },
      "execution_count": 288,
      "outputs": [
        {
          "output_type": "stream",
          "name": "stdout",
          "text": [
            "Epoch 1/1000\n",
            "23/23 [==============================] - 5s 188ms/step - loss: 2949.0574 - val_loss: 1270.0752\n",
            "Epoch 2/1000\n",
            "23/23 [==============================] - 4s 183ms/step - loss: 2000.9874 - val_loss: 1205.4904\n",
            "Epoch 3/1000\n",
            "23/23 [==============================] - 4s 181ms/step - loss: 851.0263 - val_loss: 1046.4998\n",
            "Epoch 4/1000\n",
            "23/23 [==============================] - 4s 181ms/step - loss: 410.4550 - val_loss: 1100.3896\n",
            "Epoch 5/1000\n",
            "23/23 [==============================] - 4s 181ms/step - loss: 310.3654 - val_loss: 1134.4653\n",
            "Epoch 6/1000\n",
            " 2/23 [=>............................] - ETA: 3s - loss: 217.7406"
          ]
        },
        {
          "output_type": "error",
          "ename": "KeyboardInterrupt",
          "evalue": "ignored",
          "traceback": [
            "\u001b[0;31m---------------------------------------------------------------------------\u001b[0m",
            "\u001b[0;31mKeyboardInterrupt\u001b[0m                         Traceback (most recent call last)",
            "\u001b[0;32m<ipython-input-288-4b717e7d11f9>\u001b[0m in \u001b[0;36m<module>\u001b[0;34m\u001b[0m\n\u001b[0;32m----> 1\u001b[0;31m \u001b[0mhis\u001b[0m \u001b[0;34m=\u001b[0m \u001b[0mmodel\u001b[0m\u001b[0;34m.\u001b[0m\u001b[0mfit\u001b[0m\u001b[0;34m(\u001b[0m\u001b[0mtrain_image\u001b[0m\u001b[0;34m,\u001b[0m \u001b[0mtrain_y\u001b[0m\u001b[0;34m,\u001b[0m \u001b[0mepochs\u001b[0m\u001b[0;34m=\u001b[0m\u001b[0;36m1000\u001b[0m\u001b[0;34m,\u001b[0m \u001b[0mvalidation_split\u001b[0m\u001b[0;34m=\u001b[0m\u001b[0;36m0.1\u001b[0m\u001b[0;34m)\u001b[0m\u001b[0;34m\u001b[0m\u001b[0;34m\u001b[0m\u001b[0m\n\u001b[0m",
            "\u001b[0;32m/usr/local/lib/python3.8/dist-packages/keras/utils/traceback_utils.py\u001b[0m in \u001b[0;36merror_handler\u001b[0;34m(*args, **kwargs)\u001b[0m\n\u001b[1;32m     62\u001b[0m     \u001b[0mfiltered_tb\u001b[0m \u001b[0;34m=\u001b[0m \u001b[0;32mNone\u001b[0m\u001b[0;34m\u001b[0m\u001b[0;34m\u001b[0m\u001b[0m\n\u001b[1;32m     63\u001b[0m     \u001b[0;32mtry\u001b[0m\u001b[0;34m:\u001b[0m\u001b[0;34m\u001b[0m\u001b[0;34m\u001b[0m\u001b[0m\n\u001b[0;32m---> 64\u001b[0;31m       \u001b[0;32mreturn\u001b[0m \u001b[0mfn\u001b[0m\u001b[0;34m(\u001b[0m\u001b[0;34m*\u001b[0m\u001b[0margs\u001b[0m\u001b[0;34m,\u001b[0m \u001b[0;34m**\u001b[0m\u001b[0mkwargs\u001b[0m\u001b[0;34m)\u001b[0m\u001b[0;34m\u001b[0m\u001b[0;34m\u001b[0m\u001b[0m\n\u001b[0m\u001b[1;32m     65\u001b[0m     \u001b[0;32mexcept\u001b[0m \u001b[0mException\u001b[0m \u001b[0;32mas\u001b[0m \u001b[0me\u001b[0m\u001b[0;34m:\u001b[0m  \u001b[0;31m# pylint: disable=broad-except\u001b[0m\u001b[0;34m\u001b[0m\u001b[0;34m\u001b[0m\u001b[0m\n\u001b[1;32m     66\u001b[0m       \u001b[0mfiltered_tb\u001b[0m \u001b[0;34m=\u001b[0m \u001b[0m_process_traceback_frames\u001b[0m\u001b[0;34m(\u001b[0m\u001b[0me\u001b[0m\u001b[0;34m.\u001b[0m\u001b[0m__traceback__\u001b[0m\u001b[0;34m)\u001b[0m\u001b[0;34m\u001b[0m\u001b[0;34m\u001b[0m\u001b[0m\n",
            "\u001b[0;32m/usr/local/lib/python3.8/dist-packages/keras/engine/training.py\u001b[0m in \u001b[0;36mfit\u001b[0;34m(self, x, y, batch_size, epochs, verbose, callbacks, validation_split, validation_data, shuffle, class_weight, sample_weight, initial_epoch, steps_per_epoch, validation_steps, validation_batch_size, validation_freq, max_queue_size, workers, use_multiprocessing)\u001b[0m\n\u001b[1;32m   1407\u001b[0m                 _r=1):\n\u001b[1;32m   1408\u001b[0m               \u001b[0mcallbacks\u001b[0m\u001b[0;34m.\u001b[0m\u001b[0mon_train_batch_begin\u001b[0m\u001b[0;34m(\u001b[0m\u001b[0mstep\u001b[0m\u001b[0;34m)\u001b[0m\u001b[0;34m\u001b[0m\u001b[0;34m\u001b[0m\u001b[0m\n\u001b[0;32m-> 1409\u001b[0;31m               \u001b[0mtmp_logs\u001b[0m \u001b[0;34m=\u001b[0m \u001b[0mself\u001b[0m\u001b[0;34m.\u001b[0m\u001b[0mtrain_function\u001b[0m\u001b[0;34m(\u001b[0m\u001b[0miterator\u001b[0m\u001b[0;34m)\u001b[0m\u001b[0;34m\u001b[0m\u001b[0;34m\u001b[0m\u001b[0m\n\u001b[0m\u001b[1;32m   1410\u001b[0m               \u001b[0;32mif\u001b[0m \u001b[0mdata_handler\u001b[0m\u001b[0;34m.\u001b[0m\u001b[0mshould_sync\u001b[0m\u001b[0;34m:\u001b[0m\u001b[0;34m\u001b[0m\u001b[0;34m\u001b[0m\u001b[0m\n\u001b[1;32m   1411\u001b[0m                 \u001b[0mcontext\u001b[0m\u001b[0;34m.\u001b[0m\u001b[0masync_wait\u001b[0m\u001b[0;34m(\u001b[0m\u001b[0;34m)\u001b[0m\u001b[0;34m\u001b[0m\u001b[0;34m\u001b[0m\u001b[0m\n",
            "\u001b[0;32m/usr/local/lib/python3.8/dist-packages/tensorflow/python/util/traceback_utils.py\u001b[0m in \u001b[0;36merror_handler\u001b[0;34m(*args, **kwargs)\u001b[0m\n\u001b[1;32m    148\u001b[0m     \u001b[0mfiltered_tb\u001b[0m \u001b[0;34m=\u001b[0m \u001b[0;32mNone\u001b[0m\u001b[0;34m\u001b[0m\u001b[0;34m\u001b[0m\u001b[0m\n\u001b[1;32m    149\u001b[0m     \u001b[0;32mtry\u001b[0m\u001b[0;34m:\u001b[0m\u001b[0;34m\u001b[0m\u001b[0;34m\u001b[0m\u001b[0m\n\u001b[0;32m--> 150\u001b[0;31m       \u001b[0;32mreturn\u001b[0m \u001b[0mfn\u001b[0m\u001b[0;34m(\u001b[0m\u001b[0;34m*\u001b[0m\u001b[0margs\u001b[0m\u001b[0;34m,\u001b[0m \u001b[0;34m**\u001b[0m\u001b[0mkwargs\u001b[0m\u001b[0;34m)\u001b[0m\u001b[0;34m\u001b[0m\u001b[0;34m\u001b[0m\u001b[0m\n\u001b[0m\u001b[1;32m    151\u001b[0m     \u001b[0;32mexcept\u001b[0m \u001b[0mException\u001b[0m \u001b[0;32mas\u001b[0m \u001b[0me\u001b[0m\u001b[0;34m:\u001b[0m\u001b[0;34m\u001b[0m\u001b[0;34m\u001b[0m\u001b[0m\n\u001b[1;32m    152\u001b[0m       \u001b[0mfiltered_tb\u001b[0m \u001b[0;34m=\u001b[0m \u001b[0m_process_traceback_frames\u001b[0m\u001b[0;34m(\u001b[0m\u001b[0me\u001b[0m\u001b[0;34m.\u001b[0m\u001b[0m__traceback__\u001b[0m\u001b[0;34m)\u001b[0m\u001b[0;34m\u001b[0m\u001b[0;34m\u001b[0m\u001b[0m\n",
            "\u001b[0;32m/usr/local/lib/python3.8/dist-packages/tensorflow/python/eager/def_function.py\u001b[0m in \u001b[0;36m__call__\u001b[0;34m(self, *args, **kwds)\u001b[0m\n\u001b[1;32m    913\u001b[0m \u001b[0;34m\u001b[0m\u001b[0m\n\u001b[1;32m    914\u001b[0m       \u001b[0;32mwith\u001b[0m \u001b[0mOptionalXlaContext\u001b[0m\u001b[0;34m(\u001b[0m\u001b[0mself\u001b[0m\u001b[0;34m.\u001b[0m\u001b[0m_jit_compile\u001b[0m\u001b[0;34m)\u001b[0m\u001b[0;34m:\u001b[0m\u001b[0;34m\u001b[0m\u001b[0;34m\u001b[0m\u001b[0m\n\u001b[0;32m--> 915\u001b[0;31m         \u001b[0mresult\u001b[0m \u001b[0;34m=\u001b[0m \u001b[0mself\u001b[0m\u001b[0;34m.\u001b[0m\u001b[0m_call\u001b[0m\u001b[0;34m(\u001b[0m\u001b[0;34m*\u001b[0m\u001b[0margs\u001b[0m\u001b[0;34m,\u001b[0m \u001b[0;34m**\u001b[0m\u001b[0mkwds\u001b[0m\u001b[0;34m)\u001b[0m\u001b[0;34m\u001b[0m\u001b[0;34m\u001b[0m\u001b[0m\n\u001b[0m\u001b[1;32m    916\u001b[0m \u001b[0;34m\u001b[0m\u001b[0m\n\u001b[1;32m    917\u001b[0m       \u001b[0mnew_tracing_count\u001b[0m \u001b[0;34m=\u001b[0m \u001b[0mself\u001b[0m\u001b[0;34m.\u001b[0m\u001b[0mexperimental_get_tracing_count\u001b[0m\u001b[0;34m(\u001b[0m\u001b[0;34m)\u001b[0m\u001b[0;34m\u001b[0m\u001b[0;34m\u001b[0m\u001b[0m\n",
            "\u001b[0;32m/usr/local/lib/python3.8/dist-packages/tensorflow/python/eager/def_function.py\u001b[0m in \u001b[0;36m_call\u001b[0;34m(self, *args, **kwds)\u001b[0m\n\u001b[1;32m    945\u001b[0m       \u001b[0;31m# In this case we have created variables on the first call, so we run the\u001b[0m\u001b[0;34m\u001b[0m\u001b[0;34m\u001b[0m\u001b[0;34m\u001b[0m\u001b[0m\n\u001b[1;32m    946\u001b[0m       \u001b[0;31m# defunned version which is guaranteed to never create variables.\u001b[0m\u001b[0;34m\u001b[0m\u001b[0;34m\u001b[0m\u001b[0;34m\u001b[0m\u001b[0m\n\u001b[0;32m--> 947\u001b[0;31m       \u001b[0;32mreturn\u001b[0m \u001b[0mself\u001b[0m\u001b[0;34m.\u001b[0m\u001b[0m_stateless_fn\u001b[0m\u001b[0;34m(\u001b[0m\u001b[0;34m*\u001b[0m\u001b[0margs\u001b[0m\u001b[0;34m,\u001b[0m \u001b[0;34m**\u001b[0m\u001b[0mkwds\u001b[0m\u001b[0;34m)\u001b[0m  \u001b[0;31m# pylint: disable=not-callable\u001b[0m\u001b[0;34m\u001b[0m\u001b[0;34m\u001b[0m\u001b[0m\n\u001b[0m\u001b[1;32m    948\u001b[0m     \u001b[0;32melif\u001b[0m \u001b[0mself\u001b[0m\u001b[0;34m.\u001b[0m\u001b[0m_stateful_fn\u001b[0m \u001b[0;32mis\u001b[0m \u001b[0;32mnot\u001b[0m \u001b[0;32mNone\u001b[0m\u001b[0;34m:\u001b[0m\u001b[0;34m\u001b[0m\u001b[0;34m\u001b[0m\u001b[0m\n\u001b[1;32m    949\u001b[0m       \u001b[0;31m# Release the lock early so that multiple threads can perform the call\u001b[0m\u001b[0;34m\u001b[0m\u001b[0;34m\u001b[0m\u001b[0;34m\u001b[0m\u001b[0m\n",
            "\u001b[0;32m/usr/local/lib/python3.8/dist-packages/tensorflow/python/eager/function.py\u001b[0m in \u001b[0;36m__call__\u001b[0;34m(self, *args, **kwargs)\u001b[0m\n\u001b[1;32m   2451\u001b[0m       (graph_function,\n\u001b[1;32m   2452\u001b[0m        filtered_flat_args) = self._maybe_define_function(args, kwargs)\n\u001b[0;32m-> 2453\u001b[0;31m     return graph_function._call_flat(\n\u001b[0m\u001b[1;32m   2454\u001b[0m         filtered_flat_args, captured_inputs=graph_function.captured_inputs)  # pylint: disable=protected-access\n\u001b[1;32m   2455\u001b[0m \u001b[0;34m\u001b[0m\u001b[0m\n",
            "\u001b[0;32m/usr/local/lib/python3.8/dist-packages/tensorflow/python/eager/function.py\u001b[0m in \u001b[0;36m_call_flat\u001b[0;34m(self, args, captured_inputs, cancellation_manager)\u001b[0m\n\u001b[1;32m   1858\u001b[0m         and executing_eagerly):\n\u001b[1;32m   1859\u001b[0m       \u001b[0;31m# No tape is watching; skip to running the function.\u001b[0m\u001b[0;34m\u001b[0m\u001b[0;34m\u001b[0m\u001b[0;34m\u001b[0m\u001b[0m\n\u001b[0;32m-> 1860\u001b[0;31m       return self._build_call_outputs(self._inference_function.call(\n\u001b[0m\u001b[1;32m   1861\u001b[0m           ctx, args, cancellation_manager=cancellation_manager))\n\u001b[1;32m   1862\u001b[0m     forward_backward = self._select_forward_and_backward_functions(\n",
            "\u001b[0;32m/usr/local/lib/python3.8/dist-packages/tensorflow/python/eager/function.py\u001b[0m in \u001b[0;36mcall\u001b[0;34m(self, ctx, args, cancellation_manager)\u001b[0m\n\u001b[1;32m    495\u001b[0m       \u001b[0;32mwith\u001b[0m \u001b[0m_InterpolateFunctionError\u001b[0m\u001b[0;34m(\u001b[0m\u001b[0mself\u001b[0m\u001b[0;34m)\u001b[0m\u001b[0;34m:\u001b[0m\u001b[0;34m\u001b[0m\u001b[0;34m\u001b[0m\u001b[0m\n\u001b[1;32m    496\u001b[0m         \u001b[0;32mif\u001b[0m \u001b[0mcancellation_manager\u001b[0m \u001b[0;32mis\u001b[0m \u001b[0;32mNone\u001b[0m\u001b[0;34m:\u001b[0m\u001b[0;34m\u001b[0m\u001b[0;34m\u001b[0m\u001b[0m\n\u001b[0;32m--> 497\u001b[0;31m           outputs = execute.execute(\n\u001b[0m\u001b[1;32m    498\u001b[0m               \u001b[0mstr\u001b[0m\u001b[0;34m(\u001b[0m\u001b[0mself\u001b[0m\u001b[0;34m.\u001b[0m\u001b[0msignature\u001b[0m\u001b[0;34m.\u001b[0m\u001b[0mname\u001b[0m\u001b[0;34m)\u001b[0m\u001b[0;34m,\u001b[0m\u001b[0;34m\u001b[0m\u001b[0;34m\u001b[0m\u001b[0m\n\u001b[1;32m    499\u001b[0m               \u001b[0mnum_outputs\u001b[0m\u001b[0;34m=\u001b[0m\u001b[0mself\u001b[0m\u001b[0;34m.\u001b[0m\u001b[0m_num_outputs\u001b[0m\u001b[0;34m,\u001b[0m\u001b[0;34m\u001b[0m\u001b[0;34m\u001b[0m\u001b[0m\n",
            "\u001b[0;32m/usr/local/lib/python3.8/dist-packages/tensorflow/python/eager/execute.py\u001b[0m in \u001b[0;36mquick_execute\u001b[0;34m(op_name, num_outputs, inputs, attrs, ctx, name)\u001b[0m\n\u001b[1;32m     52\u001b[0m   \u001b[0;32mtry\u001b[0m\u001b[0;34m:\u001b[0m\u001b[0;34m\u001b[0m\u001b[0;34m\u001b[0m\u001b[0m\n\u001b[1;32m     53\u001b[0m     \u001b[0mctx\u001b[0m\u001b[0;34m.\u001b[0m\u001b[0mensure_initialized\u001b[0m\u001b[0;34m(\u001b[0m\u001b[0;34m)\u001b[0m\u001b[0;34m\u001b[0m\u001b[0;34m\u001b[0m\u001b[0m\n\u001b[0;32m---> 54\u001b[0;31m     tensors = pywrap_tfe.TFE_Py_Execute(ctx._handle, device_name, op_name,\n\u001b[0m\u001b[1;32m     55\u001b[0m                                         inputs, attrs, num_outputs)\n\u001b[1;32m     56\u001b[0m   \u001b[0;32mexcept\u001b[0m \u001b[0mcore\u001b[0m\u001b[0;34m.\u001b[0m\u001b[0m_NotOkStatusException\u001b[0m \u001b[0;32mas\u001b[0m \u001b[0me\u001b[0m\u001b[0;34m:\u001b[0m\u001b[0;34m\u001b[0m\u001b[0;34m\u001b[0m\u001b[0m\n",
            "\u001b[0;31mKeyboardInterrupt\u001b[0m: "
          ]
        }
      ]
    },
    {
      "cell_type": "markdown",
      "source": [
        "# sub"
      ],
      "metadata": {
        "id": "oIGDFVGXxgmx"
      }
    },
    {
      "cell_type": "code",
      "source": [
        "!unzip '/content/sample_submission.zip'"
      ],
      "metadata": {
        "colab": {
          "base_uri": "https://localhost:8080/"
        },
        "id": "V_330_W7mYHe",
        "outputId": "94a0d331-5a4e-41bf-dd0c-cf2c7acc2068"
      },
      "execution_count": 200,
      "outputs": [
        {
          "output_type": "stream",
          "name": "stdout",
          "text": [
            "Archive:  /content/sample_submission.zip\n",
            "replace TEST_01.csv? [y]es, [n]o, [A]ll, [N]one, [r]ename: A\n",
            "  inflating: TEST_01.csv             \n",
            "  inflating: TEST_02.csv             \n",
            "  inflating: TEST_03.csv             \n",
            "  inflating: TEST_04.csv             \n",
            "  inflating: TEST_05.csv             \n"
          ]
        }
      ]
    },
    {
      "cell_type": "code",
      "source": [
        "test_01 = pd.read_csv('/content/TEST_01.csv')\n",
        "test_01['predicted_weight_g'] = pre[:28]\n",
        "test_01.to_csv('/content/TEST_01.csv', index=False)\n",
        "test_02 = pd.read_csv('/content/TEST_02.csv')\n",
        "test_02['predicted_weight_g'] = pre[28:56]\n",
        "test_02.to_csv('/content/TEST_02.csv', index=False)\n",
        "test_03 = pd.read_csv('/content/TEST_03.csv')\n",
        "test_03['predicted_weight_g'] = pre[56:84]\n",
        "test_03.to_csv('/content/TEST_03.csv', index=False)\n",
        "test_04 = pd.read_csv('/content/TEST_04.csv')\n",
        "test_04['predicted_weight_g'] = pre[84:112]\n",
        "test_04.to_csv('/content/TEST_04.csv', index=False)\n",
        "test_05 = pd.read_csv('/content/TEST_05.csv')\n",
        "test_05['predicted_weight_g'] = pre[112:]\n",
        "test_05.to_csv('/content/TEST_05.csv', index=False)"
      ],
      "metadata": {
        "id": "QcfPY0qYmnBF"
      },
      "execution_count": 201,
      "outputs": []
    }
  ]
}