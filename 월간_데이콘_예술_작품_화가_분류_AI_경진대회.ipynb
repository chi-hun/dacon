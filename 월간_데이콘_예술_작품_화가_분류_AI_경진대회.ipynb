{
  "nbformat": 4,
  "nbformat_minor": 0,
  "metadata": {
    "colab": {
      "provenance": [],
      "collapsed_sections": [
        "ZIeFjBQ2Pu4a",
        "YPTekB5JfGqc",
        "QzXYohlwvD0w",
        "ntUzkE6c3NfI",
        "EpW9J86f8dKq"
      ],
      "mount_file_id": "1-WmmfMMdDbdxBEQYjWiXIzv79I8gVrsl",
      "authorship_tag": "ABX9TyMVt95783UxC33HR3WDfzpA",
      "include_colab_link": true
    },
    "kernelspec": {
      "name": "python3",
      "display_name": "Python 3"
    },
    "language_info": {
      "name": "python"
    },
    "accelerator": "GPU"
  },
  "cells": [
    {
      "cell_type": "markdown",
      "metadata": {
        "id": "view-in-github",
        "colab_type": "text"
      },
      "source": [
        "<a href=\"https://colab.research.google.com/github/chi-hun/dacon/blob/main/%EC%9B%94%EA%B0%84_%EB%8D%B0%EC%9D%B4%EC%BD%98_%EC%98%88%EC%88%A0_%EC%9E%91%ED%92%88_%ED%99%94%EA%B0%80_%EB%B6%84%EB%A5%98_AI_%EA%B2%BD%EC%A7%84%EB%8C%80%ED%9A%8C.ipynb\" target=\"_parent\"><img src=\"https://colab.research.google.com/assets/colab-badge.svg\" alt=\"Open In Colab\"/></a>"
      ]
    },
    {
      "cell_type": "markdown",
      "source": [
        "월간 데이콘 예술 작품 화가 분류 AI 경진대회 https://dacon.io/competitions/official/236006/overview/description"
      ],
      "metadata": {
        "id": "Rcvm8UNAPNAO"
      }
    },
    {
      "cell_type": "markdown",
      "source": [
        "# module"
      ],
      "metadata": {
        "id": "IQ-ttPVGPRhV"
      }
    },
    {
      "cell_type": "code",
      "source": [
        "!pip install tensorflow_addons\n",
        "!pip install tfimm\n",
        "!pip install timm"
      ],
      "metadata": {
        "colab": {
          "base_uri": "https://localhost:8080/"
        },
        "id": "Q5Gtqt4sBJvU",
        "outputId": "a2ac643d-3311-4a59-82ac-06155f96370f"
      },
      "execution_count": 1,
      "outputs": [
        {
          "output_type": "stream",
          "name": "stdout",
          "text": [
            "Looking in indexes: https://pypi.org/simple, https://us-python.pkg.dev/colab-wheels/public/simple/\n",
            "Collecting tensorflow_addons\n",
            "  Downloading tensorflow_addons-0.18.0-cp37-cp37m-manylinux_2_17_x86_64.manylinux2014_x86_64.whl (1.1 MB)\n",
            "\u001b[K     |████████████████████████████████| 1.1 MB 19.0 MB/s \n",
            "\u001b[?25hRequirement already satisfied: packaging in /usr/local/lib/python3.7/dist-packages (from tensorflow_addons) (21.3)\n",
            "Requirement already satisfied: typeguard>=2.7 in /usr/local/lib/python3.7/dist-packages (from tensorflow_addons) (2.7.1)\n",
            "Requirement already satisfied: pyparsing!=3.0.5,>=2.0.2 in /usr/local/lib/python3.7/dist-packages (from packaging->tensorflow_addons) (3.0.9)\n",
            "Installing collected packages: tensorflow-addons\n",
            "Successfully installed tensorflow-addons-0.18.0\n",
            "Looking in indexes: https://pypi.org/simple, https://us-python.pkg.dev/colab-wheels/public/simple/\n",
            "Collecting tfimm\n",
            "  Downloading tfimm-0.2.9-py3-none-any.whl (155 kB)\n",
            "\u001b[K     |████████████████████████████████| 155 kB 18.5 MB/s \n",
            "\u001b[?25hRequirement already satisfied: tensorflow<3.0,>=2.8 in /usr/local/lib/python3.7/dist-packages (from tfimm) (2.9.2)\n",
            "Requirement already satisfied: numpy in /usr/local/lib/python3.7/dist-packages (from tfimm) (1.21.6)\n",
            "Requirement already satisfied: markdown<4.0.0,>=3.3.6 in /usr/local/lib/python3.7/dist-packages (from tfimm) (3.4.1)\n",
            "Requirement already satisfied: importlib-metadata>=4.4 in /usr/local/lib/python3.7/dist-packages (from markdown<4.0.0,>=3.3.6->tfimm) (4.13.0)\n",
            "Requirement already satisfied: zipp>=0.5 in /usr/local/lib/python3.7/dist-packages (from importlib-metadata>=4.4->markdown<4.0.0,>=3.3.6->tfimm) (3.10.0)\n",
            "Requirement already satisfied: typing-extensions>=3.6.4 in /usr/local/lib/python3.7/dist-packages (from importlib-metadata>=4.4->markdown<4.0.0,>=3.3.6->tfimm) (4.1.1)\n",
            "Requirement already satisfied: flatbuffers<2,>=1.12 in /usr/local/lib/python3.7/dist-packages (from tensorflow<3.0,>=2.8->tfimm) (1.12)\n",
            "Requirement already satisfied: packaging in /usr/local/lib/python3.7/dist-packages (from tensorflow<3.0,>=2.8->tfimm) (21.3)\n",
            "Requirement already satisfied: keras-preprocessing>=1.1.1 in /usr/local/lib/python3.7/dist-packages (from tensorflow<3.0,>=2.8->tfimm) (1.1.2)\n",
            "Requirement already satisfied: tensorboard<2.10,>=2.9 in /usr/local/lib/python3.7/dist-packages (from tensorflow<3.0,>=2.8->tfimm) (2.9.1)\n",
            "Requirement already satisfied: wrapt>=1.11.0 in /usr/local/lib/python3.7/dist-packages (from tensorflow<3.0,>=2.8->tfimm) (1.14.1)\n",
            "Requirement already satisfied: astunparse>=1.6.0 in /usr/local/lib/python3.7/dist-packages (from tensorflow<3.0,>=2.8->tfimm) (1.6.3)\n",
            "Requirement already satisfied: tensorflow-estimator<2.10.0,>=2.9.0rc0 in /usr/local/lib/python3.7/dist-packages (from tensorflow<3.0,>=2.8->tfimm) (2.9.0)\n",
            "Requirement already satisfied: protobuf<3.20,>=3.9.2 in /usr/local/lib/python3.7/dist-packages (from tensorflow<3.0,>=2.8->tfimm) (3.19.6)\n",
            "Requirement already satisfied: absl-py>=1.0.0 in /usr/local/lib/python3.7/dist-packages (from tensorflow<3.0,>=2.8->tfimm) (1.3.0)\n",
            "Requirement already satisfied: keras<2.10.0,>=2.9.0rc0 in /usr/local/lib/python3.7/dist-packages (from tensorflow<3.0,>=2.8->tfimm) (2.9.0)\n",
            "Requirement already satisfied: libclang>=13.0.0 in /usr/local/lib/python3.7/dist-packages (from tensorflow<3.0,>=2.8->tfimm) (14.0.6)\n",
            "Requirement already satisfied: six>=1.12.0 in /usr/local/lib/python3.7/dist-packages (from tensorflow<3.0,>=2.8->tfimm) (1.15.0)\n",
            "Requirement already satisfied: gast<=0.4.0,>=0.2.1 in /usr/local/lib/python3.7/dist-packages (from tensorflow<3.0,>=2.8->tfimm) (0.4.0)\n",
            "Requirement already satisfied: setuptools in /usr/local/lib/python3.7/dist-packages (from tensorflow<3.0,>=2.8->tfimm) (57.4.0)\n",
            "Requirement already satisfied: h5py>=2.9.0 in /usr/local/lib/python3.7/dist-packages (from tensorflow<3.0,>=2.8->tfimm) (3.1.0)\n",
            "Requirement already satisfied: google-pasta>=0.1.1 in /usr/local/lib/python3.7/dist-packages (from tensorflow<3.0,>=2.8->tfimm) (0.2.0)\n",
            "Requirement already satisfied: termcolor>=1.1.0 in /usr/local/lib/python3.7/dist-packages (from tensorflow<3.0,>=2.8->tfimm) (2.1.0)\n",
            "Requirement already satisfied: opt-einsum>=2.3.2 in /usr/local/lib/python3.7/dist-packages (from tensorflow<3.0,>=2.8->tfimm) (3.3.0)\n",
            "Requirement already satisfied: tensorflow-io-gcs-filesystem>=0.23.1 in /usr/local/lib/python3.7/dist-packages (from tensorflow<3.0,>=2.8->tfimm) (0.27.0)\n",
            "Requirement already satisfied: grpcio<2.0,>=1.24.3 in /usr/local/lib/python3.7/dist-packages (from tensorflow<3.0,>=2.8->tfimm) (1.50.0)\n",
            "Requirement already satisfied: wheel<1.0,>=0.23.0 in /usr/local/lib/python3.7/dist-packages (from astunparse>=1.6.0->tensorflow<3.0,>=2.8->tfimm) (0.38.4)\n",
            "Requirement already satisfied: cached-property in /usr/local/lib/python3.7/dist-packages (from h5py>=2.9.0->tensorflow<3.0,>=2.8->tfimm) (1.5.2)\n",
            "Requirement already satisfied: google-auth<3,>=1.6.3 in /usr/local/lib/python3.7/dist-packages (from tensorboard<2.10,>=2.9->tensorflow<3.0,>=2.8->tfimm) (2.14.1)\n",
            "Requirement already satisfied: werkzeug>=1.0.1 in /usr/local/lib/python3.7/dist-packages (from tensorboard<2.10,>=2.9->tensorflow<3.0,>=2.8->tfimm) (1.0.1)\n",
            "Requirement already satisfied: tensorboard-data-server<0.7.0,>=0.6.0 in /usr/local/lib/python3.7/dist-packages (from tensorboard<2.10,>=2.9->tensorflow<3.0,>=2.8->tfimm) (0.6.1)\n",
            "Requirement already satisfied: tensorboard-plugin-wit>=1.6.0 in /usr/local/lib/python3.7/dist-packages (from tensorboard<2.10,>=2.9->tensorflow<3.0,>=2.8->tfimm) (1.8.1)\n",
            "Requirement already satisfied: requests<3,>=2.21.0 in /usr/local/lib/python3.7/dist-packages (from tensorboard<2.10,>=2.9->tensorflow<3.0,>=2.8->tfimm) (2.23.0)\n",
            "Requirement already satisfied: google-auth-oauthlib<0.5,>=0.4.1 in /usr/local/lib/python3.7/dist-packages (from tensorboard<2.10,>=2.9->tensorflow<3.0,>=2.8->tfimm) (0.4.6)\n",
            "Requirement already satisfied: pyasn1-modules>=0.2.1 in /usr/local/lib/python3.7/dist-packages (from google-auth<3,>=1.6.3->tensorboard<2.10,>=2.9->tensorflow<3.0,>=2.8->tfimm) (0.2.8)\n",
            "Requirement already satisfied: rsa<5,>=3.1.4 in /usr/local/lib/python3.7/dist-packages (from google-auth<3,>=1.6.3->tensorboard<2.10,>=2.9->tensorflow<3.0,>=2.8->tfimm) (4.9)\n",
            "Requirement already satisfied: cachetools<6.0,>=2.0.0 in /usr/local/lib/python3.7/dist-packages (from google-auth<3,>=1.6.3->tensorboard<2.10,>=2.9->tensorflow<3.0,>=2.8->tfimm) (5.2.0)\n",
            "Requirement already satisfied: requests-oauthlib>=0.7.0 in /usr/local/lib/python3.7/dist-packages (from google-auth-oauthlib<0.5,>=0.4.1->tensorboard<2.10,>=2.9->tensorflow<3.0,>=2.8->tfimm) (1.3.1)\n",
            "Requirement already satisfied: pyasn1<0.5.0,>=0.4.6 in /usr/local/lib/python3.7/dist-packages (from pyasn1-modules>=0.2.1->google-auth<3,>=1.6.3->tensorboard<2.10,>=2.9->tensorflow<3.0,>=2.8->tfimm) (0.4.8)\n",
            "Requirement already satisfied: idna<3,>=2.5 in /usr/local/lib/python3.7/dist-packages (from requests<3,>=2.21.0->tensorboard<2.10,>=2.9->tensorflow<3.0,>=2.8->tfimm) (2.10)\n",
            "Requirement already satisfied: chardet<4,>=3.0.2 in /usr/local/lib/python3.7/dist-packages (from requests<3,>=2.21.0->tensorboard<2.10,>=2.9->tensorflow<3.0,>=2.8->tfimm) (3.0.4)\n",
            "Requirement already satisfied: urllib3!=1.25.0,!=1.25.1,<1.26,>=1.21.1 in /usr/local/lib/python3.7/dist-packages (from requests<3,>=2.21.0->tensorboard<2.10,>=2.9->tensorflow<3.0,>=2.8->tfimm) (1.24.3)\n",
            "Requirement already satisfied: certifi>=2017.4.17 in /usr/local/lib/python3.7/dist-packages (from requests<3,>=2.21.0->tensorboard<2.10,>=2.9->tensorflow<3.0,>=2.8->tfimm) (2022.9.24)\n",
            "Requirement already satisfied: oauthlib>=3.0.0 in /usr/local/lib/python3.7/dist-packages (from requests-oauthlib>=0.7.0->google-auth-oauthlib<0.5,>=0.4.1->tensorboard<2.10,>=2.9->tensorflow<3.0,>=2.8->tfimm) (3.2.2)\n",
            "Requirement already satisfied: pyparsing!=3.0.5,>=2.0.2 in /usr/local/lib/python3.7/dist-packages (from packaging->tensorflow<3.0,>=2.8->tfimm) (3.0.9)\n",
            "Installing collected packages: tfimm\n",
            "Successfully installed tfimm-0.2.9\n",
            "Looking in indexes: https://pypi.org/simple, https://us-python.pkg.dev/colab-wheels/public/simple/\n",
            "Collecting timm\n",
            "  Downloading timm-0.6.12-py3-none-any.whl (549 kB)\n",
            "\u001b[K     |████████████████████████████████| 549 kB 25.9 MB/s \n",
            "\u001b[?25hRequirement already satisfied: torchvision in /usr/local/lib/python3.7/dist-packages (from timm) (0.13.1+cu113)\n",
            "Requirement already satisfied: torch>=1.7 in /usr/local/lib/python3.7/dist-packages (from timm) (1.12.1+cu113)\n",
            "Requirement already satisfied: pyyaml in /usr/local/lib/python3.7/dist-packages (from timm) (6.0)\n",
            "Collecting huggingface-hub\n",
            "  Downloading huggingface_hub-0.11.0-py3-none-any.whl (182 kB)\n",
            "\u001b[K     |████████████████████████████████| 182 kB 48.2 MB/s \n",
            "\u001b[?25hRequirement already satisfied: typing-extensions in /usr/local/lib/python3.7/dist-packages (from torch>=1.7->timm) (4.1.1)\n",
            "Requirement already satisfied: packaging>=20.9 in /usr/local/lib/python3.7/dist-packages (from huggingface-hub->timm) (21.3)\n",
            "Requirement already satisfied: requests in /usr/local/lib/python3.7/dist-packages (from huggingface-hub->timm) (2.23.0)\n",
            "Requirement already satisfied: filelock in /usr/local/lib/python3.7/dist-packages (from huggingface-hub->timm) (3.8.0)\n",
            "Requirement already satisfied: importlib-metadata in /usr/local/lib/python3.7/dist-packages (from huggingface-hub->timm) (4.13.0)\n",
            "Requirement already satisfied: tqdm in /usr/local/lib/python3.7/dist-packages (from huggingface-hub->timm) (4.64.1)\n",
            "Requirement already satisfied: pyparsing!=3.0.5,>=2.0.2 in /usr/local/lib/python3.7/dist-packages (from packaging>=20.9->huggingface-hub->timm) (3.0.9)\n",
            "Requirement already satisfied: zipp>=0.5 in /usr/local/lib/python3.7/dist-packages (from importlib-metadata->huggingface-hub->timm) (3.10.0)\n",
            "Requirement already satisfied: idna<3,>=2.5 in /usr/local/lib/python3.7/dist-packages (from requests->huggingface-hub->timm) (2.10)\n",
            "Requirement already satisfied: chardet<4,>=3.0.2 in /usr/local/lib/python3.7/dist-packages (from requests->huggingface-hub->timm) (3.0.4)\n",
            "Requirement already satisfied: certifi>=2017.4.17 in /usr/local/lib/python3.7/dist-packages (from requests->huggingface-hub->timm) (2022.9.24)\n",
            "Requirement already satisfied: urllib3!=1.25.0,!=1.25.1,<1.26,>=1.21.1 in /usr/local/lib/python3.7/dist-packages (from requests->huggingface-hub->timm) (1.24.3)\n",
            "Requirement already satisfied: numpy in /usr/local/lib/python3.7/dist-packages (from torchvision->timm) (1.21.6)\n",
            "Requirement already satisfied: pillow!=8.3.*,>=5.3.0 in /usr/local/lib/python3.7/dist-packages (from torchvision->timm) (7.1.2)\n",
            "Installing collected packages: huggingface-hub, timm\n",
            "Successfully installed huggingface-hub-0.11.0 timm-0.6.12\n"
          ]
        }
      ]
    },
    {
      "cell_type": "code",
      "execution_count": 2,
      "metadata": {
        "id": "cvgNuOs7PJAx"
      },
      "outputs": [],
      "source": [
        "import numpy as np\n",
        "import pandas as pd\n",
        "import sklearn\n",
        "from sklearn.model_selection import train_test_split, StratifiedKFold\n",
        "import glob\n",
        "import cv2\n",
        "import PIL\n",
        "import matplotlib.pyplot as plt\n",
        "import seaborn as sns\n",
        "import albumentations as A\n",
        "import tensorflow as tf\n",
        "from tensorflow.keras import layers\n",
        "# import tensorflow_addons as tfa\n",
        "import gc\n",
        "import tfimm"
      ]
    },
    {
      "cell_type": "code",
      "source": [
        "!unzip -qq  '/content/drive/MyDrive/Colab Notebooks/데이콘/월간 데이콘 예술 작품 화가 분류/open.zip'"
      ],
      "metadata": {
        "id": "KTNL_xxQP73Z"
      },
      "execution_count": 3,
      "outputs": []
    },
    {
      "cell_type": "markdown",
      "source": [
        "# EDA"
      ],
      "metadata": {
        "id": "ZIeFjBQ2Pu4a"
      }
    },
    {
      "cell_type": "code",
      "source": [
        "train = pd.read_csv('/content/train.csv', index_col='id')"
      ],
      "metadata": {
        "id": "eh6wzttmPuT_"
      },
      "execution_count": null,
      "outputs": []
    },
    {
      "cell_type": "code",
      "source": [
        "train.head()"
      ],
      "metadata": {
        "colab": {
          "base_uri": "https://localhost:8080/",
          "height": 238
        },
        "id": "ph34mLzmSt59",
        "outputId": "275b0897-f456-4f76-ce57-8f9c65371ef9"
      },
      "execution_count": null,
      "outputs": [
        {
          "output_type": "execute_result",
          "data": {
            "text/plain": [
              "            img_path            artist\n",
              "id                                    \n",
              "0   ./train/0000.jpg   Diego Velazquez\n",
              "1   ./train/0001.jpg  Vincent van Gogh\n",
              "2   ./train/0002.jpg      Claude Monet\n",
              "3   ./train/0003.jpg       Edgar Degas\n",
              "4   ./train/0004.jpg  Hieronymus Bosch"
            ],
            "text/html": [
              "\n",
              "  <div id=\"df-13b7b42a-5ea6-4a69-9932-118225d981a4\">\n",
              "    <div class=\"colab-df-container\">\n",
              "      <div>\n",
              "<style scoped>\n",
              "    .dataframe tbody tr th:only-of-type {\n",
              "        vertical-align: middle;\n",
              "    }\n",
              "\n",
              "    .dataframe tbody tr th {\n",
              "        vertical-align: top;\n",
              "    }\n",
              "\n",
              "    .dataframe thead th {\n",
              "        text-align: right;\n",
              "    }\n",
              "</style>\n",
              "<table border=\"1\" class=\"dataframe\">\n",
              "  <thead>\n",
              "    <tr style=\"text-align: right;\">\n",
              "      <th></th>\n",
              "      <th>img_path</th>\n",
              "      <th>artist</th>\n",
              "    </tr>\n",
              "    <tr>\n",
              "      <th>id</th>\n",
              "      <th></th>\n",
              "      <th></th>\n",
              "    </tr>\n",
              "  </thead>\n",
              "  <tbody>\n",
              "    <tr>\n",
              "      <th>0</th>\n",
              "      <td>./train/0000.jpg</td>\n",
              "      <td>Diego Velazquez</td>\n",
              "    </tr>\n",
              "    <tr>\n",
              "      <th>1</th>\n",
              "      <td>./train/0001.jpg</td>\n",
              "      <td>Vincent van Gogh</td>\n",
              "    </tr>\n",
              "    <tr>\n",
              "      <th>2</th>\n",
              "      <td>./train/0002.jpg</td>\n",
              "      <td>Claude Monet</td>\n",
              "    </tr>\n",
              "    <tr>\n",
              "      <th>3</th>\n",
              "      <td>./train/0003.jpg</td>\n",
              "      <td>Edgar Degas</td>\n",
              "    </tr>\n",
              "    <tr>\n",
              "      <th>4</th>\n",
              "      <td>./train/0004.jpg</td>\n",
              "      <td>Hieronymus Bosch</td>\n",
              "    </tr>\n",
              "  </tbody>\n",
              "</table>\n",
              "</div>\n",
              "      <button class=\"colab-df-convert\" onclick=\"convertToInteractive('df-13b7b42a-5ea6-4a69-9932-118225d981a4')\"\n",
              "              title=\"Convert this dataframe to an interactive table.\"\n",
              "              style=\"display:none;\">\n",
              "        \n",
              "  <svg xmlns=\"http://www.w3.org/2000/svg\" height=\"24px\"viewBox=\"0 0 24 24\"\n",
              "       width=\"24px\">\n",
              "    <path d=\"M0 0h24v24H0V0z\" fill=\"none\"/>\n",
              "    <path d=\"M18.56 5.44l.94 2.06.94-2.06 2.06-.94-2.06-.94-.94-2.06-.94 2.06-2.06.94zm-11 1L8.5 8.5l.94-2.06 2.06-.94-2.06-.94L8.5 2.5l-.94 2.06-2.06.94zm10 10l.94 2.06.94-2.06 2.06-.94-2.06-.94-.94-2.06-.94 2.06-2.06.94z\"/><path d=\"M17.41 7.96l-1.37-1.37c-.4-.4-.92-.59-1.43-.59-.52 0-1.04.2-1.43.59L10.3 9.45l-7.72 7.72c-.78.78-.78 2.05 0 2.83L4 21.41c.39.39.9.59 1.41.59.51 0 1.02-.2 1.41-.59l7.78-7.78 2.81-2.81c.8-.78.8-2.07 0-2.86zM5.41 20L4 18.59l7.72-7.72 1.47 1.35L5.41 20z\"/>\n",
              "  </svg>\n",
              "      </button>\n",
              "      \n",
              "  <style>\n",
              "    .colab-df-container {\n",
              "      display:flex;\n",
              "      flex-wrap:wrap;\n",
              "      gap: 12px;\n",
              "    }\n",
              "\n",
              "    .colab-df-convert {\n",
              "      background-color: #E8F0FE;\n",
              "      border: none;\n",
              "      border-radius: 50%;\n",
              "      cursor: pointer;\n",
              "      display: none;\n",
              "      fill: #1967D2;\n",
              "      height: 32px;\n",
              "      padding: 0 0 0 0;\n",
              "      width: 32px;\n",
              "    }\n",
              "\n",
              "    .colab-df-convert:hover {\n",
              "      background-color: #E2EBFA;\n",
              "      box-shadow: 0px 1px 2px rgba(60, 64, 67, 0.3), 0px 1px 3px 1px rgba(60, 64, 67, 0.15);\n",
              "      fill: #174EA6;\n",
              "    }\n",
              "\n",
              "    [theme=dark] .colab-df-convert {\n",
              "      background-color: #3B4455;\n",
              "      fill: #D2E3FC;\n",
              "    }\n",
              "\n",
              "    [theme=dark] .colab-df-convert:hover {\n",
              "      background-color: #434B5C;\n",
              "      box-shadow: 0px 1px 3px 1px rgba(0, 0, 0, 0.15);\n",
              "      filter: drop-shadow(0px 1px 2px rgba(0, 0, 0, 0.3));\n",
              "      fill: #FFFFFF;\n",
              "    }\n",
              "  </style>\n",
              "\n",
              "      <script>\n",
              "        const buttonEl =\n",
              "          document.querySelector('#df-13b7b42a-5ea6-4a69-9932-118225d981a4 button.colab-df-convert');\n",
              "        buttonEl.style.display =\n",
              "          google.colab.kernel.accessAllowed ? 'block' : 'none';\n",
              "\n",
              "        async function convertToInteractive(key) {\n",
              "          const element = document.querySelector('#df-13b7b42a-5ea6-4a69-9932-118225d981a4');\n",
              "          const dataTable =\n",
              "            await google.colab.kernel.invokeFunction('convertToInteractive',\n",
              "                                                     [key], {});\n",
              "          if (!dataTable) return;\n",
              "\n",
              "          const docLinkHtml = 'Like what you see? Visit the ' +\n",
              "            '<a target=\"_blank\" href=https://colab.research.google.com/notebooks/data_table.ipynb>data table notebook</a>'\n",
              "            + ' to learn more about interactive tables.';\n",
              "          element.innerHTML = '';\n",
              "          dataTable['output_type'] = 'display_data';\n",
              "          await google.colab.output.renderOutput(dataTable, element);\n",
              "          const docLink = document.createElement('div');\n",
              "          docLink.innerHTML = docLinkHtml;\n",
              "          element.appendChild(docLink);\n",
              "        }\n",
              "      </script>\n",
              "    </div>\n",
              "  </div>\n",
              "  "
            ]
          },
          "metadata": {},
          "execution_count": 4
        }
      ]
    },
    {
      "cell_type": "code",
      "source": [
        "train['img_path'] = sorted(glob.glob('/content/train/*'))"
      ],
      "metadata": {
        "id": "UlH4hXCiT3w5"
      },
      "execution_count": null,
      "outputs": []
    },
    {
      "cell_type": "code",
      "source": [
        "def img_size(x):\n",
        "    img = cv2.imread(x)\n",
        "    return img.shape\n",
        "\n",
        "train['img_shape'] = train['img_path'].apply(img_size)"
      ],
      "metadata": {
        "id": "9-b9JMyKa_Kh",
        "colab": {
          "base_uri": "https://localhost:8080/",
          "height": 363
        },
        "outputId": "294a368d-3509-4543-f0fe-ad5fa4c238b0"
      },
      "execution_count": null,
      "outputs": [
        {
          "output_type": "error",
          "ename": "KeyboardInterrupt",
          "evalue": "ignored",
          "traceback": [
            "\u001b[0;31m---------------------------------------------------------------------------\u001b[0m",
            "\u001b[0;31mKeyboardInterrupt\u001b[0m                         Traceback (most recent call last)",
            "\u001b[0;32m<ipython-input-8-0b8de38d1627>\u001b[0m in \u001b[0;36m<module>\u001b[0;34m\u001b[0m\n\u001b[1;32m      3\u001b[0m     \u001b[0;32mreturn\u001b[0m \u001b[0mimg\u001b[0m\u001b[0;34m.\u001b[0m\u001b[0mshape\u001b[0m\u001b[0;34m\u001b[0m\u001b[0;34m\u001b[0m\u001b[0m\n\u001b[1;32m      4\u001b[0m \u001b[0;34m\u001b[0m\u001b[0m\n\u001b[0;32m----> 5\u001b[0;31m \u001b[0mtrain\u001b[0m\u001b[0;34m[\u001b[0m\u001b[0;34m'img_shape'\u001b[0m\u001b[0;34m]\u001b[0m \u001b[0;34m=\u001b[0m \u001b[0mtrain\u001b[0m\u001b[0;34m[\u001b[0m\u001b[0;34m'img_path'\u001b[0m\u001b[0;34m]\u001b[0m\u001b[0;34m.\u001b[0m\u001b[0mapply\u001b[0m\u001b[0;34m(\u001b[0m\u001b[0mimg_size\u001b[0m\u001b[0;34m)\u001b[0m\u001b[0;34m\u001b[0m\u001b[0;34m\u001b[0m\u001b[0m\n\u001b[0m",
            "\u001b[0;32m/usr/local/lib/python3.7/dist-packages/pandas/core/series.py\u001b[0m in \u001b[0;36mapply\u001b[0;34m(self, func, convert_dtype, args, **kwargs)\u001b[0m\n\u001b[1;32m   4355\u001b[0m         \u001b[0mdtype\u001b[0m\u001b[0;34m:\u001b[0m \u001b[0mfloat64\u001b[0m\u001b[0;34m\u001b[0m\u001b[0;34m\u001b[0m\u001b[0m\n\u001b[1;32m   4356\u001b[0m         \"\"\"\n\u001b[0;32m-> 4357\u001b[0;31m         \u001b[0;32mreturn\u001b[0m \u001b[0mSeriesApply\u001b[0m\u001b[0;34m(\u001b[0m\u001b[0mself\u001b[0m\u001b[0;34m,\u001b[0m \u001b[0mfunc\u001b[0m\u001b[0;34m,\u001b[0m \u001b[0mconvert_dtype\u001b[0m\u001b[0;34m,\u001b[0m \u001b[0margs\u001b[0m\u001b[0;34m,\u001b[0m \u001b[0mkwargs\u001b[0m\u001b[0;34m)\u001b[0m\u001b[0;34m.\u001b[0m\u001b[0mapply\u001b[0m\u001b[0;34m(\u001b[0m\u001b[0;34m)\u001b[0m\u001b[0;34m\u001b[0m\u001b[0;34m\u001b[0m\u001b[0m\n\u001b[0m\u001b[1;32m   4358\u001b[0m \u001b[0;34m\u001b[0m\u001b[0m\n\u001b[1;32m   4359\u001b[0m     def _reduce(\n",
            "\u001b[0;32m/usr/local/lib/python3.7/dist-packages/pandas/core/apply.py\u001b[0m in \u001b[0;36mapply\u001b[0;34m(self)\u001b[0m\n\u001b[1;32m   1041\u001b[0m             \u001b[0;32mreturn\u001b[0m \u001b[0mself\u001b[0m\u001b[0;34m.\u001b[0m\u001b[0mapply_str\u001b[0m\u001b[0;34m(\u001b[0m\u001b[0;34m)\u001b[0m\u001b[0;34m\u001b[0m\u001b[0;34m\u001b[0m\u001b[0m\n\u001b[1;32m   1042\u001b[0m \u001b[0;34m\u001b[0m\u001b[0m\n\u001b[0;32m-> 1043\u001b[0;31m         \u001b[0;32mreturn\u001b[0m \u001b[0mself\u001b[0m\u001b[0;34m.\u001b[0m\u001b[0mapply_standard\u001b[0m\u001b[0;34m(\u001b[0m\u001b[0;34m)\u001b[0m\u001b[0;34m\u001b[0m\u001b[0;34m\u001b[0m\u001b[0m\n\u001b[0m\u001b[1;32m   1044\u001b[0m \u001b[0;34m\u001b[0m\u001b[0m\n\u001b[1;32m   1045\u001b[0m     \u001b[0;32mdef\u001b[0m \u001b[0magg\u001b[0m\u001b[0;34m(\u001b[0m\u001b[0mself\u001b[0m\u001b[0;34m)\u001b[0m\u001b[0;34m:\u001b[0m\u001b[0;34m\u001b[0m\u001b[0;34m\u001b[0m\u001b[0m\n",
            "\u001b[0;32m/usr/local/lib/python3.7/dist-packages/pandas/core/apply.py\u001b[0m in \u001b[0;36mapply_standard\u001b[0;34m(self)\u001b[0m\n\u001b[1;32m   1099\u001b[0m                     \u001b[0mvalues\u001b[0m\u001b[0;34m,\u001b[0m\u001b[0;34m\u001b[0m\u001b[0;34m\u001b[0m\u001b[0m\n\u001b[1;32m   1100\u001b[0m                     \u001b[0mf\u001b[0m\u001b[0;34m,\u001b[0m  \u001b[0;31m# type: ignore[arg-type]\u001b[0m\u001b[0;34m\u001b[0m\u001b[0;34m\u001b[0m\u001b[0m\n\u001b[0;32m-> 1101\u001b[0;31m                     \u001b[0mconvert\u001b[0m\u001b[0;34m=\u001b[0m\u001b[0mself\u001b[0m\u001b[0;34m.\u001b[0m\u001b[0mconvert_dtype\u001b[0m\u001b[0;34m,\u001b[0m\u001b[0;34m\u001b[0m\u001b[0;34m\u001b[0m\u001b[0m\n\u001b[0m\u001b[1;32m   1102\u001b[0m                 )\n\u001b[1;32m   1103\u001b[0m \u001b[0;34m\u001b[0m\u001b[0m\n",
            "\u001b[0;32m/usr/local/lib/python3.7/dist-packages/pandas/_libs/lib.pyx\u001b[0m in \u001b[0;36mpandas._libs.lib.map_infer\u001b[0;34m()\u001b[0m\n",
            "\u001b[0;32m<ipython-input-8-0b8de38d1627>\u001b[0m in \u001b[0;36mimg_size\u001b[0;34m(x)\u001b[0m\n\u001b[1;32m      1\u001b[0m \u001b[0;32mdef\u001b[0m \u001b[0mimg_size\u001b[0m\u001b[0;34m(\u001b[0m\u001b[0mx\u001b[0m\u001b[0;34m)\u001b[0m\u001b[0;34m:\u001b[0m\u001b[0;34m\u001b[0m\u001b[0;34m\u001b[0m\u001b[0m\n\u001b[0;32m----> 2\u001b[0;31m     \u001b[0mimg\u001b[0m \u001b[0;34m=\u001b[0m \u001b[0mcv2\u001b[0m\u001b[0;34m.\u001b[0m\u001b[0mimread\u001b[0m\u001b[0;34m(\u001b[0m\u001b[0mx\u001b[0m\u001b[0;34m)\u001b[0m\u001b[0;34m\u001b[0m\u001b[0;34m\u001b[0m\u001b[0m\n\u001b[0m\u001b[1;32m      3\u001b[0m     \u001b[0;32mreturn\u001b[0m \u001b[0mimg\u001b[0m\u001b[0;34m.\u001b[0m\u001b[0mshape\u001b[0m\u001b[0;34m\u001b[0m\u001b[0;34m\u001b[0m\u001b[0m\n\u001b[1;32m      4\u001b[0m \u001b[0;34m\u001b[0m\u001b[0m\n\u001b[1;32m      5\u001b[0m \u001b[0mtrain\u001b[0m\u001b[0;34m[\u001b[0m\u001b[0;34m'img_shape'\u001b[0m\u001b[0;34m]\u001b[0m \u001b[0;34m=\u001b[0m \u001b[0mtrain\u001b[0m\u001b[0;34m[\u001b[0m\u001b[0;34m'img_path'\u001b[0m\u001b[0;34m]\u001b[0m\u001b[0;34m.\u001b[0m\u001b[0mapply\u001b[0m\u001b[0;34m(\u001b[0m\u001b[0mimg_size\u001b[0m\u001b[0;34m)\u001b[0m\u001b[0;34m\u001b[0m\u001b[0;34m\u001b[0m\u001b[0m\n",
            "\u001b[0;31mKeyboardInterrupt\u001b[0m: "
          ]
        }
      ]
    },
    {
      "cell_type": "code",
      "source": [
        "def image_width(x):\n",
        "    return x[1]\n",
        "train['width'] = train['img_shape'].apply(image_width)\n",
        "\n",
        "def image_height(x):\n",
        "    return x[0]\n",
        "train['height'] = train['img_shape'].apply(image_height)"
      ],
      "metadata": {
        "id": "LZgQ5ohAcCWI"
      },
      "execution_count": null,
      "outputs": []
    },
    {
      "cell_type": "code",
      "source": [
        "train.head()"
      ],
      "metadata": {
        "colab": {
          "base_uri": "https://localhost:8080/",
          "height": 238
        },
        "id": "wEpOKbs_b9WL",
        "outputId": "77fca4f9-7f92-47e0-cf26-02092a71cabd"
      },
      "execution_count": null,
      "outputs": [
        {
          "output_type": "execute_result",
          "data": {
            "text/plain": [
              "                   img_path            artist        img_shape  width  height\n",
              "id                                                                           \n",
              "0   /content/train/0000.jpg   Diego Velazquez  (1300, 1024, 3)   1024    1300\n",
              "1   /content/train/0001.jpg  Vincent van Gogh   (1024, 568, 3)    568    1024\n",
              "2   /content/train/0002.jpg      Claude Monet   (722, 1024, 3)   1024     722\n",
              "3   /content/train/0003.jpg       Edgar Degas   (836, 1053, 3)   1053     836\n",
              "4   /content/train/0004.jpg  Hieronymus Bosch    (845, 782, 3)    782     845"
            ],
            "text/html": [
              "\n",
              "  <div id=\"df-6dd0028d-e8a0-48b4-a1b3-d43a09793931\">\n",
              "    <div class=\"colab-df-container\">\n",
              "      <div>\n",
              "<style scoped>\n",
              "    .dataframe tbody tr th:only-of-type {\n",
              "        vertical-align: middle;\n",
              "    }\n",
              "\n",
              "    .dataframe tbody tr th {\n",
              "        vertical-align: top;\n",
              "    }\n",
              "\n",
              "    .dataframe thead th {\n",
              "        text-align: right;\n",
              "    }\n",
              "</style>\n",
              "<table border=\"1\" class=\"dataframe\">\n",
              "  <thead>\n",
              "    <tr style=\"text-align: right;\">\n",
              "      <th></th>\n",
              "      <th>img_path</th>\n",
              "      <th>artist</th>\n",
              "      <th>img_shape</th>\n",
              "      <th>width</th>\n",
              "      <th>height</th>\n",
              "    </tr>\n",
              "    <tr>\n",
              "      <th>id</th>\n",
              "      <th></th>\n",
              "      <th></th>\n",
              "      <th></th>\n",
              "      <th></th>\n",
              "      <th></th>\n",
              "    </tr>\n",
              "  </thead>\n",
              "  <tbody>\n",
              "    <tr>\n",
              "      <th>0</th>\n",
              "      <td>/content/train/0000.jpg</td>\n",
              "      <td>Diego Velazquez</td>\n",
              "      <td>(1300, 1024, 3)</td>\n",
              "      <td>1024</td>\n",
              "      <td>1300</td>\n",
              "    </tr>\n",
              "    <tr>\n",
              "      <th>1</th>\n",
              "      <td>/content/train/0001.jpg</td>\n",
              "      <td>Vincent van Gogh</td>\n",
              "      <td>(1024, 568, 3)</td>\n",
              "      <td>568</td>\n",
              "      <td>1024</td>\n",
              "    </tr>\n",
              "    <tr>\n",
              "      <th>2</th>\n",
              "      <td>/content/train/0002.jpg</td>\n",
              "      <td>Claude Monet</td>\n",
              "      <td>(722, 1024, 3)</td>\n",
              "      <td>1024</td>\n",
              "      <td>722</td>\n",
              "    </tr>\n",
              "    <tr>\n",
              "      <th>3</th>\n",
              "      <td>/content/train/0003.jpg</td>\n",
              "      <td>Edgar Degas</td>\n",
              "      <td>(836, 1053, 3)</td>\n",
              "      <td>1053</td>\n",
              "      <td>836</td>\n",
              "    </tr>\n",
              "    <tr>\n",
              "      <th>4</th>\n",
              "      <td>/content/train/0004.jpg</td>\n",
              "      <td>Hieronymus Bosch</td>\n",
              "      <td>(845, 782, 3)</td>\n",
              "      <td>782</td>\n",
              "      <td>845</td>\n",
              "    </tr>\n",
              "  </tbody>\n",
              "</table>\n",
              "</div>\n",
              "      <button class=\"colab-df-convert\" onclick=\"convertToInteractive('df-6dd0028d-e8a0-48b4-a1b3-d43a09793931')\"\n",
              "              title=\"Convert this dataframe to an interactive table.\"\n",
              "              style=\"display:none;\">\n",
              "        \n",
              "  <svg xmlns=\"http://www.w3.org/2000/svg\" height=\"24px\"viewBox=\"0 0 24 24\"\n",
              "       width=\"24px\">\n",
              "    <path d=\"M0 0h24v24H0V0z\" fill=\"none\"/>\n",
              "    <path d=\"M18.56 5.44l.94 2.06.94-2.06 2.06-.94-2.06-.94-.94-2.06-.94 2.06-2.06.94zm-11 1L8.5 8.5l.94-2.06 2.06-.94-2.06-.94L8.5 2.5l-.94 2.06-2.06.94zm10 10l.94 2.06.94-2.06 2.06-.94-2.06-.94-.94-2.06-.94 2.06-2.06.94z\"/><path d=\"M17.41 7.96l-1.37-1.37c-.4-.4-.92-.59-1.43-.59-.52 0-1.04.2-1.43.59L10.3 9.45l-7.72 7.72c-.78.78-.78 2.05 0 2.83L4 21.41c.39.39.9.59 1.41.59.51 0 1.02-.2 1.41-.59l7.78-7.78 2.81-2.81c.8-.78.8-2.07 0-2.86zM5.41 20L4 18.59l7.72-7.72 1.47 1.35L5.41 20z\"/>\n",
              "  </svg>\n",
              "      </button>\n",
              "      \n",
              "  <style>\n",
              "    .colab-df-container {\n",
              "      display:flex;\n",
              "      flex-wrap:wrap;\n",
              "      gap: 12px;\n",
              "    }\n",
              "\n",
              "    .colab-df-convert {\n",
              "      background-color: #E8F0FE;\n",
              "      border: none;\n",
              "      border-radius: 50%;\n",
              "      cursor: pointer;\n",
              "      display: none;\n",
              "      fill: #1967D2;\n",
              "      height: 32px;\n",
              "      padding: 0 0 0 0;\n",
              "      width: 32px;\n",
              "    }\n",
              "\n",
              "    .colab-df-convert:hover {\n",
              "      background-color: #E2EBFA;\n",
              "      box-shadow: 0px 1px 2px rgba(60, 64, 67, 0.3), 0px 1px 3px 1px rgba(60, 64, 67, 0.15);\n",
              "      fill: #174EA6;\n",
              "    }\n",
              "\n",
              "    [theme=dark] .colab-df-convert {\n",
              "      background-color: #3B4455;\n",
              "      fill: #D2E3FC;\n",
              "    }\n",
              "\n",
              "    [theme=dark] .colab-df-convert:hover {\n",
              "      background-color: #434B5C;\n",
              "      box-shadow: 0px 1px 3px 1px rgba(0, 0, 0, 0.15);\n",
              "      filter: drop-shadow(0px 1px 2px rgba(0, 0, 0, 0.3));\n",
              "      fill: #FFFFFF;\n",
              "    }\n",
              "  </style>\n",
              "\n",
              "      <script>\n",
              "        const buttonEl =\n",
              "          document.querySelector('#df-6dd0028d-e8a0-48b4-a1b3-d43a09793931 button.colab-df-convert');\n",
              "        buttonEl.style.display =\n",
              "          google.colab.kernel.accessAllowed ? 'block' : 'none';\n",
              "\n",
              "        async function convertToInteractive(key) {\n",
              "          const element = document.querySelector('#df-6dd0028d-e8a0-48b4-a1b3-d43a09793931');\n",
              "          const dataTable =\n",
              "            await google.colab.kernel.invokeFunction('convertToInteractive',\n",
              "                                                     [key], {});\n",
              "          if (!dataTable) return;\n",
              "\n",
              "          const docLinkHtml = 'Like what you see? Visit the ' +\n",
              "            '<a target=\"_blank\" href=https://colab.research.google.com/notebooks/data_table.ipynb>data table notebook</a>'\n",
              "            + ' to learn more about interactive tables.';\n",
              "          element.innerHTML = '';\n",
              "          dataTable['output_type'] = 'display_data';\n",
              "          await google.colab.output.renderOutput(dataTable, element);\n",
              "          const docLink = document.createElement('div');\n",
              "          docLink.innerHTML = docLinkHtml;\n",
              "          element.appendChild(docLink);\n",
              "        }\n",
              "      </script>\n",
              "    </div>\n",
              "  </div>\n",
              "  "
            ]
          },
          "metadata": {},
          "execution_count": 8
        }
      ]
    },
    {
      "cell_type": "code",
      "source": [
        "train['width'].max(), train['width'].min(), train['height'].max(), train['height'].min() "
      ],
      "metadata": {
        "colab": {
          "base_uri": "https://localhost:8080/"
        },
        "id": "yU7-ra4jfufJ",
        "outputId": "990914a4-a12c-4da7-c2f0-f77c47304e3e"
      },
      "execution_count": null,
      "outputs": [
        {
          "output_type": "execute_result",
          "data": {
            "text/plain": [
              "(4096, 204, 3826, 226)"
            ]
          },
          "metadata": {},
          "execution_count": 48
        }
      ]
    },
    {
      "cell_type": "code",
      "source": [
        "img = cv2.cvtColor(cv2.imread(train.img_path[0]), cv2.COLOR_BGR2RGB)\n",
        "img = cv2.resize(img, (500,500))\n",
        "plt.imshow(img)"
      ],
      "metadata": {
        "colab": {
          "base_uri": "https://localhost:8080/",
          "height": 287
        },
        "id": "pS-abRz6gMIS",
        "outputId": "6f306f3a-686b-41d1-a904-5e673644fff9"
      },
      "execution_count": null,
      "outputs": [
        {
          "output_type": "execute_result",
          "data": {
            "text/plain": [
              "<matplotlib.image.AxesImage at 0x7f84edd0cc50>"
            ]
          },
          "metadata": {},
          "execution_count": 16
        },
        {
          "output_type": "display_data",
          "data": {
            "text/plain": [
              "<Figure size 432x288 with 1 Axes>"
            ],
            "image/png": "[encoded data removed]"
          },
          "metadata": {
            "needs_background": "light"
          }
        }
      ]
    },
    {
      "cell_type": "code",
      "source": [
        "transfomer = A.Compose([A.RandomCrop(250, 250)])"
      ],
      "metadata": {
        "id": "J4qGHcIQisZs"
      },
      "execution_count": null,
      "outputs": []
    },
    {
      "cell_type": "code",
      "source": [
        "image = transfomer(image=img)['image']\n",
        "plt.imshow(image)"
      ],
      "metadata": {
        "colab": {
          "base_uri": "https://localhost:8080/",
          "height": 287
        },
        "id": "7hqvQQsHhh3C",
        "outputId": "d6ba0f98-009e-4298-9b47-8d40859d67c6"
      },
      "execution_count": null,
      "outputs": [
        {
          "output_type": "execute_result",
          "data": {
            "text/plain": [
              "<matplotlib.image.AxesImage at 0x7ff61ca53610>"
            ]
          },
          "metadata": {},
          "execution_count": 108
        },
        {
          "output_type": "display_data",
          "data": {
            "text/plain": [
              "<Figure size 432x288 with 1 Axes>"
            ],
            "image/png": "[encoded data removed]"
          },
          "metadata": {
            "needs_background": "light"
          }
        }
      ]
    },
    {
      "cell_type": "code",
      "source": [
        "artist_info = pd.read_csv('/content/artists_info.csv')\n",
        "artist_info.head()"
      ],
      "metadata": {
        "colab": {
          "base_uri": "https://localhost:8080/",
          "height": 206
        },
        "id": "yKJfK5LUj1BM",
        "outputId": "13d3c924-c81a-44c5-d01d-6f332bbaff66"
      },
      "execution_count": null,
      "outputs": [
        {
          "output_type": "execute_result",
          "data": {
            "text/plain": [
              "                 name        years                         genre nationality\n",
              "0   Amedeo Modigliani  1884 - 1920                 Expressionism     Italian\n",
              "1  Vasiliy Kandinskiy  1866 - 1944  Expressionism,Abstractionism     Russian\n",
              "2        Diego Rivera  1886 - 1957       Social Realism,Muralism     Mexican\n",
              "3        Claude Monet  1840 - 1926                 Impressionism      French\n",
              "4       Rene Magritte  1898 - 1967      Surrealism,Impressionism     Belgian"
            ],
            "text/html": [
              "\n",
              "  <div id=\"df-c99f8574-b987-4469-aa63-b4892711e672\">\n",
              "    <div class=\"colab-df-container\">\n",
              "      <div>\n",
              "<style scoped>\n",
              "    .dataframe tbody tr th:only-of-type {\n",
              "        vertical-align: middle;\n",
              "    }\n",
              "\n",
              "    .dataframe tbody tr th {\n",
              "        vertical-align: top;\n",
              "    }\n",
              "\n",
              "    .dataframe thead th {\n",
              "        text-align: right;\n",
              "    }\n",
              "</style>\n",
              "<table border=\"1\" class=\"dataframe\">\n",
              "  <thead>\n",
              "    <tr style=\"text-align: right;\">\n",
              "      <th></th>\n",
              "      <th>name</th>\n",
              "      <th>years</th>\n",
              "      <th>genre</th>\n",
              "      <th>nationality</th>\n",
              "    </tr>\n",
              "  </thead>\n",
              "  <tbody>\n",
              "    <tr>\n",
              "      <th>0</th>\n",
              "      <td>Amedeo Modigliani</td>\n",
              "      <td>1884 - 1920</td>\n",
              "      <td>Expressionism</td>\n",
              "      <td>Italian</td>\n",
              "    </tr>\n",
              "    <tr>\n",
              "      <th>1</th>\n",
              "      <td>Vasiliy Kandinskiy</td>\n",
              "      <td>1866 - 1944</td>\n",
              "      <td>Expressionism,Abstractionism</td>\n",
              "      <td>Russian</td>\n",
              "    </tr>\n",
              "    <tr>\n",
              "      <th>2</th>\n",
              "      <td>Diego Rivera</td>\n",
              "      <td>1886 - 1957</td>\n",
              "      <td>Social Realism,Muralism</td>\n",
              "      <td>Mexican</td>\n",
              "    </tr>\n",
              "    <tr>\n",
              "      <th>3</th>\n",
              "      <td>Claude Monet</td>\n",
              "      <td>1840 - 1926</td>\n",
              "      <td>Impressionism</td>\n",
              "      <td>French</td>\n",
              "    </tr>\n",
              "    <tr>\n",
              "      <th>4</th>\n",
              "      <td>Rene Magritte</td>\n",
              "      <td>1898 - 1967</td>\n",
              "      <td>Surrealism,Impressionism</td>\n",
              "      <td>Belgian</td>\n",
              "    </tr>\n",
              "  </tbody>\n",
              "</table>\n",
              "</div>\n",
              "      <button class=\"colab-df-convert\" onclick=\"convertToInteractive('df-c99f8574-b987-4469-aa63-b4892711e672')\"\n",
              "              title=\"Convert this dataframe to an interactive table.\"\n",
              "              style=\"display:none;\">\n",
              "        \n",
              "  <svg xmlns=\"http://www.w3.org/2000/svg\" height=\"24px\"viewBox=\"0 0 24 24\"\n",
              "       width=\"24px\">\n",
              "    <path d=\"M0 0h24v24H0V0z\" fill=\"none\"/>\n",
              "    <path d=\"M18.56 5.44l.94 2.06.94-2.06 2.06-.94-2.06-.94-.94-2.06-.94 2.06-2.06.94zm-11 1L8.5 8.5l.94-2.06 2.06-.94-2.06-.94L8.5 2.5l-.94 2.06-2.06.94zm10 10l.94 2.06.94-2.06 2.06-.94-2.06-.94-.94-2.06-.94 2.06-2.06.94z\"/><path d=\"M17.41 7.96l-1.37-1.37c-.4-.4-.92-.59-1.43-.59-.52 0-1.04.2-1.43.59L10.3 9.45l-7.72 7.72c-.78.78-.78 2.05 0 2.83L4 21.41c.39.39.9.59 1.41.59.51 0 1.02-.2 1.41-.59l7.78-7.78 2.81-2.81c.8-.78.8-2.07 0-2.86zM5.41 20L4 18.59l7.72-7.72 1.47 1.35L5.41 20z\"/>\n",
              "  </svg>\n",
              "      </button>\n",
              "      \n",
              "  <style>\n",
              "    .colab-df-container {\n",
              "      display:flex;\n",
              "      flex-wrap:wrap;\n",
              "      gap: 12px;\n",
              "    }\n",
              "\n",
              "    .colab-df-convert {\n",
              "      background-color: #E8F0FE;\n",
              "      border: none;\n",
              "      border-radius: 50%;\n",
              "      cursor: pointer;\n",
              "      display: none;\n",
              "      fill: #1967D2;\n",
              "      height: 32px;\n",
              "      padding: 0 0 0 0;\n",
              "      width: 32px;\n",
              "    }\n",
              "\n",
              "    .colab-df-convert:hover {\n",
              "      background-color: #E2EBFA;\n",
              "      box-shadow: 0px 1px 2px rgba(60, 64, 67, 0.3), 0px 1px 3px 1px rgba(60, 64, 67, 0.15);\n",
              "      fill: #174EA6;\n",
              "    }\n",
              "\n",
              "    [theme=dark] .colab-df-convert {\n",
              "      background-color: #3B4455;\n",
              "      fill: #D2E3FC;\n",
              "    }\n",
              "\n",
              "    [theme=dark] .colab-df-convert:hover {\n",
              "      background-color: #434B5C;\n",
              "      box-shadow: 0px 1px 3px 1px rgba(0, 0, 0, 0.15);\n",
              "      filter: drop-shadow(0px 1px 2px rgba(0, 0, 0, 0.3));\n",
              "      fill: #FFFFFF;\n",
              "    }\n",
              "  </style>\n",
              "\n",
              "      <script>\n",
              "        const buttonEl =\n",
              "          document.querySelector('#df-c99f8574-b987-4469-aa63-b4892711e672 button.colab-df-convert');\n",
              "        buttonEl.style.display =\n",
              "          google.colab.kernel.accessAllowed ? 'block' : 'none';\n",
              "\n",
              "        async function convertToInteractive(key) {\n",
              "          const element = document.querySelector('#df-c99f8574-b987-4469-aa63-b4892711e672');\n",
              "          const dataTable =\n",
              "            await google.colab.kernel.invokeFunction('convertToInteractive',\n",
              "                                                     [key], {});\n",
              "          if (!dataTable) return;\n",
              "\n",
              "          const docLinkHtml = 'Like what you see? Visit the ' +\n",
              "            '<a target=\"_blank\" href=https://colab.research.google.com/notebooks/data_table.ipynb>data table notebook</a>'\n",
              "            + ' to learn more about interactive tables.';\n",
              "          element.innerHTML = '';\n",
              "          dataTable['output_type'] = 'display_data';\n",
              "          await google.colab.output.renderOutput(dataTable, element);\n",
              "          const docLink = document.createElement('div');\n",
              "          docLink.innerHTML = docLinkHtml;\n",
              "          element.appendChild(docLink);\n",
              "        }\n",
              "      </script>\n",
              "    </div>\n",
              "  </div>\n",
              "  "
            ]
          },
          "metadata": {},
          "execution_count": 109
        }
      ]
    },
    {
      "cell_type": "code",
      "source": [
        "train.loc[3896]"
      ],
      "metadata": {
        "colab": {
          "base_uri": "https://localhost:8080/",
          "height": 143
        },
        "id": "DwfYWtEmlvXE",
        "outputId": "0516b6b9-18a4-4302-dce6-b3cb405165ab"
      },
      "execution_count": null,
      "outputs": [
        {
          "output_type": "execute_result",
          "data": {
            "text/plain": [
              "                     img_path       artist       img_shape  width  height\n",
              "id                                                                       \n",
              "3896  /content/train/3896.jpg  Edgar Degas  (709, 1024, 3)   1024     709\n",
              "3896  /content/train/3986.jpg       Titian  (753, 1024, 3)   1024     753"
            ],
            "text/html": [
              "\n",
              "  <div id=\"df-9001d00e-03a0-4524-94e2-21b4485acf8a\">\n",
              "    <div class=\"colab-df-container\">\n",
              "      <div>\n",
              "<style scoped>\n",
              "    .dataframe tbody tr th:only-of-type {\n",
              "        vertical-align: middle;\n",
              "    }\n",
              "\n",
              "    .dataframe tbody tr th {\n",
              "        vertical-align: top;\n",
              "    }\n",
              "\n",
              "    .dataframe thead th {\n",
              "        text-align: right;\n",
              "    }\n",
              "</style>\n",
              "<table border=\"1\" class=\"dataframe\">\n",
              "  <thead>\n",
              "    <tr style=\"text-align: right;\">\n",
              "      <th></th>\n",
              "      <th>img_path</th>\n",
              "      <th>artist</th>\n",
              "      <th>img_shape</th>\n",
              "      <th>width</th>\n",
              "      <th>height</th>\n",
              "    </tr>\n",
              "    <tr>\n",
              "      <th>id</th>\n",
              "      <th></th>\n",
              "      <th></th>\n",
              "      <th></th>\n",
              "      <th></th>\n",
              "      <th></th>\n",
              "    </tr>\n",
              "  </thead>\n",
              "  <tbody>\n",
              "    <tr>\n",
              "      <th>3896</th>\n",
              "      <td>/content/train/3896.jpg</td>\n",
              "      <td>Edgar Degas</td>\n",
              "      <td>(709, 1024, 3)</td>\n",
              "      <td>1024</td>\n",
              "      <td>709</td>\n",
              "    </tr>\n",
              "    <tr>\n",
              "      <th>3896</th>\n",
              "      <td>/content/train/3986.jpg</td>\n",
              "      <td>Titian</td>\n",
              "      <td>(753, 1024, 3)</td>\n",
              "      <td>1024</td>\n",
              "      <td>753</td>\n",
              "    </tr>\n",
              "  </tbody>\n",
              "</table>\n",
              "</div>\n",
              "      <button class=\"colab-df-convert\" onclick=\"convertToInteractive('df-9001d00e-03a0-4524-94e2-21b4485acf8a')\"\n",
              "              title=\"Convert this dataframe to an interactive table.\"\n",
              "              style=\"display:none;\">\n",
              "        \n",
              "  <svg xmlns=\"http://www.w3.org/2000/svg\" height=\"24px\"viewBox=\"0 0 24 24\"\n",
              "       width=\"24px\">\n",
              "    <path d=\"M0 0h24v24H0V0z\" fill=\"none\"/>\n",
              "    <path d=\"M18.56 5.44l.94 2.06.94-2.06 2.06-.94-2.06-.94-.94-2.06-.94 2.06-2.06.94zm-11 1L8.5 8.5l.94-2.06 2.06-.94-2.06-.94L8.5 2.5l-.94 2.06-2.06.94zm10 10l.94 2.06.94-2.06 2.06-.94-2.06-.94-.94-2.06-.94 2.06-2.06.94z\"/><path d=\"M17.41 7.96l-1.37-1.37c-.4-.4-.92-.59-1.43-.59-.52 0-1.04.2-1.43.59L10.3 9.45l-7.72 7.72c-.78.78-.78 2.05 0 2.83L4 21.41c.39.39.9.59 1.41.59.51 0 1.02-.2 1.41-.59l7.78-7.78 2.81-2.81c.8-.78.8-2.07 0-2.86zM5.41 20L4 18.59l7.72-7.72 1.47 1.35L5.41 20z\"/>\n",
              "  </svg>\n",
              "      </button>\n",
              "      \n",
              "  <style>\n",
              "    .colab-df-container {\n",
              "      display:flex;\n",
              "      flex-wrap:wrap;\n",
              "      gap: 12px;\n",
              "    }\n",
              "\n",
              "    .colab-df-convert {\n",
              "      background-color: #E8F0FE;\n",
              "      border: none;\n",
              "      border-radius: 50%;\n",
              "      cursor: pointer;\n",
              "      display: none;\n",
              "      fill: #1967D2;\n",
              "      height: 32px;\n",
              "      padding: 0 0 0 0;\n",
              "      width: 32px;\n",
              "    }\n",
              "\n",
              "    .colab-df-convert:hover {\n",
              "      background-color: #E2EBFA;\n",
              "      box-shadow: 0px 1px 2px rgba(60, 64, 67, 0.3), 0px 1px 3px 1px rgba(60, 64, 67, 0.15);\n",
              "      fill: #174EA6;\n",
              "    }\n",
              "\n",
              "    [theme=dark] .colab-df-convert {\n",
              "      background-color: #3B4455;\n",
              "      fill: #D2E3FC;\n",
              "    }\n",
              "\n",
              "    [theme=dark] .colab-df-convert:hover {\n",
              "      background-color: #434B5C;\n",
              "      box-shadow: 0px 1px 3px 1px rgba(0, 0, 0, 0.15);\n",
              "      filter: drop-shadow(0px 1px 2px rgba(0, 0, 0, 0.3));\n",
              "      fill: #FFFFFF;\n",
              "    }\n",
              "  </style>\n",
              "\n",
              "      <script>\n",
              "        const buttonEl =\n",
              "          document.querySelector('#df-9001d00e-03a0-4524-94e2-21b4485acf8a button.colab-df-convert');\n",
              "        buttonEl.style.display =\n",
              "          google.colab.kernel.accessAllowed ? 'block' : 'none';\n",
              "\n",
              "        async function convertToInteractive(key) {\n",
              "          const element = document.querySelector('#df-9001d00e-03a0-4524-94e2-21b4485acf8a');\n",
              "          const dataTable =\n",
              "            await google.colab.kernel.invokeFunction('convertToInteractive',\n",
              "                                                     [key], {});\n",
              "          if (!dataTable) return;\n",
              "\n",
              "          const docLinkHtml = 'Like what you see? Visit the ' +\n",
              "            '<a target=\"_blank\" href=https://colab.research.google.com/notebooks/data_table.ipynb>data table notebook</a>'\n",
              "            + ' to learn more about interactive tables.';\n",
              "          element.innerHTML = '';\n",
              "          dataTable['output_type'] = 'display_data';\n",
              "          await google.colab.output.renderOutput(dataTable, element);\n",
              "          const docLink = document.createElement('div');\n",
              "          docLink.innerHTML = docLinkHtml;\n",
              "          element.appendChild(docLink);\n",
              "        }\n",
              "      </script>\n",
              "    </div>\n",
              "  </div>\n",
              "  "
            ]
          },
          "metadata": {},
          "execution_count": 116
        }
      ]
    },
    {
      "cell_type": "code",
      "source": [
        "train.loc[train['img_path'] == '/content/train/3896.jpg', 'artist'] = 'Titian'\n",
        "train.loc[train['img_path'] == '/content/train/3986.jpg', 'artist'] = 'Alfred Sisley'"
      ],
      "metadata": {
        "id": "YX-5S39fmcn7"
      },
      "execution_count": null,
      "outputs": []
    },
    {
      "cell_type": "code",
      "source": [
        "train.artist.nunique()"
      ],
      "metadata": {
        "colab": {
          "base_uri": "https://localhost:8080/"
        },
        "id": "lvAwNC6vnYS3",
        "outputId": "2756546c-7353-44b6-86aa-7490b7d0ae5b"
      },
      "execution_count": null,
      "outputs": [
        {
          "output_type": "execute_result",
          "data": {
            "text/plain": [
              "50"
            ]
          },
          "metadata": {},
          "execution_count": 125
        }
      ]
    },
    {
      "cell_type": "code",
      "source": [
        "sns.countplot(train.artist)\n",
        "plt.show()"
      ],
      "metadata": {
        "colab": {
          "base_uri": "https://localhost:8080/",
          "height": 336
        },
        "id": "y1p5u-24mxOy",
        "outputId": "104f8914-c3c9-42b2-e341-37b237748d66"
      },
      "execution_count": null,
      "outputs": [
        {
          "output_type": "stream",
          "name": "stderr",
          "text": [
            "/usr/local/lib/python3.7/dist-packages/seaborn/_decorators.py:43: FutureWarning: Pass the following variable as a keyword arg: x. From version 0.12, the only valid positional argument will be `data`, and passing other arguments without an explicit keyword will result in an error or misinterpretation.\n",
            "  FutureWarning\n"
          ]
        },
        {
          "output_type": "display_data",
          "data": {
            "text/plain": [
              "<Figure size 432x288 with 1 Axes>"
            ],
            "image/png": "[encoded data removed]"
          },
          "metadata": {
            "needs_background": "light"
          }
        }
      ]
    },
    {
      "cell_type": "code",
      "source": [
        "train.to_csv('train_csv.csv', index=False)"
      ],
      "metadata": {
        "id": "mOYTnQ6xU_DG"
      },
      "execution_count": null,
      "outputs": []
    },
    {
      "cell_type": "markdown",
      "source": [
        "# data_maker"
      ],
      "metadata": {
        "id": "qmVUnw4GVYO1"
      }
    },
    {
      "cell_type": "code",
      "source": [
        "train = pd.read_csv('/content/drive/MyDrive/Colab Notebooks/데이콘/월간 데이콘 예술 작품 화가 분류/train_csv.csv')"
      ],
      "metadata": {
        "id": "ravw-hC_xJp6"
      },
      "execution_count": 4,
      "outputs": []
    },
    {
      "cell_type": "code",
      "source": [
        "class data_maker(tf.keras.utils.Sequence):\n",
        "    def __init__(self, path, label=None, img_size = 250, batch = 32, train = True, shuffle = False):\n",
        "        self.path = path\n",
        "        self.label = label\n",
        "        self.img_size = img_size\n",
        "        self.batch = batch\n",
        "        self.train = train\n",
        "        self.shuffle = shuffle\n",
        "\n",
        "        if self.shuffle:\n",
        "            self.on_epoch_end()\n",
        "\n",
        "    def __len__(self):\n",
        "        return int(np.ceil(len(self.path) / self.batch))\n",
        "\n",
        "    def __getitem__(self, index):\n",
        "        path_sel = self.path[index * self.batch : (index + 1) * self.batch]\n",
        "        if self.label is not None:\n",
        "            label_sel = self.label[index * self.batch : (index+1) * self.batch]\n",
        "        \n",
        "        transfomer = A.Compose([A.RandomCrop(self.img_size, self.img_size),\n",
        "                                A.HorizontalFlip(),\n",
        "                                #A.RandomBrightnessContrast(),\n",
        "                                #A.RandomGridShuffle(),\n",
        "                                #A.OneOf([A.Sharpen(p=1), A.Blur(p=1), A.Emboss(p=1)], p=0.3)\n",
        "                                ])\n",
        "        image = np.zeros((len(path_sel), self.img_size, self.img_size, 3), dtype=np.float32)\n",
        "        for i in range(len(path_sel)):\n",
        "            img = cv2.cvtColor(cv2.imread(path_sel[i]), cv2.COLOR_BGR2RGB)\n",
        "            if self.train:\n",
        "                img = cv2.resize(img, (500,500)) \n",
        "                img = transfomer(image=img)['image'] / 255\n",
        "            else:\n",
        "                img = cv2.resize(img, (self.img_size, self.img_size)) / 255\n",
        "\n",
        "            image[i] = img\n",
        "\n",
        "        if self.label is not None:\n",
        "            return image, np.array(label_sel)\n",
        "        else:\n",
        "            return image\n",
        "\n",
        "    def on_epoch_end(self):\n",
        "        if self.shuffle:\n",
        "            self.path, self.label = sklearn.utils.shuffle(self.path, self.label)\n",
        "        else:\n",
        "            pass"
      ],
      "metadata": {
        "id": "VtUpEie2VbOr"
      },
      "execution_count": null,
      "outputs": []
    },
    {
      "cell_type": "code",
      "source": [
        "class data_maker(tf.keras.utils.Sequence):\n",
        "    def __init__(self, path, label=None, img_size = 250, batch = 32, train = True, shuffle = False):\n",
        "        self.path = path\n",
        "        self.label = label\n",
        "        self.img_size = img_size\n",
        "        self.batch = batch\n",
        "        self.train = train\n",
        "        self.shuffle = shuffle\n",
        "\n",
        "        if self.shuffle:\n",
        "            self.on_epoch_end()\n",
        "\n",
        "    def __len__(self):\n",
        "        return int(np.ceil(len(self.path) / self.batch))\n",
        "\n",
        "    def __getitem__(self, index):\n",
        "        path_sel = self.path[index * self.batch : (index + 1) * self.batch]\n",
        "        if self.label is not None:\n",
        "            label_sel = self.label[index * self.batch : (index+1) * self.batch]\n",
        "        \n",
        "        transfomer = A.Compose([#A.RandomCrop(self.img_size, self.img_size),\n",
        "                                A.HorizontalFlip(),\n",
        "                                A.RandomBrightnessContrast(),\n",
        "                                A.RandomGridShuffle((2,2), p=1),\n",
        "                                A.OneOf([A.Sharpen(p=1), A.Blur(p=1), A.Emboss(p=1)], p=0.3)])\n",
        "        image = np.zeros((len(path_sel), self.img_size, self.img_size, 3), dtype=np.float32)\n",
        "        for i in range(len(path_sel)):\n",
        "            img = cv2.cvtColor(cv2.imread(path_sel[i]), cv2.COLOR_BGR2RGB)\n",
        "            if self.train:\n",
        "                img = cv2.resize(img, (250,250)) \n",
        "                img = transfomer(image=img)['image'] / 255\n",
        "            else:\n",
        "                img = cv2.resize(img, (self.img_size, self.img_size)) / 255\n",
        "\n",
        "            image[i] = img\n",
        "\n",
        "        if self.label is not None:\n",
        "            return image, np.array(label_sel)\n",
        "        else:\n",
        "            return image\n",
        "\n",
        "    def on_epoch_end(self):\n",
        "        if self.shuffle:\n",
        "            self.path, self.label = sklearn.utils.shuffle(self.path, self.label)\n",
        "        else:\n",
        "            pass"
      ],
      "metadata": {
        "id": "LmcUW2ulWG5e"
      },
      "execution_count": null,
      "outputs": []
    },
    {
      "cell_type": "code",
      "source": [
        "class data_maker(tf.keras.utils.Sequence):\n",
        "    def __init__(self, path, label=None, img_size = 250, batch = 32, train = True, shuffle = False):\n",
        "        self.path = path\n",
        "        self.label = label\n",
        "        self.img_size = img_size\n",
        "        self.batch = batch\n",
        "        self.train = train\n",
        "        self.shuffle = shuffle\n",
        "\n",
        "        if self.shuffle:\n",
        "            self.on_epoch_end()\n",
        "\n",
        "    def __len__(self):\n",
        "        return int(np.ceil(len(self.path) / self.batch))\n",
        "\n",
        "    def __getitem__(self, index):\n",
        "        path_sel = self.path[index * self.batch : (index + 1) * self.batch]\n",
        "        if self.label is not None:\n",
        "            label_sel = self.label[index * self.batch : (index+1) * self.batch]\n",
        "        \n",
        "        transfomer = A.Compose([#A.RandomCrop(self.img_size, self.img_size),\n",
        "                                A.HorizontalFlip(),\n",
        "                                A.RandomBrightnessContrast(),\n",
        "                                A.RandomGridShuffle((2,2), p=1),\n",
        "                                A.OneOf([A.Sharpen(p=1), A.Blur(p=1), A.Emboss(p=1)], p=0.3)])\n",
        "        image = np.zeros((len(path_sel), self.img_size, self.img_size, 3), dtype=np.float32)\n",
        "        for i in range(len(path_sel)):\n",
        "            img = cv2.cvtColor(cv2.imread(path_sel[i]), cv2.COLOR_BGR2RGB)\n",
        "            if self.train:\n",
        "                img = cv2.resize(img, (300,300)) \n",
        "                img = transfomer(image=img)['image'] / 255\n",
        "            else:\n",
        "                img = cv2.resize(img, (self.img_size, self.img_size)) / 255\n",
        "\n",
        "            image[i] = img\n",
        "\n",
        "        if self.label is not None:\n",
        "            return image, np.array(label_sel)\n",
        "        else:\n",
        "            return image\n",
        "\n",
        "    def on_epoch_end(self):\n",
        "        if self.shuffle:\n",
        "            self.path, self.label = sklearn.utils.shuffle(self.path, self.label)\n",
        "        else:\n",
        "            pass"
      ],
      "metadata": {
        "id": "XEqphwSSdCIh"
      },
      "execution_count": null,
      "outputs": []
    },
    {
      "cell_type": "code",
      "source": [
        "x_train = train['img_path']\n",
        "y_train = pd.get_dummies(train['artist'])\n",
        "classes = y_train.columns"
      ],
      "metadata": {
        "id": "zagYTDtIxMTm"
      },
      "execution_count": null,
      "outputs": []
    },
    {
      "cell_type": "code",
      "source": [
        "from sklearn.preprocessing import LabelEncoder\n",
        "lae = LabelEncoder()\n",
        "y_train = lae.fit_transform(train['artist'])\n",
        "a = pd.DataFrame(y_train).value_counts().reset_index(name='ct')\n",
        "a.columns = ['id', 'ct']\n",
        "ct_sum = sum(a['ct'])\n",
        "a['weight'] = round(ct_sum/a['ct'], 2)\n",
        "weight = {i : a[a['id'] == i]['weight'].values[0] for i in a['id'].values}"
      ],
      "metadata": {
        "id": "WVV1BsjPQYqq"
      },
      "execution_count": null,
      "outputs": []
    },
    {
      "cell_type": "code",
      "source": [
        "x_ttrain, x_ttest, y_ttrain, y_ttest = train_test_split(x_train, y_train, test_size=0.1, stratify=y_train)\n",
        "x_ttrain.shape, x_ttest.shape, y_ttrain.shape, y_ttest.shape"
      ],
      "metadata": {
        "colab": {
          "base_uri": "https://localhost:8080/"
        },
        "id": "8VO0qk37hoCI",
        "outputId": "f80e7add-8210-4a53-b4fc-92f180706c4f"
      },
      "execution_count": null,
      "outputs": [
        {
          "output_type": "execute_result",
          "data": {
            "text/plain": [
              "((5319,), (592,), (5319,), (592,))"
            ]
          },
          "metadata": {},
          "execution_count": 8
        }
      ]
    },
    {
      "cell_type": "code",
      "source": [
        "img_size = 250\n",
        "train_ds = data_maker(x_ttrain.values, y_ttrain, img_size=img_size, batch=32, train=True, shuffle=False)\n",
        "val_ds = data_maker(x_ttest.values, y_ttest, img_size=img_size, batch=32, train=True, shuffle=False)"
      ],
      "metadata": {
        "id": "OvNVX7IiduUd"
      },
      "execution_count": null,
      "outputs": []
    },
    {
      "cell_type": "code",
      "source": [
        "img_size = 300\n",
        "train_ds = data_maker(x_ttrain.values, y_ttrain.values, img_size=img_size, batch=32, train=True, shuffle=True)\n",
        "val_ds = data_maker(x_ttest.values, y_ttest.values, img_size=img_size, batch=32, train=True, shuffle=False)"
      ],
      "metadata": {
        "id": "U3X65BYMdHh4"
      },
      "execution_count": null,
      "outputs": []
    },
    {
      "cell_type": "code",
      "source": [
        "plt.imshow(train_ds[0][0][0])\n",
        "plt.title(classes[np.argmax(train_ds[0][1][0])])\n",
        "plt.show()"
      ],
      "metadata": {
        "colab": {
          "base_uri": "https://localhost:8080/",
          "height": 281
        },
        "id": "Nn8fhcOteRqd",
        "outputId": "c8cd19bf-f30c-49ad-8f08-5fdc8a3a0a4c"
      },
      "execution_count": null,
      "outputs": [
        {
          "output_type": "display_data",
          "data": {
            "text/plain": [
              "<Figure size 432x288 with 1 Axes>"
            ],
            "image/png": "[encoded data removed]"
          },
          "metadata": {
            "needs_background": "light"
          }
        }
      ]
    },
    {
      "cell_type": "markdown",
      "source": [
        "# traning"
      ],
      "metadata": {
        "id": "7YeIHxgBe-yA"
      }
    },
    {
      "cell_type": "markdown",
      "source": [
        "## make cnn"
      ],
      "metadata": {
        "id": "YPTekB5JfGqc"
      }
    },
    {
      "cell_type": "code",
      "source": [
        "def model_make1():\n",
        "    inputs = layers.Input(shape=(img_size, img_size, 3))\n",
        "    x = layers.Conv2D(32, 3, 1, activation='relu')(inputs)\n",
        "    x = layers.MaxPool2D()(x)\n",
        "    x = layers.Conv2D(64, 3, 1, activation='relu')(x)\n",
        "    x = layers.MaxPool2D()(x)\n",
        "    x = layers.Conv2D(128, 3, 1, activation='relu')(x)\n",
        "    x = layers.MaxPool2D()(x)\n",
        "\n",
        "    x = layers.GlobalAveragePooling2D()(x)\n",
        "    x = layers.Dense(1024, activation='relu')(x)\n",
        "    x = layers.Dropout(0.3)(x)\n",
        "    outputs = layers.Dense(50, activation='softmax')(x)\n",
        "\n",
        "    model = tf.keras.Model(inputs, outputs)\n",
        "    return model"
      ],
      "metadata": {
        "id": "bhqtcxpafEsm"
      },
      "execution_count": null,
      "outputs": []
    },
    {
      "cell_type": "code",
      "source": [
        "model = model_make1()\n",
        "model.summary()"
      ],
      "metadata": {
        "colab": {
          "base_uri": "https://localhost:8080/"
        },
        "id": "tTLaOJnvg7Gf",
        "outputId": "e01443d8-f9e2-4c40-eb70-e27d82a4f45f"
      },
      "execution_count": null,
      "outputs": [
        {
          "output_type": "stream",
          "name": "stdout",
          "text": [
            "Model: \"model_5\"\n",
            "_________________________________________________________________\n",
            " Layer (type)                Output Shape              Param #   \n",
            "=================================================================\n",
            " input_7 (InputLayer)        [(None, 250, 250, 3)]     0         \n",
            "                                                                 \n",
            " conv2d_16 (Conv2D)          (None, 248, 248, 32)      896       \n",
            "                                                                 \n",
            " max_pooling2d_16 (MaxPoolin  (None, 124, 124, 32)     0         \n",
            " g2D)                                                            \n",
            "                                                                 \n",
            " conv2d_17 (Conv2D)          (None, 122, 122, 64)      18496     \n",
            "                                                                 \n",
            " max_pooling2d_17 (MaxPoolin  (None, 61, 61, 64)       0         \n",
            " g2D)                                                            \n",
            "                                                                 \n",
            " conv2d_18 (Conv2D)          (None, 59, 59, 128)       73856     \n",
            "                                                                 \n",
            " max_pooling2d_18 (MaxPoolin  (None, 29, 29, 128)      0         \n",
            " g2D)                                                            \n",
            "                                                                 \n",
            " global_average_pooling2d_6   (None, 128)              0         \n",
            " (GlobalAveragePooling2D)                                        \n",
            "                                                                 \n",
            " dense_10 (Dense)            (None, 1024)              132096    \n",
            "                                                                 \n",
            " dropout_3 (Dropout)         (None, 1024)              0         \n",
            "                                                                 \n",
            " dense_11 (Dense)            (None, 50)                51250     \n",
            "                                                                 \n",
            "=================================================================\n",
            "Total params: 276,594\n",
            "Trainable params: 276,594\n",
            "Non-trainable params: 0\n",
            "_________________________________________________________________\n"
          ]
        }
      ]
    },
    {
      "cell_type": "code",
      "source": [
        "model.compile(optimizer='adam', loss=tf.keras.losses.CategoricalCrossentropy(), metrics=['accuracy'])"
      ],
      "metadata": {
        "id": "Hzbk8ZIHhDt1"
      },
      "execution_count": null,
      "outputs": []
    },
    {
      "cell_type": "code",
      "source": [
        "his = model.fit(train_ds, epochs=20, validation_data=val_ds)"
      ],
      "metadata": {
        "colab": {
          "base_uri": "https://localhost:8080/",
          "height": 585
        },
        "id": "4TAYyuAnhTNe",
        "outputId": "d139633a-176d-4d03-8f82-f5f792766b66"
      },
      "execution_count": null,
      "outputs": [
        {
          "output_type": "stream",
          "name": "stdout",
          "text": [
            "Epoch 1/20\n",
            "167/167 [==============================] - 437s 3s/step - loss: 3.6323 - accuracy: 0.1043 - val_loss: 3.4712 - val_accuracy: 0.1166\n",
            "Epoch 2/20\n",
            "167/167 [==============================] - 433s 3s/step - loss: 3.3988 - accuracy: 0.1491 - val_loss: 3.2777 - val_accuracy: 0.1689\n",
            "Epoch 3/20\n",
            "167/167 [==============================] - 429s 3s/step - loss: 3.2689 - accuracy: 0.1716 - val_loss: 3.2403 - val_accuracy: 0.1672\n",
            "Epoch 4/20\n",
            "167/167 [==============================] - 435s 3s/step - loss: 3.1389 - accuracy: 0.1863 - val_loss: 3.0536 - val_accuracy: 0.2027\n",
            "Epoch 5/20\n",
            "167/167 [==============================] - 434s 3s/step - loss: 3.0130 - accuracy: 0.2098 - val_loss: 2.9675 - val_accuracy: 0.1993\n",
            "Epoch 6/20\n",
            " 28/167 [====>.........................] - ETA: 5:46 - loss: 2.9676 - accuracy: 0.2087"
          ]
        },
        {
          "output_type": "error",
          "ename": "KeyboardInterrupt",
          "evalue": "ignored",
          "traceback": [
            "\u001b[0;31m---------------------------------------------------------------------------\u001b[0m",
            "\u001b[0;31mKeyboardInterrupt\u001b[0m                         Traceback (most recent call last)",
            "\u001b[0;32m<ipython-input-92-d20fc08409c8>\u001b[0m in \u001b[0;36m<module>\u001b[0;34m\u001b[0m\n\u001b[0;32m----> 1\u001b[0;31m \u001b[0mhis\u001b[0m \u001b[0;34m=\u001b[0m \u001b[0mmodel\u001b[0m\u001b[0;34m.\u001b[0m\u001b[0mfit\u001b[0m\u001b[0;34m(\u001b[0m\u001b[0mtrain_ds\u001b[0m\u001b[0;34m,\u001b[0m \u001b[0mepochs\u001b[0m\u001b[0;34m=\u001b[0m\u001b[0;36m20\u001b[0m\u001b[0;34m,\u001b[0m \u001b[0mvalidation_data\u001b[0m\u001b[0;34m=\u001b[0m\u001b[0mval_ds\u001b[0m\u001b[0;34m)\u001b[0m\u001b[0;34m\u001b[0m\u001b[0;34m\u001b[0m\u001b[0m\n\u001b[0m",
            "\u001b[0;32m/usr/local/lib/python3.7/dist-packages/keras/utils/traceback_utils.py\u001b[0m in \u001b[0;36merror_handler\u001b[0;34m(*args, **kwargs)\u001b[0m\n\u001b[1;32m     62\u001b[0m     \u001b[0mfiltered_tb\u001b[0m \u001b[0;34m=\u001b[0m \u001b[0;32mNone\u001b[0m\u001b[0;34m\u001b[0m\u001b[0;34m\u001b[0m\u001b[0m\n\u001b[1;32m     63\u001b[0m     \u001b[0;32mtry\u001b[0m\u001b[0;34m:\u001b[0m\u001b[0;34m\u001b[0m\u001b[0;34m\u001b[0m\u001b[0m\n\u001b[0;32m---> 64\u001b[0;31m       \u001b[0;32mreturn\u001b[0m \u001b[0mfn\u001b[0m\u001b[0;34m(\u001b[0m\u001b[0;34m*\u001b[0m\u001b[0margs\u001b[0m\u001b[0;34m,\u001b[0m \u001b[0;34m**\u001b[0m\u001b[0mkwargs\u001b[0m\u001b[0;34m)\u001b[0m\u001b[0;34m\u001b[0m\u001b[0;34m\u001b[0m\u001b[0m\n\u001b[0m\u001b[1;32m     65\u001b[0m     \u001b[0;32mexcept\u001b[0m \u001b[0mException\u001b[0m \u001b[0;32mas\u001b[0m \u001b[0me\u001b[0m\u001b[0;34m:\u001b[0m  \u001b[0;31m# pylint: disable=broad-except\u001b[0m\u001b[0;34m\u001b[0m\u001b[0;34m\u001b[0m\u001b[0m\n\u001b[1;32m     66\u001b[0m       \u001b[0mfiltered_tb\u001b[0m \u001b[0;34m=\u001b[0m \u001b[0m_process_traceback_frames\u001b[0m\u001b[0;34m(\u001b[0m\u001b[0me\u001b[0m\u001b[0;34m.\u001b[0m\u001b[0m__traceback__\u001b[0m\u001b[0;34m)\u001b[0m\u001b[0;34m\u001b[0m\u001b[0;34m\u001b[0m\u001b[0m\n",
            "\u001b[0;32m/usr/local/lib/python3.7/dist-packages/keras/engine/training.py\u001b[0m in \u001b[0;36mfit\u001b[0;34m(self, x, y, batch_size, epochs, verbose, callbacks, validation_split, validation_data, shuffle, class_weight, sample_weight, initial_epoch, steps_per_epoch, validation_steps, validation_batch_size, validation_freq, max_queue_size, workers, use_multiprocessing)\u001b[0m\n\u001b[1;32m   1382\u001b[0m                 _r=1):\n\u001b[1;32m   1383\u001b[0m               \u001b[0mcallbacks\u001b[0m\u001b[0;34m.\u001b[0m\u001b[0mon_train_batch_begin\u001b[0m\u001b[0;34m(\u001b[0m\u001b[0mstep\u001b[0m\u001b[0;34m)\u001b[0m\u001b[0;34m\u001b[0m\u001b[0;34m\u001b[0m\u001b[0m\n\u001b[0;32m-> 1384\u001b[0;31m               \u001b[0mtmp_logs\u001b[0m \u001b[0;34m=\u001b[0m \u001b[0mself\u001b[0m\u001b[0;34m.\u001b[0m\u001b[0mtrain_function\u001b[0m\u001b[0;34m(\u001b[0m\u001b[0miterator\u001b[0m\u001b[0;34m)\u001b[0m\u001b[0;34m\u001b[0m\u001b[0;34m\u001b[0m\u001b[0m\n\u001b[0m\u001b[1;32m   1385\u001b[0m               \u001b[0;32mif\u001b[0m \u001b[0mdata_handler\u001b[0m\u001b[0;34m.\u001b[0m\u001b[0mshould_sync\u001b[0m\u001b[0;34m:\u001b[0m\u001b[0;34m\u001b[0m\u001b[0;34m\u001b[0m\u001b[0m\n\u001b[1;32m   1386\u001b[0m                 \u001b[0mcontext\u001b[0m\u001b[0;34m.\u001b[0m\u001b[0masync_wait\u001b[0m\u001b[0;34m(\u001b[0m\u001b[0;34m)\u001b[0m\u001b[0;34m\u001b[0m\u001b[0;34m\u001b[0m\u001b[0m\n",
            "\u001b[0;32m/usr/local/lib/python3.7/dist-packages/tensorflow/python/util/traceback_utils.py\u001b[0m in \u001b[0;36merror_handler\u001b[0;34m(*args, **kwargs)\u001b[0m\n\u001b[1;32m    148\u001b[0m     \u001b[0mfiltered_tb\u001b[0m \u001b[0;34m=\u001b[0m \u001b[0;32mNone\u001b[0m\u001b[0;34m\u001b[0m\u001b[0;34m\u001b[0m\u001b[0m\n\u001b[1;32m    149\u001b[0m     \u001b[0;32mtry\u001b[0m\u001b[0;34m:\u001b[0m\u001b[0;34m\u001b[0m\u001b[0;34m\u001b[0m\u001b[0m\n\u001b[0;32m--> 150\u001b[0;31m       \u001b[0;32mreturn\u001b[0m \u001b[0mfn\u001b[0m\u001b[0;34m(\u001b[0m\u001b[0;34m*\u001b[0m\u001b[0margs\u001b[0m\u001b[0;34m,\u001b[0m \u001b[0;34m**\u001b[0m\u001b[0mkwargs\u001b[0m\u001b[0;34m)\u001b[0m\u001b[0;34m\u001b[0m\u001b[0;34m\u001b[0m\u001b[0m\n\u001b[0m\u001b[1;32m    151\u001b[0m     \u001b[0;32mexcept\u001b[0m \u001b[0mException\u001b[0m \u001b[0;32mas\u001b[0m \u001b[0me\u001b[0m\u001b[0;34m:\u001b[0m\u001b[0;34m\u001b[0m\u001b[0;34m\u001b[0m\u001b[0m\n\u001b[1;32m    152\u001b[0m       \u001b[0mfiltered_tb\u001b[0m \u001b[0;34m=\u001b[0m \u001b[0m_process_traceback_frames\u001b[0m\u001b[0;34m(\u001b[0m\u001b[0me\u001b[0m\u001b[0;34m.\u001b[0m\u001b[0m__traceback__\u001b[0m\u001b[0;34m)\u001b[0m\u001b[0;34m\u001b[0m\u001b[0;34m\u001b[0m\u001b[0m\n",
            "\u001b[0;32m/usr/local/lib/python3.7/dist-packages/tensorflow/python/eager/def_function.py\u001b[0m in \u001b[0;36m__call__\u001b[0;34m(self, *args, **kwds)\u001b[0m\n\u001b[1;32m    913\u001b[0m \u001b[0;34m\u001b[0m\u001b[0m\n\u001b[1;32m    914\u001b[0m       \u001b[0;32mwith\u001b[0m \u001b[0mOptionalXlaContext\u001b[0m\u001b[0;34m(\u001b[0m\u001b[0mself\u001b[0m\u001b[0;34m.\u001b[0m\u001b[0m_jit_compile\u001b[0m\u001b[0;34m)\u001b[0m\u001b[0;34m:\u001b[0m\u001b[0;34m\u001b[0m\u001b[0;34m\u001b[0m\u001b[0m\n\u001b[0;32m--> 915\u001b[0;31m         \u001b[0mresult\u001b[0m \u001b[0;34m=\u001b[0m \u001b[0mself\u001b[0m\u001b[0;34m.\u001b[0m\u001b[0m_call\u001b[0m\u001b[0;34m(\u001b[0m\u001b[0;34m*\u001b[0m\u001b[0margs\u001b[0m\u001b[0;34m,\u001b[0m \u001b[0;34m**\u001b[0m\u001b[0mkwds\u001b[0m\u001b[0;34m)\u001b[0m\u001b[0;34m\u001b[0m\u001b[0;34m\u001b[0m\u001b[0m\n\u001b[0m\u001b[1;32m    916\u001b[0m \u001b[0;34m\u001b[0m\u001b[0m\n\u001b[1;32m    917\u001b[0m       \u001b[0mnew_tracing_count\u001b[0m \u001b[0;34m=\u001b[0m \u001b[0mself\u001b[0m\u001b[0;34m.\u001b[0m\u001b[0mexperimental_get_tracing_count\u001b[0m\u001b[0;34m(\u001b[0m\u001b[0;34m)\u001b[0m\u001b[0;34m\u001b[0m\u001b[0;34m\u001b[0m\u001b[0m\n",
            "\u001b[0;32m/usr/local/lib/python3.7/dist-packages/tensorflow/python/eager/def_function.py\u001b[0m in \u001b[0;36m_call\u001b[0;34m(self, *args, **kwds)\u001b[0m\n\u001b[1;32m    945\u001b[0m       \u001b[0;31m# In this case we have created variables on the first call, so we run the\u001b[0m\u001b[0;34m\u001b[0m\u001b[0;34m\u001b[0m\u001b[0;34m\u001b[0m\u001b[0m\n\u001b[1;32m    946\u001b[0m       \u001b[0;31m# defunned version which is guaranteed to never create variables.\u001b[0m\u001b[0;34m\u001b[0m\u001b[0;34m\u001b[0m\u001b[0;34m\u001b[0m\u001b[0m\n\u001b[0;32m--> 947\u001b[0;31m       \u001b[0;32mreturn\u001b[0m \u001b[0mself\u001b[0m\u001b[0;34m.\u001b[0m\u001b[0m_stateless_fn\u001b[0m\u001b[0;34m(\u001b[0m\u001b[0;34m*\u001b[0m\u001b[0margs\u001b[0m\u001b[0;34m,\u001b[0m \u001b[0;34m**\u001b[0m\u001b[0mkwds\u001b[0m\u001b[0;34m)\u001b[0m  \u001b[0;31m# pylint: disable=not-callable\u001b[0m\u001b[0;34m\u001b[0m\u001b[0;34m\u001b[0m\u001b[0m\n\u001b[0m\u001b[1;32m    948\u001b[0m     \u001b[0;32melif\u001b[0m \u001b[0mself\u001b[0m\u001b[0;34m.\u001b[0m\u001b[0m_stateful_fn\u001b[0m \u001b[0;32mis\u001b[0m \u001b[0;32mnot\u001b[0m \u001b[0;32mNone\u001b[0m\u001b[0;34m:\u001b[0m\u001b[0;34m\u001b[0m\u001b[0;34m\u001b[0m\u001b[0m\n\u001b[1;32m    949\u001b[0m       \u001b[0;31m# Release the lock early so that multiple threads can perform the call\u001b[0m\u001b[0;34m\u001b[0m\u001b[0;34m\u001b[0m\u001b[0;34m\u001b[0m\u001b[0m\n",
            "\u001b[0;32m/usr/local/lib/python3.7/dist-packages/tensorflow/python/eager/function.py\u001b[0m in \u001b[0;36m__call__\u001b[0;34m(self, *args, **kwargs)\u001b[0m\n\u001b[1;32m   2955\u001b[0m        filtered_flat_args) = self._maybe_define_function(args, kwargs)\n\u001b[1;32m   2956\u001b[0m     return graph_function._call_flat(\n\u001b[0;32m-> 2957\u001b[0;31m         filtered_flat_args, captured_inputs=graph_function.captured_inputs)  # pylint: disable=protected-access\n\u001b[0m\u001b[1;32m   2958\u001b[0m \u001b[0;34m\u001b[0m\u001b[0m\n\u001b[1;32m   2959\u001b[0m   \u001b[0;34m@\u001b[0m\u001b[0mproperty\u001b[0m\u001b[0;34m\u001b[0m\u001b[0;34m\u001b[0m\u001b[0m\n",
            "\u001b[0;32m/usr/local/lib/python3.7/dist-packages/tensorflow/python/eager/function.py\u001b[0m in \u001b[0;36m_call_flat\u001b[0;34m(self, args, captured_inputs, cancellation_manager)\u001b[0m\n\u001b[1;32m   1852\u001b[0m       \u001b[0;31m# No tape is watching; skip to running the function.\u001b[0m\u001b[0;34m\u001b[0m\u001b[0;34m\u001b[0m\u001b[0;34m\u001b[0m\u001b[0m\n\u001b[1;32m   1853\u001b[0m       return self._build_call_outputs(self._inference_function.call(\n\u001b[0;32m-> 1854\u001b[0;31m           ctx, args, cancellation_manager=cancellation_manager))\n\u001b[0m\u001b[1;32m   1855\u001b[0m     forward_backward = self._select_forward_and_backward_functions(\n\u001b[1;32m   1856\u001b[0m         \u001b[0margs\u001b[0m\u001b[0;34m,\u001b[0m\u001b[0;34m\u001b[0m\u001b[0;34m\u001b[0m\u001b[0m\n",
            "\u001b[0;32m/usr/local/lib/python3.7/dist-packages/tensorflow/python/eager/function.py\u001b[0m in \u001b[0;36mcall\u001b[0;34m(self, ctx, args, cancellation_manager)\u001b[0m\n\u001b[1;32m    502\u001b[0m               \u001b[0minputs\u001b[0m\u001b[0;34m=\u001b[0m\u001b[0margs\u001b[0m\u001b[0;34m,\u001b[0m\u001b[0;34m\u001b[0m\u001b[0;34m\u001b[0m\u001b[0m\n\u001b[1;32m    503\u001b[0m               \u001b[0mattrs\u001b[0m\u001b[0;34m=\u001b[0m\u001b[0mattrs\u001b[0m\u001b[0;34m,\u001b[0m\u001b[0;34m\u001b[0m\u001b[0;34m\u001b[0m\u001b[0m\n\u001b[0;32m--> 504\u001b[0;31m               ctx=ctx)\n\u001b[0m\u001b[1;32m    505\u001b[0m         \u001b[0;32melse\u001b[0m\u001b[0;34m:\u001b[0m\u001b[0;34m\u001b[0m\u001b[0;34m\u001b[0m\u001b[0m\n\u001b[1;32m    506\u001b[0m           outputs = execute.execute_with_cancellation(\n",
            "\u001b[0;32m/usr/local/lib/python3.7/dist-packages/tensorflow/python/eager/execute.py\u001b[0m in \u001b[0;36mquick_execute\u001b[0;34m(op_name, num_outputs, inputs, attrs, ctx, name)\u001b[0m\n\u001b[1;32m     53\u001b[0m     \u001b[0mctx\u001b[0m\u001b[0;34m.\u001b[0m\u001b[0mensure_initialized\u001b[0m\u001b[0;34m(\u001b[0m\u001b[0;34m)\u001b[0m\u001b[0;34m\u001b[0m\u001b[0;34m\u001b[0m\u001b[0m\n\u001b[1;32m     54\u001b[0m     tensors = pywrap_tfe.TFE_Py_Execute(ctx._handle, device_name, op_name,\n\u001b[0;32m---> 55\u001b[0;31m                                         inputs, attrs, num_outputs)\n\u001b[0m\u001b[1;32m     56\u001b[0m   \u001b[0;32mexcept\u001b[0m \u001b[0mcore\u001b[0m\u001b[0;34m.\u001b[0m\u001b[0m_NotOkStatusException\u001b[0m \u001b[0;32mas\u001b[0m \u001b[0me\u001b[0m\u001b[0;34m:\u001b[0m\u001b[0;34m\u001b[0m\u001b[0;34m\u001b[0m\u001b[0m\n\u001b[1;32m     57\u001b[0m     \u001b[0;32mif\u001b[0m \u001b[0mname\u001b[0m \u001b[0;32mis\u001b[0m \u001b[0;32mnot\u001b[0m \u001b[0;32mNone\u001b[0m\u001b[0;34m:\u001b[0m\u001b[0;34m\u001b[0m\u001b[0;34m\u001b[0m\u001b[0m\n",
            "\u001b[0;31mKeyboardInterrupt\u001b[0m: "
          ]
        }
      ]
    },
    {
      "cell_type": "markdown",
      "source": [
        "## efficientnet"
      ],
      "metadata": {
        "id": "QzXYohlwvD0w"
      }
    },
    {
      "cell_type": "code",
      "source": [
        "pre_layer = tf.keras.applications.efficientnet.preprocess_input\n",
        "base_model = tf.keras.applications.EfficientNetB0(include_top=False, input_shape=(img_size, img_size, 3))\n",
        "base_model.trainable = True"
      ],
      "metadata": {
        "id": "EWHSriKVvBx0",
        "colab": {
          "base_uri": "https://localhost:8080/"
        },
        "outputId": "7d0d9d55-e8bf-43cd-8130-afd6cb88dc5f"
      },
      "execution_count": null,
      "outputs": [
        {
          "output_type": "stream",
          "name": "stdout",
          "text": [
            "Downloading data from https://storage.googleapis.com/keras-applications/efficientnetb0_notop.h5\n",
            "16711680/16705208 [==============================] - 0s 0us/step\n",
            "16719872/16705208 [==============================] - 0s 0us/step\n"
          ]
        }
      ]
    },
    {
      "cell_type": "code",
      "source": [
        "def model_make2():\n",
        "    inputs = layers.Input(shape=(img_size, img_size, 3))\n",
        "    x = pre_layer(inputs)\n",
        "    x = base_model(x)\n",
        "\n",
        "    x = layers.GlobalAveragePooling2D()(x)\n",
        "    x = layers.Dense(1024, activation='relu')(x)\n",
        "    x = layers.Dropout(0.3)(x)\n",
        "    x = layers.Dense(512, activation='relu')(x)\n",
        "    x = layers.Dropout(0.4)(x)\n",
        "    outputs = layers.Dense(50, activation='softmax')(x)\n",
        "\n",
        "    model = tf.keras.Model(inputs, outputs)\n",
        "    return model"
      ],
      "metadata": {
        "id": "4kQ4M3D0vhNA"
      },
      "execution_count": null,
      "outputs": []
    },
    {
      "cell_type": "code",
      "source": [
        "model = model_make2()\n",
        "model.summary()"
      ],
      "metadata": {
        "colab": {
          "base_uri": "https://localhost:8080/"
        },
        "id": "63iOtlKEvzvI",
        "outputId": "f8db7e6b-b5cb-42b4-cf0a-c9a928583156"
      },
      "execution_count": null,
      "outputs": [
        {
          "output_type": "stream",
          "name": "stdout",
          "text": [
            "Model: \"model_2\"\n",
            "_________________________________________________________________\n",
            " Layer (type)                Output Shape              Param #   \n",
            "=================================================================\n",
            " input_4 (InputLayer)        [(None, 250, 250, 3)]     0         \n",
            "                                                                 \n",
            " efficientnetb0 (Functional)  (None, 8, 8, 1280)       4049571   \n",
            "                                                                 \n",
            " global_average_pooling2d_2   (None, 1280)             0         \n",
            " (GlobalAveragePooling2D)                                        \n",
            "                                                                 \n",
            " dense_6 (Dense)             (None, 1024)              1311744   \n",
            "                                                                 \n",
            " dropout_4 (Dropout)         (None, 1024)              0         \n",
            "                                                                 \n",
            " dense_7 (Dense)             (None, 512)               524800    \n",
            "                                                                 \n",
            " dropout_5 (Dropout)         (None, 512)               0         \n",
            "                                                                 \n",
            " dense_8 (Dense)             (None, 50)                25650     \n",
            "                                                                 \n",
            "=================================================================\n",
            "Total params: 5,911,765\n",
            "Trainable params: 5,869,742\n",
            "Non-trainable params: 42,023\n",
            "_________________________________________________________________\n"
          ]
        }
      ]
    },
    {
      "cell_type": "code",
      "source": [
        "model.compile(optimizer=tf.keras.optimizers.Adam(learning_rate=0.00001), loss=tf.keras.losses.CategoricalCrossentropy(), metrics=['accuracy'])"
      ],
      "metadata": {
        "id": "zGmjley8wXao"
      },
      "execution_count": null,
      "outputs": []
    },
    {
      "cell_type": "code",
      "source": [
        "early_stoper = tf.keras.callbacks.EarlyStopping(monitor='val_loss', patience=2)"
      ],
      "metadata": {
        "id": "nYtXvV2lRxXA"
      },
      "execution_count": null,
      "outputs": []
    },
    {
      "cell_type": "code",
      "source": [
        "with tf.device('/GPU:0'):\n",
        "    his = model.fit(train_ds, epochs=50, validation_data=val_ds, callbacks=[early_stoper])"
      ],
      "metadata": {
        "colab": {
          "base_uri": "https://localhost:8080/"
        },
        "id": "MhGmMYTvwal7",
        "outputId": "a71cd82a-a6f1-452a-a084-c427dd130daa"
      },
      "execution_count": null,
      "outputs": [
        {
          "output_type": "stream",
          "name": "stdout",
          "text": [
            "Epoch 1/50\n",
            "167/167 [==============================] - 127s 705ms/step - loss: 3.6515 - accuracy: 0.1271 - val_loss: 3.1841 - val_accuracy: 0.3497\n",
            "Epoch 2/50\n",
            "167/167 [==============================] - 116s 692ms/step - loss: 2.9738 - accuracy: 0.3375 - val_loss: 3.0827 - val_accuracy: 0.2922\n",
            "Epoch 3/50\n",
            "167/167 [==============================] - 114s 683ms/step - loss: 2.5212 - accuracy: 0.4279 - val_loss: 2.5652 - val_accuracy: 0.4189\n",
            "Epoch 4/50\n",
            "167/167 [==============================] - 114s 679ms/step - loss: 2.2287 - accuracy: 0.4860 - val_loss: 2.2193 - val_accuracy: 0.4510\n",
            "Epoch 5/50\n",
            "167/167 [==============================] - 115s 684ms/step - loss: 2.0236 - accuracy: 0.5196 - val_loss: 2.1646 - val_accuracy: 0.4730\n",
            "Epoch 6/50\n",
            "167/167 [==============================] - 115s 686ms/step - loss: 1.8658 - accuracy: 0.5582 - val_loss: 1.7087 - val_accuracy: 0.5760\n",
            "Epoch 7/50\n",
            "167/167 [==============================] - 115s 688ms/step - loss: 1.7647 - accuracy: 0.5666 - val_loss: 2.0021 - val_accuracy: 0.4899\n",
            "Epoch 8/50\n",
            "167/167 [==============================] - 115s 686ms/step - loss: 1.6323 - accuracy: 0.5967 - val_loss: 1.6685 - val_accuracy: 0.5693\n",
            "Epoch 9/50\n",
            "167/167 [==============================] - 115s 689ms/step - loss: 1.5699 - accuracy: 0.6069 - val_loss: 1.6830 - val_accuracy: 0.5676\n",
            "Epoch 10/50\n",
            "167/167 [==============================] - 114s 679ms/step - loss: 1.5174 - accuracy: 0.6103 - val_loss: 1.5531 - val_accuracy: 0.6115\n",
            "Epoch 11/50\n",
            "167/167 [==============================] - 115s 684ms/step - loss: 1.4478 - accuracy: 0.6298 - val_loss: 1.5801 - val_accuracy: 0.6098\n",
            "Epoch 12/50\n",
            "167/167 [==============================] - 115s 684ms/step - loss: 1.4095 - accuracy: 0.6300 - val_loss: 1.4180 - val_accuracy: 0.6385\n",
            "Epoch 13/50\n",
            "167/167 [==============================] - 116s 693ms/step - loss: 1.3689 - accuracy: 0.6358 - val_loss: 1.4088 - val_accuracy: 0.6385\n",
            "Epoch 14/50\n",
            "167/167 [==============================] - 117s 702ms/step - loss: 1.3113 - accuracy: 0.6556 - val_loss: 1.4712 - val_accuracy: 0.6149\n",
            "Epoch 15/50\n",
            "167/167 [==============================] - 117s 698ms/step - loss: 1.2928 - accuracy: 0.6537 - val_loss: 1.3227 - val_accuracy: 0.6520\n",
            "Epoch 16/50\n",
            "167/167 [==============================] - 117s 697ms/step - loss: 1.2474 - accuracy: 0.6652 - val_loss: 1.3253 - val_accuracy: 0.6622\n",
            "Epoch 17/50\n",
            "167/167 [==============================] - 118s 705ms/step - loss: 1.2080 - accuracy: 0.6721 - val_loss: 1.4890 - val_accuracy: 0.6098\n"
          ]
        }
      ]
    },
    {
      "cell_type": "code",
      "source": [
        "model.save('model_eff.h5')"
      ],
      "metadata": {
        "id": "G2D7YdkkB920"
      },
      "execution_count": null,
      "outputs": []
    },
    {
      "cell_type": "code",
      "source": [
        "model.compile(optimizer=tf.keras.optimizers.Adam(learning_rate=0.000005), loss=tf.keras.losses.CategoricalCrossentropy(), metrics=['accuracy'])"
      ],
      "metadata": {
        "id": "CD7DfRCajd09"
      },
      "execution_count": null,
      "outputs": []
    },
    {
      "cell_type": "code",
      "source": [
        "with tf.device('/GPU:0'):\n",
        "    his = model.fit(train_ds, epochs=50, validation_data=val_ds, callbacks=[early_stoper])"
      ],
      "metadata": {
        "colab": {
          "base_uri": "https://localhost:8080/"
        },
        "id": "_17T8uhkBOZs",
        "outputId": "085cbe2a-7816-43b6-e659-4608a581f567"
      },
      "execution_count": null,
      "outputs": [
        {
          "output_type": "stream",
          "name": "stdout",
          "text": [
            "Epoch 1/50\n",
            "167/167 [==============================] - 128s 711ms/step - loss: 1.2035 - accuracy: 0.6789 - val_loss: 1.2469 - val_accuracy: 0.6943\n",
            "Epoch 2/50\n",
            "167/167 [==============================] - 115s 687ms/step - loss: 1.1980 - accuracy: 0.6691 - val_loss: 1.3550 - val_accuracy: 0.6419\n",
            "Epoch 3/50\n",
            "167/167 [==============================] - 115s 686ms/step - loss: 1.1882 - accuracy: 0.6774 - val_loss: 1.2749 - val_accuracy: 0.6740\n"
          ]
        }
      ]
    },
    {
      "cell_type": "code",
      "source": [
        "model.compile(optimizer=tf.keras.optimizers.Adam(learning_rate=0.000001), loss=tf.keras.losses.CategoricalCrossentropy(), metrics=['accuracy'])"
      ],
      "metadata": {
        "id": "JBdpDscgljeJ"
      },
      "execution_count": null,
      "outputs": []
    },
    {
      "cell_type": "code",
      "source": [
        "with tf.device('/GPU:0'):\n",
        "    his = model.fit(train_ds, epochs=50, validation_data=val_ds, callbacks=[early_stoper])"
      ],
      "metadata": {
        "colab": {
          "base_uri": "https://localhost:8080/"
        },
        "id": "vKDzFDonlnNn",
        "outputId": "c09245e1-6aa0-48c7-9a52-7101ad02637e"
      },
      "execution_count": null,
      "outputs": [
        {
          "output_type": "stream",
          "name": "stdout",
          "text": [
            "Epoch 1/50\n",
            "167/167 [==============================] - 129s 713ms/step - loss: 1.1770 - accuracy: 0.6783 - val_loss: 1.1701 - val_accuracy: 0.6909\n",
            "Epoch 2/50\n",
            "167/167 [==============================] - 115s 688ms/step - loss: 1.1578 - accuracy: 0.6798 - val_loss: 1.1674 - val_accuracy: 0.6892\n",
            "Epoch 3/50\n",
            "167/167 [==============================] - 115s 686ms/step - loss: 1.1717 - accuracy: 0.6789 - val_loss: 1.2150 - val_accuracy: 0.6824\n",
            "Epoch 4/50\n",
            "167/167 [==============================] - 115s 687ms/step - loss: 1.1434 - accuracy: 0.6936 - val_loss: 1.2034 - val_accuracy: 0.6723\n"
          ]
        }
      ]
    },
    {
      "cell_type": "code",
      "source": [
        "plt.subplot(1,2,1)\n",
        "plt.plot(his.history['loss'])\n",
        "plt.plot(his.history['val_loss'])\n",
        "plt.subplot(1,2,2)\n",
        "plt.plot(his.history['accuracy'])\n",
        "plt.plot(his.history['val_accuracy'])\n",
        "plt.show()"
      ],
      "metadata": {
        "colab": {
          "base_uri": "https://localhost:8080/",
          "height": 265
        },
        "id": "8mtGgZjuAuKS",
        "outputId": "703c83e5-f537-4abb-a5aa-a2905532fce1"
      },
      "execution_count": null,
      "outputs": [
        {
          "output_type": "display_data",
          "data": {
            "text/plain": [
              "<Figure size 432x288 with 2 Axes>"
            ],
            "image/png": "[encoded data removed]"
          },
          "metadata": {
            "needs_background": "light"
          }
        }
      ]
    },
    {
      "cell_type": "markdown",
      "source": [
        "## efficientnetv2"
      ],
      "metadata": {
        "id": "ntUzkE6c3NfI"
      }
    },
    {
      "cell_type": "code",
      "source": [
        "pre_layer = tf.keras.applications.efficientnet_v2.preprocess_input\n",
        "base_model = tf.keras.applications.EfficientNetV2B0(include_top=False, input_shape=(img_size, img_size, 3))\n",
        "base_model.trainable = True"
      ],
      "metadata": {
        "colab": {
          "base_uri": "https://localhost:8080/"
        },
        "id": "-bF_eAUA3R-Z",
        "outputId": "7c92e045-6c24-42d6-ff7e-c97756ea9986"
      },
      "execution_count": null,
      "outputs": [
        {
          "output_type": "stream",
          "name": "stdout",
          "text": [
            "Downloading data from https://storage.googleapis.com/tensorflow/keras-applications/efficientnet_v2/efficientnetv2-b0_notop.h5\n",
            "24281088/24274472 [==============================] - 0s 0us/step\n",
            "24289280/24274472 [==============================] - 0s 0us/step\n"
          ]
        }
      ]
    },
    {
      "cell_type": "code",
      "source": [
        "def model_make2_1():\n",
        "    inputs = layers.Input(shape=(img_size, img_size, 3))\n",
        "    x = pre_layer(inputs)\n",
        "    x = base_model(x)\n",
        "\n",
        "    x = layers.GlobalAveragePooling2D()(x)\n",
        "    x = layers.Dense(1024, activation='relu')(x)\n",
        "    x = layers.Dropout(0.3)(x)\n",
        "    x = layers.Dense(512, activation='relu')(x)\n",
        "    x = layers.Dropout(0.4)(x)\n",
        "    outputs = layers.Dense(50, activation='softmax')(x)\n",
        "\n",
        "    model = tf.keras.Model(inputs, outputs)\n",
        "    return model"
      ],
      "metadata": {
        "id": "eMF5e3jT3aTh"
      },
      "execution_count": null,
      "outputs": []
    },
    {
      "cell_type": "code",
      "source": [
        "model = model_make2_1()\n",
        "model.summary()"
      ],
      "metadata": {
        "colab": {
          "base_uri": "https://localhost:8080/"
        },
        "id": "nFtfgRUS3dBy",
        "outputId": "014540f7-ac52-440d-9357-3f99753ea6cb"
      },
      "execution_count": null,
      "outputs": [
        {
          "output_type": "stream",
          "name": "stdout",
          "text": [
            "Model: \"model_4\"\n",
            "_________________________________________________________________\n",
            " Layer (type)                Output Shape              Param #   \n",
            "=================================================================\n",
            " input_8 (InputLayer)        [(None, 250, 250, 3)]     0         \n",
            "                                                                 \n",
            " efficientnetv2-b0 (Function  (None, 8, 8, 1280)       5919312   \n",
            " al)                                                             \n",
            "                                                                 \n",
            " global_average_pooling2d_4   (None, 1280)             0         \n",
            " (GlobalAveragePooling2D)                                        \n",
            "                                                                 \n",
            " dense_12 (Dense)            (None, 1024)              1311744   \n",
            "                                                                 \n",
            " dropout_8 (Dropout)         (None, 1024)              0         \n",
            "                                                                 \n",
            " dense_13 (Dense)            (None, 512)               524800    \n",
            "                                                                 \n",
            " dropout_9 (Dropout)         (None, 512)               0         \n",
            "                                                                 \n",
            " dense_14 (Dense)            (None, 50)                25650     \n",
            "                                                                 \n",
            "=================================================================\n",
            "Total params: 7,781,506\n",
            "Trainable params: 7,720,898\n",
            "Non-trainable params: 60,608\n",
            "_________________________________________________________________\n"
          ]
        }
      ]
    },
    {
      "cell_type": "code",
      "source": [
        "model.compile(optimizer=tf.keras.optimizers.Adam(learning_rate=0.00001), loss=tf.keras.losses.CategoricalCrossentropy(), metrics=['accuracy'])"
      ],
      "metadata": {
        "id": "66Z-4Q2S3g-9"
      },
      "execution_count": null,
      "outputs": []
    },
    {
      "cell_type": "code",
      "source": [
        "early_stoper = tf.keras.callbacks.EarlyStopping(monitor='val_loss', patience=2)"
      ],
      "metadata": {
        "id": "Ikx_FSIY3jO_"
      },
      "execution_count": null,
      "outputs": []
    },
    {
      "cell_type": "code",
      "source": [
        "with tf.device('/GPU:0'):\n",
        "    his = model.fit(train_ds, epochs=50, validation_data=val_ds, callbacks=[early_stoper])"
      ],
      "metadata": {
        "colab": {
          "base_uri": "https://localhost:8080/"
        },
        "id": "GdXqk9c_3lFN",
        "outputId": "f942c6f0-7899-4277-c212-15a780173d48"
      },
      "execution_count": null,
      "outputs": [
        {
          "output_type": "stream",
          "name": "stdout",
          "text": [
            "Epoch 1/50\n",
            "167/167 [==============================] - 174s 649ms/step - loss: 3.8552 - accuracy: 0.0519 - val_loss: 3.7725 - val_accuracy: 0.1267\n",
            "Epoch 2/50\n",
            "167/167 [==============================] - 105s 630ms/step - loss: 3.7102 - accuracy: 0.1203 - val_loss: 3.6335 - val_accuracy: 0.1672\n",
            "Epoch 3/50\n",
            "167/167 [==============================] - 104s 621ms/step - loss: 3.5569 - accuracy: 0.1504 - val_loss: 3.4774 - val_accuracy: 0.1757\n",
            "Epoch 4/50\n",
            "167/167 [==============================] - 106s 634ms/step - loss: 3.4056 - accuracy: 0.1664 - val_loss: 3.3432 - val_accuracy: 0.1807\n",
            "Epoch 5/50\n",
            "167/167 [==============================] - 106s 634ms/step - loss: 3.2845 - accuracy: 0.1810 - val_loss: 3.2110 - val_accuracy: 0.1943\n",
            "Epoch 6/50\n",
            "167/167 [==============================] - 105s 629ms/step - loss: 3.1916 - accuracy: 0.1991 - val_loss: 3.1167 - val_accuracy: 0.1993\n",
            "Epoch 7/50\n",
            "167/167 [==============================] - 106s 633ms/step - loss: 3.1153 - accuracy: 0.2134 - val_loss: 3.0311 - val_accuracy: 0.2128\n",
            "Epoch 8/50\n",
            "167/167 [==============================] - 105s 628ms/step - loss: 3.0267 - accuracy: 0.2324 - val_loss: 3.0154 - val_accuracy: 0.2399\n",
            "Epoch 9/50\n",
            "167/167 [==============================] - 105s 629ms/step - loss: 2.9640 - accuracy: 0.2469 - val_loss: 2.8638 - val_accuracy: 0.2686\n",
            "Epoch 10/50\n",
            "167/167 [==============================] - 105s 629ms/step - loss: 2.8849 - accuracy: 0.2649 - val_loss: 2.8274 - val_accuracy: 0.3007\n",
            "Epoch 11/50\n",
            "167/167 [==============================] - 104s 623ms/step - loss: 2.8253 - accuracy: 0.2784 - val_loss: 2.7556 - val_accuracy: 0.2956\n",
            "Epoch 12/50\n",
            "167/167 [==============================] - 105s 628ms/step - loss: 2.7688 - accuracy: 0.2927 - val_loss: 2.6749 - val_accuracy: 0.3226\n",
            "Epoch 13/50\n",
            "167/167 [==============================] - 105s 627ms/step - loss: 2.6906 - accuracy: 0.3051 - val_loss: 2.5711 - val_accuracy: 0.3429\n",
            "Epoch 14/50\n",
            "167/167 [==============================] - 104s 619ms/step - loss: 2.6090 - accuracy: 0.3207 - val_loss: 2.5768 - val_accuracy: 0.3429\n",
            "Epoch 15/50\n",
            "167/167 [==============================] - 105s 628ms/step - loss: 2.5700 - accuracy: 0.3399 - val_loss: 2.5131 - val_accuracy: 0.3530\n",
            "Epoch 16/50\n",
            "167/167 [==============================] - 104s 621ms/step - loss: 2.5079 - accuracy: 0.3371 - val_loss: 2.4398 - val_accuracy: 0.3699\n",
            "Epoch 17/50\n",
            "167/167 [==============================] - 105s 628ms/step - loss: 2.4690 - accuracy: 0.3636 - val_loss: 2.4013 - val_accuracy: 0.3902\n",
            "Epoch 18/50\n",
            "167/167 [==============================] - 105s 626ms/step - loss: 2.4041 - accuracy: 0.3728 - val_loss: 2.2958 - val_accuracy: 0.4240\n",
            "Epoch 19/50\n",
            "167/167 [==============================] - 104s 620ms/step - loss: 2.3459 - accuracy: 0.3875 - val_loss: 2.2901 - val_accuracy: 0.4206\n",
            "Epoch 20/50\n",
            "167/167 [==============================] - 105s 628ms/step - loss: 2.3147 - accuracy: 0.3988 - val_loss: 2.2732 - val_accuracy: 0.4172\n",
            "Epoch 21/50\n",
            "167/167 [==============================] - 104s 620ms/step - loss: 2.2720 - accuracy: 0.4040 - val_loss: 2.1968 - val_accuracy: 0.4274\n",
            "Epoch 22/50\n",
            "167/167 [==============================] - 106s 631ms/step - loss: 2.2129 - accuracy: 0.4200 - val_loss: 2.1551 - val_accuracy: 0.4375\n",
            "Epoch 23/50\n",
            "167/167 [==============================] - 105s 628ms/step - loss: 2.1664 - accuracy: 0.4317 - val_loss: 2.0923 - val_accuracy: 0.4544\n",
            "Epoch 24/50\n",
            "167/167 [==============================] - 104s 622ms/step - loss: 2.1026 - accuracy: 0.4490 - val_loss: 2.2064 - val_accuracy: 0.4122\n",
            "Epoch 25/50\n",
            "167/167 [==============================] - 105s 629ms/step - loss: 2.0839 - accuracy: 0.4520 - val_loss: 2.0304 - val_accuracy: 0.4561\n",
            "Epoch 26/50\n",
            "167/167 [==============================] - 104s 620ms/step - loss: 2.0480 - accuracy: 0.4572 - val_loss: 2.0526 - val_accuracy: 0.4510\n",
            "Epoch 27/50\n",
            "167/167 [==============================] - 105s 629ms/step - loss: 1.9955 - accuracy: 0.4663 - val_loss: 1.9600 - val_accuracy: 0.5034\n",
            "Epoch 28/50\n",
            "167/167 [==============================] - 105s 629ms/step - loss: 1.9609 - accuracy: 0.4732 - val_loss: 2.2477 - val_accuracy: 0.4155\n",
            "Epoch 29/50\n",
            "167/167 [==============================] - 104s 620ms/step - loss: 1.9189 - accuracy: 0.4886 - val_loss: 1.9077 - val_accuracy: 0.4899\n",
            "Epoch 30/50\n",
            "167/167 [==============================] - 105s 628ms/step - loss: 1.8998 - accuracy: 0.4909 - val_loss: 1.8612 - val_accuracy: 0.5101\n",
            "Epoch 31/50\n",
            "167/167 [==============================] - 105s 625ms/step - loss: 1.8417 - accuracy: 0.5080 - val_loss: 1.8304 - val_accuracy: 0.5321\n",
            "Epoch 32/50\n",
            "167/167 [==============================] - 103s 614ms/step - loss: 1.8144 - accuracy: 0.5012 - val_loss: 1.8694 - val_accuracy: 0.4814\n",
            "Epoch 33/50\n",
            "167/167 [==============================] - 104s 624ms/step - loss: 1.8059 - accuracy: 0.5010 - val_loss: 1.8196 - val_accuracy: 0.5372\n",
            "Epoch 34/50\n",
            "167/167 [==============================] - 103s 616ms/step - loss: 1.7790 - accuracy: 0.5206 - val_loss: 1.8052 - val_accuracy: 0.5017\n",
            "Epoch 35/50\n",
            "167/167 [==============================] - 104s 624ms/step - loss: 1.7719 - accuracy: 0.5198 - val_loss: 1.7543 - val_accuracy: 0.5270\n",
            "Epoch 36/50\n",
            "167/167 [==============================] - 104s 624ms/step - loss: 1.7285 - accuracy: 0.5321 - val_loss: 1.7402 - val_accuracy: 0.5372\n",
            "Epoch 37/50\n",
            "167/167 [==============================] - 103s 618ms/step - loss: 1.6930 - accuracy: 0.5398 - val_loss: 1.7276 - val_accuracy: 0.5524\n",
            "Epoch 38/50\n",
            "167/167 [==============================] - 104s 623ms/step - loss: 1.6855 - accuracy: 0.5349 - val_loss: 1.6506 - val_accuracy: 0.5743\n",
            "Epoch 39/50\n",
            "167/167 [==============================] - 103s 619ms/step - loss: 1.6318 - accuracy: 0.5608 - val_loss: 1.6871 - val_accuracy: 0.5642\n",
            "Epoch 40/50\n",
            "167/167 [==============================] - 105s 626ms/step - loss: 1.5832 - accuracy: 0.5655 - val_loss: 1.6468 - val_accuracy: 0.5861\n",
            "Epoch 41/50\n",
            "167/167 [==============================] - 105s 626ms/step - loss: 1.5866 - accuracy: 0.5672 - val_loss: 1.6650 - val_accuracy: 0.5338\n",
            "Epoch 42/50\n",
            "167/167 [==============================] - 104s 620ms/step - loss: 1.5629 - accuracy: 0.5702 - val_loss: 1.7326 - val_accuracy: 0.5372\n"
          ]
        }
      ]
    },
    {
      "cell_type": "code",
      "source": [
        "plt.subplot(1,2,1)\n",
        "plt.plot(his.history['loss'])\n",
        "plt.plot(his.history['val_loss'])\n",
        "plt.subplot(1,2,2)\n",
        "plt.plot(his.history['accuracy'])\n",
        "plt.plot(his.history['val_accuracy'])\n",
        "plt.show()"
      ],
      "metadata": {
        "colab": {
          "base_uri": "https://localhost:8080/",
          "height": 265
        },
        "id": "c2wlEGXpIrj_",
        "outputId": "d919f59e-9e05-4375-df3e-885ae675f753"
      },
      "execution_count": null,
      "outputs": [
        {
          "output_type": "display_data",
          "data": {
            "text/plain": [
              "<Figure size 432x288 with 2 Axes>"
            ],
            "image/png": "[encoded data removed]"
          },
          "metadata": {
            "needs_background": "light"
          }
        }
      ]
    },
    {
      "cell_type": "code",
      "source": [
        "pre_layer = tf.keras.applications.efficientnet_v2.preprocess_input\n",
        "base_model = tf.keras.applications.EfficientNetV2B1(include_top=False, input_shape=(img_size, img_size, 3))\n",
        "base_model.trainable = True"
      ],
      "metadata": {
        "colab": {
          "base_uri": "https://localhost:8080/"
        },
        "id": "LZWZNQDRAa5R",
        "outputId": "e3f2a59c-edd5-4c55-fd2d-d9024dd48e86"
      },
      "execution_count": null,
      "outputs": [
        {
          "output_type": "stream",
          "name": "stdout",
          "text": [
            "Downloading data from https://storage.googleapis.com/tensorflow/keras-applications/efficientnet_v2/efficientnetv2-b1_notop.h5\n",
            "28456008/28456008 [==============================] - 0s 0us/step\n"
          ]
        }
      ]
    },
    {
      "cell_type": "code",
      "source": [
        "def model_make2_2():\n",
        "    inputs = layers.Input(shape=(img_size, img_size, 3))\n",
        "    x = pre_layer(inputs)\n",
        "    x = base_model(x)\n",
        "\n",
        "    x = layers.GlobalAveragePooling2D()(x)\n",
        "    x = layers.Dense(1024, activation='relu')(x)\n",
        "    x = layers.Dropout(0.3)(x)\n",
        "    x = layers.Dense(512, activation='relu')(x)\n",
        "    x = layers.Dropout(0.4)(x)\n",
        "    outputs = layers.Dense(50, activation='softmax')(x)\n",
        "\n",
        "    model = tf.keras.Model(inputs, outputs)\n",
        "    return model"
      ],
      "metadata": {
        "id": "6MmXkeazAjgt"
      },
      "execution_count": null,
      "outputs": []
    },
    {
      "cell_type": "code",
      "source": [
        "model = model_make2_2()\n",
        "model.summary()"
      ],
      "metadata": {
        "colab": {
          "base_uri": "https://localhost:8080/"
        },
        "id": "g93qf0dVAnr3",
        "outputId": "2064987b-f53a-449d-c0cf-dd8b9f77e24f"
      },
      "execution_count": null,
      "outputs": [
        {
          "output_type": "stream",
          "name": "stdout",
          "text": [
            "Model: \"model\"\n",
            "_________________________________________________________________\n",
            " Layer (type)                Output Shape              Param #   \n",
            "=================================================================\n",
            " input_2 (InputLayer)        [(None, 250, 250, 3)]     0         \n",
            "                                                                 \n",
            " efficientnetv2-b1 (Function  (None, 8, 8, 1280)       6931124   \n",
            " al)                                                             \n",
            "                                                                 \n",
            " global_average_pooling2d (G  (None, 1280)             0         \n",
            " lobalAveragePooling2D)                                          \n",
            "                                                                 \n",
            " dense (Dense)               (None, 1024)              1311744   \n",
            "                                                                 \n",
            " dropout (Dropout)           (None, 1024)              0         \n",
            "                                                                 \n",
            " dense_1 (Dense)             (None, 512)               524800    \n",
            "                                                                 \n",
            " dropout_1 (Dropout)         (None, 512)               0         \n",
            "                                                                 \n",
            " dense_2 (Dense)             (None, 50)                25650     \n",
            "                                                                 \n",
            "=================================================================\n",
            "Total params: 8,793,318\n",
            "Trainable params: 8,722,246\n",
            "Non-trainable params: 71,072\n",
            "_________________________________________________________________\n"
          ]
        }
      ]
    },
    {
      "cell_type": "code",
      "source": [
        "model.compile(optimizer=tf.keras.optimizers.Adam(learning_rate=0.00001), loss=tf.keras.losses.CategoricalCrossentropy(), metrics=tfa.metrics.F1Score(num_classes=50, average='macro'))"
      ],
      "metadata": {
        "id": "KFeduhfGAqWQ"
      },
      "execution_count": null,
      "outputs": []
    },
    {
      "cell_type": "code",
      "source": [
        "early_stoper = tf.keras.callbacks.EarlyStopping(monitor='val_loss', patience=3)\n",
        "reduce_lr = tf.keras.callbacks.ReduceLROnPlateau(monitor='val_loss', patience=2)"
      ],
      "metadata": {
        "id": "Ghwuh3KTAu7a"
      },
      "execution_count": null,
      "outputs": []
    },
    {
      "cell_type": "code",
      "source": [
        "with tf.device('/GPU:0'):\n",
        "    his = model.fit(train_ds, epochs=50, validation_data=val_ds, callbacks=[early_stoper, reduce_lr])"
      ],
      "metadata": {
        "colab": {
          "base_uri": "https://localhost:8080/"
        },
        "id": "IBMKvPSKBnUU",
        "outputId": "620529ab-129a-4a40-f875-d4c91893035a"
      },
      "execution_count": null,
      "outputs": [
        {
          "output_type": "stream",
          "name": "stdout",
          "text": [
            "Epoch 1/50\n",
            "167/167 [==============================] - 142s 707ms/step - loss: 3.9084 - f1_score: 0.0153 - val_loss: 3.8294 - val_f1_score: 0.0113 - lr: 1.0000e-05\n",
            "Epoch 2/50\n",
            "167/167 [==============================] - 113s 675ms/step - loss: 3.7960 - f1_score: 0.0209 - val_loss: 3.7054 - val_f1_score: 0.0211 - lr: 1.0000e-05\n",
            "Epoch 3/50\n",
            "167/167 [==============================] - 114s 681ms/step - loss: 3.6677 - f1_score: 0.0196 - val_loss: 3.5743 - val_f1_score: 0.0183 - lr: 1.0000e-05\n",
            "Epoch 4/50\n",
            "167/167 [==============================] - 112s 669ms/step - loss: 3.5550 - f1_score: 0.0212 - val_loss: 3.4802 - val_f1_score: 0.0231 - lr: 1.0000e-05\n",
            "Epoch 5/50\n",
            "167/167 [==============================] - 111s 663ms/step - loss: 3.4913 - f1_score: 0.0229 - val_loss: 3.4058 - val_f1_score: 0.0320 - lr: 1.0000e-05\n",
            "Epoch 6/50\n",
            "167/167 [==============================] - 109s 655ms/step - loss: 3.3899 - f1_score: 0.0317 - val_loss: 3.3125 - val_f1_score: 0.0345 - lr: 1.0000e-05\n",
            "Epoch 7/50\n",
            "167/167 [==============================] - 110s 656ms/step - loss: 3.3359 - f1_score: 0.0361 - val_loss: 3.2328 - val_f1_score: 0.0398 - lr: 1.0000e-05\n",
            "Epoch 8/50\n",
            "167/167 [==============================] - 110s 659ms/step - loss: 3.2701 - f1_score: 0.0456 - val_loss: 3.1792 - val_f1_score: 0.0474 - lr: 1.0000e-05\n",
            "Epoch 9/50\n",
            "167/167 [==============================] - 110s 657ms/step - loss: 3.2054 - f1_score: 0.0495 - val_loss: 3.0820 - val_f1_score: 0.0505 - lr: 1.0000e-05\n",
            "Epoch 10/50\n",
            "167/167 [==============================] - 110s 656ms/step - loss: 3.1540 - f1_score: 0.0568 - val_loss: 3.0685 - val_f1_score: 0.0597 - lr: 1.0000e-05\n",
            "Epoch 11/50\n",
            "167/167 [==============================] - 110s 656ms/step - loss: 3.0965 - f1_score: 0.0616 - val_loss: 2.9910 - val_f1_score: 0.0630 - lr: 1.0000e-05\n",
            "Epoch 12/50\n",
            "167/167 [==============================] - 110s 656ms/step - loss: 3.0480 - f1_score: 0.0693 - val_loss: 2.9618 - val_f1_score: 0.0680 - lr: 1.0000e-05\n",
            "Epoch 13/50\n",
            "167/167 [==============================] - 109s 652ms/step - loss: 2.9924 - f1_score: 0.0781 - val_loss: 2.9202 - val_f1_score: 0.0808 - lr: 1.0000e-05\n",
            "Epoch 14/50\n",
            "167/167 [==============================] - 110s 655ms/step - loss: 2.9475 - f1_score: 0.0829 - val_loss: 2.9049 - val_f1_score: 0.0789 - lr: 1.0000e-05\n",
            "Epoch 15/50\n",
            "167/167 [==============================] - 109s 654ms/step - loss: 2.9010 - f1_score: 0.0877 - val_loss: 2.8449 - val_f1_score: 0.0863 - lr: 1.0000e-05\n",
            "Epoch 16/50\n",
            "167/167 [==============================] - 108s 648ms/step - loss: 2.8345 - f1_score: 0.0989 - val_loss: 2.7323 - val_f1_score: 0.1000 - lr: 1.0000e-05\n",
            "Epoch 17/50\n",
            "167/167 [==============================] - 109s 652ms/step - loss: 2.7939 - f1_score: 0.1008 - val_loss: 2.7140 - val_f1_score: 0.1007 - lr: 1.0000e-05\n",
            "Epoch 18/50\n",
            "167/167 [==============================] - 109s 652ms/step - loss: 2.7503 - f1_score: 0.1073 - val_loss: 2.6765 - val_f1_score: 0.1025 - lr: 1.0000e-05\n",
            "Epoch 19/50\n",
            "167/167 [==============================] - 109s 650ms/step - loss: 2.7048 - f1_score: 0.1235 - val_loss: 2.6056 - val_f1_score: 0.1203 - lr: 1.0000e-05\n",
            "Epoch 20/50\n",
            "167/167 [==============================] - 110s 655ms/step - loss: 2.6580 - f1_score: 0.1259 - val_loss: 2.5591 - val_f1_score: 0.1128 - lr: 1.0000e-05\n",
            "Epoch 21/50\n",
            "167/167 [==============================] - 109s 653ms/step - loss: 2.6079 - f1_score: 0.1390 - val_loss: 2.5786 - val_f1_score: 0.1358 - lr: 1.0000e-05\n",
            "Epoch 22/50\n",
            "167/167 [==============================] - 110s 655ms/step - loss: 2.5684 - f1_score: 0.1476 - val_loss: 2.5425 - val_f1_score: 0.1262 - lr: 1.0000e-05\n",
            "Epoch 23/50\n",
            "167/167 [==============================] - 109s 652ms/step - loss: 2.5379 - f1_score: 0.1583 - val_loss: 2.4252 - val_f1_score: 0.1564 - lr: 1.0000e-05\n",
            "Epoch 24/50\n",
            "167/167 [==============================] - 109s 653ms/step - loss: 2.5316 - f1_score: 0.1569 - val_loss: 2.4079 - val_f1_score: 0.1790 - lr: 1.0000e-05\n",
            "Epoch 25/50\n",
            "167/167 [==============================] - 110s 655ms/step - loss: 2.4670 - f1_score: 0.1734 - val_loss: 2.4468 - val_f1_score: 0.1596 - lr: 1.0000e-05\n",
            "Epoch 26/50\n",
            "167/167 [==============================] - 109s 655ms/step - loss: 2.4203 - f1_score: 0.1839 - val_loss: 2.3600 - val_f1_score: 0.1727 - lr: 1.0000e-05\n",
            "Epoch 27/50\n",
            "167/167 [==============================] - 107s 642ms/step - loss: 2.3971 - f1_score: 0.1827 - val_loss: 2.2954 - val_f1_score: 0.1827 - lr: 1.0000e-05\n",
            "Epoch 28/50\n",
            "167/167 [==============================] - 109s 651ms/step - loss: 2.3497 - f1_score: 0.2027 - val_loss: 2.3140 - val_f1_score: 0.2003 - lr: 1.0000e-05\n",
            "Epoch 29/50\n",
            "167/167 [==============================] - 107s 641ms/step - loss: 2.3171 - f1_score: 0.1998 - val_loss: 2.2753 - val_f1_score: 0.2020 - lr: 1.0000e-05\n",
            "Epoch 30/50\n",
            "167/167 [==============================] - 109s 651ms/step - loss: 2.3270 - f1_score: 0.2052 - val_loss: 2.2778 - val_f1_score: 0.1966 - lr: 1.0000e-05\n",
            "Epoch 31/50\n",
            "167/167 [==============================] - 109s 652ms/step - loss: 2.2528 - f1_score: 0.2236 - val_loss: 2.2012 - val_f1_score: 0.2165 - lr: 1.0000e-05\n",
            "Epoch 32/50\n",
            "167/167 [==============================] - 109s 651ms/step - loss: 2.2461 - f1_score: 0.2184 - val_loss: 2.2247 - val_f1_score: 0.2058 - lr: 1.0000e-05\n",
            "Epoch 33/50\n",
            "167/167 [==============================] - 110s 658ms/step - loss: 2.2278 - f1_score: 0.2235 - val_loss: 2.1984 - val_f1_score: 0.2095 - lr: 1.0000e-05\n",
            "Epoch 34/50\n",
            "167/167 [==============================] - 110s 660ms/step - loss: 2.1941 - f1_score: 0.2302 - val_loss: 2.2339 - val_f1_score: 0.2247 - lr: 1.0000e-05\n",
            "Epoch 35/50\n",
            "167/167 [==============================] - 111s 661ms/step - loss: 2.1773 - f1_score: 0.2333 - val_loss: 2.1374 - val_f1_score: 0.2476 - lr: 1.0000e-05\n",
            "Epoch 36/50\n",
            "167/167 [==============================] - 111s 661ms/step - loss: 2.1308 - f1_score: 0.2510 - val_loss: 2.1487 - val_f1_score: 0.2220 - lr: 1.0000e-05\n",
            "Epoch 37/50\n",
            "167/167 [==============================] - 111s 662ms/step - loss: 2.1021 - f1_score: 0.2622 - val_loss: 2.0833 - val_f1_score: 0.2597 - lr: 1.0000e-05\n",
            "Epoch 38/50\n",
            "167/167 [==============================] - 111s 665ms/step - loss: 2.0735 - f1_score: 0.2672 - val_loss: 2.0294 - val_f1_score: 0.2821 - lr: 1.0000e-05\n",
            "Epoch 39/50\n",
            "167/167 [==============================] - 110s 656ms/step - loss: 2.0768 - f1_score: 0.2608 - val_loss: 2.1241 - val_f1_score: 0.2577 - lr: 1.0000e-05\n",
            "Epoch 40/50\n",
            "167/167 [==============================] - 112s 668ms/step - loss: 2.0507 - f1_score: 0.2765 - val_loss: 2.0544 - val_f1_score: 0.2826 - lr: 1.0000e-05\n",
            "Epoch 41/50\n",
            "167/167 [==============================] - 111s 662ms/step - loss: 2.0265 - f1_score: 0.2730 - val_loss: 1.9819 - val_f1_score: 0.2781 - lr: 1.0000e-06\n",
            "Epoch 42/50\n",
            "167/167 [==============================] - 111s 664ms/step - loss: 2.0153 - f1_score: 0.2732 - val_loss: 1.9874 - val_f1_score: 0.2755 - lr: 1.0000e-06\n",
            "Epoch 43/50\n",
            "167/167 [==============================] - 112s 668ms/step - loss: 1.9969 - f1_score: 0.2855 - val_loss: 1.9322 - val_f1_score: 0.2650 - lr: 1.0000e-06\n",
            "Epoch 44/50\n",
            "167/167 [==============================] - 112s 670ms/step - loss: 2.0170 - f1_score: 0.2729 - val_loss: 1.9518 - val_f1_score: 0.3032 - lr: 1.0000e-06\n",
            "Epoch 45/50\n",
            "167/167 [==============================] - 110s 660ms/step - loss: 2.0300 - f1_score: 0.2785 - val_loss: 1.9401 - val_f1_score: 0.2943 - lr: 1.0000e-06\n",
            "Epoch 46/50\n",
            "167/167 [==============================] - 110s 659ms/step - loss: 2.0126 - f1_score: 0.2884 - val_loss: 1.9625 - val_f1_score: 0.2850 - lr: 1.0000e-07\n"
          ]
        }
      ]
    },
    {
      "cell_type": "code",
      "source": [
        "def model_make2_3():\n",
        "    inputs = layers.Input(shape=(img_size, img_size, 3))\n",
        "    x = pre_layer(inputs)\n",
        "    x = base_model(x)\n",
        "\n",
        "    x = layers.GlobalAveragePooling2D()(x)\n",
        "    x = layers.Dense(2048, activation='relu')(x)\n",
        "    x = layers.Dropout(0.3)(x)\n",
        "    x = layers.Dense(1024, activation='relu')(x)\n",
        "    x = layers.Dropout(0.4)(x)\n",
        "    outputs = layers.Dense(50, activation='softmax')(x)\n",
        "\n",
        "    model = tf.keras.Model(inputs, outputs)\n",
        "    return model"
      ],
      "metadata": {
        "id": "nP1wzFCbVfhF"
      },
      "execution_count": null,
      "outputs": []
    },
    {
      "cell_type": "code",
      "source": [
        "model = model_make2_3()\n",
        "model.summary()"
      ],
      "metadata": {
        "colab": {
          "base_uri": "https://localhost:8080/"
        },
        "id": "KYaICQIoVx1h",
        "outputId": "64facb9e-c715-4ddb-8c9a-20db15ec80d1"
      },
      "execution_count": null,
      "outputs": [
        {
          "output_type": "stream",
          "name": "stdout",
          "text": [
            "Model: \"model_1\"\n",
            "_________________________________________________________________\n",
            " Layer (type)                Output Shape              Param #   \n",
            "=================================================================\n",
            " input_3 (InputLayer)        [(None, 250, 250, 3)]     0         \n",
            "                                                                 \n",
            " efficientnetv2-b1 (Function  (None, 8, 8, 1280)       6931124   \n",
            " al)                                                             \n",
            "                                                                 \n",
            " global_average_pooling2d_1   (None, 1280)             0         \n",
            " (GlobalAveragePooling2D)                                        \n",
            "                                                                 \n",
            " dense_3 (Dense)             (None, 2048)              2623488   \n",
            "                                                                 \n",
            " dropout_2 (Dropout)         (None, 2048)              0         \n",
            "                                                                 \n",
            " dense_4 (Dense)             (None, 1024)              2098176   \n",
            "                                                                 \n",
            " dropout_3 (Dropout)         (None, 1024)              0         \n",
            "                                                                 \n",
            " dense_5 (Dense)             (None, 50)                51250     \n",
            "                                                                 \n",
            "=================================================================\n",
            "Total params: 11,704,038\n",
            "Trainable params: 11,632,966\n",
            "Non-trainable params: 71,072\n",
            "_________________________________________________________________\n"
          ]
        }
      ]
    },
    {
      "cell_type": "code",
      "source": [
        "model.compile(optimizer=tf.keras.optimizers.Adam(learning_rate=0.00005), loss=tf.keras.losses.CategoricalCrossentropy(), metrics=tfa.metrics.F1Score(num_classes=50, average='macro'))\n",
        "early_stoper = tf.keras.callbacks.EarlyStopping(monitor='val_loss', patience=3)\n",
        "reduce_lr = tf.keras.callbacks.ReduceLROnPlateau(monitor='val_loss', patience=2, verbose=1)\n",
        "with tf.device('/GPU:0'):\n",
        "    his = model.fit(train_ds, epochs=50, validation_data=val_ds, callbacks=[early_stoper, reduce_lr])"
      ],
      "metadata": {
        "colab": {
          "base_uri": "https://localhost:8080/"
        },
        "id": "iQIjfkDdV3U4",
        "outputId": "e3a12e25-fb3c-4084-ce10-4c198f838a2b"
      },
      "execution_count": null,
      "outputs": [
        {
          "output_type": "stream",
          "name": "stdout",
          "text": [
            "Epoch 1/50\n",
            "167/167 [==============================] - 126s 674ms/step - loss: 3.0735 - f1_score: 0.0875 - val_loss: 2.8352 - val_f1_score: 0.1362 - lr: 5.0000e-05\n",
            "Epoch 2/50\n",
            "167/167 [==============================] - 108s 646ms/step - loss: 2.2876 - f1_score: 0.2104 - val_loss: 2.3993 - val_f1_score: 0.2336 - lr: 5.0000e-05\n",
            "Epoch 3/50\n",
            "167/167 [==============================] - 108s 646ms/step - loss: 1.9807 - f1_score: 0.2880 - val_loss: 3.6023 - val_f1_score: 0.0701 - lr: 5.0000e-05\n",
            "Epoch 4/50\n",
            "167/167 [==============================] - ETA: 0s - loss: 1.7950 - f1_score: 0.3434\n",
            "Epoch 4: ReduceLROnPlateau reducing learning rate to 4.999999873689376e-06.\n",
            "167/167 [==============================] - 108s 646ms/step - loss: 1.7950 - f1_score: 0.3434 - val_loss: 3.2876 - val_f1_score: 0.1506 - lr: 5.0000e-05\n",
            "Epoch 5/50\n",
            "167/167 [==============================] - 108s 645ms/step - loss: 1.6528 - f1_score: 0.3786 - val_loss: 1.6498 - val_f1_score: 0.3849 - lr: 5.0000e-06\n",
            "Epoch 6/50\n",
            "167/167 [==============================] - 108s 645ms/step - loss: 1.6111 - f1_score: 0.3814 - val_loss: 1.6120 - val_f1_score: 0.3695 - lr: 5.0000e-06\n",
            "Epoch 7/50\n",
            "167/167 [==============================] - 107s 638ms/step - loss: 1.5813 - f1_score: 0.3849 - val_loss: 1.6206 - val_f1_score: 0.3908 - lr: 5.0000e-06\n",
            "Epoch 8/50\n",
            "167/167 [==============================] - ETA: 0s - loss: 1.5604 - f1_score: 0.4058\n",
            "Epoch 8: ReduceLROnPlateau reducing learning rate to 4.999999873689376e-07.\n",
            "167/167 [==============================] - 109s 651ms/step - loss: 1.5604 - f1_score: 0.4058 - val_loss: 1.6159 - val_f1_score: 0.3837 - lr: 5.0000e-06\n",
            "Epoch 9/50\n",
            "167/167 [==============================] - 108s 644ms/step - loss: 1.5429 - f1_score: 0.3995 - val_loss: 1.5839 - val_f1_score: 0.3876 - lr: 5.0000e-07\n",
            "Epoch 10/50\n",
            "167/167 [==============================] - 107s 641ms/step - loss: 1.5490 - f1_score: 0.4010 - val_loss: 1.6045 - val_f1_score: 0.3903 - lr: 5.0000e-07\n",
            "Epoch 11/50\n",
            "167/167 [==============================] - ETA: 0s - loss: 1.5676 - f1_score: 0.3946\n",
            "Epoch 11: ReduceLROnPlateau reducing learning rate to 4.999999987376214e-08.\n",
            "167/167 [==============================] - 107s 639ms/step - loss: 1.5676 - f1_score: 0.3946 - val_loss: 1.5880 - val_f1_score: 0.3836 - lr: 5.0000e-07\n",
            "Epoch 12/50\n",
            "167/167 [==============================] - 107s 642ms/step - loss: 1.5516 - f1_score: 0.3971 - val_loss: 1.5996 - val_f1_score: 0.3823 - lr: 5.0000e-08\n"
          ]
        }
      ]
    },
    {
      "cell_type": "code",
      "source": [
        "pre_layer = tf.keras.applications.efficientnet_v2.preprocess_input\n",
        "base_model = tf.keras.applications.EfficientNetV2B2(include_top=False, input_shape=(img_size, img_size, 3))\n",
        "base_model.trainable = True"
      ],
      "metadata": {
        "id": "MWGAClVBeZUu"
      },
      "execution_count": null,
      "outputs": []
    },
    {
      "cell_type": "code",
      "source": [
        "def model_make2_4():\n",
        "    inputs = layers.Input(shape=(img_size, img_size, 3))\n",
        "    x = pre_layer(inputs)\n",
        "    x = base_model(x)\n",
        "\n",
        "    x = layers.GlobalAveragePooling2D()(x)\n",
        "    x = layers.Dense(2048, activation='relu')(x)\n",
        "    x = layers.Dropout(0.3)(x)\n",
        "    outputs = layers.Dense(50, activation='softmax')(x)\n",
        "\n",
        "    model = tf.keras.Model(inputs, outputs)\n",
        "    return model"
      ],
      "metadata": {
        "id": "PRQKyRCGcKNE"
      },
      "execution_count": null,
      "outputs": []
    },
    {
      "cell_type": "code",
      "source": [
        "model = model_make2_4()\n",
        "model.summary()"
      ],
      "metadata": {
        "colab": {
          "base_uri": "https://localhost:8080/"
        },
        "id": "3U0dV5EmcNie",
        "outputId": "805ad7a7-0286-4542-838c-51d2ab900fdf"
      },
      "execution_count": null,
      "outputs": [
        {
          "output_type": "stream",
          "name": "stdout",
          "text": [
            "Model: \"model_7\"\n",
            "_________________________________________________________________\n",
            " Layer (type)                Output Shape              Param #   \n",
            "=================================================================\n",
            " input_12 (InputLayer)       [(None, 300, 300, 3)]     0         \n",
            "                                                                 \n",
            " efficientnetv2-b2 (Function  (None, 10, 10, 1408)     8769374   \n",
            " al)                                                             \n",
            "                                                                 \n",
            " global_average_pooling2d_7   (None, 1408)             0         \n",
            " (GlobalAveragePooling2D)                                        \n",
            "                                                                 \n",
            " dense_16 (Dense)            (None, 2048)              2885632   \n",
            "                                                                 \n",
            " dropout_9 (Dropout)         (None, 2048)              0         \n",
            "                                                                 \n",
            " dense_17 (Dense)            (None, 50)                102450    \n",
            "                                                                 \n",
            "=================================================================\n",
            "Total params: 11,757,456\n",
            "Trainable params: 11,675,168\n",
            "Non-trainable params: 82,288\n",
            "_________________________________________________________________\n"
          ]
        }
      ]
    },
    {
      "cell_type": "code",
      "source": [
        "model.compile(optimizer=tf.keras.optimizers.Adam(learning_rate=0.00005), loss=tf.keras.losses.CategoricalCrossentropy(), metrics=tfa.metrics.F1Score(num_classes=50, average='macro'))\n",
        "early_stoper = tf.keras.callbacks.EarlyStopping(monitor='val_loss', patience=3)\n",
        "reduce_lr = tf.keras.callbacks.ReduceLROnPlateau(monitor='val_loss', patience=2, verbose=1,factor=0.5)\n",
        "with tf.device('/GPU:0'):\n",
        "    his = model.fit(train_ds, epochs=50, validation_data=val_ds, callbacks=[early_stoper, reduce_lr])"
      ],
      "metadata": {
        "colab": {
          "base_uri": "https://localhost:8080/"
        },
        "id": "cfTZed13cQ3u",
        "outputId": "a7b740e6-d6bc-4f18-e5d3-0851566ae112"
      },
      "execution_count": null,
      "outputs": [
        {
          "output_type": "stream",
          "name": "stdout",
          "text": [
            "Epoch 1/50\n",
            "167/167 [==============================] - 188s 748ms/step - loss: 3.5105 - f1_score: 0.0316 - val_loss: 3.1140 - val_f1_score: 0.0597 - lr: 5.0000e-05\n",
            "Epoch 2/50\n",
            "167/167 [==============================] - 121s 725ms/step - loss: 2.8981 - f1_score: 0.0876 - val_loss: 2.6703 - val_f1_score: 0.1317 - lr: 5.0000e-05\n",
            "Epoch 3/50\n",
            "167/167 [==============================] - 120s 719ms/step - loss: 2.4303 - f1_score: 0.1818 - val_loss: 2.4969 - val_f1_score: 0.1881 - lr: 5.0000e-05\n",
            "Epoch 4/50\n",
            "167/167 [==============================] - 122s 727ms/step - loss: 2.0601 - f1_score: 0.2768 - val_loss: 2.7915 - val_f1_score: 0.1464 - lr: 5.0000e-05\n",
            "Epoch 5/50\n",
            "167/167 [==============================] - 122s 731ms/step - loss: 1.7879 - f1_score: 0.3498 - val_loss: 1.9137 - val_f1_score: 0.3255 - lr: 5.0000e-05\n",
            "Epoch 6/50\n",
            "167/167 [==============================] - 122s 731ms/step - loss: 1.5518 - f1_score: 0.4239 - val_loss: 1.7010 - val_f1_score: 0.3664 - lr: 5.0000e-05\n",
            "Epoch 7/50\n",
            "167/167 [==============================] - 122s 730ms/step - loss: 1.3575 - f1_score: 0.5045 - val_loss: 1.4509 - val_f1_score: 0.4402 - lr: 5.0000e-05\n",
            "Epoch 8/50\n",
            "167/167 [==============================] - 122s 730ms/step - loss: 1.2108 - f1_score: 0.5532 - val_loss: 2.3815 - val_f1_score: 0.2268 - lr: 5.0000e-05\n",
            "Epoch 9/50\n",
            "167/167 [==============================] - ETA: 0s - loss: 1.0664 - f1_score: 0.6015\n",
            "Epoch 9: ReduceLROnPlateau reducing learning rate to 2.499999936844688e-05.\n",
            "167/167 [==============================] - 123s 733ms/step - loss: 1.0664 - f1_score: 0.6015 - val_loss: 1.8757 - val_f1_score: 0.3675 - lr: 5.0000e-05\n",
            "Epoch 10/50\n",
            "167/167 [==============================] - 121s 724ms/step - loss: 0.9661 - f1_score: 0.6357 - val_loss: 1.1862 - val_f1_score: 0.5515 - lr: 2.5000e-05\n",
            "Epoch 11/50\n",
            "167/167 [==============================] - 122s 727ms/step - loss: 0.8810 - f1_score: 0.6780 - val_loss: 1.2878 - val_f1_score: 0.5266 - lr: 2.5000e-05\n",
            "Epoch 12/50\n",
            "167/167 [==============================] - ETA: 0s - loss: 0.8474 - f1_score: 0.6945\n",
            "Epoch 12: ReduceLROnPlateau reducing learning rate to 1.249999968422344e-05.\n",
            "167/167 [==============================] - 121s 726ms/step - loss: 0.8474 - f1_score: 0.6945 - val_loss: 1.2594 - val_f1_score: 0.5261 - lr: 2.5000e-05\n",
            "Epoch 13/50\n",
            "167/167 [==============================] - 123s 734ms/step - loss: 0.7663 - f1_score: 0.7194 - val_loss: 1.1860 - val_f1_score: 0.5521 - lr: 1.2500e-05\n",
            "Epoch 14/50\n",
            "167/167 [==============================] - 122s 728ms/step - loss: 0.7401 - f1_score: 0.7282 - val_loss: 1.0771 - val_f1_score: 0.5958 - lr: 1.2500e-05\n",
            "Epoch 15/50\n",
            "167/167 [==============================] - 122s 730ms/step - loss: 0.7222 - f1_score: 0.7252 - val_loss: 1.1606 - val_f1_score: 0.5629 - lr: 1.2500e-05\n",
            "Epoch 16/50\n",
            "167/167 [==============================] - 121s 722ms/step - loss: 0.7024 - f1_score: 0.7494 - val_loss: 1.0704 - val_f1_score: 0.5553 - lr: 1.2500e-05\n",
            "Epoch 17/50\n",
            "167/167 [==============================] - 122s 729ms/step - loss: 0.6920 - f1_score: 0.7442 - val_loss: 1.0712 - val_f1_score: 0.5776 - lr: 1.2500e-05\n",
            "Epoch 18/50\n",
            "167/167 [==============================] - 122s 730ms/step - loss: 0.6641 - f1_score: 0.7517 - val_loss: 1.0494 - val_f1_score: 0.6140 - lr: 1.2500e-05\n",
            "Epoch 19/50\n",
            "167/167 [==============================] - 122s 728ms/step - loss: 0.6420 - f1_score: 0.7614 - val_loss: 1.2043 - val_f1_score: 0.5667 - lr: 1.2500e-05\n",
            "Epoch 20/50\n",
            "167/167 [==============================] - 122s 728ms/step - loss: 0.6302 - f1_score: 0.7703 - val_loss: 1.0259 - val_f1_score: 0.5973 - lr: 1.2500e-05\n",
            "Epoch 21/50\n",
            "167/167 [==============================] - 122s 728ms/step - loss: 0.5951 - f1_score: 0.7817 - val_loss: 1.0183 - val_f1_score: 0.6151 - lr: 1.2500e-05\n",
            "Epoch 22/50\n",
            "167/167 [==============================] - 121s 726ms/step - loss: 0.5973 - f1_score: 0.7761 - val_loss: 0.9976 - val_f1_score: 0.6262 - lr: 1.2500e-05\n",
            "Epoch 23/50\n",
            "167/167 [==============================] - 122s 726ms/step - loss: 0.5885 - f1_score: 0.7753 - val_loss: 1.0562 - val_f1_score: 0.6214 - lr: 1.2500e-05\n",
            "Epoch 24/50\n",
            "167/167 [==============================] - ETA: 0s - loss: 0.5519 - f1_score: 0.7920\n",
            "Epoch 24: ReduceLROnPlateau reducing learning rate to 6.24999984211172e-06.\n",
            "167/167 [==============================] - 122s 727ms/step - loss: 0.5519 - f1_score: 0.7920 - val_loss: 1.0622 - val_f1_score: 0.5767 - lr: 1.2500e-05\n",
            "Epoch 25/50\n",
            "167/167 [==============================] - 121s 723ms/step - loss: 0.5343 - f1_score: 0.8003 - val_loss: 1.0163 - val_f1_score: 0.6023 - lr: 6.2500e-06\n"
          ]
        }
      ]
    },
    {
      "cell_type": "markdown",
      "source": [
        "## xeption"
      ],
      "metadata": {
        "id": "F3XZofZhqbXd"
      }
    },
    {
      "cell_type": "code",
      "source": [
        "img_size = 250\n",
        "pre_layer = tf.keras.applications.xception.preprocess_input\n",
        "base_model = tf.keras.applications.Xception(include_top=False, input_shape=(img_size, img_size, 3))\n",
        "base_model.trainable = True"
      ],
      "metadata": {
        "id": "tXTqXx4PqdvF"
      },
      "execution_count": null,
      "outputs": []
    },
    {
      "cell_type": "code",
      "source": [
        "def model_make3():\n",
        "    inputs = layers.Input(shape=(img_size, img_size, 3))\n",
        "    x = pre_layer(inputs)\n",
        "    x = base_model(x)\n",
        "\n",
        "    x = layers.GlobalAveragePooling2D()(x)\n",
        "    x = layers.Dense(1024, activation='relu')(x)\n",
        "    x = layers.Dropout(0.3)(x)\n",
        "    x = layers.Dense(512, activation='relu')(x)\n",
        "    x = layers.Dropout(0.4)(x)\n",
        "    outputs = layers.Dense(50, activation='softmax')(x)\n",
        "\n",
        "    model = tf.keras.Model(inputs, outputs)\n",
        "    return model"
      ],
      "metadata": {
        "id": "v0RLtUdHr0KA"
      },
      "execution_count": null,
      "outputs": []
    },
    {
      "cell_type": "code",
      "source": [
        "model = model_make3()\n",
        "model.summary()"
      ],
      "metadata": {
        "colab": {
          "base_uri": "https://localhost:8080/"
        },
        "id": "zNQOwhRmr4jM",
        "outputId": "5f43abc5-f4b8-4634-b4e6-748f9e521876"
      },
      "execution_count": null,
      "outputs": [
        {
          "output_type": "stream",
          "name": "stdout",
          "text": [
            "Model: \"model_2\"\n",
            "_________________________________________________________________\n",
            " Layer (type)                Output Shape              Param #   \n",
            "=================================================================\n",
            " input_5 (InputLayer)        [(None, 250, 250, 3)]     0         \n",
            "                                                                 \n",
            " tf.math.truediv_2 (TFOpLamb  (None, 250, 250, 3)      0         \n",
            " da)                                                             \n",
            "                                                                 \n",
            " tf.math.subtract_2 (TFOpLam  (None, 250, 250, 3)      0         \n",
            " bda)                                                            \n",
            "                                                                 \n",
            " xception (Functional)       (None, 8, 8, 2048)        20861480  \n",
            "                                                                 \n",
            " global_average_pooling2d_2   (None, 2048)             0         \n",
            " (GlobalAveragePooling2D)                                        \n",
            "                                                                 \n",
            " dense_6 (Dense)             (None, 1024)              2098176   \n",
            "                                                                 \n",
            " dropout_4 (Dropout)         (None, 1024)              0         \n",
            "                                                                 \n",
            " dense_7 (Dense)             (None, 512)               524800    \n",
            "                                                                 \n",
            " dropout_5 (Dropout)         (None, 512)               0         \n",
            "                                                                 \n",
            " dense_8 (Dense)             (None, 50)                25650     \n",
            "                                                                 \n",
            "=================================================================\n",
            "Total params: 23,510,106\n",
            "Trainable params: 23,455,578\n",
            "Non-trainable params: 54,528\n",
            "_________________________________________________________________\n"
          ]
        }
      ]
    },
    {
      "cell_type": "code",
      "source": [
        "model.compile(optimizer=tf.keras.optimizers.Adam(learning_rate=0.00001), loss=tf.keras.losses.SparseCategoricalCrossentropy(), metrics=['accuracy'])"
      ],
      "metadata": {
        "id": "2OyjI8eCr8EO"
      },
      "execution_count": null,
      "outputs": []
    },
    {
      "cell_type": "code",
      "source": [
        "early_stoper = tf.keras.callbacks.EarlyStopping(monitor='val_loss', patience=2)"
      ],
      "metadata": {
        "id": "AABGPBa1r-3N"
      },
      "execution_count": null,
      "outputs": []
    },
    {
      "cell_type": "code",
      "source": [
        "with tf.device('/GPU:0'):\n",
        "    his = model.fit(train_ds, epochs=50, validation_data=val_ds, callbacks=[early_stoper], class_weight=weight)"
      ],
      "metadata": {
        "colab": {
          "base_uri": "https://localhost:8080/",
          "height": 565
        },
        "id": "SNyk9cbVsA6l",
        "outputId": "fbeee2d7-7b33-4e04-fef5-f92292ed9aca"
      },
      "execution_count": null,
      "outputs": [
        {
          "output_type": "stream",
          "name": "stdout",
          "text": [
            "Epoch 1/50\n",
            "167/167 [==============================] - 148s 837ms/step - loss: 196.2036 - accuracy: 0.0276 - val_loss: 3.9162 - val_accuracy: 0.0186\n",
            "Epoch 2/50\n",
            "167/167 [==============================] - 139s 827ms/step - loss: 193.8657 - accuracy: 0.0380 - val_loss: 3.9152 - val_accuracy: 0.0287\n",
            "Epoch 3/50\n",
            "167/167 [==============================] - 138s 825ms/step - loss: 190.9676 - accuracy: 0.0462 - val_loss: 3.8101 - val_accuracy: 0.0608\n",
            "Epoch 4/50\n",
            "167/167 [==============================] - 138s 824ms/step - loss: 186.4159 - accuracy: 0.0673 - val_loss: 3.6908 - val_accuracy: 0.1216\n",
            "Epoch 5/50\n",
            "167/167 [==============================] - 140s 836ms/step - loss: 181.4721 - accuracy: 0.0963 - val_loss: 3.5897 - val_accuracy: 0.1841\n",
            "Epoch 6/50\n",
            "167/167 [==============================] - ETA: 0s - loss: 174.1168 - accuracy: 0.1386"
          ]
        },
        {
          "output_type": "error",
          "ename": "KeyboardInterrupt",
          "evalue": "ignored",
          "traceback": [
            "\u001b[0;31m---------------------------------------------------------------------------\u001b[0m",
            "\u001b[0;31mKeyboardInterrupt\u001b[0m                         Traceback (most recent call last)",
            "\u001b[0;32m<ipython-input-25-ae102d234feb>\u001b[0m in \u001b[0;36m<module>\u001b[0;34m\u001b[0m\n\u001b[1;32m      1\u001b[0m \u001b[0;32mwith\u001b[0m \u001b[0mtf\u001b[0m\u001b[0;34m.\u001b[0m\u001b[0mdevice\u001b[0m\u001b[0;34m(\u001b[0m\u001b[0;34m'/GPU:0'\u001b[0m\u001b[0;34m)\u001b[0m\u001b[0;34m:\u001b[0m\u001b[0;34m\u001b[0m\u001b[0;34m\u001b[0m\u001b[0m\n\u001b[0;32m----> 2\u001b[0;31m     \u001b[0mhis\u001b[0m \u001b[0;34m=\u001b[0m \u001b[0mmodel\u001b[0m\u001b[0;34m.\u001b[0m\u001b[0mfit\u001b[0m\u001b[0;34m(\u001b[0m\u001b[0mtrain_ds\u001b[0m\u001b[0;34m,\u001b[0m \u001b[0mepochs\u001b[0m\u001b[0;34m=\u001b[0m\u001b[0;36m50\u001b[0m\u001b[0;34m,\u001b[0m \u001b[0mvalidation_data\u001b[0m\u001b[0;34m=\u001b[0m\u001b[0mval_ds\u001b[0m\u001b[0;34m,\u001b[0m \u001b[0mcallbacks\u001b[0m\u001b[0;34m=\u001b[0m\u001b[0;34m[\u001b[0m\u001b[0mearly_stoper\u001b[0m\u001b[0;34m]\u001b[0m\u001b[0;34m,\u001b[0m \u001b[0mclass_weight\u001b[0m\u001b[0;34m=\u001b[0m\u001b[0mweight\u001b[0m\u001b[0;34m)\u001b[0m\u001b[0;34m\u001b[0m\u001b[0;34m\u001b[0m\u001b[0m\n\u001b[0m",
            "\u001b[0;32m/usr/local/lib/python3.7/dist-packages/keras/utils/traceback_utils.py\u001b[0m in \u001b[0;36merror_handler\u001b[0;34m(*args, **kwargs)\u001b[0m\n\u001b[1;32m     62\u001b[0m     \u001b[0mfiltered_tb\u001b[0m \u001b[0;34m=\u001b[0m \u001b[0;32mNone\u001b[0m\u001b[0;34m\u001b[0m\u001b[0;34m\u001b[0m\u001b[0m\n\u001b[1;32m     63\u001b[0m     \u001b[0;32mtry\u001b[0m\u001b[0;34m:\u001b[0m\u001b[0;34m\u001b[0m\u001b[0;34m\u001b[0m\u001b[0m\n\u001b[0;32m---> 64\u001b[0;31m       \u001b[0;32mreturn\u001b[0m \u001b[0mfn\u001b[0m\u001b[0;34m(\u001b[0m\u001b[0;34m*\u001b[0m\u001b[0margs\u001b[0m\u001b[0;34m,\u001b[0m \u001b[0;34m**\u001b[0m\u001b[0mkwargs\u001b[0m\u001b[0;34m)\u001b[0m\u001b[0;34m\u001b[0m\u001b[0;34m\u001b[0m\u001b[0m\n\u001b[0m\u001b[1;32m     65\u001b[0m     \u001b[0;32mexcept\u001b[0m \u001b[0mException\u001b[0m \u001b[0;32mas\u001b[0m \u001b[0me\u001b[0m\u001b[0;34m:\u001b[0m  \u001b[0;31m# pylint: disable=broad-except\u001b[0m\u001b[0;34m\u001b[0m\u001b[0;34m\u001b[0m\u001b[0m\n\u001b[1;32m     66\u001b[0m       \u001b[0mfiltered_tb\u001b[0m \u001b[0;34m=\u001b[0m \u001b[0m_process_traceback_frames\u001b[0m\u001b[0;34m(\u001b[0m\u001b[0me\u001b[0m\u001b[0;34m.\u001b[0m\u001b[0m__traceback__\u001b[0m\u001b[0;34m)\u001b[0m\u001b[0;34m\u001b[0m\u001b[0;34m\u001b[0m\u001b[0m\n",
            "\u001b[0;32m/usr/local/lib/python3.7/dist-packages/keras/engine/training.py\u001b[0m in \u001b[0;36mfit\u001b[0;34m(self, x, y, batch_size, epochs, verbose, callbacks, validation_split, validation_data, shuffle, class_weight, sample_weight, initial_epoch, steps_per_epoch, validation_steps, validation_batch_size, validation_freq, max_queue_size, workers, use_multiprocessing)\u001b[0m\n\u001b[1;32m   1454\u001b[0m               \u001b[0muse_multiprocessing\u001b[0m\u001b[0;34m=\u001b[0m\u001b[0muse_multiprocessing\u001b[0m\u001b[0;34m,\u001b[0m\u001b[0;34m\u001b[0m\u001b[0;34m\u001b[0m\u001b[0m\n\u001b[1;32m   1455\u001b[0m               \u001b[0mreturn_dict\u001b[0m\u001b[0;34m=\u001b[0m\u001b[0;32mTrue\u001b[0m\u001b[0;34m,\u001b[0m\u001b[0;34m\u001b[0m\u001b[0;34m\u001b[0m\u001b[0m\n\u001b[0;32m-> 1456\u001b[0;31m               _use_cached_eval_dataset=True)\n\u001b[0m\u001b[1;32m   1457\u001b[0m           \u001b[0mval_logs\u001b[0m \u001b[0;34m=\u001b[0m \u001b[0;34m{\u001b[0m\u001b[0;34m'val_'\u001b[0m \u001b[0;34m+\u001b[0m \u001b[0mname\u001b[0m\u001b[0;34m:\u001b[0m \u001b[0mval\u001b[0m \u001b[0;32mfor\u001b[0m \u001b[0mname\u001b[0m\u001b[0;34m,\u001b[0m \u001b[0mval\u001b[0m \u001b[0;32min\u001b[0m \u001b[0mval_logs\u001b[0m\u001b[0;34m.\u001b[0m\u001b[0mitems\u001b[0m\u001b[0;34m(\u001b[0m\u001b[0;34m)\u001b[0m\u001b[0;34m}\u001b[0m\u001b[0;34m\u001b[0m\u001b[0;34m\u001b[0m\u001b[0m\n\u001b[1;32m   1458\u001b[0m           \u001b[0mepoch_logs\u001b[0m\u001b[0;34m.\u001b[0m\u001b[0mupdate\u001b[0m\u001b[0;34m(\u001b[0m\u001b[0mval_logs\u001b[0m\u001b[0;34m)\u001b[0m\u001b[0;34m\u001b[0m\u001b[0;34m\u001b[0m\u001b[0m\n",
            "\u001b[0;32m/usr/local/lib/python3.7/dist-packages/keras/utils/traceback_utils.py\u001b[0m in \u001b[0;36merror_handler\u001b[0;34m(*args, **kwargs)\u001b[0m\n\u001b[1;32m     62\u001b[0m     \u001b[0mfiltered_tb\u001b[0m \u001b[0;34m=\u001b[0m \u001b[0;32mNone\u001b[0m\u001b[0;34m\u001b[0m\u001b[0;34m\u001b[0m\u001b[0m\n\u001b[1;32m     63\u001b[0m     \u001b[0;32mtry\u001b[0m\u001b[0;34m:\u001b[0m\u001b[0;34m\u001b[0m\u001b[0;34m\u001b[0m\u001b[0m\n\u001b[0;32m---> 64\u001b[0;31m       \u001b[0;32mreturn\u001b[0m \u001b[0mfn\u001b[0m\u001b[0;34m(\u001b[0m\u001b[0;34m*\u001b[0m\u001b[0margs\u001b[0m\u001b[0;34m,\u001b[0m \u001b[0;34m**\u001b[0m\u001b[0mkwargs\u001b[0m\u001b[0;34m)\u001b[0m\u001b[0;34m\u001b[0m\u001b[0;34m\u001b[0m\u001b[0m\n\u001b[0m\u001b[1;32m     65\u001b[0m     \u001b[0;32mexcept\u001b[0m \u001b[0mException\u001b[0m \u001b[0;32mas\u001b[0m \u001b[0me\u001b[0m\u001b[0;34m:\u001b[0m  \u001b[0;31m# pylint: disable=broad-except\u001b[0m\u001b[0;34m\u001b[0m\u001b[0;34m\u001b[0m\u001b[0m\n\u001b[1;32m     66\u001b[0m       \u001b[0mfiltered_tb\u001b[0m \u001b[0;34m=\u001b[0m \u001b[0m_process_traceback_frames\u001b[0m\u001b[0;34m(\u001b[0m\u001b[0me\u001b[0m\u001b[0;34m.\u001b[0m\u001b[0m__traceback__\u001b[0m\u001b[0;34m)\u001b[0m\u001b[0;34m\u001b[0m\u001b[0;34m\u001b[0m\u001b[0m\n",
            "\u001b[0;32m/usr/local/lib/python3.7/dist-packages/keras/engine/training.py\u001b[0m in \u001b[0;36mevaluate\u001b[0;34m(self, x, y, batch_size, verbose, sample_weight, steps, callbacks, max_queue_size, workers, use_multiprocessing, return_dict, **kwargs)\u001b[0m\n\u001b[1;32m   1754\u001b[0m             \u001b[0;32mwith\u001b[0m \u001b[0mtf\u001b[0m\u001b[0;34m.\u001b[0m\u001b[0mprofiler\u001b[0m\u001b[0;34m.\u001b[0m\u001b[0mexperimental\u001b[0m\u001b[0;34m.\u001b[0m\u001b[0mTrace\u001b[0m\u001b[0;34m(\u001b[0m\u001b[0;34m'test'\u001b[0m\u001b[0;34m,\u001b[0m \u001b[0mstep_num\u001b[0m\u001b[0;34m=\u001b[0m\u001b[0mstep\u001b[0m\u001b[0;34m,\u001b[0m \u001b[0m_r\u001b[0m\u001b[0;34m=\u001b[0m\u001b[0;36m1\u001b[0m\u001b[0;34m)\u001b[0m\u001b[0;34m:\u001b[0m\u001b[0;34m\u001b[0m\u001b[0;34m\u001b[0m\u001b[0m\n\u001b[1;32m   1755\u001b[0m               \u001b[0mcallbacks\u001b[0m\u001b[0;34m.\u001b[0m\u001b[0mon_test_batch_begin\u001b[0m\u001b[0;34m(\u001b[0m\u001b[0mstep\u001b[0m\u001b[0;34m)\u001b[0m\u001b[0;34m\u001b[0m\u001b[0;34m\u001b[0m\u001b[0m\n\u001b[0;32m-> 1756\u001b[0;31m               \u001b[0mtmp_logs\u001b[0m \u001b[0;34m=\u001b[0m \u001b[0mself\u001b[0m\u001b[0;34m.\u001b[0m\u001b[0mtest_function\u001b[0m\u001b[0;34m(\u001b[0m\u001b[0miterator\u001b[0m\u001b[0;34m)\u001b[0m\u001b[0;34m\u001b[0m\u001b[0;34m\u001b[0m\u001b[0m\n\u001b[0m\u001b[1;32m   1757\u001b[0m               \u001b[0;32mif\u001b[0m \u001b[0mdata_handler\u001b[0m\u001b[0;34m.\u001b[0m\u001b[0mshould_sync\u001b[0m\u001b[0;34m:\u001b[0m\u001b[0;34m\u001b[0m\u001b[0;34m\u001b[0m\u001b[0m\n\u001b[1;32m   1758\u001b[0m                 \u001b[0mcontext\u001b[0m\u001b[0;34m.\u001b[0m\u001b[0masync_wait\u001b[0m\u001b[0;34m(\u001b[0m\u001b[0;34m)\u001b[0m\u001b[0;34m\u001b[0m\u001b[0;34m\u001b[0m\u001b[0m\n",
            "\u001b[0;32m/usr/local/lib/python3.7/dist-packages/tensorflow/python/util/traceback_utils.py\u001b[0m in \u001b[0;36merror_handler\u001b[0;34m(*args, **kwargs)\u001b[0m\n\u001b[1;32m    148\u001b[0m     \u001b[0mfiltered_tb\u001b[0m \u001b[0;34m=\u001b[0m \u001b[0;32mNone\u001b[0m\u001b[0;34m\u001b[0m\u001b[0;34m\u001b[0m\u001b[0m\n\u001b[1;32m    149\u001b[0m     \u001b[0;32mtry\u001b[0m\u001b[0;34m:\u001b[0m\u001b[0;34m\u001b[0m\u001b[0;34m\u001b[0m\u001b[0m\n\u001b[0;32m--> 150\u001b[0;31m       \u001b[0;32mreturn\u001b[0m \u001b[0mfn\u001b[0m\u001b[0;34m(\u001b[0m\u001b[0;34m*\u001b[0m\u001b[0margs\u001b[0m\u001b[0;34m,\u001b[0m \u001b[0;34m**\u001b[0m\u001b[0mkwargs\u001b[0m\u001b[0;34m)\u001b[0m\u001b[0;34m\u001b[0m\u001b[0;34m\u001b[0m\u001b[0m\n\u001b[0m\u001b[1;32m    151\u001b[0m     \u001b[0;32mexcept\u001b[0m \u001b[0mException\u001b[0m \u001b[0;32mas\u001b[0m \u001b[0me\u001b[0m\u001b[0;34m:\u001b[0m\u001b[0;34m\u001b[0m\u001b[0;34m\u001b[0m\u001b[0m\n\u001b[1;32m    152\u001b[0m       \u001b[0mfiltered_tb\u001b[0m \u001b[0;34m=\u001b[0m \u001b[0m_process_traceback_frames\u001b[0m\u001b[0;34m(\u001b[0m\u001b[0me\u001b[0m\u001b[0;34m.\u001b[0m\u001b[0m__traceback__\u001b[0m\u001b[0;34m)\u001b[0m\u001b[0;34m\u001b[0m\u001b[0;34m\u001b[0m\u001b[0m\n",
            "\u001b[0;32m/usr/local/lib/python3.7/dist-packages/tensorflow/python/eager/def_function.py\u001b[0m in \u001b[0;36m__call__\u001b[0;34m(self, *args, **kwds)\u001b[0m\n\u001b[1;32m    913\u001b[0m \u001b[0;34m\u001b[0m\u001b[0m\n\u001b[1;32m    914\u001b[0m       \u001b[0;32mwith\u001b[0m \u001b[0mOptionalXlaContext\u001b[0m\u001b[0;34m(\u001b[0m\u001b[0mself\u001b[0m\u001b[0;34m.\u001b[0m\u001b[0m_jit_compile\u001b[0m\u001b[0;34m)\u001b[0m\u001b[0;34m:\u001b[0m\u001b[0;34m\u001b[0m\u001b[0;34m\u001b[0m\u001b[0m\n\u001b[0;32m--> 915\u001b[0;31m         \u001b[0mresult\u001b[0m \u001b[0;34m=\u001b[0m \u001b[0mself\u001b[0m\u001b[0;34m.\u001b[0m\u001b[0m_call\u001b[0m\u001b[0;34m(\u001b[0m\u001b[0;34m*\u001b[0m\u001b[0margs\u001b[0m\u001b[0;34m,\u001b[0m \u001b[0;34m**\u001b[0m\u001b[0mkwds\u001b[0m\u001b[0;34m)\u001b[0m\u001b[0;34m\u001b[0m\u001b[0;34m\u001b[0m\u001b[0m\n\u001b[0m\u001b[1;32m    916\u001b[0m \u001b[0;34m\u001b[0m\u001b[0m\n\u001b[1;32m    917\u001b[0m       \u001b[0mnew_tracing_count\u001b[0m \u001b[0;34m=\u001b[0m \u001b[0mself\u001b[0m\u001b[0;34m.\u001b[0m\u001b[0mexperimental_get_tracing_count\u001b[0m\u001b[0;34m(\u001b[0m\u001b[0;34m)\u001b[0m\u001b[0;34m\u001b[0m\u001b[0;34m\u001b[0m\u001b[0m\n",
            "\u001b[0;32m/usr/local/lib/python3.7/dist-packages/tensorflow/python/eager/def_function.py\u001b[0m in \u001b[0;36m_call\u001b[0;34m(self, *args, **kwds)\u001b[0m\n\u001b[1;32m    952\u001b[0m       \u001b[0;31m# In this case we have not created variables on the first call. So we can\u001b[0m\u001b[0;34m\u001b[0m\u001b[0;34m\u001b[0m\u001b[0;34m\u001b[0m\u001b[0m\n\u001b[1;32m    953\u001b[0m       \u001b[0;31m# run the first trace but we should fail if variables are created.\u001b[0m\u001b[0;34m\u001b[0m\u001b[0;34m\u001b[0m\u001b[0;34m\u001b[0m\u001b[0m\n\u001b[0;32m--> 954\u001b[0;31m       \u001b[0mresults\u001b[0m \u001b[0;34m=\u001b[0m \u001b[0mself\u001b[0m\u001b[0;34m.\u001b[0m\u001b[0m_stateful_fn\u001b[0m\u001b[0;34m(\u001b[0m\u001b[0;34m*\u001b[0m\u001b[0margs\u001b[0m\u001b[0;34m,\u001b[0m \u001b[0;34m**\u001b[0m\u001b[0mkwds\u001b[0m\u001b[0;34m)\u001b[0m\u001b[0;34m\u001b[0m\u001b[0;34m\u001b[0m\u001b[0m\n\u001b[0m\u001b[1;32m    955\u001b[0m       \u001b[0;32mif\u001b[0m \u001b[0mself\u001b[0m\u001b[0;34m.\u001b[0m\u001b[0m_created_variables\u001b[0m \u001b[0;32mand\u001b[0m \u001b[0;32mnot\u001b[0m \u001b[0mALLOW_DYNAMIC_VARIABLE_CREATION\u001b[0m\u001b[0;34m:\u001b[0m\u001b[0;34m\u001b[0m\u001b[0;34m\u001b[0m\u001b[0m\n\u001b[1;32m    956\u001b[0m         raise ValueError(\"Creating variables on a non-first call to a function\"\n",
            "\u001b[0;32m/usr/local/lib/python3.7/dist-packages/tensorflow/python/eager/function.py\u001b[0m in \u001b[0;36m__call__\u001b[0;34m(self, *args, **kwargs)\u001b[0m\n\u001b[1;32m   2452\u001b[0m        filtered_flat_args) = self._maybe_define_function(args, kwargs)\n\u001b[1;32m   2453\u001b[0m     return graph_function._call_flat(\n\u001b[0;32m-> 2454\u001b[0;31m         filtered_flat_args, captured_inputs=graph_function.captured_inputs)  # pylint: disable=protected-access\n\u001b[0m\u001b[1;32m   2455\u001b[0m \u001b[0;34m\u001b[0m\u001b[0m\n\u001b[1;32m   2456\u001b[0m   \u001b[0;34m@\u001b[0m\u001b[0mproperty\u001b[0m\u001b[0;34m\u001b[0m\u001b[0;34m\u001b[0m\u001b[0m\n",
            "\u001b[0;32m/usr/local/lib/python3.7/dist-packages/tensorflow/python/eager/function.py\u001b[0m in \u001b[0;36m_call_flat\u001b[0;34m(self, args, captured_inputs, cancellation_manager)\u001b[0m\n\u001b[1;32m   1859\u001b[0m       \u001b[0;31m# No tape is watching; skip to running the function.\u001b[0m\u001b[0;34m\u001b[0m\u001b[0;34m\u001b[0m\u001b[0;34m\u001b[0m\u001b[0m\n\u001b[1;32m   1860\u001b[0m       return self._build_call_outputs(self._inference_function.call(\n\u001b[0;32m-> 1861\u001b[0;31m           ctx, args, cancellation_manager=cancellation_manager))\n\u001b[0m\u001b[1;32m   1862\u001b[0m     forward_backward = self._select_forward_and_backward_functions(\n\u001b[1;32m   1863\u001b[0m         \u001b[0margs\u001b[0m\u001b[0;34m,\u001b[0m\u001b[0;34m\u001b[0m\u001b[0;34m\u001b[0m\u001b[0m\n",
            "\u001b[0;32m/usr/local/lib/python3.7/dist-packages/tensorflow/python/eager/function.py\u001b[0m in \u001b[0;36mcall\u001b[0;34m(self, ctx, args, cancellation_manager)\u001b[0m\n\u001b[1;32m    500\u001b[0m               \u001b[0minputs\u001b[0m\u001b[0;34m=\u001b[0m\u001b[0margs\u001b[0m\u001b[0;34m,\u001b[0m\u001b[0;34m\u001b[0m\u001b[0;34m\u001b[0m\u001b[0m\n\u001b[1;32m    501\u001b[0m               \u001b[0mattrs\u001b[0m\u001b[0;34m=\u001b[0m\u001b[0mattrs\u001b[0m\u001b[0;34m,\u001b[0m\u001b[0;34m\u001b[0m\u001b[0;34m\u001b[0m\u001b[0m\n\u001b[0;32m--> 502\u001b[0;31m               ctx=ctx)\n\u001b[0m\u001b[1;32m    503\u001b[0m         \u001b[0;32melse\u001b[0m\u001b[0;34m:\u001b[0m\u001b[0;34m\u001b[0m\u001b[0;34m\u001b[0m\u001b[0m\n\u001b[1;32m    504\u001b[0m           outputs = execute.execute_with_cancellation(\n",
            "\u001b[0;32m/usr/local/lib/python3.7/dist-packages/tensorflow/python/eager/execute.py\u001b[0m in \u001b[0;36mquick_execute\u001b[0;34m(op_name, num_outputs, inputs, attrs, ctx, name)\u001b[0m\n\u001b[1;32m     53\u001b[0m     \u001b[0mctx\u001b[0m\u001b[0;34m.\u001b[0m\u001b[0mensure_initialized\u001b[0m\u001b[0;34m(\u001b[0m\u001b[0;34m)\u001b[0m\u001b[0;34m\u001b[0m\u001b[0;34m\u001b[0m\u001b[0m\n\u001b[1;32m     54\u001b[0m     tensors = pywrap_tfe.TFE_Py_Execute(ctx._handle, device_name, op_name,\n\u001b[0;32m---> 55\u001b[0;31m                                         inputs, attrs, num_outputs)\n\u001b[0m\u001b[1;32m     56\u001b[0m   \u001b[0;32mexcept\u001b[0m \u001b[0mcore\u001b[0m\u001b[0;34m.\u001b[0m\u001b[0m_NotOkStatusException\u001b[0m \u001b[0;32mas\u001b[0m \u001b[0me\u001b[0m\u001b[0;34m:\u001b[0m\u001b[0;34m\u001b[0m\u001b[0;34m\u001b[0m\u001b[0m\n\u001b[1;32m     57\u001b[0m     \u001b[0;32mif\u001b[0m \u001b[0mname\u001b[0m \u001b[0;32mis\u001b[0m \u001b[0;32mnot\u001b[0m \u001b[0;32mNone\u001b[0m\u001b[0;34m:\u001b[0m\u001b[0;34m\u001b[0m\u001b[0;34m\u001b[0m\u001b[0m\n",
            "\u001b[0;31mKeyboardInterrupt\u001b[0m: "
          ]
        }
      ]
    },
    {
      "cell_type": "code",
      "source": [
        "plt.subplot(1,2,1)\n",
        "plt.plot(his.history['loss'])\n",
        "plt.plot(his.history['val_loss'])\n",
        "plt.subplot(1,2,2)\n",
        "plt.plot(his.history['accuracy'])\n",
        "plt.plot(his.history['val_accuracy'])\n",
        "plt.show()"
      ],
      "metadata": {
        "colab": {
          "base_uri": "https://localhost:8080/",
          "height": 265
        },
        "id": "PZrTZ-eQ2nd6",
        "outputId": "bf2eaf0b-0003-4056-da84-0f8aed727bd5"
      },
      "execution_count": null,
      "outputs": [
        {
          "output_type": "display_data",
          "data": {
            "text/plain": [
              "<Figure size 432x288 with 2 Axes>"
            ],
            "image/png": "[encoded data removed]"
          },
          "metadata": {
            "needs_background": "light"
          }
        }
      ]
    },
    {
      "cell_type": "code",
      "source": [
        "model.compile(optimizer=tf.keras.optimizers.Adam(learning_rate=0.00002), loss=tf.keras.losses.CategoricalCrossentropy(), metrics=['accuracy'])\n",
        "early_stoper = tf.keras.callbacks.EarlyStopping(monitor='val_loss', patience=2)\n",
        "LR = tf.keras.callbacks.ReduceLROnPlateau(monitor='val_loss',factor=0.5,patience=1, verbose=1, min_lr=0.000005)"
      ],
      "metadata": {
        "id": "kwvZB3smJmLz"
      },
      "execution_count": null,
      "outputs": []
    },
    {
      "cell_type": "code",
      "source": [
        "with tf.device('/GPU:0'):\n",
        "    his = model.fit(train_ds, epochs=50, validation_data=val_ds, callbacks=[early_stoper, LR])"
      ],
      "metadata": {
        "colab": {
          "base_uri": "https://localhost:8080/"
        },
        "id": "bU84V7izJuZ0",
        "outputId": "bceb4004-0aa9-4c7f-c433-ff32aaa4bc0d"
      },
      "execution_count": null,
      "outputs": [
        {
          "output_type": "stream",
          "name": "stdout",
          "text": [
            "Epoch 1/50\n",
            "167/167 [==============================] - 148s 855ms/step - loss: 2.7052 - accuracy: 0.4463 - val_loss: 2.9595 - val_accuracy: 0.3260 - lr: 2.0000e-05\n",
            "Epoch 2/50\n",
            "167/167 [==============================] - 141s 842ms/step - loss: 1.4265 - accuracy: 0.7090 - val_loss: 2.3957 - val_accuracy: 0.4240 - lr: 2.0000e-05\n",
            "Epoch 3/50\n",
            "167/167 [==============================] - 142s 848ms/step - loss: 1.0189 - accuracy: 0.7667 - val_loss: 1.5157 - val_accuracy: 0.6318 - lr: 2.0000e-05\n",
            "Epoch 4/50\n",
            "167/167 [==============================] - ETA: 0s - loss: 0.8466 - accuracy: 0.7960\n",
            "Epoch 4: ReduceLROnPlateau reducing learning rate to 9.999999747378752e-06.\n",
            "167/167 [==============================] - 141s 842ms/step - loss: 0.8466 - accuracy: 0.7960 - val_loss: 1.8426 - val_accuracy: 0.5777 - lr: 2.0000e-05\n",
            "Epoch 5/50\n",
            "167/167 [==============================] - 142s 847ms/step - loss: 0.7528 - accuracy: 0.8126 - val_loss: 1.0668 - val_accuracy: 0.7213 - lr: 1.0000e-05\n",
            "Epoch 6/50\n",
            "167/167 [==============================] - ETA: 0s - loss: 0.6820 - accuracy: 0.8270\n",
            "Epoch 6: ReduceLROnPlateau reducing learning rate to 5e-06.\n",
            "167/167 [==============================] - 140s 839ms/step - loss: 0.6820 - accuracy: 0.8270 - val_loss: 1.2573 - val_accuracy: 0.6807 - lr: 1.0000e-05\n",
            "Epoch 7/50\n",
            "167/167 [==============================] - 142s 848ms/step - loss: 0.6526 - accuracy: 0.8284 - val_loss: 1.0240 - val_accuracy: 0.7314 - lr: 5.0000e-06\n",
            "Epoch 8/50\n",
            "167/167 [==============================] - 142s 848ms/step - loss: 0.6396 - accuracy: 0.8336 - val_loss: 1.0524 - val_accuracy: 0.7179 - lr: 5.0000e-06\n",
            "Epoch 9/50\n",
            "167/167 [==============================] - 141s 843ms/step - loss: 0.5971 - accuracy: 0.8430 - val_loss: 0.9497 - val_accuracy: 0.7669 - lr: 5.0000e-06\n",
            "Epoch 10/50\n",
            "167/167 [==============================] - 140s 838ms/step - loss: 0.6069 - accuracy: 0.8408 - val_loss: 0.9536 - val_accuracy: 0.7703 - lr: 5.0000e-06\n",
            "Epoch 11/50\n",
            "167/167 [==============================] - 143s 853ms/step - loss: 0.5857 - accuracy: 0.8462 - val_loss: 0.8897 - val_accuracy: 0.7703 - lr: 5.0000e-06\n",
            "Epoch 12/50\n",
            "167/167 [==============================] - 142s 849ms/step - loss: 0.5967 - accuracy: 0.8425 - val_loss: 0.8887 - val_accuracy: 0.7635 - lr: 5.0000e-06\n",
            "Epoch 13/50\n",
            "167/167 [==============================] - 143s 853ms/step - loss: 0.5634 - accuracy: 0.8505 - val_loss: 0.8549 - val_accuracy: 0.7804 - lr: 5.0000e-06\n",
            "Epoch 14/50\n",
            "167/167 [==============================] - 143s 852ms/step - loss: 0.5514 - accuracy: 0.8534 - val_loss: 0.9255 - val_accuracy: 0.7652 - lr: 5.0000e-06\n",
            "Epoch 15/50\n",
            "167/167 [==============================] - 142s 848ms/step - loss: 0.5489 - accuracy: 0.8511 - val_loss: 1.0141 - val_accuracy: 0.7399 - lr: 5.0000e-06\n"
          ]
        }
      ]
    },
    {
      "cell_type": "code",
      "source": [
        "plt.subplot(1,2,1)\n",
        "plt.plot(his.history['loss'])\n",
        "plt.plot(his.history['val_loss'])\n",
        "plt.subplot(1,2,2)\n",
        "plt.plot(his.history['accuracy'])\n",
        "plt.plot(his.history['val_accuracy'])\n",
        "plt.show()"
      ],
      "metadata": {
        "colab": {
          "base_uri": "https://localhost:8080/",
          "height": 265
        },
        "id": "XOhJShlNpOom",
        "outputId": "2b74d2d2-828c-4f26-910e-216e2f023a37"
      },
      "execution_count": null,
      "outputs": [
        {
          "output_type": "display_data",
          "data": {
            "text/plain": [
              "<Figure size 432x288 with 2 Axes>"
            ],
            "image/png": "[encoded data removed]"
          },
          "metadata": {
            "needs_background": "light"
          }
        }
      ]
    },
    {
      "cell_type": "code",
      "source": [
        "model.compile(optimizer=tf.keras.optimizers.Adam(learning_rate=0.00002), loss=tf.keras.losses.CategoricalCrossentropy(), metrics=['accuracy'])\n",
        "early_stoper = tf.keras.callbacks.EarlyStopping(monitor='val_loss', patience=2)\n",
        "LR = tf.keras.callbacks.ReduceLROnPlateau(monitor='val_loss',factor=0.5,patience=1, verbose=1, min_lr=0.0000005)"
      ],
      "metadata": {
        "id": "GAOofOd0qlyN"
      },
      "execution_count": null,
      "outputs": []
    },
    {
      "cell_type": "code",
      "source": [
        "with tf.device('/GPU:0'):\n",
        "    his = model.fit(train_ds, epochs=50, validation_data=val_ds, callbacks=[early_stoper, LR])"
      ],
      "metadata": {
        "colab": {
          "base_uri": "https://localhost:8080/"
        },
        "id": "DEnGAYAGr5PP",
        "outputId": "1340f1d7-b1ba-4c5d-fc8e-491fbb8f58b4"
      },
      "execution_count": null,
      "outputs": [
        {
          "output_type": "stream",
          "name": "stdout",
          "text": [
            "Epoch 1/50\n",
            "167/167 [==============================] - 148s 855ms/step - loss: 2.9183 - accuracy: 0.3845 - val_loss: 2.7885 - val_accuracy: 0.3784 - lr: 2.0000e-05\n",
            "Epoch 2/50\n",
            "167/167 [==============================] - 140s 836ms/step - loss: 1.6344 - accuracy: 0.6591 - val_loss: 1.5177 - val_accuracy: 0.6385 - lr: 2.0000e-05\n",
            "Epoch 3/50\n",
            "167/167 [==============================] - 141s 842ms/step - loss: 1.2377 - accuracy: 0.7187 - val_loss: 1.2862 - val_accuracy: 0.6706 - lr: 2.0000e-05\n",
            "Epoch 4/50\n",
            "167/167 [==============================] - 141s 841ms/step - loss: 1.0309 - accuracy: 0.7473 - val_loss: 1.2319 - val_accuracy: 0.7010 - lr: 2.0000e-05\n",
            "Epoch 5/50\n",
            "167/167 [==============================] - 140s 838ms/step - loss: 0.9378 - accuracy: 0.7663 - val_loss: 1.0420 - val_accuracy: 0.7247 - lr: 2.0000e-05\n",
            "Epoch 6/50\n",
            "167/167 [==============================] - ETA: 0s - loss: 0.8707 - accuracy: 0.7708\n",
            "Epoch 6: ReduceLROnPlateau reducing learning rate to 9.999999747378752e-06.\n",
            "167/167 [==============================] - 139s 831ms/step - loss: 0.8707 - accuracy: 0.7708 - val_loss: 1.8139 - val_accuracy: 0.5507 - lr: 2.0000e-05\n",
            "Epoch 7/50\n",
            "167/167 [==============================] - 140s 835ms/step - loss: 0.8191 - accuracy: 0.7874 - val_loss: 0.6660 - val_accuracy: 0.8209 - lr: 1.0000e-05\n",
            "Epoch 8/50\n",
            "167/167 [==============================] - ETA: 0s - loss: 0.7940 - accuracy: 0.7913\n",
            "Epoch 8: ReduceLROnPlateau reducing learning rate to 4.999999873689376e-06.\n",
            "167/167 [==============================] - 140s 836ms/step - loss: 0.7940 - accuracy: 0.7913 - val_loss: 0.9156 - val_accuracy: 0.7669 - lr: 1.0000e-05\n",
            "Epoch 9/50\n",
            "167/167 [==============================] - 139s 833ms/step - loss: 0.7519 - accuracy: 0.8005 - val_loss: 0.5272 - val_accuracy: 0.8564 - lr: 5.0000e-06\n",
            "Epoch 10/50\n",
            "167/167 [==============================] - ETA: 0s - loss: 0.7680 - accuracy: 0.7958\n",
            "Epoch 10: ReduceLROnPlateau reducing learning rate to 2.499999936844688e-06.\n",
            "167/167 [==============================] - 139s 829ms/step - loss: 0.7680 - accuracy: 0.7958 - val_loss: 0.6145 - val_accuracy: 0.8446 - lr: 5.0000e-06\n",
            "Epoch 11/50\n",
            "167/167 [==============================] - ETA: 0s - loss: 0.7375 - accuracy: 0.8058\n",
            "Epoch 11: ReduceLROnPlateau reducing learning rate to 1.249999968422344e-06.\n",
            "167/167 [==============================] - 140s 835ms/step - loss: 0.7375 - accuracy: 0.8058 - val_loss: 0.5811 - val_accuracy: 0.8530 - lr: 2.5000e-06\n"
          ]
        }
      ]
    },
    {
      "cell_type": "code",
      "source": [
        "folds = 10\n",
        "kfold = StratifiedKFold(n_splits=folds, shuffle=True)\n",
        "x_train = train['img_path']\n",
        "y_train = train['artist']\n",
        "test_path = sorted(glob.glob('/content/test/*'))\n",
        "test_ds = data_maker(test_path, img_size=img_size, batch=32, train=False, shuffle=False)\n",
        "classes = []\n",
        "pre_all = np.zeros((len(test_path), 50))\n",
        "\n",
        "for fold, (train_idx, val_idx) in enumerate(kfold.split(x_train, y_train)):\n",
        "    print(f'===== fold : {fold+1} / {folds} =====')\n",
        "    x_train_k = x_train.values[train_idx]\n",
        "    y_train_k = pd.get_dummies(y_train.values[train_idx])\n",
        "    x_validation_k = x_train.values[val_idx]\n",
        "    y_validation_k = pd.get_dummies(y_train.values[val_idx])\n",
        "    classes.append(y_train_k.columns)\n",
        "\n",
        "    train_ds = data_maker(x_train_k, y_train_k.values, img_size=img_size, batch=32, train=True, shuffle=True)\n",
        "    validation_ds = data_maker(x_validation_k, y_validation_k.values, img_size=img_size, batch=32, train=False, shuffle=False)\n",
        "\n",
        "    model = model_make3()\n",
        "    model.compile(optimizer=tf.keras.optimizers.Adam(learning_rate=0.00002), loss=tf.keras.losses.CategoricalCrossentropy(), metrics=['accuracy'])\n",
        "    early_stoper = tf.keras.callbacks.EarlyStopping(monitor='val_loss', patience=3)\n",
        "    LR = tf.keras.callbacks.ReduceLROnPlateau(monitor='val_loss',factor=0.5,patience=1, verbose=1, min_lr=0.0000005)\n",
        "    with tf.device('/GPU:0'):\n",
        "        his = model.fit(train_ds, epochs=50, validation_data=validation_ds, callbacks=[early_stoper, LR])\n",
        "\n",
        "    plt.subplot(1,2,1)\n",
        "    plt.plot(his.history['loss'])\n",
        "    plt.plot(his.history['val_loss'])\n",
        "    plt.subplot(1,2,2)\n",
        "    plt.plot(his.history['accuracy'])\n",
        "    plt.plot(his.history['val_accuracy'])\n",
        "    plt.show()\n",
        "\n",
        "    acc_max = np.array(his.history['val_accuracy']).max()\n",
        "    pre = model.predict(test_ds) / folds\n",
        "    pre_all += pre\n",
        "\n",
        "    print(f'best val_accuracy : {acc_max}')\n",
        "    del acc_max, pre, x_train_k, y_train_k, x_validation_k, y_validation_k, train_ds, validation_ds, his\n",
        "    tf.keras.backend.clear_session()\n",
        "    gc.collect()"
      ],
      "metadata": {
        "colab": {
          "base_uri": "https://localhost:8080/",
          "height": 1000
        },
        "id": "w8kMkbcSyzXD",
        "outputId": "34336dab-f372-498f-d0f2-e578871f0053"
      },
      "execution_count": null,
      "outputs": [
        {
          "output_type": "stream",
          "name": "stdout",
          "text": [
            "===== fold : 1 / 10 =====\n",
            "Epoch 1/50\n",
            "167/167 [==============================] - 149s 859ms/step - loss: 3.1687 - accuracy: 0.2581 - val_loss: 2.9618 - val_accuracy: 0.3699 - lr: 2.0000e-05\n",
            "Epoch 2/50\n",
            "167/167 [==============================] - 140s 838ms/step - loss: 2.2161 - accuracy: 0.4922 - val_loss: 1.9811 - val_accuracy: 0.4966 - lr: 2.0000e-05\n",
            "Epoch 3/50\n",
            "167/167 [==============================] - ETA: 0s - loss: 1.8873 - accuracy: 0.5520\n",
            "Epoch 3: ReduceLROnPlateau reducing learning rate to 9.999999747378752e-06.\n",
            "167/167 [==============================] - 140s 837ms/step - loss: 1.8873 - accuracy: 0.5520 - val_loss: 2.2410 - val_accuracy: 0.4375 - lr: 2.0000e-05\n",
            "Epoch 4/50\n",
            "167/167 [==============================] - 139s 831ms/step - loss: 1.6840 - accuracy: 0.5740 - val_loss: 1.7215 - val_accuracy: 0.5574 - lr: 1.0000e-05\n",
            "Epoch 5/50\n",
            "167/167 [==============================] - ETA: 0s - loss: 1.5691 - accuracy: 0.6001\n",
            "Epoch 5: ReduceLROnPlateau reducing learning rate to 4.999999873689376e-06.\n",
            "167/167 [==============================] - 140s 837ms/step - loss: 1.5691 - accuracy: 0.6001 - val_loss: 1.8730 - val_accuracy: 0.5338 - lr: 1.0000e-05\n",
            "Epoch 6/50\n",
            "167/167 [==============================] - ETA: 0s - loss: 1.4913 - accuracy: 0.6210\n",
            "Epoch 6: ReduceLROnPlateau reducing learning rate to 2.499999936844688e-06.\n",
            "167/167 [==============================] - 140s 835ms/step - loss: 1.4913 - accuracy: 0.6210 - val_loss: 1.8140 - val_accuracy: 0.5524 - lr: 5.0000e-06\n",
            "Epoch 7/50\n",
            "167/167 [==============================] - 140s 838ms/step - loss: 1.4729 - accuracy: 0.6264 - val_loss: 1.5461 - val_accuracy: 0.5895 - lr: 2.5000e-06\n",
            "Epoch 8/50\n",
            "167/167 [==============================] - 139s 827ms/step - loss: 1.4681 - accuracy: 0.6199 - val_loss: 1.5356 - val_accuracy: 0.5895 - lr: 2.5000e-06\n",
            "Epoch 9/50\n",
            "167/167 [==============================] - ETA: 0s - loss: 1.4595 - accuracy: 0.6300\n",
            "Epoch 9: ReduceLROnPlateau reducing learning rate to 1.249999968422344e-06.\n",
            "167/167 [==============================] - 141s 840ms/step - loss: 1.4595 - accuracy: 0.6300 - val_loss: 1.5577 - val_accuracy: 0.5878 - lr: 2.5000e-06\n",
            "Epoch 10/50\n",
            "167/167 [==============================] - 140s 837ms/step - loss: 1.4357 - accuracy: 0.6321 - val_loss: 1.4947 - val_accuracy: 0.5997 - lr: 1.2500e-06\n",
            "Epoch 11/50\n",
            "167/167 [==============================] - 140s 834ms/step - loss: 1.4185 - accuracy: 0.6306 - val_loss: 1.4785 - val_accuracy: 0.6014 - lr: 1.2500e-06\n",
            "Epoch 12/50\n",
            "167/167 [==============================] - ETA: 0s - loss: 1.4105 - accuracy: 0.6330\n",
            "Epoch 12: ReduceLROnPlateau reducing learning rate to 6.24999984211172e-07.\n",
            "167/167 [==============================] - 139s 832ms/step - loss: 1.4105 - accuracy: 0.6330 - val_loss: 1.4791 - val_accuracy: 0.6014 - lr: 1.2500e-06\n",
            "Epoch 13/50\n",
            "167/167 [==============================] - 140s 836ms/step - loss: 1.4123 - accuracy: 0.6323 - val_loss: 1.4769 - val_accuracy: 0.6014 - lr: 6.2500e-07\n",
            "Epoch 14/50\n",
            "167/167 [==============================] - ETA: 0s - loss: 1.4047 - accuracy: 0.6304\n",
            "Epoch 14: ReduceLROnPlateau reducing learning rate to 5e-07.\n",
            "167/167 [==============================] - 140s 835ms/step - loss: 1.4047 - accuracy: 0.6304 - val_loss: 1.4791 - val_accuracy: 0.5963 - lr: 6.2500e-07\n",
            "Epoch 15/50\n",
            "167/167 [==============================] - 140s 836ms/step - loss: 1.4010 - accuracy: 0.6383 - val_loss: 1.4620 - val_accuracy: 0.6047 - lr: 5.0000e-07\n",
            "Epoch 16/50\n",
            "167/167 [==============================] - 139s 829ms/step - loss: 1.3958 - accuracy: 0.6323 - val_loss: 1.4684 - val_accuracy: 0.5997 - lr: 5.0000e-07\n",
            "Epoch 17/50\n",
            "167/167 [==============================] - 140s 834ms/step - loss: 1.3930 - accuracy: 0.6377 - val_loss: 1.4656 - val_accuracy: 0.6047 - lr: 5.0000e-07\n",
            "Epoch 18/50\n",
            "167/167 [==============================] - 140s 837ms/step - loss: 1.3740 - accuracy: 0.6477 - val_loss: 1.4570 - val_accuracy: 0.6064 - lr: 5.0000e-07\n",
            "Epoch 19/50\n",
            "167/167 [==============================] - 140s 832ms/step - loss: 1.3883 - accuracy: 0.6405 - val_loss: 1.4631 - val_accuracy: 0.6030 - lr: 5.0000e-07\n",
            "Epoch 20/50\n",
            "167/167 [==============================] - 140s 839ms/step - loss: 1.3883 - accuracy: 0.6385 - val_loss: 1.4572 - val_accuracy: 0.6064 - lr: 5.0000e-07\n",
            "Epoch 21/50\n",
            "167/167 [==============================] - 140s 837ms/step - loss: 1.3829 - accuracy: 0.6387 - val_loss: 1.4500 - val_accuracy: 0.6064 - lr: 5.0000e-07\n",
            "Epoch 22/50\n",
            "167/167 [==============================] - 141s 844ms/step - loss: 1.3743 - accuracy: 0.6447 - val_loss: 1.4488 - val_accuracy: 0.6064 - lr: 5.0000e-07\n",
            "Epoch 23/50\n",
            "167/167 [==============================] - 142s 847ms/step - loss: 1.3876 - accuracy: 0.6364 - val_loss: 1.4472 - val_accuracy: 0.6047 - lr: 5.0000e-07\n",
            "Epoch 24/50\n",
            "167/167 [==============================] - 141s 840ms/step - loss: 1.3849 - accuracy: 0.6349 - val_loss: 1.4426 - val_accuracy: 0.6047 - lr: 5.0000e-07\n",
            "Epoch 25/50\n",
            "167/167 [==============================] - 140s 839ms/step - loss: 1.3564 - accuracy: 0.6449 - val_loss: 1.4395 - val_accuracy: 0.6098 - lr: 5.0000e-07\n",
            "Epoch 26/50\n",
            "167/167 [==============================] - 140s 836ms/step - loss: 1.3784 - accuracy: 0.6402 - val_loss: 1.4355 - val_accuracy: 0.6132 - lr: 5.0000e-07\n",
            "Epoch 27/50\n",
            "167/167 [==============================] - 139s 830ms/step - loss: 1.3541 - accuracy: 0.6486 - val_loss: 1.4462 - val_accuracy: 0.6115 - lr: 5.0000e-07\n",
            "Epoch 28/50\n",
            "167/167 [==============================] - 140s 836ms/step - loss: 1.3627 - accuracy: 0.6454 - val_loss: 1.4431 - val_accuracy: 0.6098 - lr: 5.0000e-07\n",
            "Epoch 29/50\n",
            "167/167 [==============================] - 140s 835ms/step - loss: 1.3682 - accuracy: 0.6411 - val_loss: 1.4387 - val_accuracy: 0.6098 - lr: 5.0000e-07\n"
          ]
        },
        {
          "output_type": "display_data",
          "data": {
            "text/plain": [
              "<Figure size 432x288 with 2 Axes>"
            ],
            "image/png": "[encoded data removed]"
          },
          "metadata": {
            "needs_background": "light"
          }
        },
        {
          "output_type": "stream",
          "name": "stdout",
          "text": [
            "396/396 [==============================] - 90s 226ms/step\n",
            "best val_accuracy : 0.6131756901741028\n",
            "===== fold : 2 / 10 =====\n",
            "Epoch 1/50\n",
            "167/167 [==============================] - 148s 855ms/step - loss: 2.9947 - accuracy: 0.3222 - val_loss: 2.3677 - val_accuracy: 0.4755 - lr: 2.0000e-05\n",
            "Epoch 2/50\n",
            "167/167 [==============================] - 140s 836ms/step - loss: 2.0219 - accuracy: 0.5466 - val_loss: 2.2439 - val_accuracy: 0.4450 - lr: 2.0000e-05\n",
            "Epoch 3/50\n",
            "167/167 [==============================] - ETA: 0s - loss: 1.6777 - accuracy: 0.5921\n",
            "Epoch 3: ReduceLROnPlateau reducing learning rate to 9.999999747378752e-06.\n",
            "167/167 [==============================] - 139s 832ms/step - loss: 1.6777 - accuracy: 0.5921 - val_loss: 2.2441 - val_accuracy: 0.4281 - lr: 2.0000e-05\n",
            "Epoch 4/50\n",
            "167/167 [==============================] - 140s 834ms/step - loss: 1.4764 - accuracy: 0.6370 - val_loss: 1.9975 - val_accuracy: 0.4772 - lr: 1.0000e-05\n",
            "Epoch 5/50\n",
            "167/167 [==============================] - 140s 834ms/step - loss: 1.3847 - accuracy: 0.6498 - val_loss: 1.7943 - val_accuracy: 0.5364 - lr: 1.0000e-05\n",
            "Epoch 6/50\n",
            "167/167 [==============================] - ETA: 0s - loss: 1.3202 - accuracy: 0.6628\n",
            "Epoch 6: ReduceLROnPlateau reducing learning rate to 4.999999873689376e-06.\n",
            "167/167 [==============================] - 140s 835ms/step - loss: 1.3202 - accuracy: 0.6628 - val_loss: 1.8119 - val_accuracy: 0.5313 - lr: 1.0000e-05\n",
            "Epoch 7/50\n",
            "167/167 [==============================] - 139s 832ms/step - loss: 1.2529 - accuracy: 0.6714 - val_loss: 1.5093 - val_accuracy: 0.6125 - lr: 5.0000e-06\n",
            "Epoch 8/50\n",
            "167/167 [==============================] - 140s 835ms/step - loss: 1.2347 - accuracy: 0.6793 - val_loss: 1.4130 - val_accuracy: 0.6277 - lr: 5.0000e-06\n",
            "Epoch 9/50\n",
            "167/167 [==============================] - 139s 832ms/step - loss: 1.2060 - accuracy: 0.6914 - val_loss: 1.3660 - val_accuracy: 0.6396 - lr: 5.0000e-06\n",
            "Epoch 10/50\n",
            "167/167 [==============================] - 139s 832ms/step - loss: 1.1784 - accuracy: 0.6900 - val_loss: 1.3359 - val_accuracy: 0.6531 - lr: 5.0000e-06\n",
            "Epoch 11/50\n",
            "167/167 [==============================] - ETA: 0s - loss: 1.1647 - accuracy: 0.6925\n",
            "Epoch 11: ReduceLROnPlateau reducing learning rate to 2.499999936844688e-06.\n",
            "167/167 [==============================] - 140s 834ms/step - loss: 1.1647 - accuracy: 0.6925 - val_loss: 1.4116 - val_accuracy: 0.6379 - lr: 5.0000e-06\n",
            "Epoch 12/50\n",
            "167/167 [==============================] - 140s 834ms/step - loss: 1.1234 - accuracy: 0.7026 - val_loss: 1.2946 - val_accuracy: 0.6531 - lr: 2.5000e-06\n",
            "Epoch 13/50\n",
            "167/167 [==============================] - 139s 832ms/step - loss: 1.1370 - accuracy: 0.6959 - val_loss: 1.2858 - val_accuracy: 0.6514 - lr: 2.5000e-06\n",
            "Epoch 14/50\n",
            "167/167 [==============================] - 140s 835ms/step - loss: 1.1234 - accuracy: 0.7019 - val_loss: 1.2769 - val_accuracy: 0.6565 - lr: 2.5000e-06\n",
            "Epoch 15/50\n",
            "167/167 [==============================] - 139s 833ms/step - loss: 1.0938 - accuracy: 0.7098 - val_loss: 1.2558 - val_accuracy: 0.6633 - lr: 2.5000e-06\n",
            "Epoch 16/50\n",
            "167/167 [==============================] - ETA: 0s - loss: 1.0903 - accuracy: 0.7118\n",
            "Epoch 16: ReduceLROnPlateau reducing learning rate to 1.249999968422344e-06.\n",
            "167/167 [==============================] - 140s 835ms/step - loss: 1.0903 - accuracy: 0.7118 - val_loss: 1.3645 - val_accuracy: 0.6481 - lr: 2.5000e-06\n",
            "Epoch 17/50\n",
            "167/167 [==============================] - ETA: 0s - loss: 1.0736 - accuracy: 0.7120\n",
            "Epoch 17: ReduceLROnPlateau reducing learning rate to 6.24999984211172e-07.\n",
            "167/167 [==============================] - 139s 827ms/step - loss: 1.0736 - accuracy: 0.7120 - val_loss: 1.2826 - val_accuracy: 0.6582 - lr: 1.2500e-06\n",
            "Epoch 18/50\n",
            "167/167 [==============================] - ETA: 0s - loss: 1.0711 - accuracy: 0.7156\n",
            "Epoch 18: ReduceLROnPlateau reducing learning rate to 5e-07.\n",
            "167/167 [==============================] - 140s 833ms/step - loss: 1.0711 - accuracy: 0.7156 - val_loss: 1.2634 - val_accuracy: 0.6582 - lr: 6.2500e-07\n"
          ]
        },
        {
          "output_type": "display_data",
          "data": {
            "text/plain": [
              "<Figure size 432x288 with 2 Axes>"
            ],
            "image/png": "[encoded data removed]"
          },
          "metadata": {
            "needs_background": "light"
          }
        },
        {
          "output_type": "stream",
          "name": "stdout",
          "text": [
            "396/396 [==============================] - 90s 225ms/step\n",
            "best val_accuracy : 0.663282573223114\n",
            "===== fold : 3 / 10 =====\n",
            "Epoch 1/50\n",
            "167/167 [==============================] - 145s 839ms/step - loss: 2.9078 - accuracy: 0.3581 - val_loss: 3.1366 - val_accuracy: 0.2318 - lr: 2.0000e-05\n",
            "Epoch 2/50\n",
            "167/167 [==============================] - 140s 834ms/step - loss: 1.8398 - accuracy: 0.5898 - val_loss: 2.6409 - val_accuracy: 0.3604 - lr: 2.0000e-05\n",
            "Epoch 3/50\n",
            "167/167 [==============================] - 139s 833ms/step - loss: 1.4628 - accuracy: 0.6555 - val_loss: 1.9232 - val_accuracy: 0.5025 - lr: 2.0000e-05\n",
            "Epoch 4/50\n",
            "167/167 [==============================] - ETA: 0s - loss: 1.2792 - accuracy: 0.6840\n",
            "Epoch 4: ReduceLROnPlateau reducing learning rate to 9.999999747378752e-06.\n",
            "167/167 [==============================] - 139s 828ms/step - loss: 1.2792 - accuracy: 0.6840 - val_loss: 3.0018 - val_accuracy: 0.3012 - lr: 2.0000e-05\n",
            "Epoch 5/50\n",
            "167/167 [==============================] - 140s 834ms/step - loss: 1.1427 - accuracy: 0.7100 - val_loss: 1.3857 - val_accuracy: 0.6447 - lr: 1.0000e-05\n",
            "Epoch 6/50\n",
            "167/167 [==============================] - ETA: 0s - loss: 1.0918 - accuracy: 0.7222\n",
            "Epoch 6: ReduceLROnPlateau reducing learning rate to 4.999999873689376e-06.\n",
            "167/167 [==============================] - 140s 835ms/step - loss: 1.0918 - accuracy: 0.7222 - val_loss: 1.9758 - val_accuracy: 0.5161 - lr: 1.0000e-05\n",
            "Epoch 7/50\n",
            "167/167 [==============================] - 139s 826ms/step - loss: 1.0341 - accuracy: 0.7305 - val_loss: 1.1927 - val_accuracy: 0.6937 - lr: 5.0000e-06\n",
            "Epoch 8/50\n",
            "167/167 [==============================] - 140s 834ms/step - loss: 1.0144 - accuracy: 0.7333 - val_loss: 1.1791 - val_accuracy: 0.6988 - lr: 5.0000e-06\n",
            "Epoch 9/50\n",
            "167/167 [==============================] - 139s 831ms/step - loss: 0.9758 - accuracy: 0.7419 - val_loss: 1.1530 - val_accuracy: 0.7056 - lr: 5.0000e-06\n",
            "Epoch 10/50\n",
            "167/167 [==============================] - ETA: 0s - loss: 0.9723 - accuracy: 0.7459\n",
            "Epoch 10: ReduceLROnPlateau reducing learning rate to 2.499999936844688e-06.\n",
            "167/167 [==============================] - 139s 831ms/step - loss: 0.9723 - accuracy: 0.7459 - val_loss: 1.1932 - val_accuracy: 0.6904 - lr: 5.0000e-06\n",
            "Epoch 11/50\n",
            "167/167 [==============================] - 139s 828ms/step - loss: 0.9667 - accuracy: 0.7485 - val_loss: 1.1070 - val_accuracy: 0.7090 - lr: 2.5000e-06\n",
            "Epoch 12/50\n",
            "167/167 [==============================] - ETA: 0s - loss: 0.9336 - accuracy: 0.7474\n",
            "Epoch 12: ReduceLROnPlateau reducing learning rate to 1.249999968422344e-06.\n",
            "167/167 [==============================] - 139s 829ms/step - loss: 0.9336 - accuracy: 0.7474 - val_loss: 1.1127 - val_accuracy: 0.7157 - lr: 2.5000e-06\n",
            "Epoch 13/50\n",
            "167/167 [==============================] - ETA: 0s - loss: 0.9308 - accuracy: 0.7521\n",
            "Epoch 13: ReduceLROnPlateau reducing learning rate to 6.24999984211172e-07.\n",
            "167/167 [==============================] - 140s 836ms/step - loss: 0.9308 - accuracy: 0.7521 - val_loss: 1.1385 - val_accuracy: 0.7090 - lr: 1.2500e-06\n",
            "Epoch 14/50\n",
            "167/167 [==============================] - ETA: 0s - loss: 0.9245 - accuracy: 0.7508\n",
            "Epoch 14: ReduceLROnPlateau reducing learning rate to 5e-07.\n",
            "167/167 [==============================] - 139s 828ms/step - loss: 0.9245 - accuracy: 0.7508 - val_loss: 1.1080 - val_accuracy: 0.7124 - lr: 6.2500e-07\n"
          ]
        },
        {
          "output_type": "display_data",
          "data": {
            "text/plain": [
              "<Figure size 432x288 with 2 Axes>"
            ],
            "image/png": "[encoded data removed]"
          },
          "metadata": {
            "needs_background": "light"
          }
        },
        {
          "output_type": "stream",
          "name": "stdout",
          "text": [
            "396/396 [==============================] - 91s 229ms/step\n",
            "best val_accuracy : 0.7157360315322876\n",
            "===== fold : 4 / 10 =====\n",
            "Epoch 1/50\n",
            "167/167 [==============================] - ETA: 0s - loss: 2.8865 - accuracy: 0.3782"
          ]
        },
        {
          "output_type": "error",
          "ename": "KeyboardInterrupt",
          "evalue": "ignored",
          "traceback": [
            "\u001b[0;31m---------------------------------------------------------------------------\u001b[0m",
            "\u001b[0;31mKeyboardInterrupt\u001b[0m                         Traceback (most recent call last)",
            "\u001b[0;32m<ipython-input-27-22880b78c368>\u001b[0m in \u001b[0;36m<module>\u001b[0;34m\u001b[0m\n\u001b[1;32m     24\u001b[0m     \u001b[0mLR\u001b[0m \u001b[0;34m=\u001b[0m \u001b[0mtf\u001b[0m\u001b[0;34m.\u001b[0m\u001b[0mkeras\u001b[0m\u001b[0;34m.\u001b[0m\u001b[0mcallbacks\u001b[0m\u001b[0;34m.\u001b[0m\u001b[0mReduceLROnPlateau\u001b[0m\u001b[0;34m(\u001b[0m\u001b[0mmonitor\u001b[0m\u001b[0;34m=\u001b[0m\u001b[0;34m'val_loss'\u001b[0m\u001b[0;34m,\u001b[0m\u001b[0mfactor\u001b[0m\u001b[0;34m=\u001b[0m\u001b[0;36m0.5\u001b[0m\u001b[0;34m,\u001b[0m\u001b[0mpatience\u001b[0m\u001b[0;34m=\u001b[0m\u001b[0;36m1\u001b[0m\u001b[0;34m,\u001b[0m \u001b[0mverbose\u001b[0m\u001b[0;34m=\u001b[0m\u001b[0;36m1\u001b[0m\u001b[0;34m,\u001b[0m \u001b[0mmin_lr\u001b[0m\u001b[0;34m=\u001b[0m\u001b[0;36m0.0000005\u001b[0m\u001b[0;34m)\u001b[0m\u001b[0;34m\u001b[0m\u001b[0;34m\u001b[0m\u001b[0m\n\u001b[1;32m     25\u001b[0m     \u001b[0;32mwith\u001b[0m \u001b[0mtf\u001b[0m\u001b[0;34m.\u001b[0m\u001b[0mdevice\u001b[0m\u001b[0;34m(\u001b[0m\u001b[0;34m'/GPU:0'\u001b[0m\u001b[0;34m)\u001b[0m\u001b[0;34m:\u001b[0m\u001b[0;34m\u001b[0m\u001b[0;34m\u001b[0m\u001b[0m\n\u001b[0;32m---> 26\u001b[0;31m         \u001b[0mhis\u001b[0m \u001b[0;34m=\u001b[0m \u001b[0mmodel\u001b[0m\u001b[0;34m.\u001b[0m\u001b[0mfit\u001b[0m\u001b[0;34m(\u001b[0m\u001b[0mtrain_ds\u001b[0m\u001b[0;34m,\u001b[0m \u001b[0mepochs\u001b[0m\u001b[0;34m=\u001b[0m\u001b[0;36m50\u001b[0m\u001b[0;34m,\u001b[0m \u001b[0mvalidation_data\u001b[0m\u001b[0;34m=\u001b[0m\u001b[0mvalidation_ds\u001b[0m\u001b[0;34m,\u001b[0m \u001b[0mcallbacks\u001b[0m\u001b[0;34m=\u001b[0m\u001b[0;34m[\u001b[0m\u001b[0mearly_stoper\u001b[0m\u001b[0;34m,\u001b[0m \u001b[0mLR\u001b[0m\u001b[0;34m]\u001b[0m\u001b[0;34m)\u001b[0m\u001b[0;34m\u001b[0m\u001b[0;34m\u001b[0m\u001b[0m\n\u001b[0m\u001b[1;32m     27\u001b[0m \u001b[0;34m\u001b[0m\u001b[0m\n\u001b[1;32m     28\u001b[0m     \u001b[0mplt\u001b[0m\u001b[0;34m.\u001b[0m\u001b[0msubplot\u001b[0m\u001b[0;34m(\u001b[0m\u001b[0;36m1\u001b[0m\u001b[0;34m,\u001b[0m\u001b[0;36m2\u001b[0m\u001b[0;34m,\u001b[0m\u001b[0;36m1\u001b[0m\u001b[0;34m)\u001b[0m\u001b[0;34m\u001b[0m\u001b[0;34m\u001b[0m\u001b[0m\n",
            "\u001b[0;32m/usr/local/lib/python3.7/dist-packages/keras/utils/traceback_utils.py\u001b[0m in \u001b[0;36merror_handler\u001b[0;34m(*args, **kwargs)\u001b[0m\n\u001b[1;32m     62\u001b[0m     \u001b[0mfiltered_tb\u001b[0m \u001b[0;34m=\u001b[0m \u001b[0;32mNone\u001b[0m\u001b[0;34m\u001b[0m\u001b[0;34m\u001b[0m\u001b[0m\n\u001b[1;32m     63\u001b[0m     \u001b[0;32mtry\u001b[0m\u001b[0;34m:\u001b[0m\u001b[0;34m\u001b[0m\u001b[0;34m\u001b[0m\u001b[0m\n\u001b[0;32m---> 64\u001b[0;31m       \u001b[0;32mreturn\u001b[0m \u001b[0mfn\u001b[0m\u001b[0;34m(\u001b[0m\u001b[0;34m*\u001b[0m\u001b[0margs\u001b[0m\u001b[0;34m,\u001b[0m \u001b[0;34m**\u001b[0m\u001b[0mkwargs\u001b[0m\u001b[0;34m)\u001b[0m\u001b[0;34m\u001b[0m\u001b[0;34m\u001b[0m\u001b[0m\n\u001b[0m\u001b[1;32m     65\u001b[0m     \u001b[0;32mexcept\u001b[0m \u001b[0mException\u001b[0m \u001b[0;32mas\u001b[0m \u001b[0me\u001b[0m\u001b[0;34m:\u001b[0m  \u001b[0;31m# pylint: disable=broad-except\u001b[0m\u001b[0;34m\u001b[0m\u001b[0;34m\u001b[0m\u001b[0m\n\u001b[1;32m     66\u001b[0m       \u001b[0mfiltered_tb\u001b[0m \u001b[0;34m=\u001b[0m \u001b[0m_process_traceback_frames\u001b[0m\u001b[0;34m(\u001b[0m\u001b[0me\u001b[0m\u001b[0;34m.\u001b[0m\u001b[0m__traceback__\u001b[0m\u001b[0;34m)\u001b[0m\u001b[0;34m\u001b[0m\u001b[0;34m\u001b[0m\u001b[0m\n",
            "\u001b[0;32m/usr/local/lib/python3.7/dist-packages/keras/engine/training.py\u001b[0m in \u001b[0;36mfit\u001b[0;34m(self, x, y, batch_size, epochs, verbose, callbacks, validation_split, validation_data, shuffle, class_weight, sample_weight, initial_epoch, steps_per_epoch, validation_steps, validation_batch_size, validation_freq, max_queue_size, workers, use_multiprocessing)\u001b[0m\n\u001b[1;32m   1454\u001b[0m               \u001b[0muse_multiprocessing\u001b[0m\u001b[0;34m=\u001b[0m\u001b[0muse_multiprocessing\u001b[0m\u001b[0;34m,\u001b[0m\u001b[0;34m\u001b[0m\u001b[0;34m\u001b[0m\u001b[0m\n\u001b[1;32m   1455\u001b[0m               \u001b[0mreturn_dict\u001b[0m\u001b[0;34m=\u001b[0m\u001b[0;32mTrue\u001b[0m\u001b[0;34m,\u001b[0m\u001b[0;34m\u001b[0m\u001b[0;34m\u001b[0m\u001b[0m\n\u001b[0;32m-> 1456\u001b[0;31m               _use_cached_eval_dataset=True)\n\u001b[0m\u001b[1;32m   1457\u001b[0m           \u001b[0mval_logs\u001b[0m \u001b[0;34m=\u001b[0m \u001b[0;34m{\u001b[0m\u001b[0;34m'val_'\u001b[0m \u001b[0;34m+\u001b[0m \u001b[0mname\u001b[0m\u001b[0;34m:\u001b[0m \u001b[0mval\u001b[0m \u001b[0;32mfor\u001b[0m \u001b[0mname\u001b[0m\u001b[0;34m,\u001b[0m \u001b[0mval\u001b[0m \u001b[0;32min\u001b[0m \u001b[0mval_logs\u001b[0m\u001b[0;34m.\u001b[0m\u001b[0mitems\u001b[0m\u001b[0;34m(\u001b[0m\u001b[0;34m)\u001b[0m\u001b[0;34m}\u001b[0m\u001b[0;34m\u001b[0m\u001b[0;34m\u001b[0m\u001b[0m\n\u001b[1;32m   1458\u001b[0m           \u001b[0mepoch_logs\u001b[0m\u001b[0;34m.\u001b[0m\u001b[0mupdate\u001b[0m\u001b[0;34m(\u001b[0m\u001b[0mval_logs\u001b[0m\u001b[0;34m)\u001b[0m\u001b[0;34m\u001b[0m\u001b[0;34m\u001b[0m\u001b[0m\n",
            "\u001b[0;32m/usr/local/lib/python3.7/dist-packages/keras/utils/traceback_utils.py\u001b[0m in \u001b[0;36merror_handler\u001b[0;34m(*args, **kwargs)\u001b[0m\n\u001b[1;32m     62\u001b[0m     \u001b[0mfiltered_tb\u001b[0m \u001b[0;34m=\u001b[0m \u001b[0;32mNone\u001b[0m\u001b[0;34m\u001b[0m\u001b[0;34m\u001b[0m\u001b[0m\n\u001b[1;32m     63\u001b[0m     \u001b[0;32mtry\u001b[0m\u001b[0;34m:\u001b[0m\u001b[0;34m\u001b[0m\u001b[0;34m\u001b[0m\u001b[0m\n\u001b[0;32m---> 64\u001b[0;31m       \u001b[0;32mreturn\u001b[0m \u001b[0mfn\u001b[0m\u001b[0;34m(\u001b[0m\u001b[0;34m*\u001b[0m\u001b[0margs\u001b[0m\u001b[0;34m,\u001b[0m \u001b[0;34m**\u001b[0m\u001b[0mkwargs\u001b[0m\u001b[0;34m)\u001b[0m\u001b[0;34m\u001b[0m\u001b[0;34m\u001b[0m\u001b[0m\n\u001b[0m\u001b[1;32m     65\u001b[0m     \u001b[0;32mexcept\u001b[0m \u001b[0mException\u001b[0m \u001b[0;32mas\u001b[0m \u001b[0me\u001b[0m\u001b[0;34m:\u001b[0m  \u001b[0;31m# pylint: disable=broad-except\u001b[0m\u001b[0;34m\u001b[0m\u001b[0;34m\u001b[0m\u001b[0m\n\u001b[1;32m     66\u001b[0m       \u001b[0mfiltered_tb\u001b[0m \u001b[0;34m=\u001b[0m \u001b[0m_process_traceback_frames\u001b[0m\u001b[0;34m(\u001b[0m\u001b[0me\u001b[0m\u001b[0;34m.\u001b[0m\u001b[0m__traceback__\u001b[0m\u001b[0;34m)\u001b[0m\u001b[0;34m\u001b[0m\u001b[0;34m\u001b[0m\u001b[0m\n",
            "\u001b[0;32m/usr/local/lib/python3.7/dist-packages/keras/engine/training.py\u001b[0m in \u001b[0;36mevaluate\u001b[0;34m(self, x, y, batch_size, verbose, sample_weight, steps, callbacks, max_queue_size, workers, use_multiprocessing, return_dict, **kwargs)\u001b[0m\n\u001b[1;32m   1754\u001b[0m             \u001b[0;32mwith\u001b[0m \u001b[0mtf\u001b[0m\u001b[0;34m.\u001b[0m\u001b[0mprofiler\u001b[0m\u001b[0;34m.\u001b[0m\u001b[0mexperimental\u001b[0m\u001b[0;34m.\u001b[0m\u001b[0mTrace\u001b[0m\u001b[0;34m(\u001b[0m\u001b[0;34m'test'\u001b[0m\u001b[0;34m,\u001b[0m \u001b[0mstep_num\u001b[0m\u001b[0;34m=\u001b[0m\u001b[0mstep\u001b[0m\u001b[0;34m,\u001b[0m \u001b[0m_r\u001b[0m\u001b[0;34m=\u001b[0m\u001b[0;36m1\u001b[0m\u001b[0;34m)\u001b[0m\u001b[0;34m:\u001b[0m\u001b[0;34m\u001b[0m\u001b[0;34m\u001b[0m\u001b[0m\n\u001b[1;32m   1755\u001b[0m               \u001b[0mcallbacks\u001b[0m\u001b[0;34m.\u001b[0m\u001b[0mon_test_batch_begin\u001b[0m\u001b[0;34m(\u001b[0m\u001b[0mstep\u001b[0m\u001b[0;34m)\u001b[0m\u001b[0;34m\u001b[0m\u001b[0;34m\u001b[0m\u001b[0m\n\u001b[0;32m-> 1756\u001b[0;31m               \u001b[0mtmp_logs\u001b[0m \u001b[0;34m=\u001b[0m \u001b[0mself\u001b[0m\u001b[0;34m.\u001b[0m\u001b[0mtest_function\u001b[0m\u001b[0;34m(\u001b[0m\u001b[0miterator\u001b[0m\u001b[0;34m)\u001b[0m\u001b[0;34m\u001b[0m\u001b[0;34m\u001b[0m\u001b[0m\n\u001b[0m\u001b[1;32m   1757\u001b[0m               \u001b[0;32mif\u001b[0m \u001b[0mdata_handler\u001b[0m\u001b[0;34m.\u001b[0m\u001b[0mshould_sync\u001b[0m\u001b[0;34m:\u001b[0m\u001b[0;34m\u001b[0m\u001b[0;34m\u001b[0m\u001b[0m\n\u001b[1;32m   1758\u001b[0m                 \u001b[0mcontext\u001b[0m\u001b[0;34m.\u001b[0m\u001b[0masync_wait\u001b[0m\u001b[0;34m(\u001b[0m\u001b[0;34m)\u001b[0m\u001b[0;34m\u001b[0m\u001b[0;34m\u001b[0m\u001b[0m\n",
            "\u001b[0;32m/usr/local/lib/python3.7/dist-packages/tensorflow/python/util/traceback_utils.py\u001b[0m in \u001b[0;36merror_handler\u001b[0;34m(*args, **kwargs)\u001b[0m\n\u001b[1;32m    148\u001b[0m     \u001b[0mfiltered_tb\u001b[0m \u001b[0;34m=\u001b[0m \u001b[0;32mNone\u001b[0m\u001b[0;34m\u001b[0m\u001b[0;34m\u001b[0m\u001b[0m\n\u001b[1;32m    149\u001b[0m     \u001b[0;32mtry\u001b[0m\u001b[0;34m:\u001b[0m\u001b[0;34m\u001b[0m\u001b[0;34m\u001b[0m\u001b[0m\n\u001b[0;32m--> 150\u001b[0;31m       \u001b[0;32mreturn\u001b[0m \u001b[0mfn\u001b[0m\u001b[0;34m(\u001b[0m\u001b[0;34m*\u001b[0m\u001b[0margs\u001b[0m\u001b[0;34m,\u001b[0m \u001b[0;34m**\u001b[0m\u001b[0mkwargs\u001b[0m\u001b[0;34m)\u001b[0m\u001b[0;34m\u001b[0m\u001b[0;34m\u001b[0m\u001b[0m\n\u001b[0m\u001b[1;32m    151\u001b[0m     \u001b[0;32mexcept\u001b[0m \u001b[0mException\u001b[0m \u001b[0;32mas\u001b[0m \u001b[0me\u001b[0m\u001b[0;34m:\u001b[0m\u001b[0;34m\u001b[0m\u001b[0;34m\u001b[0m\u001b[0m\n\u001b[1;32m    152\u001b[0m       \u001b[0mfiltered_tb\u001b[0m \u001b[0;34m=\u001b[0m \u001b[0m_process_traceback_frames\u001b[0m\u001b[0;34m(\u001b[0m\u001b[0me\u001b[0m\u001b[0;34m.\u001b[0m\u001b[0m__traceback__\u001b[0m\u001b[0;34m)\u001b[0m\u001b[0;34m\u001b[0m\u001b[0;34m\u001b[0m\u001b[0m\n",
            "\u001b[0;32m/usr/local/lib/python3.7/dist-packages/tensorflow/python/eager/def_function.py\u001b[0m in \u001b[0;36m__call__\u001b[0;34m(self, *args, **kwds)\u001b[0m\n\u001b[1;32m    913\u001b[0m \u001b[0;34m\u001b[0m\u001b[0m\n\u001b[1;32m    914\u001b[0m       \u001b[0;32mwith\u001b[0m \u001b[0mOptionalXlaContext\u001b[0m\u001b[0;34m(\u001b[0m\u001b[0mself\u001b[0m\u001b[0;34m.\u001b[0m\u001b[0m_jit_compile\u001b[0m\u001b[0;34m)\u001b[0m\u001b[0;34m:\u001b[0m\u001b[0;34m\u001b[0m\u001b[0;34m\u001b[0m\u001b[0m\n\u001b[0;32m--> 915\u001b[0;31m         \u001b[0mresult\u001b[0m \u001b[0;34m=\u001b[0m \u001b[0mself\u001b[0m\u001b[0;34m.\u001b[0m\u001b[0m_call\u001b[0m\u001b[0;34m(\u001b[0m\u001b[0;34m*\u001b[0m\u001b[0margs\u001b[0m\u001b[0;34m,\u001b[0m \u001b[0;34m**\u001b[0m\u001b[0mkwds\u001b[0m\u001b[0;34m)\u001b[0m\u001b[0;34m\u001b[0m\u001b[0;34m\u001b[0m\u001b[0m\n\u001b[0m\u001b[1;32m    916\u001b[0m \u001b[0;34m\u001b[0m\u001b[0m\n\u001b[1;32m    917\u001b[0m       \u001b[0mnew_tracing_count\u001b[0m \u001b[0;34m=\u001b[0m \u001b[0mself\u001b[0m\u001b[0;34m.\u001b[0m\u001b[0mexperimental_get_tracing_count\u001b[0m\u001b[0;34m(\u001b[0m\u001b[0;34m)\u001b[0m\u001b[0;34m\u001b[0m\u001b[0;34m\u001b[0m\u001b[0m\n",
            "\u001b[0;32m/usr/local/lib/python3.7/dist-packages/tensorflow/python/eager/def_function.py\u001b[0m in \u001b[0;36m_call\u001b[0;34m(self, *args, **kwds)\u001b[0m\n\u001b[1;32m    952\u001b[0m       \u001b[0;31m# In this case we have not created variables on the first call. So we can\u001b[0m\u001b[0;34m\u001b[0m\u001b[0;34m\u001b[0m\u001b[0;34m\u001b[0m\u001b[0m\n\u001b[1;32m    953\u001b[0m       \u001b[0;31m# run the first trace but we should fail if variables are created.\u001b[0m\u001b[0;34m\u001b[0m\u001b[0;34m\u001b[0m\u001b[0;34m\u001b[0m\u001b[0m\n\u001b[0;32m--> 954\u001b[0;31m       \u001b[0mresults\u001b[0m \u001b[0;34m=\u001b[0m \u001b[0mself\u001b[0m\u001b[0;34m.\u001b[0m\u001b[0m_stateful_fn\u001b[0m\u001b[0;34m(\u001b[0m\u001b[0;34m*\u001b[0m\u001b[0margs\u001b[0m\u001b[0;34m,\u001b[0m \u001b[0;34m**\u001b[0m\u001b[0mkwds\u001b[0m\u001b[0;34m)\u001b[0m\u001b[0;34m\u001b[0m\u001b[0;34m\u001b[0m\u001b[0m\n\u001b[0m\u001b[1;32m    955\u001b[0m       \u001b[0;32mif\u001b[0m \u001b[0mself\u001b[0m\u001b[0;34m.\u001b[0m\u001b[0m_created_variables\u001b[0m \u001b[0;32mand\u001b[0m \u001b[0;32mnot\u001b[0m \u001b[0mALLOW_DYNAMIC_VARIABLE_CREATION\u001b[0m\u001b[0;34m:\u001b[0m\u001b[0;34m\u001b[0m\u001b[0;34m\u001b[0m\u001b[0m\n\u001b[1;32m    956\u001b[0m         raise ValueError(\"Creating variables on a non-first call to a function\"\n",
            "\u001b[0;32m/usr/local/lib/python3.7/dist-packages/tensorflow/python/eager/function.py\u001b[0m in \u001b[0;36m__call__\u001b[0;34m(self, *args, **kwargs)\u001b[0m\n\u001b[1;32m   2452\u001b[0m        filtered_flat_args) = self._maybe_define_function(args, kwargs)\n\u001b[1;32m   2453\u001b[0m     return graph_function._call_flat(\n\u001b[0;32m-> 2454\u001b[0;31m         filtered_flat_args, captured_inputs=graph_function.captured_inputs)  # pylint: disable=protected-access\n\u001b[0m\u001b[1;32m   2455\u001b[0m \u001b[0;34m\u001b[0m\u001b[0m\n\u001b[1;32m   2456\u001b[0m   \u001b[0;34m@\u001b[0m\u001b[0mproperty\u001b[0m\u001b[0;34m\u001b[0m\u001b[0;34m\u001b[0m\u001b[0m\n",
            "\u001b[0;32m/usr/local/lib/python3.7/dist-packages/tensorflow/python/eager/function.py\u001b[0m in \u001b[0;36m_call_flat\u001b[0;34m(self, args, captured_inputs, cancellation_manager)\u001b[0m\n\u001b[1;32m   1859\u001b[0m       \u001b[0;31m# No tape is watching; skip to running the function.\u001b[0m\u001b[0;34m\u001b[0m\u001b[0;34m\u001b[0m\u001b[0;34m\u001b[0m\u001b[0m\n\u001b[1;32m   1860\u001b[0m       return self._build_call_outputs(self._inference_function.call(\n\u001b[0;32m-> 1861\u001b[0;31m           ctx, args, cancellation_manager=cancellation_manager))\n\u001b[0m\u001b[1;32m   1862\u001b[0m     forward_backward = self._select_forward_and_backward_functions(\n\u001b[1;32m   1863\u001b[0m         \u001b[0margs\u001b[0m\u001b[0;34m,\u001b[0m\u001b[0;34m\u001b[0m\u001b[0;34m\u001b[0m\u001b[0m\n",
            "\u001b[0;32m/usr/local/lib/python3.7/dist-packages/tensorflow/python/eager/function.py\u001b[0m in \u001b[0;36mcall\u001b[0;34m(self, ctx, args, cancellation_manager)\u001b[0m\n\u001b[1;32m    500\u001b[0m               \u001b[0minputs\u001b[0m\u001b[0;34m=\u001b[0m\u001b[0margs\u001b[0m\u001b[0;34m,\u001b[0m\u001b[0;34m\u001b[0m\u001b[0;34m\u001b[0m\u001b[0m\n\u001b[1;32m    501\u001b[0m               \u001b[0mattrs\u001b[0m\u001b[0;34m=\u001b[0m\u001b[0mattrs\u001b[0m\u001b[0;34m,\u001b[0m\u001b[0;34m\u001b[0m\u001b[0;34m\u001b[0m\u001b[0m\n\u001b[0;32m--> 502\u001b[0;31m               ctx=ctx)\n\u001b[0m\u001b[1;32m    503\u001b[0m         \u001b[0;32melse\u001b[0m\u001b[0;34m:\u001b[0m\u001b[0;34m\u001b[0m\u001b[0;34m\u001b[0m\u001b[0m\n\u001b[1;32m    504\u001b[0m           outputs = execute.execute_with_cancellation(\n",
            "\u001b[0;32m/usr/local/lib/python3.7/dist-packages/tensorflow/python/eager/execute.py\u001b[0m in \u001b[0;36mquick_execute\u001b[0;34m(op_name, num_outputs, inputs, attrs, ctx, name)\u001b[0m\n\u001b[1;32m     53\u001b[0m     \u001b[0mctx\u001b[0m\u001b[0;34m.\u001b[0m\u001b[0mensure_initialized\u001b[0m\u001b[0;34m(\u001b[0m\u001b[0;34m)\u001b[0m\u001b[0;34m\u001b[0m\u001b[0;34m\u001b[0m\u001b[0m\n\u001b[1;32m     54\u001b[0m     tensors = pywrap_tfe.TFE_Py_Execute(ctx._handle, device_name, op_name,\n\u001b[0;32m---> 55\u001b[0;31m                                         inputs, attrs, num_outputs)\n\u001b[0m\u001b[1;32m     56\u001b[0m   \u001b[0;32mexcept\u001b[0m \u001b[0mcore\u001b[0m\u001b[0;34m.\u001b[0m\u001b[0m_NotOkStatusException\u001b[0m \u001b[0;32mas\u001b[0m \u001b[0me\u001b[0m\u001b[0;34m:\u001b[0m\u001b[0;34m\u001b[0m\u001b[0;34m\u001b[0m\u001b[0m\n\u001b[1;32m     57\u001b[0m     \u001b[0;32mif\u001b[0m \u001b[0mname\u001b[0m \u001b[0;32mis\u001b[0m \u001b[0;32mnot\u001b[0m \u001b[0;32mNone\u001b[0m\u001b[0;34m:\u001b[0m\u001b[0;34m\u001b[0m\u001b[0;34m\u001b[0m\u001b[0m\n",
            "\u001b[0;31mKeyboardInterrupt\u001b[0m: "
          ]
        }
      ]
    },
    {
      "cell_type": "code",
      "source": [
        "pre = classes[0][np.argmax(pre_all, axis=1)]"
      ],
      "metadata": {
        "id": "7wdBEuC9pjgd"
      },
      "execution_count": null,
      "outputs": []
    },
    {
      "cell_type": "markdown",
      "source": [
        "## tfimm(vit)"
      ],
      "metadata": {
        "id": "vmn1GtYMuxR3"
      }
    },
    {
      "cell_type": "code",
      "source": [
        "tfimm.list_models()"
      ],
      "metadata": {
        "id": "bs3G5NjNvVa6"
      },
      "execution_count": null,
      "outputs": []
    },
    {
      "cell_type": "code",
      "source": [
        "prepro = tfimm.create_preprocessing('vit_tiny_patch16_224', dtype='float32')\n",
        "base_model = tfimm.create_model('vit_tiny_patch16_224', pretrained='timm', nb_classes=50)\n",
        "\n",
        "def model_make():\n",
        "    inputs = layers.Input(shape=(250,250,3))\n",
        "    outputs = base_model(inputs)\n",
        "\n",
        "    model = tf.keras.Model(inputs, outputs)\n",
        "    return model\n",
        "\n",
        "model = model_make()\n",
        "model.summary()"
      ],
      "metadata": {
        "colab": {
          "base_uri": "https://localhost:8080/"
        },
        "id": "KXaxGHBau2-w",
        "outputId": "fd8893da-6654-4294-eaf5-3b6f14f121a6"
      },
      "execution_count": 27,
      "outputs": [
        {
          "output_type": "stream",
          "name": "stderr",
          "text": [
            "WARNING:tfimm.utils.timm:All PyTorch model weights were used when initializing ViT.\n",
            "WARNING:tfimm.utils.timm:All the weights of ViT were initialized from the PyTorch model.\n",
            "\n"
          ]
        },
        {
          "output_type": "stream",
          "name": "stdout",
          "text": [
            "Model: \"model_2\"\n",
            "_________________________________________________________________\n",
            " Layer (type)                Output Shape              Param #   \n",
            "=================================================================\n",
            " input_3 (InputLayer)        [(None, 250, 250, 3)]     0         \n",
            "                                                                 \n",
            " vit_tiny_patch16_224 (ViT)  (None, 50)                5534066   \n",
            "                                                                 \n",
            "=================================================================\n",
            "Total params: 5,534,066\n",
            "Trainable params: 5,534,066\n",
            "Non-trainable params: 0\n",
            "_________________________________________________________________\n"
          ]
        }
      ]
    },
    {
      "cell_type": "code",
      "source": [
        "class data_maker(tf.keras.utils.Sequence):\n",
        "    def __init__(self, path, label=None, img_size = 250, batch = 32, train = True, shuffle = False):\n",
        "        self.path = path\n",
        "        self.label = label\n",
        "        self.img_size = img_size\n",
        "        self.batch = batch\n",
        "        self.train = train\n",
        "        self.shuffle = shuffle\n",
        "\n",
        "        if self.shuffle:\n",
        "            self.on_epoch_end()\n",
        "\n",
        "    def __len__(self):\n",
        "        return int(np.ceil(len(self.path) / self.batch))\n",
        "\n",
        "    def __getitem__(self, index):\n",
        "        path_sel = self.path[index * self.batch : (index + 1) * self.batch]\n",
        "        if self.label is not None:\n",
        "            label_sel = self.label[index * self.batch : (index+1) * self.batch]\n",
        "        \n",
        "        transfomer = A.Compose([A.RandomCrop(self.img_size, self.img_size),\n",
        "                                A.HorizontalFlip(),\n",
        "                                #A.RandomBrightnessContrast(),\n",
        "                                #A.RandomGridShuffle(),\n",
        "                                #A.OneOf([A.Sharpen(p=1), A.Blur(p=1), A.Emboss(p=1)], p=0.3)\n",
        "                                ])\n",
        "        image = np.zeros((len(path_sel), self.img_size, self.img_size, 3), dtype=np.float32)\n",
        "        for i in range(len(path_sel)):\n",
        "            img = cv2.cvtColor(cv2.imread(path_sel[i]), cv2.COLOR_BGR2RGB)\n",
        "            if self.train:\n",
        "                img = cv2.resize(img, (500,500)) \n",
        "                img = transfomer(image=img)['image'] / 255\n",
        "            else:\n",
        "                img = cv2.resize(img, (self.img_size, self.img_size)) / 255\n",
        "\n",
        "            image[i] = img\n",
        "        image = prepro(image)\n",
        "\n",
        "        if self.label is not None:\n",
        "            return image, np.array(label_sel)\n",
        "        else:\n",
        "            return image\n",
        "\n",
        "    def on_epoch_end(self):\n",
        "        if self.shuffle:\n",
        "            self.path, self.label = sklearn.utils.shuffle(self.path, self.label)\n",
        "        else:\n",
        "            pass"
      ],
      "metadata": {
        "id": "pSLOnH3MvCMk"
      },
      "execution_count": 11,
      "outputs": []
    },
    {
      "cell_type": "code",
      "source": [
        "x_train = train['img_path']\n",
        "y_train = pd.get_dummies(train['artist'])\n",
        "classes = y_train.columns\n",
        "\n",
        "from sklearn.preprocessing import LabelEncoder\n",
        "lae = LabelEncoder()\n",
        "y_train = lae.fit_transform(train['artist'])\n",
        "a = pd.DataFrame(y_train).value_counts().reset_index(name='ct')\n",
        "a.columns = ['id', 'ct']\n",
        "ct_sum = sum(a['ct'])\n",
        "a['weight'] = round(ct_sum/a['ct'], 2)\n",
        "weight = {i : a[a['id'] == i]['weight'].values[0] for i in a['id'].values}\n",
        "\n",
        "x_ttrain, x_ttest, y_ttrain, y_ttest = train_test_split(x_train, y_train, test_size=0.1, stratify=y_train)\n",
        "x_ttrain.shape, x_ttest.shape, y_ttrain.shape, y_ttest.shape\n",
        "\n",
        "img_size = 224\n",
        "train_ds = data_maker(x_ttrain.values, y_ttrain, img_size=img_size, batch=32, train=True, shuffle=True)\n",
        "val_ds = data_maker(x_ttest.values, y_ttest, img_size=img_size, batch=32, train=True, shuffle=False)"
      ],
      "metadata": {
        "id": "qxHeuWYUxZVD"
      },
      "execution_count": 36,
      "outputs": []
    },
    {
      "cell_type": "code",
      "source": [
        "model.compile(optimizer=tf.keras.optimizers.Adam(learning_rate=0.00002), loss=tf.keras.losses.SparseCategoricalCrossentropy(), metrics=['accuracy'])\n",
        "early_stoper = tf.keras.callbacks.EarlyStopping(monitor='val_loss', patience=5)\n",
        "lr_sc = tf.keras.callbacks.ReduceLROnPlateau(monitor='val_loss', patience=2,factor=0.5, vervose=1 )"
      ],
      "metadata": {
        "id": "_lpM4_k9yGbK"
      },
      "execution_count": 32,
      "outputs": []
    },
    {
      "cell_type": "code",
      "source": [
        "with tf.device('/GPU:0'):\n",
        "    his = model.fit(train_ds, epochs=50, validation_data=val_ds, callbacks=[early_stoper,lr_sc])#, class_weight=weight)"
      ],
      "metadata": {
        "colab": {
          "base_uri": "https://localhost:8080/",
          "height": 492
        },
        "id": "xG-13ZRJyMsB",
        "outputId": "96b2e34b-ae56-4776-d80e-000e0995b3b5"
      },
      "execution_count": 37,
      "outputs": [
        {
          "output_type": "stream",
          "name": "stdout",
          "text": [
            "Epoch 1/50\n",
            "167/167 [==============================] - 153s 916ms/step - loss: 12.3950 - accuracy: 0.0929 - val_loss: 12.5368 - val_accuracy: 0.1064 - lr: 2.0000e-05\n",
            "Epoch 2/50\n",
            "167/167 [==============================] - 108s 644ms/step - loss: 12.4868 - accuracy: 0.1064 - val_loss: 12.5368 - val_accuracy: 0.1064 - lr: 2.0000e-05\n",
            "Epoch 3/50\n",
            "167/167 [==============================] - 107s 640ms/step - loss: 12.4868 - accuracy: 0.1064 - val_loss: 12.5368 - val_accuracy: 0.1064 - lr: 2.0000e-05\n",
            "Epoch 4/50\n",
            "  7/167 [>.............................] - ETA: 1:32 - loss: 12.6379 - accuracy: 0.1161"
          ]
        },
        {
          "output_type": "error",
          "ename": "KeyboardInterrupt",
          "evalue": "ignored",
          "traceback": [
            "\u001b[0;31m---------------------------------------------------------------------------\u001b[0m",
            "\u001b[0;31mKeyboardInterrupt\u001b[0m                         Traceback (most recent call last)",
            "\u001b[0;32m<ipython-input-37-3c455e684929>\u001b[0m in \u001b[0;36m<module>\u001b[0;34m\u001b[0m\n\u001b[1;32m      1\u001b[0m \u001b[0;32mwith\u001b[0m \u001b[0mtf\u001b[0m\u001b[0;34m.\u001b[0m\u001b[0mdevice\u001b[0m\u001b[0;34m(\u001b[0m\u001b[0;34m'/GPU:0'\u001b[0m\u001b[0;34m)\u001b[0m\u001b[0;34m:\u001b[0m\u001b[0;34m\u001b[0m\u001b[0;34m\u001b[0m\u001b[0m\n\u001b[0;32m----> 2\u001b[0;31m     \u001b[0mhis\u001b[0m \u001b[0;34m=\u001b[0m \u001b[0mmodel\u001b[0m\u001b[0;34m.\u001b[0m\u001b[0mfit\u001b[0m\u001b[0;34m(\u001b[0m\u001b[0mtrain_ds\u001b[0m\u001b[0;34m,\u001b[0m \u001b[0mepochs\u001b[0m\u001b[0;34m=\u001b[0m\u001b[0;36m50\u001b[0m\u001b[0;34m,\u001b[0m \u001b[0mvalidation_data\u001b[0m\u001b[0;34m=\u001b[0m\u001b[0mval_ds\u001b[0m\u001b[0;34m,\u001b[0m \u001b[0mcallbacks\u001b[0m\u001b[0;34m=\u001b[0m\u001b[0;34m[\u001b[0m\u001b[0mearly_stoper\u001b[0m\u001b[0;34m,\u001b[0m\u001b[0mlr_sc\u001b[0m\u001b[0;34m]\u001b[0m\u001b[0;34m)\u001b[0m\u001b[0;31m#, class_weight=weight)\u001b[0m\u001b[0;34m\u001b[0m\u001b[0;34m\u001b[0m\u001b[0m\n\u001b[0m",
            "\u001b[0;32m/usr/local/lib/python3.7/dist-packages/keras/utils/traceback_utils.py\u001b[0m in \u001b[0;36merror_handler\u001b[0;34m(*args, **kwargs)\u001b[0m\n\u001b[1;32m     62\u001b[0m     \u001b[0mfiltered_tb\u001b[0m \u001b[0;34m=\u001b[0m \u001b[0;32mNone\u001b[0m\u001b[0;34m\u001b[0m\u001b[0;34m\u001b[0m\u001b[0m\n\u001b[1;32m     63\u001b[0m     \u001b[0;32mtry\u001b[0m\u001b[0;34m:\u001b[0m\u001b[0;34m\u001b[0m\u001b[0;34m\u001b[0m\u001b[0m\n\u001b[0;32m---> 64\u001b[0;31m       \u001b[0;32mreturn\u001b[0m \u001b[0mfn\u001b[0m\u001b[0;34m(\u001b[0m\u001b[0;34m*\u001b[0m\u001b[0margs\u001b[0m\u001b[0;34m,\u001b[0m \u001b[0;34m**\u001b[0m\u001b[0mkwargs\u001b[0m\u001b[0;34m)\u001b[0m\u001b[0;34m\u001b[0m\u001b[0;34m\u001b[0m\u001b[0m\n\u001b[0m\u001b[1;32m     65\u001b[0m     \u001b[0;32mexcept\u001b[0m \u001b[0mException\u001b[0m \u001b[0;32mas\u001b[0m \u001b[0me\u001b[0m\u001b[0;34m:\u001b[0m  \u001b[0;31m# pylint: disable=broad-except\u001b[0m\u001b[0;34m\u001b[0m\u001b[0;34m\u001b[0m\u001b[0m\n\u001b[1;32m     66\u001b[0m       \u001b[0mfiltered_tb\u001b[0m \u001b[0;34m=\u001b[0m \u001b[0m_process_traceback_frames\u001b[0m\u001b[0;34m(\u001b[0m\u001b[0me\u001b[0m\u001b[0;34m.\u001b[0m\u001b[0m__traceback__\u001b[0m\u001b[0;34m)\u001b[0m\u001b[0;34m\u001b[0m\u001b[0;34m\u001b[0m\u001b[0m\n",
            "\u001b[0;32m/usr/local/lib/python3.7/dist-packages/keras/engine/training.py\u001b[0m in \u001b[0;36mfit\u001b[0;34m(self, x, y, batch_size, epochs, verbose, callbacks, validation_split, validation_data, shuffle, class_weight, sample_weight, initial_epoch, steps_per_epoch, validation_steps, validation_batch_size, validation_freq, max_queue_size, workers, use_multiprocessing)\u001b[0m\n\u001b[1;32m   1407\u001b[0m                 _r=1):\n\u001b[1;32m   1408\u001b[0m               \u001b[0mcallbacks\u001b[0m\u001b[0;34m.\u001b[0m\u001b[0mon_train_batch_begin\u001b[0m\u001b[0;34m(\u001b[0m\u001b[0mstep\u001b[0m\u001b[0;34m)\u001b[0m\u001b[0;34m\u001b[0m\u001b[0;34m\u001b[0m\u001b[0m\n\u001b[0;32m-> 1409\u001b[0;31m               \u001b[0mtmp_logs\u001b[0m \u001b[0;34m=\u001b[0m \u001b[0mself\u001b[0m\u001b[0;34m.\u001b[0m\u001b[0mtrain_function\u001b[0m\u001b[0;34m(\u001b[0m\u001b[0miterator\u001b[0m\u001b[0;34m)\u001b[0m\u001b[0;34m\u001b[0m\u001b[0;34m\u001b[0m\u001b[0m\n\u001b[0m\u001b[1;32m   1410\u001b[0m               \u001b[0;32mif\u001b[0m \u001b[0mdata_handler\u001b[0m\u001b[0;34m.\u001b[0m\u001b[0mshould_sync\u001b[0m\u001b[0;34m:\u001b[0m\u001b[0;34m\u001b[0m\u001b[0;34m\u001b[0m\u001b[0m\n\u001b[1;32m   1411\u001b[0m                 \u001b[0mcontext\u001b[0m\u001b[0;34m.\u001b[0m\u001b[0masync_wait\u001b[0m\u001b[0;34m(\u001b[0m\u001b[0;34m)\u001b[0m\u001b[0;34m\u001b[0m\u001b[0;34m\u001b[0m\u001b[0m\n",
            "\u001b[0;32m/usr/local/lib/python3.7/dist-packages/tensorflow/python/util/traceback_utils.py\u001b[0m in \u001b[0;36merror_handler\u001b[0;34m(*args, **kwargs)\u001b[0m\n\u001b[1;32m    148\u001b[0m     \u001b[0mfiltered_tb\u001b[0m \u001b[0;34m=\u001b[0m \u001b[0;32mNone\u001b[0m\u001b[0;34m\u001b[0m\u001b[0;34m\u001b[0m\u001b[0m\n\u001b[1;32m    149\u001b[0m     \u001b[0;32mtry\u001b[0m\u001b[0;34m:\u001b[0m\u001b[0;34m\u001b[0m\u001b[0;34m\u001b[0m\u001b[0m\n\u001b[0;32m--> 150\u001b[0;31m       \u001b[0;32mreturn\u001b[0m \u001b[0mfn\u001b[0m\u001b[0;34m(\u001b[0m\u001b[0;34m*\u001b[0m\u001b[0margs\u001b[0m\u001b[0;34m,\u001b[0m \u001b[0;34m**\u001b[0m\u001b[0mkwargs\u001b[0m\u001b[0;34m)\u001b[0m\u001b[0;34m\u001b[0m\u001b[0;34m\u001b[0m\u001b[0m\n\u001b[0m\u001b[1;32m    151\u001b[0m     \u001b[0;32mexcept\u001b[0m \u001b[0mException\u001b[0m \u001b[0;32mas\u001b[0m \u001b[0me\u001b[0m\u001b[0;34m:\u001b[0m\u001b[0;34m\u001b[0m\u001b[0;34m\u001b[0m\u001b[0m\n\u001b[1;32m    152\u001b[0m       \u001b[0mfiltered_tb\u001b[0m \u001b[0;34m=\u001b[0m \u001b[0m_process_traceback_frames\u001b[0m\u001b[0;34m(\u001b[0m\u001b[0me\u001b[0m\u001b[0;34m.\u001b[0m\u001b[0m__traceback__\u001b[0m\u001b[0;34m)\u001b[0m\u001b[0;34m\u001b[0m\u001b[0;34m\u001b[0m\u001b[0m\n",
            "\u001b[0;32m/usr/local/lib/python3.7/dist-packages/tensorflow/python/eager/def_function.py\u001b[0m in \u001b[0;36m__call__\u001b[0;34m(self, *args, **kwds)\u001b[0m\n\u001b[1;32m    913\u001b[0m \u001b[0;34m\u001b[0m\u001b[0m\n\u001b[1;32m    914\u001b[0m       \u001b[0;32mwith\u001b[0m \u001b[0mOptionalXlaContext\u001b[0m\u001b[0;34m(\u001b[0m\u001b[0mself\u001b[0m\u001b[0;34m.\u001b[0m\u001b[0m_jit_compile\u001b[0m\u001b[0;34m)\u001b[0m\u001b[0;34m:\u001b[0m\u001b[0;34m\u001b[0m\u001b[0;34m\u001b[0m\u001b[0m\n\u001b[0;32m--> 915\u001b[0;31m         \u001b[0mresult\u001b[0m \u001b[0;34m=\u001b[0m \u001b[0mself\u001b[0m\u001b[0;34m.\u001b[0m\u001b[0m_call\u001b[0m\u001b[0;34m(\u001b[0m\u001b[0;34m*\u001b[0m\u001b[0margs\u001b[0m\u001b[0;34m,\u001b[0m \u001b[0;34m**\u001b[0m\u001b[0mkwds\u001b[0m\u001b[0;34m)\u001b[0m\u001b[0;34m\u001b[0m\u001b[0;34m\u001b[0m\u001b[0m\n\u001b[0m\u001b[1;32m    916\u001b[0m \u001b[0;34m\u001b[0m\u001b[0m\n\u001b[1;32m    917\u001b[0m       \u001b[0mnew_tracing_count\u001b[0m \u001b[0;34m=\u001b[0m \u001b[0mself\u001b[0m\u001b[0;34m.\u001b[0m\u001b[0mexperimental_get_tracing_count\u001b[0m\u001b[0;34m(\u001b[0m\u001b[0;34m)\u001b[0m\u001b[0;34m\u001b[0m\u001b[0;34m\u001b[0m\u001b[0m\n",
            "\u001b[0;32m/usr/local/lib/python3.7/dist-packages/tensorflow/python/eager/def_function.py\u001b[0m in \u001b[0;36m_call\u001b[0;34m(self, *args, **kwds)\u001b[0m\n\u001b[1;32m    945\u001b[0m       \u001b[0;31m# In this case we have created variables on the first call, so we run the\u001b[0m\u001b[0;34m\u001b[0m\u001b[0;34m\u001b[0m\u001b[0;34m\u001b[0m\u001b[0m\n\u001b[1;32m    946\u001b[0m       \u001b[0;31m# defunned version which is guaranteed to never create variables.\u001b[0m\u001b[0;34m\u001b[0m\u001b[0;34m\u001b[0m\u001b[0;34m\u001b[0m\u001b[0m\n\u001b[0;32m--> 947\u001b[0;31m       \u001b[0;32mreturn\u001b[0m \u001b[0mself\u001b[0m\u001b[0;34m.\u001b[0m\u001b[0m_stateless_fn\u001b[0m\u001b[0;34m(\u001b[0m\u001b[0;34m*\u001b[0m\u001b[0margs\u001b[0m\u001b[0;34m,\u001b[0m \u001b[0;34m**\u001b[0m\u001b[0mkwds\u001b[0m\u001b[0;34m)\u001b[0m  \u001b[0;31m# pylint: disable=not-callable\u001b[0m\u001b[0;34m\u001b[0m\u001b[0;34m\u001b[0m\u001b[0m\n\u001b[0m\u001b[1;32m    948\u001b[0m     \u001b[0;32melif\u001b[0m \u001b[0mself\u001b[0m\u001b[0;34m.\u001b[0m\u001b[0m_stateful_fn\u001b[0m \u001b[0;32mis\u001b[0m \u001b[0;32mnot\u001b[0m \u001b[0;32mNone\u001b[0m\u001b[0;34m:\u001b[0m\u001b[0;34m\u001b[0m\u001b[0;34m\u001b[0m\u001b[0m\n\u001b[1;32m    949\u001b[0m       \u001b[0;31m# Release the lock early so that multiple threads can perform the call\u001b[0m\u001b[0;34m\u001b[0m\u001b[0;34m\u001b[0m\u001b[0;34m\u001b[0m\u001b[0m\n",
            "\u001b[0;32m/usr/local/lib/python3.7/dist-packages/tensorflow/python/eager/function.py\u001b[0m in \u001b[0;36m__call__\u001b[0;34m(self, *args, **kwargs)\u001b[0m\n\u001b[1;32m   2452\u001b[0m        filtered_flat_args) = self._maybe_define_function(args, kwargs)\n\u001b[1;32m   2453\u001b[0m     return graph_function._call_flat(\n\u001b[0;32m-> 2454\u001b[0;31m         filtered_flat_args, captured_inputs=graph_function.captured_inputs)  # pylint: disable=protected-access\n\u001b[0m\u001b[1;32m   2455\u001b[0m \u001b[0;34m\u001b[0m\u001b[0m\n\u001b[1;32m   2456\u001b[0m   \u001b[0;34m@\u001b[0m\u001b[0mproperty\u001b[0m\u001b[0;34m\u001b[0m\u001b[0;34m\u001b[0m\u001b[0m\n",
            "\u001b[0;32m/usr/local/lib/python3.7/dist-packages/tensorflow/python/eager/function.py\u001b[0m in \u001b[0;36m_call_flat\u001b[0;34m(self, args, captured_inputs, cancellation_manager)\u001b[0m\n\u001b[1;32m   1859\u001b[0m       \u001b[0;31m# No tape is watching; skip to running the function.\u001b[0m\u001b[0;34m\u001b[0m\u001b[0;34m\u001b[0m\u001b[0;34m\u001b[0m\u001b[0m\n\u001b[1;32m   1860\u001b[0m       return self._build_call_outputs(self._inference_function.call(\n\u001b[0;32m-> 1861\u001b[0;31m           ctx, args, cancellation_manager=cancellation_manager))\n\u001b[0m\u001b[1;32m   1862\u001b[0m     forward_backward = self._select_forward_and_backward_functions(\n\u001b[1;32m   1863\u001b[0m         \u001b[0margs\u001b[0m\u001b[0;34m,\u001b[0m\u001b[0;34m\u001b[0m\u001b[0;34m\u001b[0m\u001b[0m\n",
            "\u001b[0;32m/usr/local/lib/python3.7/dist-packages/tensorflow/python/eager/function.py\u001b[0m in \u001b[0;36mcall\u001b[0;34m(self, ctx, args, cancellation_manager)\u001b[0m\n\u001b[1;32m    500\u001b[0m               \u001b[0minputs\u001b[0m\u001b[0;34m=\u001b[0m\u001b[0margs\u001b[0m\u001b[0;34m,\u001b[0m\u001b[0;34m\u001b[0m\u001b[0;34m\u001b[0m\u001b[0m\n\u001b[1;32m    501\u001b[0m               \u001b[0mattrs\u001b[0m\u001b[0;34m=\u001b[0m\u001b[0mattrs\u001b[0m\u001b[0;34m,\u001b[0m\u001b[0;34m\u001b[0m\u001b[0;34m\u001b[0m\u001b[0m\n\u001b[0;32m--> 502\u001b[0;31m               ctx=ctx)\n\u001b[0m\u001b[1;32m    503\u001b[0m         \u001b[0;32melse\u001b[0m\u001b[0;34m:\u001b[0m\u001b[0;34m\u001b[0m\u001b[0;34m\u001b[0m\u001b[0m\n\u001b[1;32m    504\u001b[0m           outputs = execute.execute_with_cancellation(\n",
            "\u001b[0;32m/usr/local/lib/python3.7/dist-packages/tensorflow/python/eager/execute.py\u001b[0m in \u001b[0;36mquick_execute\u001b[0;34m(op_name, num_outputs, inputs, attrs, ctx, name)\u001b[0m\n\u001b[1;32m     53\u001b[0m     \u001b[0mctx\u001b[0m\u001b[0;34m.\u001b[0m\u001b[0mensure_initialized\u001b[0m\u001b[0;34m(\u001b[0m\u001b[0;34m)\u001b[0m\u001b[0;34m\u001b[0m\u001b[0;34m\u001b[0m\u001b[0m\n\u001b[1;32m     54\u001b[0m     tensors = pywrap_tfe.TFE_Py_Execute(ctx._handle, device_name, op_name,\n\u001b[0;32m---> 55\u001b[0;31m                                         inputs, attrs, num_outputs)\n\u001b[0m\u001b[1;32m     56\u001b[0m   \u001b[0;32mexcept\u001b[0m \u001b[0mcore\u001b[0m\u001b[0;34m.\u001b[0m\u001b[0m_NotOkStatusException\u001b[0m \u001b[0;32mas\u001b[0m \u001b[0me\u001b[0m\u001b[0;34m:\u001b[0m\u001b[0;34m\u001b[0m\u001b[0;34m\u001b[0m\u001b[0m\n\u001b[1;32m     57\u001b[0m     \u001b[0;32mif\u001b[0m \u001b[0mname\u001b[0m \u001b[0;32mis\u001b[0m \u001b[0;32mnot\u001b[0m \u001b[0;32mNone\u001b[0m\u001b[0;34m:\u001b[0m\u001b[0;34m\u001b[0m\u001b[0;34m\u001b[0m\u001b[0m\n",
            "\u001b[0;31mKeyboardInterrupt\u001b[0m: "
          ]
        }
      ]
    },
    {
      "cell_type": "markdown",
      "source": [
        "# sub"
      ],
      "metadata": {
        "id": "EpW9J86f8dKq"
      }
    },
    {
      "cell_type": "code",
      "source": [
        "submission = pd.read_csv('/content/sample_submission.csv')"
      ],
      "metadata": {
        "id": "NGRrmAqp9EZs"
      },
      "execution_count": null,
      "outputs": []
    },
    {
      "cell_type": "code",
      "source": [
        "test_path = sorted(glob.glob('/content/test/*'))\n",
        "test_ds = data_maker(test_path, img_size=img_size, batch=32, train=False, shuffle=False)\n",
        "pre = classes[np.argmax(model.predict(test_ds), axis=1)]"
      ],
      "metadata": {
        "id": "AK9sCF_38fCM",
        "colab": {
          "base_uri": "https://localhost:8080/"
        },
        "outputId": "adebf93d-1594-41d8-900f-49c6414a9572"
      },
      "execution_count": null,
      "outputs": [
        {
          "output_type": "stream",
          "name": "stdout",
          "text": [
            "396/396 [==============================] - 97s 239ms/step\n"
          ]
        }
      ]
    },
    {
      "cell_type": "code",
      "source": [
        "submission['artist'] = pre\n",
        "submission.to_csv('sub.csv', index=False)"
      ],
      "metadata": {
        "id": "vqR8MBtFq68q"
      },
      "execution_count": null,
      "outputs": []
    }
  ]
}